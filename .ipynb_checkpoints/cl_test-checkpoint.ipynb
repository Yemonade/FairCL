{
 "cells": [
  {
   "cell_type": "code",
   "execution_count": 1,
   "metadata": {
    "pycharm": {
     "is_executing": true
    }
   },
   "outputs": [],
   "source": [
    "import warnings\n",
    "warnings.filterwarnings(\"ignore\", category=FutureWarning)\n",
    "\n",
    "import sys\n",
    "sys.path.append('D:\\\\Compute Science\\\\Machine Learning\\\\论文\\\\项目\\\\FairSPL\\\\venv_torch')\n",
    "sys.path.append('D:\\\\Compute Science\\\\Machine Learning\\\\论文\\\\项目\\\\FairSPL\\\\venv_torch\\\\lib\\\\site-packages')"
   ]
  },
  {
   "cell_type": "code",
   "execution_count": 2,
   "metadata": {},
   "outputs": [],
   "source": [
    "import json\n",
    "import datetime\n",
    "\n",
    "import numpy as np\n",
    "import pandas as pd\n",
    "import matplotlib.pyplot as plt\n",
    "import torch\n",
    "\n",
    "from dataset import fetch_data\n",
    "from models.AdversarialDebiasing import AdversarialDebiasing\n",
    "from eval import Evaluator\n",
    "from utils import get_curriculum_stages\n",
    "# from tmp.AdversarialDebiasing_copied2_before_lr import AdversarialDebiasing"
   ]
  },
  {
   "cell_type": "code",
   "execution_count": 3,
   "metadata": {},
   "outputs": [
    {
     "name": "stdout",
     "output_type": "stream",
     "text": [
      "Loading Adult dataset..\n",
      "train_val_df.shape:  (32561, 15)\n",
      "test_df.shape:  (12661, 15)\n"
     ]
    },
    {
     "name": "stderr",
     "output_type": "stream",
     "text": [
      "E:\\Environment\\python\\python3.7.4\\lib\\site-packages\\pandas\\core\\frame.py:4913: SettingWithCopyWarning: \n",
      "A value is trying to be set on a copy of a slice from a DataFrame\n",
      "\n",
      "See the caveats in the documentation: https://pandas.pydata.org/pandas-docs/stable/user_guide/indexing.html#returning-a-view-versus-a-copy\n",
      "  errors=errors,\n"
     ]
    },
    {
     "name": "stdout",
     "output_type": "stream",
     "text": [
      "Dataset statistic - #total: 45222; #train: 26049; #val.: 6512; #test: 12661; #dim.: 102\n",
      "\n",
      "data.x_train.shape:  (26049, 102)\n",
      "data.x_test.shape:  (12661, 102)\n",
      "========== before train ==========\n",
      "========== Results on origin ==========\n",
      "Grp. 0 - #instance: 8460; #pos : 954\n",
      "Grp. 1 - #instance: 17589; #pos : 5496\n",
      "Demographic parity: 0.199702; Equal opportunity: 0.000000; Average odds difference: 0.000000\n"
     ]
    }
   ],
   "source": [
    "data = fetch_data(\"adult\")\n",
    "print(\"data.x_train.shape: \", data.x_train.shape)\n",
    "print(\"data.x_test.shape: \", data.x_test.shape)\n",
    "origin_evaluator, train_evaluator, test_evaluator = Evaluator(data.s_train, \"origin\"), Evaluator(data.s_train,\n",
    "                                                                                                 \"train\"), Evaluator(\n",
    "    data.s_test, \"test\")\n",
    "if data.s_val is not None:\n",
    "    val_evaluator = Evaluator(data.s_val, \"val\")\n",
    "\n",
    "n_features, n_classes, n_groups = data.x_train.shape[1], len(np.unique(data.y_train)), len(np.unique(data.s_train))\n",
    "if n_classes == 2:\n",
    "    n_classes = 1\n",
    "if n_groups == 2:\n",
    "    n_groups = 1\n",
    "\n",
    "print(\"========== before train ==========\")\n",
    "origin_res = origin_evaluator(data.y_train, no_train=True)"
   ]
  },
  {
   "cell_type": "code",
   "execution_count": 6,
   "metadata": {},
   "outputs": [
    {
     "name": "stderr",
     "output_type": "stream",
     "text": [
      "Adversarial Debiasing Training Epoch: 100%|\u001b[32m██████████\u001b[0m| 500/500 [38:17<00:00,  4.59s/it, accADV=0.699, accCLF=0.733, lossADV=0.613, lossCLF=0.631] "
     ]
    },
    {
     "name": "stdout",
     "output_type": "stream",
     "text": [
      "2297\n"
     ]
    },
    {
     "name": "stderr",
     "output_type": "stream",
     "text": [
      "\n"
     ]
    }
   ],
   "source": [
    "start = datetime.datetime.now()\n",
    "clf = AdversarialDebiasing(n_features, n_classes, n_groups, num_epochs=500, batch_size=512,\n",
    "                     classifier_num_hidden_units=512, random_state=42, debias=True)\n",
    "\n",
    "loss_list_no_debias, val_list_no_debias, train_info_no_debias, val_info_no_debias = clf.fit(data.x_train, data.y_train, data.s_train, \n",
    "                                                    early_stopping=False, validation_set=[data.x_val, data.y_val, data.s_val])\n",
    "end = datetime.datetime.now()\n",
    "print((end - start).seconds)"
   ]
  },
  {
   "cell_type": "code",
   "execution_count": 6,
   "metadata": {},
   "outputs": [
    {
     "data": {
      "text/plain": [
       "[2150]"
      ]
     },
     "execution_count": 6,
     "metadata": {},
     "output_type": "execute_result"
    }
   ],
   "source": [
    "clf_no_debias.stopped_batch_ids"
   ]
  },
  {
   "cell_type": "code",
   "execution_count": 7,
   "metadata": {},
   "outputs": [
    {
     "name": "stdout",
     "output_type": "stream",
     "text": [
      "========== after train(without debiasing) ==========\n",
      "========== Results on train ==========\n",
      "Grp. 0 - #instance: 8460; #pos. pred: 1182; Acc.: 0.889835\n",
      "Grp. 1 - #instance: 17589; #pos. pred: 1093; Acc.: 0.736824\n",
      "Overall acc.: 0.786518; Demographic parity: -0.077575; Equal opportunity: -0.452716; Average odds difference: 0.520061\n",
      "========== Results on test ==========\n",
      "Grp. 0 - #instance: 4147; #pos. pred: 589; Acc.: 0.890041\n",
      "Grp. 1 - #instance: 8514; #pos. pred: 540; Acc.: 0.732793\n",
      "Overall acc.: 0.784298; Demographic parity: -0.078605; Equal opportunity: -0.470817; Average odds difference: 0.519843\n"
     ]
    }
   ],
   "source": [
    "print(\"========== after train(without debiasing) ==========\")\n",
    "pred_label_train = clf.predict(data.x_train)\n",
    "train_res = train_evaluator(data.y_train, pred_label_train, no_train=False)\n",
    "\n",
    "pred_label_test = clf.predict(data.x_test)\n",
    "test_res = test_evaluator(data.y_test, pred_label_test, no_train=False)"
   ]
  },
  {
   "cell_type": "code",
   "execution_count": 8,
   "metadata": {},
   "outputs": [
    {
     "name": "stderr",
     "output_type": "stream",
     "text": [
      "Adversarial Debiasing Training Epoch: 100%|\u001b[32m██████████\u001b[0m| 500/500 [26:48<00:00,  3.22s/it, accADV=0.699, accCLF=0.733, lossADV=0.613, lossCLF=0.631]"
     ]
    },
    {
     "name": "stdout",
     "output_type": "stream",
     "text": [
      "1608\n"
     ]
    },
    {
     "name": "stderr",
     "output_type": "stream",
     "text": [
      "\n"
     ]
    }
   ],
   "source": [
    "start = datetime.datetime.now()\n",
    "clf2 = AdversarialDebiasing(n_features, n_classes, n_groups, num_epochs=500, batch_size=512,\n",
    "                     classifier_num_hidden_units=512, random_state=42, debias=True)\n",
    "\n",
    "loss_list_no_debias, val_list_no_debias, train_info_no_debias, val_info_no_debias = clf2.fit(data.x_train, data.y_train, data.s_train, \n",
    "                                                    early_stopping=False, validation_set=[data.x_val, data.y_val, data.s_val])\n",
    "end = datetime.datetime.now()\n",
    "print((end - start).seconds)"
   ]
  },
  {
   "cell_type": "code",
   "execution_count": 9,
   "metadata": {},
   "outputs": [
    {
     "name": "stdout",
     "output_type": "stream",
     "text": [
      "========== after train(without debiasing) ==========\n",
      "========== Results on train ==========\n",
      "Grp. 0 - #instance: 8460; #pos. pred: 1182; Acc.: 0.889835\n",
      "Grp. 1 - #instance: 17589; #pos. pred: 1093; Acc.: 0.736824\n",
      "Overall acc.: 0.786518; Demographic parity: -0.077575; Equal opportunity: -0.452716; Average odds difference: 0.520061\n",
      "========== Results on test ==========\n",
      "Grp. 0 - #instance: 4147; #pos. pred: 589; Acc.: 0.890041\n",
      "Grp. 1 - #instance: 8514; #pos. pred: 540; Acc.: 0.732793\n",
      "Overall acc.: 0.784298; Demographic parity: -0.078605; Equal opportunity: -0.470817; Average odds difference: 0.519843\n"
     ]
    }
   ],
   "source": [
    "print(\"========== after train(without debiasing) ==========\")\n",
    "pred_label_train = clf2.predict(data.x_train)\n",
    "train_res = train_evaluator(data.y_train, pred_label_train, no_train=False)\n",
    "\n",
    "pred_label_test = clf2.predict(data.x_test)\n",
    "test_res = test_evaluator(data.y_test, pred_label_test, no_train=False)"
   ]
  },
  {
   "cell_type": "code",
   "execution_count": 11,
   "metadata": {},
   "outputs": [
    {
     "data": {
      "text/plain": [
       "<AxesSubplot:>"
      ]
     },
     "execution_count": 11,
     "metadata": {},
     "output_type": "execute_result"
    },
    {
     "data": {
      "image/png": "[encoded data removed]",
      "text/plain": [
       "<Figure size 640x480 with 1 Axes>"
      ]
     },
     "metadata": {},
     "output_type": "display_data"
    }
   ],
   "source": [
    "df = pd.DataFrame(train_info_no_debias)\n",
    "df['dp'].plot()"
   ]
  },
  {
   "cell_type": "code",
   "execution_count": 4,
   "metadata": {},
   "outputs": [
    {
     "name": "stdout",
     "output_type": "stream",
     "text": [
      "====================\n",
      "g:0, y:0 ==> size:3753\n",
      "g:0, y:1 ==> size:477\n",
      "g:1, y:0 ==> size:6046\n",
      "g:1, y:1 ==> size:2748\n",
      "====================\n",
      "g:0, y:0 ==> size:3753\n",
      "g:0, y:1 ==> size:477\n",
      "g:1, y:0 ==> size:6046\n",
      "g:1, y:1 ==> size:2748\n"
     ]
    }
   ],
   "source": [
    "stages = get_curriculum_stages(data.y_train, data.s_train, 'data/adult/sorted_idx_%d.json' % data.num_val, N=2)"
   ]
  },
  {
   "cell_type": "code",
   "execution_count": 11,
   "metadata": {},
   "outputs": [
    {
     "name": "stdout",
     "output_type": "stream",
     "text": [
      "13024\n"
     ]
    },
    {
     "name": "stderr",
     "output_type": "stream",
     "text": [
      "Classifier Training Epoch:   2%|\u001b[32m▏         \u001b[0m| 9/500 [00:05<04:38,  1.76it/s, acc=0.9, loss=2.06]   "
     ]
    },
    {
     "name": "stdout",
     "output_type": "stream",
     "text": [
      "EarlyStopping counter: 1 out of 100\n"
     ]
    },
    {
     "name": "stderr",
     "output_type": "stream",
     "text": [
      "Classifier Training Epoch:   2%|\u001b[32m▏         \u001b[0m| 11/500 [00:06<04:41,  1.74it/s, acc=0.977, loss=0.446] "
     ]
    },
    {
     "name": "stdout",
     "output_type": "stream",
     "text": [
      "EarlyStopping counter: 2 out of 100\n"
     ]
    },
    {
     "name": "stderr",
     "output_type": "stream",
     "text": [
      "Classifier Training Epoch:   3%|\u001b[32m▎         \u001b[0m| 13/500 [00:07<04:41,  1.73it/s, acc=0.98, loss=0.193]  "
     ]
    },
    {
     "name": "stdout",
     "output_type": "stream",
     "text": [
      "EarlyStopping counter: 3 out of 100\n"
     ]
    },
    {
     "name": "stderr",
     "output_type": "stream",
     "text": [
      "Classifier Training Epoch:   3%|\u001b[32m▎         \u001b[0m| 15/500 [00:08<04:38,  1.74it/s, acc=0.996, loss=0.197]  "
     ]
    },
    {
     "name": "stdout",
     "output_type": "stream",
     "text": [
      "EarlyStopping counter: 4 out of 100\n"
     ]
    },
    {
     "name": "stderr",
     "output_type": "stream",
     "text": [
      "Classifier Training Epoch:   3%|\u001b[32m▎         \u001b[0m| 17/500 [00:10<04:41,  1.71it/s, acc=0.846, loss=3.55]  "
     ]
    },
    {
     "name": "stdout",
     "output_type": "stream",
     "text": [
      "EarlyStopping counter: 5 out of 100\n"
     ]
    },
    {
     "name": "stderr",
     "output_type": "stream",
     "text": [
      "Classifier Training Epoch:   4%|\u001b[32m▍         \u001b[0m| 19/500 [00:11<04:38,  1.73it/s, acc=0.979, loss=0.209]  "
     ]
    },
    {
     "name": "stdout",
     "output_type": "stream",
     "text": [
      "EarlyStopping counter: 6 out of 100\n"
     ]
    },
    {
     "name": "stderr",
     "output_type": "stream",
     "text": [
      "Classifier Training Epoch:   5%|\u001b[32m▌         \u001b[0m| 26/500 [00:16<04:59,  1.58it/s, acc=0.928, loss=1.32]   "
     ]
    },
    {
     "name": "stdout",
     "output_type": "stream",
     "text": [
      "EarlyStopping counter: 1 out of 100\n"
     ]
    },
    {
     "name": "stderr",
     "output_type": "stream",
     "text": [
      "Classifier Training Epoch:   6%|\u001b[32m▌         \u001b[0m| 28/500 [00:17<05:08,  1.53it/s, acc=0.893, loss=2.17]   "
     ]
    },
    {
     "name": "stdout",
     "output_type": "stream",
     "text": [
      "EarlyStopping counter: 2 out of 100\n"
     ]
    },
    {
     "name": "stderr",
     "output_type": "stream",
     "text": [
      "Classifier Training Epoch:   6%|\u001b[32m▌         \u001b[0m| 30/500 [00:18<05:08,  1.53it/s, acc=0.805, loss=5.85]   "
     ]
    },
    {
     "name": "stdout",
     "output_type": "stream",
     "text": [
      "EarlyStopping counter: 3 out of 100\n"
     ]
    },
    {
     "name": "stderr",
     "output_type": "stream",
     "text": [
      "Classifier Training Epoch:   6%|\u001b[32m▋         \u001b[0m| 32/500 [00:20<05:05,  1.53it/s, acc=0.941, loss=1.91]   "
     ]
    },
    {
     "name": "stdout",
     "output_type": "stream",
     "text": [
      "EarlyStopping counter: 4 out of 100\n"
     ]
    },
    {
     "name": "stderr",
     "output_type": "stream",
     "text": [
      "Classifier Training Epoch:   7%|\u001b[32m▋         \u001b[0m| 34/500 [00:21<04:43,  1.64it/s, acc=0.986, loss=0.116]  "
     ]
    },
    {
     "name": "stdout",
     "output_type": "stream",
     "text": [
      "EarlyStopping counter: 5 out of 100\n"
     ]
    },
    {
     "name": "stderr",
     "output_type": "stream",
     "text": [
      "Classifier Training Epoch:   7%|\u001b[32m▋         \u001b[0m| 36/500 [00:22<04:39,  1.66it/s, acc=0.992, loss=0.121] "
     ]
    },
    {
     "name": "stdout",
     "output_type": "stream",
     "text": [
      "EarlyStopping counter: 6 out of 100\n"
     ]
    },
    {
     "name": "stderr",
     "output_type": "stream",
     "text": [
      "Classifier Training Epoch:   8%|\u001b[32m▊         \u001b[0m| 38/500 [00:23<04:32,  1.70it/s, acc=1, loss=0.000257]  "
     ]
    },
    {
     "name": "stdout",
     "output_type": "stream",
     "text": [
      "EarlyStopping counter: 7 out of 100\n"
     ]
    },
    {
     "name": "stderr",
     "output_type": "stream",
     "text": [
      "Classifier Training Epoch:   8%|\u001b[32m▊         \u001b[0m| 40/500 [00:24<04:37,  1.66it/s, acc=0.998, loss=0.0551]"
     ]
    },
    {
     "name": "stdout",
     "output_type": "stream",
     "text": [
      "EarlyStopping counter: 8 out of 100\n"
     ]
    },
    {
     "name": "stderr",
     "output_type": "stream",
     "text": [
      "Classifier Training Epoch:   8%|\u001b[32m▊         \u001b[0m| 42/500 [00:26<04:30,  1.69it/s, acc=0.949, loss=0.939]  "
     ]
    },
    {
     "name": "stdout",
     "output_type": "stream",
     "text": [
      "EarlyStopping counter: 9 out of 100\n"
     ]
    },
    {
     "name": "stderr",
     "output_type": "stream",
     "text": [
      "Classifier Training Epoch:   9%|\u001b[32m▉         \u001b[0m| 44/500 [00:27<04:36,  1.65it/s, acc=0.998, loss=0.0206] "
     ]
    },
    {
     "name": "stdout",
     "output_type": "stream",
     "text": [
      "EarlyStopping counter: 10 out of 100\n"
     ]
    },
    {
     "name": "stderr",
     "output_type": "stream",
     "text": [
      "Classifier Training Epoch:   9%|\u001b[32m▉         \u001b[0m| 46/500 [00:28<04:27,  1.70it/s, acc=0.996, loss=0.0223]"
     ]
    },
    {
     "name": "stdout",
     "output_type": "stream",
     "text": [
      "EarlyStopping counter: 11 out of 100\n"
     ]
    },
    {
     "name": "stderr",
     "output_type": "stream",
     "text": [
      "Classifier Training Epoch:  10%|\u001b[32m▉         \u001b[0m| 48/500 [00:29<04:30,  1.67it/s, acc=1, loss=0]         "
     ]
    },
    {
     "name": "stdout",
     "output_type": "stream",
     "text": [
      "EarlyStopping counter: 12 out of 100\n"
     ]
    },
    {
     "name": "stderr",
     "output_type": "stream",
     "text": [
      "Classifier Training Epoch:  10%|\u001b[32m▉         \u001b[0m| 49/500 [00:31<04:54,  1.53it/s, acc=0.929, loss=0.695]  "
     ]
    },
    {
     "name": "stdout",
     "output_type": "stream",
     "text": [
      "EarlyStopping counter: 13 out of 100\n"
     ]
    },
    {
     "name": "stderr",
     "output_type": "stream",
     "text": [
      "Classifier Training Epoch:  10%|\u001b[32m█         \u001b[0m| 51/500 [00:32<04:46,  1.57it/s, acc=0.943, loss=1.03]   "
     ]
    },
    {
     "name": "stdout",
     "output_type": "stream",
     "text": [
      "EarlyStopping counter: 14 out of 100\n"
     ]
    },
    {
     "name": "stderr",
     "output_type": "stream",
     "text": [
      "Classifier Training Epoch:  11%|\u001b[32m█         \u001b[0m| 53/500 [00:33<04:55,  1.51it/s, acc=0.918, loss=1.68]   "
     ]
    },
    {
     "name": "stdout",
     "output_type": "stream",
     "text": [
      "EarlyStopping counter: 15 out of 100\n"
     ]
    },
    {
     "name": "stderr",
     "output_type": "stream",
     "text": [
      "Classifier Training Epoch:  11%|\u001b[32m█         \u001b[0m| 55/500 [00:35<05:58,  1.24it/s, acc=0.82, loss=5.22]    "
     ]
    },
    {
     "name": "stdout",
     "output_type": "stream",
     "text": [
      "EarlyStopping counter: 16 out of 100\n"
     ]
    },
    {
     "name": "stderr",
     "output_type": "stream",
     "text": [
      "Classifier Training Epoch:  11%|\u001b[32m█▏        \u001b[0m| 57/500 [00:37<06:07,  1.20it/s, acc=0.951, loss=1.03]  "
     ]
    },
    {
     "name": "stdout",
     "output_type": "stream",
     "text": [
      "EarlyStopping counter: 17 out of 100\n"
     ]
    },
    {
     "name": "stderr",
     "output_type": "stream",
     "text": [
      "Classifier Training Epoch:  12%|\u001b[32m█▏        \u001b[0m| 59/500 [00:39<06:14,  1.18it/s, acc=0.979, loss=0.535] "
     ]
    },
    {
     "name": "stdout",
     "output_type": "stream",
     "text": [
      "EarlyStopping counter: 18 out of 100\n"
     ]
    },
    {
     "name": "stderr",
     "output_type": "stream",
     "text": [
      "Classifier Training Epoch:  12%|\u001b[32m█▏        \u001b[0m| 61/500 [00:40<05:16,  1.39it/s, acc=0.998, loss=0.012] "
     ]
    },
    {
     "name": "stdout",
     "output_type": "stream",
     "text": [
      "EarlyStopping counter: 19 out of 100\n"
     ]
    },
    {
     "name": "stderr",
     "output_type": "stream",
     "text": [
      "Classifier Training Epoch:  13%|\u001b[32m█▎        \u001b[0m| 63/500 [00:41<04:54,  1.48it/s, acc=1, loss=2.43e-6]    "
     ]
    },
    {
     "name": "stdout",
     "output_type": "stream",
     "text": [
      "EarlyStopping counter: 20 out of 100\n"
     ]
    },
    {
     "name": "stderr",
     "output_type": "stream",
     "text": [
      "Classifier Training Epoch:  13%|\u001b[32m█▎        \u001b[0m| 65/500 [00:42<04:40,  1.55it/s, acc=0.998, loss=0.0314] "
     ]
    },
    {
     "name": "stdout",
     "output_type": "stream",
     "text": [
      "EarlyStopping counter: 21 out of 100\n"
     ]
    },
    {
     "name": "stderr",
     "output_type": "stream",
     "text": [
      "Classifier Training Epoch:  13%|\u001b[32m█▎        \u001b[0m| 67/500 [00:44<04:44,  1.52it/s, acc=0.979, loss=0.451] "
     ]
    },
    {
     "name": "stdout",
     "output_type": "stream",
     "text": [
      "EarlyStopping counter: 22 out of 100\n"
     ]
    },
    {
     "name": "stderr",
     "output_type": "stream",
     "text": [
      "Classifier Training Epoch:  14%|\u001b[32m█▍        \u001b[0m| 69/500 [00:45<04:41,  1.53it/s, acc=0.998, loss=0.118] "
     ]
    },
    {
     "name": "stdout",
     "output_type": "stream",
     "text": [
      "EarlyStopping counter: 23 out of 100\n"
     ]
    },
    {
     "name": "stderr",
     "output_type": "stream",
     "text": [
      "Classifier Training Epoch:  14%|\u001b[32m█▍        \u001b[0m| 71/500 [00:47<04:41,  1.52it/s, acc=0.998, loss=0.0414]"
     ]
    },
    {
     "name": "stdout",
     "output_type": "stream",
     "text": [
      "EarlyStopping counter: 24 out of 100\n"
     ]
    },
    {
     "name": "stderr",
     "output_type": "stream",
     "text": [
      "Classifier Training Epoch:  15%|\u001b[32m█▍        \u001b[0m| 73/500 [00:48<04:23,  1.62it/s, acc=1, loss=9.78e-9]   "
     ]
    },
    {
     "name": "stdout",
     "output_type": "stream",
     "text": [
      "EarlyStopping counter: 25 out of 100\n"
     ]
    },
    {
     "name": "stderr",
     "output_type": "stream",
     "text": [
      "Classifier Training Epoch:  15%|\u001b[32m█▍        \u001b[0m| 74/500 [00:49<04:46,  1.49it/s, acc=0.92, loss=1.4]    "
     ]
    },
    {
     "name": "stdout",
     "output_type": "stream",
     "text": [
      "EarlyStopping counter: 26 out of 100\n"
     ]
    },
    {
     "name": "stderr",
     "output_type": "stream",
     "text": [
      "Classifier Training Epoch:  15%|\u001b[32m█▌        \u001b[0m| 76/500 [00:50<04:34,  1.55it/s, acc=0.953, loss=0.647]  "
     ]
    },
    {
     "name": "stdout",
     "output_type": "stream",
     "text": [
      "EarlyStopping counter: 27 out of 100\n"
     ]
    },
    {
     "name": "stderr",
     "output_type": "stream",
     "text": [
      "Classifier Training Epoch:  16%|\u001b[32m█▌        \u001b[0m| 78/500 [00:51<04:29,  1.57it/s, acc=0.93, loss=1.65]    "
     ]
    },
    {
     "name": "stdout",
     "output_type": "stream",
     "text": [
      "EarlyStopping counter: 28 out of 100\n"
     ]
    },
    {
     "name": "stderr",
     "output_type": "stream",
     "text": [
      "Classifier Training Epoch:  16%|\u001b[32m█▌        \u001b[0m| 80/500 [00:53<04:23,  1.59it/s, acc=0.82, loss=4.28]    "
     ]
    },
    {
     "name": "stdout",
     "output_type": "stream",
     "text": [
      "EarlyStopping counter: 29 out of 100\n"
     ]
    },
    {
     "name": "stderr",
     "output_type": "stream",
     "text": [
      "Classifier Training Epoch:  16%|\u001b[32m█▋        \u001b[0m| 82/500 [00:54<04:37,  1.51it/s, acc=0.951, loss=1.16]   "
     ]
    },
    {
     "name": "stdout",
     "output_type": "stream",
     "text": [
      "EarlyStopping counter: 30 out of 100\n"
     ]
    },
    {
     "name": "stderr",
     "output_type": "stream",
     "text": [
      "Classifier Training Epoch:  17%|\u001b[32m█▋        \u001b[0m| 84/500 [00:55<04:23,  1.58it/s, acc=0.988, loss=0.289]  "
     ]
    },
    {
     "name": "stdout",
     "output_type": "stream",
     "text": [
      "EarlyStopping counter: 31 out of 100\n"
     ]
    },
    {
     "name": "stderr",
     "output_type": "stream",
     "text": [
      "Classifier Training Epoch:  17%|\u001b[32m█▋        \u001b[0m| 86/500 [00:57<04:20,  1.59it/s, acc=0.994, loss=0.227]  "
     ]
    },
    {
     "name": "stdout",
     "output_type": "stream",
     "text": [
      "EarlyStopping counter: 32 out of 100\n"
     ]
    },
    {
     "name": "stderr",
     "output_type": "stream",
     "text": [
      "Classifier Training Epoch:  18%|\u001b[32m█▊        \u001b[0m| 88/500 [00:58<04:24,  1.56it/s, acc=1, loss=0]          "
     ]
    },
    {
     "name": "stdout",
     "output_type": "stream",
     "text": [
      "EarlyStopping counter: 33 out of 100\n"
     ]
    },
    {
     "name": "stderr",
     "output_type": "stream",
     "text": [
      "Classifier Training Epoch:  18%|\u001b[32m█▊        \u001b[0m| 90/500 [01:00<04:54,  1.39it/s, acc=1, loss=0]          "
     ]
    },
    {
     "name": "stdout",
     "output_type": "stream",
     "text": [
      "EarlyStopping counter: 34 out of 100\n"
     ]
    },
    {
     "name": "stderr",
     "output_type": "stream",
     "text": [
      "Classifier Training Epoch:  18%|\u001b[32m█▊        \u001b[0m| 92/500 [01:01<04:25,  1.53it/s, acc=0.99, loss=0.184]   "
     ]
    },
    {
     "name": "stdout",
     "output_type": "stream",
     "text": [
      "EarlyStopping counter: 35 out of 100\n"
     ]
    },
    {
     "name": "stderr",
     "output_type": "stream",
     "text": [
      "Classifier Training Epoch:  19%|\u001b[32m█▉        \u001b[0m| 94/500 [01:02<04:16,  1.58it/s, acc=0.994, loss=0.132] "
     ]
    },
    {
     "name": "stdout",
     "output_type": "stream",
     "text": [
      "EarlyStopping counter: 36 out of 100\n"
     ]
    },
    {
     "name": "stderr",
     "output_type": "stream",
     "text": [
      "Classifier Training Epoch:  19%|\u001b[32m█▉        \u001b[0m| 96/500 [01:03<04:12,  1.60it/s, acc=0.998, loss=0.0403] "
     ]
    },
    {
     "name": "stdout",
     "output_type": "stream",
     "text": [
      "EarlyStopping counter: 37 out of 100\n"
     ]
    },
    {
     "name": "stderr",
     "output_type": "stream",
     "text": [
      "Classifier Training Epoch:  20%|\u001b[32m█▉        \u001b[0m| 98/500 [01:05<04:19,  1.55it/s, acc=0.998, loss=0.0216] "
     ]
    },
    {
     "name": "stdout",
     "output_type": "stream",
     "text": [
      "EarlyStopping counter: 38 out of 100\n"
     ]
    },
    {
     "name": "stderr",
     "output_type": "stream",
     "text": [
      "Classifier Training Epoch:  20%|\u001b[32m█▉        \u001b[0m| 99/500 [01:06<04:38,  1.44it/s, acc=0.906, loss=1.67]   "
     ]
    },
    {
     "name": "stdout",
     "output_type": "stream",
     "text": [
      "EarlyStopping counter: 39 out of 100\n"
     ]
    },
    {
     "name": "stderr",
     "output_type": "stream",
     "text": [
      "Classifier Training Epoch:  20%|\u001b[32m██        \u001b[0m| 101/500 [01:07<04:33,  1.46it/s, acc=0.955, loss=0.718]  "
     ]
    },
    {
     "name": "stdout",
     "output_type": "stream",
     "text": [
      "EarlyStopping counter: 40 out of 100\n"
     ]
    },
    {
     "name": "stderr",
     "output_type": "stream",
     "text": [
      "Classifier Training Epoch:  21%|\u001b[32m██        \u001b[0m| 103/500 [01:16<13:41,  2.07s/it, acc=0.941, loss=1.4]    "
     ]
    },
    {
     "name": "stdout",
     "output_type": "stream",
     "text": [
      "EarlyStopping counter: 41 out of 100\n"
     ]
    },
    {
     "name": "stderr",
     "output_type": "stream",
     "text": [
      "Classifier Training Epoch:  21%|\u001b[32m██        \u001b[0m| 105/500 [01:21<16:19,  2.48s/it, acc=0.863, loss=3.9]    "
     ]
    },
    {
     "name": "stdout",
     "output_type": "stream",
     "text": [
      "EarlyStopping counter: 42 out of 100\n"
     ]
    },
    {
     "name": "stderr",
     "output_type": "stream",
     "text": [
      "Classifier Training Epoch:  21%|\u001b[32m██▏       \u001b[0m| 107/500 [01:25<14:31,  2.22s/it, acc=0.957, loss=0.795] "
     ]
    },
    {
     "name": "stdout",
     "output_type": "stream",
     "text": [
      "EarlyStopping counter: 43 out of 100\n"
     ]
    },
    {
     "name": "stderr",
     "output_type": "stream",
     "text": [
      "Classifier Training Epoch:  22%|\u001b[32m██▏       \u001b[0m| 109/500 [01:29<14:26,  2.22s/it, acc=0.992, loss=0.15]   "
     ]
    },
    {
     "name": "stdout",
     "output_type": "stream",
     "text": [
      "EarlyStopping counter: 44 out of 100\n"
     ]
    },
    {
     "name": "stderr",
     "output_type": "stream",
     "text": [
      "Classifier Training Epoch:  22%|\u001b[32m██▏       \u001b[0m| 111/500 [01:33<13:49,  2.13s/it, acc=0.998, loss=0.024]  "
     ]
    },
    {
     "name": "stdout",
     "output_type": "stream",
     "text": [
      "EarlyStopping counter: 45 out of 100\n"
     ]
    },
    {
     "name": "stderr",
     "output_type": "stream",
     "text": [
      "Classifier Training Epoch:  23%|\u001b[32m██▎       \u001b[0m| 113/500 [01:38<13:41,  2.12s/it, acc=0.998, loss=0.005]  "
     ]
    },
    {
     "name": "stdout",
     "output_type": "stream",
     "text": [
      "EarlyStopping counter: 46 out of 100\n"
     ]
    },
    {
     "name": "stderr",
     "output_type": "stream",
     "text": [
      "Classifier Training Epoch:  23%|\u001b[32m██▎       \u001b[0m| 115/500 [01:41<12:42,  1.98s/it, acc=0.998, loss=0.0582] "
     ]
    },
    {
     "name": "stdout",
     "output_type": "stream",
     "text": [
      "EarlyStopping counter: 47 out of 100\n"
     ]
    },
    {
     "name": "stderr",
     "output_type": "stream",
     "text": [
      "Classifier Training Epoch:  23%|\u001b[32m██▎       \u001b[0m| 117/500 [01:45<12:26,  1.95s/it, acc=0.99, loss=0.239]   "
     ]
    },
    {
     "name": "stdout",
     "output_type": "stream",
     "text": [
      "EarlyStopping counter: 48 out of 100\n"
     ]
    },
    {
     "name": "stderr",
     "output_type": "stream",
     "text": [
      "Classifier Training Epoch:  24%|\u001b[32m██▍       \u001b[0m| 119/500 [01:49<11:48,  1.86s/it, acc=0.996, loss=0.0571] "
     ]
    },
    {
     "name": "stdout",
     "output_type": "stream",
     "text": [
      "EarlyStopping counter: 49 out of 100\n"
     ]
    },
    {
     "name": "stderr",
     "output_type": "stream",
     "text": [
      "Classifier Training Epoch:  24%|\u001b[32m██▍       \u001b[0m| 121/500 [01:53<12:45,  2.02s/it, acc=1, loss=2.33e-10]  "
     ]
    },
    {
     "name": "stdout",
     "output_type": "stream",
     "text": [
      "EarlyStopping counter: 50 out of 100\n"
     ]
    },
    {
     "name": "stderr",
     "output_type": "stream",
     "text": [
      "Classifier Training Epoch:  25%|\u001b[32m██▍       \u001b[0m| 123/500 [01:58<13:44,  2.19s/it, acc=0.998, loss=0.0459] "
     ]
    },
    {
     "name": "stdout",
     "output_type": "stream",
     "text": [
      "EarlyStopping counter: 51 out of 100\n"
     ]
    },
    {
     "name": "stderr",
     "output_type": "stream",
     "text": [
      "Classifier Training Epoch:  25%|\u001b[32m██▍       \u001b[0m| 124/500 [02:02<14:29,  2.31s/it, acc=0.929, loss=0.829]  "
     ]
    },
    {
     "name": "stdout",
     "output_type": "stream",
     "text": [
      "EarlyStopping counter: 52 out of 100\n"
     ]
    },
    {
     "name": "stderr",
     "output_type": "stream",
     "text": [
      "Classifier Training Epoch:  25%|\u001b[32m██▌       \u001b[0m| 126/500 [02:03<10:51,  1.74s/it, acc=0.973, loss=0.386]  "
     ]
    },
    {
     "name": "stdout",
     "output_type": "stream",
     "text": [
      "EarlyStopping counter: 53 out of 100\n"
     ]
    },
    {
     "name": "stderr",
     "output_type": "stream",
     "text": [
      "Classifier Training Epoch:  26%|\u001b[32m██▌       \u001b[0m| 128/500 [02:05<07:17,  1.18s/it, acc=0.943, loss=1.29]  "
     ]
    },
    {
     "name": "stdout",
     "output_type": "stream",
     "text": [
      "EarlyStopping counter: 54 out of 100\n"
     ]
    },
    {
     "name": "stderr",
     "output_type": "stream",
     "text": [
      "Classifier Training Epoch:  26%|\u001b[32m██▌       \u001b[0m| 130/500 [02:06<05:20,  1.15it/s, acc=0.881, loss=2.62]   "
     ]
    },
    {
     "name": "stdout",
     "output_type": "stream",
     "text": [
      "EarlyStopping counter: 55 out of 100\n"
     ]
    },
    {
     "name": "stderr",
     "output_type": "stream",
     "text": [
      "Classifier Training Epoch:  26%|\u001b[32m██▋       \u001b[0m| 132/500 [02:07<04:43,  1.30it/s, acc=0.975, loss=0.674]  "
     ]
    },
    {
     "name": "stdout",
     "output_type": "stream",
     "text": [
      "EarlyStopping counter: 56 out of 100\n"
     ]
    },
    {
     "name": "stderr",
     "output_type": "stream",
     "text": [
      "Classifier Training Epoch:  27%|\u001b[32m██▋       \u001b[0m| 134/500 [02:09<04:14,  1.44it/s, acc=0.99, loss=0.19]    "
     ]
    },
    {
     "name": "stdout",
     "output_type": "stream",
     "text": [
      "EarlyStopping counter: 57 out of 100\n"
     ]
    },
    {
     "name": "stderr",
     "output_type": "stream",
     "text": [
      "Classifier Training Epoch:  27%|\u001b[32m██▋       \u001b[0m| 136/500 [02:10<03:59,  1.52it/s, acc=0.998, loss=0.00597]"
     ]
    },
    {
     "name": "stdout",
     "output_type": "stream",
     "text": [
      "EarlyStopping counter: 58 out of 100\n"
     ]
    },
    {
     "name": "stderr",
     "output_type": "stream",
     "text": [
      "Classifier Training Epoch:  28%|\u001b[32m██▊       \u001b[0m| 138/500 [02:11<03:35,  1.68it/s, acc=1, loss=7.52e-7]    "
     ]
    },
    {
     "name": "stdout",
     "output_type": "stream",
     "text": [
      "EarlyStopping counter: 59 out of 100\n"
     ]
    },
    {
     "name": "stderr",
     "output_type": "stream",
     "text": [
      "Classifier Training Epoch:  28%|\u001b[32m██▊       \u001b[0m| 140/500 [02:12<04:02,  1.49it/s, acc=1, loss=0]          "
     ]
    },
    {
     "name": "stdout",
     "output_type": "stream",
     "text": [
      "EarlyStopping counter: 60 out of 100\n"
     ]
    },
    {
     "name": "stderr",
     "output_type": "stream",
     "text": [
      "Classifier Training Epoch:  28%|\u001b[32m██▊       \u001b[0m| 142/500 [02:14<04:28,  1.33it/s, acc=0.994, loss=0.146] "
     ]
    },
    {
     "name": "stdout",
     "output_type": "stream",
     "text": [
      "EarlyStopping counter: 61 out of 100\n"
     ]
    },
    {
     "name": "stderr",
     "output_type": "stream",
     "text": [
      "Classifier Training Epoch:  29%|\u001b[32m██▉       \u001b[0m| 144/500 [02:16<04:44,  1.25it/s, acc=0.996, loss=0.209]  "
     ]
    },
    {
     "name": "stdout",
     "output_type": "stream",
     "text": [
      "EarlyStopping counter: 62 out of 100\n"
     ]
    },
    {
     "name": "stderr",
     "output_type": "stream",
     "text": [
      "Classifier Training Epoch:  29%|\u001b[32m██▉       \u001b[0m| 146/500 [02:17<04:28,  1.32it/s, acc=0.998, loss=0.247]  "
     ]
    },
    {
     "name": "stdout",
     "output_type": "stream",
     "text": [
      "EarlyStopping counter: 63 out of 100\n"
     ]
    },
    {
     "name": "stderr",
     "output_type": "stream",
     "text": [
      "Classifier Training Epoch:  30%|\u001b[32m██▉       \u001b[0m| 148/500 [02:19<04:01,  1.46it/s, acc=1, loss=9.94e-7]    "
     ]
    },
    {
     "name": "stdout",
     "output_type": "stream",
     "text": [
      "EarlyStopping counter: 64 out of 100\n"
     ]
    },
    {
     "name": "stderr",
     "output_type": "stream",
     "text": [
      "Classifier Training Epoch:  30%|\u001b[32m██▉       \u001b[0m| 149/500 [02:20<04:08,  1.41it/s, acc=0.938, loss=1.02]   "
     ]
    },
    {
     "name": "stdout",
     "output_type": "stream",
     "text": [
      "EarlyStopping counter: 65 out of 100\n"
     ]
    },
    {
     "name": "stderr",
     "output_type": "stream",
     "text": [
      "Classifier Training Epoch:  30%|\u001b[32m███       \u001b[0m| 151/500 [02:21<03:47,  1.53it/s, acc=0.955, loss=0.786]  "
     ]
    },
    {
     "name": "stdout",
     "output_type": "stream",
     "text": [
      "EarlyStopping counter: 66 out of 100\n"
     ]
    },
    {
     "name": "stderr",
     "output_type": "stream",
     "text": [
      "Classifier Training Epoch:  31%|\u001b[32m███       \u001b[0m| 153/500 [02:22<03:31,  1.64it/s, acc=0.949, loss=0.962]  "
     ]
    },
    {
     "name": "stdout",
     "output_type": "stream",
     "text": [
      "EarlyStopping counter: 67 out of 100\n"
     ]
    },
    {
     "name": "stderr",
     "output_type": "stream",
     "text": [
      "Classifier Training Epoch:  31%|\u001b[32m███       \u001b[0m| 155/500 [02:23<03:35,  1.60it/s, acc=0.895, loss=2.34]   "
     ]
    },
    {
     "name": "stdout",
     "output_type": "stream",
     "text": [
      "EarlyStopping counter: 68 out of 100\n"
     ]
    },
    {
     "name": "stderr",
     "output_type": "stream",
     "text": [
      "Classifier Training Epoch:  31%|\u001b[32m███▏      \u001b[0m| 157/500 [02:25<03:22,  1.69it/s, acc=0.982, loss=0.618]  "
     ]
    },
    {
     "name": "stdout",
     "output_type": "stream",
     "text": [
      "EarlyStopping counter: 69 out of 100\n"
     ]
    },
    {
     "name": "stderr",
     "output_type": "stream",
     "text": [
      "Classifier Training Epoch:  32%|\u001b[32m███▏      \u001b[0m| 159/500 [02:26<03:29,  1.63it/s, acc=0.992, loss=0.12]   "
     ]
    },
    {
     "name": "stdout",
     "output_type": "stream",
     "text": [
      "EarlyStopping counter: 70 out of 100\n"
     ]
    },
    {
     "name": "stderr",
     "output_type": "stream",
     "text": [
      "Classifier Training Epoch:  32%|\u001b[32m███▏      \u001b[0m| 161/500 [02:27<03:40,  1.54it/s, acc=1, loss=0.000159]   "
     ]
    },
    {
     "name": "stdout",
     "output_type": "stream",
     "text": [
      "EarlyStopping counter: 71 out of 100\n"
     ]
    },
    {
     "name": "stderr",
     "output_type": "stream",
     "text": [
      "Classifier Training Epoch:  33%|\u001b[32m███▎      \u001b[0m| 163/500 [02:29<03:52,  1.45it/s, acc=1, loss=0]          "
     ]
    },
    {
     "name": "stdout",
     "output_type": "stream",
     "text": [
      "EarlyStopping counter: 72 out of 100\n"
     ]
    },
    {
     "name": "stderr",
     "output_type": "stream",
     "text": [
      "Classifier Training Epoch:  33%|\u001b[32m███▎      \u001b[0m| 165/500 [02:30<03:50,  1.46it/s, acc=1, loss=0]          "
     ]
    },
    {
     "name": "stdout",
     "output_type": "stream",
     "text": [
      "EarlyStopping counter: 73 out of 100\n"
     ]
    },
    {
     "name": "stderr",
     "output_type": "stream",
     "text": [
      "Classifier Training Epoch:  33%|\u001b[32m███▎      \u001b[0m| 167/500 [02:32<03:50,  1.45it/s, acc=0.996, loss=0.0118] "
     ]
    },
    {
     "name": "stdout",
     "output_type": "stream",
     "text": [
      "EarlyStopping counter: 74 out of 100\n"
     ]
    },
    {
     "name": "stderr",
     "output_type": "stream",
     "text": [
      "Classifier Training Epoch:  34%|\u001b[32m███▍      \u001b[0m| 169/500 [02:33<03:31,  1.56it/s, acc=0.998, loss=0.0622] "
     ]
    },
    {
     "name": "stdout",
     "output_type": "stream",
     "text": [
      "EarlyStopping counter: 75 out of 100\n"
     ]
    },
    {
     "name": "stderr",
     "output_type": "stream",
     "text": [
      "Classifier Training Epoch:  34%|\u001b[32m███▍      \u001b[0m| 171/500 [02:34<03:35,  1.53it/s, acc=0.996, loss=0.0875] "
     ]
    },
    {
     "name": "stdout",
     "output_type": "stream",
     "text": [
      "EarlyStopping counter: 76 out of 100\n"
     ]
    },
    {
     "name": "stderr",
     "output_type": "stream",
     "text": [
      "Classifier Training Epoch:  35%|\u001b[32m███▍      \u001b[0m| 173/500 [02:35<03:23,  1.61it/s, acc=1, loss=0]          "
     ]
    },
    {
     "name": "stdout",
     "output_type": "stream",
     "text": [
      "EarlyStopping counter: 77 out of 100\n"
     ]
    },
    {
     "name": "stderr",
     "output_type": "stream",
     "text": [
      "Classifier Training Epoch:  35%|\u001b[32m███▍      \u001b[0m| 174/500 [02:37<03:43,  1.46it/s, acc=0.978, loss=0.222]  "
     ]
    },
    {
     "name": "stdout",
     "output_type": "stream",
     "text": [
      "EarlyStopping counter: 78 out of 100\n"
     ]
    },
    {
     "name": "stderr",
     "output_type": "stream",
     "text": [
      "Classifier Training Epoch:  35%|\u001b[32m███▌      \u001b[0m| 176/500 [02:38<03:55,  1.38it/s, acc=0.967, loss=0.695]  "
     ]
    },
    {
     "name": "stdout",
     "output_type": "stream",
     "text": [
      "EarlyStopping counter: 79 out of 100\n"
     ]
    },
    {
     "name": "stderr",
     "output_type": "stream",
     "text": [
      "Classifier Training Epoch:  36%|\u001b[32m███▌      \u001b[0m| 178/500 [02:40<04:13,  1.27it/s, acc=0.957, loss=0.707]  "
     ]
    },
    {
     "name": "stdout",
     "output_type": "stream",
     "text": [
      "EarlyStopping counter: 80 out of 100\n"
     ]
    },
    {
     "name": "stderr",
     "output_type": "stream",
     "text": [
      "Classifier Training Epoch:  36%|\u001b[32m███▌      \u001b[0m| 180/500 [02:42<04:33,  1.17it/s, acc=0.885, loss=2.33]   "
     ]
    },
    {
     "name": "stdout",
     "output_type": "stream",
     "text": [
      "EarlyStopping counter: 81 out of 100\n"
     ]
    },
    {
     "name": "stderr",
     "output_type": "stream",
     "text": [
      "Classifier Training Epoch:  36%|\u001b[32m███▋      \u001b[0m| 182/500 [02:43<04:13,  1.25it/s, acc=0.975, loss=0.502]  "
     ]
    },
    {
     "name": "stdout",
     "output_type": "stream",
     "text": [
      "EarlyStopping counter: 82 out of 100\n"
     ]
    },
    {
     "name": "stderr",
     "output_type": "stream",
     "text": [
      "Classifier Training Epoch:  37%|\u001b[32m███▋      \u001b[0m| 184/500 [02:45<03:59,  1.32it/s, acc=0.994, loss=0.067]  "
     ]
    },
    {
     "name": "stdout",
     "output_type": "stream",
     "text": [
      "EarlyStopping counter: 83 out of 100\n"
     ]
    },
    {
     "name": "stderr",
     "output_type": "stream",
     "text": [
      "Classifier Training Epoch:  37%|\u001b[32m███▋      \u001b[0m| 186/500 [02:46<03:57,  1.32it/s, acc=0.998, loss=0.00899]"
     ]
    },
    {
     "name": "stdout",
     "output_type": "stream",
     "text": [
      "EarlyStopping counter: 84 out of 100\n"
     ]
    },
    {
     "name": "stderr",
     "output_type": "stream",
     "text": [
      "Classifier Training Epoch:  38%|\u001b[32m███▊      \u001b[0m| 188/500 [02:48<03:37,  1.43it/s, acc=1, loss=0]          "
     ]
    },
    {
     "name": "stdout",
     "output_type": "stream",
     "text": [
      "EarlyStopping counter: 85 out of 100\n"
     ]
    },
    {
     "name": "stderr",
     "output_type": "stream",
     "text": [
      "Classifier Training Epoch:  38%|\u001b[32m███▊      \u001b[0m| 190/500 [02:49<03:26,  1.50it/s, acc=1, loss=0.000651]   "
     ]
    },
    {
     "name": "stdout",
     "output_type": "stream",
     "text": [
      "EarlyStopping counter: 86 out of 100\n"
     ]
    },
    {
     "name": "stderr",
     "output_type": "stream",
     "text": [
      "Classifier Training Epoch:  38%|\u001b[32m███▊      \u001b[0m| 192/500 [02:50<03:13,  1.59it/s, acc=0.998, loss=0.0151] "
     ]
    },
    {
     "name": "stdout",
     "output_type": "stream",
     "text": [
      "EarlyStopping counter: 87 out of 100\n"
     ]
    },
    {
     "name": "stderr",
     "output_type": "stream",
     "text": [
      "Classifier Training Epoch:  39%|\u001b[32m███▉      \u001b[0m| 194/500 [02:51<03:15,  1.56it/s, acc=1, loss=1.84e-5]    "
     ]
    },
    {
     "name": "stdout",
     "output_type": "stream",
     "text": [
      "EarlyStopping counter: 88 out of 100\n"
     ]
    },
    {
     "name": "stderr",
     "output_type": "stream",
     "text": [
      "Classifier Training Epoch:  39%|\u001b[32m███▉      \u001b[0m| 196/500 [02:53<03:10,  1.59it/s, acc=1, loss=2.6e-6]     "
     ]
    },
    {
     "name": "stdout",
     "output_type": "stream",
     "text": [
      "EarlyStopping counter: 89 out of 100\n"
     ]
    },
    {
     "name": "stderr",
     "output_type": "stream",
     "text": [
      "Classifier Training Epoch:  40%|\u001b[32m███▉      \u001b[0m| 198/500 [02:55<04:57,  1.01it/s, acc=0.998, loss=0.119]  "
     ]
    },
    {
     "name": "stdout",
     "output_type": "stream",
     "text": [
      "EarlyStopping counter: 90 out of 100\n"
     ]
    },
    {
     "name": "stderr",
     "output_type": "stream",
     "text": [
      "Classifier Training Epoch:  40%|\u001b[32m███▉      \u001b[0m| 199/500 [03:00<08:14,  1.64s/it, acc=0.96, loss=0.524]   "
     ]
    },
    {
     "name": "stdout",
     "output_type": "stream",
     "text": [
      "EarlyStopping counter: 91 out of 100\n"
     ]
    },
    {
     "name": "stderr",
     "output_type": "stream",
     "text": [
      "Classifier Training Epoch:  40%|\u001b[32m████      \u001b[0m| 201/500 [03:10<14:02,  2.82s/it, acc=0.975, loss=0.35]   "
     ]
    },
    {
     "name": "stdout",
     "output_type": "stream",
     "text": [
      "EarlyStopping counter: 92 out of 100\n"
     ]
    },
    {
     "name": "stderr",
     "output_type": "stream",
     "text": [
      "Classifier Training Epoch:  41%|\u001b[32m████      \u001b[0m| 203/500 [03:20<18:32,  3.75s/it, acc=0.951, loss=0.883]  "
     ]
    },
    {
     "name": "stdout",
     "output_type": "stream",
     "text": [
      "EarlyStopping counter: 93 out of 100\n"
     ]
    },
    {
     "name": "stderr",
     "output_type": "stream",
     "text": [
      "Classifier Training Epoch:  41%|\u001b[32m████      \u001b[0m| 205/500 [03:30<21:44,  4.42s/it, acc=0.9, loss=2.07]     "
     ]
    },
    {
     "name": "stdout",
     "output_type": "stream",
     "text": [
      "EarlyStopping counter: 94 out of 100\n"
     ]
    },
    {
     "name": "stderr",
     "output_type": "stream",
     "text": [
      "Classifier Training Epoch:  41%|\u001b[32m████▏     \u001b[0m| 207/500 [03:43<26:20,  5.40s/it, acc=0.988, loss=0.129]  "
     ]
    },
    {
     "name": "stdout",
     "output_type": "stream",
     "text": [
      "EarlyStopping counter: 95 out of 100\n"
     ]
    },
    {
     "name": "stderr",
     "output_type": "stream",
     "text": [
      "Classifier Training Epoch:  42%|\u001b[32m████▏     \u001b[0m| 209/500 [03:54<27:53,  5.75s/it, acc=0.998, loss=0.0334] "
     ]
    },
    {
     "name": "stdout",
     "output_type": "stream",
     "text": [
      "EarlyStopping counter: 96 out of 100\n"
     ]
    },
    {
     "name": "stderr",
     "output_type": "stream",
     "text": [
      "Classifier Training Epoch:  42%|\u001b[32m████▏     \u001b[0m| 211/500 [03:56<17:50,  3.70s/it, acc=1, loss=0]          "
     ]
    },
    {
     "name": "stdout",
     "output_type": "stream",
     "text": [
      "EarlyStopping counter: 97 out of 100\n"
     ]
    },
    {
     "name": "stderr",
     "output_type": "stream",
     "text": [
      "Classifier Training Epoch:  43%|\u001b[32m████▎     \u001b[0m| 213/500 [03:58<10:54,  2.28s/it, acc=0.998, loss=0.085]  "
     ]
    },
    {
     "name": "stdout",
     "output_type": "stream",
     "text": [
      "EarlyStopping counter: 98 out of 100\n"
     ]
    },
    {
     "name": "stderr",
     "output_type": "stream",
     "text": [
      "Classifier Training Epoch:  43%|\u001b[32m████▎     \u001b[0m| 215/500 [03:59<07:05,  1.49s/it, acc=0.998, loss=0.00179]"
     ]
    },
    {
     "name": "stdout",
     "output_type": "stream",
     "text": [
      "EarlyStopping counter: 99 out of 100\n"
     ]
    },
    {
     "name": "stderr",
     "output_type": "stream",
     "text": [
      "Classifier Training Epoch:  43%|\u001b[32m████▎     \u001b[0m| 217/500 [04:00<04:45,  1.01s/it, acc=0.996, loss=0.00801]"
     ]
    },
    {
     "name": "stdout",
     "output_type": "stream",
     "text": [
      "EarlyStopping counter: 100 out of 100\n"
     ]
    },
    {
     "name": "stderr",
     "output_type": "stream",
     "text": [
      "Classifier Training Epoch:  44%|\u001b[32m████▍     \u001b[0m| 219/500 [04:02<03:41,  1.27it/s, acc=0.998, loss=0.0159] "
     ]
    },
    {
     "name": "stdout",
     "output_type": "stream",
     "text": [
      "EarlyStopping counter: 101 out of 100\n"
     ]
    },
    {
     "name": "stderr",
     "output_type": "stream",
     "text": [
      "Classifier Training Epoch:  44%|\u001b[32m████▍     \u001b[0m| 221/500 [04:03<03:14,  1.44it/s, acc=1, loss=0.00076]    "
     ]
    },
    {
     "name": "stdout",
     "output_type": "stream",
     "text": [
      "EarlyStopping counter: 102 out of 100\n"
     ]
    },
    {
     "name": "stderr",
     "output_type": "stream",
     "text": [
      "Classifier Training Epoch:  45%|\u001b[32m████▍     \u001b[0m| 223/500 [04:04<03:09,  1.46it/s, acc=0.998, loss=0.0263] "
     ]
    },
    {
     "name": "stdout",
     "output_type": "stream",
     "text": [
      "EarlyStopping counter: 103 out of 100\n"
     ]
    },
    {
     "name": "stderr",
     "output_type": "stream",
     "text": [
      "Classifier Training Epoch:  45%|\u001b[32m████▍     \u001b[0m| 224/500 [04:05<03:17,  1.40it/s, acc=0.973, loss=0.145]  "
     ]
    },
    {
     "name": "stdout",
     "output_type": "stream",
     "text": [
      "EarlyStopping counter: 104 out of 100\n"
     ]
    },
    {
     "name": "stderr",
     "output_type": "stream",
     "text": [
      "Classifier Training Epoch:  45%|\u001b[32m████▌     \u001b[0m| 226/500 [04:07<02:59,  1.53it/s, acc=0.979, loss=0.378]  "
     ]
    },
    {
     "name": "stdout",
     "output_type": "stream",
     "text": [
      "EarlyStopping counter: 105 out of 100\n"
     ]
    },
    {
     "name": "stderr",
     "output_type": "stream",
     "text": [
      "Classifier Training Epoch:  46%|\u001b[32m████▌     \u001b[0m| 228/500 [04:08<02:42,  1.67it/s, acc=0.969, loss=0.577]  "
     ]
    },
    {
     "name": "stdout",
     "output_type": "stream",
     "text": [
      "EarlyStopping counter: 106 out of 100\n"
     ]
    },
    {
     "name": "stderr",
     "output_type": "stream",
     "text": [
      "Classifier Training Epoch:  46%|\u001b[32m████▌     \u001b[0m| 230/500 [04:09<02:40,  1.68it/s, acc=0.92, loss=1.38]    "
     ]
    },
    {
     "name": "stdout",
     "output_type": "stream",
     "text": [
      "EarlyStopping counter: 107 out of 100\n"
     ]
    },
    {
     "name": "stderr",
     "output_type": "stream",
     "text": [
      "Classifier Training Epoch:  46%|\u001b[32m████▋     \u001b[0m| 232/500 [04:10<02:27,  1.82it/s, acc=0.982, loss=0.411]  "
     ]
    },
    {
     "name": "stdout",
     "output_type": "stream",
     "text": [
      "EarlyStopping counter: 108 out of 100\n"
     ]
    },
    {
     "name": "stderr",
     "output_type": "stream",
     "text": [
      "Classifier Training Epoch:  47%|\u001b[32m████▋     \u001b[0m| 234/500 [04:11<02:27,  1.80it/s, acc=0.998, loss=0.00249]"
     ]
    },
    {
     "name": "stdout",
     "output_type": "stream",
     "text": [
      "EarlyStopping counter: 109 out of 100\n"
     ]
    },
    {
     "name": "stderr",
     "output_type": "stream",
     "text": [
      "Classifier Training Epoch:  47%|\u001b[32m████▋     \u001b[0m| 236/500 [04:12<02:27,  1.79it/s, acc=1, loss=3.8e-8]     "
     ]
    },
    {
     "name": "stdout",
     "output_type": "stream",
     "text": [
      "EarlyStopping counter: 110 out of 100\n"
     ]
    },
    {
     "name": "stderr",
     "output_type": "stream",
     "text": [
      "Classifier Training Epoch:  48%|\u001b[32m████▊     \u001b[0m| 238/500 [04:13<02:29,  1.76it/s, acc=1, loss=6.29e-9]    "
     ]
    },
    {
     "name": "stdout",
     "output_type": "stream",
     "text": [
      "EarlyStopping counter: 111 out of 100\n"
     ]
    },
    {
     "name": "stderr",
     "output_type": "stream",
     "text": [
      "Classifier Training Epoch:  48%|\u001b[32m████▊     \u001b[0m| 240/500 [04:15<02:24,  1.80it/s, acc=0.998, loss=0.00208]"
     ]
    },
    {
     "name": "stdout",
     "output_type": "stream",
     "text": [
      "EarlyStopping counter: 112 out of 100\n"
     ]
    },
    {
     "name": "stderr",
     "output_type": "stream",
     "text": [
      "Classifier Training Epoch:  48%|\u001b[32m████▊     \u001b[0m| 242/500 [04:16<02:24,  1.78it/s, acc=1, loss=6.43e-6]    "
     ]
    },
    {
     "name": "stdout",
     "output_type": "stream",
     "text": [
      "EarlyStopping counter: 113 out of 100\n"
     ]
    },
    {
     "name": "stderr",
     "output_type": "stream",
     "text": [
      "Classifier Training Epoch:  49%|\u001b[32m████▉     \u001b[0m| 244/500 [04:17<02:31,  1.69it/s, acc=1, loss=8.61e-9]    "
     ]
    },
    {
     "name": "stdout",
     "output_type": "stream",
     "text": [
      "EarlyStopping counter: 114 out of 100\n"
     ]
    },
    {
     "name": "stderr",
     "output_type": "stream",
     "text": [
      "Classifier Training Epoch:  49%|\u001b[32m████▉     \u001b[0m| 246/500 [04:18<02:29,  1.70it/s, acc=0.996, loss=0.0419] "
     ]
    },
    {
     "name": "stdout",
     "output_type": "stream",
     "text": [
      "EarlyStopping counter: 115 out of 100\n"
     ]
    },
    {
     "name": "stderr",
     "output_type": "stream",
     "text": [
      "Classifier Training Epoch:  50%|\u001b[32m████▉     \u001b[0m| 248/500 [04:19<02:23,  1.75it/s, acc=1, loss=0]          "
     ]
    },
    {
     "name": "stdout",
     "output_type": "stream",
     "text": [
      "EarlyStopping counter: 116 out of 100\n"
     ]
    },
    {
     "name": "stderr",
     "output_type": "stream",
     "text": [
      "Classifier Training Epoch:  50%|\u001b[32m████▉     \u001b[0m| 249/500 [04:20<02:36,  1.60it/s, acc=0.982, loss=0.239]  "
     ]
    },
    {
     "name": "stdout",
     "output_type": "stream",
     "text": [
      "EarlyStopping counter: 117 out of 100\n"
     ]
    },
    {
     "name": "stderr",
     "output_type": "stream",
     "text": [
      "Classifier Training Epoch:  50%|\u001b[32m█████     \u001b[0m| 251/500 [04:22<02:32,  1.63it/s, acc=0.98, loss=0.256]  "
     ]
    },
    {
     "name": "stdout",
     "output_type": "stream",
     "text": [
      "EarlyStopping counter: 118 out of 100\n"
     ]
    },
    {
     "name": "stderr",
     "output_type": "stream",
     "text": [
      "Classifier Training Epoch:  51%|\u001b[32m█████     \u001b[0m| 253/500 [04:23<02:33,  1.61it/s, acc=0.959, loss=0.81]   "
     ]
    },
    {
     "name": "stdout",
     "output_type": "stream",
     "text": [
      "EarlyStopping counter: 119 out of 100\n"
     ]
    },
    {
     "name": "stderr",
     "output_type": "stream",
     "text": [
      "Classifier Training Epoch:  51%|\u001b[32m█████     \u001b[0m| 255/500 [04:24<02:32,  1.61it/s, acc=0.945, loss=1.23]   "
     ]
    },
    {
     "name": "stdout",
     "output_type": "stream",
     "text": [
      "EarlyStopping counter: 120 out of 100\n"
     ]
    },
    {
     "name": "stderr",
     "output_type": "stream",
     "text": [
      "Classifier Training Epoch:  51%|\u001b[32m█████▏    \u001b[0m| 257/500 [04:25<02:30,  1.62it/s, acc=0.977, loss=0.434]  "
     ]
    },
    {
     "name": "stdout",
     "output_type": "stream",
     "text": [
      "EarlyStopping counter: 121 out of 100\n"
     ]
    },
    {
     "name": "stderr",
     "output_type": "stream",
     "text": [
      "Classifier Training Epoch:  52%|\u001b[32m█████▏    \u001b[0m| 259/500 [04:27<02:27,  1.63it/s, acc=0.994, loss=0.131]  "
     ]
    },
    {
     "name": "stdout",
     "output_type": "stream",
     "text": [
      "EarlyStopping counter: 122 out of 100\n"
     ]
    },
    {
     "name": "stderr",
     "output_type": "stream",
     "text": [
      "Classifier Training Epoch:  52%|\u001b[32m█████▏    \u001b[0m| 261/500 [04:28<02:27,  1.62it/s, acc=1, loss=0.00011]    "
     ]
    },
    {
     "name": "stdout",
     "output_type": "stream",
     "text": [
      "EarlyStopping counter: 123 out of 100\n"
     ]
    },
    {
     "name": "stderr",
     "output_type": "stream",
     "text": [
      "Classifier Training Epoch:  53%|\u001b[32m█████▎    \u001b[0m| 263/500 [04:29<02:26,  1.62it/s, acc=1, loss=0]          "
     ]
    },
    {
     "name": "stdout",
     "output_type": "stream",
     "text": [
      "EarlyStopping counter: 124 out of 100\n"
     ]
    },
    {
     "name": "stderr",
     "output_type": "stream",
     "text": [
      "Classifier Training Epoch:  53%|\u001b[32m█████▎    \u001b[0m| 265/500 [04:30<02:25,  1.62it/s, acc=1, loss=0]          "
     ]
    },
    {
     "name": "stdout",
     "output_type": "stream",
     "text": [
      "EarlyStopping counter: 125 out of 100\n"
     ]
    },
    {
     "name": "stderr",
     "output_type": "stream",
     "text": [
      "Classifier Training Epoch:  53%|\u001b[32m█████▎    \u001b[0m| 267/500 [04:32<02:21,  1.65it/s, acc=0.994, loss=0.0652] "
     ]
    },
    {
     "name": "stdout",
     "output_type": "stream",
     "text": [
      "EarlyStopping counter: 126 out of 100\n"
     ]
    },
    {
     "name": "stderr",
     "output_type": "stream",
     "text": [
      "Classifier Training Epoch:  54%|\u001b[32m█████▍    \u001b[0m| 269/500 [04:33<02:23,  1.61it/s, acc=0.998, loss=0.137]  "
     ]
    },
    {
     "name": "stdout",
     "output_type": "stream",
     "text": [
      "EarlyStopping counter: 127 out of 100\n"
     ]
    },
    {
     "name": "stderr",
     "output_type": "stream",
     "text": [
      "Classifier Training Epoch:  54%|\u001b[32m█████▍    \u001b[0m| 271/500 [04:34<02:23,  1.59it/s, acc=1, loss=8.15e-9]    "
     ]
    },
    {
     "name": "stdout",
     "output_type": "stream",
     "text": [
      "EarlyStopping counter: 128 out of 100\n"
     ]
    },
    {
     "name": "stderr",
     "output_type": "stream",
     "text": [
      "Classifier Training Epoch:  55%|\u001b[32m█████▍    \u001b[0m| 273/500 [04:35<02:19,  1.63it/s, acc=1, loss=0]          "
     ]
    },
    {
     "name": "stdout",
     "output_type": "stream",
     "text": [
      "EarlyStopping counter: 129 out of 100\n"
     ]
    },
    {
     "name": "stderr",
     "output_type": "stream",
     "text": [
      "Classifier Training Epoch:  55%|\u001b[32m█████▍    \u001b[0m| 274/500 [04:37<02:29,  1.51it/s, acc=0.964, loss=0.33]   "
     ]
    },
    {
     "name": "stdout",
     "output_type": "stream",
     "text": [
      "EarlyStopping counter: 130 out of 100\n"
     ]
    },
    {
     "name": "stderr",
     "output_type": "stream",
     "text": [
      "Classifier Training Epoch:  55%|\u001b[32m█████▌    \u001b[0m| 276/500 [04:38<02:27,  1.52it/s, acc=0.988, loss=0.221]  "
     ]
    },
    {
     "name": "stdout",
     "output_type": "stream",
     "text": [
      "EarlyStopping counter: 131 out of 100\n"
     ]
    },
    {
     "name": "stderr",
     "output_type": "stream",
     "text": [
      "Classifier Training Epoch:  56%|\u001b[32m█████▌    \u001b[0m| 278/500 [04:39<02:24,  1.54it/s, acc=0.973, loss=0.382]  "
     ]
    },
    {
     "name": "stdout",
     "output_type": "stream",
     "text": [
      "EarlyStopping counter: 132 out of 100\n"
     ]
    },
    {
     "name": "stderr",
     "output_type": "stream",
     "text": [
      "Classifier Training Epoch:  56%|\u001b[32m█████▌    \u001b[0m| 280/500 [04:41<02:33,  1.44it/s, acc=0.945, loss=0.942]  "
     ]
    },
    {
     "name": "stdout",
     "output_type": "stream",
     "text": [
      "EarlyStopping counter: 133 out of 100\n"
     ]
    },
    {
     "name": "stderr",
     "output_type": "stream",
     "text": [
      "Classifier Training Epoch:  56%|\u001b[32m█████▋    \u001b[0m| 282/500 [04:42<02:32,  1.43it/s, acc=0.98, loss=0.387]   "
     ]
    },
    {
     "name": "stdout",
     "output_type": "stream",
     "text": [
      "EarlyStopping counter: 134 out of 100\n"
     ]
    },
    {
     "name": "stderr",
     "output_type": "stream",
     "text": [
      "Classifier Training Epoch:  57%|\u001b[32m█████▋    \u001b[0m| 284/500 [04:44<02:33,  1.40it/s, acc=0.994, loss=0.0505] "
     ]
    },
    {
     "name": "stdout",
     "output_type": "stream",
     "text": [
      "EarlyStopping counter: 135 out of 100\n"
     ]
    },
    {
     "name": "stderr",
     "output_type": "stream",
     "text": [
      "Classifier Training Epoch:  57%|\u001b[32m█████▋    \u001b[0m| 286/500 [04:45<02:23,  1.50it/s, acc=1, loss=0]          "
     ]
    },
    {
     "name": "stdout",
     "output_type": "stream",
     "text": [
      "EarlyStopping counter: 136 out of 100\n"
     ]
    },
    {
     "name": "stderr",
     "output_type": "stream",
     "text": [
      "Classifier Training Epoch:  58%|\u001b[32m█████▊    \u001b[0m| 288/500 [04:47<02:54,  1.22it/s, acc=1, loss=0]          "
     ]
    },
    {
     "name": "stdout",
     "output_type": "stream",
     "text": [
      "EarlyStopping counter: 137 out of 100\n"
     ]
    },
    {
     "name": "stderr",
     "output_type": "stream",
     "text": [
      "Classifier Training Epoch:  58%|\u001b[32m█████▊    \u001b[0m| 290/500 [04:53<05:53,  1.68s/it, acc=1, loss=0]          "
     ]
    },
    {
     "name": "stdout",
     "output_type": "stream",
     "text": [
      "EarlyStopping counter: 138 out of 100\n"
     ]
    },
    {
     "name": "stderr",
     "output_type": "stream",
     "text": [
      "Classifier Training Epoch:  58%|\u001b[32m█████▊    \u001b[0m| 292/500 [04:59<08:00,  2.31s/it, acc=0.998, loss=0.00232]"
     ]
    },
    {
     "name": "stdout",
     "output_type": "stream",
     "text": [
      "EarlyStopping counter: 139 out of 100\n"
     ]
    },
    {
     "name": "stderr",
     "output_type": "stream",
     "text": [
      "Classifier Training Epoch:  59%|\u001b[32m█████▉    \u001b[0m| 294/500 [05:04<08:17,  2.42s/it, acc=0.998, loss=0.0464] "
     ]
    },
    {
     "name": "stdout",
     "output_type": "stream",
     "text": [
      "EarlyStopping counter: 140 out of 100\n"
     ]
    },
    {
     "name": "stderr",
     "output_type": "stream",
     "text": [
      "Classifier Training Epoch:  59%|\u001b[32m█████▉    \u001b[0m| 296/500 [05:11<09:44,  2.87s/it, acc=1, loss=0]          "
     ]
    },
    {
     "name": "stdout",
     "output_type": "stream",
     "text": [
      "EarlyStopping counter: 141 out of 100\n"
     ]
    },
    {
     "name": "stderr",
     "output_type": "stream",
     "text": [
      "Classifier Training Epoch:  60%|\u001b[32m█████▉    \u001b[0m| 298/500 [05:15<08:33,  2.54s/it, acc=1, loss=0]          "
     ]
    },
    {
     "name": "stdout",
     "output_type": "stream",
     "text": [
      "EarlyStopping counter: 142 out of 100\n"
     ]
    },
    {
     "name": "stderr",
     "output_type": "stream",
     "text": [
      "Classifier Training Epoch:  60%|\u001b[32m█████▉    \u001b[0m| 299/500 [05:17<06:40,  1.99s/it, acc=0.978, loss=0.268]  "
     ]
    },
    {
     "name": "stdout",
     "output_type": "stream",
     "text": [
      "EarlyStopping counter: 143 out of 100\n"
     ]
    },
    {
     "name": "stderr",
     "output_type": "stream",
     "text": [
      "Classifier Training Epoch:  60%|\u001b[32m██████    \u001b[0m| 301/500 [05:18<04:23,  1.32s/it, acc=0.973, loss=0.235]  "
     ]
    },
    {
     "name": "stdout",
     "output_type": "stream",
     "text": [
      "EarlyStopping counter: 144 out of 100\n"
     ]
    },
    {
     "name": "stderr",
     "output_type": "stream",
     "text": [
      "Classifier Training Epoch:  61%|\u001b[32m██████    \u001b[0m| 303/500 [05:19<03:09,  1.04it/s, acc=0.975, loss=0.421]  "
     ]
    },
    {
     "name": "stdout",
     "output_type": "stream",
     "text": [
      "EarlyStopping counter: 145 out of 100\n"
     ]
    },
    {
     "name": "stderr",
     "output_type": "stream",
     "text": [
      "Classifier Training Epoch:  61%|\u001b[32m██████    \u001b[0m| 305/500 [05:20<02:25,  1.34it/s, acc=0.939, loss=1.16]   "
     ]
    },
    {
     "name": "stdout",
     "output_type": "stream",
     "text": [
      "EarlyStopping counter: 146 out of 100\n"
     ]
    },
    {
     "name": "stderr",
     "output_type": "stream",
     "text": [
      "Classifier Training Epoch:  61%|\u001b[32m██████▏   \u001b[0m| 307/500 [05:21<02:08,  1.50it/s, acc=0.996, loss=0.209]  "
     ]
    },
    {
     "name": "stdout",
     "output_type": "stream",
     "text": [
      "EarlyStopping counter: 147 out of 100\n"
     ]
    },
    {
     "name": "stderr",
     "output_type": "stream",
     "text": [
      "Classifier Training Epoch:  62%|\u001b[32m██████▏   \u001b[0m| 309/500 [05:22<01:56,  1.64it/s, acc=0.99, loss=0.0469]  "
     ]
    },
    {
     "name": "stdout",
     "output_type": "stream",
     "text": [
      "EarlyStopping counter: 148 out of 100\n"
     ]
    },
    {
     "name": "stderr",
     "output_type": "stream",
     "text": [
      "Classifier Training Epoch:  62%|\u001b[32m██████▏   \u001b[0m| 311/500 [05:24<01:53,  1.66it/s, acc=0.998, loss=0.0456] "
     ]
    },
    {
     "name": "stdout",
     "output_type": "stream",
     "text": [
      "EarlyStopping counter: 149 out of 100\n"
     ]
    },
    {
     "name": "stderr",
     "output_type": "stream",
     "text": [
      "Classifier Training Epoch:  63%|\u001b[32m██████▎   \u001b[0m| 313/500 [05:25<01:46,  1.75it/s, acc=1, loss=0]          "
     ]
    },
    {
     "name": "stdout",
     "output_type": "stream",
     "text": [
      "EarlyStopping counter: 150 out of 100\n"
     ]
    },
    {
     "name": "stderr",
     "output_type": "stream",
     "text": [
      "Classifier Training Epoch:  63%|\u001b[32m██████▎   \u001b[0m| 315/500 [05:26<01:44,  1.78it/s, acc=1, loss=6.98e-10]   "
     ]
    },
    {
     "name": "stdout",
     "output_type": "stream",
     "text": [
      "EarlyStopping counter: 151 out of 100\n"
     ]
    },
    {
     "name": "stderr",
     "output_type": "stream",
     "text": [
      "Classifier Training Epoch:  63%|\u001b[32m██████▎   \u001b[0m| 317/500 [05:27<01:43,  1.77it/s, acc=0.996, loss=0.145]  "
     ]
    },
    {
     "name": "stdout",
     "output_type": "stream",
     "text": [
      "EarlyStopping counter: 152 out of 100\n"
     ]
    },
    {
     "name": "stderr",
     "output_type": "stream",
     "text": [
      "Classifier Training Epoch:  64%|\u001b[32m██████▍   \u001b[0m| 319/500 [05:28<01:47,  1.69it/s, acc=1, loss=8.15e-9]    "
     ]
    },
    {
     "name": "stdout",
     "output_type": "stream",
     "text": [
      "EarlyStopping counter: 153 out of 100\n"
     ]
    },
    {
     "name": "stderr",
     "output_type": "stream",
     "text": [
      "Classifier Training Epoch:  64%|\u001b[32m██████▍   \u001b[0m| 321/500 [05:29<01:45,  1.70it/s, acc=0.998, loss=0.0554] "
     ]
    },
    {
     "name": "stdout",
     "output_type": "stream",
     "text": [
      "EarlyStopping counter: 154 out of 100\n"
     ]
    },
    {
     "name": "stderr",
     "output_type": "stream",
     "text": [
      "Classifier Training Epoch:  65%|\u001b[32m██████▍   \u001b[0m| 323/500 [05:31<01:45,  1.67it/s, acc=1, loss=0]          "
     ]
    },
    {
     "name": "stdout",
     "output_type": "stream",
     "text": [
      "EarlyStopping counter: 155 out of 100\n"
     ]
    },
    {
     "name": "stderr",
     "output_type": "stream",
     "text": [
      "Classifier Training Epoch:  65%|\u001b[32m██████▍   \u001b[0m| 324/500 [05:32<01:50,  1.59it/s, acc=0.969, loss=0.326]  "
     ]
    },
    {
     "name": "stdout",
     "output_type": "stream",
     "text": [
      "EarlyStopping counter: 156 out of 100\n"
     ]
    },
    {
     "name": "stderr",
     "output_type": "stream",
     "text": [
      "Classifier Training Epoch:  65%|\u001b[32m██████▌   \u001b[0m| 326/500 [05:34<01:49,  1.59it/s, acc=0.984, loss=0.228]  "
     ]
    },
    {
     "name": "stdout",
     "output_type": "stream",
     "text": [
      "EarlyStopping counter: 157 out of 100\n"
     ]
    },
    {
     "name": "stderr",
     "output_type": "stream",
     "text": [
      "Classifier Training Epoch:  66%|\u001b[32m██████▌   \u001b[0m| 328/500 [05:41<04:52,  1.70s/it, acc=0.975, loss=0.395]  "
     ]
    },
    {
     "name": "stdout",
     "output_type": "stream",
     "text": [
      "EarlyStopping counter: 158 out of 100\n"
     ]
    },
    {
     "name": "stderr",
     "output_type": "stream",
     "text": [
      "Classifier Training Epoch:  66%|\u001b[32m██████▌   \u001b[0m| 330/500 [05:47<08:11,  2.89s/it, acc=0.945, loss=0.879]  "
     ]
    },
    {
     "name": "stdout",
     "output_type": "stream",
     "text": [
      "EarlyStopping counter: 159 out of 100\n"
     ]
    },
    {
     "name": "stderr",
     "output_type": "stream",
     "text": [
      "Classifier Training Epoch:  66%|\u001b[32m██████▋   \u001b[0m| 332/500 [05:49<04:57,  1.77s/it, acc=0.992, loss=0.0876]"
     ]
    },
    {
     "name": "stdout",
     "output_type": "stream",
     "text": [
      "EarlyStopping counter: 160 out of 100\n"
     ]
    },
    {
     "name": "stderr",
     "output_type": "stream",
     "text": [
      "Classifier Training Epoch:  67%|\u001b[32m██████▋   \u001b[0m| 334/500 [05:50<03:15,  1.18s/it, acc=0.998, loss=0.0175] "
     ]
    },
    {
     "name": "stdout",
     "output_type": "stream",
     "text": [
      "EarlyStopping counter: 161 out of 100\n"
     ]
    },
    {
     "name": "stderr",
     "output_type": "stream",
     "text": [
      "Classifier Training Epoch:  67%|\u001b[32m██████▋   \u001b[0m| 336/500 [05:51<02:17,  1.19it/s, acc=1, loss=4.98e-8]    "
     ]
    },
    {
     "name": "stdout",
     "output_type": "stream",
     "text": [
      "EarlyStopping counter: 162 out of 100\n"
     ]
    },
    {
     "name": "stderr",
     "output_type": "stream",
     "text": [
      "Classifier Training Epoch:  68%|\u001b[32m██████▊   \u001b[0m| 338/500 [05:52<01:50,  1.46it/s, acc=1, loss=0]          "
     ]
    },
    {
     "name": "stdout",
     "output_type": "stream",
     "text": [
      "EarlyStopping counter: 163 out of 100\n"
     ]
    },
    {
     "name": "stderr",
     "output_type": "stream",
     "text": [
      "Classifier Training Epoch:  68%|\u001b[32m██████▊   \u001b[0m| 340/500 [05:53<01:39,  1.61it/s, acc=1, loss=0]          "
     ]
    },
    {
     "name": "stdout",
     "output_type": "stream",
     "text": [
      "EarlyStopping counter: 164 out of 100\n"
     ]
    },
    {
     "name": "stderr",
     "output_type": "stream",
     "text": [
      "Classifier Training Epoch:  68%|\u001b[32m██████▊   \u001b[0m| 342/500 [05:54<01:34,  1.68it/s, acc=0.992, loss=0.0864] "
     ]
    },
    {
     "name": "stdout",
     "output_type": "stream",
     "text": [
      "EarlyStopping counter: 165 out of 100\n"
     ]
    },
    {
     "name": "stderr",
     "output_type": "stream",
     "text": [
      "Classifier Training Epoch:  69%|\u001b[32m██████▉   \u001b[0m| 344/500 [05:55<01:30,  1.72it/s, acc=1, loss=4.41e-7]    "
     ]
    },
    {
     "name": "stdout",
     "output_type": "stream",
     "text": [
      "EarlyStopping counter: 166 out of 100\n"
     ]
    },
    {
     "name": "stderr",
     "output_type": "stream",
     "text": [
      "Classifier Training Epoch:  69%|\u001b[32m██████▉   \u001b[0m| 346/500 [05:57<01:38,  1.56it/s, acc=1, loss=0]          "
     ]
    },
    {
     "name": "stdout",
     "output_type": "stream",
     "text": [
      "EarlyStopping counter: 167 out of 100\n"
     ]
    },
    {
     "name": "stderr",
     "output_type": "stream",
     "text": [
      "Classifier Training Epoch:  70%|\u001b[32m██████▉   \u001b[0m| 348/500 [05:58<01:35,  1.60it/s, acc=1, loss=0]          "
     ]
    },
    {
     "name": "stdout",
     "output_type": "stream",
     "text": [
      "EarlyStopping counter: 168 out of 100\n"
     ]
    },
    {
     "name": "stderr",
     "output_type": "stream",
     "text": [
      "Classifier Training Epoch:  70%|\u001b[32m██████▉   \u001b[0m| 349/500 [05:59<01:43,  1.46it/s, acc=0.987, loss=0.128]  "
     ]
    },
    {
     "name": "stdout",
     "output_type": "stream",
     "text": [
      "EarlyStopping counter: 169 out of 100\n"
     ]
    },
    {
     "name": "stderr",
     "output_type": "stream",
     "text": [
      "Classifier Training Epoch:  70%|\u001b[32m███████   \u001b[0m| 351/500 [06:01<01:34,  1.58it/s, acc=0.977, loss=0.382]  "
     ]
    },
    {
     "name": "stdout",
     "output_type": "stream",
     "text": [
      "EarlyStopping counter: 170 out of 100\n"
     ]
    },
    {
     "name": "stderr",
     "output_type": "stream",
     "text": [
      "Classifier Training Epoch:  71%|\u001b[32m███████   \u001b[0m| 353/500 [06:02<01:33,  1.57it/s, acc=0.965, loss=0.399]  "
     ]
    },
    {
     "name": "stdout",
     "output_type": "stream",
     "text": [
      "EarlyStopping counter: 171 out of 100\n"
     ]
    },
    {
     "name": "stderr",
     "output_type": "stream",
     "text": [
      "Classifier Training Epoch:  71%|\u001b[32m███████   \u001b[0m| 355/500 [06:03<01:30,  1.61it/s, acc=0.932, loss=0.948]  "
     ]
    },
    {
     "name": "stdout",
     "output_type": "stream",
     "text": [
      "EarlyStopping counter: 172 out of 100\n"
     ]
    },
    {
     "name": "stderr",
     "output_type": "stream",
     "text": [
      "Classifier Training Epoch:  71%|\u001b[32m███████▏  \u001b[0m| 357/500 [06:05<01:36,  1.48it/s, acc=0.984, loss=0.358]  "
     ]
    },
    {
     "name": "stdout",
     "output_type": "stream",
     "text": [
      "EarlyStopping counter: 173 out of 100\n"
     ]
    },
    {
     "name": "stderr",
     "output_type": "stream",
     "text": [
      "Classifier Training Epoch:  72%|\u001b[32m███████▏  \u001b[0m| 359/500 [06:16<06:44,  2.87s/it, acc=0.996, loss=0.0464] "
     ]
    },
    {
     "name": "stdout",
     "output_type": "stream",
     "text": [
      "EarlyStopping counter: 174 out of 100\n"
     ]
    },
    {
     "name": "stderr",
     "output_type": "stream",
     "text": [
      "Classifier Training Epoch:  72%|\u001b[32m███████▏  \u001b[0m| 361/500 [06:21<06:21,  2.75s/it, acc=0.996, loss=0.0423] "
     ]
    },
    {
     "name": "stdout",
     "output_type": "stream",
     "text": [
      "EarlyStopping counter: 175 out of 100\n"
     ]
    },
    {
     "name": "stderr",
     "output_type": "stream",
     "text": [
      "Classifier Training Epoch:  73%|\u001b[32m███████▎  \u001b[0m| 363/500 [06:25<05:16,  2.31s/it, acc=1, loss=0]          "
     ]
    },
    {
     "name": "stdout",
     "output_type": "stream",
     "text": [
      "EarlyStopping counter: 176 out of 100\n"
     ]
    },
    {
     "name": "stderr",
     "output_type": "stream",
     "text": [
      "Classifier Training Epoch:  73%|\u001b[32m███████▎  \u001b[0m| 365/500 [06:29<05:03,  2.25s/it, acc=1, loss=0]          "
     ]
    },
    {
     "name": "stdout",
     "output_type": "stream",
     "text": [
      "EarlyStopping counter: 177 out of 100\n"
     ]
    },
    {
     "name": "stderr",
     "output_type": "stream",
     "text": [
      "Classifier Training Epoch:  73%|\u001b[32m███████▎  \u001b[0m| 367/500 [06:33<04:21,  1.97s/it, acc=0.998, loss=0.0149] "
     ]
    },
    {
     "name": "stdout",
     "output_type": "stream",
     "text": [
      "EarlyStopping counter: 178 out of 100\n"
     ]
    },
    {
     "name": "stderr",
     "output_type": "stream",
     "text": [
      "Classifier Training Epoch:  74%|\u001b[32m███████▍  \u001b[0m| 369/500 [06:35<03:26,  1.58s/it, acc=1, loss=2.33e-10]   "
     ]
    },
    {
     "name": "stdout",
     "output_type": "stream",
     "text": [
      "EarlyStopping counter: 179 out of 100\n"
     ]
    },
    {
     "name": "stderr",
     "output_type": "stream",
     "text": [
      "Classifier Training Epoch:  74%|\u001b[32m███████▍  \u001b[0m| 371/500 [06:36<02:17,  1.07s/it, acc=1, loss=0.00109]    "
     ]
    },
    {
     "name": "stdout",
     "output_type": "stream",
     "text": [
      "EarlyStopping counter: 180 out of 100\n"
     ]
    },
    {
     "name": "stderr",
     "output_type": "stream",
     "text": [
      "Classifier Training Epoch:  75%|\u001b[32m███████▍  \u001b[0m| 373/500 [06:37<01:45,  1.20it/s, acc=1, loss=0]          "
     ]
    },
    {
     "name": "stdout",
     "output_type": "stream",
     "text": [
      "EarlyStopping counter: 181 out of 100\n"
     ]
    },
    {
     "name": "stderr",
     "output_type": "stream",
     "text": [
      "Classifier Training Epoch:  75%|\u001b[32m███████▍  \u001b[0m| 374/500 [06:39<01:39,  1.27it/s, acc=0.978, loss=0.379]  "
     ]
    },
    {
     "name": "stdout",
     "output_type": "stream",
     "text": [
      "EarlyStopping counter: 182 out of 100\n"
     ]
    },
    {
     "name": "stderr",
     "output_type": "stream",
     "text": [
      "Classifier Training Epoch:  75%|\u001b[32m███████▌  \u001b[0m| 376/500 [06:40<01:26,  1.43it/s, acc=0.975, loss=0.396]  "
     ]
    },
    {
     "name": "stdout",
     "output_type": "stream",
     "text": [
      "EarlyStopping counter: 183 out of 100\n"
     ]
    },
    {
     "name": "stderr",
     "output_type": "stream",
     "text": [
      "Classifier Training Epoch:  76%|\u001b[32m███████▌  \u001b[0m| 378/500 [06:41<01:19,  1.54it/s, acc=0.959, loss=0.561]  "
     ]
    },
    {
     "name": "stdout",
     "output_type": "stream",
     "text": [
      "EarlyStopping counter: 184 out of 100\n"
     ]
    },
    {
     "name": "stderr",
     "output_type": "stream",
     "text": [
      "Classifier Training Epoch:  76%|\u001b[32m███████▌  \u001b[0m| 380/500 [06:42<01:13,  1.64it/s, acc=0.926, loss=1.32]   "
     ]
    },
    {
     "name": "stdout",
     "output_type": "stream",
     "text": [
      "EarlyStopping counter: 185 out of 100\n"
     ]
    },
    {
     "name": "stderr",
     "output_type": "stream",
     "text": [
      "Classifier Training Epoch:  76%|\u001b[32m███████▋  \u001b[0m| 382/500 [06:43<01:06,  1.78it/s, acc=0.982, loss=0.176]  "
     ]
    },
    {
     "name": "stdout",
     "output_type": "stream",
     "text": [
      "EarlyStopping counter: 186 out of 100\n"
     ]
    },
    {
     "name": "stderr",
     "output_type": "stream",
     "text": [
      "Classifier Training Epoch:  77%|\u001b[32m███████▋  \u001b[0m| 384/500 [06:44<01:07,  1.72it/s, acc=0.994, loss=0.0353] "
     ]
    },
    {
     "name": "stdout",
     "output_type": "stream",
     "text": [
      "EarlyStopping counter: 187 out of 100\n"
     ]
    },
    {
     "name": "stderr",
     "output_type": "stream",
     "text": [
      "Classifier Training Epoch:  77%|\u001b[32m███████▋  \u001b[0m| 386/500 [06:46<01:05,  1.73it/s, acc=1, loss=1.56e-8]    "
     ]
    },
    {
     "name": "stdout",
     "output_type": "stream",
     "text": [
      "EarlyStopping counter: 188 out of 100\n"
     ]
    },
    {
     "name": "stderr",
     "output_type": "stream",
     "text": [
      "Classifier Training Epoch:  78%|\u001b[32m███████▊  \u001b[0m| 388/500 [06:47<01:06,  1.67it/s, acc=1, loss=0]          "
     ]
    },
    {
     "name": "stdout",
     "output_type": "stream",
     "text": [
      "EarlyStopping counter: 189 out of 100\n"
     ]
    },
    {
     "name": "stderr",
     "output_type": "stream",
     "text": [
      "Classifier Training Epoch:  78%|\u001b[32m███████▊  \u001b[0m| 390/500 [06:48<01:05,  1.67it/s, acc=1, loss=0]          "
     ]
    },
    {
     "name": "stdout",
     "output_type": "stream",
     "text": [
      "EarlyStopping counter: 190 out of 100\n"
     ]
    },
    {
     "name": "stderr",
     "output_type": "stream",
     "text": [
      "Classifier Training Epoch:  78%|\u001b[32m███████▊  \u001b[0m| 392/500 [06:49<01:05,  1.66it/s, acc=0.998, loss=0.00839]"
     ]
    },
    {
     "name": "stdout",
     "output_type": "stream",
     "text": [
      "EarlyStopping counter: 191 out of 100\n"
     ]
    },
    {
     "name": "stderr",
     "output_type": "stream",
     "text": [
      "Classifier Training Epoch:  79%|\u001b[32m███████▉  \u001b[0m| 394/500 [06:50<01:04,  1.64it/s, acc=0.998, loss=0.115]  "
     ]
    },
    {
     "name": "stdout",
     "output_type": "stream",
     "text": [
      "EarlyStopping counter: 192 out of 100\n"
     ]
    },
    {
     "name": "stderr",
     "output_type": "stream",
     "text": [
      "Classifier Training Epoch:  79%|\u001b[32m███████▉  \u001b[0m| 396/500 [06:52<01:15,  1.39it/s, acc=1, loss=4.66e-9]    "
     ]
    },
    {
     "name": "stdout",
     "output_type": "stream",
     "text": [
      "EarlyStopping counter: 193 out of 100\n"
     ]
    },
    {
     "name": "stderr",
     "output_type": "stream",
     "text": [
      "Classifier Training Epoch:  80%|\u001b[32m███████▉  \u001b[0m| 398/500 [06:54<01:15,  1.36it/s, acc=1, loss=0]         "
     ]
    },
    {
     "name": "stdout",
     "output_type": "stream",
     "text": [
      "EarlyStopping counter: 194 out of 100\n"
     ]
    },
    {
     "name": "stderr",
     "output_type": "stream",
     "text": [
      "Classifier Training Epoch:  80%|\u001b[32m███████▉  \u001b[0m| 399/500 [06:55<01:19,  1.28it/s, acc=0.969, loss=0.244]  "
     ]
    },
    {
     "name": "stdout",
     "output_type": "stream",
     "text": [
      "EarlyStopping counter: 195 out of 100\n"
     ]
    },
    {
     "name": "stderr",
     "output_type": "stream",
     "text": [
      "Classifier Training Epoch:  80%|\u001b[32m████████  \u001b[0m| 401/500 [06:56<01:08,  1.45it/s, acc=0.982, loss=0.204]  "
     ]
    },
    {
     "name": "stdout",
     "output_type": "stream",
     "text": [
      "EarlyStopping counter: 196 out of 100\n"
     ]
    },
    {
     "name": "stderr",
     "output_type": "stream",
     "text": [
      "Classifier Training Epoch:  81%|\u001b[32m████████  \u001b[0m| 403/500 [06:58<01:03,  1.53it/s, acc=0.969, loss=0.42]   "
     ]
    },
    {
     "name": "stdout",
     "output_type": "stream",
     "text": [
      "EarlyStopping counter: 197 out of 100\n"
     ]
    },
    {
     "name": "stderr",
     "output_type": "stream",
     "text": [
      "Classifier Training Epoch:  81%|\u001b[32m████████  \u001b[0m| 405/500 [06:59<00:57,  1.65it/s, acc=0.924, loss=1.26]   "
     ]
    },
    {
     "name": "stdout",
     "output_type": "stream",
     "text": [
      "EarlyStopping counter: 198 out of 100\n"
     ]
    },
    {
     "name": "stderr",
     "output_type": "stream",
     "text": [
      "Classifier Training Epoch:  81%|\u001b[32m████████▏ \u001b[0m| 407/500 [07:00<00:55,  1.66it/s, acc=0.988, loss=0.246]  "
     ]
    },
    {
     "name": "stdout",
     "output_type": "stream",
     "text": [
      "EarlyStopping counter: 199 out of 100\n"
     ]
    },
    {
     "name": "stderr",
     "output_type": "stream",
     "text": [
      "Classifier Training Epoch:  82%|\u001b[32m████████▏ \u001b[0m| 409/500 [07:01<00:51,  1.75it/s, acc=0.998, loss=0.0574] "
     ]
    },
    {
     "name": "stdout",
     "output_type": "stream",
     "text": [
      "EarlyStopping counter: 200 out of 100\n"
     ]
    },
    {
     "name": "stderr",
     "output_type": "stream",
     "text": [
      "Classifier Training Epoch:  82%|\u001b[32m████████▏ \u001b[0m| 411/500 [07:02<00:50,  1.75it/s, acc=1, loss=0]          "
     ]
    },
    {
     "name": "stdout",
     "output_type": "stream",
     "text": [
      "EarlyStopping counter: 201 out of 100\n"
     ]
    },
    {
     "name": "stderr",
     "output_type": "stream",
     "text": [
      "Classifier Training Epoch:  83%|\u001b[32m████████▎ \u001b[0m| 413/500 [07:03<00:49,  1.74it/s, acc=1, loss=0]          "
     ]
    },
    {
     "name": "stdout",
     "output_type": "stream",
     "text": [
      "EarlyStopping counter: 202 out of 100\n"
     ]
    },
    {
     "name": "stderr",
     "output_type": "stream",
     "text": [
      "Classifier Training Epoch:  83%|\u001b[32m████████▎ \u001b[0m| 415/500 [07:05<00:49,  1.72it/s, acc=1, loss=1.45e-6]    "
     ]
    },
    {
     "name": "stdout",
     "output_type": "stream",
     "text": [
      "EarlyStopping counter: 203 out of 100\n"
     ]
    },
    {
     "name": "stderr",
     "output_type": "stream",
     "text": [
      "Classifier Training Epoch:  83%|\u001b[32m████████▎ \u001b[0m| 417/500 [07:06<00:49,  1.69it/s, acc=0.998, loss=0.0116] "
     ]
    },
    {
     "name": "stdout",
     "output_type": "stream",
     "text": [
      "EarlyStopping counter: 204 out of 100\n"
     ]
    },
    {
     "name": "stderr",
     "output_type": "stream",
     "text": [
      "Classifier Training Epoch:  84%|\u001b[32m████████▍ \u001b[0m| 419/500 [07:07<00:55,  1.47it/s, acc=1, loss=0.000258]   "
     ]
    },
    {
     "name": "stdout",
     "output_type": "stream",
     "text": [
      "EarlyStopping counter: 205 out of 100\n"
     ]
    },
    {
     "name": "stderr",
     "output_type": "stream",
     "text": [
      "Classifier Training Epoch:  84%|\u001b[32m████████▍ \u001b[0m| 421/500 [07:09<00:50,  1.56it/s, acc=0.996, loss=0.0479] "
     ]
    },
    {
     "name": "stdout",
     "output_type": "stream",
     "text": [
      "EarlyStopping counter: 206 out of 100\n"
     ]
    },
    {
     "name": "stderr",
     "output_type": "stream",
     "text": [
      "Classifier Training Epoch:  85%|\u001b[32m████████▍ \u001b[0m| 423/500 [07:10<00:49,  1.57it/s, acc=1, loss=0]          "
     ]
    },
    {
     "name": "stdout",
     "output_type": "stream",
     "text": [
      "EarlyStopping counter: 207 out of 100\n"
     ]
    },
    {
     "name": "stderr",
     "output_type": "stream",
     "text": [
      "Classifier Training Epoch:  85%|\u001b[32m████████▍ \u001b[0m| 424/500 [07:16<01:19,  1.05s/it, acc=0.987, loss=0.0274] "
     ]
    },
    {
     "name": "stdout",
     "output_type": "stream",
     "text": [
      "EarlyStopping counter: 208 out of 100\n"
     ]
    },
    {
     "name": "stderr",
     "output_type": "stream",
     "text": [
      "Classifier Training Epoch:  85%|\u001b[32m████████▌ \u001b[0m| 426/500 [07:20<02:32,  2.06s/it, acc=0.984, loss=0.0931]"
     ]
    },
    {
     "name": "stdout",
     "output_type": "stream",
     "text": [
      "EarlyStopping counter: 209 out of 100\n"
     ]
    },
    {
     "name": "stderr",
     "output_type": "stream",
     "text": [
      "Classifier Training Epoch:  86%|\u001b[32m████████▌ \u001b[0m| 428/500 [07:25<02:32,  2.11s/it, acc=0.979, loss=0.271]  "
     ]
    },
    {
     "name": "stdout",
     "output_type": "stream",
     "text": [
      "EarlyStopping counter: 210 out of 100\n"
     ]
    },
    {
     "name": "stderr",
     "output_type": "stream",
     "text": [
      "Classifier Training Epoch:  86%|\u001b[32m████████▌ \u001b[0m| 430/500 [07:34<03:27,  2.97s/it, acc=0.943, loss=0.96]   "
     ]
    },
    {
     "name": "stdout",
     "output_type": "stream",
     "text": [
      "EarlyStopping counter: 211 out of 100\n"
     ]
    },
    {
     "name": "stderr",
     "output_type": "stream",
     "text": [
      "Classifier Training Epoch:  86%|\u001b[32m████████▋ \u001b[0m| 432/500 [07:39<03:44,  3.30s/it, acc=0.988, loss=0.219]  "
     ]
    },
    {
     "name": "stdout",
     "output_type": "stream",
     "text": [
      "EarlyStopping counter: 212 out of 100\n"
     ]
    },
    {
     "name": "stderr",
     "output_type": "stream",
     "text": [
      "Classifier Training Epoch:  87%|\u001b[32m████████▋ \u001b[0m| 434/500 [07:40<02:10,  1.97s/it, acc=1, loss=1.16e-9]    "
     ]
    },
    {
     "name": "stdout",
     "output_type": "stream",
     "text": [
      "EarlyStopping counter: 213 out of 100\n"
     ]
    },
    {
     "name": "stderr",
     "output_type": "stream",
     "text": [
      "Classifier Training Epoch:  87%|\u001b[32m████████▋ \u001b[0m| 436/500 [07:42<01:21,  1.27s/it, acc=0.998, loss=0.0234] "
     ]
    },
    {
     "name": "stdout",
     "output_type": "stream",
     "text": [
      "EarlyStopping counter: 214 out of 100\n"
     ]
    },
    {
     "name": "stderr",
     "output_type": "stream",
     "text": [
      "Classifier Training Epoch:  88%|\u001b[32m████████▊ \u001b[0m| 438/500 [07:43<01:03,  1.03s/it, acc=1, loss=0]          "
     ]
    },
    {
     "name": "stdout",
     "output_type": "stream",
     "text": [
      "EarlyStopping counter: 215 out of 100\n"
     ]
    },
    {
     "name": "stderr",
     "output_type": "stream",
     "text": [
      "Classifier Training Epoch:  88%|\u001b[32m████████▊ \u001b[0m| 440/500 [07:45<00:55,  1.09it/s, acc=1, loss=0]          "
     ]
    },
    {
     "name": "stdout",
     "output_type": "stream",
     "text": [
      "EarlyStopping counter: 216 out of 100\n"
     ]
    },
    {
     "name": "stderr",
     "output_type": "stream",
     "text": [
      "Classifier Training Epoch:  88%|\u001b[32m████████▊ \u001b[0m| 442/500 [07:47<00:52,  1.10it/s, acc=0.998, loss=0.00937]"
     ]
    },
    {
     "name": "stdout",
     "output_type": "stream",
     "text": [
      "EarlyStopping counter: 217 out of 100\n"
     ]
    },
    {
     "name": "stderr",
     "output_type": "stream",
     "text": [
      "Classifier Training Epoch:  89%|\u001b[32m████████▉ \u001b[0m| 444/500 [07:48<00:45,  1.23it/s, acc=1, loss=2.75e-6]    "
     ]
    },
    {
     "name": "stdout",
     "output_type": "stream",
     "text": [
      "EarlyStopping counter: 218 out of 100\n"
     ]
    },
    {
     "name": "stderr",
     "output_type": "stream",
     "text": [
      "Classifier Training Epoch:  89%|\u001b[32m████████▉ \u001b[0m| 446/500 [07:50<00:42,  1.27it/s, acc=0.998, loss=0.0269] "
     ]
    },
    {
     "name": "stdout",
     "output_type": "stream",
     "text": [
      "EarlyStopping counter: 219 out of 100\n"
     ]
    },
    {
     "name": "stderr",
     "output_type": "stream",
     "text": [
      "Classifier Training Epoch:  90%|\u001b[32m████████▉ \u001b[0m| 448/500 [07:51<00:40,  1.28it/s, acc=1, loss=0]          "
     ]
    },
    {
     "name": "stdout",
     "output_type": "stream",
     "text": [
      "EarlyStopping counter: 220 out of 100\n"
     ]
    },
    {
     "name": "stderr",
     "output_type": "stream",
     "text": [
      "Classifier Training Epoch:  90%|\u001b[32m████████▉ \u001b[0m| 449/500 [07:53<00:46,  1.10it/s, acc=0.973, loss=0.218]  "
     ]
    },
    {
     "name": "stdout",
     "output_type": "stream",
     "text": [
      "EarlyStopping counter: 221 out of 100\n"
     ]
    },
    {
     "name": "stderr",
     "output_type": "stream",
     "text": [
      "Classifier Training Epoch:  90%|\u001b[32m█████████ \u001b[0m| 451/500 [07:55<00:39,  1.24it/s, acc=0.988, loss=0.108]  "
     ]
    },
    {
     "name": "stdout",
     "output_type": "stream",
     "text": [
      "EarlyStopping counter: 222 out of 100\n"
     ]
    },
    {
     "name": "stderr",
     "output_type": "stream",
     "text": [
      "Classifier Training Epoch:  91%|\u001b[32m█████████ \u001b[0m| 453/500 [07:56<00:35,  1.33it/s, acc=0.975, loss=0.545]  "
     ]
    },
    {
     "name": "stdout",
     "output_type": "stream",
     "text": [
      "EarlyStopping counter: 223 out of 100\n"
     ]
    },
    {
     "name": "stderr",
     "output_type": "stream",
     "text": [
      "Classifier Training Epoch:  91%|\u001b[32m█████████ \u001b[0m| 455/500 [07:57<00:32,  1.37it/s, acc=0.941, loss=1.02]   "
     ]
    },
    {
     "name": "stdout",
     "output_type": "stream",
     "text": [
      "EarlyStopping counter: 224 out of 100\n"
     ]
    },
    {
     "name": "stderr",
     "output_type": "stream",
     "text": [
      "Classifier Training Epoch:  91%|\u001b[32m█████████▏\u001b[0m| 457/500 [07:59<00:29,  1.47it/s, acc=0.986, loss=0.0993] "
     ]
    },
    {
     "name": "stdout",
     "output_type": "stream",
     "text": [
      "EarlyStopping counter: 225 out of 100\n"
     ]
    },
    {
     "name": "stderr",
     "output_type": "stream",
     "text": [
      "Classifier Training Epoch:  92%|\u001b[32m█████████▏\u001b[0m| 459/500 [08:00<00:27,  1.47it/s, acc=0.998, loss=0.0866] "
     ]
    },
    {
     "name": "stdout",
     "output_type": "stream",
     "text": [
      "EarlyStopping counter: 226 out of 100\n"
     ]
    },
    {
     "name": "stderr",
     "output_type": "stream",
     "text": [
      "Classifier Training Epoch:  92%|\u001b[32m█████████▏\u001b[0m| 461/500 [08:01<00:26,  1.49it/s, acc=1, loss=0]          "
     ]
    },
    {
     "name": "stdout",
     "output_type": "stream",
     "text": [
      "EarlyStopping counter: 227 out of 100\n"
     ]
    },
    {
     "name": "stderr",
     "output_type": "stream",
     "text": [
      "Classifier Training Epoch:  93%|\u001b[32m█████████▎\u001b[0m| 463/500 [08:03<00:23,  1.59it/s, acc=1, loss=0]          "
     ]
    },
    {
     "name": "stdout",
     "output_type": "stream",
     "text": [
      "EarlyStopping counter: 228 out of 100\n"
     ]
    },
    {
     "name": "stderr",
     "output_type": "stream",
     "text": [
      "Classifier Training Epoch:  93%|\u001b[32m█████████▎\u001b[0m| 465/500 [08:04<00:21,  1.61it/s, acc=1, loss=0]          "
     ]
    },
    {
     "name": "stdout",
     "output_type": "stream",
     "text": [
      "EarlyStopping counter: 229 out of 100\n"
     ]
    },
    {
     "name": "stderr",
     "output_type": "stream",
     "text": [
      "Classifier Training Epoch:  93%|\u001b[32m█████████▎\u001b[0m| 467/500 [08:05<00:19,  1.66it/s, acc=1, loss=0]          "
     ]
    },
    {
     "name": "stdout",
     "output_type": "stream",
     "text": [
      "EarlyStopping counter: 230 out of 100\n"
     ]
    },
    {
     "name": "stderr",
     "output_type": "stream",
     "text": [
      "Classifier Training Epoch:  94%|\u001b[32m█████████▍\u001b[0m| 469/500 [08:06<00:18,  1.71it/s, acc=1, loss=0]          "
     ]
    },
    {
     "name": "stdout",
     "output_type": "stream",
     "text": [
      "EarlyStopping counter: 231 out of 100\n"
     ]
    },
    {
     "name": "stderr",
     "output_type": "stream",
     "text": [
      "Classifier Training Epoch:  94%|\u001b[32m█████████▍\u001b[0m| 471/500 [08:07<00:17,  1.68it/s, acc=1, loss=0.000225]   "
     ]
    },
    {
     "name": "stdout",
     "output_type": "stream",
     "text": [
      "EarlyStopping counter: 232 out of 100\n"
     ]
    },
    {
     "name": "stderr",
     "output_type": "stream",
     "text": [
      "Classifier Training Epoch:  95%|\u001b[32m█████████▍\u001b[0m| 473/500 [08:09<00:16,  1.65it/s, acc=1, loss=0]          "
     ]
    },
    {
     "name": "stdout",
     "output_type": "stream",
     "text": [
      "EarlyStopping counter: 233 out of 100\n"
     ]
    },
    {
     "name": "stderr",
     "output_type": "stream",
     "text": [
      "Classifier Training Epoch:  95%|\u001b[32m█████████▍\u001b[0m| 474/500 [08:10<00:16,  1.57it/s, acc=0.987, loss=0.11]   "
     ]
    },
    {
     "name": "stdout",
     "output_type": "stream",
     "text": [
      "EarlyStopping counter: 234 out of 100\n"
     ]
    },
    {
     "name": "stderr",
     "output_type": "stream",
     "text": [
      "Classifier Training Epoch:  95%|\u001b[32m█████████▌\u001b[0m| 476/500 [08:11<00:14,  1.64it/s, acc=0.975, loss=0.34]   "
     ]
    },
    {
     "name": "stdout",
     "output_type": "stream",
     "text": [
      "EarlyStopping counter: 235 out of 100\n"
     ]
    },
    {
     "name": "stderr",
     "output_type": "stream",
     "text": [
      "Classifier Training Epoch:  96%|\u001b[32m█████████▌\u001b[0m| 478/500 [08:12<00:14,  1.49it/s, acc=0.965, loss=0.342]  "
     ]
    },
    {
     "name": "stdout",
     "output_type": "stream",
     "text": [
      "EarlyStopping counter: 236 out of 100\n"
     ]
    },
    {
     "name": "stderr",
     "output_type": "stream",
     "text": [
      "Classifier Training Epoch:  96%|\u001b[32m█████████▌\u001b[0m| 480/500 [08:14<00:12,  1.57it/s, acc=0.953, loss=0.691]  "
     ]
    },
    {
     "name": "stdout",
     "output_type": "stream",
     "text": [
      "EarlyStopping counter: 237 out of 100\n"
     ]
    },
    {
     "name": "stderr",
     "output_type": "stream",
     "text": [
      "Classifier Training Epoch:  96%|\u001b[32m█████████▋\u001b[0m| 482/500 [08:15<00:11,  1.58it/s, acc=0.984, loss=0.137]  "
     ]
    },
    {
     "name": "stdout",
     "output_type": "stream",
     "text": [
      "EarlyStopping counter: 238 out of 100\n"
     ]
    },
    {
     "name": "stderr",
     "output_type": "stream",
     "text": [
      "Classifier Training Epoch:  97%|\u001b[32m█████████▋\u001b[0m| 484/500 [08:18<00:15,  1.04it/s, acc=0.998, loss=0.0165] "
     ]
    },
    {
     "name": "stdout",
     "output_type": "stream",
     "text": [
      "EarlyStopping counter: 239 out of 100\n"
     ]
    },
    {
     "name": "stderr",
     "output_type": "stream",
     "text": [
      "Classifier Training Epoch:  97%|\u001b[32m█████████▋\u001b[0m| 486/500 [08:22<00:21,  1.52s/it, acc=1, loss=0]          "
     ]
    },
    {
     "name": "stdout",
     "output_type": "stream",
     "text": [
      "EarlyStopping counter: 240 out of 100\n"
     ]
    },
    {
     "name": "stderr",
     "output_type": "stream",
     "text": [
      "Classifier Training Epoch:  98%|\u001b[32m█████████▊\u001b[0m| 488/500 [08:26<00:21,  1.77s/it, acc=1, loss=0]          "
     ]
    },
    {
     "name": "stdout",
     "output_type": "stream",
     "text": [
      "EarlyStopping counter: 241 out of 100\n"
     ]
    },
    {
     "name": "stderr",
     "output_type": "stream",
     "text": [
      "Classifier Training Epoch:  98%|\u001b[32m█████████▊\u001b[0m| 490/500 [08:30<00:17,  1.80s/it, acc=1, loss=0]          "
     ]
    },
    {
     "name": "stdout",
     "output_type": "stream",
     "text": [
      "EarlyStopping counter: 242 out of 100\n"
     ]
    },
    {
     "name": "stderr",
     "output_type": "stream",
     "text": [
      "Classifier Training Epoch:  98%|\u001b[32m█████████▊\u001b[0m| 492/500 [08:33<00:13,  1.74s/it, acc=0.998, loss=0.006]  "
     ]
    },
    {
     "name": "stdout",
     "output_type": "stream",
     "text": [
      "EarlyStopping counter: 243 out of 100\n"
     ]
    },
    {
     "name": "stderr",
     "output_type": "stream",
     "text": [
      "Classifier Training Epoch:  99%|\u001b[32m█████████▉\u001b[0m| 494/500 [08:37<00:10,  1.75s/it, acc=0.998, loss=0.0674] "
     ]
    },
    {
     "name": "stdout",
     "output_type": "stream",
     "text": [
      "EarlyStopping counter: 244 out of 100\n"
     ]
    },
    {
     "name": "stderr",
     "output_type": "stream",
     "text": [
      "Classifier Training Epoch:  99%|\u001b[32m█████████▉\u001b[0m| 496/500 [08:40<00:06,  1.72s/it, acc=0.998, loss=0.00981]"
     ]
    },
    {
     "name": "stdout",
     "output_type": "stream",
     "text": [
      "EarlyStopping counter: 245 out of 100\n"
     ]
    },
    {
     "name": "stderr",
     "output_type": "stream",
     "text": [
      "Classifier Training Epoch: 100%|\u001b[32m█████████▉\u001b[0m| 498/500 [08:46<00:04,  2.20s/it, acc=1, loss=0]          "
     ]
    },
    {
     "name": "stdout",
     "output_type": "stream",
     "text": [
      "EarlyStopping counter: 246 out of 100\n"
     ]
    },
    {
     "name": "stderr",
     "output_type": "stream",
     "text": [
      "Classifier Training Epoch: 100%|\u001b[32m█████████▉\u001b[0m| 499/500 [08:51<00:02,  2.63s/it, acc=0.973, loss=0.263]  "
     ]
    },
    {
     "name": "stdout",
     "output_type": "stream",
     "text": [
      "EarlyStopping counter: 247 out of 100\n"
     ]
    },
    {
     "name": "stderr",
     "output_type": "stream",
     "text": [
      "Classifier Training Epoch: 100%|\u001b[32m██████████\u001b[0m| 500/500 [08:51<00:00,  1.06s/it, acc=0.973, loss=0.263]\n"
     ]
    },
    {
     "name": "stdout",
     "output_type": "stream",
     "text": [
      "13024\n"
     ]
    },
    {
     "name": "stderr",
     "output_type": "stream",
     "text": [
      "Classifier Training Epoch:  30%|\u001b[32m███       \u001b[0m| 151/500 [02:17<03:24,  1.71it/s, acc=0.471, loss=14]     "
     ]
    },
    {
     "name": "stdout",
     "output_type": "stream",
     "text": [
      "EarlyStopping counter: 1 out of 100\n"
     ]
    },
    {
     "name": "stderr",
     "output_type": "stream",
     "text": [
      "Classifier Training Epoch:  31%|\u001b[32m███       \u001b[0m| 153/500 [02:18<03:28,  1.67it/s, acc=0.549, loss=9.9]   "
     ]
    },
    {
     "name": "stdout",
     "output_type": "stream",
     "text": [
      "EarlyStopping counter: 2 out of 100\n"
     ]
    },
    {
     "name": "stderr",
     "output_type": "stream",
     "text": [
      "Classifier Training Epoch:  35%|\u001b[32m███▌      \u001b[0m| 176/500 [02:36<04:57,  1.09it/s, acc=0.449, loss=12.3]   "
     ]
    },
    {
     "name": "stdout",
     "output_type": "stream",
     "text": [
      "EarlyStopping counter: 1 out of 100\n"
     ]
    },
    {
     "name": "stderr",
     "output_type": "stream",
     "text": [
      "Classifier Training Epoch:  36%|\u001b[32m███▌      \u001b[0m| 178/500 [02:40<08:11,  1.53s/it, acc=0.551, loss=9.43] "
     ]
    },
    {
     "name": "stdout",
     "output_type": "stream",
     "text": [
      "EarlyStopping counter: 2 out of 100\n"
     ]
    },
    {
     "name": "stderr",
     "output_type": "stream",
     "text": [
      "Classifier Training Epoch:  36%|\u001b[32m███▌      \u001b[0m| 180/500 [02:43<09:05,  1.71s/it, acc=0.627, loss=7.65] "
     ]
    },
    {
     "name": "stdout",
     "output_type": "stream",
     "text": [
      "EarlyStopping counter: 3 out of 100\n"
     ]
    },
    {
     "name": "stderr",
     "output_type": "stream",
     "text": [
      "Classifier Training Epoch:  40%|\u001b[32m████      \u001b[0m| 201/500 [03:11<03:08,  1.59it/s, acc=0.422, loss=14.2]   "
     ]
    },
    {
     "name": "stdout",
     "output_type": "stream",
     "text": [
      "EarlyStopping counter: 1 out of 100\n"
     ]
    },
    {
     "name": "stderr",
     "output_type": "stream",
     "text": [
      "Classifier Training Epoch:  41%|\u001b[32m████      \u001b[0m| 203/500 [03:12<03:10,  1.56it/s, acc=0.494, loss=9.43]  "
     ]
    },
    {
     "name": "stdout",
     "output_type": "stream",
     "text": [
      "EarlyStopping counter: 2 out of 100\n"
     ]
    },
    {
     "name": "stderr",
     "output_type": "stream",
     "text": [
      "Classifier Training Epoch:  41%|\u001b[32m████      \u001b[0m| 205/500 [03:14<02:58,  1.65it/s, acc=0.641, loss=6.71]  "
     ]
    },
    {
     "name": "stdout",
     "output_type": "stream",
     "text": [
      "EarlyStopping counter: 3 out of 100\n"
     ]
    },
    {
     "name": "stderr",
     "output_type": "stream",
     "text": [
      "Classifier Training Epoch:  41%|\u001b[32m████▏     \u001b[0m| 207/500 [03:15<03:01,  1.61it/s, acc=0.695, loss=4.86]  "
     ]
    },
    {
     "name": "stdout",
     "output_type": "stream",
     "text": [
      "EarlyStopping counter: 4 out of 100\n"
     ]
    },
    {
     "name": "stderr",
     "output_type": "stream",
     "text": [
      "Classifier Training Epoch:  45%|\u001b[32m████▌     \u001b[0m| 226/500 [03:40<03:13,  1.42it/s, acc=0.467, loss=10.6]   "
     ]
    },
    {
     "name": "stdout",
     "output_type": "stream",
     "text": [
      "EarlyStopping counter: 1 out of 100\n"
     ]
    },
    {
     "name": "stderr",
     "output_type": "stream",
     "text": [
      "Classifier Training Epoch:  46%|\u001b[32m████▌     \u001b[0m| 228/500 [03:41<02:51,  1.58it/s, acc=0.465, loss=10.7] "
     ]
    },
    {
     "name": "stdout",
     "output_type": "stream",
     "text": [
      "EarlyStopping counter: 2 out of 100\n"
     ]
    },
    {
     "name": "stderr",
     "output_type": "stream",
     "text": [
      "Classifier Training Epoch:  46%|\u001b[32m████▌     \u001b[0m| 230/500 [03:43<02:48,  1.60it/s, acc=0.68, loss=5.44]  "
     ]
    },
    {
     "name": "stdout",
     "output_type": "stream",
     "text": [
      "EarlyStopping counter: 3 out of 100\n"
     ]
    },
    {
     "name": "stderr",
     "output_type": "stream",
     "text": [
      "Classifier Training Epoch:  46%|\u001b[32m████▋     \u001b[0m| 232/500 [03:44<02:38,  1.69it/s, acc=0.717, loss=3.81] "
     ]
    },
    {
     "name": "stdout",
     "output_type": "stream",
     "text": [
      "EarlyStopping counter: 4 out of 100\n"
     ]
    },
    {
     "name": "stderr",
     "output_type": "stream",
     "text": [
      "Classifier Training Epoch:  47%|\u001b[32m████▋     \u001b[0m| 234/500 [03:45<02:33,  1.73it/s, acc=0.717, loss=3.8]  "
     ]
    },
    {
     "name": "stdout",
     "output_type": "stream",
     "text": [
      "EarlyStopping counter: 5 out of 100\n"
     ]
    },
    {
     "name": "stderr",
     "output_type": "stream",
     "text": [
      "Classifier Training Epoch:  48%|\u001b[32m████▊     \u001b[0m| 242/500 [03:49<02:28,  1.74it/s, acc=0.467, loss=10.1] "
     ]
    },
    {
     "name": "stdout",
     "output_type": "stream",
     "text": [
      "EarlyStopping counter: 1 out of 100\n"
     ]
    },
    {
     "name": "stderr",
     "output_type": "stream",
     "text": [
      "Classifier Training Epoch:  50%|\u001b[32m████▉     \u001b[0m| 248/500 [03:53<02:22,  1.77it/s, acc=0.939, loss=0.675]"
     ]
    },
    {
     "name": "stdout",
     "output_type": "stream",
     "text": [
      "EarlyStopping counter: 1 out of 100\n"
     ]
    },
    {
     "name": "stderr",
     "output_type": "stream",
     "text": [
      "Classifier Training Epoch:  50%|\u001b[32m████▉     \u001b[0m| 249/500 [03:54<02:36,  1.61it/s, acc=0.214, loss=23.1]   "
     ]
    },
    {
     "name": "stdout",
     "output_type": "stream",
     "text": [
      "EarlyStopping counter: 2 out of 100\n"
     ]
    },
    {
     "name": "stderr",
     "output_type": "stream",
     "text": [
      "Classifier Training Epoch:  50%|\u001b[32m█████     \u001b[0m| 251/500 [03:55<02:28,  1.67it/s, acc=0.465, loss=10.6] "
     ]
    },
    {
     "name": "stdout",
     "output_type": "stream",
     "text": [
      "EarlyStopping counter: 3 out of 100\n"
     ]
    },
    {
     "name": "stderr",
     "output_type": "stream",
     "text": [
      "Classifier Training Epoch:  51%|\u001b[32m█████     \u001b[0m| 253/500 [03:57<02:38,  1.55it/s, acc=0.443, loss=9.82] "
     ]
    },
    {
     "name": "stdout",
     "output_type": "stream",
     "text": [
      "EarlyStopping counter: 4 out of 100\n"
     ]
    },
    {
     "name": "stderr",
     "output_type": "stream",
     "text": [
      "Classifier Training Epoch:  51%|\u001b[32m█████     \u001b[0m| 255/500 [03:58<02:32,  1.61it/s, acc=0.75, loss=4.16]  "
     ]
    },
    {
     "name": "stdout",
     "output_type": "stream",
     "text": [
      "EarlyStopping counter: 5 out of 100\n"
     ]
    },
    {
     "name": "stderr",
     "output_type": "stream",
     "text": [
      "Classifier Training Epoch:  51%|\u001b[32m█████▏    \u001b[0m| 257/500 [03:59<02:25,  1.66it/s, acc=0.771, loss=2.74] "
     ]
    },
    {
     "name": "stdout",
     "output_type": "stream",
     "text": [
      "EarlyStopping counter: 6 out of 100\n"
     ]
    },
    {
     "name": "stderr",
     "output_type": "stream",
     "text": [
      "Classifier Training Epoch:  52%|\u001b[32m█████▏    \u001b[0m| 259/500 [04:00<02:20,  1.72it/s, acc=0.734, loss=3.68] "
     ]
    },
    {
     "name": "stdout",
     "output_type": "stream",
     "text": [
      "EarlyStopping counter: 7 out of 100\n"
     ]
    },
    {
     "name": "stderr",
     "output_type": "stream",
     "text": [
      "Classifier Training Epoch:  52%|\u001b[32m█████▏    \u001b[0m| 261/500 [04:01<02:19,  1.71it/s, acc=0.68, loss=4.94]  "
     ]
    },
    {
     "name": "stdout",
     "output_type": "stream",
     "text": [
      "EarlyStopping counter: 8 out of 100\n"
     ]
    },
    {
     "name": "stderr",
     "output_type": "stream",
     "text": [
      "Classifier Training Epoch:  54%|\u001b[32m█████▍    \u001b[0m| 271/500 [04:08<02:16,  1.68it/s, acc=0.895, loss=1.1]  "
     ]
    },
    {
     "name": "stdout",
     "output_type": "stream",
     "text": [
      "EarlyStopping counter: 1 out of 100\n"
     ]
    },
    {
     "name": "stderr",
     "output_type": "stream",
     "text": [
      "Classifier Training Epoch:  55%|\u001b[32m█████▍    \u001b[0m| 273/500 [04:09<02:14,  1.69it/s, acc=0.932, loss=0.852]"
     ]
    },
    {
     "name": "stdout",
     "output_type": "stream",
     "text": [
      "EarlyStopping counter: 2 out of 100\n"
     ]
    },
    {
     "name": "stderr",
     "output_type": "stream",
     "text": [
      "Classifier Training Epoch:  55%|\u001b[32m█████▍    \u001b[0m| 274/500 [04:13<02:35,  1.45it/s, acc=0.277, loss=19.4]   "
     ]
    },
    {
     "name": "stdout",
     "output_type": "stream",
     "text": [
      "EarlyStopping counter: 3 out of 100\n"
     ]
    },
    {
     "name": "stderr",
     "output_type": "stream",
     "text": [
      "Classifier Training Epoch:  55%|\u001b[32m█████▌    \u001b[0m| 276/500 [04:24<10:19,  2.76s/it, acc=0.504, loss=9.46] "
     ]
    },
    {
     "name": "stdout",
     "output_type": "stream",
     "text": [
      "EarlyStopping counter: 4 out of 100\n"
     ]
    },
    {
     "name": "stderr",
     "output_type": "stream",
     "text": [
      "Classifier Training Epoch:  56%|\u001b[32m█████▌    \u001b[0m| 278/500 [04:38<17:21,  4.69s/it, acc=0.43, loss=9.62]  "
     ]
    },
    {
     "name": "stdout",
     "output_type": "stream",
     "text": [
      "EarlyStopping counter: 5 out of 100\n"
     ]
    },
    {
     "name": "stderr",
     "output_type": "stream",
     "text": [
      "Classifier Training Epoch:  56%|\u001b[32m█████▌    \u001b[0m| 280/500 [04:44<16:11,  4.42s/it, acc=0.744, loss=3.4]  "
     ]
    },
    {
     "name": "stdout",
     "output_type": "stream",
     "text": [
      "EarlyStopping counter: 6 out of 100\n"
     ]
    },
    {
     "name": "stderr",
     "output_type": "stream",
     "text": [
      "Classifier Training Epoch:  56%|\u001b[32m█████▋    \u001b[0m| 282/500 [04:48<12:01,  3.31s/it, acc=0.754, loss=2.75] "
     ]
    },
    {
     "name": "stdout",
     "output_type": "stream",
     "text": [
      "EarlyStopping counter: 7 out of 100\n"
     ]
    },
    {
     "name": "stderr",
     "output_type": "stream",
     "text": [
      "Classifier Training Epoch:  57%|\u001b[32m█████▋    \u001b[0m| 284/500 [04:53<09:47,  2.72s/it, acc=0.719, loss=3.91] "
     ]
    },
    {
     "name": "stdout",
     "output_type": "stream",
     "text": [
      "EarlyStopping counter: 8 out of 100\n"
     ]
    },
    {
     "name": "stderr",
     "output_type": "stream",
     "text": [
      "Classifier Training Epoch:  57%|\u001b[32m█████▋    \u001b[0m| 286/500 [04:57<09:05,  2.55s/it, acc=0.676, loss=4.53] "
     ]
    },
    {
     "name": "stdout",
     "output_type": "stream",
     "text": [
      "EarlyStopping counter: 9 out of 100\n"
     ]
    },
    {
     "name": "stderr",
     "output_type": "stream",
     "text": [
      "Classifier Training Epoch:  58%|\u001b[32m█████▊    \u001b[0m| 290/500 [05:07<08:45,  2.50s/it, acc=0.805, loss=2.89] "
     ]
    },
    {
     "name": "stdout",
     "output_type": "stream",
     "text": [
      "EarlyStopping counter: 1 out of 100\n"
     ]
    },
    {
     "name": "stderr",
     "output_type": "stream",
     "text": [
      "Classifier Training Epoch:  59%|\u001b[32m█████▉    \u001b[0m| 296/500 [05:12<03:02,  1.12it/s, acc=0.875, loss=1.28] "
     ]
    },
    {
     "name": "stdout",
     "output_type": "stream",
     "text": [
      "EarlyStopping counter: 1 out of 100\n"
     ]
    },
    {
     "name": "stderr",
     "output_type": "stream",
     "text": [
      "Classifier Training Epoch:  60%|\u001b[32m█████▉    \u001b[0m| 298/500 [05:13<02:16,  1.48it/s, acc=0.908, loss=0.967]"
     ]
    },
    {
     "name": "stdout",
     "output_type": "stream",
     "text": [
      "EarlyStopping counter: 2 out of 100\n"
     ]
    },
    {
     "name": "stderr",
     "output_type": "stream",
     "text": [
      "Classifier Training Epoch:  60%|\u001b[32m█████▉    \u001b[0m| 299/500 [05:15<02:17,  1.46it/s, acc=0.317, loss=15.8]   "
     ]
    },
    {
     "name": "stdout",
     "output_type": "stream",
     "text": [
      "EarlyStopping counter: 3 out of 100\n"
     ]
    },
    {
     "name": "stderr",
     "output_type": "stream",
     "text": [
      "Classifier Training Epoch:  60%|\u001b[32m██████    \u001b[0m| 301/500 [05:16<02:04,  1.60it/s, acc=0.449, loss=10.5] "
     ]
    },
    {
     "name": "stdout",
     "output_type": "stream",
     "text": [
      "EarlyStopping counter: 4 out of 100\n"
     ]
    },
    {
     "name": "stderr",
     "output_type": "stream",
     "text": [
      "Classifier Training Epoch:  61%|\u001b[32m██████    \u001b[0m| 303/500 [05:17<01:54,  1.72it/s, acc=0.426, loss=10.4] "
     ]
    },
    {
     "name": "stdout",
     "output_type": "stream",
     "text": [
      "EarlyStopping counter: 5 out of 100\n"
     ]
    },
    {
     "name": "stderr",
     "output_type": "stream",
     "text": [
      "Classifier Training Epoch:  61%|\u001b[32m██████    \u001b[0m| 305/500 [05:18<01:51,  1.74it/s, acc=0.787, loss=3.17] "
     ]
    },
    {
     "name": "stdout",
     "output_type": "stream",
     "text": [
      "EarlyStopping counter: 6 out of 100\n"
     ]
    },
    {
     "name": "stderr",
     "output_type": "stream",
     "text": [
      "Classifier Training Epoch:  61%|\u001b[32m██████▏   \u001b[0m| 307/500 [05:19<01:51,  1.74it/s, acc=0.779, loss=2.83] "
     ]
    },
    {
     "name": "stdout",
     "output_type": "stream",
     "text": [
      "EarlyStopping counter: 7 out of 100\n"
     ]
    },
    {
     "name": "stderr",
     "output_type": "stream",
     "text": [
      "Classifier Training Epoch:  62%|\u001b[32m██████▏   \u001b[0m| 309/500 [05:20<01:43,  1.84it/s, acc=0.719, loss=3.47] "
     ]
    },
    {
     "name": "stdout",
     "output_type": "stream",
     "text": [
      "EarlyStopping counter: 8 out of 100\n"
     ]
    },
    {
     "name": "stderr",
     "output_type": "stream",
     "text": [
      "Classifier Training Epoch:  62%|\u001b[32m██████▏   \u001b[0m| 311/500 [05:21<01:43,  1.83it/s, acc=0.701, loss=3.57] "
     ]
    },
    {
     "name": "stdout",
     "output_type": "stream",
     "text": [
      "EarlyStopping counter: 9 out of 100\n"
     ]
    },
    {
     "name": "stderr",
     "output_type": "stream",
     "text": [
      "Classifier Training Epoch:  63%|\u001b[32m██████▎   \u001b[0m| 313/500 [05:22<01:40,  1.86it/s, acc=0.719, loss=3.88] "
     ]
    },
    {
     "name": "stdout",
     "output_type": "stream",
     "text": [
      "EarlyStopping counter: 10 out of 100\n"
     ]
    },
    {
     "name": "stderr",
     "output_type": "stream",
     "text": [
      "Classifier Training Epoch:  63%|\u001b[32m██████▎   \u001b[0m| 317/500 [05:24<01:36,  1.90it/s, acc=0.48, loss=9.31]  "
     ]
    },
    {
     "name": "stdout",
     "output_type": "stream",
     "text": [
      "EarlyStopping counter: 1 out of 100\n"
     ]
    },
    {
     "name": "stderr",
     "output_type": "stream",
     "text": [
      "Classifier Training Epoch:  64%|\u001b[32m██████▍   \u001b[0m| 319/500 [05:26<01:37,  1.85it/s, acc=0.852, loss=1.74] "
     ]
    },
    {
     "name": "stdout",
     "output_type": "stream",
     "text": [
      "EarlyStopping counter: 2 out of 100\n"
     ]
    },
    {
     "name": "stderr",
     "output_type": "stream",
     "text": [
      "Classifier Training Epoch:  64%|\u001b[32m██████▍   \u001b[0m| 321/500 [05:27<01:33,  1.92it/s, acc=0.906, loss=1.09] "
     ]
    },
    {
     "name": "stdout",
     "output_type": "stream",
     "text": [
      "EarlyStopping counter: 3 out of 100\n"
     ]
    },
    {
     "name": "stderr",
     "output_type": "stream",
     "text": [
      "Classifier Training Epoch:  65%|\u001b[32m██████▍   \u001b[0m| 323/500 [05:28<01:32,  1.90it/s, acc=0.916, loss=0.659]"
     ]
    },
    {
     "name": "stdout",
     "output_type": "stream",
     "text": [
      "EarlyStopping counter: 4 out of 100\n"
     ]
    },
    {
     "name": "stderr",
     "output_type": "stream",
     "text": [
      "Classifier Training Epoch:  65%|\u001b[32m██████▍   \u001b[0m| 324/500 [05:29<01:40,  1.76it/s, acc=0.321, loss=13.7]   "
     ]
    },
    {
     "name": "stdout",
     "output_type": "stream",
     "text": [
      "EarlyStopping counter: 5 out of 100\n"
     ]
    },
    {
     "name": "stderr",
     "output_type": "stream",
     "text": [
      "Classifier Training Epoch:  65%|\u001b[32m██████▌   \u001b[0m| 326/500 [05:30<01:37,  1.78it/s, acc=0.445, loss=9.53] "
     ]
    },
    {
     "name": "stdout",
     "output_type": "stream",
     "text": [
      "EarlyStopping counter: 6 out of 100\n"
     ]
    },
    {
     "name": "stderr",
     "output_type": "stream",
     "text": [
      "Classifier Training Epoch:  66%|\u001b[32m██████▌   \u001b[0m| 328/500 [05:31<01:41,  1.70it/s, acc=0.459, loss=8.42] "
     ]
    },
    {
     "name": "stdout",
     "output_type": "stream",
     "text": [
      "EarlyStopping counter: 7 out of 100\n"
     ]
    },
    {
     "name": "stderr",
     "output_type": "stream",
     "text": [
      "Classifier Training Epoch:  66%|\u001b[32m██████▌   \u001b[0m| 330/500 [05:32<01:34,  1.80it/s, acc=0.781, loss=3.35] "
     ]
    },
    {
     "name": "stdout",
     "output_type": "stream",
     "text": [
      "EarlyStopping counter: 8 out of 100\n"
     ]
    },
    {
     "name": "stderr",
     "output_type": "stream",
     "text": [
      "Classifier Training Epoch:  66%|\u001b[32m██████▋   \u001b[0m| 332/500 [05:33<01:34,  1.78it/s, acc=0.816, loss=2.05] "
     ]
    },
    {
     "name": "stdout",
     "output_type": "stream",
     "text": [
      "EarlyStopping counter: 9 out of 100\n"
     ]
    },
    {
     "name": "stderr",
     "output_type": "stream",
     "text": [
      "Classifier Training Epoch:  67%|\u001b[32m██████▋   \u001b[0m| 334/500 [05:34<01:33,  1.77it/s, acc=0.734, loss=3.15] "
     ]
    },
    {
     "name": "stdout",
     "output_type": "stream",
     "text": [
      "EarlyStopping counter: 10 out of 100\n"
     ]
    },
    {
     "name": "stderr",
     "output_type": "stream",
     "text": [
      "Classifier Training Epoch:  67%|\u001b[32m██████▋   \u001b[0m| 336/500 [05:36<01:30,  1.82it/s, acc=0.668, loss=4.03] "
     ]
    },
    {
     "name": "stdout",
     "output_type": "stream",
     "text": [
      "EarlyStopping counter: 11 out of 100\n"
     ]
    },
    {
     "name": "stderr",
     "output_type": "stream",
     "text": [
      "Classifier Training Epoch:  69%|\u001b[32m██████▉   \u001b[0m| 344/500 [05:40<01:33,  1.66it/s, acc=0.84, loss=1.88]  "
     ]
    },
    {
     "name": "stdout",
     "output_type": "stream",
     "text": [
      "EarlyStopping counter: 1 out of 100\n"
     ]
    },
    {
     "name": "stderr",
     "output_type": "stream",
     "text": [
      "Classifier Training Epoch:  69%|\u001b[32m██████▉   \u001b[0m| 346/500 [05:41<01:33,  1.65it/s, acc=0.898, loss=1.16] "
     ]
    },
    {
     "name": "stdout",
     "output_type": "stream",
     "text": [
      "EarlyStopping counter: 2 out of 100\n"
     ]
    },
    {
     "name": "stderr",
     "output_type": "stream",
     "text": [
      "Classifier Training Epoch:  70%|\u001b[32m██████▉   \u001b[0m| 348/500 [05:43<01:30,  1.67it/s, acc=0.928, loss=0.719] "
     ]
    },
    {
     "name": "stdout",
     "output_type": "stream",
     "text": [
      "EarlyStopping counter: 3 out of 100\n"
     ]
    },
    {
     "name": "stderr",
     "output_type": "stream",
     "text": [
      "Classifier Training Epoch:  70%|\u001b[32m██████▉   \u001b[0m| 349/500 [05:44<01:36,  1.56it/s, acc=0.321, loss=13.4]  "
     ]
    },
    {
     "name": "stdout",
     "output_type": "stream",
     "text": [
      "EarlyStopping counter: 4 out of 100\n"
     ]
    },
    {
     "name": "stderr",
     "output_type": "stream",
     "text": [
      "Classifier Training Epoch:  70%|\u001b[32m███████   \u001b[0m| 351/500 [05:45<01:29,  1.66it/s, acc=0.469, loss=8.02] "
     ]
    },
    {
     "name": "stdout",
     "output_type": "stream",
     "text": [
      "EarlyStopping counter: 5 out of 100\n"
     ]
    },
    {
     "name": "stderr",
     "output_type": "stream",
     "text": [
      "Classifier Training Epoch:  71%|\u001b[32m███████   \u001b[0m| 353/500 [05:48<02:12,  1.11it/s, acc=0.477, loss=8.24] "
     ]
    },
    {
     "name": "stdout",
     "output_type": "stream",
     "text": [
      "EarlyStopping counter: 6 out of 100\n"
     ]
    },
    {
     "name": "stderr",
     "output_type": "stream",
     "text": [
      "Classifier Training Epoch:  71%|\u001b[32m███████   \u001b[0m| 355/500 [05:52<03:30,  1.45s/it, acc=0.814, loss=2.3]  "
     ]
    },
    {
     "name": "stdout",
     "output_type": "stream",
     "text": [
      "EarlyStopping counter: 7 out of 100\n"
     ]
    },
    {
     "name": "stderr",
     "output_type": "stream",
     "text": [
      "Classifier Training Epoch:  71%|\u001b[32m███████▏  \u001b[0m| 357/500 [05:56<03:52,  1.62s/it, acc=0.816, loss=1.88] "
     ]
    },
    {
     "name": "stdout",
     "output_type": "stream",
     "text": [
      "EarlyStopping counter: 8 out of 100\n"
     ]
    },
    {
     "name": "stderr",
     "output_type": "stream",
     "text": [
      "Classifier Training Epoch:  72%|\u001b[32m███████▏  \u001b[0m| 359/500 [05:59<03:55,  1.67s/it, acc=0.756, loss=2.49] "
     ]
    },
    {
     "name": "stdout",
     "output_type": "stream",
     "text": [
      "EarlyStopping counter: 9 out of 100\n"
     ]
    },
    {
     "name": "stderr",
     "output_type": "stream",
     "text": [
      "Classifier Training Epoch:  72%|\u001b[32m███████▏  \u001b[0m| 361/500 [06:00<02:31,  1.09s/it, acc=0.686, loss=3.52] "
     ]
    },
    {
     "name": "stdout",
     "output_type": "stream",
     "text": [
      "EarlyStopping counter: 10 out of 100\n"
     ]
    },
    {
     "name": "stderr",
     "output_type": "stream",
     "text": [
      "Classifier Training Epoch:  73%|\u001b[32m███████▎  \u001b[0m| 363/500 [06:01<01:49,  1.25it/s, acc=0.721, loss=3.51] "
     ]
    },
    {
     "name": "stdout",
     "output_type": "stream",
     "text": [
      "EarlyStopping counter: 11 out of 100\n"
     ]
    },
    {
     "name": "stderr",
     "output_type": "stream",
     "text": [
      "Classifier Training Epoch:  73%|\u001b[32m███████▎  \u001b[0m| 367/500 [06:03<01:17,  1.73it/s, acc=0.523, loss=7.99] "
     ]
    },
    {
     "name": "stdout",
     "output_type": "stream",
     "text": [
      "EarlyStopping counter: 1 out of 100\n"
     ]
    },
    {
     "name": "stderr",
     "output_type": "stream",
     "text": [
      "Classifier Training Epoch:  74%|\u001b[32m███████▍  \u001b[0m| 369/500 [06:04<01:13,  1.77it/s, acc=0.842, loss=1.27] "
     ]
    },
    {
     "name": "stdout",
     "output_type": "stream",
     "text": [
      "EarlyStopping counter: 2 out of 100\n"
     ]
    },
    {
     "name": "stderr",
     "output_type": "stream",
     "text": [
      "Classifier Training Epoch:  74%|\u001b[32m███████▍  \u001b[0m| 371/500 [06:05<01:11,  1.81it/s, acc=0.895, loss=0.931]"
     ]
    },
    {
     "name": "stdout",
     "output_type": "stream",
     "text": [
      "EarlyStopping counter: 3 out of 100\n"
     ]
    },
    {
     "name": "stderr",
     "output_type": "stream",
     "text": [
      "Classifier Training Epoch:  75%|\u001b[32m███████▍  \u001b[0m| 373/500 [06:06<01:08,  1.86it/s, acc=0.908, loss=0.766] "
     ]
    },
    {
     "name": "stdout",
     "output_type": "stream",
     "text": [
      "EarlyStopping counter: 4 out of 100\n"
     ]
    },
    {
     "name": "stderr",
     "output_type": "stream",
     "text": [
      "Classifier Training Epoch:  75%|\u001b[32m███████▍  \u001b[0m| 374/500 [06:07<01:14,  1.69it/s, acc=0.379, loss=11.9]  "
     ]
    },
    {
     "name": "stdout",
     "output_type": "stream",
     "text": [
      "EarlyStopping counter: 5 out of 100\n"
     ]
    },
    {
     "name": "stderr",
     "output_type": "stream",
     "text": [
      "Classifier Training Epoch:  75%|\u001b[32m███████▌  \u001b[0m| 376/500 [06:08<01:10,  1.75it/s, acc=0.494, loss=7.53] "
     ]
    },
    {
     "name": "stdout",
     "output_type": "stream",
     "text": [
      "EarlyStopping counter: 6 out of 100\n"
     ]
    },
    {
     "name": "stderr",
     "output_type": "stream",
     "text": [
      "Classifier Training Epoch:  76%|\u001b[32m███████▌  \u001b[0m| 378/500 [06:10<01:08,  1.78it/s, acc=0.451, loss=7.65] "
     ]
    },
    {
     "name": "stdout",
     "output_type": "stream",
     "text": [
      "EarlyStopping counter: 7 out of 100\n"
     ]
    },
    {
     "name": "stderr",
     "output_type": "stream",
     "text": [
      "Classifier Training Epoch:  76%|\u001b[32m███████▌  \u001b[0m| 380/500 [06:11<01:08,  1.76it/s, acc=0.838, loss=1.79] "
     ]
    },
    {
     "name": "stdout",
     "output_type": "stream",
     "text": [
      "EarlyStopping counter: 8 out of 100\n"
     ]
    },
    {
     "name": "stderr",
     "output_type": "stream",
     "text": [
      "Classifier Training Epoch:  76%|\u001b[32m███████▋  \u001b[0m| 382/500 [06:12<01:05,  1.79it/s, acc=0.797, loss=2]    "
     ]
    },
    {
     "name": "stdout",
     "output_type": "stream",
     "text": [
      "EarlyStopping counter: 9 out of 100\n"
     ]
    },
    {
     "name": "stderr",
     "output_type": "stream",
     "text": [
      "Classifier Training Epoch:  77%|\u001b[32m███████▋  \u001b[0m| 384/500 [06:13<01:07,  1.72it/s, acc=0.738, loss=2.77] "
     ]
    },
    {
     "name": "stdout",
     "output_type": "stream",
     "text": [
      "EarlyStopping counter: 10 out of 100\n"
     ]
    },
    {
     "name": "stderr",
     "output_type": "stream",
     "text": [
      "Classifier Training Epoch:  77%|\u001b[32m███████▋  \u001b[0m| 386/500 [06:14<01:02,  1.83it/s, acc=0.662, loss=4.01] "
     ]
    },
    {
     "name": "stdout",
     "output_type": "stream",
     "text": [
      "EarlyStopping counter: 11 out of 100\n"
     ]
    },
    {
     "name": "stderr",
     "output_type": "stream",
     "text": [
      "Classifier Training Epoch:  78%|\u001b[32m███████▊  \u001b[0m| 392/500 [06:18<01:01,  1.75it/s, acc=0.504, loss=7.13] "
     ]
    },
    {
     "name": "stdout",
     "output_type": "stream",
     "text": [
      "EarlyStopping counter: 1 out of 100\n"
     ]
    },
    {
     "name": "stderr",
     "output_type": "stream",
     "text": [
      "Classifier Training Epoch:  79%|\u001b[32m███████▉  \u001b[0m| 394/500 [06:19<00:59,  1.78it/s, acc=0.867, loss=1.22] "
     ]
    },
    {
     "name": "stdout",
     "output_type": "stream",
     "text": [
      "EarlyStopping counter: 2 out of 100\n"
     ]
    },
    {
     "name": "stderr",
     "output_type": "stream",
     "text": [
      "Classifier Training Epoch:  79%|\u001b[32m███████▉  \u001b[0m| 396/500 [06:20<00:58,  1.76it/s, acc=0.922, loss=0.83] "
     ]
    },
    {
     "name": "stdout",
     "output_type": "stream",
     "text": [
      "EarlyStopping counter: 3 out of 100\n"
     ]
    },
    {
     "name": "stderr",
     "output_type": "stream",
     "text": [
      "Classifier Training Epoch:  80%|\u001b[32m███████▉  \u001b[0m| 398/500 [06:21<00:56,  1.80it/s, acc=0.922, loss=0.889] "
     ]
    },
    {
     "name": "stdout",
     "output_type": "stream",
     "text": [
      "EarlyStopping counter: 4 out of 100\n"
     ]
    },
    {
     "name": "stderr",
     "output_type": "stream",
     "text": [
      "Classifier Training Epoch:  80%|\u001b[32m███████▉  \u001b[0m| 399/500 [06:22<01:03,  1.60it/s, acc=0.375, loss=11.2]   "
     ]
    },
    {
     "name": "stdout",
     "output_type": "stream",
     "text": [
      "EarlyStopping counter: 5 out of 100\n"
     ]
    },
    {
     "name": "stderr",
     "output_type": "stream",
     "text": [
      "Classifier Training Epoch:  80%|\u001b[32m████████  \u001b[0m| 401/500 [06:23<00:58,  1.68it/s, acc=0.447, loss=8.19] "
     ]
    },
    {
     "name": "stdout",
     "output_type": "stream",
     "text": [
      "EarlyStopping counter: 6 out of 100\n"
     ]
    },
    {
     "name": "stderr",
     "output_type": "stream",
     "text": [
      "Classifier Training Epoch:  81%|\u001b[32m████████  \u001b[0m| 403/500 [06:25<00:57,  1.69it/s, acc=0.482, loss=7.39] "
     ]
    },
    {
     "name": "stdout",
     "output_type": "stream",
     "text": [
      "EarlyStopping counter: 7 out of 100\n"
     ]
    },
    {
     "name": "stderr",
     "output_type": "stream",
     "text": [
      "Classifier Training Epoch:  81%|\u001b[32m████████  \u001b[0m| 405/500 [06:26<00:59,  1.60it/s, acc=0.852, loss=1.82] "
     ]
    },
    {
     "name": "stdout",
     "output_type": "stream",
     "text": [
      "EarlyStopping counter: 8 out of 100\n"
     ]
    },
    {
     "name": "stderr",
     "output_type": "stream",
     "text": [
      "Classifier Training Epoch:  81%|\u001b[32m████████▏ \u001b[0m| 407/500 [06:27<01:02,  1.48it/s, acc=0.811, loss=1.96] "
     ]
    },
    {
     "name": "stdout",
     "output_type": "stream",
     "text": [
      "EarlyStopping counter: 9 out of 100\n"
     ]
    },
    {
     "name": "stderr",
     "output_type": "stream",
     "text": [
      "Classifier Training Epoch:  82%|\u001b[32m████████▏ \u001b[0m| 409/500 [06:29<01:00,  1.51it/s, acc=0.73, loss=2.7]   "
     ]
    },
    {
     "name": "stdout",
     "output_type": "stream",
     "text": [
      "EarlyStopping counter: 10 out of 100\n"
     ]
    },
    {
     "name": "stderr",
     "output_type": "stream",
     "text": [
      "Classifier Training Epoch:  82%|\u001b[32m████████▏ \u001b[0m| 411/500 [06:30<01:00,  1.47it/s, acc=0.654, loss=3.94] "
     ]
    },
    {
     "name": "stdout",
     "output_type": "stream",
     "text": [
      "EarlyStopping counter: 11 out of 100\n"
     ]
    },
    {
     "name": "stderr",
     "output_type": "stream",
     "text": [
      "Classifier Training Epoch:  84%|\u001b[32m████████▍ \u001b[0m| 419/500 [06:35<00:51,  1.57it/s, acc=0.879, loss=0.965]"
     ]
    },
    {
     "name": "stdout",
     "output_type": "stream",
     "text": [
      "EarlyStopping counter: 1 out of 100\n"
     ]
    },
    {
     "name": "stderr",
     "output_type": "stream",
     "text": [
      "Classifier Training Epoch:  84%|\u001b[32m████████▍ \u001b[0m| 421/500 [06:37<00:55,  1.41it/s, acc=0.91, loss=0.8]   "
     ]
    },
    {
     "name": "stdout",
     "output_type": "stream",
     "text": [
      "EarlyStopping counter: 2 out of 100\n"
     ]
    },
    {
     "name": "stderr",
     "output_type": "stream",
     "text": [
      "Classifier Training Epoch:  85%|\u001b[32m████████▍ \u001b[0m| 423/500 [06:44<02:40,  2.09s/it, acc=0.934, loss=0.491] "
     ]
    },
    {
     "name": "stdout",
     "output_type": "stream",
     "text": [
      "EarlyStopping counter: 3 out of 100\n"
     ]
    },
    {
     "name": "stderr",
     "output_type": "stream",
     "text": [
      "Classifier Training Epoch:  85%|\u001b[32m████████▍ \u001b[0m| 424/500 [06:50<03:27,  2.73s/it, acc=0.388, loss=8.78]   "
     ]
    },
    {
     "name": "stdout",
     "output_type": "stream",
     "text": [
      "EarlyStopping counter: 4 out of 100\n"
     ]
    },
    {
     "name": "stderr",
     "output_type": "stream",
     "text": [
      "Classifier Training Epoch:  85%|\u001b[32m████████▌ \u001b[0m| 426/500 [06:53<02:53,  2.35s/it, acc=0.539, loss=6.17] "
     ]
    },
    {
     "name": "stdout",
     "output_type": "stream",
     "text": [
      "EarlyStopping counter: 5 out of 100\n"
     ]
    },
    {
     "name": "stderr",
     "output_type": "stream",
     "text": [
      "Classifier Training Epoch:  86%|\u001b[32m████████▌ \u001b[0m| 428/500 [06:57<02:28,  2.06s/it, acc=0.482, loss=6.71] "
     ]
    },
    {
     "name": "stdout",
     "output_type": "stream",
     "text": [
      "EarlyStopping counter: 6 out of 100\n"
     ]
    },
    {
     "name": "stderr",
     "output_type": "stream",
     "text": [
      "Classifier Training Epoch:  86%|\u001b[32m████████▌ \u001b[0m| 430/500 [07:01<02:14,  1.92s/it, acc=0.826, loss=1.63] "
     ]
    },
    {
     "name": "stdout",
     "output_type": "stream",
     "text": [
      "EarlyStopping counter: 7 out of 100\n"
     ]
    },
    {
     "name": "stderr",
     "output_type": "stream",
     "text": [
      "Classifier Training Epoch:  86%|\u001b[32m████████▋ \u001b[0m| 432/500 [07:04<02:04,  1.83s/it, acc=0.826, loss=1.45] "
     ]
    },
    {
     "name": "stdout",
     "output_type": "stream",
     "text": [
      "EarlyStopping counter: 8 out of 100\n"
     ]
    },
    {
     "name": "stderr",
     "output_type": "stream",
     "text": [
      "Classifier Training Epoch:  87%|\u001b[32m████████▋ \u001b[0m| 434/500 [07:09<02:22,  2.16s/it, acc=0.729, loss=2.7]  "
     ]
    },
    {
     "name": "stdout",
     "output_type": "stream",
     "text": [
      "EarlyStopping counter: 9 out of 100\n"
     ]
    },
    {
     "name": "stderr",
     "output_type": "stream",
     "text": [
      "Classifier Training Epoch:  87%|\u001b[32m████████▋ \u001b[0m| 436/500 [07:13<02:08,  2.00s/it, acc=0.695, loss=3.36] "
     ]
    },
    {
     "name": "stdout",
     "output_type": "stream",
     "text": [
      "EarlyStopping counter: 10 out of 100\n"
     ]
    },
    {
     "name": "stderr",
     "output_type": "stream",
     "text": [
      "Classifier Training Epoch:  88%|\u001b[32m████████▊ \u001b[0m| 442/500 [07:21<01:10,  1.22s/it, acc=0.502, loss=6.58] "
     ]
    },
    {
     "name": "stdout",
     "output_type": "stream",
     "text": [
      "EarlyStopping counter: 1 out of 100\n"
     ]
    },
    {
     "name": "stderr",
     "output_type": "stream",
     "text": [
      "Classifier Training Epoch:  89%|\u001b[32m████████▉ \u001b[0m| 444/500 [07:22<00:48,  1.14it/s, acc=0.861, loss=1.37] "
     ]
    },
    {
     "name": "stdout",
     "output_type": "stream",
     "text": [
      "EarlyStopping counter: 2 out of 100\n"
     ]
    },
    {
     "name": "stderr",
     "output_type": "stream",
     "text": [
      "Classifier Training Epoch:  89%|\u001b[32m████████▉ \u001b[0m| 446/500 [07:23<00:38,  1.41it/s, acc=0.914, loss=0.587] "
     ]
    },
    {
     "name": "stdout",
     "output_type": "stream",
     "text": [
      "EarlyStopping counter: 3 out of 100\n"
     ]
    },
    {
     "name": "stderr",
     "output_type": "stream",
     "text": [
      "Classifier Training Epoch:  90%|\u001b[32m████████▉ \u001b[0m| 448/500 [07:24<00:32,  1.61it/s, acc=0.916, loss=0.658] "
     ]
    },
    {
     "name": "stdout",
     "output_type": "stream",
     "text": [
      "EarlyStopping counter: 4 out of 100\n"
     ]
    },
    {
     "name": "stderr",
     "output_type": "stream",
     "text": [
      "Classifier Training Epoch:  90%|\u001b[32m████████▉ \u001b[0m| 449/500 [07:25<00:33,  1.53it/s, acc=0.379, loss=8.64]  "
     ]
    },
    {
     "name": "stdout",
     "output_type": "stream",
     "text": [
      "EarlyStopping counter: 5 out of 100\n"
     ]
    },
    {
     "name": "stderr",
     "output_type": "stream",
     "text": [
      "Classifier Training Epoch:  90%|\u001b[32m█████████ \u001b[0m| 451/500 [07:26<00:29,  1.68it/s, acc=0.5, loss=6.52]   "
     ]
    },
    {
     "name": "stdout",
     "output_type": "stream",
     "text": [
      "EarlyStopping counter: 6 out of 100\n"
     ]
    },
    {
     "name": "stderr",
     "output_type": "stream",
     "text": [
      "Classifier Training Epoch:  91%|\u001b[32m█████████ \u001b[0m| 453/500 [07:27<00:27,  1.72it/s, acc=0.48, loss=6.35]  "
     ]
    },
    {
     "name": "stdout",
     "output_type": "stream",
     "text": [
      "EarlyStopping counter: 7 out of 100\n"
     ]
    },
    {
     "name": "stderr",
     "output_type": "stream",
     "text": [
      "Classifier Training Epoch:  91%|\u001b[32m█████████ \u001b[0m| 455/500 [07:28<00:26,  1.73it/s, acc=0.848, loss=1.23] "
     ]
    },
    {
     "name": "stdout",
     "output_type": "stream",
     "text": [
      "EarlyStopping counter: 8 out of 100\n"
     ]
    },
    {
     "name": "stderr",
     "output_type": "stream",
     "text": [
      "Classifier Training Epoch:  91%|\u001b[32m█████████▏\u001b[0m| 457/500 [07:30<00:24,  1.72it/s, acc=0.834, loss=1.21] "
     ]
    },
    {
     "name": "stdout",
     "output_type": "stream",
     "text": [
      "EarlyStopping counter: 9 out of 100\n"
     ]
    },
    {
     "name": "stderr",
     "output_type": "stream",
     "text": [
      "Classifier Training Epoch:  92%|\u001b[32m█████████▏\u001b[0m| 459/500 [07:31<00:22,  1.83it/s, acc=0.715, loss=2.25] "
     ]
    },
    {
     "name": "stdout",
     "output_type": "stream",
     "text": [
      "EarlyStopping counter: 10 out of 100\n"
     ]
    },
    {
     "name": "stderr",
     "output_type": "stream",
     "text": [
      "Classifier Training Epoch:  92%|\u001b[32m█████████▏\u001b[0m| 461/500 [07:32<00:22,  1.75it/s, acc=0.676, loss=2.89]  "
     ]
    },
    {
     "name": "stdout",
     "output_type": "stream",
     "text": [
      "EarlyStopping counter: 11 out of 100\n"
     ]
    },
    {
     "name": "stderr",
     "output_type": "stream",
     "text": [
      "Classifier Training Epoch:  93%|\u001b[32m█████████▎\u001b[0m| 467/500 [07:35<00:18,  1.76it/s, acc=0.527, loss=6.06] "
     ]
    },
    {
     "name": "stdout",
     "output_type": "stream",
     "text": [
      "EarlyStopping counter: 1 out of 100\n"
     ]
    },
    {
     "name": "stderr",
     "output_type": "stream",
     "text": [
      "Classifier Training Epoch:  94%|\u001b[32m█████████▍\u001b[0m| 469/500 [07:39<00:33,  1.10s/it, acc=0.859, loss=1.29] "
     ]
    },
    {
     "name": "stdout",
     "output_type": "stream",
     "text": [
      "EarlyStopping counter: 2 out of 100\n"
     ]
    },
    {
     "name": "stderr",
     "output_type": "stream",
     "text": [
      "Classifier Training Epoch:  94%|\u001b[32m█████████▍\u001b[0m| 471/500 [07:43<00:43,  1.51s/it, acc=0.902, loss=0.519]"
     ]
    },
    {
     "name": "stdout",
     "output_type": "stream",
     "text": [
      "EarlyStopping counter: 3 out of 100\n"
     ]
    },
    {
     "name": "stderr",
     "output_type": "stream",
     "text": [
      "Classifier Training Epoch:  95%|\u001b[32m█████████▍\u001b[0m| 473/500 [07:46<00:45,  1.68s/it, acc=0.947, loss=0.345] "
     ]
    },
    {
     "name": "stdout",
     "output_type": "stream",
     "text": [
      "EarlyStopping counter: 4 out of 100\n"
     ]
    },
    {
     "name": "stderr",
     "output_type": "stream",
     "text": [
      "Classifier Training Epoch:  95%|\u001b[32m█████████▍\u001b[0m| 474/500 [07:50<00:46,  1.81s/it, acc=0.446, loss=6.93]  "
     ]
    },
    {
     "name": "stdout",
     "output_type": "stream",
     "text": [
      "EarlyStopping counter: 5 out of 100\n"
     ]
    },
    {
     "name": "stderr",
     "output_type": "stream",
     "text": [
      "Classifier Training Epoch:  95%|\u001b[32m█████████▌\u001b[0m| 476/500 [07:54<00:46,  1.96s/it, acc=0.504, loss=6.52] "
     ]
    },
    {
     "name": "stdout",
     "output_type": "stream",
     "text": [
      "EarlyStopping counter: 6 out of 100\n"
     ]
    },
    {
     "name": "stderr",
     "output_type": "stream",
     "text": [
      "Classifier Training Epoch:  96%|\u001b[32m█████████▌\u001b[0m| 478/500 [07:58<00:43,  1.96s/it, acc=0.486, loss=6.51] "
     ]
    },
    {
     "name": "stdout",
     "output_type": "stream",
     "text": [
      "EarlyStopping counter: 7 out of 100\n"
     ]
    },
    {
     "name": "stderr",
     "output_type": "stream",
     "text": [
      "Classifier Training Epoch:  96%|\u001b[32m█████████▌\u001b[0m| 480/500 [08:02<00:36,  1.84s/it, acc=0.857, loss=1.29] "
     ]
    },
    {
     "name": "stdout",
     "output_type": "stream",
     "text": [
      "EarlyStopping counter: 8 out of 100\n"
     ]
    },
    {
     "name": "stderr",
     "output_type": "stream",
     "text": [
      "Classifier Training Epoch:  96%|\u001b[32m█████████▋\u001b[0m| 482/500 [08:05<00:32,  1.78s/it, acc=0.83, loss=1.45]  "
     ]
    },
    {
     "name": "stdout",
     "output_type": "stream",
     "text": [
      "EarlyStopping counter: 9 out of 100\n"
     ]
    },
    {
     "name": "stderr",
     "output_type": "stream",
     "text": [
      "Classifier Training Epoch:  97%|\u001b[32m█████████▋\u001b[0m| 484/500 [08:07<00:25,  1.59s/it, acc=0.732, loss=2.09]  "
     ]
    },
    {
     "name": "stdout",
     "output_type": "stream",
     "text": [
      "EarlyStopping counter: 10 out of 100\n"
     ]
    },
    {
     "name": "stderr",
     "output_type": "stream",
     "text": [
      "Classifier Training Epoch:  97%|\u001b[32m█████████▋\u001b[0m| 486/500 [08:09<00:14,  1.06s/it, acc=0.664, loss=3.2]   "
     ]
    },
    {
     "name": "stdout",
     "output_type": "stream",
     "text": [
      "EarlyStopping counter: 11 out of 100\n"
     ]
    },
    {
     "name": "stderr",
     "output_type": "stream",
     "text": [
      "Classifier Training Epoch:  98%|\u001b[32m█████████▊\u001b[0m| 492/500 [08:12<00:04,  1.63it/s, acc=0.545, loss=5.58] "
     ]
    },
    {
     "name": "stdout",
     "output_type": "stream",
     "text": [
      "EarlyStopping counter: 1 out of 100\n"
     ]
    },
    {
     "name": "stderr",
     "output_type": "stream",
     "text": [
      "Classifier Training Epoch:  99%|\u001b[32m█████████▉\u001b[0m| 494/500 [08:13<00:03,  1.79it/s, acc=0.879, loss=1.11] "
     ]
    },
    {
     "name": "stdout",
     "output_type": "stream",
     "text": [
      "EarlyStopping counter: 2 out of 100\n"
     ]
    },
    {
     "name": "stderr",
     "output_type": "stream",
     "text": [
      "Classifier Training Epoch:  99%|\u001b[32m█████████▉\u001b[0m| 496/500 [08:14<00:02,  1.79it/s, acc=0.906, loss=0.557] "
     ]
    },
    {
     "name": "stdout",
     "output_type": "stream",
     "text": [
      "EarlyStopping counter: 3 out of 100\n"
     ]
    },
    {
     "name": "stderr",
     "output_type": "stream",
     "text": [
      "Classifier Training Epoch: 100%|\u001b[32m█████████▉\u001b[0m| 498/500 [08:15<00:01,  1.73it/s, acc=0.939, loss=0.484] "
     ]
    },
    {
     "name": "stdout",
     "output_type": "stream",
     "text": [
      "EarlyStopping counter: 4 out of 100\n"
     ]
    },
    {
     "name": "stderr",
     "output_type": "stream",
     "text": [
      "Classifier Training Epoch: 100%|\u001b[32m█████████▉\u001b[0m| 499/500 [08:16<00:00,  1.57it/s, acc=0.442, loss=6.46]  "
     ]
    },
    {
     "name": "stdout",
     "output_type": "stream",
     "text": [
      "EarlyStopping counter: 5 out of 100\n"
     ]
    },
    {
     "name": "stderr",
     "output_type": "stream",
     "text": [
      "Classifier Training Epoch: 100%|\u001b[32m██████████\u001b[0m| 500/500 [08:17<00:00,  1.01it/s, acc=0.442, loss=6.46]\n"
     ]
    }
   ],
   "source": [
    "# CL test\n",
    "clf_cl = AdversarialDebiasing(n_features, n_classes, n_groups, adversary_loss_weight=0.1,\n",
    "                              scope_name='CL_Adversary_classifier', num_epochs=500,\n",
    "                              batch_size=512, classifier_num_hidden_units=512, random_state=42, debias=False)\n",
    "loss_lists, val_lists, train_infos, val_infos = [], [], [], []\n",
    "for stage in stages:\n",
    "    # TODO: try set1 U set2\n",
    "    print(len(stage))\n",
    "    x_train = data.x_train[stage, :]\n",
    "    y_train = data.y_train[stage]\n",
    "    s_train = data.s_train[stage]\n",
    "    loss_list, val_list, train_info, val_info = \\\n",
    "        clf_cl.fit(x_train, y_train, s_train, early_stopping=True, validation_set=[data.x_val, data.y_val, data.s_val])\n",
    "    loss_lists.append(loss_list)\n",
    "    val_lists.append(val_list)\n",
    "    train_infos.append(train_info)\n",
    "    val_infos.append(val_info)"
   ]
  },
  {
   "cell_type": "code",
   "execution_count": 12,
   "metadata": {},
   "outputs": [],
   "source": [
    "def get_df(infos, loss_lists):\n",
    "    df_list = []\n",
    "    N = len(infos)\n",
    "    for i in range(N):\n",
    "        tmp = pd.DataFrame(infos[i])\n",
    "        tmp['loss'] = loss_lists[i]\n",
    "        df_list.append(tmp)\n",
    "    res = pd.concat(df_list, axis=0)\n",
    "    res = res.reset_index()\n",
    "    return res"
   ]
  },
  {
   "cell_type": "code",
   "execution_count": 13,
   "metadata": {},
   "outputs": [],
   "source": [
    "df = get_df(train_infos, loss_lists)"
   ]
  },
  {
   "cell_type": "code",
   "execution_count": 14,
   "metadata": {},
   "outputs": [
    {
     "data": {
      "text/html": [
       "<div>\n",
       "<style scoped>\n",
       "    .dataframe tbody tr th:only-of-type {\n",
       "        vertical-align: middle;\n",
       "    }\n",
       "\n",
       "    .dataframe tbody tr th {\n",
       "        vertical-align: top;\n",
       "    }\n",
       "\n",
       "    .dataframe thead th {\n",
       "        text-align: right;\n",
       "    }\n",
       "</style>\n",
       "<table border=\"1\" class=\"dataframe\">\n",
       "  <thead>\n",
       "    <tr style=\"text-align: right;\">\n",
       "      <th></th>\n",
       "      <th>index</th>\n",
       "      <th>overall_acc</th>\n",
       "      <th>dp</th>\n",
       "      <th>eop</th>\n",
       "      <th>average_odds_difference</th>\n",
       "      <th>grp_0_acc</th>\n",
       "      <th>grp_1_acc</th>\n",
       "      <th>loss</th>\n",
       "    </tr>\n",
       "  </thead>\n",
       "  <tbody>\n",
       "    <tr>\n",
       "      <th>0</th>\n",
       "      <td>0</td>\n",
       "      <td>0.755759</td>\n",
       "      <td>0.089262</td>\n",
       "      <td>0.207009</td>\n",
       "      <td>0.302016</td>\n",
       "      <td>0.830733</td>\n",
       "      <td>0.719695</td>\n",
       "      <td>30.258202</td>\n",
       "    </tr>\n",
       "    <tr>\n",
       "      <th>1</th>\n",
       "      <td>1</td>\n",
       "      <td>0.831004</td>\n",
       "      <td>0.165696</td>\n",
       "      <td>0.304752</td>\n",
       "      <td>0.276120</td>\n",
       "      <td>0.869976</td>\n",
       "      <td>0.812258</td>\n",
       "      <td>14.212198</td>\n",
       "    </tr>\n",
       "    <tr>\n",
       "      <th>2</th>\n",
       "      <td>2</td>\n",
       "      <td>0.884291</td>\n",
       "      <td>0.208608</td>\n",
       "      <td>0.314724</td>\n",
       "      <td>0.222789</td>\n",
       "      <td>0.904492</td>\n",
       "      <td>0.874574</td>\n",
       "      <td>14.087663</td>\n",
       "    </tr>\n",
       "    <tr>\n",
       "      <th>3</th>\n",
       "      <td>3</td>\n",
       "      <td>0.917153</td>\n",
       "      <td>0.226577</td>\n",
       "      <td>0.271369</td>\n",
       "      <td>0.141972</td>\n",
       "      <td>0.934988</td>\n",
       "      <td>0.908574</td>\n",
       "      <td>4.311460</td>\n",
       "    </tr>\n",
       "    <tr>\n",
       "      <th>4</th>\n",
       "      <td>4</td>\n",
       "      <td>0.936118</td>\n",
       "      <td>0.230749</td>\n",
       "      <td>0.241575</td>\n",
       "      <td>0.133393</td>\n",
       "      <td>0.950118</td>\n",
       "      <td>0.929384</td>\n",
       "      <td>2.061317</td>\n",
       "    </tr>\n",
       "    <tr>\n",
       "      <th>...</th>\n",
       "      <td>...</td>\n",
       "      <td>...</td>\n",
       "      <td>...</td>\n",
       "      <td>...</td>\n",
       "      <td>...</td>\n",
       "      <td>...</td>\n",
       "      <td>...</td>\n",
       "      <td>...</td>\n",
       "    </tr>\n",
       "    <tr>\n",
       "      <th>515</th>\n",
       "      <td>255</td>\n",
       "      <td>0.847128</td>\n",
       "      <td>0.262009</td>\n",
       "      <td>0.410213</td>\n",
       "      <td>0.301321</td>\n",
       "      <td>0.909456</td>\n",
       "      <td>0.817148</td>\n",
       "      <td>5.575651</td>\n",
       "    </tr>\n",
       "    <tr>\n",
       "      <th>516</th>\n",
       "      <td>256</td>\n",
       "      <td>0.848127</td>\n",
       "      <td>0.250622</td>\n",
       "      <td>0.379961</td>\n",
       "      <td>0.265014</td>\n",
       "      <td>0.908747</td>\n",
       "      <td>0.818967</td>\n",
       "      <td>1.112386</td>\n",
       "    </tr>\n",
       "    <tr>\n",
       "      <th>517</th>\n",
       "      <td>257</td>\n",
       "      <td>0.851198</td>\n",
       "      <td>0.217807</td>\n",
       "      <td>0.339410</td>\n",
       "      <td>0.224566</td>\n",
       "      <td>0.910165</td>\n",
       "      <td>0.822834</td>\n",
       "      <td>0.557250</td>\n",
       "    </tr>\n",
       "    <tr>\n",
       "      <th>518</th>\n",
       "      <td>258</td>\n",
       "      <td>0.849125</td>\n",
       "      <td>0.192470</td>\n",
       "      <td>0.302775</td>\n",
       "      <td>0.194074</td>\n",
       "      <td>0.910402</td>\n",
       "      <td>0.819650</td>\n",
       "      <td>0.484406</td>\n",
       "    </tr>\n",
       "    <tr>\n",
       "      <th>519</th>\n",
       "      <td>259</td>\n",
       "      <td>0.839527</td>\n",
       "      <td>0.148492</td>\n",
       "      <td>0.265524</td>\n",
       "      <td>0.159884</td>\n",
       "      <td>0.906619</td>\n",
       "      <td>0.807255</td>\n",
       "      <td>6.462982</td>\n",
       "    </tr>\n",
       "  </tbody>\n",
       "</table>\n",
       "<p>520 rows × 8 columns</p>\n",
       "</div>"
      ],
      "text/plain": [
       "     index  overall_acc        dp       eop  average_odds_difference  \\\n",
       "0        0     0.755759  0.089262  0.207009                 0.302016   \n",
       "1        1     0.831004  0.165696  0.304752                 0.276120   \n",
       "2        2     0.884291  0.208608  0.314724                 0.222789   \n",
       "3        3     0.917153  0.226577  0.271369                 0.141972   \n",
       "4        4     0.936118  0.230749  0.241575                 0.133393   \n",
       "..     ...          ...       ...       ...                      ...   \n",
       "515    255     0.847128  0.262009  0.410213                 0.301321   \n",
       "516    256     0.848127  0.250622  0.379961                 0.265014   \n",
       "517    257     0.851198  0.217807  0.339410                 0.224566   \n",
       "518    258     0.849125  0.192470  0.302775                 0.194074   \n",
       "519    259     0.839527  0.148492  0.265524                 0.159884   \n",
       "\n",
       "     grp_0_acc  grp_1_acc       loss  \n",
       "0     0.830733   0.719695  30.258202  \n",
       "1     0.869976   0.812258  14.212198  \n",
       "2     0.904492   0.874574  14.087663  \n",
       "3     0.934988   0.908574   4.311460  \n",
       "4     0.950118   0.929384   2.061317  \n",
       "..         ...        ...        ...  \n",
       "515   0.909456   0.817148   5.575651  \n",
       "516   0.908747   0.818967   1.112386  \n",
       "517   0.910165   0.822834   0.557250  \n",
       "518   0.910402   0.819650   0.484406  \n",
       "519   0.906619   0.807255   6.462982  \n",
       "\n",
       "[520 rows x 8 columns]"
      ]
     },
     "execution_count": 14,
     "metadata": {},
     "output_type": "execute_result"
    }
   ],
   "source": [
    "df"
   ]
  },
  {
   "cell_type": "code",
   "execution_count": 16,
   "metadata": {},
   "outputs": [
    {
     "data": {
      "text/plain": [
       "<AxesSubplot:>"
      ]
     },
     "execution_count": 16,
     "metadata": {},
     "output_type": "execute_result"
    },
    {
     "data": {
      "image/png": "[encoded data removed]",
      "text/plain": [
       "<Figure size 640x480 with 1 Axes>"
      ]
     },
     "metadata": {},
     "output_type": "display_data"
    }
   ],
   "source": [
    "df['loss'].plot()"
   ]
  },
  {
   "cell_type": "code",
   "execution_count": 5,
   "metadata": {},
   "outputs": [
    {
     "name": "stdout",
     "output_type": "stream",
     "text": [
      "========== after train(with debiasing) ==========\n"
     ]
    },
    {
     "ename": "NameError",
     "evalue": "name 'clf_cl' is not defined",
     "output_type": "error",
     "traceback": [
      "\u001b[1;31m---------------------------------------------------------------------------\u001b[0m",
      "\u001b[1;31mNameError\u001b[0m                                 Traceback (most recent call last)",
      "\u001b[1;32m~\\AppData\\Local\\Temp\\ipykernel_27860\\2589796921.py\u001b[0m in \u001b[0;36m<module>\u001b[1;34m\u001b[0m\n\u001b[0;32m      1\u001b[0m \u001b[0mprint\u001b[0m\u001b[1;33m(\u001b[0m\u001b[1;34m\"========== after train(with debiasing) ==========\"\u001b[0m\u001b[1;33m)\u001b[0m\u001b[1;33m\u001b[0m\u001b[1;33m\u001b[0m\u001b[0m\n\u001b[1;32m----> 2\u001b[1;33m \u001b[0mpred_label_train\u001b[0m \u001b[1;33m=\u001b[0m \u001b[0mclf_cl\u001b[0m\u001b[1;33m.\u001b[0m\u001b[0mpredict\u001b[0m\u001b[1;33m(\u001b[0m\u001b[0mdata\u001b[0m\u001b[1;33m.\u001b[0m\u001b[0mx_train\u001b[0m\u001b[1;33m)\u001b[0m\u001b[1;33m\u001b[0m\u001b[1;33m\u001b[0m\u001b[0m\n\u001b[0m\u001b[0;32m      3\u001b[0m \u001b[0mtrain_res\u001b[0m \u001b[1;33m=\u001b[0m \u001b[0mtrain_evaluator\u001b[0m\u001b[1;33m(\u001b[0m\u001b[0mdata\u001b[0m\u001b[1;33m.\u001b[0m\u001b[0my_train\u001b[0m\u001b[1;33m,\u001b[0m \u001b[0mpred_label_train\u001b[0m\u001b[1;33m,\u001b[0m \u001b[0mno_train\u001b[0m\u001b[1;33m=\u001b[0m\u001b[1;32mFalse\u001b[0m\u001b[1;33m)\u001b[0m\u001b[1;33m\u001b[0m\u001b[1;33m\u001b[0m\u001b[0m\n\u001b[0;32m      4\u001b[0m \u001b[1;33m\u001b[0m\u001b[0m\n\u001b[0;32m      5\u001b[0m \u001b[0mpred_label_test\u001b[0m \u001b[1;33m=\u001b[0m \u001b[0mclf_cl\u001b[0m\u001b[1;33m.\u001b[0m\u001b[0mpredict\u001b[0m\u001b[1;33m(\u001b[0m\u001b[0mdata\u001b[0m\u001b[1;33m.\u001b[0m\u001b[0mx_test\u001b[0m\u001b[1;33m)\u001b[0m\u001b[1;33m\u001b[0m\u001b[1;33m\u001b[0m\u001b[0m\n",
      "\u001b[1;31mNameError\u001b[0m: name 'clf_cl' is not defined"
     ]
    }
   ],
   "source": [
    "print(\"========== after train(with debiasing) ==========\")\n",
    "pred_label_train = clf_cl.predict(data.x_train)\n",
    "train_res = train_evaluator(data.y_train, pred_label_train, no_train=False)\n",
    "\n",
    "pred_label_test = clf_cl.predict(data.x_test)\n",
    "test_res = test_evaluator(data.y_test, pred_label_test, no_train=False)"
   ]
  },
  {
   "cell_type": "code",
   "execution_count": null,
   "metadata": {},
   "outputs": [],
   "source": [
    "# CL test\n",
    "clf_cl2 = AdversarialDebiasing(n_features, n_classes, n_groups, adversary_loss_weight=0.1,\n",
    "                              scope_name='CL_Adversary_classifier', num_epochs=250,\n",
    "                              batch_size=512, classifier_num_hidden_units=512, random_state=42, debias=True)\n",
    "stages = get_curriculum_stages('data/adult/sorted_idx_%d.json' % data.num_val, N=2)\n",
    "loss_lists2, val_lists2, train_infos2, val_infos2 = [], [], [], []\n",
    "for stage in stages:\n",
    "    # TODO: try set1 U set2\n",
    "    print(len(stage))\n",
    "    x_train = data.x_train[stage, :]\n",
    "    y_train = data.y_train[stage]\n",
    "    s_train = data.s_train[stage]\n",
    "    loss_list, val_list, train_info, val_info = \\\n",
    "        clf_cl.fit(x_train, y_train, s_train, early_stopping=True, validation_set=[data.x_val, data.y_val, data.s_val])\n",
    "    loss_lists2.append(loss_list)\n",
    "    val_lists2.append(val_list)\n",
    "    train_infos2.append(train_info)\n",
    "    val_infos2.append(val_info)"
   ]
  }
 ],
 "metadata": {
  "kernelspec": {
   "display_name": "Python 3 (ipykernel)",
   "language": "python",
   "name": "python3"
  },
  "language_info": {
   "codemirror_mode": {
    "name": "ipython",
    "version": 3
   },
   "file_extension": ".py",
   "mimetype": "text/x-python",
   "name": "python",
   "nbconvert_exporter": "python",
   "pygments_lexer": "ipython3",
   "version": "3.7.4"
  }
 },
 "nbformat": 4,
 "nbformat_minor": 1
}
