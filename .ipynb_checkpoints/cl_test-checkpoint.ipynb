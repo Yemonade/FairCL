{
 "cells": [
  {
   "cell_type": "code",
   "execution_count": 1,
   "metadata": {
    "pycharm": {
     "is_executing": true
    }
   },
   "outputs": [],
   "source": [
    "import warnings\n",
    "warnings.filterwarnings(\"ignore\", category=FutureWarning)\n",
    "\n",
    "import sys\n",
    "sys.path.append('D:\\\\Compute Science\\\\Machine Learning\\\\论文\\\\项目\\\\FairSPL\\\\venv_torch')\n",
    "sys.path.append('D:\\\\Compute Science\\\\Machine Learning\\\\论文\\\\项目\\\\FairSPL\\\\venv_torch\\\\lib\\\\site-packages')"
   ]
  },
  {
   "cell_type": "code",
   "execution_count": 2,
   "metadata": {},
   "outputs": [],
   "source": [
    "import json\n",
    "\n",
    "import numpy as np\n",
    "import matplotlib.pyplot as plt\n",
    "import torch\n",
    "\n",
    "from dataset import fetch_data\n",
    "from models.AdversarialDebiasing import AdversarialDebiasing\n",
    "from eval import Evaluator\n",
    "from utils import get_curriculum_stages"
   ]
  },
  {
   "cell_type": "code",
   "execution_count": 6,
   "metadata": {},
   "outputs": [
    {
     "name": "stdout",
     "output_type": "stream",
     "text": [
      "Loading Adult dataset..\n",
      "train_val_df.shape:  (32561, 15)\n",
      "test_df.shape:  (12661, 15)\n"
     ]
    },
    {
     "name": "stderr",
     "output_type": "stream",
     "text": [
      "E:\\Environment\\python\\python3.7.4\\lib\\site-packages\\pandas\\core\\frame.py:4913: SettingWithCopyWarning: \n",
      "A value is trying to be set on a copy of a slice from a DataFrame\n",
      "\n",
      "See the caveats in the documentation: https://pandas.pydata.org/pandas-docs/stable/user_guide/indexing.html#returning-a-view-versus-a-copy\n",
      "  errors=errors,\n"
     ]
    },
    {
     "name": "stdout",
     "output_type": "stream",
     "text": [
      "Dataset statistic - #total: 45222; #train: 26049; #val.: 6512; #test: 12661; #dim.: 102\n",
      "\n",
      "data.x_train.shape:  (26049, 102)\n",
      "data.x_test.shape:  (12661, 102)\n",
      "========== before train ==========\n",
      "========== Results on origin ==========\n",
      "Grp. 0 - #instance: 8460; #pos : 954\n",
      "Grp. 1 - #instance: 17589; #pos : 5496\n",
      "Demographic parity: 0.199702; Equal opportunity: 0.000000; Average odds difference: 0.000000\n"
     ]
    }
   ],
   "source": [
    "data = fetch_data(\"adult\")\n",
    "print(\"data.x_train.shape: \", data.x_train.shape)\n",
    "print(\"data.x_test.shape: \", data.x_test.shape)\n",
    "origin_evaluator, train_evaluator, test_evaluator = Evaluator(data.s_train, \"origin\"), Evaluator(data.s_train,\n",
    "                                                                                                 \"train\"), Evaluator(\n",
    "    data.s_test, \"test\")\n",
    "if data.s_val is not None:\n",
    "    val_evaluator = Evaluator(data.s_val, \"val\")\n",
    "\n",
    "n_features, n_classes, n_groups = data.x_train.shape[1], len(np.unique(data.y_train)), len(np.unique(data.s_train))\n",
    "if n_classes == 2:\n",
    "    n_classes = 1\n",
    "if n_groups == 2:\n",
    "    n_groups = 1\n",
    "\n",
    "print(\"========== before train ==========\")\n",
    "origin_res = origin_evaluator(data.y_train, no_train=True)"
   ]
  },
  {
   "cell_type": "code",
   "execution_count": 9,
   "metadata": {},
   "outputs": [
    {
     "ename": "AttributeError",
     "evalue": "'list' object has no attribute 'reshape'",
     "output_type": "error",
     "traceback": [
      "\u001b[1;31m---------------------------------------------------------------------------\u001b[0m",
      "\u001b[1;31mAttributeError\u001b[0m                            Traceback (most recent call last)",
      "\u001b[1;32m~\\AppData\\Local\\Temp\\ipykernel_29664\\1953133932.py\u001b[0m in \u001b[0;36m<module>\u001b[1;34m\u001b[0m\n\u001b[0;32m      6\u001b[0m \u001b[0mloss_lists\u001b[0m\u001b[1;33m,\u001b[0m \u001b[0mval_lists\u001b[0m\u001b[1;33m,\u001b[0m \u001b[0mtrain_infos\u001b[0m\u001b[1;33m,\u001b[0m \u001b[0mval_infos\u001b[0m \u001b[1;33m=\u001b[0m \u001b[1;33m[\u001b[0m\u001b[1;33m]\u001b[0m\u001b[1;33m,\u001b[0m \u001b[1;33m[\u001b[0m\u001b[1;33m]\u001b[0m\u001b[1;33m,\u001b[0m \u001b[1;33m[\u001b[0m\u001b[1;33m]\u001b[0m\u001b[1;33m,\u001b[0m \u001b[1;33m[\u001b[0m\u001b[1;33m]\u001b[0m\u001b[1;33m\u001b[0m\u001b[1;33m\u001b[0m\u001b[0m\n\u001b[0;32m      7\u001b[0m \u001b[1;32mfor\u001b[0m \u001b[0mstage\u001b[0m \u001b[1;32min\u001b[0m \u001b[0mstages\u001b[0m\u001b[1;33m:\u001b[0m\u001b[1;33m\u001b[0m\u001b[1;33m\u001b[0m\u001b[0m\n\u001b[1;32m----> 8\u001b[1;33m     \u001b[0mprint\u001b[0m\u001b[1;33m(\u001b[0m\u001b[0mstage\u001b[0m\u001b[1;33m.\u001b[0m\u001b[0mreshape\u001b[0m\u001b[1;33m(\u001b[0m\u001b[1;33m-\u001b[0m\u001b[1;36m1\u001b[0m\u001b[1;33m,\u001b[0m\u001b[1;36m1\u001b[0m\u001b[1;33m)\u001b[0m\u001b[1;33m)\u001b[0m\u001b[1;33m\u001b[0m\u001b[1;33m\u001b[0m\u001b[0m\n\u001b[0m\u001b[0;32m      9\u001b[0m     \u001b[1;31m# TODO: try set1 U set2\u001b[0m\u001b[1;33m\u001b[0m\u001b[1;33m\u001b[0m\u001b[1;33m\u001b[0m\u001b[0m\n\u001b[0;32m     10\u001b[0m     \u001b[0mx_train\u001b[0m \u001b[1;33m=\u001b[0m \u001b[0mdata\u001b[0m\u001b[1;33m.\u001b[0m\u001b[0mx_train\u001b[0m\u001b[1;33m[\u001b[0m\u001b[0mstage\u001b[0m\u001b[1;33m,\u001b[0m \u001b[1;33m:\u001b[0m\u001b[1;33m]\u001b[0m\u001b[1;33m\u001b[0m\u001b[1;33m\u001b[0m\u001b[0m\n",
      "\u001b[1;31mAttributeError\u001b[0m: 'list' object has no attribute 'reshape'"
     ]
    }
   ],
   "source": [
    "# CL test\n",
    "clf_cl = AdversarialDebiasing(n_features, n_classes, n_groups, adversary_loss_weight=0.1,\n",
    "                              scope_name='CL_Adversary_classifier', num_epochs=500,\n",
    "                              batch_size=512, classifier_num_hidden_units=512, random_state=42, debias=True)\n",
    "stages = get_curriculum_stages('data/adult/sorted_idx.json', N=3)\n",
    "loss_lists, val_lists, train_infos, val_infos = [], [], [], []\n",
    "for stage in stages:\n",
    "    stage = \n",
    "    # TODO: try set1 U set2\n",
    "    x_train = data.x_train[stage, :]\n",
    "    y_train = data.y_train[stage]\n",
    "    s_train = data.s_train[stage]\n",
    "    loss_list, val_list, train_info, val_info = \\\n",
    "        clf.fit(x_train, y_train, s_train, early_stopping=True, validation_set=[data.x_val, data.y_val, data.s_val])\n",
    "    loss_lists.append(loss_list)\n",
    "    val_lists.append(val_list)\n",
    "    train_infos.append(train_info)\n",
    "    val_infos.append(val_info)"
   ]
  },
  {
   "cell_type": "code",
   "execution_count": null,
   "metadata": {},
   "outputs": [],
   "source": []
  }
 ],
 "metadata": {
  "kernelspec": {
   "display_name": "Python 3 (ipykernel)",
   "language": "python",
   "name": "python3"
  },
  "language_info": {
   "codemirror_mode": {
    "name": "ipython",
    "version": 3
   },
   "file_extension": ".py",
   "mimetype": "text/x-python",
   "name": "python",
   "nbconvert_exporter": "python",
   "pygments_lexer": "ipython3",
   "version": "3.7.4"
  }
 },
 "nbformat": 4,
 "nbformat_minor": 1
}
