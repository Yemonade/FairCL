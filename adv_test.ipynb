{
 "cells": [
  {
   "cell_type": "code",
   "execution_count": 71,
   "metadata": {},
   "outputs": [],
   "source": [
    "import warnings\n",
    "warnings.filterwarnings(\"ignore\", category=FutureWarning)\n",
    "\n",
    "import sys\n",
    "sys.path.append('D:\\\\Compute Science\\\\Machine Learning\\\\论文\\\\项目\\\\FairSPL\\\\venv_torch')\n",
    "sys.path.append('D:\\\\Compute Science\\\\Machine Learning\\\\论文\\\\项目\\\\FairSPL\\\\venv_torch\\\\lib\\\\site-packages')"
   ]
  },
  {
   "cell_type": "code",
   "execution_count": 64,
   "metadata": {
    "pycharm": {
     "is_executing": true
    }
   },
   "outputs": [],
   "source": [
    "import json\n",
    "\n",
    "import numpy as np\n",
    "import matplotlib.pyplot as plt\n",
    "import torch\n",
    "\n",
    "from dataset import fetch_data\n",
    "from models.AdversarialDebiasing import AdversarialDebiasing\n",
    "from eval import Evaluator\n",
    "from utils import get_curriculum_stages"
   ]
  },
  {
   "cell_type": "code",
   "execution_count": 3,
   "metadata": {},
   "outputs": [
    {
     "name": "stdout",
     "output_type": "stream",
     "text": [
      "Loading Adult dataset..\n",
      "train_val_df.shape:  (32561, 15)\n",
      "test_df.shape:  (12661, 15)\n"
     ]
    },
    {
     "name": "stderr",
     "output_type": "stream",
     "text": [
      "E:\\Environment\\python\\python3.7.4\\lib\\site-packages\\pandas\\core\\frame.py:4913: SettingWithCopyWarning: \n",
      "A value is trying to be set on a copy of a slice from a DataFrame\n",
      "\n",
      "See the caveats in the documentation: https://pandas.pydata.org/pandas-docs/stable/user_guide/indexing.html#returning-a-view-versus-a-copy\n",
      "  errors=errors,\n"
     ]
    },
    {
     "name": "stdout",
     "output_type": "stream",
     "text": [
      "Dataset statistic - #total: 45222; #train: 26049; #val.: 6512; #test: 12661; #dim.: 102\n",
      "\n",
      "data.x_train.shape:  (26049, 102)\n",
      "data.x_test.shape:  (12661, 102)\n",
      "========== before train ==========\n",
      "========== Results on origin ==========\n",
      "Grp. 0 - #instance: 8460; #pos : 954\n",
      "Grp. 1 - #instance: 17589; #pos : 5496\n",
      "Demographic parity: 0.199702; Equal opportunity: 0.000000; Average odds difference: 0.000000\n",
      "\n",
      "========== Starting Training without Mitigation... ==========\n"
     ]
    },
    {
     "name": "stderr",
     "output_type": "stream",
     "text": [
      "Classifier Training Epoch:   1%|\u001b[32m▏         \u001b[0m| 7/500 [00:12<13:46,  1.68s/it, acc=0.805, loss=3.94]"
     ]
    },
    {
     "name": "stdout",
     "output_type": "stream",
     "text": [
      "EarlyStopping counter: 1 out of 100\n"
     ]
    },
    {
     "name": "stderr",
     "output_type": "stream",
     "text": [
      "Classifier Training Epoch:   3%|\u001b[32m▎         \u001b[0m| 14/500 [00:26<18:22,  2.27s/it, acc=0.805, loss=4.02]"
     ]
    },
    {
     "name": "stdout",
     "output_type": "stream",
     "text": [
      "EarlyStopping counter: 1 out of 100\n"
     ]
    },
    {
     "name": "stderr",
     "output_type": "stream",
     "text": [
      "Classifier Training Epoch:   4%|\u001b[32m▎         \u001b[0m| 18/500 [00:34<16:21,  2.04s/it, acc=0.824, loss=3.2] "
     ]
    },
    {
     "name": "stdout",
     "output_type": "stream",
     "text": [
      "EarlyStopping counter: 1 out of 100\n"
     ]
    },
    {
     "name": "stderr",
     "output_type": "stream",
     "text": [
      "Classifier Training Epoch:   4%|\u001b[32m▍         \u001b[0m| 20/500 [00:38<16:14,  2.03s/it, acc=0.799, loss=3.22] "
     ]
    },
    {
     "name": "stdout",
     "output_type": "stream",
     "text": [
      "EarlyStopping counter: 1 out of 100\n"
     ]
    },
    {
     "name": "stderr",
     "output_type": "stream",
     "text": [
      "Classifier Training Epoch:   4%|\u001b[32m▍         \u001b[0m| 22/500 [00:42<16:42,  2.10s/it, acc=0.771, loss=3.26]"
     ]
    },
    {
     "name": "stdout",
     "output_type": "stream",
     "text": [
      "EarlyStopping counter: 1 out of 100\n"
     ]
    },
    {
     "name": "stderr",
     "output_type": "stream",
     "text": [
      "Classifier Training Epoch:   5%|\u001b[32m▍         \u001b[0m| 24/500 [00:46<15:49,  1.99s/it, acc=0.832, loss=2.68] "
     ]
    },
    {
     "name": "stdout",
     "output_type": "stream",
     "text": [
      "EarlyStopping counter: 1 out of 100\n"
     ]
    },
    {
     "name": "stderr",
     "output_type": "stream",
     "text": [
      "Classifier Training Epoch:   5%|\u001b[32m▌         \u001b[0m| 26/500 [00:50<15:33,  1.97s/it, acc=0.768, loss=2.85] "
     ]
    },
    {
     "name": "stdout",
     "output_type": "stream",
     "text": [
      "EarlyStopping counter: 1 out of 100\n"
     ]
    },
    {
     "name": "stderr",
     "output_type": "stream",
     "text": [
      "Classifier Training Epoch:   6%|\u001b[32m▌         \u001b[0m| 29/500 [00:55<13:20,  1.70s/it, acc=0.803, loss=2.87] "
     ]
    },
    {
     "name": "stdout",
     "output_type": "stream",
     "text": [
      "EarlyStopping counter: 1 out of 100\n"
     ]
    },
    {
     "name": "stderr",
     "output_type": "stream",
     "text": [
      "Classifier Training Epoch:   7%|\u001b[32m▋         \u001b[0m| 33/500 [01:01<12:48,  1.65s/it, acc=0.777, loss=2.63] "
     ]
    },
    {
     "name": "stdout",
     "output_type": "stream",
     "text": [
      "EarlyStopping counter: 1 out of 100\n"
     ]
    },
    {
     "name": "stderr",
     "output_type": "stream",
     "text": [
      "Classifier Training Epoch:   7%|\u001b[32m▋         \u001b[0m| 34/500 [01:03<12:41,  1.63s/it, acc=0.783, loss=2.7]  "
     ]
    },
    {
     "name": "stdout",
     "output_type": "stream",
     "text": [
      "EarlyStopping counter: 2 out of 100\n"
     ]
    },
    {
     "name": "stderr",
     "output_type": "stream",
     "text": [
      "Classifier Training Epoch:   7%|\u001b[32m▋         \u001b[0m| 37/500 [01:14<24:27,  3.17s/it, acc=0.74, loss=3.34]  "
     ]
    },
    {
     "name": "stdout",
     "output_type": "stream",
     "text": [
      "EarlyStopping counter: 1 out of 100\n"
     ]
    },
    {
     "name": "stderr",
     "output_type": "stream",
     "text": [
      "Classifier Training Epoch:   8%|\u001b[32m▊         \u001b[0m| 38/500 [01:19<30:28,  3.96s/it, acc=0.773, loss=2.7]  "
     ]
    },
    {
     "name": "stdout",
     "output_type": "stream",
     "text": [
      "EarlyStopping counter: 2 out of 100\n"
     ]
    },
    {
     "name": "stderr",
     "output_type": "stream",
     "text": [
      "Classifier Training Epoch:   8%|\u001b[32m▊         \u001b[0m| 40/500 [01:28<32:47,  4.28s/it, acc=0.787, loss=2.56] "
     ]
    },
    {
     "name": "stdout",
     "output_type": "stream",
     "text": [
      "EarlyStopping counter: 1 out of 100\n"
     ]
    },
    {
     "name": "stderr",
     "output_type": "stream",
     "text": [
      "Classifier Training Epoch:   9%|\u001b[32m▉         \u001b[0m| 45/500 [01:51<33:16,  4.39s/it, acc=0.754, loss=2.19] "
     ]
    },
    {
     "name": "stdout",
     "output_type": "stream",
     "text": [
      "EarlyStopping counter: 1 out of 100\n"
     ]
    },
    {
     "name": "stderr",
     "output_type": "stream",
     "text": [
      "Classifier Training Epoch:  10%|\u001b[32m█         \u001b[0m| 50/500 [02:15<35:34,  4.74s/it, acc=0.807, loss=2.84] "
     ]
    },
    {
     "name": "stdout",
     "output_type": "stream",
     "text": [
      "EarlyStopping counter: 1 out of 100\n"
     ]
    },
    {
     "name": "stderr",
     "output_type": "stream",
     "text": [
      "Classifier Training Epoch:  10%|\u001b[32m█         \u001b[0m| 51/500 [02:16<29:17,  3.91s/it, acc=0.824, loss=1.69]"
     ]
    },
    {
     "name": "stdout",
     "output_type": "stream",
     "text": [
      "EarlyStopping counter: 2 out of 100\n"
     ]
    },
    {
     "name": "stderr",
     "output_type": "stream",
     "text": [
      "Classifier Training Epoch:  10%|\u001b[32m█         \u001b[0m| 52/500 [02:18<23:28,  3.14s/it, acc=0.816, loss=2.35] "
     ]
    },
    {
     "name": "stdout",
     "output_type": "stream",
     "text": [
      "EarlyStopping counter: 3 out of 100\n"
     ]
    },
    {
     "name": "stderr",
     "output_type": "stream",
     "text": [
      "Classifier Training Epoch:  11%|\u001b[32m█         \u001b[0m| 53/500 [02:19<20:05,  2.70s/it, acc=0.801, loss=2.45] "
     ]
    },
    {
     "name": "stdout",
     "output_type": "stream",
     "text": [
      "EarlyStopping counter: 4 out of 100\n"
     ]
    },
    {
     "name": "stderr",
     "output_type": "stream",
     "text": [
      "Classifier Training Epoch:  11%|\u001b[32m█         \u001b[0m| 54/500 [02:21<17:46,  2.39s/it, acc=0.803, loss=2.19] "
     ]
    },
    {
     "name": "stdout",
     "output_type": "stream",
     "text": [
      "EarlyStopping counter: 5 out of 100\n"
     ]
    },
    {
     "name": "stderr",
     "output_type": "stream",
     "text": [
      "Classifier Training Epoch:  11%|\u001b[32m█         \u001b[0m| 55/500 [02:22<15:40,  2.11s/it, acc=0.844, loss=1.71] "
     ]
    },
    {
     "name": "stdout",
     "output_type": "stream",
     "text": [
      "EarlyStopping counter: 6 out of 100\n"
     ]
    },
    {
     "name": "stderr",
     "output_type": "stream",
     "text": [
      "Classifier Training Epoch:  11%|\u001b[32m█         \u001b[0m| 56/500 [02:24<14:22,  1.94s/it, acc=0.818, loss=1.62] "
     ]
    },
    {
     "name": "stdout",
     "output_type": "stream",
     "text": [
      "EarlyStopping counter: 7 out of 100\n"
     ]
    },
    {
     "name": "stderr",
     "output_type": "stream",
     "text": [
      "Classifier Training Epoch:  11%|\u001b[32m█▏        \u001b[0m| 57/500 [02:25<13:14,  1.79s/it, acc=0.797, loss=2.12] "
     ]
    },
    {
     "name": "stdout",
     "output_type": "stream",
     "text": [
      "EarlyStopping counter: 8 out of 100\n"
     ]
    },
    {
     "name": "stderr",
     "output_type": "stream",
     "text": [
      "Classifier Training Epoch:  12%|\u001b[32m█▏        \u001b[0m| 58/500 [02:27<12:15,  1.66s/it, acc=0.807, loss=1.99] "
     ]
    },
    {
     "name": "stdout",
     "output_type": "stream",
     "text": [
      "EarlyStopping counter: 9 out of 100\n"
     ]
    },
    {
     "name": "stderr",
     "output_type": "stream",
     "text": [
      "Classifier Training Epoch:  12%|\u001b[32m█▏        \u001b[0m| 59/500 [02:28<11:53,  1.62s/it, acc=0.807, loss=1.65] "
     ]
    },
    {
     "name": "stdout",
     "output_type": "stream",
     "text": [
      "EarlyStopping counter: 10 out of 100\n"
     ]
    },
    {
     "name": "stderr",
     "output_type": "stream",
     "text": [
      "Classifier Training Epoch:  12%|\u001b[32m█▏        \u001b[0m| 60/500 [02:29<11:28,  1.56s/it, acc=0.807, loss=1.89] "
     ]
    },
    {
     "name": "stdout",
     "output_type": "stream",
     "text": [
      "EarlyStopping counter: 11 out of 100\n"
     ]
    },
    {
     "name": "stderr",
     "output_type": "stream",
     "text": [
      "Classifier Training Epoch:  12%|\u001b[32m█▏        \u001b[0m| 61/500 [02:31<10:58,  1.50s/it, acc=0.818, loss=1.65] "
     ]
    },
    {
     "name": "stdout",
     "output_type": "stream",
     "text": [
      "EarlyStopping counter: 12 out of 100\n"
     ]
    },
    {
     "name": "stderr",
     "output_type": "stream",
     "text": [
      "Classifier Training Epoch:  12%|\u001b[32m█▏        \u001b[0m| 62/500 [02:32<10:46,  1.48s/it, acc=0.779, loss=2.03] "
     ]
    },
    {
     "name": "stdout",
     "output_type": "stream",
     "text": [
      "EarlyStopping counter: 13 out of 100\n"
     ]
    },
    {
     "name": "stderr",
     "output_type": "stream",
     "text": [
      "Classifier Training Epoch:  13%|\u001b[32m█▎        \u001b[0m| 63/500 [02:34<10:44,  1.47s/it, acc=0.812, loss=1.68] "
     ]
    },
    {
     "name": "stdout",
     "output_type": "stream",
     "text": [
      "EarlyStopping counter: 14 out of 100\n"
     ]
    },
    {
     "name": "stderr",
     "output_type": "stream",
     "text": [
      "Classifier Training Epoch:  13%|\u001b[32m█▎        \u001b[0m| 64/500 [02:35<10:30,  1.45s/it, acc=0.812, loss=1.59] "
     ]
    },
    {
     "name": "stdout",
     "output_type": "stream",
     "text": [
      "EarlyStopping counter: 15 out of 100\n"
     ]
    },
    {
     "name": "stderr",
     "output_type": "stream",
     "text": [
      "Classifier Training Epoch:  13%|\u001b[32m█▎        \u001b[0m| 65/500 [02:36<10:33,  1.46s/it, acc=0.822, loss=1.38] "
     ]
    },
    {
     "name": "stdout",
     "output_type": "stream",
     "text": [
      "EarlyStopping counter: 16 out of 100\n"
     ]
    },
    {
     "name": "stderr",
     "output_type": "stream",
     "text": [
      "Classifier Training Epoch:  13%|\u001b[32m█▎        \u001b[0m| 66/500 [02:38<10:36,  1.47s/it, acc=0.812, loss=1.45] "
     ]
    },
    {
     "name": "stdout",
     "output_type": "stream",
     "text": [
      "EarlyStopping counter: 17 out of 100\n"
     ]
    },
    {
     "name": "stderr",
     "output_type": "stream",
     "text": [
      "Classifier Training Epoch:  13%|\u001b[32m█▎        \u001b[0m| 67/500 [02:40<10:27,  1.45s/it, acc=0.797, loss=2.06] "
     ]
    },
    {
     "name": "stdout",
     "output_type": "stream",
     "text": [
      "EarlyStopping counter: 18 out of 100\n"
     ]
    },
    {
     "name": "stderr",
     "output_type": "stream",
     "text": [
      "Classifier Training Epoch:  14%|\u001b[32m█▎        \u001b[0m| 68/500 [02:41<10:52,  1.51s/it, acc=0.822, loss=1.25] "
     ]
    },
    {
     "name": "stdout",
     "output_type": "stream",
     "text": [
      "EarlyStopping counter: 19 out of 100\n"
     ]
    },
    {
     "name": "stderr",
     "output_type": "stream",
     "text": [
      "Classifier Training Epoch:  14%|\u001b[32m█▍        \u001b[0m| 69/500 [02:42<10:48,  1.51s/it, acc=0.801, loss=1.8]  "
     ]
    },
    {
     "name": "stdout",
     "output_type": "stream",
     "text": [
      "EarlyStopping counter: 20 out of 100\n"
     ]
    },
    {
     "name": "stderr",
     "output_type": "stream",
     "text": [
      "Classifier Training Epoch:  14%|\u001b[32m█▍        \u001b[0m| 70/500 [02:44<10:46,  1.50s/it, acc=0.805, loss=1.69] "
     ]
    },
    {
     "name": "stdout",
     "output_type": "stream",
     "text": [
      "EarlyStopping counter: 21 out of 100\n"
     ]
    },
    {
     "name": "stderr",
     "output_type": "stream",
     "text": [
      "Classifier Training Epoch:  14%|\u001b[32m█▍        \u001b[0m| 71/500 [02:45<10:41,  1.49s/it, acc=0.854, loss=1.28] "
     ]
    },
    {
     "name": "stdout",
     "output_type": "stream",
     "text": [
      "EarlyStopping counter: 22 out of 100\n"
     ]
    },
    {
     "name": "stderr",
     "output_type": "stream",
     "text": [
      "Classifier Training Epoch:  14%|\u001b[32m█▍        \u001b[0m| 72/500 [02:47<10:38,  1.49s/it, acc=0.793, loss=1.56] "
     ]
    },
    {
     "name": "stdout",
     "output_type": "stream",
     "text": [
      "EarlyStopping counter: 23 out of 100\n"
     ]
    },
    {
     "name": "stderr",
     "output_type": "stream",
     "text": [
      "Classifier Training Epoch:  15%|\u001b[32m█▍        \u001b[0m| 73/500 [02:48<10:34,  1.49s/it, acc=0.766, loss=1.92] "
     ]
    },
    {
     "name": "stdout",
     "output_type": "stream",
     "text": [
      "EarlyStopping counter: 24 out of 100\n"
     ]
    },
    {
     "name": "stderr",
     "output_type": "stream",
     "text": [
      "Classifier Training Epoch:  15%|\u001b[32m█▍        \u001b[0m| 74/500 [02:50<10:39,  1.50s/it, acc=0.811, loss=1.46] "
     ]
    },
    {
     "name": "stdout",
     "output_type": "stream",
     "text": [
      "EarlyStopping counter: 25 out of 100\n"
     ]
    },
    {
     "name": "stderr",
     "output_type": "stream",
     "text": [
      "Classifier Training Epoch:  15%|\u001b[32m█▌        \u001b[0m| 75/500 [02:51<10:37,  1.50s/it, acc=0.807, loss=1.54] "
     ]
    },
    {
     "name": "stdout",
     "output_type": "stream",
     "text": [
      "EarlyStopping counter: 26 out of 100\n"
     ]
    },
    {
     "name": "stderr",
     "output_type": "stream",
     "text": [
      "Classifier Training Epoch:  15%|\u001b[32m█▌        \u001b[0m| 76/500 [02:53<10:27,  1.48s/it, acc=0.783, loss=1.56] "
     ]
    },
    {
     "name": "stdout",
     "output_type": "stream",
     "text": [
      "EarlyStopping counter: 27 out of 100\n"
     ]
    },
    {
     "name": "stderr",
     "output_type": "stream",
     "text": [
      "Classifier Training Epoch:  15%|\u001b[32m█▌        \u001b[0m| 77/500 [02:54<10:36,  1.50s/it, acc=0.771, loss=1.58] "
     ]
    },
    {
     "name": "stdout",
     "output_type": "stream",
     "text": [
      "EarlyStopping counter: 28 out of 100\n"
     ]
    },
    {
     "name": "stderr",
     "output_type": "stream",
     "text": [
      "Classifier Training Epoch:  16%|\u001b[32m█▌        \u001b[0m| 79/500 [02:57<10:37,  1.51s/it, acc=0.805, loss=1.38] "
     ]
    },
    {
     "name": "stdout",
     "output_type": "stream",
     "text": [
      "EarlyStopping counter: 1 out of 100\n"
     ]
    },
    {
     "name": "stderr",
     "output_type": "stream",
     "text": [
      "Classifier Training Epoch:  16%|\u001b[32m█▌        \u001b[0m| 81/500 [03:00<10:33,  1.51s/it, acc=0.811, loss=1.09] "
     ]
    },
    {
     "name": "stdout",
     "output_type": "stream",
     "text": [
      "EarlyStopping counter: 1 out of 100\n"
     ]
    },
    {
     "name": "stderr",
     "output_type": "stream",
     "text": [
      "Classifier Training Epoch:  16%|\u001b[32m█▋        \u001b[0m| 82/500 [03:02<10:37,  1.53s/it, acc=0.828, loss=1.22] "
     ]
    },
    {
     "name": "stdout",
     "output_type": "stream",
     "text": [
      "EarlyStopping counter: 2 out of 100\n"
     ]
    },
    {
     "name": "stderr",
     "output_type": "stream",
     "text": [
      "Classifier Training Epoch:  17%|\u001b[32m█▋        \u001b[0m| 85/500 [03:06<10:38,  1.54s/it, acc=0.838, loss=1.24] "
     ]
    },
    {
     "name": "stdout",
     "output_type": "stream",
     "text": [
      "EarlyStopping counter: 1 out of 100\n"
     ]
    },
    {
     "name": "stderr",
     "output_type": "stream",
     "text": [
      "Classifier Training Epoch:  17%|\u001b[32m█▋        \u001b[0m| 86/500 [03:08<10:43,  1.55s/it, acc=0.775, loss=1.55] "
     ]
    },
    {
     "name": "stdout",
     "output_type": "stream",
     "text": [
      "EarlyStopping counter: 2 out of 100\n"
     ]
    },
    {
     "name": "stderr",
     "output_type": "stream",
     "text": [
      "Classifier Training Epoch:  18%|\u001b[32m█▊        \u001b[0m| 88/500 [03:11<10:40,  1.56s/it, acc=0.789, loss=1.27] "
     ]
    },
    {
     "name": "stdout",
     "output_type": "stream",
     "text": [
      "EarlyStopping counter: 1 out of 100\n"
     ]
    },
    {
     "name": "stderr",
     "output_type": "stream",
     "text": [
      "Classifier Training Epoch:  18%|\u001b[32m█▊        \u001b[0m| 91/500 [03:16<10:40,  1.57s/it, acc=0.812, loss=1.25] "
     ]
    },
    {
     "name": "stdout",
     "output_type": "stream",
     "text": [
      "EarlyStopping counter: 1 out of 100\n"
     ]
    },
    {
     "name": "stderr",
     "output_type": "stream",
     "text": [
      "Classifier Training Epoch:  19%|\u001b[32m█▉        \u001b[0m| 94/500 [03:20<10:26,  1.54s/it, acc=0.805, loss=1.31] "
     ]
    },
    {
     "name": "stdout",
     "output_type": "stream",
     "text": [
      "EarlyStopping counter: 1 out of 100\n"
     ]
    },
    {
     "name": "stderr",
     "output_type": "stream",
     "text": [
      "Classifier Training Epoch:  20%|\u001b[32m██        \u001b[0m| 100/500 [03:32<12:24,  1.86s/it, acc=0.795, loss=1.33] "
     ]
    },
    {
     "name": "stdout",
     "output_type": "stream",
     "text": [
      "EarlyStopping counter: 1 out of 100\n"
     ]
    },
    {
     "name": "stderr",
     "output_type": "stream",
     "text": [
      "Classifier Training Epoch:  20%|\u001b[32m██        \u001b[0m| 101/500 [03:34<11:57,  1.80s/it, acc=0.832, loss=1]    "
     ]
    },
    {
     "name": "stdout",
     "output_type": "stream",
     "text": [
      "EarlyStopping counter: 2 out of 100\n"
     ]
    },
    {
     "name": "stderr",
     "output_type": "stream",
     "text": [
      "Classifier Training Epoch:  20%|\u001b[32m██        \u001b[0m| 102/500 [03:35<11:43,  1.77s/it, acc=0.82, loss=0.967] "
     ]
    },
    {
     "name": "stdout",
     "output_type": "stream",
     "text": [
      "EarlyStopping counter: 3 out of 100\n"
     ]
    },
    {
     "name": "stderr",
     "output_type": "stream",
     "text": [
      "Classifier Training Epoch:  21%|\u001b[32m██        \u001b[0m| 103/500 [03:37<11:30,  1.74s/it, acc=0.816, loss=1.1]  "
     ]
    },
    {
     "name": "stdout",
     "output_type": "stream",
     "text": [
      "EarlyStopping counter: 4 out of 100\n"
     ]
    },
    {
     "name": "stderr",
     "output_type": "stream",
     "text": [
      "Classifier Training Epoch:  21%|\u001b[32m██        \u001b[0m| 104/500 [03:39<11:24,  1.73s/it, acc=0.824, loss=0.93] "
     ]
    },
    {
     "name": "stdout",
     "output_type": "stream",
     "text": [
      "EarlyStopping counter: 5 out of 100\n"
     ]
    },
    {
     "name": "stderr",
     "output_type": "stream",
     "text": [
      "Classifier Training Epoch:  21%|\u001b[32m██        \u001b[0m| 105/500 [03:40<11:07,  1.69s/it, acc=0.824, loss=1.05] "
     ]
    },
    {
     "name": "stdout",
     "output_type": "stream",
     "text": [
      "EarlyStopping counter: 6 out of 100\n"
     ]
    },
    {
     "name": "stderr",
     "output_type": "stream",
     "text": [
      "Classifier Training Epoch:  21%|\u001b[32m██        \u001b[0m| 106/500 [03:42<11:20,  1.73s/it, acc=0.82, loss=0.973] "
     ]
    },
    {
     "name": "stdout",
     "output_type": "stream",
     "text": [
      "EarlyStopping counter: 7 out of 100\n"
     ]
    },
    {
     "name": "stderr",
     "output_type": "stream",
     "text": [
      "Classifier Training Epoch:  21%|\u001b[32m██▏       \u001b[0m| 107/500 [03:47<12:08,  1.85s/it, acc=0.846, loss=0.946]"
     ]
    },
    {
     "name": "stdout",
     "output_type": "stream",
     "text": [
      "EarlyStopping counter: 8 out of 100\n"
     ]
    },
    {
     "name": "stderr",
     "output_type": "stream",
     "text": [
      "Classifier Training Epoch:  22%|\u001b[32m██▏       \u001b[0m| 108/500 [03:52<20:05,  3.08s/it, acc=0.852, loss=0.761]"
     ]
    },
    {
     "name": "stdout",
     "output_type": "stream",
     "text": [
      "EarlyStopping counter: 9 out of 100\n"
     ]
    },
    {
     "name": "stderr",
     "output_type": "stream",
     "text": [
      "Classifier Training Epoch:  22%|\u001b[32m██▏       \u001b[0m| 109/500 [03:57<23:55,  3.67s/it, acc=0.816, loss=0.964]"
     ]
    },
    {
     "name": "stdout",
     "output_type": "stream",
     "text": [
      "EarlyStopping counter: 10 out of 100\n"
     ]
    },
    {
     "name": "stderr",
     "output_type": "stream",
     "text": [
      "Classifier Training Epoch:  22%|\u001b[32m██▏       \u001b[0m| 110/500 [04:02<25:54,  3.99s/it, acc=0.811, loss=0.749]"
     ]
    },
    {
     "name": "stdout",
     "output_type": "stream",
     "text": [
      "EarlyStopping counter: 11 out of 100\n"
     ]
    },
    {
     "name": "stderr",
     "output_type": "stream",
     "text": [
      "Classifier Training Epoch:  22%|\u001b[32m██▏       \u001b[0m| 111/500 [04:07<27:39,  4.27s/it, acc=0.803, loss=0.936]"
     ]
    },
    {
     "name": "stdout",
     "output_type": "stream",
     "text": [
      "EarlyStopping counter: 12 out of 100\n"
     ]
    },
    {
     "name": "stderr",
     "output_type": "stream",
     "text": [
      "Classifier Training Epoch:  22%|\u001b[32m██▏       \u001b[0m| 112/500 [04:12<29:45,  4.60s/it, acc=0.824, loss=0.726]"
     ]
    },
    {
     "name": "stdout",
     "output_type": "stream",
     "text": [
      "EarlyStopping counter: 13 out of 100\n"
     ]
    },
    {
     "name": "stderr",
     "output_type": "stream",
     "text": [
      "Classifier Training Epoch:  23%|\u001b[32m██▎       \u001b[0m| 113/500 [04:16<29:31,  4.58s/it, acc=0.818, loss=0.991]"
     ]
    },
    {
     "name": "stdout",
     "output_type": "stream",
     "text": [
      "EarlyStopping counter: 14 out of 100\n"
     ]
    },
    {
     "name": "stderr",
     "output_type": "stream",
     "text": [
      "Classifier Training Epoch:  23%|\u001b[32m██▎       \u001b[0m| 114/500 [04:20<28:50,  4.48s/it, acc=0.795, loss=0.815]"
     ]
    },
    {
     "name": "stdout",
     "output_type": "stream",
     "text": [
      "EarlyStopping counter: 15 out of 100\n"
     ]
    },
    {
     "name": "stderr",
     "output_type": "stream",
     "text": [
      "Classifier Training Epoch:  23%|\u001b[32m██▎       \u001b[0m| 115/500 [04:23<28:47,  4.49s/it, acc=0.826, loss=1.08] "
     ]
    },
    {
     "name": "stdout",
     "output_type": "stream",
     "text": [
      "EarlyStopping counter: 16 out of 100\n"
     ]
    },
    {
     "name": "stderr",
     "output_type": "stream",
     "text": [
      "Classifier Training Epoch:  23%|\u001b[32m██▎       \u001b[0m| 116/500 [04:25<23:20,  3.65s/it, acc=0.816, loss=0.806]"
     ]
    },
    {
     "name": "stdout",
     "output_type": "stream",
     "text": [
      "EarlyStopping counter: 17 out of 100\n"
     ]
    },
    {
     "name": "stderr",
     "output_type": "stream",
     "text": [
      "Classifier Training Epoch:  23%|\u001b[32m██▎       \u001b[0m| 117/500 [04:26<18:55,  2.97s/it, acc=0.84, loss=0.697] "
     ]
    },
    {
     "name": "stdout",
     "output_type": "stream",
     "text": [
      "EarlyStopping counter: 18 out of 100\n"
     ]
    },
    {
     "name": "stderr",
     "output_type": "stream",
     "text": [
      "Classifier Training Epoch:  24%|\u001b[32m██▎       \u001b[0m| 118/500 [04:28<15:54,  2.50s/it, acc=0.82, loss=0.797] "
     ]
    },
    {
     "name": "stdout",
     "output_type": "stream",
     "text": [
      "EarlyStopping counter: 19 out of 100\n"
     ]
    },
    {
     "name": "stderr",
     "output_type": "stream",
     "text": [
      "Classifier Training Epoch:  24%|\u001b[32m██▍       \u001b[0m| 119/500 [04:29<13:46,  2.17s/it, acc=0.832, loss=0.727]"
     ]
    },
    {
     "name": "stdout",
     "output_type": "stream",
     "text": [
      "EarlyStopping counter: 20 out of 100\n"
     ]
    },
    {
     "name": "stderr",
     "output_type": "stream",
     "text": [
      "Classifier Training Epoch:  24%|\u001b[32m██▍       \u001b[0m| 120/500 [04:31<12:34,  1.99s/it, acc=0.844, loss=0.649]"
     ]
    },
    {
     "name": "stdout",
     "output_type": "stream",
     "text": [
      "EarlyStopping counter: 21 out of 100\n"
     ]
    },
    {
     "name": "stderr",
     "output_type": "stream",
     "text": [
      "Classifier Training Epoch:  24%|\u001b[32m██▍       \u001b[0m| 122/500 [04:34<11:27,  1.82s/it, acc=0.848, loss=0.68] "
     ]
    },
    {
     "name": "stdout",
     "output_type": "stream",
     "text": [
      "EarlyStopping counter: 1 out of 100\n"
     ]
    },
    {
     "name": "stderr",
     "output_type": "stream",
     "text": [
      "Classifier Training Epoch:  25%|\u001b[32m██▌       \u001b[0m| 125/500 [04:38<09:50,  1.57s/it, acc=0.797, loss=0.723]"
     ]
    },
    {
     "name": "stdout",
     "output_type": "stream",
     "text": [
      "EarlyStopping counter: 1 out of 100\n"
     ]
    },
    {
     "name": "stderr",
     "output_type": "stream",
     "text": [
      "Classifier Training Epoch:  25%|\u001b[32m██▌       \u001b[0m| 126/500 [04:40<09:21,  1.50s/it, acc=0.807, loss=0.791]"
     ]
    },
    {
     "name": "stdout",
     "output_type": "stream",
     "text": [
      "EarlyStopping counter: 2 out of 100\n"
     ]
    },
    {
     "name": "stderr",
     "output_type": "stream",
     "text": [
      "Classifier Training Epoch:  26%|\u001b[32m██▌       \u001b[0m| 129/500 [04:57<27:02,  4.37s/it, acc=0.83, loss=0.723] "
     ]
    },
    {
     "name": "stdout",
     "output_type": "stream",
     "text": [
      "EarlyStopping counter: 1 out of 100\n"
     ]
    },
    {
     "name": "stderr",
     "output_type": "stream",
     "text": [
      "Classifier Training Epoch:  26%|\u001b[32m██▋       \u001b[0m| 132/500 [05:10<28:03,  4.58s/it, acc=0.824, loss=0.565]"
     ]
    },
    {
     "name": "stdout",
     "output_type": "stream",
     "text": [
      "EarlyStopping counter: 1 out of 100\n"
     ]
    },
    {
     "name": "stderr",
     "output_type": "stream",
     "text": [
      "Classifier Training Epoch:  27%|\u001b[32m██▋       \u001b[0m| 135/500 [05:15<15:53,  2.61s/it, acc=0.854, loss=0.598]"
     ]
    },
    {
     "name": "stdout",
     "output_type": "stream",
     "text": [
      "EarlyStopping counter: 1 out of 100\n"
     ]
    },
    {
     "name": "stderr",
     "output_type": "stream",
     "text": [
      "Classifier Training Epoch:  27%|\u001b[32m██▋       \u001b[0m| 137/500 [05:17<12:03,  1.99s/it, acc=0.826, loss=0.627]"
     ]
    },
    {
     "name": "stdout",
     "output_type": "stream",
     "text": [
      "EarlyStopping counter: 1 out of 100\n"
     ]
    },
    {
     "name": "stderr",
     "output_type": "stream",
     "text": [
      "Classifier Training Epoch:  28%|\u001b[32m██▊       \u001b[0m| 138/500 [05:19<10:51,  1.80s/it, acc=0.832, loss=0.595]"
     ]
    },
    {
     "name": "stdout",
     "output_type": "stream",
     "text": [
      "EarlyStopping counter: 2 out of 100\n"
     ]
    },
    {
     "name": "stderr",
     "output_type": "stream",
     "text": [
      "Classifier Training Epoch:  28%|\u001b[32m██▊       \u001b[0m| 140/500 [05:22<09:35,  1.60s/it, acc=0.809, loss=0.723]"
     ]
    },
    {
     "name": "stdout",
     "output_type": "stream",
     "text": [
      "EarlyStopping counter: 1 out of 100\n"
     ]
    },
    {
     "name": "stderr",
     "output_type": "stream",
     "text": [
      "Classifier Training Epoch:  28%|\u001b[32m██▊       \u001b[0m| 141/500 [05:23<09:11,  1.54s/it, acc=0.842, loss=0.48] "
     ]
    },
    {
     "name": "stdout",
     "output_type": "stream",
     "text": [
      "EarlyStopping counter: 2 out of 100\n"
     ]
    },
    {
     "name": "stderr",
     "output_type": "stream",
     "text": [
      "Classifier Training Epoch:  29%|\u001b[32m██▊       \u001b[0m| 143/500 [05:26<08:36,  1.45s/it, acc=0.834, loss=0.598]"
     ]
    },
    {
     "name": "stdout",
     "output_type": "stream",
     "text": [
      "EarlyStopping counter: 1 out of 100\n"
     ]
    },
    {
     "name": "stderr",
     "output_type": "stream",
     "text": [
      "Classifier Training Epoch:  29%|\u001b[32m██▉       \u001b[0m| 144/500 [05:27<08:38,  1.46s/it, acc=0.801, loss=0.714]"
     ]
    },
    {
     "name": "stdout",
     "output_type": "stream",
     "text": [
      "EarlyStopping counter: 2 out of 100\n"
     ]
    },
    {
     "name": "stderr",
     "output_type": "stream",
     "text": [
      "Classifier Training Epoch:  30%|\u001b[32m███       \u001b[0m| 150/500 [05:38<10:19,  1.77s/it, acc=0.812, loss=0.782]"
     ]
    },
    {
     "name": "stdout",
     "output_type": "stream",
     "text": [
      "EarlyStopping counter: 1 out of 100\n"
     ]
    },
    {
     "name": "stderr",
     "output_type": "stream",
     "text": [
      "Classifier Training Epoch:  30%|\u001b[32m███       \u001b[0m| 151/500 [05:40<10:37,  1.83s/it, acc=0.848, loss=0.532]"
     ]
    },
    {
     "name": "stdout",
     "output_type": "stream",
     "text": [
      "EarlyStopping counter: 2 out of 100\n"
     ]
    },
    {
     "name": "stderr",
     "output_type": "stream",
     "text": [
      "Classifier Training Epoch:  30%|\u001b[32m███       \u001b[0m| 152/500 [05:41<10:33,  1.82s/it, acc=0.83, loss=0.652] "
     ]
    },
    {
     "name": "stdout",
     "output_type": "stream",
     "text": [
      "EarlyStopping counter: 3 out of 100\n"
     ]
    },
    {
     "name": "stderr",
     "output_type": "stream",
     "text": [
      "Classifier Training Epoch:  31%|\u001b[32m███       \u001b[0m| 153/500 [05:43<10:28,  1.81s/it, acc=0.828, loss=0.636]"
     ]
    },
    {
     "name": "stdout",
     "output_type": "stream",
     "text": [
      "EarlyStopping counter: 4 out of 100\n"
     ]
    },
    {
     "name": "stderr",
     "output_type": "stream",
     "text": [
      "Classifier Training Epoch:  31%|\u001b[32m███       \u001b[0m| 154/500 [05:45<10:02,  1.74s/it, acc=0.859, loss=0.442]"
     ]
    },
    {
     "name": "stdout",
     "output_type": "stream",
     "text": [
      "EarlyStopping counter: 5 out of 100\n"
     ]
    },
    {
     "name": "stderr",
     "output_type": "stream",
     "text": [
      "Classifier Training Epoch:  31%|\u001b[32m███       \u001b[0m| 155/500 [05:46<09:39,  1.68s/it, acc=0.859, loss=0.486]"
     ]
    },
    {
     "name": "stdout",
     "output_type": "stream",
     "text": [
      "EarlyStopping counter: 6 out of 100\n"
     ]
    },
    {
     "name": "stderr",
     "output_type": "stream",
     "text": [
      "Classifier Training Epoch:  31%|\u001b[32m███       \u001b[0m| 156/500 [05:51<11:51,  2.07s/it, acc=0.836, loss=0.439]"
     ]
    },
    {
     "name": "stdout",
     "output_type": "stream",
     "text": [
      "EarlyStopping counter: 7 out of 100\n"
     ]
    },
    {
     "name": "stderr",
     "output_type": "stream",
     "text": [
      "Classifier Training Epoch:  31%|\u001b[32m███▏      \u001b[0m| 157/500 [05:56<17:33,  3.07s/it, acc=0.852, loss=0.461]"
     ]
    },
    {
     "name": "stdout",
     "output_type": "stream",
     "text": [
      "EarlyStopping counter: 8 out of 100\n"
     ]
    },
    {
     "name": "stderr",
     "output_type": "stream",
     "text": [
      "Classifier Training Epoch:  32%|\u001b[32m███▏      \u001b[0m| 158/500 [05:59<20:26,  3.59s/it, acc=0.861, loss=0.509]"
     ]
    },
    {
     "name": "stdout",
     "output_type": "stream",
     "text": [
      "EarlyStopping counter: 9 out of 100\n"
     ]
    },
    {
     "name": "stderr",
     "output_type": "stream",
     "text": [
      "Classifier Training Epoch:  32%|\u001b[32m███▏      \u001b[0m| 159/500 [06:01<16:52,  2.97s/it, acc=0.832, loss=0.519]"
     ]
    },
    {
     "name": "stdout",
     "output_type": "stream",
     "text": [
      "EarlyStopping counter: 10 out of 100\n"
     ]
    },
    {
     "name": "stderr",
     "output_type": "stream",
     "text": [
      "Classifier Training Epoch:  32%|\u001b[32m███▏      \u001b[0m| 160/500 [06:02<14:13,  2.51s/it, acc=0.826, loss=0.518]"
     ]
    },
    {
     "name": "stdout",
     "output_type": "stream",
     "text": [
      "EarlyStopping counter: 11 out of 100\n"
     ]
    },
    {
     "name": "stderr",
     "output_type": "stream",
     "text": [
      "Classifier Training Epoch:  32%|\u001b[32m███▏      \u001b[0m| 161/500 [06:04<12:19,  2.18s/it, acc=0.848, loss=0.451]"
     ]
    },
    {
     "name": "stdout",
     "output_type": "stream",
     "text": [
      "EarlyStopping counter: 12 out of 100\n"
     ]
    },
    {
     "name": "stderr",
     "output_type": "stream",
     "text": [
      "Classifier Training Epoch:  32%|\u001b[32m███▏      \u001b[0m| 162/500 [06:05<11:00,  1.95s/it, acc=0.84, loss=0.504] "
     ]
    },
    {
     "name": "stdout",
     "output_type": "stream",
     "text": [
      "EarlyStopping counter: 13 out of 100\n"
     ]
    },
    {
     "name": "stderr",
     "output_type": "stream",
     "text": [
      "Classifier Training Epoch:  33%|\u001b[32m███▎      \u001b[0m| 163/500 [06:06<10:09,  1.81s/it, acc=0.826, loss=0.399]"
     ]
    },
    {
     "name": "stdout",
     "output_type": "stream",
     "text": [
      "EarlyStopping counter: 14 out of 100\n"
     ]
    },
    {
     "name": "stderr",
     "output_type": "stream",
     "text": [
      "Classifier Training Epoch:  33%|\u001b[32m███▎      \u001b[0m| 164/500 [06:08<09:29,  1.69s/it, acc=0.82, loss=0.522] "
     ]
    },
    {
     "name": "stdout",
     "output_type": "stream",
     "text": [
      "EarlyStopping counter: 15 out of 100\n"
     ]
    },
    {
     "name": "stderr",
     "output_type": "stream",
     "text": [
      "Classifier Training Epoch:  34%|\u001b[32m███▍      \u001b[0m| 169/500 [06:15<08:36,  1.56s/it, acc=0.842, loss=0.443]"
     ]
    },
    {
     "name": "stdout",
     "output_type": "stream",
     "text": [
      "EarlyStopping counter: 1 out of 100\n"
     ]
    },
    {
     "name": "stderr",
     "output_type": "stream",
     "text": [
      "Classifier Training Epoch:  34%|\u001b[32m███▍      \u001b[0m| 170/500 [06:17<08:20,  1.52s/it, acc=0.834, loss=0.453]"
     ]
    },
    {
     "name": "stdout",
     "output_type": "stream",
     "text": [
      "EarlyStopping counter: 2 out of 100\n"
     ]
    },
    {
     "name": "stderr",
     "output_type": "stream",
     "text": [
      "Classifier Training Epoch:  35%|\u001b[32m███▌      \u001b[0m| 175/500 [06:34<14:28,  2.67s/it, acc=0.848, loss=0.434]"
     ]
    },
    {
     "name": "stdout",
     "output_type": "stream",
     "text": [
      "EarlyStopping counter: 1 out of 100\n"
     ]
    },
    {
     "name": "stderr",
     "output_type": "stream",
     "text": [
      "Classifier Training Epoch:  36%|\u001b[32m███▌      \u001b[0m| 180/500 [06:42<08:56,  1.68s/it, acc=0.844, loss=0.399]"
     ]
    },
    {
     "name": "stdout",
     "output_type": "stream",
     "text": [
      "EarlyStopping counter: 1 out of 100\n"
     ]
    },
    {
     "name": "stderr",
     "output_type": "stream",
     "text": [
      "Classifier Training Epoch:  36%|\u001b[32m███▌      \u001b[0m| 181/500 [06:43<09:11,  1.73s/it, acc=0.865, loss=0.333]"
     ]
    },
    {
     "name": "stdout",
     "output_type": "stream",
     "text": [
      "EarlyStopping counter: 2 out of 100\n"
     ]
    },
    {
     "name": "stderr",
     "output_type": "stream",
     "text": [
      "Classifier Training Epoch:  37%|\u001b[32m███▋      \u001b[0m| 184/500 [06:50<11:01,  2.09s/it, acc=0.842, loss=0.363]"
     ]
    },
    {
     "name": "stdout",
     "output_type": "stream",
     "text": [
      "EarlyStopping counter: 1 out of 100\n"
     ]
    },
    {
     "name": "stderr",
     "output_type": "stream",
     "text": [
      "Classifier Training Epoch:  37%|\u001b[32m███▋      \u001b[0m| 185/500 [06:55<15:38,  2.98s/it, acc=0.863, loss=0.372]"
     ]
    },
    {
     "name": "stdout",
     "output_type": "stream",
     "text": [
      "EarlyStopping counter: 2 out of 100\n"
     ]
    },
    {
     "name": "stderr",
     "output_type": "stream",
     "text": [
      "Classifier Training Epoch:  38%|\u001b[32m███▊      \u001b[0m| 190/500 [07:18<22:17,  4.31s/it, acc=0.838, loss=0.413]"
     ]
    },
    {
     "name": "stdout",
     "output_type": "stream",
     "text": [
      "EarlyStopping counter: 1 out of 100\n"
     ]
    },
    {
     "name": "stderr",
     "output_type": "stream",
     "text": [
      "Classifier Training Epoch:  38%|\u001b[32m███▊      \u001b[0m| 191/500 [07:22<22:05,  4.29s/it, acc=0.85, loss=0.479] "
     ]
    },
    {
     "name": "stdout",
     "output_type": "stream",
     "text": [
      "EarlyStopping counter: 2 out of 100\n"
     ]
    },
    {
     "name": "stderr",
     "output_type": "stream",
     "text": [
      "Classifier Training Epoch:  38%|\u001b[32m███▊      \u001b[0m| 192/500 [07:27<22:29,  4.38s/it, acc=0.838, loss=0.418]"
     ]
    },
    {
     "name": "stdout",
     "output_type": "stream",
     "text": [
      "EarlyStopping counter: 3 out of 100\n"
     ]
    },
    {
     "name": "stderr",
     "output_type": "stream",
     "text": [
      "Classifier Training Epoch:  39%|\u001b[32m███▉      \u001b[0m| 194/500 [07:34<21:19,  4.18s/it, acc=0.812, loss=0.519]"
     ]
    },
    {
     "name": "stdout",
     "output_type": "stream",
     "text": [
      "EarlyStopping counter: 1 out of 100\n"
     ]
    },
    {
     "name": "stderr",
     "output_type": "stream",
     "text": [
      "Classifier Training Epoch:  39%|\u001b[32m███▉      \u001b[0m| 197/500 [07:38<11:43,  2.32s/it, acc=0.85, loss=0.412] "
     ]
    },
    {
     "name": "stdout",
     "output_type": "stream",
     "text": [
      "EarlyStopping counter: 1 out of 100\n"
     ]
    },
    {
     "name": "stderr",
     "output_type": "stream",
     "text": [
      "Classifier Training Epoch:  40%|\u001b[32m███▉      \u001b[0m| 198/500 [07:40<10:07,  2.01s/it, acc=0.855, loss=0.419]"
     ]
    },
    {
     "name": "stdout",
     "output_type": "stream",
     "text": [
      "EarlyStopping counter: 2 out of 100\n"
     ]
    },
    {
     "name": "stderr",
     "output_type": "stream",
     "text": [
      "Classifier Training Epoch:  40%|\u001b[32m████      \u001b[0m| 200/500 [07:44<09:06,  1.82s/it, acc=0.855, loss=0.477]"
     ]
    },
    {
     "name": "stdout",
     "output_type": "stream",
     "text": [
      "EarlyStopping counter: 1 out of 100\n"
     ]
    },
    {
     "name": "stderr",
     "output_type": "stream",
     "text": [
      "Classifier Training Epoch:  40%|\u001b[32m████      \u001b[0m| 201/500 [07:45<08:46,  1.76s/it, acc=0.85, loss=0.456] "
     ]
    },
    {
     "name": "stdout",
     "output_type": "stream",
     "text": [
      "EarlyStopping counter: 2 out of 100\n"
     ]
    },
    {
     "name": "stderr",
     "output_type": "stream",
     "text": [
      "Classifier Training Epoch:  40%|\u001b[32m████      \u001b[0m| 202/500 [07:47<08:08,  1.64s/it, acc=0.834, loss=0.364]"
     ]
    },
    {
     "name": "stdout",
     "output_type": "stream",
     "text": [
      "EarlyStopping counter: 3 out of 100\n"
     ]
    },
    {
     "name": "stderr",
     "output_type": "stream",
     "text": [
      "Classifier Training Epoch:  41%|\u001b[32m████      \u001b[0m| 203/500 [07:48<08:16,  1.67s/it, acc=0.846, loss=0.366]"
     ]
    },
    {
     "name": "stdout",
     "output_type": "stream",
     "text": [
      "EarlyStopping counter: 4 out of 100\n"
     ]
    },
    {
     "name": "stderr",
     "output_type": "stream",
     "text": [
      "Classifier Training Epoch:  41%|\u001b[32m████      \u001b[0m| 204/500 [07:50<08:17,  1.68s/it, acc=0.865, loss=0.374]"
     ]
    },
    {
     "name": "stdout",
     "output_type": "stream",
     "text": [
      "EarlyStopping counter: 5 out of 100\n"
     ]
    },
    {
     "name": "stderr",
     "output_type": "stream",
     "text": [
      "Classifier Training Epoch:  41%|\u001b[32m████      \u001b[0m| 205/500 [07:52<07:58,  1.62s/it, acc=0.85, loss=0.469] "
     ]
    },
    {
     "name": "stdout",
     "output_type": "stream",
     "text": [
      "EarlyStopping counter: 6 out of 100\n"
     ]
    },
    {
     "name": "stderr",
     "output_type": "stream",
     "text": [
      "Classifier Training Epoch:  41%|\u001b[32m████      \u001b[0m| 206/500 [07:53<07:51,  1.60s/it, acc=0.873, loss=0.388]"
     ]
    },
    {
     "name": "stdout",
     "output_type": "stream",
     "text": [
      "EarlyStopping counter: 7 out of 100\n"
     ]
    },
    {
     "name": "stderr",
     "output_type": "stream",
     "text": [
      "Classifier Training Epoch:  41%|\u001b[32m████▏     \u001b[0m| 207/500 [07:54<07:35,  1.55s/it, acc=0.84, loss=0.382] "
     ]
    },
    {
     "name": "stdout",
     "output_type": "stream",
     "text": [
      "EarlyStopping counter: 8 out of 100\n"
     ]
    },
    {
     "name": "stderr",
     "output_type": "stream",
     "text": [
      "Classifier Training Epoch:  42%|\u001b[32m████▏     \u001b[0m| 208/500 [07:56<07:26,  1.53s/it, acc=0.879, loss=0.341]"
     ]
    },
    {
     "name": "stdout",
     "output_type": "stream",
     "text": [
      "EarlyStopping counter: 9 out of 100\n"
     ]
    },
    {
     "name": "stderr",
     "output_type": "stream",
     "text": [
      "Classifier Training Epoch:  42%|\u001b[32m████▏     \u001b[0m| 209/500 [07:57<07:24,  1.53s/it, acc=0.865, loss=0.329]"
     ]
    },
    {
     "name": "stdout",
     "output_type": "stream",
     "text": [
      "EarlyStopping counter: 10 out of 100\n"
     ]
    },
    {
     "name": "stderr",
     "output_type": "stream",
     "text": [
      "Classifier Training Epoch:  42%|\u001b[32m████▏     \u001b[0m| 210/500 [07:59<07:23,  1.53s/it, acc=0.848, loss=0.417]"
     ]
    },
    {
     "name": "stdout",
     "output_type": "stream",
     "text": [
      "EarlyStopping counter: 11 out of 100\n"
     ]
    },
    {
     "name": "stderr",
     "output_type": "stream",
     "text": [
      "Classifier Training Epoch:  42%|\u001b[32m████▏     \u001b[0m| 211/500 [08:00<07:13,  1.50s/it, acc=0.844, loss=0.356]"
     ]
    },
    {
     "name": "stdout",
     "output_type": "stream",
     "text": [
      "EarlyStopping counter: 12 out of 100\n"
     ]
    },
    {
     "name": "stderr",
     "output_type": "stream",
     "text": [
      "Classifier Training Epoch:  43%|\u001b[32m████▎     \u001b[0m| 213/500 [08:03<07:17,  1.53s/it, acc=0.873, loss=0.317]"
     ]
    },
    {
     "name": "stdout",
     "output_type": "stream",
     "text": [
      "EarlyStopping counter: 1 out of 100\n"
     ]
    },
    {
     "name": "stderr",
     "output_type": "stream",
     "text": [
      "Classifier Training Epoch:  43%|\u001b[32m████▎     \u001b[0m| 217/500 [08:09<07:12,  1.53s/it, acc=0.854, loss=0.371]"
     ]
    },
    {
     "name": "stdout",
     "output_type": "stream",
     "text": [
      "EarlyStopping counter: 1 out of 100\n"
     ]
    },
    {
     "name": "stderr",
     "output_type": "stream",
     "text": [
      "Classifier Training Epoch:  44%|\u001b[32m████▍     \u001b[0m| 219/500 [08:13<07:15,  1.55s/it, acc=0.85, loss=0.359] "
     ]
    },
    {
     "name": "stdout",
     "output_type": "stream",
     "text": [
      "EarlyStopping counter: 1 out of 100\n"
     ]
    },
    {
     "name": "stderr",
     "output_type": "stream",
     "text": [
      "Classifier Training Epoch:  45%|\u001b[32m████▌     \u001b[0m| 225/500 [08:22<07:14,  1.58s/it, acc=0.842, loss=0.367]"
     ]
    },
    {
     "name": "stdout",
     "output_type": "stream",
     "text": [
      "EarlyStopping counter: 1 out of 100\n"
     ]
    },
    {
     "name": "stderr",
     "output_type": "stream",
     "text": [
      "Classifier Training Epoch:  45%|\u001b[32m████▌     \u001b[0m| 227/500 [08:25<07:04,  1.55s/it, acc=0.855, loss=0.32] "
     ]
    },
    {
     "name": "stdout",
     "output_type": "stream",
     "text": [
      "EarlyStopping counter: 1 out of 100\n"
     ]
    },
    {
     "name": "stderr",
     "output_type": "stream",
     "text": [
      "Classifier Training Epoch:  46%|\u001b[32m████▌     \u001b[0m| 228/500 [08:26<07:07,  1.57s/it, acc=0.859, loss=0.296]"
     ]
    },
    {
     "name": "stdout",
     "output_type": "stream",
     "text": [
      "EarlyStopping counter: 2 out of 100\n"
     ]
    },
    {
     "name": "stderr",
     "output_type": "stream",
     "text": [
      "Classifier Training Epoch:  46%|\u001b[32m████▌     \u001b[0m| 229/500 [08:28<07:07,  1.58s/it, acc=0.846, loss=0.343]"
     ]
    },
    {
     "name": "stdout",
     "output_type": "stream",
     "text": [
      "EarlyStopping counter: 3 out of 100\n"
     ]
    },
    {
     "name": "stderr",
     "output_type": "stream",
     "text": [
      "Classifier Training Epoch:  46%|\u001b[32m████▋     \u001b[0m| 232/500 [08:33<06:59,  1.57s/it, acc=0.861, loss=0.335]"
     ]
    },
    {
     "name": "stdout",
     "output_type": "stream",
     "text": [
      "EarlyStopping counter: 1 out of 100\n"
     ]
    },
    {
     "name": "stderr",
     "output_type": "stream",
     "text": [
      "Classifier Training Epoch:  47%|\u001b[32m████▋     \u001b[0m| 233/500 [08:34<07:00,  1.58s/it, acc=0.859, loss=0.376]"
     ]
    },
    {
     "name": "stdout",
     "output_type": "stream",
     "text": [
      "EarlyStopping counter: 2 out of 100\n"
     ]
    },
    {
     "name": "stderr",
     "output_type": "stream",
     "text": [
      "Classifier Training Epoch:  47%|\u001b[32m████▋     \u001b[0m| 234/500 [08:36<06:58,  1.57s/it, acc=0.869, loss=0.286]"
     ]
    },
    {
     "name": "stdout",
     "output_type": "stream",
     "text": [
      "EarlyStopping counter: 3 out of 100\n"
     ]
    },
    {
     "name": "stderr",
     "output_type": "stream",
     "text": [
      "Classifier Training Epoch:  48%|\u001b[32m████▊     \u001b[0m| 238/500 [08:42<06:55,  1.59s/it, acc=0.848, loss=0.376]"
     ]
    },
    {
     "name": "stdout",
     "output_type": "stream",
     "text": [
      "EarlyStopping counter: 1 out of 100\n"
     ]
    },
    {
     "name": "stderr",
     "output_type": "stream",
     "text": [
      "Classifier Training Epoch:  48%|\u001b[32m████▊     \u001b[0m| 239/500 [08:44<06:52,  1.58s/it, acc=0.84, loss=0.391] "
     ]
    },
    {
     "name": "stdout",
     "output_type": "stream",
     "text": [
      "EarlyStopping counter: 2 out of 100\n"
     ]
    },
    {
     "name": "stderr",
     "output_type": "stream",
     "text": [
      "Classifier Training Epoch:  48%|\u001b[32m████▊     \u001b[0m| 240/500 [08:47<08:13,  1.90s/it, acc=0.844, loss=0.352]"
     ]
    },
    {
     "name": "stdout",
     "output_type": "stream",
     "text": [
      "EarlyStopping counter: 3 out of 100\n"
     ]
    },
    {
     "name": "stderr",
     "output_type": "stream",
     "text": [
      "Classifier Training Epoch:  49%|\u001b[32m████▊     \u001b[0m| 243/500 [09:02<17:24,  4.06s/it, acc=0.85, loss=0.377] "
     ]
    },
    {
     "name": "stdout",
     "output_type": "stream",
     "text": [
      "EarlyStopping counter: 1 out of 100\n"
     ]
    },
    {
     "name": "stderr",
     "output_type": "stream",
     "text": [
      "Classifier Training Epoch:  49%|\u001b[32m████▉     \u001b[0m| 246/500 [09:13<15:19,  3.62s/it, acc=0.852, loss=0.342]"
     ]
    },
    {
     "name": "stdout",
     "output_type": "stream",
     "text": [
      "EarlyStopping counter: 1 out of 100\n"
     ]
    },
    {
     "name": "stderr",
     "output_type": "stream",
     "text": [
      "Classifier Training Epoch:  49%|\u001b[32m████▉     \u001b[0m| 247/500 [09:14<12:24,  2.94s/it, acc=0.85, loss=0.348] "
     ]
    },
    {
     "name": "stdout",
     "output_type": "stream",
     "text": [
      "EarlyStopping counter: 2 out of 100\n"
     ]
    },
    {
     "name": "stderr",
     "output_type": "stream",
     "text": [
      "Classifier Training Epoch:  50%|\u001b[32m████▉     \u001b[0m| 248/500 [09:16<10:16,  2.45s/it, acc=0.867, loss=0.309]"
     ]
    },
    {
     "name": "stdout",
     "output_type": "stream",
     "text": [
      "EarlyStopping counter: 3 out of 100\n"
     ]
    },
    {
     "name": "stderr",
     "output_type": "stream",
     "text": [
      "Classifier Training Epoch:  50%|\u001b[32m████▉     \u001b[0m| 249/500 [09:17<08:54,  2.13s/it, acc=0.863, loss=0.339]"
     ]
    },
    {
     "name": "stdout",
     "output_type": "stream",
     "text": [
      "EarlyStopping counter: 4 out of 100\n"
     ]
    },
    {
     "name": "stderr",
     "output_type": "stream",
     "text": [
      "Classifier Training Epoch:  50%|\u001b[32m████▉     \u001b[0m| 249/500 [09:18<08:54,  2.13s/it, acc=0.906, loss=0.211]"
     ]
    },
    {
     "name": "stdout",
     "output_type": "stream",
     "text": [
      "EarlyStopping counter: 5 out of 100\n"
     ]
    },
    {
     "name": "stderr",
     "output_type": "stream",
     "text": [
      "Classifier Training Epoch:  50%|\u001b[32m█████     \u001b[0m| 250/500 [09:20<08:40,  2.08s/it, acc=0.875, loss=0.36] "
     ]
    },
    {
     "name": "stdout",
     "output_type": "stream",
     "text": [
      "EarlyStopping counter: 6 out of 100\n"
     ]
    },
    {
     "name": "stderr",
     "output_type": "stream",
     "text": [
      "Classifier Training Epoch:  50%|\u001b[32m█████     \u001b[0m| 251/500 [09:21<07:52,  1.90s/it, acc=0.871, loss=0.308]"
     ]
    },
    {
     "name": "stdout",
     "output_type": "stream",
     "text": [
      "EarlyStopping counter: 7 out of 100\n"
     ]
    },
    {
     "name": "stderr",
     "output_type": "stream",
     "text": [
      "Classifier Training Epoch:  50%|\u001b[32m█████     \u001b[0m| 252/500 [09:23<07:18,  1.77s/it, acc=0.883, loss=0.267]"
     ]
    },
    {
     "name": "stdout",
     "output_type": "stream",
     "text": [
      "EarlyStopping counter: 8 out of 100\n"
     ]
    },
    {
     "name": "stderr",
     "output_type": "stream",
     "text": [
      "Classifier Training Epoch:  51%|\u001b[32m█████     \u001b[0m| 253/500 [09:24<06:58,  1.69s/it, acc=0.834, loss=0.357]"
     ]
    },
    {
     "name": "stdout",
     "output_type": "stream",
     "text": [
      "EarlyStopping counter: 9 out of 100\n"
     ]
    },
    {
     "name": "stderr",
     "output_type": "stream",
     "text": [
      "Classifier Training Epoch:  51%|\u001b[32m█████     \u001b[0m| 254/500 [09:26<06:42,  1.64s/it, acc=0.863, loss=0.3]  "
     ]
    },
    {
     "name": "stdout",
     "output_type": "stream",
     "text": [
      "EarlyStopping counter: 10 out of 100\n"
     ]
    },
    {
     "name": "stderr",
     "output_type": "stream",
     "text": [
      "Classifier Training Epoch:  51%|\u001b[32m█████     \u001b[0m| 255/500 [09:28<06:26,  1.58s/it, acc=0.867, loss=0.282]"
     ]
    },
    {
     "name": "stdout",
     "output_type": "stream",
     "text": [
      "EarlyStopping counter: 11 out of 100\n"
     ]
    },
    {
     "name": "stderr",
     "output_type": "stream",
     "text": [
      "Classifier Training Epoch:  51%|\u001b[32m█████     \u001b[0m| 256/500 [09:34<09:34,  2.35s/it, acc=0.861, loss=0.318]"
     ]
    },
    {
     "name": "stdout",
     "output_type": "stream",
     "text": [
      "EarlyStopping counter: 12 out of 100\n"
     ]
    },
    {
     "name": "stderr",
     "output_type": "stream",
     "text": [
      "Classifier Training Epoch:  51%|\u001b[32m█████▏    \u001b[0m| 257/500 [09:38<12:48,  3.16s/it, acc=0.846, loss=0.336]"
     ]
    },
    {
     "name": "stdout",
     "output_type": "stream",
     "text": [
      "EarlyStopping counter: 13 out of 100\n"
     ]
    },
    {
     "name": "stderr",
     "output_type": "stream",
     "text": [
      "Classifier Training Epoch:  52%|\u001b[32m█████▏    \u001b[0m| 258/500 [09:43<14:44,  3.65s/it, acc=0.852, loss=0.325]"
     ]
    },
    {
     "name": "stdout",
     "output_type": "stream",
     "text": [
      "EarlyStopping counter: 14 out of 100\n"
     ]
    },
    {
     "name": "stderr",
     "output_type": "stream",
     "text": [
      "Classifier Training Epoch:  52%|\u001b[32m█████▏    \u001b[0m| 259/500 [09:48<16:07,  4.02s/it, acc=0.869, loss=0.355]"
     ]
    },
    {
     "name": "stdout",
     "output_type": "stream",
     "text": [
      "EarlyStopping counter: 15 out of 100\n"
     ]
    },
    {
     "name": "stderr",
     "output_type": "stream",
     "text": [
      "Classifier Training Epoch:  52%|\u001b[32m█████▏    \u001b[0m| 260/500 [09:53<16:56,  4.24s/it, acc=0.877, loss=0.294]"
     ]
    },
    {
     "name": "stdout",
     "output_type": "stream",
     "text": [
      "EarlyStopping counter: 16 out of 100\n"
     ]
    },
    {
     "name": "stderr",
     "output_type": "stream",
     "text": [
      "Classifier Training Epoch:  53%|\u001b[32m█████▎    \u001b[0m| 264/500 [10:04<12:08,  3.09s/it, acc=0.838, loss=0.379]"
     ]
    },
    {
     "name": "stdout",
     "output_type": "stream",
     "text": [
      "EarlyStopping counter: 1 out of 100\n"
     ]
    },
    {
     "name": "stderr",
     "output_type": "stream",
     "text": [
      "Classifier Training Epoch:  54%|\u001b[32m█████▍    \u001b[0m| 269/500 [10:11<06:31,  1.69s/it, acc=0.852, loss=0.326]"
     ]
    },
    {
     "name": "stdout",
     "output_type": "stream",
     "text": [
      "EarlyStopping counter: 1 out of 100\n"
     ]
    },
    {
     "name": "stderr",
     "output_type": "stream",
     "text": [
      "Classifier Training Epoch:  54%|\u001b[32m█████▍    \u001b[0m| 271/500 [10:13<05:55,  1.55s/it, acc=0.861, loss=0.253]"
     ]
    },
    {
     "name": "stdout",
     "output_type": "stream",
     "text": [
      "EarlyStopping counter: 1 out of 100\n"
     ]
    },
    {
     "name": "stderr",
     "output_type": "stream",
     "text": [
      "Classifier Training Epoch:  54%|\u001b[32m█████▍    \u001b[0m| 272/500 [10:15<05:44,  1.51s/it, acc=0.84, loss=0.367] "
     ]
    },
    {
     "name": "stdout",
     "output_type": "stream",
     "text": [
      "EarlyStopping counter: 2 out of 100\n"
     ]
    },
    {
     "name": "stderr",
     "output_type": "stream",
     "text": [
      "Classifier Training Epoch:  55%|\u001b[32m█████▍    \u001b[0m| 273/500 [10:16<05:39,  1.50s/it, acc=0.854, loss=0.321]"
     ]
    },
    {
     "name": "stdout",
     "output_type": "stream",
     "text": [
      "EarlyStopping counter: 3 out of 100\n"
     ]
    },
    {
     "name": "stderr",
     "output_type": "stream",
     "text": [
      "Classifier Training Epoch:  55%|\u001b[32m█████▌    \u001b[0m| 275/500 [10:19<05:29,  1.46s/it, acc=0.861, loss=0.309]"
     ]
    },
    {
     "name": "stdout",
     "output_type": "stream",
     "text": [
      "EarlyStopping counter: 1 out of 100\n"
     ]
    },
    {
     "name": "stderr",
     "output_type": "stream",
     "text": [
      "Classifier Training Epoch:  55%|\u001b[32m█████▌    \u001b[0m| 276/500 [10:20<05:21,  1.44s/it, acc=0.865, loss=0.296]"
     ]
    },
    {
     "name": "stdout",
     "output_type": "stream",
     "text": [
      "EarlyStopping counter: 2 out of 100\n"
     ]
    },
    {
     "name": "stderr",
     "output_type": "stream",
     "text": [
      "Classifier Training Epoch:  55%|\u001b[32m█████▌    \u001b[0m| 277/500 [10:22<05:24,  1.45s/it, acc=0.846, loss=0.36] "
     ]
    },
    {
     "name": "stdout",
     "output_type": "stream",
     "text": [
      "EarlyStopping counter: 3 out of 100\n"
     ]
    },
    {
     "name": "stderr",
     "output_type": "stream",
     "text": [
      "Classifier Training Epoch:  56%|\u001b[32m█████▌    \u001b[0m| 278/500 [10:23<05:24,  1.46s/it, acc=0.873, loss=0.281]"
     ]
    },
    {
     "name": "stdout",
     "output_type": "stream",
     "text": [
      "EarlyStopping counter: 4 out of 100\n"
     ]
    },
    {
     "name": "stderr",
     "output_type": "stream",
     "text": [
      "Classifier Training Epoch:  56%|\u001b[32m█████▌    \u001b[0m| 279/500 [10:25<05:23,  1.47s/it, acc=0.869, loss=0.327]"
     ]
    },
    {
     "name": "stdout",
     "output_type": "stream",
     "text": [
      "EarlyStopping counter: 5 out of 100\n"
     ]
    },
    {
     "name": "stderr",
     "output_type": "stream",
     "text": [
      "Classifier Training Epoch:  56%|\u001b[32m█████▌    \u001b[0m| 280/500 [10:26<05:22,  1.47s/it, acc=0.865, loss=0.323]"
     ]
    },
    {
     "name": "stdout",
     "output_type": "stream",
     "text": [
      "EarlyStopping counter: 6 out of 100\n"
     ]
    },
    {
     "name": "stderr",
     "output_type": "stream",
     "text": [
      "Classifier Training Epoch:  57%|\u001b[32m█████▋    \u001b[0m| 283/500 [10:31<05:20,  1.48s/it, acc=0.865, loss=0.282]"
     ]
    },
    {
     "name": "stdout",
     "output_type": "stream",
     "text": [
      "EarlyStopping counter: 1 out of 100\n"
     ]
    },
    {
     "name": "stderr",
     "output_type": "stream",
     "text": [
      "Classifier Training Epoch:  57%|\u001b[32m█████▋    \u001b[0m| 284/500 [10:33<05:32,  1.54s/it, acc=0.902, loss=0.255]"
     ]
    },
    {
     "name": "stdout",
     "output_type": "stream",
     "text": [
      "EarlyStopping counter: 2 out of 100\n"
     ]
    },
    {
     "name": "stderr",
     "output_type": "stream",
     "text": [
      "Classifier Training Epoch:  57%|\u001b[32m█████▋    \u001b[0m| 285/500 [10:37<08:23,  2.34s/it, acc=0.865, loss=0.311]"
     ]
    },
    {
     "name": "stdout",
     "output_type": "stream",
     "text": [
      "EarlyStopping counter: 3 out of 100\n"
     ]
    },
    {
     "name": "stderr",
     "output_type": "stream",
     "text": [
      "Classifier Training Epoch:  57%|\u001b[32m█████▋    \u001b[0m| 286/500 [10:42<11:13,  3.15s/it, acc=0.881, loss=0.281]"
     ]
    },
    {
     "name": "stdout",
     "output_type": "stream",
     "text": [
      "EarlyStopping counter: 4 out of 100\n"
     ]
    },
    {
     "name": "stderr",
     "output_type": "stream",
     "text": [
      "Classifier Training Epoch:  57%|\u001b[32m█████▋    \u001b[0m| 287/500 [10:51<15:13,  4.29s/it, acc=0.85, loss=0.365] "
     ]
    },
    {
     "name": "stdout",
     "output_type": "stream",
     "text": [
      "EarlyStopping counter: 5 out of 100\n"
     ]
    },
    {
     "name": "stderr",
     "output_type": "stream",
     "text": [
      "Classifier Training Epoch:  58%|\u001b[32m█████▊    \u001b[0m| 290/500 [11:07<17:22,  4.97s/it, acc=0.859, loss=0.317]"
     ]
    },
    {
     "name": "stdout",
     "output_type": "stream",
     "text": [
      "EarlyStopping counter: 1 out of 100\n"
     ]
    },
    {
     "name": "stderr",
     "output_type": "stream",
     "text": [
      "Classifier Training Epoch:  58%|\u001b[32m█████▊    \u001b[0m| 291/500 [11:08<13:45,  3.95s/it, acc=0.865, loss=0.272]"
     ]
    },
    {
     "name": "stdout",
     "output_type": "stream",
     "text": [
      "EarlyStopping counter: 2 out of 100\n"
     ]
    },
    {
     "name": "stderr",
     "output_type": "stream",
     "text": [
      "Classifier Training Epoch:  59%|\u001b[32m█████▊    \u001b[0m| 293/500 [11:11<09:00,  2.61s/it, acc=0.855, loss=0.324]"
     ]
    },
    {
     "name": "stdout",
     "output_type": "stream",
     "text": [
      "EarlyStopping counter: 1 out of 100\n"
     ]
    },
    {
     "name": "stderr",
     "output_type": "stream",
     "text": [
      "Classifier Training Epoch:  59%|\u001b[32m█████▉    \u001b[0m| 294/500 [11:12<07:40,  2.23s/it, acc=0.842, loss=0.326]"
     ]
    },
    {
     "name": "stdout",
     "output_type": "stream",
     "text": [
      "EarlyStopping counter: 2 out of 100\n"
     ]
    },
    {
     "name": "stderr",
     "output_type": "stream",
     "text": [
      "Classifier Training Epoch:  59%|\u001b[32m█████▉    \u001b[0m| 296/500 [11:15<06:09,  1.81s/it, acc=0.865, loss=0.344]"
     ]
    },
    {
     "name": "stdout",
     "output_type": "stream",
     "text": [
      "EarlyStopping counter: 1 out of 100\n"
     ]
    },
    {
     "name": "stderr",
     "output_type": "stream",
     "text": [
      "Classifier Training Epoch:  60%|\u001b[32m█████▉    \u001b[0m| 299/500 [11:21<05:07,  1.53s/it, acc=0.906, loss=0.195]"
     ]
    },
    {
     "name": "stdout",
     "output_type": "stream",
     "text": [
      "EarlyStopping counter: 1 out of 100\n"
     ]
    },
    {
     "name": "stderr",
     "output_type": "stream",
     "text": [
      "Classifier Training Epoch:  60%|\u001b[32m██████    \u001b[0m| 300/500 [11:22<05:29,  1.65s/it, acc=0.852, loss=0.337]"
     ]
    },
    {
     "name": "stdout",
     "output_type": "stream",
     "text": [
      "EarlyStopping counter: 2 out of 100\n"
     ]
    },
    {
     "name": "stderr",
     "output_type": "stream",
     "text": [
      "Classifier Training Epoch:  60%|\u001b[32m██████    \u001b[0m| 301/500 [11:24<05:18,  1.60s/it, acc=0.877, loss=0.281]"
     ]
    },
    {
     "name": "stdout",
     "output_type": "stream",
     "text": [
      "EarlyStopping counter: 3 out of 100\n"
     ]
    },
    {
     "name": "stderr",
     "output_type": "stream",
     "text": [
      "Classifier Training Epoch:  60%|\u001b[32m██████    \u001b[0m| 302/500 [11:25<05:06,  1.55s/it, acc=0.859, loss=0.302]"
     ]
    },
    {
     "name": "stdout",
     "output_type": "stream",
     "text": [
      "EarlyStopping counter: 4 out of 100\n"
     ]
    },
    {
     "name": "stderr",
     "output_type": "stream",
     "text": [
      "Classifier Training Epoch:  61%|\u001b[32m██████    \u001b[0m| 303/500 [11:27<05:02,  1.54s/it, acc=0.844, loss=0.339]"
     ]
    },
    {
     "name": "stdout",
     "output_type": "stream",
     "text": [
      "EarlyStopping counter: 5 out of 100\n"
     ]
    },
    {
     "name": "stderr",
     "output_type": "stream",
     "text": [
      "Classifier Training Epoch:  61%|\u001b[32m██████    \u001b[0m| 304/500 [11:28<05:02,  1.55s/it, acc=0.867, loss=0.317]"
     ]
    },
    {
     "name": "stdout",
     "output_type": "stream",
     "text": [
      "EarlyStopping counter: 6 out of 100\n"
     ]
    },
    {
     "name": "stderr",
     "output_type": "stream",
     "text": [
      "Classifier Training Epoch:  61%|\u001b[32m██████    \u001b[0m| 305/500 [11:30<05:02,  1.55s/it, acc=0.865, loss=0.315]"
     ]
    },
    {
     "name": "stdout",
     "output_type": "stream",
     "text": [
      "EarlyStopping counter: 7 out of 100\n"
     ]
    },
    {
     "name": "stderr",
     "output_type": "stream",
     "text": [
      "Classifier Training Epoch:  61%|\u001b[32m██████    \u001b[0m| 306/500 [11:31<05:00,  1.55s/it, acc=0.859, loss=0.289]"
     ]
    },
    {
     "name": "stdout",
     "output_type": "stream",
     "text": [
      "EarlyStopping counter: 8 out of 100\n"
     ]
    },
    {
     "name": "stderr",
     "output_type": "stream",
     "text": [
      "Classifier Training Epoch:  61%|\u001b[32m██████▏   \u001b[0m| 307/500 [11:33<05:00,  1.55s/it, acc=0.875, loss=0.27] "
     ]
    },
    {
     "name": "stdout",
     "output_type": "stream",
     "text": [
      "EarlyStopping counter: 9 out of 100\n"
     ]
    },
    {
     "name": "stderr",
     "output_type": "stream",
     "text": [
      "Classifier Training Epoch:  62%|\u001b[32m██████▏   \u001b[0m| 308/500 [11:34<04:53,  1.53s/it, acc=0.852, loss=0.362]"
     ]
    },
    {
     "name": "stdout",
     "output_type": "stream",
     "text": [
      "EarlyStopping counter: 10 out of 100\n"
     ]
    },
    {
     "name": "stderr",
     "output_type": "stream",
     "text": [
      "Classifier Training Epoch:  62%|\u001b[32m██████▏   \u001b[0m| 309/500 [11:36<04:56,  1.55s/it, acc=0.865, loss=0.324]"
     ]
    },
    {
     "name": "stdout",
     "output_type": "stream",
     "text": [
      "EarlyStopping counter: 11 out of 100\n"
     ]
    },
    {
     "name": "stderr",
     "output_type": "stream",
     "text": [
      "Classifier Training Epoch:  62%|\u001b[32m██████▏   \u001b[0m| 310/500 [11:37<04:59,  1.58s/it, acc=0.861, loss=0.324]"
     ]
    },
    {
     "name": "stdout",
     "output_type": "stream",
     "text": [
      "EarlyStopping counter: 12 out of 100\n"
     ]
    },
    {
     "name": "stderr",
     "output_type": "stream",
     "text": [
      "Classifier Training Epoch:  62%|\u001b[32m██████▏   \u001b[0m| 311/500 [11:39<04:55,  1.56s/it, acc=0.877, loss=0.274]"
     ]
    },
    {
     "name": "stdout",
     "output_type": "stream",
     "text": [
      "EarlyStopping counter: 13 out of 100\n"
     ]
    },
    {
     "name": "stderr",
     "output_type": "stream",
     "text": [
      "Classifier Training Epoch:  62%|\u001b[32m██████▏   \u001b[0m| 312/500 [11:40<04:57,  1.58s/it, acc=0.877, loss=0.28] "
     ]
    },
    {
     "name": "stdout",
     "output_type": "stream",
     "text": [
      "EarlyStopping counter: 14 out of 100\n"
     ]
    },
    {
     "name": "stderr",
     "output_type": "stream",
     "text": [
      "Classifier Training Epoch:  63%|\u001b[32m██████▎   \u001b[0m| 313/500 [11:42<04:58,  1.60s/it, acc=0.902, loss=0.231]"
     ]
    },
    {
     "name": "stdout",
     "output_type": "stream",
     "text": [
      "EarlyStopping counter: 15 out of 100\n"
     ]
    },
    {
     "name": "stderr",
     "output_type": "stream",
     "text": [
      "Classifier Training Epoch:  63%|\u001b[32m██████▎   \u001b[0m| 314/500 [11:44<04:53,  1.58s/it, acc=0.867, loss=0.319]"
     ]
    },
    {
     "name": "stdout",
     "output_type": "stream",
     "text": [
      "EarlyStopping counter: 16 out of 100\n"
     ]
    },
    {
     "name": "stderr",
     "output_type": "stream",
     "text": [
      "Classifier Training Epoch:  63%|\u001b[32m██████▎   \u001b[0m| 315/500 [11:45<04:51,  1.58s/it, acc=0.865, loss=0.334]"
     ]
    },
    {
     "name": "stdout",
     "output_type": "stream",
     "text": [
      "EarlyStopping counter: 17 out of 100\n"
     ]
    },
    {
     "name": "stderr",
     "output_type": "stream",
     "text": [
      "Classifier Training Epoch:  63%|\u001b[32m██████▎   \u001b[0m| 316/500 [11:47<04:53,  1.59s/it, acc=0.873, loss=0.323]"
     ]
    },
    {
     "name": "stdout",
     "output_type": "stream",
     "text": [
      "EarlyStopping counter: 18 out of 100\n"
     ]
    },
    {
     "name": "stderr",
     "output_type": "stream",
     "text": [
      "Classifier Training Epoch:  64%|\u001b[32m██████▍   \u001b[0m| 321/500 [11:55<04:44,  1.59s/it, acc=0.867, loss=0.251]"
     ]
    },
    {
     "name": "stdout",
     "output_type": "stream",
     "text": [
      "EarlyStopping counter: 1 out of 100\n"
     ]
    },
    {
     "name": "stderr",
     "output_type": "stream",
     "text": [
      "Classifier Training Epoch:  64%|\u001b[32m██████▍   \u001b[0m| 322/500 [11:56<04:43,  1.59s/it, acc=0.871, loss=0.289]"
     ]
    },
    {
     "name": "stdout",
     "output_type": "stream",
     "text": [
      "EarlyStopping counter: 2 out of 100\n"
     ]
    },
    {
     "name": "stderr",
     "output_type": "stream",
     "text": [
      "Classifier Training Epoch:  65%|\u001b[32m██████▍   \u001b[0m| 323/500 [12:01<05:42,  1.94s/it, acc=0.867, loss=0.28] "
     ]
    },
    {
     "name": "stdout",
     "output_type": "stream",
     "text": [
      "EarlyStopping counter: 3 out of 100\n"
     ]
    },
    {
     "name": "stderr",
     "output_type": "stream",
     "text": [
      "Classifier Training Epoch:  65%|\u001b[32m██████▍   \u001b[0m| 324/500 [12:06<08:56,  3.05s/it, acc=0.855, loss=0.293]"
     ]
    },
    {
     "name": "stdout",
     "output_type": "stream",
     "text": [
      "EarlyStopping counter: 4 out of 100\n"
     ]
    },
    {
     "name": "stderr",
     "output_type": "stream",
     "text": [
      "Classifier Training Epoch:  65%|\u001b[32m██████▌   \u001b[0m| 326/500 [12:17<12:36,  4.35s/it, acc=0.877, loss=0.317]"
     ]
    },
    {
     "name": "stdout",
     "output_type": "stream",
     "text": [
      "EarlyStopping counter: 1 out of 100\n"
     ]
    },
    {
     "name": "stderr",
     "output_type": "stream",
     "text": [
      "Classifier Training Epoch:  66%|\u001b[32m██████▌   \u001b[0m| 328/500 [12:28<14:12,  4.96s/it, acc=0.881, loss=0.276]"
     ]
    },
    {
     "name": "stdout",
     "output_type": "stream",
     "text": [
      "EarlyStopping counter: 1 out of 100\n"
     ]
    },
    {
     "name": "stderr",
     "output_type": "stream",
     "text": [
      "Classifier Training Epoch:  66%|\u001b[32m██████▌   \u001b[0m| 330/500 [12:38<14:02,  4.96s/it, acc=0.877, loss=0.267]"
     ]
    },
    {
     "name": "stdout",
     "output_type": "stream",
     "text": [
      "EarlyStopping counter: 1 out of 100\n"
     ]
    },
    {
     "name": "stderr",
     "output_type": "stream",
     "text": [
      "Classifier Training Epoch:  67%|\u001b[32m██████▋   \u001b[0m| 333/500 [12:51<12:50,  4.61s/it, acc=0.871, loss=0.286]"
     ]
    },
    {
     "name": "stdout",
     "output_type": "stream",
     "text": [
      "EarlyStopping counter: 1 out of 100\n"
     ]
    },
    {
     "name": "stderr",
     "output_type": "stream",
     "text": [
      "Classifier Training Epoch:  67%|\u001b[32m██████▋   \u001b[0m| 334/500 [12:56<13:00,  4.70s/it, acc=0.898, loss=0.243]"
     ]
    },
    {
     "name": "stdout",
     "output_type": "stream",
     "text": [
      "EarlyStopping counter: 2 out of 100\n"
     ]
    },
    {
     "name": "stderr",
     "output_type": "stream",
     "text": [
      "Classifier Training Epoch:  67%|\u001b[32m██████▋   \u001b[0m| 336/500 [12:59<08:43,  3.19s/it, acc=0.889, loss=0.257]"
     ]
    },
    {
     "name": "stdout",
     "output_type": "stream",
     "text": [
      "EarlyStopping counter: 1 out of 100\n"
     ]
    },
    {
     "name": "stderr",
     "output_type": "stream",
     "text": [
      "Classifier Training Epoch:  67%|\u001b[32m██████▋   \u001b[0m| 337/500 [13:00<07:12,  2.65s/it, acc=0.869, loss=0.296]"
     ]
    },
    {
     "name": "stdout",
     "output_type": "stream",
     "text": [
      "EarlyStopping counter: 2 out of 100\n"
     ]
    },
    {
     "name": "stderr",
     "output_type": "stream",
     "text": [
      "Classifier Training Epoch:  68%|\u001b[32m██████▊   \u001b[0m| 341/500 [13:05<04:27,  1.68s/it, acc=0.844, loss=0.307]"
     ]
    },
    {
     "name": "stdout",
     "output_type": "stream",
     "text": [
      "EarlyStopping counter: 1 out of 100\n"
     ]
    },
    {
     "name": "stderr",
     "output_type": "stream",
     "text": [
      "Classifier Training Epoch:  69%|\u001b[32m██████▊   \u001b[0m| 343/500 [13:08<04:13,  1.61s/it, acc=0.855, loss=0.287]"
     ]
    },
    {
     "name": "stdout",
     "output_type": "stream",
     "text": [
      "EarlyStopping counter: 1 out of 100\n"
     ]
    },
    {
     "name": "stderr",
     "output_type": "stream",
     "text": [
      "Classifier Training Epoch:  69%|\u001b[32m██████▉   \u001b[0m| 344/500 [13:10<04:02,  1.55s/it, acc=0.887, loss=0.267]"
     ]
    },
    {
     "name": "stdout",
     "output_type": "stream",
     "text": [
      "EarlyStopping counter: 2 out of 100\n"
     ]
    },
    {
     "name": "stderr",
     "output_type": "stream",
     "text": [
      "Classifier Training Epoch:  69%|\u001b[32m██████▉   \u001b[0m| 345/500 [13:11<04:08,  1.60s/it, acc=0.885, loss=0.297]"
     ]
    },
    {
     "name": "stdout",
     "output_type": "stream",
     "text": [
      "EarlyStopping counter: 3 out of 100\n"
     ]
    },
    {
     "name": "stderr",
     "output_type": "stream",
     "text": [
      "Classifier Training Epoch:  69%|\u001b[32m██████▉   \u001b[0m| 346/500 [13:14<04:26,  1.73s/it, acc=0.861, loss=0.296]"
     ]
    },
    {
     "name": "stdout",
     "output_type": "stream",
     "text": [
      "EarlyStopping counter: 4 out of 100\n"
     ]
    },
    {
     "name": "stderr",
     "output_type": "stream",
     "text": [
      "Classifier Training Epoch:  69%|\u001b[32m██████▉   \u001b[0m| 347/500 [13:15<04:15,  1.67s/it, acc=0.881, loss=0.285]"
     ]
    },
    {
     "name": "stdout",
     "output_type": "stream",
     "text": [
      "EarlyStopping counter: 5 out of 100\n"
     ]
    },
    {
     "name": "stderr",
     "output_type": "stream",
     "text": [
      "Classifier Training Epoch:  70%|\u001b[32m██████▉   \u001b[0m| 348/500 [13:17<04:14,  1.67s/it, acc=0.875, loss=0.263]"
     ]
    },
    {
     "name": "stdout",
     "output_type": "stream",
     "text": [
      "EarlyStopping counter: 6 out of 100\n"
     ]
    },
    {
     "name": "stderr",
     "output_type": "stream",
     "text": [
      "Classifier Training Epoch:  70%|\u001b[32m██████▉   \u001b[0m| 349/500 [13:18<04:14,  1.68s/it, acc=0.863, loss=0.324]"
     ]
    },
    {
     "name": "stdout",
     "output_type": "stream",
     "text": [
      "EarlyStopping counter: 7 out of 100\n"
     ]
    },
    {
     "name": "stderr",
     "output_type": "stream",
     "text": [
      "Classifier Training Epoch:  70%|\u001b[32m██████▉   \u001b[0m| 349/500 [13:20<04:14,  1.68s/it, acc=0.922, loss=0.195]"
     ]
    },
    {
     "name": "stdout",
     "output_type": "stream",
     "text": [
      "EarlyStopping counter: 8 out of 100\n"
     ]
    },
    {
     "name": "stderr",
     "output_type": "stream",
     "text": [
      "Classifier Training Epoch:  70%|\u001b[32m███████   \u001b[0m| 350/500 [13:21<04:34,  1.83s/it, acc=0.848, loss=0.356]"
     ]
    },
    {
     "name": "stdout",
     "output_type": "stream",
     "text": [
      "EarlyStopping counter: 9 out of 100\n"
     ]
    },
    {
     "name": "stderr",
     "output_type": "stream",
     "text": [
      "Classifier Training Epoch:  70%|\u001b[32m███████   \u001b[0m| 351/500 [13:23<04:21,  1.76s/it, acc=0.869, loss=0.298]"
     ]
    },
    {
     "name": "stdout",
     "output_type": "stream",
     "text": [
      "EarlyStopping counter: 10 out of 100\n"
     ]
    },
    {
     "name": "stderr",
     "output_type": "stream",
     "text": [
      "Classifier Training Epoch:  70%|\u001b[32m███████   \u001b[0m| 352/500 [13:24<04:05,  1.66s/it, acc=0.879, loss=0.266]"
     ]
    },
    {
     "name": "stdout",
     "output_type": "stream",
     "text": [
      "EarlyStopping counter: 11 out of 100\n"
     ]
    },
    {
     "name": "stderr",
     "output_type": "stream",
     "text": [
      "Classifier Training Epoch:  71%|\u001b[32m███████   \u001b[0m| 353/500 [13:26<03:59,  1.63s/it, acc=0.865, loss=0.296]"
     ]
    },
    {
     "name": "stdout",
     "output_type": "stream",
     "text": [
      "EarlyStopping counter: 12 out of 100\n"
     ]
    },
    {
     "name": "stderr",
     "output_type": "stream",
     "text": [
      "Classifier Training Epoch:  71%|\u001b[32m███████   \u001b[0m| 354/500 [13:28<03:53,  1.60s/it, acc=0.895, loss=0.261]"
     ]
    },
    {
     "name": "stdout",
     "output_type": "stream",
     "text": [
      "EarlyStopping counter: 13 out of 100\n"
     ]
    },
    {
     "name": "stderr",
     "output_type": "stream",
     "text": [
      "Classifier Training Epoch:  71%|\u001b[32m███████   \u001b[0m| 355/500 [13:33<04:47,  1.98s/it, acc=0.889, loss=0.277]"
     ]
    },
    {
     "name": "stdout",
     "output_type": "stream",
     "text": [
      "EarlyStopping counter: 14 out of 100\n"
     ]
    },
    {
     "name": "stderr",
     "output_type": "stream",
     "text": [
      "Classifier Training Epoch:  71%|\u001b[32m███████   \u001b[0m| 356/500 [13:38<07:14,  3.02s/it, acc=0.908, loss=0.219]"
     ]
    },
    {
     "name": "stdout",
     "output_type": "stream",
     "text": [
      "EarlyStopping counter: 15 out of 100\n"
     ]
    },
    {
     "name": "stderr",
     "output_type": "stream",
     "text": [
      "Classifier Training Epoch:  71%|\u001b[32m███████▏  \u001b[0m| 357/500 [13:43<08:34,  3.60s/it, acc=0.865, loss=0.305]"
     ]
    },
    {
     "name": "stdout",
     "output_type": "stream",
     "text": [
      "EarlyStopping counter: 16 out of 100\n"
     ]
    },
    {
     "name": "stderr",
     "output_type": "stream",
     "text": [
      "Classifier Training Epoch:  72%|\u001b[32m███████▏  \u001b[0m| 358/500 [13:45<08:49,  3.73s/it, acc=0.875, loss=0.274]"
     ]
    },
    {
     "name": "stdout",
     "output_type": "stream",
     "text": [
      "EarlyStopping counter: 17 out of 100\n"
     ]
    },
    {
     "name": "stderr",
     "output_type": "stream",
     "text": [
      "Classifier Training Epoch:  72%|\u001b[32m███████▏  \u001b[0m| 359/500 [13:46<07:09,  3.05s/it, acc=0.869, loss=0.268]"
     ]
    },
    {
     "name": "stdout",
     "output_type": "stream",
     "text": [
      "EarlyStopping counter: 18 out of 100\n"
     ]
    },
    {
     "name": "stderr",
     "output_type": "stream",
     "text": [
      "Classifier Training Epoch:  72%|\u001b[32m███████▏  \u001b[0m| 360/500 [13:48<05:59,  2.57s/it, acc=0.869, loss=0.292]"
     ]
    },
    {
     "name": "stdout",
     "output_type": "stream",
     "text": [
      "EarlyStopping counter: 19 out of 100\n"
     ]
    },
    {
     "name": "stderr",
     "output_type": "stream",
     "text": [
      "Classifier Training Epoch:  72%|\u001b[32m███████▏  \u001b[0m| 361/500 [13:49<05:08,  2.22s/it, acc=0.859, loss=0.305]"
     ]
    },
    {
     "name": "stdout",
     "output_type": "stream",
     "text": [
      "EarlyStopping counter: 20 out of 100\n"
     ]
    },
    {
     "name": "stderr",
     "output_type": "stream",
     "text": [
      "Classifier Training Epoch:  72%|\u001b[32m███████▏  \u001b[0m| 362/500 [13:50<04:33,  1.98s/it, acc=0.873, loss=0.285]"
     ]
    },
    {
     "name": "stdout",
     "output_type": "stream",
     "text": [
      "EarlyStopping counter: 21 out of 100\n"
     ]
    },
    {
     "name": "stderr",
     "output_type": "stream",
     "text": [
      "Classifier Training Epoch:  73%|\u001b[32m███████▎  \u001b[0m| 363/500 [13:52<04:15,  1.86s/it, acc=0.863, loss=0.315]"
     ]
    },
    {
     "name": "stdout",
     "output_type": "stream",
     "text": [
      "EarlyStopping counter: 22 out of 100\n"
     ]
    },
    {
     "name": "stderr",
     "output_type": "stream",
     "text": [
      "Classifier Training Epoch:  73%|\u001b[32m███████▎  \u001b[0m| 364/500 [13:53<03:55,  1.73s/it, acc=0.859, loss=0.293]"
     ]
    },
    {
     "name": "stdout",
     "output_type": "stream",
     "text": [
      "EarlyStopping counter: 23 out of 100\n"
     ]
    },
    {
     "name": "stderr",
     "output_type": "stream",
     "text": [
      "Classifier Training Epoch:  73%|\u001b[32m███████▎  \u001b[0m| 365/500 [13:55<03:45,  1.67s/it, acc=0.895, loss=0.254]"
     ]
    },
    {
     "name": "stdout",
     "output_type": "stream",
     "text": [
      "EarlyStopping counter: 24 out of 100\n"
     ]
    },
    {
     "name": "stderr",
     "output_type": "stream",
     "text": [
      "Classifier Training Epoch:  73%|\u001b[32m███████▎  \u001b[0m| 366/500 [13:56<03:39,  1.64s/it, acc=0.887, loss=0.296]"
     ]
    },
    {
     "name": "stdout",
     "output_type": "stream",
     "text": [
      "EarlyStopping counter: 25 out of 100\n"
     ]
    },
    {
     "name": "stderr",
     "output_type": "stream",
     "text": [
      "Classifier Training Epoch:  73%|\u001b[32m███████▎  \u001b[0m| 367/500 [13:58<03:31,  1.59s/it, acc=0.871, loss=0.264]"
     ]
    },
    {
     "name": "stdout",
     "output_type": "stream",
     "text": [
      "EarlyStopping counter: 26 out of 100\n"
     ]
    },
    {
     "name": "stderr",
     "output_type": "stream",
     "text": [
      "Classifier Training Epoch:  74%|\u001b[32m███████▎  \u001b[0m| 368/500 [13:59<03:29,  1.58s/it, acc=0.865, loss=0.313]"
     ]
    },
    {
     "name": "stdout",
     "output_type": "stream",
     "text": [
      "EarlyStopping counter: 27 out of 100\n"
     ]
    },
    {
     "name": "stderr",
     "output_type": "stream",
     "text": [
      "Classifier Training Epoch:  74%|\u001b[32m███████▍  \u001b[0m| 369/500 [14:01<03:39,  1.68s/it, acc=0.887, loss=0.241]"
     ]
    },
    {
     "name": "stdout",
     "output_type": "stream",
     "text": [
      "EarlyStopping counter: 28 out of 100\n"
     ]
    },
    {
     "name": "stderr",
     "output_type": "stream",
     "text": [
      "Classifier Training Epoch:  74%|\u001b[32m███████▍  \u001b[0m| 370/500 [14:03<03:53,  1.79s/it, acc=0.889, loss=0.242]"
     ]
    },
    {
     "name": "stdout",
     "output_type": "stream",
     "text": [
      "EarlyStopping counter: 29 out of 100\n"
     ]
    },
    {
     "name": "stderr",
     "output_type": "stream",
     "text": [
      "Classifier Training Epoch:  74%|\u001b[32m███████▍  \u001b[0m| 371/500 [14:06<04:06,  1.91s/it, acc=0.85, loss=0.301] "
     ]
    },
    {
     "name": "stdout",
     "output_type": "stream",
     "text": [
      "EarlyStopping counter: 30 out of 100\n"
     ]
    },
    {
     "name": "stderr",
     "output_type": "stream",
     "text": [
      "Classifier Training Epoch:  74%|\u001b[32m███████▍  \u001b[0m| 372/500 [14:07<04:02,  1.90s/it, acc=0.85, loss=0.373] "
     ]
    },
    {
     "name": "stdout",
     "output_type": "stream",
     "text": [
      "EarlyStopping counter: 31 out of 100\n"
     ]
    },
    {
     "name": "stderr",
     "output_type": "stream",
     "text": [
      "Classifier Training Epoch:  75%|\u001b[32m███████▍  \u001b[0m| 373/500 [14:09<03:44,  1.77s/it, acc=0.885, loss=0.243]"
     ]
    },
    {
     "name": "stdout",
     "output_type": "stream",
     "text": [
      "EarlyStopping counter: 32 out of 100\n"
     ]
    },
    {
     "name": "stderr",
     "output_type": "stream",
     "text": [
      "Classifier Training Epoch:  75%|\u001b[32m███████▍  \u001b[0m| 374/500 [14:10<03:39,  1.75s/it, acc=0.889, loss=0.245]"
     ]
    },
    {
     "name": "stdout",
     "output_type": "stream",
     "text": [
      "EarlyStopping counter: 33 out of 100\n"
     ]
    },
    {
     "name": "stderr",
     "output_type": "stream",
     "text": [
      "Classifier Training Epoch:  75%|\u001b[32m███████▌  \u001b[0m| 375/500 [14:12<03:31,  1.70s/it, acc=0.871, loss=0.289]"
     ]
    },
    {
     "name": "stdout",
     "output_type": "stream",
     "text": [
      "EarlyStopping counter: 34 out of 100\n"
     ]
    },
    {
     "name": "stderr",
     "output_type": "stream",
     "text": [
      "Classifier Training Epoch:  75%|\u001b[32m███████▌  \u001b[0m| 376/500 [14:14<03:23,  1.64s/it, acc=0.867, loss=0.3]  "
     ]
    },
    {
     "name": "stdout",
     "output_type": "stream",
     "text": [
      "EarlyStopping counter: 35 out of 100\n"
     ]
    },
    {
     "name": "stderr",
     "output_type": "stream",
     "text": [
      "Classifier Training Epoch:  76%|\u001b[32m███████▌  \u001b[0m| 378/500 [14:17<03:18,  1.62s/it, acc=0.883, loss=0.29] "
     ]
    },
    {
     "name": "stdout",
     "output_type": "stream",
     "text": [
      "EarlyStopping counter: 1 out of 100\n"
     ]
    },
    {
     "name": "stderr",
     "output_type": "stream",
     "text": [
      "Classifier Training Epoch:  76%|\u001b[32m███████▌  \u001b[0m| 379/500 [14:22<04:28,  2.21s/it, acc=0.893, loss=0.236]"
     ]
    },
    {
     "name": "stdout",
     "output_type": "stream",
     "text": [
      "EarlyStopping counter: 2 out of 100\n"
     ]
    },
    {
     "name": "stderr",
     "output_type": "stream",
     "text": [
      "Classifier Training Epoch:  76%|\u001b[32m███████▋  \u001b[0m| 382/500 [14:37<08:09,  4.15s/it, acc=0.881, loss=0.297]"
     ]
    },
    {
     "name": "stdout",
     "output_type": "stream",
     "text": [
      "EarlyStopping counter: 1 out of 100\n"
     ]
    },
    {
     "name": "stderr",
     "output_type": "stream",
     "text": [
      "Classifier Training Epoch:  77%|\u001b[32m███████▋  \u001b[0m| 383/500 [14:42<08:23,  4.30s/it, acc=0.873, loss=0.279]"
     ]
    },
    {
     "name": "stdout",
     "output_type": "stream",
     "text": [
      "EarlyStopping counter: 2 out of 100\n"
     ]
    },
    {
     "name": "stderr",
     "output_type": "stream",
     "text": [
      "Classifier Training Epoch:  77%|\u001b[32m███████▋  \u001b[0m| 384/500 [14:47<08:40,  4.49s/it, acc=0.875, loss=0.273]"
     ]
    },
    {
     "name": "stdout",
     "output_type": "stream",
     "text": [
      "EarlyStopping counter: 3 out of 100\n"
     ]
    },
    {
     "name": "stderr",
     "output_type": "stream",
     "text": [
      "Classifier Training Epoch:  77%|\u001b[32m███████▋  \u001b[0m| 385/500 [14:48<07:28,  3.90s/it, acc=0.875, loss=0.27] "
     ]
    },
    {
     "name": "stdout",
     "output_type": "stream",
     "text": [
      "EarlyStopping counter: 4 out of 100\n"
     ]
    },
    {
     "name": "stderr",
     "output_type": "stream",
     "text": [
      "Classifier Training Epoch:  77%|\u001b[32m███████▋  \u001b[0m| 386/500 [14:50<06:00,  3.16s/it, acc=0.871, loss=0.271]"
     ]
    },
    {
     "name": "stdout",
     "output_type": "stream",
     "text": [
      "EarlyStopping counter: 5 out of 100\n"
     ]
    },
    {
     "name": "stderr",
     "output_type": "stream",
     "text": [
      "Classifier Training Epoch:  77%|\u001b[32m███████▋  \u001b[0m| 387/500 [14:51<04:57,  2.63s/it, acc=0.863, loss=0.3]  "
     ]
    },
    {
     "name": "stdout",
     "output_type": "stream",
     "text": [
      "EarlyStopping counter: 6 out of 100\n"
     ]
    },
    {
     "name": "stderr",
     "output_type": "stream",
     "text": [
      "Classifier Training Epoch:  78%|\u001b[32m███████▊  \u001b[0m| 390/500 [14:56<03:25,  1.87s/it, acc=0.877, loss=0.255]"
     ]
    },
    {
     "name": "stdout",
     "output_type": "stream",
     "text": [
      "EarlyStopping counter: 1 out of 100\n"
     ]
    },
    {
     "name": "stderr",
     "output_type": "stream",
     "text": [
      "Classifier Training Epoch:  78%|\u001b[32m███████▊  \u001b[0m| 392/500 [14:58<02:55,  1.62s/it, acc=0.865, loss=0.323]"
     ]
    },
    {
     "name": "stdout",
     "output_type": "stream",
     "text": [
      "EarlyStopping counter: 1 out of 100\n"
     ]
    },
    {
     "name": "stderr",
     "output_type": "stream",
     "text": [
      "Classifier Training Epoch:  79%|\u001b[32m███████▉  \u001b[0m| 395/500 [15:03<02:37,  1.50s/it, acc=0.865, loss=0.27] "
     ]
    },
    {
     "name": "stdout",
     "output_type": "stream",
     "text": [
      "EarlyStopping counter: 1 out of 100\n"
     ]
    },
    {
     "name": "stderr",
     "output_type": "stream",
     "text": [
      "Classifier Training Epoch:  79%|\u001b[32m███████▉  \u001b[0m| 396/500 [15:04<02:35,  1.50s/it, acc=0.879, loss=0.262]"
     ]
    },
    {
     "name": "stdout",
     "output_type": "stream",
     "text": [
      "EarlyStopping counter: 2 out of 100\n"
     ]
    },
    {
     "name": "stderr",
     "output_type": "stream",
     "text": [
      "Classifier Training Epoch:  80%|\u001b[32m████████  \u001b[0m| 400/500 [15:12<02:51,  1.71s/it, acc=0.855, loss=0.322]"
     ]
    },
    {
     "name": "stdout",
     "output_type": "stream",
     "text": [
      "EarlyStopping counter: 1 out of 100\n"
     ]
    },
    {
     "name": "stderr",
     "output_type": "stream",
     "text": [
      "Classifier Training Epoch:  80%|\u001b[32m████████  \u001b[0m| 401/500 [15:13<02:45,  1.68s/it, acc=0.867, loss=0.3]  "
     ]
    },
    {
     "name": "stdout",
     "output_type": "stream",
     "text": [
      "EarlyStopping counter: 2 out of 100\n"
     ]
    },
    {
     "name": "stderr",
     "output_type": "stream",
     "text": [
      "Classifier Training Epoch:  80%|\u001b[32m████████  \u001b[0m| 402/500 [15:15<02:40,  1.64s/it, acc=0.873, loss=0.286]"
     ]
    },
    {
     "name": "stdout",
     "output_type": "stream",
     "text": [
      "EarlyStopping counter: 3 out of 100\n"
     ]
    },
    {
     "name": "stderr",
     "output_type": "stream",
     "text": [
      "Classifier Training Epoch:  81%|\u001b[32m████████  \u001b[0m| 403/500 [15:17<02:39,  1.65s/it, acc=0.873, loss=0.292]"
     ]
    },
    {
     "name": "stdout",
     "output_type": "stream",
     "text": [
      "EarlyStopping counter: 4 out of 100\n"
     ]
    },
    {
     "name": "stderr",
     "output_type": "stream",
     "text": [
      "Classifier Training Epoch:  81%|\u001b[32m████████  \u001b[0m| 404/500 [15:18<02:38,  1.65s/it, acc=0.863, loss=0.296]"
     ]
    },
    {
     "name": "stdout",
     "output_type": "stream",
     "text": [
      "EarlyStopping counter: 5 out of 100\n"
     ]
    },
    {
     "name": "stderr",
     "output_type": "stream",
     "text": [
      "Classifier Training Epoch:  81%|\u001b[32m████████  \u001b[0m| 405/500 [15:20<02:34,  1.63s/it, acc=0.865, loss=0.306]"
     ]
    },
    {
     "name": "stdout",
     "output_type": "stream",
     "text": [
      "EarlyStopping counter: 6 out of 100\n"
     ]
    },
    {
     "name": "stderr",
     "output_type": "stream",
     "text": [
      "Classifier Training Epoch:  81%|\u001b[32m████████  \u001b[0m| 406/500 [15:21<02:35,  1.66s/it, acc=0.869, loss=0.275]"
     ]
    },
    {
     "name": "stdout",
     "output_type": "stream",
     "text": [
      "EarlyStopping counter: 7 out of 100\n"
     ]
    },
    {
     "name": "stderr",
     "output_type": "stream",
     "text": [
      "Classifier Training Epoch:  81%|\u001b[32m████████▏ \u001b[0m| 407/500 [15:23<02:34,  1.66s/it, acc=0.898, loss=0.239]"
     ]
    },
    {
     "name": "stdout",
     "output_type": "stream",
     "text": [
      "EarlyStopping counter: 8 out of 100\n"
     ]
    },
    {
     "name": "stderr",
     "output_type": "stream",
     "text": [
      "Classifier Training Epoch:  82%|\u001b[32m████████▏ \u001b[0m| 408/500 [15:25<02:30,  1.63s/it, acc=0.889, loss=0.274]"
     ]
    },
    {
     "name": "stdout",
     "output_type": "stream",
     "text": [
      "EarlyStopping counter: 9 out of 100\n"
     ]
    },
    {
     "name": "stderr",
     "output_type": "stream",
     "text": [
      "Classifier Training Epoch:  82%|\u001b[32m████████▏ \u001b[0m| 409/500 [15:26<02:29,  1.64s/it, acc=0.879, loss=0.272]"
     ]
    },
    {
     "name": "stdout",
     "output_type": "stream",
     "text": [
      "EarlyStopping counter: 10 out of 100\n"
     ]
    },
    {
     "name": "stderr",
     "output_type": "stream",
     "text": [
      "Classifier Training Epoch:  82%|\u001b[32m████████▏ \u001b[0m| 410/500 [15:28<02:32,  1.69s/it, acc=0.867, loss=0.287]"
     ]
    },
    {
     "name": "stdout",
     "output_type": "stream",
     "text": [
      "EarlyStopping counter: 11 out of 100\n"
     ]
    },
    {
     "name": "stderr",
     "output_type": "stream",
     "text": [
      "Classifier Training Epoch:  82%|\u001b[32m████████▏ \u001b[0m| 411/500 [15:30<02:34,  1.74s/it, acc=0.887, loss=0.253]"
     ]
    },
    {
     "name": "stdout",
     "output_type": "stream",
     "text": [
      "EarlyStopping counter: 12 out of 100\n"
     ]
    },
    {
     "name": "stderr",
     "output_type": "stream",
     "text": [
      "Classifier Training Epoch:  82%|\u001b[32m████████▏ \u001b[0m| 412/500 [15:32<02:36,  1.77s/it, acc=0.871, loss=0.295]"
     ]
    },
    {
     "name": "stdout",
     "output_type": "stream",
     "text": [
      "EarlyStopping counter: 13 out of 100\n"
     ]
    },
    {
     "name": "stderr",
     "output_type": "stream",
     "text": [
      "Classifier Training Epoch:  83%|\u001b[32m████████▎ \u001b[0m| 413/500 [15:34<02:33,  1.77s/it, acc=0.867, loss=0.304]"
     ]
    },
    {
     "name": "stdout",
     "output_type": "stream",
     "text": [
      "EarlyStopping counter: 14 out of 100\n"
     ]
    },
    {
     "name": "stderr",
     "output_type": "stream",
     "text": [
      "Classifier Training Epoch:  83%|\u001b[32m████████▎ \u001b[0m| 414/500 [15:35<02:27,  1.71s/it, acc=0.881, loss=0.257]"
     ]
    },
    {
     "name": "stdout",
     "output_type": "stream",
     "text": [
      "EarlyStopping counter: 15 out of 100\n"
     ]
    },
    {
     "name": "stderr",
     "output_type": "stream",
     "text": [
      "Classifier Training Epoch:  83%|\u001b[32m████████▎ \u001b[0m| 415/500 [15:37<02:25,  1.71s/it, acc=0.861, loss=0.298]"
     ]
    },
    {
     "name": "stdout",
     "output_type": "stream",
     "text": [
      "EarlyStopping counter: 16 out of 100\n"
     ]
    },
    {
     "name": "stderr",
     "output_type": "stream",
     "text": [
      "Classifier Training Epoch:  83%|\u001b[32m████████▎ \u001b[0m| 416/500 [15:38<02:23,  1.71s/it, acc=0.863, loss=0.328]"
     ]
    },
    {
     "name": "stdout",
     "output_type": "stream",
     "text": [
      "EarlyStopping counter: 17 out of 100\n"
     ]
    },
    {
     "name": "stderr",
     "output_type": "stream",
     "text": [
      "Classifier Training Epoch:  83%|\u001b[32m████████▎ \u001b[0m| 417/500 [15:40<02:19,  1.68s/it, acc=0.887, loss=0.274]"
     ]
    },
    {
     "name": "stdout",
     "output_type": "stream",
     "text": [
      "EarlyStopping counter: 18 out of 100\n"
     ]
    },
    {
     "name": "stderr",
     "output_type": "stream",
     "text": [
      "Classifier Training Epoch:  84%|\u001b[32m████████▎ \u001b[0m| 418/500 [15:43<02:18,  1.69s/it, acc=0.873, loss=0.256]"
     ]
    },
    {
     "name": "stdout",
     "output_type": "stream",
     "text": [
      "EarlyStopping counter: 19 out of 100\n"
     ]
    },
    {
     "name": "stderr",
     "output_type": "stream",
     "text": [
      "Classifier Training Epoch:  84%|\u001b[32m████████▍ \u001b[0m| 419/500 [15:48<03:40,  2.72s/it, acc=0.859, loss=0.293]"
     ]
    },
    {
     "name": "stdout",
     "output_type": "stream",
     "text": [
      "EarlyStopping counter: 20 out of 100\n"
     ]
    },
    {
     "name": "stderr",
     "output_type": "stream",
     "text": [
      "Classifier Training Epoch:  84%|\u001b[32m████████▍ \u001b[0m| 420/500 [15:54<04:37,  3.47s/it, acc=0.844, loss=0.351]"
     ]
    },
    {
     "name": "stdout",
     "output_type": "stream",
     "text": [
      "EarlyStopping counter: 21 out of 100\n"
     ]
    },
    {
     "name": "stderr",
     "output_type": "stream",
     "text": [
      "Classifier Training Epoch:  84%|\u001b[32m████████▍ \u001b[0m| 421/500 [15:59<05:27,  4.15s/it, acc=0.865, loss=0.249]"
     ]
    },
    {
     "name": "stdout",
     "output_type": "stream",
     "text": [
      "EarlyStopping counter: 22 out of 100\n"
     ]
    },
    {
     "name": "stderr",
     "output_type": "stream",
     "text": [
      "Classifier Training Epoch:  84%|\u001b[32m████████▍ \u001b[0m| 422/500 [16:04<05:42,  4.39s/it, acc=0.896, loss=0.25] "
     ]
    },
    {
     "name": "stdout",
     "output_type": "stream",
     "text": [
      "EarlyStopping counter: 23 out of 100\n"
     ]
    },
    {
     "name": "stderr",
     "output_type": "stream",
     "text": [
      "Classifier Training Epoch:  85%|\u001b[32m████████▍ \u001b[0m| 423/500 [16:09<05:46,  4.50s/it, acc=0.861, loss=0.3]  "
     ]
    },
    {
     "name": "stdout",
     "output_type": "stream",
     "text": [
      "EarlyStopping counter: 24 out of 100\n"
     ]
    },
    {
     "name": "stderr",
     "output_type": "stream",
     "text": [
      "Classifier Training Epoch:  85%|\u001b[32m████████▍ \u001b[0m| 424/500 [16:13<05:43,  4.52s/it, acc=0.854, loss=0.325]"
     ]
    },
    {
     "name": "stdout",
     "output_type": "stream",
     "text": [
      "EarlyStopping counter: 25 out of 100\n"
     ]
    },
    {
     "name": "stderr",
     "output_type": "stream",
     "text": [
      "Classifier Training Epoch:  85%|\u001b[32m████████▌ \u001b[0m| 425/500 [16:18<05:50,  4.67s/it, acc=0.881, loss=0.252]"
     ]
    },
    {
     "name": "stdout",
     "output_type": "stream",
     "text": [
      "EarlyStopping counter: 26 out of 100\n"
     ]
    },
    {
     "name": "stderr",
     "output_type": "stream",
     "text": [
      "Classifier Training Epoch:  85%|\u001b[32m████████▌ \u001b[0m| 426/500 [16:23<05:43,  4.64s/it, acc=0.893, loss=0.234]"
     ]
    },
    {
     "name": "stdout",
     "output_type": "stream",
     "text": [
      "EarlyStopping counter: 27 out of 100\n"
     ]
    },
    {
     "name": "stderr",
     "output_type": "stream",
     "text": [
      "Classifier Training Epoch:  85%|\u001b[32m████████▌ \u001b[0m| 427/500 [16:27<05:37,  4.62s/it, acc=0.889, loss=0.253]"
     ]
    },
    {
     "name": "stdout",
     "output_type": "stream",
     "text": [
      "EarlyStopping counter: 28 out of 100\n"
     ]
    },
    {
     "name": "stderr",
     "output_type": "stream",
     "text": [
      "Classifier Training Epoch:  86%|\u001b[32m████████▌ \u001b[0m| 428/500 [16:32<05:30,  4.60s/it, acc=0.867, loss=0.317]"
     ]
    },
    {
     "name": "stdout",
     "output_type": "stream",
     "text": [
      "EarlyStopping counter: 29 out of 100\n"
     ]
    },
    {
     "name": "stderr",
     "output_type": "stream",
     "text": [
      "Classifier Training Epoch:  86%|\u001b[32m████████▌ \u001b[0m| 429/500 [16:37<05:37,  4.75s/it, acc=0.893, loss=0.24] "
     ]
    },
    {
     "name": "stdout",
     "output_type": "stream",
     "text": [
      "EarlyStopping counter: 30 out of 100\n"
     ]
    },
    {
     "name": "stderr",
     "output_type": "stream",
     "text": [
      "Classifier Training Epoch:  86%|\u001b[32m████████▌ \u001b[0m| 430/500 [16:40<05:28,  4.70s/it, acc=0.863, loss=0.303]"
     ]
    },
    {
     "name": "stdout",
     "output_type": "stream",
     "text": [
      "EarlyStopping counter: 31 out of 100\n"
     ]
    },
    {
     "name": "stderr",
     "output_type": "stream",
     "text": [
      "Classifier Training Epoch:  86%|\u001b[32m████████▌ \u001b[0m| 431/500 [16:42<04:17,  3.73s/it, acc=0.869, loss=0.343]"
     ]
    },
    {
     "name": "stdout",
     "output_type": "stream",
     "text": [
      "EarlyStopping counter: 32 out of 100\n"
     ]
    },
    {
     "name": "stderr",
     "output_type": "stream",
     "text": [
      "Classifier Training Epoch:  86%|\u001b[32m████████▋ \u001b[0m| 432/500 [16:43<03:25,  3.02s/it, acc=0.869, loss=0.294]"
     ]
    },
    {
     "name": "stdout",
     "output_type": "stream",
     "text": [
      "EarlyStopping counter: 33 out of 100\n"
     ]
    },
    {
     "name": "stderr",
     "output_type": "stream",
     "text": [
      "Classifier Training Epoch:  87%|\u001b[32m████████▋ \u001b[0m| 433/500 [16:44<02:48,  2.52s/it, acc=0.869, loss=0.253]"
     ]
    },
    {
     "name": "stdout",
     "output_type": "stream",
     "text": [
      "EarlyStopping counter: 34 out of 100\n"
     ]
    },
    {
     "name": "stderr",
     "output_type": "stream",
     "text": [
      "Classifier Training Epoch:  87%|\u001b[32m████████▋ \u001b[0m| 434/500 [16:46<02:24,  2.18s/it, acc=0.865, loss=0.335]"
     ]
    },
    {
     "name": "stdout",
     "output_type": "stream",
     "text": [
      "EarlyStopping counter: 35 out of 100\n"
     ]
    },
    {
     "name": "stderr",
     "output_type": "stream",
     "text": [
      "Classifier Training Epoch:  87%|\u001b[32m████████▋ \u001b[0m| 435/500 [16:47<02:06,  1.94s/it, acc=0.854, loss=0.314]"
     ]
    },
    {
     "name": "stdout",
     "output_type": "stream",
     "text": [
      "EarlyStopping counter: 36 out of 100\n"
     ]
    },
    {
     "name": "stderr",
     "output_type": "stream",
     "text": [
      "Classifier Training Epoch:  87%|\u001b[32m████████▋ \u001b[0m| 436/500 [16:48<01:54,  1.80s/it, acc=0.871, loss=0.302]"
     ]
    },
    {
     "name": "stdout",
     "output_type": "stream",
     "text": [
      "EarlyStopping counter: 37 out of 100\n"
     ]
    },
    {
     "name": "stderr",
     "output_type": "stream",
     "text": [
      "Classifier Training Epoch:  87%|\u001b[32m████████▋ \u001b[0m| 437/500 [16:50<01:46,  1.69s/it, acc=0.904, loss=0.254]"
     ]
    },
    {
     "name": "stdout",
     "output_type": "stream",
     "text": [
      "EarlyStopping counter: 38 out of 100\n"
     ]
    },
    {
     "name": "stderr",
     "output_type": "stream",
     "text": [
      "Classifier Training Epoch:  88%|\u001b[32m████████▊ \u001b[0m| 438/500 [16:51<01:38,  1.59s/it, acc=0.848, loss=0.313]"
     ]
    },
    {
     "name": "stdout",
     "output_type": "stream",
     "text": [
      "EarlyStopping counter: 39 out of 100\n"
     ]
    },
    {
     "name": "stderr",
     "output_type": "stream",
     "text": [
      "Classifier Training Epoch:  88%|\u001b[32m████████▊ \u001b[0m| 440/500 [16:54<01:30,  1.51s/it, acc=0.898, loss=0.237]"
     ]
    },
    {
     "name": "stdout",
     "output_type": "stream",
     "text": [
      "EarlyStopping counter: 1 out of 100\n"
     ]
    },
    {
     "name": "stderr",
     "output_type": "stream",
     "text": [
      "Classifier Training Epoch:  90%|\u001b[32m█████████ \u001b[0m| 450/500 [17:10<01:21,  1.63s/it, acc=0.896, loss=0.24] "
     ]
    },
    {
     "name": "stdout",
     "output_type": "stream",
     "text": [
      "EarlyStopping counter: 1 out of 100\n"
     ]
    },
    {
     "name": "stderr",
     "output_type": "stream",
     "text": [
      "Classifier Training Epoch:  90%|\u001b[32m█████████ \u001b[0m| 451/500 [17:12<01:19,  1.63s/it, acc=0.867, loss=0.286]"
     ]
    },
    {
     "name": "stdout",
     "output_type": "stream",
     "text": [
      "EarlyStopping counter: 2 out of 100\n"
     ]
    },
    {
     "name": "stderr",
     "output_type": "stream",
     "text": [
      "Classifier Training Epoch:  90%|\u001b[32m█████████ \u001b[0m| 452/500 [17:13<01:17,  1.61s/it, acc=0.883, loss=0.246]"
     ]
    },
    {
     "name": "stdout",
     "output_type": "stream",
     "text": [
      "EarlyStopping counter: 3 out of 100\n"
     ]
    },
    {
     "name": "stderr",
     "output_type": "stream",
     "text": [
      "Classifier Training Epoch:  91%|\u001b[32m█████████ \u001b[0m| 453/500 [17:15<01:15,  1.61s/it, acc=0.873, loss=0.313]"
     ]
    },
    {
     "name": "stdout",
     "output_type": "stream",
     "text": [
      "EarlyStopping counter: 4 out of 100\n"
     ]
    },
    {
     "name": "stderr",
     "output_type": "stream",
     "text": [
      "Classifier Training Epoch:  91%|\u001b[32m█████████ \u001b[0m| 454/500 [17:16<01:12,  1.58s/it, acc=0.885, loss=0.329]"
     ]
    },
    {
     "name": "stdout",
     "output_type": "stream",
     "text": [
      "EarlyStopping counter: 5 out of 100\n"
     ]
    },
    {
     "name": "stderr",
     "output_type": "stream",
     "text": [
      "Classifier Training Epoch:  91%|\u001b[32m█████████ \u001b[0m| 455/500 [17:18<01:13,  1.62s/it, acc=0.871, loss=0.268]"
     ]
    },
    {
     "name": "stdout",
     "output_type": "stream",
     "text": [
      "EarlyStopping counter: 6 out of 100\n"
     ]
    },
    {
     "name": "stderr",
     "output_type": "stream",
     "text": [
      "Classifier Training Epoch:  91%|\u001b[32m█████████ \u001b[0m| 456/500 [17:19<01:11,  1.62s/it, acc=0.869, loss=0.265]"
     ]
    },
    {
     "name": "stdout",
     "output_type": "stream",
     "text": [
      "EarlyStopping counter: 7 out of 100\n"
     ]
    },
    {
     "name": "stderr",
     "output_type": "stream",
     "text": [
      "Classifier Training Epoch:  91%|\u001b[32m█████████▏\u001b[0m| 457/500 [17:21<01:09,  1.62s/it, acc=0.861, loss=0.306]"
     ]
    },
    {
     "name": "stdout",
     "output_type": "stream",
     "text": [
      "EarlyStopping counter: 8 out of 100\n"
     ]
    },
    {
     "name": "stderr",
     "output_type": "stream",
     "text": [
      "Classifier Training Epoch:  92%|\u001b[32m█████████▏\u001b[0m| 458/500 [17:23<01:07,  1.60s/it, acc=0.84, loss=0.321] "
     ]
    },
    {
     "name": "stdout",
     "output_type": "stream",
     "text": [
      "EarlyStopping counter: 9 out of 100\n"
     ]
    },
    {
     "name": "stderr",
     "output_type": "stream",
     "text": [
      "Classifier Training Epoch:  92%|\u001b[32m█████████▏\u001b[0m| 459/500 [17:24<01:06,  1.62s/it, acc=0.852, loss=0.353]"
     ]
    },
    {
     "name": "stdout",
     "output_type": "stream",
     "text": [
      "EarlyStopping counter: 10 out of 100\n"
     ]
    },
    {
     "name": "stderr",
     "output_type": "stream",
     "text": [
      "Classifier Training Epoch:  92%|\u001b[32m█████████▏\u001b[0m| 460/500 [17:26<01:05,  1.63s/it, acc=0.869, loss=0.261]"
     ]
    },
    {
     "name": "stdout",
     "output_type": "stream",
     "text": [
      "EarlyStopping counter: 11 out of 100\n"
     ]
    },
    {
     "name": "stderr",
     "output_type": "stream",
     "text": [
      "Classifier Training Epoch:  92%|\u001b[32m█████████▏\u001b[0m| 461/500 [17:27<01:02,  1.59s/it, acc=0.857, loss=0.305]"
     ]
    },
    {
     "name": "stdout",
     "output_type": "stream",
     "text": [
      "EarlyStopping counter: 12 out of 100\n"
     ]
    },
    {
     "name": "stderr",
     "output_type": "stream",
     "text": [
      "Classifier Training Epoch:  92%|\u001b[32m█████████▏\u001b[0m| 462/500 [17:29<01:01,  1.62s/it, acc=0.895, loss=0.254]"
     ]
    },
    {
     "name": "stdout",
     "output_type": "stream",
     "text": [
      "EarlyStopping counter: 13 out of 100\n"
     ]
    },
    {
     "name": "stderr",
     "output_type": "stream",
     "text": [
      "Classifier Training Epoch:  93%|\u001b[32m█████████▎\u001b[0m| 463/500 [17:31<01:00,  1.64s/it, acc=0.887, loss=0.236]"
     ]
    },
    {
     "name": "stdout",
     "output_type": "stream",
     "text": [
      "EarlyStopping counter: 14 out of 100\n"
     ]
    },
    {
     "name": "stderr",
     "output_type": "stream",
     "text": [
      "Classifier Training Epoch:  93%|\u001b[32m█████████▎\u001b[0m| 464/500 [17:35<01:00,  1.68s/it, acc=0.895, loss=0.242]"
     ]
    },
    {
     "name": "stdout",
     "output_type": "stream",
     "text": [
      "EarlyStopping counter: 15 out of 100\n"
     ]
    },
    {
     "name": "stderr",
     "output_type": "stream",
     "text": [
      "Classifier Training Epoch:  93%|\u001b[32m█████████▎\u001b[0m| 465/500 [17:41<01:50,  3.15s/it, acc=0.859, loss=0.309]"
     ]
    },
    {
     "name": "stdout",
     "output_type": "stream",
     "text": [
      "EarlyStopping counter: 16 out of 100\n"
     ]
    },
    {
     "name": "stderr",
     "output_type": "stream",
     "text": [
      "Classifier Training Epoch:  93%|\u001b[32m█████████▎\u001b[0m| 466/500 [17:47<02:16,  4.01s/it, acc=0.875, loss=0.266]"
     ]
    },
    {
     "name": "stdout",
     "output_type": "stream",
     "text": [
      "EarlyStopping counter: 17 out of 100\n"
     ]
    },
    {
     "name": "stderr",
     "output_type": "stream",
     "text": [
      "Classifier Training Epoch:  93%|\u001b[32m█████████▎\u001b[0m| 467/500 [17:53<02:28,  4.49s/it, acc=0.857, loss=0.309]"
     ]
    },
    {
     "name": "stdout",
     "output_type": "stream",
     "text": [
      "EarlyStopping counter: 18 out of 100\n"
     ]
    },
    {
     "name": "stderr",
     "output_type": "stream",
     "text": [
      "Classifier Training Epoch:  94%|\u001b[32m█████████▎\u001b[0m| 468/500 [17:58<02:33,  4.78s/it, acc=0.875, loss=0.27] "
     ]
    },
    {
     "name": "stdout",
     "output_type": "stream",
     "text": [
      "EarlyStopping counter: 19 out of 100\n"
     ]
    },
    {
     "name": "stderr",
     "output_type": "stream",
     "text": [
      "Classifier Training Epoch:  94%|\u001b[32m█████████▍\u001b[0m| 469/500 [18:03<02:33,  4.94s/it, acc=0.855, loss=0.33] "
     ]
    },
    {
     "name": "stdout",
     "output_type": "stream",
     "text": [
      "EarlyStopping counter: 20 out of 100\n"
     ]
    },
    {
     "name": "stderr",
     "output_type": "stream",
     "text": [
      "Classifier Training Epoch:  94%|\u001b[32m█████████▍\u001b[0m| 470/500 [18:07<02:25,  4.86s/it, acc=0.896, loss=0.234]"
     ]
    },
    {
     "name": "stdout",
     "output_type": "stream",
     "text": [
      "EarlyStopping counter: 21 out of 100\n"
     ]
    },
    {
     "name": "stderr",
     "output_type": "stream",
     "text": [
      "Classifier Training Epoch:  94%|\u001b[32m█████████▍\u001b[0m| 471/500 [18:12<02:19,  4.81s/it, acc=0.875, loss=0.292]"
     ]
    },
    {
     "name": "stdout",
     "output_type": "stream",
     "text": [
      "EarlyStopping counter: 22 out of 100\n"
     ]
    },
    {
     "name": "stderr",
     "output_type": "stream",
     "text": [
      "Classifier Training Epoch:  94%|\u001b[32m█████████▍\u001b[0m| 472/500 [18:15<02:13,  4.75s/it, acc=0.883, loss=0.276]"
     ]
    },
    {
     "name": "stdout",
     "output_type": "stream",
     "text": [
      "EarlyStopping counter: 23 out of 100\n"
     ]
    },
    {
     "name": "stderr",
     "output_type": "stream",
     "text": [
      "Classifier Training Epoch:  95%|\u001b[32m█████████▍\u001b[0m| 473/500 [18:17<01:41,  3.75s/it, acc=0.883, loss=0.273]"
     ]
    },
    {
     "name": "stdout",
     "output_type": "stream",
     "text": [
      "EarlyStopping counter: 24 out of 100\n"
     ]
    },
    {
     "name": "stderr",
     "output_type": "stream",
     "text": [
      "Classifier Training Epoch:  95%|\u001b[32m█████████▍\u001b[0m| 474/500 [18:18<01:19,  3.07s/it, acc=0.891, loss=0.242]"
     ]
    },
    {
     "name": "stdout",
     "output_type": "stream",
     "text": [
      "EarlyStopping counter: 25 out of 100\n"
     ]
    },
    {
     "name": "stderr",
     "output_type": "stream",
     "text": [
      "Classifier Training Epoch:  95%|\u001b[32m█████████▌\u001b[0m| 475/500 [18:20<01:04,  2.58s/it, acc=0.898, loss=0.249]"
     ]
    },
    {
     "name": "stdout",
     "output_type": "stream",
     "text": [
      "EarlyStopping counter: 26 out of 100\n"
     ]
    },
    {
     "name": "stderr",
     "output_type": "stream",
     "text": [
      "Classifier Training Epoch:  95%|\u001b[32m█████████▌\u001b[0m| 476/500 [18:21<00:53,  2.24s/it, acc=0.895, loss=0.256]"
     ]
    },
    {
     "name": "stdout",
     "output_type": "stream",
     "text": [
      "EarlyStopping counter: 27 out of 100\n"
     ]
    },
    {
     "name": "stderr",
     "output_type": "stream",
     "text": [
      "Classifier Training Epoch:  95%|\u001b[32m█████████▌\u001b[0m| 477/500 [18:22<00:45,  1.98s/it, acc=0.881, loss=0.284]"
     ]
    },
    {
     "name": "stdout",
     "output_type": "stream",
     "text": [
      "EarlyStopping counter: 28 out of 100\n"
     ]
    },
    {
     "name": "stderr",
     "output_type": "stream",
     "text": [
      "Classifier Training Epoch:  96%|\u001b[32m█████████▌\u001b[0m| 478/500 [18:24<00:40,  1.82s/it, acc=0.891, loss=0.252]"
     ]
    },
    {
     "name": "stdout",
     "output_type": "stream",
     "text": [
      "EarlyStopping counter: 29 out of 100\n"
     ]
    },
    {
     "name": "stderr",
     "output_type": "stream",
     "text": [
      "Classifier Training Epoch:  96%|\u001b[32m█████████▌\u001b[0m| 479/500 [18:25<00:35,  1.69s/it, acc=0.889, loss=0.254]"
     ]
    },
    {
     "name": "stdout",
     "output_type": "stream",
     "text": [
      "EarlyStopping counter: 30 out of 100\n"
     ]
    },
    {
     "name": "stderr",
     "output_type": "stream",
     "text": [
      "Classifier Training Epoch:  96%|\u001b[32m█████████▌\u001b[0m| 480/500 [18:26<00:32,  1.61s/it, acc=0.879, loss=0.282]"
     ]
    },
    {
     "name": "stdout",
     "output_type": "stream",
     "text": [
      "EarlyStopping counter: 31 out of 100\n"
     ]
    },
    {
     "name": "stderr",
     "output_type": "stream",
     "text": [
      "Classifier Training Epoch:  96%|\u001b[32m█████████▌\u001b[0m| 481/500 [18:28<00:29,  1.56s/it, acc=0.863, loss=0.319]"
     ]
    },
    {
     "name": "stdout",
     "output_type": "stream",
     "text": [
      "EarlyStopping counter: 32 out of 100\n"
     ]
    },
    {
     "name": "stderr",
     "output_type": "stream",
     "text": [
      "Classifier Training Epoch:  96%|\u001b[32m█████████▋\u001b[0m| 482/500 [18:29<00:27,  1.50s/it, acc=0.842, loss=0.329]"
     ]
    },
    {
     "name": "stdout",
     "output_type": "stream",
     "text": [
      "EarlyStopping counter: 33 out of 100\n"
     ]
    },
    {
     "name": "stderr",
     "output_type": "stream",
     "text": [
      "Classifier Training Epoch:  97%|\u001b[32m█████████▋\u001b[0m| 483/500 [18:31<00:25,  1.49s/it, acc=0.9, loss=0.254]  "
     ]
    },
    {
     "name": "stdout",
     "output_type": "stream",
     "text": [
      "EarlyStopping counter: 34 out of 100\n"
     ]
    },
    {
     "name": "stderr",
     "output_type": "stream",
     "text": [
      "Classifier Training Epoch:  97%|\u001b[32m█████████▋\u001b[0m| 484/500 [18:33<00:24,  1.51s/it, acc=0.861, loss=0.297]"
     ]
    },
    {
     "name": "stdout",
     "output_type": "stream",
     "text": [
      "EarlyStopping counter: 35 out of 100\n"
     ]
    },
    {
     "name": "stderr",
     "output_type": "stream",
     "text": [
      "Classifier Training Epoch:  97%|\u001b[32m█████████▋\u001b[0m| 485/500 [18:37<00:35,  2.36s/it, acc=0.91, loss=0.234] "
     ]
    },
    {
     "name": "stdout",
     "output_type": "stream",
     "text": [
      "EarlyStopping counter: 36 out of 100\n"
     ]
    },
    {
     "name": "stderr",
     "output_type": "stream",
     "text": [
      "Classifier Training Epoch:  97%|\u001b[32m█████████▋\u001b[0m| 486/500 [18:42<00:43,  3.09s/it, acc=0.873, loss=0.261]"
     ]
    },
    {
     "name": "stdout",
     "output_type": "stream",
     "text": [
      "EarlyStopping counter: 37 out of 100\n"
     ]
    },
    {
     "name": "stderr",
     "output_type": "stream",
     "text": [
      "Classifier Training Epoch:  97%|\u001b[32m█████████▋\u001b[0m| 487/500 [18:46<00:47,  3.66s/it, acc=0.885, loss=0.248]"
     ]
    },
    {
     "name": "stdout",
     "output_type": "stream",
     "text": [
      "EarlyStopping counter: 38 out of 100\n"
     ]
    },
    {
     "name": "stderr",
     "output_type": "stream",
     "text": [
      "Classifier Training Epoch:  98%|\u001b[32m█████████▊\u001b[0m| 488/500 [18:48<00:36,  3.03s/it, acc=0.873, loss=0.293]"
     ]
    },
    {
     "name": "stdout",
     "output_type": "stream",
     "text": [
      "EarlyStopping counter: 39 out of 100\n"
     ]
    },
    {
     "name": "stderr",
     "output_type": "stream",
     "text": [
      "Classifier Training Epoch:  98%|\u001b[32m█████████▊\u001b[0m| 489/500 [18:49<00:28,  2.57s/it, acc=0.855, loss=0.279]"
     ]
    },
    {
     "name": "stdout",
     "output_type": "stream",
     "text": [
      "EarlyStopping counter: 40 out of 100\n"
     ]
    },
    {
     "name": "stderr",
     "output_type": "stream",
     "text": [
      "Classifier Training Epoch:  98%|\u001b[32m█████████▊\u001b[0m| 490/500 [18:51<00:22,  2.23s/it, acc=0.861, loss=0.318]"
     ]
    },
    {
     "name": "stdout",
     "output_type": "stream",
     "text": [
      "EarlyStopping counter: 41 out of 100\n"
     ]
    },
    {
     "name": "stderr",
     "output_type": "stream",
     "text": [
      "Classifier Training Epoch:  98%|\u001b[32m█████████▊\u001b[0m| 491/500 [18:52<00:17,  1.96s/it, acc=0.865, loss=0.304]"
     ]
    },
    {
     "name": "stdout",
     "output_type": "stream",
     "text": [
      "EarlyStopping counter: 42 out of 100\n"
     ]
    },
    {
     "name": "stderr",
     "output_type": "stream",
     "text": [
      "Classifier Training Epoch:  98%|\u001b[32m█████████▊\u001b[0m| 492/500 [18:54<00:14,  1.81s/it, acc=0.863, loss=0.309]"
     ]
    },
    {
     "name": "stdout",
     "output_type": "stream",
     "text": [
      "EarlyStopping counter: 43 out of 100\n"
     ]
    },
    {
     "name": "stderr",
     "output_type": "stream",
     "text": [
      "Classifier Training Epoch:  99%|\u001b[32m█████████▊\u001b[0m| 493/500 [18:55<00:11,  1.70s/it, acc=0.898, loss=0.266]"
     ]
    },
    {
     "name": "stdout",
     "output_type": "stream",
     "text": [
      "EarlyStopping counter: 44 out of 100\n"
     ]
    },
    {
     "name": "stderr",
     "output_type": "stream",
     "text": [
      "Classifier Training Epoch:  99%|\u001b[32m█████████▉\u001b[0m| 494/500 [18:56<00:09,  1.62s/it, acc=0.885, loss=0.261]"
     ]
    },
    {
     "name": "stdout",
     "output_type": "stream",
     "text": [
      "EarlyStopping counter: 45 out of 100\n"
     ]
    },
    {
     "name": "stderr",
     "output_type": "stream",
     "text": [
      "Classifier Training Epoch:  99%|\u001b[32m█████████▉\u001b[0m| 495/500 [18:58<00:08,  1.62s/it, acc=0.9, loss=0.225]  "
     ]
    },
    {
     "name": "stdout",
     "output_type": "stream",
     "text": [
      "EarlyStopping counter: 46 out of 100\n"
     ]
    },
    {
     "name": "stderr",
     "output_type": "stream",
     "text": [
      "Classifier Training Epoch:  99%|\u001b[32m█████████▉\u001b[0m| 496/500 [18:59<00:06,  1.57s/it, acc=0.854, loss=0.295]"
     ]
    },
    {
     "name": "stdout",
     "output_type": "stream",
     "text": [
      "EarlyStopping counter: 47 out of 100\n"
     ]
    },
    {
     "name": "stderr",
     "output_type": "stream",
     "text": [
      "Classifier Training Epoch:  99%|\u001b[32m█████████▉\u001b[0m| 497/500 [19:01<00:04,  1.57s/it, acc=0.898, loss=0.252]"
     ]
    },
    {
     "name": "stdout",
     "output_type": "stream",
     "text": [
      "EarlyStopping counter: 48 out of 100\n"
     ]
    },
    {
     "name": "stderr",
     "output_type": "stream",
     "text": [
      "Classifier Training Epoch: 100%|\u001b[32m█████████▉\u001b[0m| 498/500 [19:02<00:03,  1.54s/it, acc=0.85, loss=0.31]  "
     ]
    },
    {
     "name": "stdout",
     "output_type": "stream",
     "text": [
      "EarlyStopping counter: 49 out of 100\n"
     ]
    },
    {
     "name": "stderr",
     "output_type": "stream",
     "text": [
      "Classifier Training Epoch: 100%|\u001b[32m█████████▉\u001b[0m| 499/500 [19:04<00:01,  1.59s/it, acc=0.865, loss=0.277]"
     ]
    },
    {
     "name": "stdout",
     "output_type": "stream",
     "text": [
      "EarlyStopping counter: 50 out of 100\n"
     ]
    },
    {
     "name": "stderr",
     "output_type": "stream",
     "text": [
      "Classifier Training Epoch: 100%|\u001b[32m█████████▉\u001b[0m| 499/500 [19:05<00:01,  1.59s/it, acc=0.915, loss=0.205]"
     ]
    },
    {
     "name": "stdout",
     "output_type": "stream",
     "text": [
      "EarlyStopping counter: 51 out of 100\n"
     ]
    },
    {
     "name": "stderr",
     "output_type": "stream",
     "text": [
      "Classifier Training Epoch: 100%|\u001b[32m██████████\u001b[0m| 500/500 [19:06<00:00,  2.29s/it, acc=0.915, loss=0.205]\n"
     ]
    },
    {
     "name": "stdout",
     "output_type": "stream",
     "text": [
      "========== after train(without debiasing) ==========\n",
      "========== Results on train ==========\n",
      "Grp. 0 - #instance: 8460; #pos. pred: 859; Acc.: 0.963475\n",
      "Grp. 1 - #instance: 17589; #pos. pred: 4987; Acc.: 0.880323\n",
      "Overall acc.: 0.907328; Demographic parity: 0.181993; Equal opportunity: -0.026069; Average odds difference: 0.029553\n",
      "========== Results on test ==========\n",
      "Grp. 0 - #instance: 4147; #pos. pred: 424; Acc.: 0.920666\n",
      "Grp. 1 - #instance: 8514; #pos. pred: 2316; Acc.: 0.805614\n",
      "Overall acc.: 0.843298; Demographic parity: 0.169780; Equal opportunity: 0.025386; Average odds difference: 0.032782\n",
      "\n",
      "========== Starting Training with Mitigation... ==========\n"
     ]
    },
    {
     "name": "stderr",
     "output_type": "stream",
     "text": [
      "Adversarial Debiasing Training Epoch:   3%|\u001b[32m▎         \u001b[0m| 15/500 [00:38<18:10,  2.25s/it, accADV=0.609, accCLF=0.789, lossADV=0.655, lossCLF=3.62]"
     ]
    },
    {
     "name": "stdout",
     "output_type": "stream",
     "text": [
      "EarlyStopping counter: 1 out of 100\n"
     ]
    },
    {
     "name": "stderr",
     "output_type": "stream",
     "text": [
      "Adversarial Debiasing Training Epoch:   4%|\u001b[32m▍         \u001b[0m| 21/500 [00:50<16:36,  2.08s/it, accADV=0.711, accCLF=0.799, lossADV=0.596, lossCLF=3.37] "
     ]
    },
    {
     "name": "stdout",
     "output_type": "stream",
     "text": [
      "EarlyStopping counter: 1 out of 100\n"
     ]
    },
    {
     "name": "stderr",
     "output_type": "stream",
     "text": [
      "Adversarial Debiasing Training Epoch:   5%|\u001b[32m▌         \u001b[0m| 26/500 [01:00<16:17,  2.06s/it, accADV=0.654, accCLF=0.797, lossADV=0.63, lossCLF=2.6]   "
     ]
    },
    {
     "name": "stdout",
     "output_type": "stream",
     "text": [
      "EarlyStopping counter: 1 out of 100\n"
     ]
    },
    {
     "name": "stderr",
     "output_type": "stream",
     "text": [
      "Adversarial Debiasing Training Epoch:   5%|\u001b[32m▌         \u001b[0m| 27/500 [01:02<16:12,  2.06s/it, accADV=0.672, accCLF=0.779, lossADV=0.62, lossCLF=3.2]   "
     ]
    },
    {
     "name": "stdout",
     "output_type": "stream",
     "text": [
      "EarlyStopping counter: 2 out of 100\n"
     ]
    },
    {
     "name": "stderr",
     "output_type": "stream",
     "text": [
      "Adversarial Debiasing Training Epoch:   6%|\u001b[32m▌         \u001b[0m| 29/500 [01:09<18:06,  2.31s/it, accADV=0.658, accCLF=0.822, lossADV=0.618, lossCLF=2.3]  "
     ]
    },
    {
     "name": "stdout",
     "output_type": "stream",
     "text": [
      "EarlyStopping counter: 1 out of 100\n"
     ]
    },
    {
     "name": "stderr",
     "output_type": "stream",
     "text": [
      "Adversarial Debiasing Training Epoch:   7%|\u001b[32m▋         \u001b[0m| 33/500 [01:33<41:11,  5.29s/it, accADV=0.678, accCLF=0.762, lossADV=0.62, lossCLF=2.88]  "
     ]
    },
    {
     "name": "stdout",
     "output_type": "stream",
     "text": [
      "EarlyStopping counter: 1 out of 100\n"
     ]
    },
    {
     "name": "stderr",
     "output_type": "stream",
     "text": [
      "Adversarial Debiasing Training Epoch:   7%|\u001b[32m▋         \u001b[0m| 34/500 [01:40<44:21,  5.71s/it, accADV=0.688, accCLF=0.795, lossADV=0.596, lossCLF=2.3]  "
     ]
    },
    {
     "name": "stdout",
     "output_type": "stream",
     "text": [
      "EarlyStopping counter: 2 out of 100\n"
     ]
    },
    {
     "name": "stderr",
     "output_type": "stream",
     "text": [
      "Adversarial Debiasing Training Epoch:   7%|\u001b[32m▋         \u001b[0m| 36/500 [01:52<45:20,  5.86s/it, accADV=0.67, accCLF=0.771, lossADV=0.622, lossCLF=2.99]  "
     ]
    },
    {
     "name": "stdout",
     "output_type": "stream",
     "text": [
      "EarlyStopping counter: 1 out of 100\n"
     ]
    },
    {
     "name": "stderr",
     "output_type": "stream",
     "text": [
      "Adversarial Debiasing Training Epoch:   7%|\u001b[32m▋         \u001b[0m| 37/500 [02:01<52:10,  6.76s/it, accADV=0.701, accCLF=0.758, lossADV=0.604, lossCLF=3]    "
     ]
    },
    {
     "name": "stdout",
     "output_type": "stream",
     "text": [
      "EarlyStopping counter: 2 out of 100\n"
     ]
    },
    {
     "name": "stderr",
     "output_type": "stream",
     "text": [
      "Adversarial Debiasing Training Epoch:   8%|\u001b[32m▊         \u001b[0m| 41/500 [02:10<25:17,  3.31s/it, accADV=0.699, accCLF=0.76, lossADV=0.607, lossCLF=3.28]  "
     ]
    },
    {
     "name": "stdout",
     "output_type": "stream",
     "text": [
      "EarlyStopping counter: 1 out of 100\n"
     ]
    },
    {
     "name": "stderr",
     "output_type": "stream",
     "text": [
      "Adversarial Debiasing Training Epoch:   8%|\u001b[32m▊         \u001b[0m| 42/500 [02:12<21:49,  2.86s/it, accADV=0.654, accCLF=0.781, lossADV=0.625, lossCLF=2.84] "
     ]
    },
    {
     "name": "stdout",
     "output_type": "stream",
     "text": [
      "EarlyStopping counter: 2 out of 100\n"
     ]
    },
    {
     "name": "stderr",
     "output_type": "stream",
     "text": [
      "Adversarial Debiasing Training Epoch:   9%|\u001b[32m▊         \u001b[0m| 43/500 [02:14<19:02,  2.50s/it, accADV=0.676, accCLF=0.74, lossADV=0.616, lossCLF=3.1]   "
     ]
    },
    {
     "name": "stdout",
     "output_type": "stream",
     "text": [
      "EarlyStopping counter: 3 out of 100\n"
     ]
    },
    {
     "name": "stderr",
     "output_type": "stream",
     "text": [
      "Adversarial Debiasing Training Epoch:  10%|\u001b[32m█         \u001b[0m| 50/500 [02:28<14:49,  1.98s/it, accADV=0.662, accCLF=0.812, lossADV=0.61, lossCLF=2.02]  "
     ]
    },
    {
     "name": "stdout",
     "output_type": "stream",
     "text": [
      "EarlyStopping counter: 1 out of 100\n"
     ]
    },
    {
     "name": "stderr",
     "output_type": "stream",
     "text": [
      "Adversarial Debiasing Training Epoch:  10%|\u001b[32m█         \u001b[0m| 51/500 [02:29<14:36,  1.95s/it, accADV=0.695, accCLF=0.82, lossADV=0.612, lossCLF=1.74]  "
     ]
    },
    {
     "name": "stdout",
     "output_type": "stream",
     "text": [
      "EarlyStopping counter: 2 out of 100\n"
     ]
    },
    {
     "name": "stderr",
     "output_type": "stream",
     "text": [
      "Adversarial Debiasing Training Epoch:  10%|\u001b[32m█         \u001b[0m| 52/500 [02:31<14:26,  1.93s/it, accADV=0.693, accCLF=0.822, lossADV=0.609, lossCLF=1.76]"
     ]
    },
    {
     "name": "stdout",
     "output_type": "stream",
     "text": [
      "EarlyStopping counter: 3 out of 100\n"
     ]
    },
    {
     "name": "stderr",
     "output_type": "stream",
     "text": [
      "Adversarial Debiasing Training Epoch:  11%|\u001b[32m█         \u001b[0m| 53/500 [02:33<14:19,  1.92s/it, accADV=0.68, accCLF=0.805, lossADV=0.598, lossCLF=2.07]  "
     ]
    },
    {
     "name": "stdout",
     "output_type": "stream",
     "text": [
      "EarlyStopping counter: 4 out of 100\n"
     ]
    },
    {
     "name": "stderr",
     "output_type": "stream",
     "text": [
      "Adversarial Debiasing Training Epoch:  11%|\u001b[32m█         \u001b[0m| 54/500 [02:35<14:22,  1.93s/it, accADV=0.674, accCLF=0.811, lossADV=0.611, lossCLF=1.86] "
     ]
    },
    {
     "name": "stdout",
     "output_type": "stream",
     "text": [
      "EarlyStopping counter: 5 out of 100\n"
     ]
    },
    {
     "name": "stderr",
     "output_type": "stream",
     "text": [
      "Adversarial Debiasing Training Epoch:  11%|\u001b[32m█         \u001b[0m| 55/500 [02:37<14:33,  1.96s/it, accADV=0.699, accCLF=0.787, lossADV=0.587, lossCLF=2.19] "
     ]
    },
    {
     "name": "stdout",
     "output_type": "stream",
     "text": [
      "EarlyStopping counter: 6 out of 100\n"
     ]
    },
    {
     "name": "stderr",
     "output_type": "stream",
     "text": [
      "Adversarial Debiasing Training Epoch:  11%|\u001b[32m█         \u001b[0m| 56/500 [02:39<14:33,  1.97s/it, accADV=0.646, accCLF=0.828, lossADV=0.634, lossCLF=1.41] "
     ]
    },
    {
     "name": "stdout",
     "output_type": "stream",
     "text": [
      "EarlyStopping counter: 7 out of 100\n"
     ]
    },
    {
     "name": "stderr",
     "output_type": "stream",
     "text": [
      "Adversarial Debiasing Training Epoch:  11%|\u001b[32m█▏        \u001b[0m| 57/500 [02:41<14:26,  1.95s/it, accADV=0.703, accCLF=0.82, lossADV=0.583, lossCLF=1.59]  "
     ]
    },
    {
     "name": "stdout",
     "output_type": "stream",
     "text": [
      "EarlyStopping counter: 8 out of 100\n"
     ]
    },
    {
     "name": "stderr",
     "output_type": "stream",
     "text": [
      "Adversarial Debiasing Training Epoch:  12%|\u001b[32m█▏        \u001b[0m| 58/500 [02:43<14:36,  1.98s/it, accADV=0.658, accCLF=0.82, lossADV=0.624, lossCLF=1.4]   "
     ]
    },
    {
     "name": "stdout",
     "output_type": "stream",
     "text": [
      "EarlyStopping counter: 9 out of 100\n"
     ]
    },
    {
     "name": "stderr",
     "output_type": "stream",
     "text": [
      "Adversarial Debiasing Training Epoch:  12%|\u001b[32m█▏        \u001b[0m| 59/500 [02:45<14:51,  2.02s/it, accADV=0.703, accCLF=0.777, lossADV=0.61, lossCLF=2.23]  "
     ]
    },
    {
     "name": "stdout",
     "output_type": "stream",
     "text": [
      "EarlyStopping counter: 10 out of 100\n"
     ]
    },
    {
     "name": "stderr",
     "output_type": "stream",
     "text": [
      "Adversarial Debiasing Training Epoch:  12%|\u001b[32m█▏        \u001b[0m| 60/500 [02:47<14:40,  2.00s/it, accADV=0.707, accCLF=0.797, lossADV=0.583, lossCLF=1.99] "
     ]
    },
    {
     "name": "stdout",
     "output_type": "stream",
     "text": [
      "EarlyStopping counter: 11 out of 100\n"
     ]
    },
    {
     "name": "stderr",
     "output_type": "stream",
     "text": [
      "Adversarial Debiasing Training Epoch:  12%|\u001b[32m█▏        \u001b[0m| 61/500 [02:49<14:37,  2.00s/it, accADV=0.709, accCLF=0.783, lossADV=0.583, lossCLF=1.84] "
     ]
    },
    {
     "name": "stdout",
     "output_type": "stream",
     "text": [
      "EarlyStopping counter: 12 out of 100\n"
     ]
    },
    {
     "name": "stderr",
     "output_type": "stream",
     "text": [
      "Adversarial Debiasing Training Epoch:  12%|\u001b[32m█▏        \u001b[0m| 62/500 [02:51<14:38,  2.01s/it, accADV=0.686, accCLF=0.834, lossADV=0.591, lossCLF=1.49] "
     ]
    },
    {
     "name": "stdout",
     "output_type": "stream",
     "text": [
      "EarlyStopping counter: 13 out of 100\n"
     ]
    },
    {
     "name": "stderr",
     "output_type": "stream",
     "text": [
      "Adversarial Debiasing Training Epoch:  13%|\u001b[32m█▎        \u001b[0m| 63/500 [02:53<14:37,  2.01s/it, accADV=0.686, accCLF=0.82, lossADV=0.6, lossCLF=1.46]    "
     ]
    },
    {
     "name": "stdout",
     "output_type": "stream",
     "text": [
      "EarlyStopping counter: 14 out of 100\n"
     ]
    },
    {
     "name": "stderr",
     "output_type": "stream",
     "text": [
      "Adversarial Debiasing Training Epoch:  13%|\u001b[32m█▎        \u001b[0m| 64/500 [02:55<15:00,  2.07s/it, accADV=0.652, accCLF=0.795, lossADV=0.621, lossCLF=1.7]  "
     ]
    },
    {
     "name": "stdout",
     "output_type": "stream",
     "text": [
      "EarlyStopping counter: 15 out of 100\n"
     ]
    },
    {
     "name": "stderr",
     "output_type": "stream",
     "text": [
      "Adversarial Debiasing Training Epoch:  13%|\u001b[32m█▎        \u001b[0m| 65/500 [03:01<16:53,  2.33s/it, accADV=0.664, accCLF=0.814, lossADV=0.61, lossCLF=1.63]  "
     ]
    },
    {
     "name": "stdout",
     "output_type": "stream",
     "text": [
      "EarlyStopping counter: 16 out of 100\n"
     ]
    },
    {
     "name": "stderr",
     "output_type": "stream",
     "text": [
      "Adversarial Debiasing Training Epoch:  13%|\u001b[32m█▎        \u001b[0m| 66/500 [03:07<27:30,  3.80s/it, accADV=0.662, accCLF=0.816, lossADV=0.62, lossCLF=1.26]  "
     ]
    },
    {
     "name": "stdout",
     "output_type": "stream",
     "text": [
      "EarlyStopping counter: 17 out of 100\n"
     ]
    },
    {
     "name": "stderr",
     "output_type": "stream",
     "text": [
      "Adversarial Debiasing Training Epoch:  13%|\u001b[32m█▎        \u001b[0m| 67/500 [03:14<32:25,  4.49s/it, accADV=0.652, accCLF=0.82, lossADV=0.616, lossCLF=1.79]  "
     ]
    },
    {
     "name": "stdout",
     "output_type": "stream",
     "text": [
      "EarlyStopping counter: 18 out of 100\n"
     ]
    },
    {
     "name": "stderr",
     "output_type": "stream",
     "text": [
      "Adversarial Debiasing Training Epoch:  14%|\u001b[32m█▎        \u001b[0m| 68/500 [03:19<36:33,  5.08s/it, accADV=0.703, accCLF=0.805, lossADV=0.584, lossCLF=1.64] "
     ]
    },
    {
     "name": "stdout",
     "output_type": "stream",
     "text": [
      "EarlyStopping counter: 19 out of 100\n"
     ]
    },
    {
     "name": "stderr",
     "output_type": "stream",
     "text": [
      "Adversarial Debiasing Training Epoch:  14%|\u001b[32m█▍        \u001b[0m| 69/500 [03:25<37:47,  5.26s/it, accADV=0.666, accCLF=0.801, lossADV=0.608, lossCLF=1.85] "
     ]
    },
    {
     "name": "stdout",
     "output_type": "stream",
     "text": [
      "EarlyStopping counter: 20 out of 100\n"
     ]
    },
    {
     "name": "stderr",
     "output_type": "stream",
     "text": [
      "Adversarial Debiasing Training Epoch:  14%|\u001b[32m█▍        \u001b[0m| 70/500 [03:31<38:19,  5.35s/it, accADV=0.693, accCLF=0.807, lossADV=0.584, lossCLF=1.33] "
     ]
    },
    {
     "name": "stdout",
     "output_type": "stream",
     "text": [
      "EarlyStopping counter: 21 out of 100\n"
     ]
    },
    {
     "name": "stderr",
     "output_type": "stream",
     "text": [
      "Adversarial Debiasing Training Epoch:  14%|\u001b[32m█▍        \u001b[0m| 71/500 [03:36<38:56,  5.45s/it, accADV=0.682, accCLF=0.803, lossADV=0.606, lossCLF=1.41] "
     ]
    },
    {
     "name": "stdout",
     "output_type": "stream",
     "text": [
      "EarlyStopping counter: 22 out of 100\n"
     ]
    },
    {
     "name": "stderr",
     "output_type": "stream",
     "text": [
      "Adversarial Debiasing Training Epoch:  14%|\u001b[32m█▍        \u001b[0m| 72/500 [03:41<39:24,  5.52s/it, accADV=0.678, accCLF=0.793, lossADV=0.589, lossCLF=1.67] "
     ]
    },
    {
     "name": "stdout",
     "output_type": "stream",
     "text": [
      "EarlyStopping counter: 23 out of 100\n"
     ]
    },
    {
     "name": "stderr",
     "output_type": "stream",
     "text": [
      "Adversarial Debiasing Training Epoch:  15%|\u001b[32m█▍        \u001b[0m| 73/500 [03:42<32:17,  4.54s/it, accADV=0.674, accCLF=0.809, lossADV=0.588, lossCLF=1.5]  "
     ]
    },
    {
     "name": "stdout",
     "output_type": "stream",
     "text": [
      "EarlyStopping counter: 24 out of 100\n"
     ]
    },
    {
     "name": "stderr",
     "output_type": "stream",
     "text": [
      "Adversarial Debiasing Training Epoch:  15%|\u001b[32m█▌        \u001b[0m| 76/500 [03:48<18:59,  2.69s/it, accADV=0.664, accCLF=0.809, lossADV=0.605, lossCLF=1.46] "
     ]
    },
    {
     "name": "stdout",
     "output_type": "stream",
     "text": [
      "EarlyStopping counter: 1 out of 100\n"
     ]
    },
    {
     "name": "stderr",
     "output_type": "stream",
     "text": [
      "Adversarial Debiasing Training Epoch:  16%|\u001b[32m█▌        \u001b[0m| 79/500 [03:53<14:28,  2.06s/it, accADV=0.645, accCLF=0.809, lossADV=0.632, lossCLF=1.37] "
     ]
    },
    {
     "name": "stdout",
     "output_type": "stream",
     "text": [
      "EarlyStopping counter: 1 out of 100\n"
     ]
    },
    {
     "name": "stderr",
     "output_type": "stream",
     "text": [
      "Adversarial Debiasing Training Epoch:  16%|\u001b[32m█▌        \u001b[0m| 81/500 [03:56<13:33,  1.94s/it, accADV=0.693, accCLF=0.807, lossADV=0.593, lossCLF=1.2]  "
     ]
    },
    {
     "name": "stdout",
     "output_type": "stream",
     "text": [
      "EarlyStopping counter: 1 out of 100\n"
     ]
    },
    {
     "name": "stderr",
     "output_type": "stream",
     "text": [
      "Adversarial Debiasing Training Epoch:  16%|\u001b[32m█▋        \u001b[0m| 82/500 [04:03<18:28,  2.65s/it, accADV=0.68, accCLF=0.752, lossADV=0.598, lossCLF=1.47]  "
     ]
    },
    {
     "name": "stdout",
     "output_type": "stream",
     "text": [
      "EarlyStopping counter: 2 out of 100\n"
     ]
    },
    {
     "name": "stderr",
     "output_type": "stream",
     "text": [
      "Adversarial Debiasing Training Epoch:  17%|\u001b[32m█▋        \u001b[0m| 84/500 [04:12<28:17,  4.08s/it, accADV=0.662, accCLF=0.82, lossADV=0.626, lossCLF=1.16]  "
     ]
    },
    {
     "name": "stdout",
     "output_type": "stream",
     "text": [
      "EarlyStopping counter: 1 out of 100\n"
     ]
    },
    {
     "name": "stderr",
     "output_type": "stream",
     "text": [
      "Adversarial Debiasing Training Epoch:  17%|\u001b[32m█▋        \u001b[0m| 86/500 [04:15<19:56,  2.89s/it, accADV=0.635, accCLF=0.793, lossADV=0.647, lossCLF=1.2]  "
     ]
    },
    {
     "name": "stdout",
     "output_type": "stream",
     "text": [
      "EarlyStopping counter: 1 out of 100\n"
     ]
    },
    {
     "name": "stderr",
     "output_type": "stream",
     "text": [
      "Adversarial Debiasing Training Epoch:  18%|\u001b[32m█▊        \u001b[0m| 89/500 [04:21<14:40,  2.14s/it, accADV=0.713, accCLF=0.797, lossADV=0.594, lossCLF=1.05] "
     ]
    },
    {
     "name": "stdout",
     "output_type": "stream",
     "text": [
      "EarlyStopping counter: 1 out of 100\n"
     ]
    },
    {
     "name": "stderr",
     "output_type": "stream",
     "text": [
      "Adversarial Debiasing Training Epoch:  18%|\u001b[32m█▊        \u001b[0m| 90/500 [04:22<13:52,  2.03s/it, accADV=0.73, accCLF=0.777, lossADV=0.585, lossCLF=1.17]  "
     ]
    },
    {
     "name": "stdout",
     "output_type": "stream",
     "text": [
      "EarlyStopping counter: 2 out of 100\n"
     ]
    },
    {
     "name": "stderr",
     "output_type": "stream",
     "text": [
      "Adversarial Debiasing Training Epoch:  20%|\u001b[32m█▉        \u001b[0m| 99/500 [04:40<12:28,  1.87s/it, accADV=0.641, accCLF=0.882, lossADV=0.62, lossCLF=0.249] "
     ]
    },
    {
     "name": "stdout",
     "output_type": "stream",
     "text": [
      "EarlyStopping counter: 1 out of 100\n"
     ]
    },
    {
     "name": "stderr",
     "output_type": "stream",
     "text": [
      "Adversarial Debiasing Training Epoch:  20%|\u001b[32m██        \u001b[0m| 100/500 [04:42<13:39,  2.05s/it, accADV=0.709, accCLF=0.826, lossADV=0.57, lossCLF=0.914] "
     ]
    },
    {
     "name": "stdout",
     "output_type": "stream",
     "text": [
      "EarlyStopping counter: 2 out of 100\n"
     ]
    },
    {
     "name": "stderr",
     "output_type": "stream",
     "text": [
      "Adversarial Debiasing Training Epoch:  20%|\u001b[32m██        \u001b[0m| 101/500 [04:44<13:33,  2.04s/it, accADV=0.666, accCLF=0.818, lossADV=0.6, lossCLF=1]      "
     ]
    },
    {
     "name": "stdout",
     "output_type": "stream",
     "text": [
      "EarlyStopping counter: 3 out of 100\n"
     ]
    },
    {
     "name": "stderr",
     "output_type": "stream",
     "text": [
      "Adversarial Debiasing Training Epoch:  20%|\u001b[32m██        \u001b[0m| 102/500 [04:46<13:24,  2.02s/it, accADV=0.713, accCLF=0.834, lossADV=0.58, lossCLF=0.934] "
     ]
    },
    {
     "name": "stdout",
     "output_type": "stream",
     "text": [
      "EarlyStopping counter: 4 out of 100\n"
     ]
    },
    {
     "name": "stderr",
     "output_type": "stream",
     "text": [
      "Adversarial Debiasing Training Epoch:  21%|\u001b[32m██        \u001b[0m| 103/500 [04:49<13:18,  2.01s/it, accADV=0.68, accCLF=0.814, lossADV=0.594, lossCLF=1.15]  "
     ]
    },
    {
     "name": "stdout",
     "output_type": "stream",
     "text": [
      "EarlyStopping counter: 5 out of 100\n"
     ]
    },
    {
     "name": "stderr",
     "output_type": "stream",
     "text": [
      "Adversarial Debiasing Training Epoch:  21%|\u001b[32m██        \u001b[0m| 104/500 [04:58<18:58,  2.87s/it, accADV=0.705, accCLF=0.801, lossADV=0.554, lossCLF=1.12] "
     ]
    },
    {
     "name": "stdout",
     "output_type": "stream",
     "text": [
      "EarlyStopping counter: 6 out of 100\n"
     ]
    },
    {
     "name": "stderr",
     "output_type": "stream",
     "text": [
      "Adversarial Debiasing Training Epoch:  21%|\u001b[32m██        \u001b[0m| 105/500 [05:02<30:37,  4.65s/it, accADV=0.686, accCLF=0.852, lossADV=0.596, lossCLF=0.7]  "
     ]
    },
    {
     "name": "stdout",
     "output_type": "stream",
     "text": [
      "EarlyStopping counter: 7 out of 100\n"
     ]
    },
    {
     "name": "stderr",
     "output_type": "stream",
     "text": [
      "Adversarial Debiasing Training Epoch:  21%|\u001b[32m██        \u001b[0m| 106/500 [05:04<25:05,  3.82s/it, accADV=0.688, accCLF=0.865, lossADV=0.582, lossCLF=0.578]"
     ]
    },
    {
     "name": "stdout",
     "output_type": "stream",
     "text": [
      "EarlyStopping counter: 8 out of 100\n"
     ]
    },
    {
     "name": "stderr",
     "output_type": "stream",
     "text": [
      "Adversarial Debiasing Training Epoch:  21%|\u001b[32m██▏       \u001b[0m| 107/500 [05:06<21:13,  3.24s/it, accADV=0.668, accCLF=0.793, lossADV=0.615, lossCLF=0.775]"
     ]
    },
    {
     "name": "stdout",
     "output_type": "stream",
     "text": [
      "EarlyStopping counter: 9 out of 100\n"
     ]
    },
    {
     "name": "stderr",
     "output_type": "stream",
     "text": [
      "Adversarial Debiasing Training Epoch:  22%|\u001b[32m██▏       \u001b[0m| 108/500 [05:08<18:58,  2.90s/it, accADV=0.688, accCLF=0.828, lossADV=0.564, lossCLF=0.869]"
     ]
    },
    {
     "name": "stdout",
     "output_type": "stream",
     "text": [
      "EarlyStopping counter: 10 out of 100\n"
     ]
    },
    {
     "name": "stderr",
     "output_type": "stream",
     "text": [
      "Adversarial Debiasing Training Epoch:  22%|\u001b[32m██▏       \u001b[0m| 109/500 [05:10<17:09,  2.63s/it, accADV=0.715, accCLF=0.828, lossADV=0.569, lossCLF=0.763]"
     ]
    },
    {
     "name": "stdout",
     "output_type": "stream",
     "text": [
      "EarlyStopping counter: 11 out of 100\n"
     ]
    },
    {
     "name": "stderr",
     "output_type": "stream",
     "text": [
      "Adversarial Debiasing Training Epoch:  22%|\u001b[32m██▏       \u001b[0m| 110/500 [05:12<16:01,  2.46s/it, accADV=0.684, accCLF=0.836, lossADV=0.584, lossCLF=0.899]"
     ]
    },
    {
     "name": "stdout",
     "output_type": "stream",
     "text": [
      "EarlyStopping counter: 12 out of 100\n"
     ]
    },
    {
     "name": "stderr",
     "output_type": "stream",
     "text": [
      "Adversarial Debiasing Training Epoch:  22%|\u001b[32m██▏       \u001b[0m| 111/500 [05:14<14:56,  2.31s/it, accADV=0.662, accCLF=0.809, lossADV=0.598, lossCLF=0.794]"
     ]
    },
    {
     "name": "stdout",
     "output_type": "stream",
     "text": [
      "EarlyStopping counter: 13 out of 100\n"
     ]
    },
    {
     "name": "stderr",
     "output_type": "stream",
     "text": [
      "Adversarial Debiasing Training Epoch:  22%|\u001b[32m██▏       \u001b[0m| 112/500 [05:15<14:03,  2.17s/it, accADV=0.66, accCLF=0.818, lossADV=0.59, lossCLF=0.821]  "
     ]
    },
    {
     "name": "stdout",
     "output_type": "stream",
     "text": [
      "EarlyStopping counter: 14 out of 100\n"
     ]
    },
    {
     "name": "stderr",
     "output_type": "stream",
     "text": [
      "Adversarial Debiasing Training Epoch:  23%|\u001b[32m██▎       \u001b[0m| 113/500 [05:17<13:33,  2.10s/it, accADV=0.689, accCLF=0.803, lossADV=0.596, lossCLF=1.06] "
     ]
    },
    {
     "name": "stdout",
     "output_type": "stream",
     "text": [
      "EarlyStopping counter: 15 out of 100\n"
     ]
    },
    {
     "name": "stderr",
     "output_type": "stream",
     "text": [
      "Adversarial Debiasing Training Epoch:  23%|\u001b[32m██▎       \u001b[0m| 114/500 [05:23<16:06,  2.50s/it, accADV=0.684, accCLF=0.803, lossADV=0.563, lossCLF=0.949]"
     ]
    },
    {
     "name": "stdout",
     "output_type": "stream",
     "text": [
      "EarlyStopping counter: 16 out of 100\n"
     ]
    },
    {
     "name": "stderr",
     "output_type": "stream",
     "text": [
      "Adversarial Debiasing Training Epoch:  23%|\u001b[32m██▎       \u001b[0m| 115/500 [05:29<23:42,  3.70s/it, accADV=0.662, accCLF=0.805, lossADV=0.567, lossCLF=0.791]"
     ]
    },
    {
     "name": "stdout",
     "output_type": "stream",
     "text": [
      "EarlyStopping counter: 17 out of 100\n"
     ]
    },
    {
     "name": "stderr",
     "output_type": "stream",
     "text": [
      "Adversarial Debiasing Training Epoch:  23%|\u001b[32m██▎       \u001b[0m| 116/500 [05:35<28:23,  4.44s/it, accADV=0.693, accCLF=0.805, lossADV=0.556, lossCLF=1]    "
     ]
    },
    {
     "name": "stdout",
     "output_type": "stream",
     "text": [
      "EarlyStopping counter: 18 out of 100\n"
     ]
    },
    {
     "name": "stderr",
     "output_type": "stream",
     "text": [
      "Adversarial Debiasing Training Epoch:  23%|\u001b[32m██▎       \u001b[0m| 117/500 [05:41<31:19,  4.91s/it, accADV=0.693, accCLF=0.812, lossADV=0.561, lossCLF=0.862]"
     ]
    },
    {
     "name": "stdout",
     "output_type": "stream",
     "text": [
      "EarlyStopping counter: 19 out of 100\n"
     ]
    },
    {
     "name": "stderr",
     "output_type": "stream",
     "text": [
      "Adversarial Debiasing Training Epoch:  24%|\u001b[32m██▎       \u001b[0m| 118/500 [05:47<32:36,  5.12s/it, accADV=0.678, accCLF=0.818, lossADV=0.568, lossCLF=0.774]"
     ]
    },
    {
     "name": "stdout",
     "output_type": "stream",
     "text": [
      "EarlyStopping counter: 20 out of 100\n"
     ]
    },
    {
     "name": "stderr",
     "output_type": "stream",
     "text": [
      "Adversarial Debiasing Training Epoch:  24%|\u001b[32m██▍       \u001b[0m| 119/500 [05:53<33:58,  5.35s/it, accADV=0.693, accCLF=0.816, lossADV=0.571, lossCLF=0.789]"
     ]
    },
    {
     "name": "stdout",
     "output_type": "stream",
     "text": [
      "EarlyStopping counter: 21 out of 100\n"
     ]
    },
    {
     "name": "stderr",
     "output_type": "stream",
     "text": [
      "Adversarial Debiasing Training Epoch:  24%|\u001b[32m██▍       \u001b[0m| 120/500 [06:00<37:32,  5.93s/it, accADV=0.703, accCLF=0.818, lossADV=0.558, lossCLF=0.734]"
     ]
    },
    {
     "name": "stdout",
     "output_type": "stream",
     "text": [
      "EarlyStopping counter: 22 out of 100\n"
     ]
    },
    {
     "name": "stderr",
     "output_type": "stream",
     "text": [
      "Adversarial Debiasing Training Epoch:  24%|\u001b[32m██▍       \u001b[0m| 121/500 [06:04<37:05,  5.87s/it, accADV=0.676, accCLF=0.838, lossADV=0.574, lossCLF=0.571]"
     ]
    },
    {
     "name": "stdout",
     "output_type": "stream",
     "text": [
      "EarlyStopping counter: 23 out of 100\n"
     ]
    },
    {
     "name": "stderr",
     "output_type": "stream",
     "text": [
      "Adversarial Debiasing Training Epoch:  24%|\u001b[32m██▍       \u001b[0m| 122/500 [06:05<29:18,  4.65s/it, accADV=0.678, accCLF=0.82, lossADV=0.539, lossCLF=0.713] "
     ]
    },
    {
     "name": "stdout",
     "output_type": "stream",
     "text": [
      "EarlyStopping counter: 24 out of 100\n"
     ]
    },
    {
     "name": "stderr",
     "output_type": "stream",
     "text": [
      "Adversarial Debiasing Training Epoch:  25%|\u001b[32m██▍       \u001b[0m| 123/500 [06:07<23:47,  3.79s/it, accADV=0.688, accCLF=0.766, lossADV=0.555, lossCLF=0.999]"
     ]
    },
    {
     "name": "stdout",
     "output_type": "stream",
     "text": [
      "EarlyStopping counter: 25 out of 100\n"
     ]
    },
    {
     "name": "stderr",
     "output_type": "stream",
     "text": [
      "Adversarial Debiasing Training Epoch:  25%|\u001b[32m██▍       \u001b[0m| 124/500 [06:09<19:59,  3.19s/it, accADV=0.68, accCLF=0.807, lossADV=0.575, lossCLF=0.679] "
     ]
    },
    {
     "name": "stdout",
     "output_type": "stream",
     "text": [
      "EarlyStopping counter: 26 out of 100\n"
     ]
    },
    {
     "name": "stderr",
     "output_type": "stream",
     "text": [
      "Adversarial Debiasing Training Epoch:  25%|\u001b[32m██▌       \u001b[0m| 125/500 [06:11<17:13,  2.76s/it, accADV=0.674, accCLF=0.822, lossADV=0.556, lossCLF=0.663]"
     ]
    },
    {
     "name": "stdout",
     "output_type": "stream",
     "text": [
      "EarlyStopping counter: 27 out of 100\n"
     ]
    },
    {
     "name": "stderr",
     "output_type": "stream",
     "text": [
      "Adversarial Debiasing Training Epoch:  27%|\u001b[32m██▋       \u001b[0m| 134/500 [06:27<11:10,  1.83s/it, accADV=0.668, accCLF=0.814, lossADV=0.621, lossCLF=0.547]"
     ]
    },
    {
     "name": "stdout",
     "output_type": "stream",
     "text": [
      "EarlyStopping counter: 1 out of 100\n"
     ]
    },
    {
     "name": "stderr",
     "output_type": "stream",
     "text": [
      "Adversarial Debiasing Training Epoch:  27%|\u001b[32m██▋       \u001b[0m| 135/500 [06:29<11:04,  1.82s/it, accADV=0.678, accCLF=0.822, lossADV=0.591, lossCLF=0.661]"
     ]
    },
    {
     "name": "stdout",
     "output_type": "stream",
     "text": [
      "EarlyStopping counter: 2 out of 100\n"
     ]
    },
    {
     "name": "stderr",
     "output_type": "stream",
     "text": [
      "Adversarial Debiasing Training Epoch:  28%|\u001b[32m██▊       \u001b[0m| 139/500 [06:36<11:14,  1.87s/it, accADV=0.66, accCLF=0.785, lossADV=0.584, lossCLF=0.71]  "
     ]
    },
    {
     "name": "stdout",
     "output_type": "stream",
     "text": [
      "EarlyStopping counter: 1 out of 100\n"
     ]
    },
    {
     "name": "stderr",
     "output_type": "stream",
     "text": [
      "Adversarial Debiasing Training Epoch:  29%|\u001b[32m██▊       \u001b[0m| 143/500 [06:44<11:16,  1.89s/it, accADV=0.643, accCLF=0.805, lossADV=0.645, lossCLF=0.56] "
     ]
    },
    {
     "name": "stdout",
     "output_type": "stream",
     "text": [
      "EarlyStopping counter: 1 out of 100\n"
     ]
    },
    {
     "name": "stderr",
     "output_type": "stream",
     "text": [
      "Adversarial Debiasing Training Epoch:  30%|\u001b[32m██▉       \u001b[0m| 148/500 [06:53<11:19,  1.93s/it, accADV=0.705, accCLF=0.795, lossADV=0.633, lossCLF=0.697]"
     ]
    },
    {
     "name": "stdout",
     "output_type": "stream",
     "text": [
      "EarlyStopping counter: 1 out of 100\n"
     ]
    },
    {
     "name": "stderr",
     "output_type": "stream",
     "text": [
      "Adversarial Debiasing Training Epoch:  30%|\u001b[32m██▉       \u001b[0m| 149/500 [06:59<11:11,  1.91s/it, accADV=0.673, accCLF=0.853, lossADV=0.626, lossCLF=0.285]"
     ]
    },
    {
     "name": "stdout",
     "output_type": "stream",
     "text": [
      "EarlyStopping counter: 1 out of 100\n"
     ]
    },
    {
     "name": "stderr",
     "output_type": "stream",
     "text": [
      "Adversarial Debiasing Training Epoch:  30%|\u001b[32m███       \u001b[0m| 150/500 [07:07<20:28,  3.51s/it, accADV=0.68, accCLF=0.781, lossADV=0.589, lossCLF=0.677] "
     ]
    },
    {
     "name": "stdout",
     "output_type": "stream",
     "text": [
      "EarlyStopping counter: 2 out of 100\n"
     ]
    },
    {
     "name": "stderr",
     "output_type": "stream",
     "text": [
      "Adversarial Debiasing Training Epoch:  30%|\u001b[32m███       \u001b[0m| 151/500 [07:13<26:13,  4.51s/it, accADV=0.686, accCLF=0.816, lossADV=0.556, lossCLF=0.583]"
     ]
    },
    {
     "name": "stdout",
     "output_type": "stream",
     "text": [
      "EarlyStopping counter: 3 out of 100\n"
     ]
    },
    {
     "name": "stderr",
     "output_type": "stream",
     "text": [
      "Adversarial Debiasing Training Epoch:  30%|\u001b[32m███       \u001b[0m| 152/500 [07:19<28:41,  4.95s/it, accADV=0.672, accCLF=0.797, lossADV=0.567, lossCLF=0.609]"
     ]
    },
    {
     "name": "stdout",
     "output_type": "stream",
     "text": [
      "EarlyStopping counter: 4 out of 100\n"
     ]
    },
    {
     "name": "stderr",
     "output_type": "stream",
     "text": [
      "Adversarial Debiasing Training Epoch:  31%|\u001b[32m███       \u001b[0m| 153/500 [07:24<30:02,  5.19s/it, accADV=0.67, accCLF=0.758, lossADV=0.545, lossCLF=0.859] "
     ]
    },
    {
     "name": "stdout",
     "output_type": "stream",
     "text": [
      "EarlyStopping counter: 5 out of 100\n"
     ]
    },
    {
     "name": "stderr",
     "output_type": "stream",
     "text": [
      "Adversarial Debiasing Training Epoch:  31%|\u001b[32m███       \u001b[0m| 154/500 [07:29<29:51,  5.18s/it, accADV=0.666, accCLF=0.789, lossADV=0.547, lossCLF=0.687]"
     ]
    },
    {
     "name": "stdout",
     "output_type": "stream",
     "text": [
      "EarlyStopping counter: 6 out of 100\n"
     ]
    },
    {
     "name": "stderr",
     "output_type": "stream",
     "text": [
      "Adversarial Debiasing Training Epoch:  31%|\u001b[32m███       \u001b[0m| 155/500 [07:34<29:28,  5.13s/it, accADV=0.658, accCLF=0.807, lossADV=0.538, lossCLF=0.629]"
     ]
    },
    {
     "name": "stdout",
     "output_type": "stream",
     "text": [
      "EarlyStopping counter: 7 out of 100\n"
     ]
    },
    {
     "name": "stderr",
     "output_type": "stream",
     "text": [
      "Adversarial Debiasing Training Epoch:  31%|\u001b[32m███       \u001b[0m| 156/500 [07:39<28:56,  5.05s/it, accADV=0.656, accCLF=0.797, lossADV=0.546, lossCLF=0.729]"
     ]
    },
    {
     "name": "stdout",
     "output_type": "stream",
     "text": [
      "EarlyStopping counter: 8 out of 100\n"
     ]
    },
    {
     "name": "stderr",
     "output_type": "stream",
     "text": [
      "Adversarial Debiasing Training Epoch:  31%|\u001b[32m███▏      \u001b[0m| 157/500 [07:43<28:09,  4.93s/it, accADV=0.691, accCLF=0.76, lossADV=0.489, lossCLF=0.904] "
     ]
    },
    {
     "name": "stdout",
     "output_type": "stream",
     "text": [
      "EarlyStopping counter: 9 out of 100\n"
     ]
    },
    {
     "name": "stderr",
     "output_type": "stream",
     "text": [
      "Adversarial Debiasing Training Epoch:  32%|\u001b[32m███▏      \u001b[0m| 158/500 [07:48<28:25,  4.99s/it, accADV=0.676, accCLF=0.729, lossADV=0.502, lossCLF=0.923]"
     ]
    },
    {
     "name": "stdout",
     "output_type": "stream",
     "text": [
      "EarlyStopping counter: 10 out of 100\n"
     ]
    },
    {
     "name": "stderr",
     "output_type": "stream",
     "text": [
      "Adversarial Debiasing Training Epoch:  32%|\u001b[32m███▏      \u001b[0m| 159/500 [07:53<28:25,  5.00s/it, accADV=0.668, accCLF=0.746, lossADV=0.511, lossCLF=0.908]"
     ]
    },
    {
     "name": "stdout",
     "output_type": "stream",
     "text": [
      "EarlyStopping counter: 11 out of 100\n"
     ]
    },
    {
     "name": "stderr",
     "output_type": "stream",
     "text": [
      "Adversarial Debiasing Training Epoch:  32%|\u001b[32m███▏      \u001b[0m| 160/500 [07:56<27:46,  4.90s/it, accADV=0.658, accCLF=0.736, lossADV=0.486, lossCLF=0.839]"
     ]
    },
    {
     "name": "stdout",
     "output_type": "stream",
     "text": [
      "EarlyStopping counter: 12 out of 100\n"
     ]
    },
    {
     "name": "stderr",
     "output_type": "stream",
     "text": [
      "Adversarial Debiasing Training Epoch:  32%|\u001b[32m███▏      \u001b[0m| 161/500 [07:58<22:16,  3.94s/it, accADV=0.674, accCLF=0.783, lossADV=0.492, lossCLF=0.704]"
     ]
    },
    {
     "name": "stdout",
     "output_type": "stream",
     "text": [
      "EarlyStopping counter: 13 out of 100\n"
     ]
    },
    {
     "name": "stderr",
     "output_type": "stream",
     "text": [
      "Adversarial Debiasing Training Epoch:  32%|\u001b[32m███▏      \u001b[0m| 162/500 [07:59<18:17,  3.25s/it, accADV=0.68, accCLF=0.758, lossADV=0.502, lossCLF=0.82]  "
     ]
    },
    {
     "name": "stdout",
     "output_type": "stream",
     "text": [
      "EarlyStopping counter: 14 out of 100\n"
     ]
    },
    {
     "name": "stderr",
     "output_type": "stream",
     "text": [
      "Adversarial Debiasing Training Epoch:  33%|\u001b[32m███▎      \u001b[0m| 163/500 [08:01<15:40,  2.79s/it, accADV=0.652, accCLF=0.742, lossADV=0.49, lossCLF=0.82]  "
     ]
    },
    {
     "name": "stdout",
     "output_type": "stream",
     "text": [
      "EarlyStopping counter: 15 out of 100\n"
     ]
    },
    {
     "name": "stderr",
     "output_type": "stream",
     "text": [
      "Adversarial Debiasing Training Epoch:  33%|\u001b[32m███▎      \u001b[0m| 164/500 [08:03<13:50,  2.47s/it, accADV=0.641, accCLF=0.783, lossADV=0.518, lossCLF=0.762]"
     ]
    },
    {
     "name": "stdout",
     "output_type": "stream",
     "text": [
      "EarlyStopping counter: 16 out of 100\n"
     ]
    },
    {
     "name": "stderr",
     "output_type": "stream",
     "text": [
      "Adversarial Debiasing Training Epoch:  33%|\u001b[32m███▎      \u001b[0m| 165/500 [08:04<12:23,  2.22s/it, accADV=0.617, accCLF=0.793, lossADV=0.54, lossCLF=0.715] "
     ]
    },
    {
     "name": "stdout",
     "output_type": "stream",
     "text": [
      "EarlyStopping counter: 17 out of 100\n"
     ]
    },
    {
     "name": "stderr",
     "output_type": "stream",
     "text": [
      "Adversarial Debiasing Training Epoch:  33%|\u001b[32m███▎      \u001b[0m| 166/500 [08:06<11:18,  2.03s/it, accADV=0.635, accCLF=0.783, lossADV=0.53, lossCLF=0.654] "
     ]
    },
    {
     "name": "stdout",
     "output_type": "stream",
     "text": [
      "EarlyStopping counter: 18 out of 100\n"
     ]
    },
    {
     "name": "stderr",
     "output_type": "stream",
     "text": [
      "Adversarial Debiasing Training Epoch:  33%|\u001b[32m███▎      \u001b[0m| 167/500 [08:08<10:34,  1.91s/it, accADV=0.68, accCLF=0.764, lossADV=0.502, lossCLF=0.611] "
     ]
    },
    {
     "name": "stdout",
     "output_type": "stream",
     "text": [
      "EarlyStopping counter: 19 out of 100\n"
     ]
    },
    {
     "name": "stderr",
     "output_type": "stream",
     "text": [
      "Adversarial Debiasing Training Epoch:  34%|\u001b[32m███▎      \u001b[0m| 168/500 [08:09<10:07,  1.83s/it, accADV=0.682, accCLF=0.758, lossADV=0.488, lossCLF=0.637]"
     ]
    },
    {
     "name": "stdout",
     "output_type": "stream",
     "text": [
      "EarlyStopping counter: 20 out of 100\n"
     ]
    },
    {
     "name": "stderr",
     "output_type": "stream",
     "text": [
      "Adversarial Debiasing Training Epoch:  34%|\u001b[32m███▍      \u001b[0m| 169/500 [08:11<09:43,  1.76s/it, accADV=0.646, accCLF=0.779, lossADV=0.541, lossCLF=0.62] "
     ]
    },
    {
     "name": "stdout",
     "output_type": "stream",
     "text": [
      "EarlyStopping counter: 21 out of 100\n"
     ]
    },
    {
     "name": "stderr",
     "output_type": "stream",
     "text": [
      "Adversarial Debiasing Training Epoch:  35%|\u001b[32m███▍      \u001b[0m| 174/500 [08:31<18:55,  3.48s/it, accADV=0.688, accCLF=0.832, lossADV=0.594, lossCLF=0.437]"
     ]
    },
    {
     "name": "stdout",
     "output_type": "stream",
     "text": [
      "EarlyStopping counter: 1 out of 100\n"
     ]
    },
    {
     "name": "stderr",
     "output_type": "stream",
     "text": [
      "Adversarial Debiasing Training Epoch:  35%|\u001b[32m███▌      \u001b[0m| 175/500 [08:32<15:47,  2.92s/it, accADV=0.713, accCLF=0.783, lossADV=0.625, lossCLF=0.5]  "
     ]
    },
    {
     "name": "stdout",
     "output_type": "stream",
     "text": [
      "EarlyStopping counter: 2 out of 100\n"
     ]
    },
    {
     "name": "stderr",
     "output_type": "stream",
     "text": [
      "Adversarial Debiasing Training Epoch:  35%|\u001b[32m███▌      \u001b[0m| 176/500 [08:34<13:35,  2.52s/it, accADV=0.686, accCLF=0.826, lossADV=0.667, lossCLF=0.419]"
     ]
    },
    {
     "name": "stdout",
     "output_type": "stream",
     "text": [
      "EarlyStopping counter: 3 out of 100\n"
     ]
    },
    {
     "name": "stderr",
     "output_type": "stream",
     "text": [
      "Adversarial Debiasing Training Epoch:  35%|\u001b[32m███▌      \u001b[0m| 177/500 [08:35<11:56,  2.22s/it, accADV=0.699, accCLF=0.789, lossADV=0.681, lossCLF=0.6]  "
     ]
    },
    {
     "name": "stdout",
     "output_type": "stream",
     "text": [
      "EarlyStopping counter: 4 out of 100\n"
     ]
    },
    {
     "name": "stderr",
     "output_type": "stream",
     "text": [
      "Adversarial Debiasing Training Epoch:  36%|\u001b[32m███▌      \u001b[0m| 178/500 [08:37<10:54,  2.03s/it, accADV=0.668, accCLF=0.84, lossADV=0.681, lossCLF=0.429] "
     ]
    },
    {
     "name": "stdout",
     "output_type": "stream",
     "text": [
      "EarlyStopping counter: 5 out of 100\n"
     ]
    },
    {
     "name": "stderr",
     "output_type": "stream",
     "text": [
      "Adversarial Debiasing Training Epoch:  36%|\u001b[32m███▌      \u001b[0m| 179/500 [08:38<10:12,  1.91s/it, accADV=0.684, accCLF=0.789, lossADV=0.66, lossCLF=0.474] "
     ]
    },
    {
     "name": "stdout",
     "output_type": "stream",
     "text": [
      "EarlyStopping counter: 6 out of 100\n"
     ]
    },
    {
     "name": "stderr",
     "output_type": "stream",
     "text": [
      "Adversarial Debiasing Training Epoch:  36%|\u001b[32m███▌      \u001b[0m| 180/500 [08:40<09:32,  1.79s/it, accADV=0.693, accCLF=0.824, lossADV=0.679, lossCLF=0.479]"
     ]
    },
    {
     "name": "stdout",
     "output_type": "stream",
     "text": [
      "EarlyStopping counter: 7 out of 100\n"
     ]
    },
    {
     "name": "stderr",
     "output_type": "stream",
     "text": [
      "Adversarial Debiasing Training Epoch:  36%|\u001b[32m███▌      \u001b[0m| 181/500 [08:42<09:21,  1.76s/it, accADV=0.652, accCLF=0.762, lossADV=0.767, lossCLF=0.561]"
     ]
    },
    {
     "name": "stdout",
     "output_type": "stream",
     "text": [
      "EarlyStopping counter: 8 out of 100\n"
     ]
    },
    {
     "name": "stderr",
     "output_type": "stream",
     "text": [
      "Adversarial Debiasing Training Epoch:  36%|\u001b[32m███▋      \u001b[0m| 182/500 [08:43<09:03,  1.71s/it, accADV=0.672, accCLF=0.746, lossADV=0.751, lossCLF=0.538]"
     ]
    },
    {
     "name": "stdout",
     "output_type": "stream",
     "text": [
      "EarlyStopping counter: 9 out of 100\n"
     ]
    },
    {
     "name": "stderr",
     "output_type": "stream",
     "text": [
      "Adversarial Debiasing Training Epoch:  37%|\u001b[32m███▋      \u001b[0m| 183/500 [08:45<08:53,  1.68s/it, accADV=0.668, accCLF=0.756, lossADV=0.722, lossCLF=0.535]"
     ]
    },
    {
     "name": "stdout",
     "output_type": "stream",
     "text": [
      "EarlyStopping counter: 10 out of 100\n"
     ]
    },
    {
     "name": "stderr",
     "output_type": "stream",
     "text": [
      "Adversarial Debiasing Training Epoch:  37%|\u001b[32m███▋      \u001b[0m| 184/500 [08:46<08:47,  1.67s/it, accADV=0.691, accCLF=0.732, lossADV=0.746, lossCLF=0.598]"
     ]
    },
    {
     "name": "stdout",
     "output_type": "stream",
     "text": [
      "EarlyStopping counter: 11 out of 100\n"
     ]
    },
    {
     "name": "stderr",
     "output_type": "stream",
     "text": [
      "Adversarial Debiasing Training Epoch:  37%|\u001b[32m███▋      \u001b[0m| 185/500 [08:48<08:49,  1.68s/it, accADV=0.654, accCLF=0.732, lossADV=0.75, lossCLF=0.604] "
     ]
    },
    {
     "name": "stdout",
     "output_type": "stream",
     "text": [
      "EarlyStopping counter: 12 out of 100\n"
     ]
    },
    {
     "name": "stderr",
     "output_type": "stream",
     "text": [
      "Adversarial Debiasing Training Epoch:  37%|\u001b[32m███▋      \u001b[0m| 186/500 [08:50<09:02,  1.73s/it, accADV=0.645, accCLF=0.699, lossADV=0.75, lossCLF=0.664] "
     ]
    },
    {
     "name": "stdout",
     "output_type": "stream",
     "text": [
      "EarlyStopping counter: 13 out of 100\n"
     ]
    },
    {
     "name": "stderr",
     "output_type": "stream",
     "text": [
      "Adversarial Debiasing Training Epoch:  37%|\u001b[32m███▋      \u001b[0m| 187/500 [08:51<08:54,  1.71s/it, accADV=0.676, accCLF=0.701, lossADV=0.744, lossCLF=0.703]"
     ]
    },
    {
     "name": "stdout",
     "output_type": "stream",
     "text": [
      "EarlyStopping counter: 14 out of 100\n"
     ]
    },
    {
     "name": "stderr",
     "output_type": "stream",
     "text": [
      "Adversarial Debiasing Training Epoch:  38%|\u001b[32m███▊      \u001b[0m| 188/500 [08:53<08:48,  1.69s/it, accADV=0.705, accCLF=0.703, lossADV=0.706, lossCLF=0.671]"
     ]
    },
    {
     "name": "stdout",
     "output_type": "stream",
     "text": [
      "EarlyStopping counter: 15 out of 100\n"
     ]
    },
    {
     "name": "stderr",
     "output_type": "stream",
     "text": [
      "Adversarial Debiasing Training Epoch:  38%|\u001b[32m███▊      \u001b[0m| 189/500 [08:55<08:52,  1.71s/it, accADV=0.707, accCLF=0.588, lossADV=0.727, lossCLF=0.96] "
     ]
    },
    {
     "name": "stdout",
     "output_type": "stream",
     "text": [
      "EarlyStopping counter: 16 out of 100\n"
     ]
    },
    {
     "name": "stderr",
     "output_type": "stream",
     "text": [
      "Adversarial Debiasing Training Epoch:  38%|\u001b[32m███▊      \u001b[0m| 190/500 [08:57<08:48,  1.70s/it, accADV=0.682, accCLF=0.619, lossADV=0.725, lossCLF=0.911]"
     ]
    },
    {
     "name": "stdout",
     "output_type": "stream",
     "text": [
      "EarlyStopping counter: 17 out of 100\n"
     ]
    },
    {
     "name": "stderr",
     "output_type": "stream",
     "text": [
      "Adversarial Debiasing Training Epoch:  38%|\u001b[32m███▊      \u001b[0m| 191/500 [08:58<08:52,  1.72s/it, accADV=0.662, accCLF=0.656, lossADV=0.712, lossCLF=0.828]"
     ]
    },
    {
     "name": "stdout",
     "output_type": "stream",
     "text": [
      "EarlyStopping counter: 18 out of 100\n"
     ]
    },
    {
     "name": "stderr",
     "output_type": "stream",
     "text": [
      "Adversarial Debiasing Training Epoch:  38%|\u001b[32m███▊      \u001b[0m| 192/500 [09:00<08:53,  1.73s/it, accADV=0.697, accCLF=0.633, lossADV=0.681, lossCLF=0.847]"
     ]
    },
    {
     "name": "stdout",
     "output_type": "stream",
     "text": [
      "EarlyStopping counter: 19 out of 100\n"
     ]
    },
    {
     "name": "stderr",
     "output_type": "stream",
     "text": [
      "Adversarial Debiasing Training Epoch:  39%|\u001b[32m███▊      \u001b[0m| 193/500 [09:02<09:23,  1.84s/it, accADV=0.678, accCLF=0.746, lossADV=0.646, lossCLF=0.585]"
     ]
    },
    {
     "name": "stdout",
     "output_type": "stream",
     "text": [
      "EarlyStopping counter: 20 out of 100\n"
     ]
    },
    {
     "name": "stderr",
     "output_type": "stream",
     "text": [
      "Adversarial Debiasing Training Epoch:  39%|\u001b[32m███▉      \u001b[0m| 194/500 [09:04<09:12,  1.81s/it, accADV=0.668, accCLF=0.797, lossADV=0.642, lossCLF=0.501]"
     ]
    },
    {
     "name": "stdout",
     "output_type": "stream",
     "text": [
      "EarlyStopping counter: 21 out of 100\n"
     ]
    },
    {
     "name": "stderr",
     "output_type": "stream",
     "text": [
      "Adversarial Debiasing Training Epoch:  39%|\u001b[32m███▉      \u001b[0m| 195/500 [09:06<09:11,  1.81s/it, accADV=0.691, accCLF=0.793, lossADV=0.624, lossCLF=0.493]"
     ]
    },
    {
     "name": "stdout",
     "output_type": "stream",
     "text": [
      "EarlyStopping counter: 22 out of 100\n"
     ]
    },
    {
     "name": "stderr",
     "output_type": "stream",
     "text": [
      "Adversarial Debiasing Training Epoch:  39%|\u001b[32m███▉      \u001b[0m| 196/500 [09:07<09:01,  1.78s/it, accADV=0.695, accCLF=0.777, lossADV=0.627, lossCLF=0.516]"
     ]
    },
    {
     "name": "stdout",
     "output_type": "stream",
     "text": [
      "EarlyStopping counter: 23 out of 100\n"
     ]
    },
    {
     "name": "stderr",
     "output_type": "stream",
     "text": [
      "Adversarial Debiasing Training Epoch:  39%|\u001b[32m███▉      \u001b[0m| 197/500 [09:09<08:48,  1.74s/it, accADV=0.666, accCLF=0.758, lossADV=0.659, lossCLF=0.578]"
     ]
    },
    {
     "name": "stdout",
     "output_type": "stream",
     "text": [
      "EarlyStopping counter: 24 out of 100\n"
     ]
    },
    {
     "name": "stderr",
     "output_type": "stream",
     "text": [
      "Adversarial Debiasing Training Epoch:  40%|\u001b[32m███▉      \u001b[0m| 198/500 [09:11<08:48,  1.75s/it, accADV=0.666, accCLF=0.779, lossADV=0.646, lossCLF=0.497]"
     ]
    },
    {
     "name": "stdout",
     "output_type": "stream",
     "text": [
      "EarlyStopping counter: 25 out of 100\n"
     ]
    },
    {
     "name": "stderr",
     "output_type": "stream",
     "text": [
      "Adversarial Debiasing Training Epoch:  40%|\u001b[32m███▉      \u001b[0m| 199/500 [09:12<08:47,  1.75s/it, accADV=0.674, accCLF=0.77, lossADV=0.64, lossCLF=0.597]  "
     ]
    },
    {
     "name": "stdout",
     "output_type": "stream",
     "text": [
      "EarlyStopping counter: 26 out of 100\n"
     ]
    },
    {
     "name": "stderr",
     "output_type": "stream",
     "text": [
      "Adversarial Debiasing Training Epoch:  40%|\u001b[32m███▉      \u001b[0m| 199/500 [09:14<08:47,  1.75s/it, accADV=0.682, accCLF=0.8, lossADV=0.63, lossCLF=0.436]   "
     ]
    },
    {
     "name": "stdout",
     "output_type": "stream",
     "text": [
      "EarlyStopping counter: 27 out of 100\n"
     ]
    },
    {
     "name": "stderr",
     "output_type": "stream",
     "text": [
      "Adversarial Debiasing Training Epoch:  40%|\u001b[32m████      \u001b[0m| 200/500 [09:16<09:29,  1.90s/it, accADV=0.668, accCLF=0.803, lossADV=0.631, lossCLF=0.451]"
     ]
    },
    {
     "name": "stdout",
     "output_type": "stream",
     "text": [
      "EarlyStopping counter: 28 out of 100\n"
     ]
    },
    {
     "name": "stderr",
     "output_type": "stream",
     "text": [
      "Adversarial Debiasing Training Epoch:  40%|\u001b[32m████      \u001b[0m| 202/500 [09:19<09:13,  1.86s/it, accADV=0.645, accCLF=0.803, lossADV=0.652, lossCLF=0.448]"
     ]
    },
    {
     "name": "stdout",
     "output_type": "stream",
     "text": [
      "EarlyStopping counter: 1 out of 100\n"
     ]
    },
    {
     "name": "stderr",
     "output_type": "stream",
     "text": [
      "Adversarial Debiasing Training Epoch:  41%|\u001b[32m████      \u001b[0m| 203/500 [09:22<09:14,  1.87s/it, accADV=0.678, accCLF=0.766, lossADV=0.643, lossCLF=0.521]"
     ]
    },
    {
     "name": "stdout",
     "output_type": "stream",
     "text": [
      "EarlyStopping counter: 2 out of 100\n"
     ]
    },
    {
     "name": "stderr",
     "output_type": "stream",
     "text": [
      "Adversarial Debiasing Training Epoch:  41%|\u001b[32m████      \u001b[0m| 204/500 [09:27<11:14,  2.28s/it, accADV=0.674, accCLF=0.783, lossADV=0.646, lossCLF=0.481]"
     ]
    },
    {
     "name": "stdout",
     "output_type": "stream",
     "text": [
      "EarlyStopping counter: 3 out of 100\n"
     ]
    },
    {
     "name": "stderr",
     "output_type": "stream",
     "text": [
      "Adversarial Debiasing Training Epoch:  41%|\u001b[32m████      \u001b[0m| 205/500 [09:33<16:44,  3.40s/it, accADV=0.67, accCLF=0.758, lossADV=0.652, lossCLF=0.543] "
     ]
    },
    {
     "name": "stdout",
     "output_type": "stream",
     "text": [
      "EarlyStopping counter: 4 out of 100\n"
     ]
    },
    {
     "name": "stderr",
     "output_type": "stream",
     "text": [
      "Adversarial Debiasing Training Epoch:  41%|\u001b[32m████      \u001b[0m| 206/500 [09:39<20:16,  4.14s/it, accADV=0.674, accCLF=0.836, lossADV=0.641, lossCLF=0.415]"
     ]
    },
    {
     "name": "stdout",
     "output_type": "stream",
     "text": [
      "EarlyStopping counter: 5 out of 100\n"
     ]
    },
    {
     "name": "stderr",
     "output_type": "stream",
     "text": [
      "Adversarial Debiasing Training Epoch:  41%|\u001b[32m████▏     \u001b[0m| 207/500 [09:44<22:05,  4.53s/it, accADV=0.695, accCLF=0.762, lossADV=0.621, lossCLF=0.534]"
     ]
    },
    {
     "name": "stdout",
     "output_type": "stream",
     "text": [
      "EarlyStopping counter: 6 out of 100\n"
     ]
    },
    {
     "name": "stderr",
     "output_type": "stream",
     "text": [
      "Adversarial Debiasing Training Epoch:  42%|\u001b[32m████▏     \u001b[0m| 208/500 [09:48<22:41,  4.66s/it, accADV=0.682, accCLF=0.725, lossADV=0.632, lossCLF=0.596]"
     ]
    },
    {
     "name": "stdout",
     "output_type": "stream",
     "text": [
      "EarlyStopping counter: 7 out of 100\n"
     ]
    },
    {
     "name": "stderr",
     "output_type": "stream",
     "text": [
      "Adversarial Debiasing Training Epoch:  42%|\u001b[32m████▏     \u001b[0m| 209/500 [09:49<19:42,  4.07s/it, accADV=0.676, accCLF=0.732, lossADV=0.645, lossCLF=0.626]"
     ]
    },
    {
     "name": "stdout",
     "output_type": "stream",
     "text": [
      "EarlyStopping counter: 8 out of 100\n"
     ]
    },
    {
     "name": "stderr",
     "output_type": "stream",
     "text": [
      "Adversarial Debiasing Training Epoch:  42%|\u001b[32m████▏     \u001b[0m| 210/500 [09:51<16:05,  3.33s/it, accADV=0.645, accCLF=0.67, lossADV=0.662, lossCLF=0.742] "
     ]
    },
    {
     "name": "stdout",
     "output_type": "stream",
     "text": [
      "EarlyStopping counter: 9 out of 100\n"
     ]
    },
    {
     "name": "stderr",
     "output_type": "stream",
     "text": [
      "Adversarial Debiasing Training Epoch:  42%|\u001b[32m████▏     \u001b[0m| 211/500 [09:52<13:31,  2.81s/it, accADV=0.699, accCLF=0.74, lossADV=0.62, lossCLF=0.671]  "
     ]
    },
    {
     "name": "stdout",
     "output_type": "stream",
     "text": [
      "EarlyStopping counter: 10 out of 100\n"
     ]
    },
    {
     "name": "stderr",
     "output_type": "stream",
     "text": [
      "Adversarial Debiasing Training Epoch:  42%|\u001b[32m████▏     \u001b[0m| 212/500 [09:54<11:45,  2.45s/it, accADV=0.621, accCLF=0.75, lossADV=0.67, lossCLF=0.608]  "
     ]
    },
    {
     "name": "stdout",
     "output_type": "stream",
     "text": [
      "EarlyStopping counter: 11 out of 100\n"
     ]
    },
    {
     "name": "stderr",
     "output_type": "stream",
     "text": [
      "Adversarial Debiasing Training Epoch:  43%|\u001b[32m████▎     \u001b[0m| 213/500 [09:56<10:47,  2.26s/it, accADV=0.631, accCLF=0.734, lossADV=0.665, lossCLF=0.628]"
     ]
    },
    {
     "name": "stdout",
     "output_type": "stream",
     "text": [
      "EarlyStopping counter: 12 out of 100\n"
     ]
    },
    {
     "name": "stderr",
     "output_type": "stream",
     "text": [
      "Adversarial Debiasing Training Epoch:  43%|\u001b[32m████▎     \u001b[0m| 214/500 [09:58<10:49,  2.27s/it, accADV=0.67, accCLF=0.738, lossADV=0.635, lossCLF=0.63]  "
     ]
    },
    {
     "name": "stdout",
     "output_type": "stream",
     "text": [
      "EarlyStopping counter: 13 out of 100\n"
     ]
    },
    {
     "name": "stderr",
     "output_type": "stream",
     "text": [
      "Adversarial Debiasing Training Epoch:  43%|\u001b[32m████▎     \u001b[0m| 215/500 [10:00<10:20,  2.18s/it, accADV=0.688, accCLF=0.732, lossADV=0.623, lossCLF=0.664]"
     ]
    },
    {
     "name": "stdout",
     "output_type": "stream",
     "text": [
      "EarlyStopping counter: 14 out of 100\n"
     ]
    },
    {
     "name": "stderr",
     "output_type": "stream",
     "text": [
      "Adversarial Debiasing Training Epoch:  43%|\u001b[32m████▎     \u001b[0m| 216/500 [10:02<09:54,  2.10s/it, accADV=0.691, accCLF=0.764, lossADV=0.618, lossCLF=0.548]"
     ]
    },
    {
     "name": "stdout",
     "output_type": "stream",
     "text": [
      "EarlyStopping counter: 15 out of 100\n"
     ]
    },
    {
     "name": "stderr",
     "output_type": "stream",
     "text": [
      "Adversarial Debiasing Training Epoch:  43%|\u001b[32m████▎     \u001b[0m| 217/500 [10:04<09:52,  2.09s/it, accADV=0.658, accCLF=0.717, lossADV=0.642, lossCLF=0.708]"
     ]
    },
    {
     "name": "stdout",
     "output_type": "stream",
     "text": [
      "EarlyStopping counter: 16 out of 100\n"
     ]
    },
    {
     "name": "stderr",
     "output_type": "stream",
     "text": [
      "Adversarial Debiasing Training Epoch:  44%|\u001b[32m████▎     \u001b[0m| 218/500 [10:09<11:18,  2.40s/it, accADV=0.662, accCLF=0.732, lossADV=0.64, lossCLF=0.633] "
     ]
    },
    {
     "name": "stdout",
     "output_type": "stream",
     "text": [
      "EarlyStopping counter: 17 out of 100\n"
     ]
    },
    {
     "name": "stderr",
     "output_type": "stream",
     "text": [
      "Adversarial Debiasing Training Epoch:  44%|\u001b[32m████▍     \u001b[0m| 219/500 [10:14<15:55,  3.40s/it, accADV=0.664, accCLF=0.715, lossADV=0.639, lossCLF=0.675]"
     ]
    },
    {
     "name": "stdout",
     "output_type": "stream",
     "text": [
      "EarlyStopping counter: 18 out of 100\n"
     ]
    },
    {
     "name": "stderr",
     "output_type": "stream",
     "text": [
      "Adversarial Debiasing Training Epoch:  44%|\u001b[32m████▍     \u001b[0m| 220/500 [10:19<18:21,  3.93s/it, accADV=0.648, accCLF=0.729, lossADV=0.65, lossCLF=0.631] "
     ]
    },
    {
     "name": "stdout",
     "output_type": "stream",
     "text": [
      "EarlyStopping counter: 19 out of 100\n"
     ]
    },
    {
     "name": "stderr",
     "output_type": "stream",
     "text": [
      "Adversarial Debiasing Training Epoch:  44%|\u001b[32m████▍     \u001b[0m| 221/500 [10:24<19:27,  4.18s/it, accADV=0.662, accCLF=0.748, lossADV=0.642, lossCLF=0.63] "
     ]
    },
    {
     "name": "stdout",
     "output_type": "stream",
     "text": [
      "EarlyStopping counter: 20 out of 100\n"
     ]
    },
    {
     "name": "stderr",
     "output_type": "stream",
     "text": [
      "Adversarial Debiasing Training Epoch:  44%|\u001b[32m████▍     \u001b[0m| 222/500 [10:29<20:06,  4.34s/it, accADV=0.688, accCLF=0.74, lossADV=0.622, lossCLF=0.641] "
     ]
    },
    {
     "name": "stdout",
     "output_type": "stream",
     "text": [
      "EarlyStopping counter: 21 out of 100\n"
     ]
    },
    {
     "name": "stderr",
     "output_type": "stream",
     "text": [
      "Adversarial Debiasing Training Epoch:  45%|\u001b[32m████▍     \u001b[0m| 223/500 [10:33<20:40,  4.48s/it, accADV=0.701, accCLF=0.701, lossADV=0.613, lossCLF=0.72] "
     ]
    },
    {
     "name": "stdout",
     "output_type": "stream",
     "text": [
      "EarlyStopping counter: 22 out of 100\n"
     ]
    },
    {
     "name": "stderr",
     "output_type": "stream",
     "text": [
      "Adversarial Debiasing Training Epoch:  45%|\u001b[32m████▍     \u001b[0m| 224/500 [10:36<19:51,  4.32s/it, accADV=0.699, accCLF=0.689, lossADV=0.613, lossCLF=0.715]"
     ]
    },
    {
     "name": "stdout",
     "output_type": "stream",
     "text": [
      "EarlyStopping counter: 23 out of 100\n"
     ]
    },
    {
     "name": "stderr",
     "output_type": "stream",
     "text": [
      "Adversarial Debiasing Training Epoch:  45%|\u001b[32m████▌     \u001b[0m| 225/500 [10:38<16:14,  3.54s/it, accADV=0.662, accCLF=0.74, lossADV=0.64, lossCLF=0.673]  "
     ]
    },
    {
     "name": "stdout",
     "output_type": "stream",
     "text": [
      "EarlyStopping counter: 24 out of 100\n"
     ]
    },
    {
     "name": "stderr",
     "output_type": "stream",
     "text": [
      "Adversarial Debiasing Training Epoch:  45%|\u001b[32m████▌     \u001b[0m| 226/500 [10:39<13:32,  2.97s/it, accADV=0.699, accCLF=0.76, lossADV=0.613, lossCLF=0.722] "
     ]
    },
    {
     "name": "stdout",
     "output_type": "stream",
     "text": [
      "EarlyStopping counter: 25 out of 100\n"
     ]
    },
    {
     "name": "stderr",
     "output_type": "stream",
     "text": [
      "Adversarial Debiasing Training Epoch:  45%|\u001b[32m████▌     \u001b[0m| 227/500 [10:41<11:35,  2.55s/it, accADV=0.686, accCLF=0.742, lossADV=0.623, lossCLF=0.673]"
     ]
    },
    {
     "name": "stdout",
     "output_type": "stream",
     "text": [
      "EarlyStopping counter: 26 out of 100\n"
     ]
    },
    {
     "name": "stderr",
     "output_type": "stream",
     "text": [
      "Adversarial Debiasing Training Epoch:  46%|\u001b[32m████▌     \u001b[0m| 228/500 [10:42<10:11,  2.25s/it, accADV=0.674, accCLF=0.736, lossADV=0.631, lossCLF=0.687]"
     ]
    },
    {
     "name": "stdout",
     "output_type": "stream",
     "text": [
      "EarlyStopping counter: 27 out of 100\n"
     ]
    },
    {
     "name": "stderr",
     "output_type": "stream",
     "text": [
      "Adversarial Debiasing Training Epoch:  46%|\u001b[32m████▌     \u001b[0m| 229/500 [10:44<09:17,  2.06s/it, accADV=0.639, accCLF=0.732, lossADV=0.657, lossCLF=0.686]"
     ]
    },
    {
     "name": "stdout",
     "output_type": "stream",
     "text": [
      "EarlyStopping counter: 28 out of 100\n"
     ]
    },
    {
     "name": "stderr",
     "output_type": "stream",
     "text": [
      "Adversarial Debiasing Training Epoch:  46%|\u001b[32m████▌     \u001b[0m| 230/500 [10:46<08:39,  1.93s/it, accADV=0.701, accCLF=0.73, lossADV=0.612, lossCLF=0.675] "
     ]
    },
    {
     "name": "stdout",
     "output_type": "stream",
     "text": [
      "EarlyStopping counter: 29 out of 100\n"
     ]
    },
    {
     "name": "stderr",
     "output_type": "stream",
     "text": [
      "Adversarial Debiasing Training Epoch:  46%|\u001b[32m████▌     \u001b[0m| 231/500 [10:47<08:11,  1.83s/it, accADV=0.656, accCLF=0.744, lossADV=0.644, lossCLF=0.676]"
     ]
    },
    {
     "name": "stdout",
     "output_type": "stream",
     "text": [
      "EarlyStopping counter: 30 out of 100\n"
     ]
    },
    {
     "name": "stderr",
     "output_type": "stream",
     "text": [
      "Adversarial Debiasing Training Epoch:  46%|\u001b[32m████▋     \u001b[0m| 232/500 [10:49<07:49,  1.75s/it, accADV=0.664, accCLF=0.723, lossADV=0.638, lossCLF=0.82] "
     ]
    },
    {
     "name": "stdout",
     "output_type": "stream",
     "text": [
      "EarlyStopping counter: 31 out of 100\n"
     ]
    },
    {
     "name": "stderr",
     "output_type": "stream",
     "text": [
      "Adversarial Debiasing Training Epoch:  47%|\u001b[32m████▋     \u001b[0m| 233/500 [10:50<07:40,  1.72s/it, accADV=0.662, accCLF=0.725, lossADV=0.637, lossCLF=0.772]"
     ]
    },
    {
     "name": "stdout",
     "output_type": "stream",
     "text": [
      "EarlyStopping counter: 32 out of 100\n"
     ]
    },
    {
     "name": "stderr",
     "output_type": "stream",
     "text": [
      "Adversarial Debiasing Training Epoch:  47%|\u001b[32m████▋     \u001b[0m| 234/500 [10:52<07:37,  1.72s/it, accADV=0.707, accCLF=0.713, lossADV=0.601, lossCLF=0.816]"
     ]
    },
    {
     "name": "stdout",
     "output_type": "stream",
     "text": [
      "EarlyStopping counter: 33 out of 100\n"
     ]
    },
    {
     "name": "stderr",
     "output_type": "stream",
     "text": [
      "Adversarial Debiasing Training Epoch:  47%|\u001b[32m████▋     \u001b[0m| 235/500 [10:57<11:08,  2.52s/it, accADV=0.643, accCLF=0.691, lossADV=0.649, lossCLF=0.812]"
     ]
    },
    {
     "name": "stdout",
     "output_type": "stream",
     "text": [
      "EarlyStopping counter: 34 out of 100\n"
     ]
    },
    {
     "name": "stderr",
     "output_type": "stream",
     "text": [
      "Adversarial Debiasing Training Epoch:  47%|\u001b[32m████▋     \u001b[0m| 236/500 [11:02<14:30,  3.30s/it, accADV=0.693, accCLF=0.73, lossADV=0.611, lossCLF=0.721] "
     ]
    },
    {
     "name": "stdout",
     "output_type": "stream",
     "text": [
      "EarlyStopping counter: 35 out of 100\n"
     ]
    },
    {
     "name": "stderr",
     "output_type": "stream",
     "text": [
      "Adversarial Debiasing Training Epoch:  47%|\u001b[32m████▋     \u001b[0m| 237/500 [11:08<17:21,  3.96s/it, accADV=0.658, accCLF=0.701, lossADV=0.633, lossCLF=0.79] "
     ]
    },
    {
     "name": "stdout",
     "output_type": "stream",
     "text": [
      "EarlyStopping counter: 36 out of 100\n"
     ]
    },
    {
     "name": "stderr",
     "output_type": "stream",
     "text": [
      "Adversarial Debiasing Training Epoch:  48%|\u001b[32m████▊     \u001b[0m| 238/500 [11:09<15:22,  3.52s/it, accADV=0.701, accCLF=0.693, lossADV=0.601, lossCLF=0.81] "
     ]
    },
    {
     "name": "stdout",
     "output_type": "stream",
     "text": [
      "EarlyStopping counter: 37 out of 100\n"
     ]
    },
    {
     "name": "stderr",
     "output_type": "stream",
     "text": [
      "Adversarial Debiasing Training Epoch:  48%|\u001b[32m████▊     \u001b[0m| 239/500 [11:11<12:40,  2.92s/it, accADV=0.668, accCLF=0.729, lossADV=0.619, lossCLF=0.717]"
     ]
    },
    {
     "name": "stdout",
     "output_type": "stream",
     "text": [
      "EarlyStopping counter: 38 out of 100\n"
     ]
    },
    {
     "name": "stderr",
     "output_type": "stream",
     "text": [
      "Adversarial Debiasing Training Epoch:  48%|\u001b[32m████▊     \u001b[0m| 240/500 [11:12<10:50,  2.50s/it, accADV=0.684, accCLF=0.67, lossADV=0.605, lossCLF=0.765] "
     ]
    },
    {
     "name": "stdout",
     "output_type": "stream",
     "text": [
      "EarlyStopping counter: 39 out of 100\n"
     ]
    },
    {
     "name": "stderr",
     "output_type": "stream",
     "text": [
      "Adversarial Debiasing Training Epoch:  48%|\u001b[32m████▊     \u001b[0m| 241/500 [11:14<09:37,  2.23s/it, accADV=0.693, accCLF=0.723, lossADV=0.603, lossCLF=0.683]"
     ]
    },
    {
     "name": "stdout",
     "output_type": "stream",
     "text": [
      "EarlyStopping counter: 40 out of 100\n"
     ]
    },
    {
     "name": "stderr",
     "output_type": "stream",
     "text": [
      "Adversarial Debiasing Training Epoch:  48%|\u001b[32m████▊     \u001b[0m| 242/500 [11:16<08:40,  2.02s/it, accADV=0.695, accCLF=0.717, lossADV=0.6, lossCLF=0.641]  "
     ]
    },
    {
     "name": "stdout",
     "output_type": "stream",
     "text": [
      "EarlyStopping counter: 41 out of 100\n"
     ]
    },
    {
     "name": "stderr",
     "output_type": "stream",
     "text": [
      "Adversarial Debiasing Training Epoch:  49%|\u001b[32m████▊     \u001b[0m| 243/500 [11:17<08:08,  1.90s/it, accADV=0.668, accCLF=0.682, lossADV=0.617, lossCLF=0.76] "
     ]
    },
    {
     "name": "stdout",
     "output_type": "stream",
     "text": [
      "EarlyStopping counter: 42 out of 100\n"
     ]
    },
    {
     "name": "stderr",
     "output_type": "stream",
     "text": [
      "Adversarial Debiasing Training Epoch:  49%|\u001b[32m████▉     \u001b[0m| 244/500 [11:19<07:45,  1.82s/it, accADV=0.682, accCLF=0.672, lossADV=0.6, lossCLF=0.828]  "
     ]
    },
    {
     "name": "stdout",
     "output_type": "stream",
     "text": [
      "EarlyStopping counter: 43 out of 100\n"
     ]
    },
    {
     "name": "stderr",
     "output_type": "stream",
     "text": [
      "Adversarial Debiasing Training Epoch:  49%|\u001b[32m████▉     \u001b[0m| 245/500 [11:20<07:25,  1.75s/it, accADV=0.67, accCLF=0.699, lossADV=0.613, lossCLF=0.762] "
     ]
    },
    {
     "name": "stdout",
     "output_type": "stream",
     "text": [
      "EarlyStopping counter: 44 out of 100\n"
     ]
    },
    {
     "name": "stderr",
     "output_type": "stream",
     "text": [
      "Adversarial Debiasing Training Epoch:  49%|\u001b[32m████▉     \u001b[0m| 246/500 [11:22<07:10,  1.70s/it, accADV=0.684, accCLF=0.662, lossADV=0.607, lossCLF=0.769]"
     ]
    },
    {
     "name": "stdout",
     "output_type": "stream",
     "text": [
      "EarlyStopping counter: 45 out of 100\n"
     ]
    },
    {
     "name": "stderr",
     "output_type": "stream",
     "text": [
      "Adversarial Debiasing Training Epoch:  49%|\u001b[32m████▉     \u001b[0m| 247/500 [11:23<07:05,  1.68s/it, accADV=0.689, accCLF=0.637, lossADV=0.603, lossCLF=0.852]"
     ]
    },
    {
     "name": "stdout",
     "output_type": "stream",
     "text": [
      "EarlyStopping counter: 46 out of 100\n"
     ]
    },
    {
     "name": "stderr",
     "output_type": "stream",
     "text": [
      "Adversarial Debiasing Training Epoch:  50%|\u001b[32m████▉     \u001b[0m| 248/500 [11:25<07:02,  1.68s/it, accADV=0.627, accCLF=0.689, lossADV=0.643, lossCLF=0.764]"
     ]
    },
    {
     "name": "stdout",
     "output_type": "stream",
     "text": [
      "EarlyStopping counter: 47 out of 100\n"
     ]
    },
    {
     "name": "stderr",
     "output_type": "stream",
     "text": [
      "Adversarial Debiasing Training Epoch:  50%|\u001b[32m████▉     \u001b[0m| 249/500 [11:27<06:55,  1.66s/it, accADV=0.705, accCLF=0.637, lossADV=0.606, lossCLF=0.847]"
     ]
    },
    {
     "name": "stdout",
     "output_type": "stream",
     "text": [
      "EarlyStopping counter: 48 out of 100\n"
     ]
    },
    {
     "name": "stderr",
     "output_type": "stream",
     "text": [
      "Adversarial Debiasing Training Epoch:  50%|\u001b[32m████▉     \u001b[0m| 249/500 [11:28<06:55,  1.66s/it, accADV=0.675, accCLF=0.731, lossADV=0.605, lossCLF=0.593]"
     ]
    },
    {
     "name": "stdout",
     "output_type": "stream",
     "text": [
      "EarlyStopping counter: 49 out of 100\n"
     ]
    },
    {
     "name": "stderr",
     "output_type": "stream",
     "text": [
      "Adversarial Debiasing Training Epoch:  50%|\u001b[32m█████     \u001b[0m| 250/500 [11:30<07:39,  1.84s/it, accADV=0.721, accCLF=0.719, lossADV=0.599, lossCLF=0.784]"
     ]
    },
    {
     "name": "stdout",
     "output_type": "stream",
     "text": [
      "EarlyStopping counter: 50 out of 100\n"
     ]
    },
    {
     "name": "stderr",
     "output_type": "stream",
     "text": [
      "Adversarial Debiasing Training Epoch:  50%|\u001b[32m█████     \u001b[0m| 251/500 [11:32<07:32,  1.82s/it, accADV=0.697, accCLF=0.707, lossADV=0.598, lossCLF=0.797]"
     ]
    },
    {
     "name": "stdout",
     "output_type": "stream",
     "text": [
      "EarlyStopping counter: 51 out of 100\n"
     ]
    },
    {
     "name": "stderr",
     "output_type": "stream",
     "text": [
      "Adversarial Debiasing Training Epoch:  50%|\u001b[32m█████     \u001b[0m| 252/500 [11:34<07:31,  1.82s/it, accADV=0.715, accCLF=0.697, lossADV=0.591, lossCLF=0.792]"
     ]
    },
    {
     "name": "stdout",
     "output_type": "stream",
     "text": [
      "EarlyStopping counter: 52 out of 100\n"
     ]
    },
    {
     "name": "stderr",
     "output_type": "stream",
     "text": [
      "Adversarial Debiasing Training Epoch:  51%|\u001b[32m█████     \u001b[0m| 253/500 [11:35<07:22,  1.79s/it, accADV=0.715, accCLF=0.705, lossADV=0.595, lossCLF=0.825]"
     ]
    },
    {
     "name": "stdout",
     "output_type": "stream",
     "text": [
      "EarlyStopping counter: 53 out of 100\n"
     ]
    },
    {
     "name": "stderr",
     "output_type": "stream",
     "text": [
      "Adversarial Debiasing Training Epoch:  51%|\u001b[32m█████     \u001b[0m| 254/500 [11:37<07:22,  1.80s/it, accADV=0.688, accCLF=0.721, lossADV=0.608, lossCLF=0.772]"
     ]
    },
    {
     "name": "stdout",
     "output_type": "stream",
     "text": [
      "EarlyStopping counter: 54 out of 100\n"
     ]
    },
    {
     "name": "stderr",
     "output_type": "stream",
     "text": [
      "Adversarial Debiasing Training Epoch:  51%|\u001b[32m█████     \u001b[0m| 255/500 [11:39<07:20,  1.80s/it, accADV=0.691, accCLF=0.742, lossADV=0.611, lossCLF=0.72] "
     ]
    },
    {
     "name": "stdout",
     "output_type": "stream",
     "text": [
      "EarlyStopping counter: 55 out of 100\n"
     ]
    },
    {
     "name": "stderr",
     "output_type": "stream",
     "text": [
      "Adversarial Debiasing Training Epoch:  51%|\u001b[32m█████     \u001b[0m| 256/500 [11:41<07:31,  1.85s/it, accADV=0.742, accCLF=0.717, lossADV=0.567, lossCLF=0.795]"
     ]
    },
    {
     "name": "stdout",
     "output_type": "stream",
     "text": [
      "EarlyStopping counter: 56 out of 100\n"
     ]
    },
    {
     "name": "stderr",
     "output_type": "stream",
     "text": [
      "Adversarial Debiasing Training Epoch:  51%|\u001b[32m█████▏    \u001b[0m| 257/500 [11:43<07:43,  1.91s/it, accADV=0.672, accCLF=0.74, lossADV=0.635, lossCLF=0.767] "
     ]
    },
    {
     "name": "stdout",
     "output_type": "stream",
     "text": [
      "EarlyStopping counter: 57 out of 100\n"
     ]
    },
    {
     "name": "stderr",
     "output_type": "stream",
     "text": [
      "Adversarial Debiasing Training Epoch:  52%|\u001b[32m█████▏    \u001b[0m| 258/500 [11:45<08:00,  1.98s/it, accADV=0.734, accCLF=0.697, lossADV=0.59, lossCLF=0.804] "
     ]
    },
    {
     "name": "stdout",
     "output_type": "stream",
     "text": [
      "EarlyStopping counter: 58 out of 100\n"
     ]
    },
    {
     "name": "stderr",
     "output_type": "stream",
     "text": [
      "Adversarial Debiasing Training Epoch:  52%|\u001b[32m█████▏    \u001b[0m| 259/500 [11:47<07:46,  1.93s/it, accADV=0.709, accCLF=0.736, lossADV=0.591, lossCLF=0.803]"
     ]
    },
    {
     "name": "stdout",
     "output_type": "stream",
     "text": [
      "EarlyStopping counter: 59 out of 100\n"
     ]
    },
    {
     "name": "stderr",
     "output_type": "stream",
     "text": [
      "Adversarial Debiasing Training Epoch:  52%|\u001b[32m█████▏    \u001b[0m| 260/500 [11:49<07:33,  1.89s/it, accADV=0.678, accCLF=0.76, lossADV=0.622, lossCLF=0.698] "
     ]
    },
    {
     "name": "stdout",
     "output_type": "stream",
     "text": [
      "EarlyStopping counter: 60 out of 100\n"
     ]
    },
    {
     "name": "stderr",
     "output_type": "stream",
     "text": [
      "Adversarial Debiasing Training Epoch:  52%|\u001b[32m█████▏    \u001b[0m| 261/500 [11:50<07:25,  1.86s/it, accADV=0.707, accCLF=0.723, lossADV=0.606, lossCLF=0.798]"
     ]
    },
    {
     "name": "stdout",
     "output_type": "stream",
     "text": [
      "EarlyStopping counter: 61 out of 100\n"
     ]
    },
    {
     "name": "stderr",
     "output_type": "stream",
     "text": [
      "Adversarial Debiasing Training Epoch:  52%|\u001b[32m█████▏    \u001b[0m| 262/500 [11:52<07:22,  1.86s/it, accADV=0.709, accCLF=0.707, lossADV=0.594, lossCLF=0.815]"
     ]
    },
    {
     "name": "stdout",
     "output_type": "stream",
     "text": [
      "EarlyStopping counter: 62 out of 100\n"
     ]
    },
    {
     "name": "stderr",
     "output_type": "stream",
     "text": [
      "Adversarial Debiasing Training Epoch:  53%|\u001b[32m█████▎    \u001b[0m| 263/500 [11:54<07:14,  1.83s/it, accADV=0.699, accCLF=0.742, lossADV=0.604, lossCLF=0.749]"
     ]
    },
    {
     "name": "stdout",
     "output_type": "stream",
     "text": [
      "EarlyStopping counter: 63 out of 100\n"
     ]
    },
    {
     "name": "stderr",
     "output_type": "stream",
     "text": [
      "Adversarial Debiasing Training Epoch:  53%|\u001b[32m█████▎    \u001b[0m| 264/500 [11:56<07:12,  1.83s/it, accADV=0.693, accCLF=0.697, lossADV=0.613, lossCLF=0.856]"
     ]
    },
    {
     "name": "stdout",
     "output_type": "stream",
     "text": [
      "EarlyStopping counter: 64 out of 100\n"
     ]
    },
    {
     "name": "stderr",
     "output_type": "stream",
     "text": [
      "Adversarial Debiasing Training Epoch:  53%|\u001b[32m█████▎    \u001b[0m| 265/500 [11:58<07:12,  1.84s/it, accADV=0.691, accCLF=0.717, lossADV=0.611, lossCLF=0.853]"
     ]
    },
    {
     "name": "stdout",
     "output_type": "stream",
     "text": [
      "EarlyStopping counter: 65 out of 100\n"
     ]
    },
    {
     "name": "stderr",
     "output_type": "stream",
     "text": [
      "Adversarial Debiasing Training Epoch:  53%|\u001b[32m█████▎    \u001b[0m| 266/500 [11:59<07:11,  1.85s/it, accADV=0.721, accCLF=0.717, lossADV=0.585, lossCLF=0.867]"
     ]
    },
    {
     "name": "stdout",
     "output_type": "stream",
     "text": [
      "EarlyStopping counter: 66 out of 100\n"
     ]
    },
    {
     "name": "stderr",
     "output_type": "stream",
     "text": [
      "Adversarial Debiasing Training Epoch:  53%|\u001b[32m█████▎    \u001b[0m| 267/500 [12:01<07:03,  1.82s/it, accADV=0.717, accCLF=0.693, lossADV=0.593, lossCLF=0.858]"
     ]
    },
    {
     "name": "stdout",
     "output_type": "stream",
     "text": [
      "EarlyStopping counter: 67 out of 100\n"
     ]
    },
    {
     "name": "stderr",
     "output_type": "stream",
     "text": [
      "Adversarial Debiasing Training Epoch:  54%|\u001b[32m█████▎    \u001b[0m| 268/500 [12:04<07:10,  1.86s/it, accADV=0.717, accCLF=0.699, lossADV=0.591, lossCLF=0.836]"
     ]
    },
    {
     "name": "stdout",
     "output_type": "stream",
     "text": [
      "EarlyStopping counter: 68 out of 100\n"
     ]
    },
    {
     "name": "stderr",
     "output_type": "stream",
     "text": [
      "Adversarial Debiasing Training Epoch:  54%|\u001b[32m█████▍    \u001b[0m| 269/500 [12:10<11:33,  3.00s/it, accADV=0.686, accCLF=0.709, lossADV=0.615, lossCLF=0.764]"
     ]
    },
    {
     "name": "stdout",
     "output_type": "stream",
     "text": [
      "EarlyStopping counter: 69 out of 100\n"
     ]
    },
    {
     "name": "stderr",
     "output_type": "stream",
     "text": [
      "Adversarial Debiasing Training Epoch:  54%|\u001b[32m█████▍    \u001b[0m| 270/500 [12:15<13:52,  3.62s/it, accADV=0.723, accCLF=0.699, lossADV=0.587, lossCLF=0.825]"
     ]
    },
    {
     "name": "stdout",
     "output_type": "stream",
     "text": [
      "EarlyStopping counter: 70 out of 100\n"
     ]
    },
    {
     "name": "stderr",
     "output_type": "stream",
     "text": [
      "Adversarial Debiasing Training Epoch:  54%|\u001b[32m█████▍    \u001b[0m| 271/500 [12:20<15:29,  4.06s/it, accADV=0.703, accCLF=0.705, lossADV=0.603, lossCLF=0.816]"
     ]
    },
    {
     "name": "stdout",
     "output_type": "stream",
     "text": [
      "EarlyStopping counter: 71 out of 100\n"
     ]
    },
    {
     "name": "stderr",
     "output_type": "stream",
     "text": [
      "Adversarial Debiasing Training Epoch:  54%|\u001b[32m█████▍    \u001b[0m| 272/500 [12:25<16:25,  4.32s/it, accADV=0.699, accCLF=0.781, lossADV=0.604, lossCLF=0.66] "
     ]
    },
    {
     "name": "stdout",
     "output_type": "stream",
     "text": [
      "EarlyStopping counter: 72 out of 100\n"
     ]
    },
    {
     "name": "stderr",
     "output_type": "stream",
     "text": [
      "Adversarial Debiasing Training Epoch:  55%|\u001b[32m█████▍    \u001b[0m| 273/500 [12:28<16:02,  4.24s/it, accADV=0.721, accCLF=0.688, lossADV=0.588, lossCLF=0.824]"
     ]
    },
    {
     "name": "stdout",
     "output_type": "stream",
     "text": [
      "EarlyStopping counter: 73 out of 100\n"
     ]
    },
    {
     "name": "stderr",
     "output_type": "stream",
     "text": [
      "Adversarial Debiasing Training Epoch:  55%|\u001b[32m█████▍    \u001b[0m| 274/500 [12:29<12:59,  3.45s/it, accADV=0.672, accCLF=0.686, lossADV=0.635, lossCLF=0.956]"
     ]
    },
    {
     "name": "stdout",
     "output_type": "stream",
     "text": [
      "EarlyStopping counter: 74 out of 100\n"
     ]
    },
    {
     "name": "stderr",
     "output_type": "stream",
     "text": [
      "Adversarial Debiasing Training Epoch:  55%|\u001b[32m█████▌    \u001b[0m| 275/500 [12:31<10:52,  2.90s/it, accADV=0.676, accCLF=0.717, lossADV=0.625, lossCLF=0.747]"
     ]
    },
    {
     "name": "stdout",
     "output_type": "stream",
     "text": [
      "EarlyStopping counter: 75 out of 100\n"
     ]
    },
    {
     "name": "stderr",
     "output_type": "stream",
     "text": [
      "Adversarial Debiasing Training Epoch:  55%|\u001b[32m█████▌    \u001b[0m| 276/500 [12:32<09:20,  2.50s/it, accADV=0.688, accCLF=0.695, lossADV=0.614, lossCLF=0.932]"
     ]
    },
    {
     "name": "stdout",
     "output_type": "stream",
     "text": [
      "EarlyStopping counter: 76 out of 100\n"
     ]
    },
    {
     "name": "stderr",
     "output_type": "stream",
     "text": [
      "Adversarial Debiasing Training Epoch:  55%|\u001b[32m█████▌    \u001b[0m| 277/500 [12:34<08:13,  2.21s/it, accADV=0.732, accCLF=0.715, lossADV=0.583, lossCLF=0.754]"
     ]
    },
    {
     "name": "stdout",
     "output_type": "stream",
     "text": [
      "EarlyStopping counter: 77 out of 100\n"
     ]
    },
    {
     "name": "stderr",
     "output_type": "stream",
     "text": [
      "Adversarial Debiasing Training Epoch:  56%|\u001b[32m█████▌    \u001b[0m| 278/500 [12:36<07:34,  2.05s/it, accADV=0.686, accCLF=0.75, lossADV=0.614, lossCLF=0.732] "
     ]
    },
    {
     "name": "stdout",
     "output_type": "stream",
     "text": [
      "EarlyStopping counter: 78 out of 100\n"
     ]
    },
    {
     "name": "stderr",
     "output_type": "stream",
     "text": [
      "Adversarial Debiasing Training Epoch:  56%|\u001b[32m█████▌    \u001b[0m| 279/500 [12:37<07:02,  1.91s/it, accADV=0.678, accCLF=0.723, lossADV=0.622, lossCLF=0.83] "
     ]
    },
    {
     "name": "stdout",
     "output_type": "stream",
     "text": [
      "EarlyStopping counter: 79 out of 100\n"
     ]
    },
    {
     "name": "stderr",
     "output_type": "stream",
     "text": [
      "Adversarial Debiasing Training Epoch:  56%|\u001b[32m█████▌    \u001b[0m| 280/500 [12:39<06:41,  1.82s/it, accADV=0.695, accCLF=0.73, lossADV=0.612, lossCLF=0.77]  "
     ]
    },
    {
     "name": "stdout",
     "output_type": "stream",
     "text": [
      "EarlyStopping counter: 80 out of 100\n"
     ]
    },
    {
     "name": "stderr",
     "output_type": "stream",
     "text": [
      "Adversarial Debiasing Training Epoch:  56%|\u001b[32m█████▌    \u001b[0m| 281/500 [12:40<06:30,  1.78s/it, accADV=0.688, accCLF=0.748, lossADV=0.615, lossCLF=0.796]"
     ]
    },
    {
     "name": "stdout",
     "output_type": "stream",
     "text": [
      "EarlyStopping counter: 81 out of 100\n"
     ]
    },
    {
     "name": "stderr",
     "output_type": "stream",
     "text": [
      "Adversarial Debiasing Training Epoch:  56%|\u001b[32m█████▋    \u001b[0m| 282/500 [12:42<06:22,  1.76s/it, accADV=0.666, accCLF=0.709, lossADV=0.631, lossCLF=0.896]"
     ]
    },
    {
     "name": "stdout",
     "output_type": "stream",
     "text": [
      "EarlyStopping counter: 82 out of 100\n"
     ]
    },
    {
     "name": "stderr",
     "output_type": "stream",
     "text": [
      "Adversarial Debiasing Training Epoch:  57%|\u001b[32m█████▋    \u001b[0m| 283/500 [12:44<06:18,  1.74s/it, accADV=0.693, accCLF=0.732, lossADV=0.613, lossCLF=0.88] "
     ]
    },
    {
     "name": "stdout",
     "output_type": "stream",
     "text": [
      "EarlyStopping counter: 83 out of 100\n"
     ]
    },
    {
     "name": "stderr",
     "output_type": "stream",
     "text": [
      "Adversarial Debiasing Training Epoch:  57%|\u001b[32m█████▋    \u001b[0m| 284/500 [12:46<06:29,  1.80s/it, accADV=0.699, accCLF=0.74, lossADV=0.61, lossCLF=0.735]  "
     ]
    },
    {
     "name": "stdout",
     "output_type": "stream",
     "text": [
      "EarlyStopping counter: 84 out of 100\n"
     ]
    },
    {
     "name": "stderr",
     "output_type": "stream",
     "text": [
      "Adversarial Debiasing Training Epoch:  57%|\u001b[32m█████▋    \u001b[0m| 285/500 [12:52<10:26,  2.91s/it, accADV=0.66, accCLF=0.742, lossADV=0.644, lossCLF=0.778] "
     ]
    },
    {
     "name": "stdout",
     "output_type": "stream",
     "text": [
      "EarlyStopping counter: 85 out of 100\n"
     ]
    },
    {
     "name": "stderr",
     "output_type": "stream",
     "text": [
      "Adversarial Debiasing Training Epoch:  57%|\u001b[32m█████▋    \u001b[0m| 286/500 [12:57<12:36,  3.54s/it, accADV=0.686, accCLF=0.74, lossADV=0.625, lossCLF=0.85]  "
     ]
    },
    {
     "name": "stdout",
     "output_type": "stream",
     "text": [
      "EarlyStopping counter: 86 out of 100\n"
     ]
    },
    {
     "name": "stderr",
     "output_type": "stream",
     "text": [
      "Adversarial Debiasing Training Epoch:  57%|\u001b[32m█████▋    \u001b[0m| 287/500 [13:02<13:55,  3.92s/it, accADV=0.686, accCLF=0.719, lossADV=0.622, lossCLF=0.754]"
     ]
    },
    {
     "name": "stdout",
     "output_type": "stream",
     "text": [
      "EarlyStopping counter: 87 out of 100\n"
     ]
    },
    {
     "name": "stderr",
     "output_type": "stream",
     "text": [
      "Adversarial Debiasing Training Epoch:  58%|\u001b[32m█████▊    \u001b[0m| 288/500 [13:06<14:47,  4.19s/it, accADV=0.699, accCLF=0.721, lossADV=0.617, lossCLF=0.837]"
     ]
    },
    {
     "name": "stdout",
     "output_type": "stream",
     "text": [
      "EarlyStopping counter: 88 out of 100\n"
     ]
    },
    {
     "name": "stderr",
     "output_type": "stream",
     "text": [
      "Adversarial Debiasing Training Epoch:  58%|\u001b[32m█████▊    \u001b[0m| 289/500 [13:11<15:54,  4.52s/it, accADV=0.654, accCLF=0.701, lossADV=0.641, lossCLF=0.775]"
     ]
    },
    {
     "name": "stdout",
     "output_type": "stream",
     "text": [
      "EarlyStopping counter: 89 out of 100\n"
     ]
    },
    {
     "name": "stderr",
     "output_type": "stream",
     "text": [
      "Adversarial Debiasing Training Epoch:  58%|\u001b[32m█████▊    \u001b[0m| 290/500 [13:16<16:00,  4.57s/it, accADV=0.684, accCLF=0.66, lossADV=0.626, lossCLF=0.92]  "
     ]
    },
    {
     "name": "stdout",
     "output_type": "stream",
     "text": [
      "EarlyStopping counter: 90 out of 100\n"
     ]
    },
    {
     "name": "stderr",
     "output_type": "stream",
     "text": [
      "Adversarial Debiasing Training Epoch:  58%|\u001b[32m█████▊    \u001b[0m| 291/500 [13:21<15:51,  4.55s/it, accADV=0.656, accCLF=0.711, lossADV=0.649, lossCLF=0.846]"
     ]
    },
    {
     "name": "stdout",
     "output_type": "stream",
     "text": [
      "EarlyStopping counter: 91 out of 100\n"
     ]
    },
    {
     "name": "stderr",
     "output_type": "stream",
     "text": [
      "Adversarial Debiasing Training Epoch:  58%|\u001b[32m█████▊    \u001b[0m| 292/500 [13:26<16:14,  4.69s/it, accADV=0.656, accCLF=0.715, lossADV=0.64, lossCLF=0.789] "
     ]
    },
    {
     "name": "stdout",
     "output_type": "stream",
     "text": [
      "EarlyStopping counter: 92 out of 100\n"
     ]
    },
    {
     "name": "stderr",
     "output_type": "stream",
     "text": [
      "Adversarial Debiasing Training Epoch:  59%|\u001b[32m█████▊    \u001b[0m| 293/500 [13:30<16:07,  4.67s/it, accADV=0.678, accCLF=0.668, lossADV=0.617, lossCLF=0.843]"
     ]
    },
    {
     "name": "stdout",
     "output_type": "stream",
     "text": [
      "EarlyStopping counter: 93 out of 100\n"
     ]
    },
    {
     "name": "stderr",
     "output_type": "stream",
     "text": [
      "Adversarial Debiasing Training Epoch:  59%|\u001b[32m█████▉    \u001b[0m| 294/500 [13:32<13:40,  3.98s/it, accADV=0.686, accCLF=0.686, lossADV=0.626, lossCLF=0.857]"
     ]
    },
    {
     "name": "stdout",
     "output_type": "stream",
     "text": [
      "EarlyStopping counter: 94 out of 100\n"
     ]
    },
    {
     "name": "stderr",
     "output_type": "stream",
     "text": [
      "Adversarial Debiasing Training Epoch:  59%|\u001b[32m█████▉    \u001b[0m| 295/500 [13:34<11:06,  3.25s/it, accADV=0.703, accCLF=0.707, lossADV=0.61, lossCLF=0.866] "
     ]
    },
    {
     "name": "stdout",
     "output_type": "stream",
     "text": [
      "EarlyStopping counter: 95 out of 100\n"
     ]
    },
    {
     "name": "stderr",
     "output_type": "stream",
     "text": [
      "Adversarial Debiasing Training Epoch:  59%|\u001b[32m█████▉    \u001b[0m| 296/500 [13:35<09:15,  2.72s/it, accADV=0.689, accCLF=0.639, lossADV=0.619, lossCLF=1.03] "
     ]
    },
    {
     "name": "stdout",
     "output_type": "stream",
     "text": [
      "EarlyStopping counter: 96 out of 100\n"
     ]
    },
    {
     "name": "stderr",
     "output_type": "stream",
     "text": [
      "Adversarial Debiasing Training Epoch:  59%|\u001b[32m█████▉    \u001b[0m| 297/500 [13:37<08:02,  2.38s/it, accADV=0.678, accCLF=0.68, lossADV=0.614, lossCLF=0.878] "
     ]
    },
    {
     "name": "stdout",
     "output_type": "stream",
     "text": [
      "EarlyStopping counter: 97 out of 100\n"
     ]
    },
    {
     "name": "stderr",
     "output_type": "stream",
     "text": [
      "Adversarial Debiasing Training Epoch:  60%|\u001b[32m█████▉    \u001b[0m| 298/500 [13:38<07:11,  2.14s/it, accADV=0.672, accCLF=0.684, lossADV=0.647, lossCLF=0.936]"
     ]
    },
    {
     "name": "stdout",
     "output_type": "stream",
     "text": [
      "EarlyStopping counter: 98 out of 100\n"
     ]
    },
    {
     "name": "stderr",
     "output_type": "stream",
     "text": [
      "Adversarial Debiasing Training Epoch:  60%|\u001b[32m█████▉    \u001b[0m| 299/500 [13:40<06:35,  1.97s/it, accADV=0.705, accCLF=0.67, lossADV=0.613, lossCLF=0.964] "
     ]
    },
    {
     "name": "stdout",
     "output_type": "stream",
     "text": [
      "EarlyStopping counter: 99 out of 100\n"
     ]
    },
    {
     "name": "stderr",
     "output_type": "stream",
     "text": [
      "Adversarial Debiasing Training Epoch:  60%|\u001b[32m█████▉    \u001b[0m| 299/500 [13:41<06:35,  1.97s/it, accADV=0.704, accCLF=0.715, lossADV=0.602, lossCLF=0.575]"
     ]
    },
    {
     "name": "stdout",
     "output_type": "stream",
     "text": [
      "EarlyStopping counter: 100 out of 100\n"
     ]
    },
    {
     "name": "stderr",
     "output_type": "stream",
     "text": [
      "Adversarial Debiasing Training Epoch:  60%|\u001b[32m██████    \u001b[0m| 300/500 [13:43<06:49,  2.05s/it, accADV=0.66, accCLF=0.732, lossADV=0.649, lossCLF=0.746] "
     ]
    },
    {
     "name": "stdout",
     "output_type": "stream",
     "text": [
      "EarlyStopping counter: 101 out of 100\n"
     ]
    },
    {
     "name": "stderr",
     "output_type": "stream",
     "text": [
      "Adversarial Debiasing Training Epoch:  60%|\u001b[32m██████    \u001b[0m| 301/500 [13:45<06:25,  1.94s/it, accADV=0.652, accCLF=0.779, lossADV=0.654, lossCLF=0.734]"
     ]
    },
    {
     "name": "stdout",
     "output_type": "stream",
     "text": [
      "EarlyStopping counter: 102 out of 100\n"
     ]
    },
    {
     "name": "stderr",
     "output_type": "stream",
     "text": [
      "Adversarial Debiasing Training Epoch:  60%|\u001b[32m██████    \u001b[0m| 302/500 [13:46<06:09,  1.86s/it, accADV=0.703, accCLF=0.732, lossADV=0.604, lossCLF=0.833]"
     ]
    },
    {
     "name": "stdout",
     "output_type": "stream",
     "text": [
      "EarlyStopping counter: 103 out of 100\n"
     ]
    },
    {
     "name": "stderr",
     "output_type": "stream",
     "text": [
      "Adversarial Debiasing Training Epoch:  61%|\u001b[32m██████    \u001b[0m| 303/500 [13:48<05:55,  1.80s/it, accADV=0.674, accCLF=0.758, lossADV=0.637, lossCLF=0.703]"
     ]
    },
    {
     "name": "stdout",
     "output_type": "stream",
     "text": [
      "EarlyStopping counter: 104 out of 100\n"
     ]
    },
    {
     "name": "stderr",
     "output_type": "stream",
     "text": [
      "Adversarial Debiasing Training Epoch:  61%|\u001b[32m██████    \u001b[0m| 304/500 [13:50<05:48,  1.78s/it, accADV=0.674, accCLF=0.756, lossADV=0.63, lossCLF=0.694] "
     ]
    },
    {
     "name": "stdout",
     "output_type": "stream",
     "text": [
      "EarlyStopping counter: 105 out of 100\n"
     ]
    },
    {
     "name": "stderr",
     "output_type": "stream",
     "text": [
      "Adversarial Debiasing Training Epoch:  61%|\u001b[32m██████    \u001b[0m| 305/500 [13:52<05:38,  1.74s/it, accADV=0.691, accCLF=0.758, lossADV=0.621, lossCLF=0.678]"
     ]
    },
    {
     "name": "stdout",
     "output_type": "stream",
     "text": [
      "EarlyStopping counter: 106 out of 100\n"
     ]
    },
    {
     "name": "stderr",
     "output_type": "stream",
     "text": [
      "Adversarial Debiasing Training Epoch:  61%|\u001b[32m██████    \u001b[0m| 306/500 [13:54<05:50,  1.81s/it, accADV=0.66, accCLF=0.795, lossADV=0.646, lossCLF=0.528] "
     ]
    },
    {
     "name": "stdout",
     "output_type": "stream",
     "text": [
      "EarlyStopping counter: 107 out of 100\n"
     ]
    },
    {
     "name": "stderr",
     "output_type": "stream",
     "text": [
      "Adversarial Debiasing Training Epoch:  61%|\u001b[32m██████▏   \u001b[0m| 307/500 [13:56<06:06,  1.90s/it, accADV=0.699, accCLF=0.744, lossADV=0.608, lossCLF=0.778]"
     ]
    },
    {
     "name": "stdout",
     "output_type": "stream",
     "text": [
      "EarlyStopping counter: 108 out of 100\n"
     ]
    },
    {
     "name": "stderr",
     "output_type": "stream",
     "text": [
      "Adversarial Debiasing Training Epoch:  62%|\u001b[32m██████▏   \u001b[0m| 308/500 [13:57<05:58,  1.87s/it, accADV=0.678, accCLF=0.787, lossADV=0.628, lossCLF=0.63] "
     ]
    },
    {
     "name": "stdout",
     "output_type": "stream",
     "text": [
      "EarlyStopping counter: 109 out of 100\n"
     ]
    },
    {
     "name": "stderr",
     "output_type": "stream",
     "text": [
      "Adversarial Debiasing Training Epoch:  62%|\u001b[32m██████▏   \u001b[0m| 309/500 [13:59<05:49,  1.83s/it, accADV=0.682, accCLF=0.754, lossADV=0.632, lossCLF=0.693]"
     ]
    },
    {
     "name": "stdout",
     "output_type": "stream",
     "text": [
      "EarlyStopping counter: 110 out of 100\n"
     ]
    },
    {
     "name": "stderr",
     "output_type": "stream",
     "text": [
      "Adversarial Debiasing Training Epoch:  62%|\u001b[32m██████▏   \u001b[0m| 310/500 [14:01<05:49,  1.84s/it, accADV=0.701, accCLF=0.752, lossADV=0.61, lossCLF=0.699] "
     ]
    },
    {
     "name": "stdout",
     "output_type": "stream",
     "text": [
      "EarlyStopping counter: 111 out of 100\n"
     ]
    },
    {
     "name": "stderr",
     "output_type": "stream",
     "text": [
      "Adversarial Debiasing Training Epoch:  62%|\u001b[32m██████▏   \u001b[0m| 311/500 [14:03<05:49,  1.85s/it, accADV=0.684, accCLF=0.789, lossADV=0.628, lossCLF=0.665]"
     ]
    },
    {
     "name": "stdout",
     "output_type": "stream",
     "text": [
      "EarlyStopping counter: 112 out of 100\n"
     ]
    },
    {
     "name": "stderr",
     "output_type": "stream",
     "text": [
      "Adversarial Debiasing Training Epoch:  62%|\u001b[32m██████▏   \u001b[0m| 312/500 [14:05<05:41,  1.82s/it, accADV=0.703, accCLF=0.787, lossADV=0.606, lossCLF=0.578]"
     ]
    },
    {
     "name": "stdout",
     "output_type": "stream",
     "text": [
      "EarlyStopping counter: 113 out of 100\n"
     ]
    },
    {
     "name": "stderr",
     "output_type": "stream",
     "text": [
      "Adversarial Debiasing Training Epoch:  63%|\u001b[32m██████▎   \u001b[0m| 313/500 [14:06<05:42,  1.83s/it, accADV=0.684, accCLF=0.768, lossADV=0.623, lossCLF=0.653]"
     ]
    },
    {
     "name": "stdout",
     "output_type": "stream",
     "text": [
      "EarlyStopping counter: 114 out of 100\n"
     ]
    },
    {
     "name": "stderr",
     "output_type": "stream",
     "text": [
      "Adversarial Debiasing Training Epoch:  63%|\u001b[32m██████▎   \u001b[0m| 314/500 [14:13<07:39,  2.47s/it, accADV=0.682, accCLF=0.781, lossADV=0.633, lossCLF=0.546]"
     ]
    },
    {
     "name": "stdout",
     "output_type": "stream",
     "text": [
      "EarlyStopping counter: 115 out of 100\n"
     ]
    },
    {
     "name": "stderr",
     "output_type": "stream",
     "text": [
      "Adversarial Debiasing Training Epoch:  63%|\u001b[32m██████▎   \u001b[0m| 315/500 [14:19<11:13,  3.64s/it, accADV=0.701, accCLF=0.787, lossADV=0.607, lossCLF=0.583]"
     ]
    },
    {
     "name": "stdout",
     "output_type": "stream",
     "text": [
      "EarlyStopping counter: 116 out of 100\n"
     ]
    },
    {
     "name": "stderr",
     "output_type": "stream",
     "text": [
      "Adversarial Debiasing Training Epoch:  63%|\u001b[32m██████▎   \u001b[0m| 316/500 [14:24<13:04,  4.27s/it, accADV=0.662, accCLF=0.762, lossADV=0.639, lossCLF=0.638]"
     ]
    },
    {
     "name": "stdout",
     "output_type": "stream",
     "text": [
      "EarlyStopping counter: 117 out of 100\n"
     ]
    },
    {
     "name": "stderr",
     "output_type": "stream",
     "text": [
      "Adversarial Debiasing Training Epoch:  63%|\u001b[32m██████▎   \u001b[0m| 317/500 [14:29<14:07,  4.63s/it, accADV=0.676, accCLF=0.775, lossADV=0.628, lossCLF=0.598]"
     ]
    },
    {
     "name": "stdout",
     "output_type": "stream",
     "text": [
      "EarlyStopping counter: 118 out of 100\n"
     ]
    },
    {
     "name": "stderr",
     "output_type": "stream",
     "text": [
      "Adversarial Debiasing Training Epoch:  64%|\u001b[32m██████▎   \u001b[0m| 318/500 [14:35<14:29,  4.78s/it, accADV=0.658, accCLF=0.768, lossADV=0.643, lossCLF=0.636]"
     ]
    },
    {
     "name": "stdout",
     "output_type": "stream",
     "text": [
      "EarlyStopping counter: 119 out of 100\n"
     ]
    },
    {
     "name": "stderr",
     "output_type": "stream",
     "text": [
      "Adversarial Debiasing Training Epoch:  64%|\u001b[32m██████▍   \u001b[0m| 319/500 [14:37<14:14,  4.72s/it, accADV=0.719, accCLF=0.764, lossADV=0.596, lossCLF=0.696]"
     ]
    },
    {
     "name": "stdout",
     "output_type": "stream",
     "text": [
      "EarlyStopping counter: 120 out of 100\n"
     ]
    },
    {
     "name": "stderr",
     "output_type": "stream",
     "text": [
      "Adversarial Debiasing Training Epoch:  64%|\u001b[32m██████▍   \u001b[0m| 320/500 [14:39<11:22,  3.79s/it, accADV=0.678, accCLF=0.764, lossADV=0.632, lossCLF=0.657]"
     ]
    },
    {
     "name": "stdout",
     "output_type": "stream",
     "text": [
      "EarlyStopping counter: 121 out of 100\n"
     ]
    },
    {
     "name": "stderr",
     "output_type": "stream",
     "text": [
      "Adversarial Debiasing Training Epoch:  64%|\u001b[32m██████▍   \u001b[0m| 321/500 [14:41<09:22,  3.14s/it, accADV=0.676, accCLF=0.795, lossADV=0.622, lossCLF=0.57] "
     ]
    },
    {
     "name": "stdout",
     "output_type": "stream",
     "text": [
      "EarlyStopping counter: 122 out of 100\n"
     ]
    },
    {
     "name": "stderr",
     "output_type": "stream",
     "text": [
      "Adversarial Debiasing Training Epoch:  64%|\u001b[32m██████▍   \u001b[0m| 322/500 [14:42<07:59,  2.69s/it, accADV=0.691, accCLF=0.738, lossADV=0.612, lossCLF=0.592]"
     ]
    },
    {
     "name": "stdout",
     "output_type": "stream",
     "text": [
      "EarlyStopping counter: 123 out of 100\n"
     ]
    },
    {
     "name": "stderr",
     "output_type": "stream",
     "text": [
      "Adversarial Debiasing Training Epoch:  65%|\u001b[32m██████▍   \u001b[0m| 323/500 [14:44<07:02,  2.39s/it, accADV=0.74, accCLF=0.748, lossADV=0.585, lossCLF=0.644] "
     ]
    },
    {
     "name": "stdout",
     "output_type": "stream",
     "text": [
      "EarlyStopping counter: 124 out of 100\n"
     ]
    },
    {
     "name": "stderr",
     "output_type": "stream",
     "text": [
      "Adversarial Debiasing Training Epoch:  65%|\u001b[32m██████▍   \u001b[0m| 324/500 [14:45<06:19,  2.15s/it, accADV=0.66, accCLF=0.75, lossADV=0.638, lossCLF=0.631]  "
     ]
    },
    {
     "name": "stdout",
     "output_type": "stream",
     "text": [
      "EarlyStopping counter: 125 out of 100\n"
     ]
    },
    {
     "name": "stderr",
     "output_type": "stream",
     "text": [
      "Adversarial Debiasing Training Epoch:  65%|\u001b[32m██████▌   \u001b[0m| 325/500 [14:47<05:51,  2.01s/it, accADV=0.67, accCLF=0.764, lossADV=0.638, lossCLF=0.621] "
     ]
    },
    {
     "name": "stdout",
     "output_type": "stream",
     "text": [
      "EarlyStopping counter: 126 out of 100\n"
     ]
    },
    {
     "name": "stderr",
     "output_type": "stream",
     "text": [
      "Adversarial Debiasing Training Epoch:  65%|\u001b[32m██████▌   \u001b[0m| 326/500 [14:49<05:32,  1.91s/it, accADV=0.701, accCLF=0.754, lossADV=0.602, lossCLF=0.596]"
     ]
    },
    {
     "name": "stdout",
     "output_type": "stream",
     "text": [
      "EarlyStopping counter: 127 out of 100\n"
     ]
    },
    {
     "name": "stderr",
     "output_type": "stream",
     "text": [
      "Adversarial Debiasing Training Epoch:  65%|\u001b[32m██████▌   \u001b[0m| 327/500 [14:50<05:17,  1.84s/it, accADV=0.713, accCLF=0.756, lossADV=0.603, lossCLF=0.585]"
     ]
    },
    {
     "name": "stdout",
     "output_type": "stream",
     "text": [
      "EarlyStopping counter: 128 out of 100\n"
     ]
    },
    {
     "name": "stderr",
     "output_type": "stream",
     "text": [
      "Adversarial Debiasing Training Epoch:  66%|\u001b[32m██████▌   \u001b[0m| 328/500 [14:52<05:07,  1.79s/it, accADV=0.715, accCLF=0.742, lossADV=0.598, lossCLF=0.573]"
     ]
    },
    {
     "name": "stdout",
     "output_type": "stream",
     "text": [
      "EarlyStopping counter: 129 out of 100\n"
     ]
    },
    {
     "name": "stderr",
     "output_type": "stream",
     "text": [
      "Adversarial Debiasing Training Epoch:  66%|\u001b[32m██████▌   \u001b[0m| 329/500 [14:54<04:57,  1.74s/it, accADV=0.68, accCLF=0.771, lossADV=0.632, lossCLF=0.636] "
     ]
    },
    {
     "name": "stdout",
     "output_type": "stream",
     "text": [
      "EarlyStopping counter: 130 out of 100\n"
     ]
    },
    {
     "name": "stderr",
     "output_type": "stream",
     "text": [
      "Adversarial Debiasing Training Epoch:  66%|\u001b[32m██████▌   \u001b[0m| 330/500 [14:55<05:03,  1.78s/it, accADV=0.684, accCLF=0.75, lossADV=0.619, lossCLF=0.656] "
     ]
    },
    {
     "name": "stdout",
     "output_type": "stream",
     "text": [
      "EarlyStopping counter: 131 out of 100\n"
     ]
    },
    {
     "name": "stderr",
     "output_type": "stream",
     "text": [
      "Adversarial Debiasing Training Epoch:  66%|\u001b[32m██████▌   \u001b[0m| 331/500 [14:57<05:04,  1.80s/it, accADV=0.713, accCLF=0.76, lossADV=0.596, lossCLF=0.573] "
     ]
    },
    {
     "name": "stdout",
     "output_type": "stream",
     "text": [
      "EarlyStopping counter: 132 out of 100\n"
     ]
    },
    {
     "name": "stderr",
     "output_type": "stream",
     "text": [
      "Adversarial Debiasing Training Epoch:  66%|\u001b[32m██████▋   \u001b[0m| 332/500 [14:59<05:13,  1.86s/it, accADV=0.645, accCLF=0.742, lossADV=0.641, lossCLF=0.606]"
     ]
    },
    {
     "name": "stdout",
     "output_type": "stream",
     "text": [
      "EarlyStopping counter: 133 out of 100\n"
     ]
    },
    {
     "name": "stderr",
     "output_type": "stream",
     "text": [
      "Adversarial Debiasing Training Epoch:  67%|\u001b[32m██████▋   \u001b[0m| 333/500 [15:01<05:15,  1.89s/it, accADV=0.713, accCLF=0.762, lossADV=0.6, lossCLF=0.578]  "
     ]
    },
    {
     "name": "stdout",
     "output_type": "stream",
     "text": [
      "EarlyStopping counter: 134 out of 100\n"
     ]
    },
    {
     "name": "stderr",
     "output_type": "stream",
     "text": [
      "Adversarial Debiasing Training Epoch:  67%|\u001b[32m██████▋   \u001b[0m| 334/500 [15:03<05:13,  1.89s/it, accADV=0.707, accCLF=0.738, lossADV=0.608, lossCLF=0.655]"
     ]
    },
    {
     "name": "stdout",
     "output_type": "stream",
     "text": [
      "EarlyStopping counter: 135 out of 100\n"
     ]
    },
    {
     "name": "stderr",
     "output_type": "stream",
     "text": [
      "Adversarial Debiasing Training Epoch:  67%|\u001b[32m██████▋   \u001b[0m| 335/500 [15:05<05:16,  1.92s/it, accADV=0.691, accCLF=0.785, lossADV=0.612, lossCLF=0.585]"
     ]
    },
    {
     "name": "stdout",
     "output_type": "stream",
     "text": [
      "EarlyStopping counter: 136 out of 100\n"
     ]
    },
    {
     "name": "stderr",
     "output_type": "stream",
     "text": [
      "Adversarial Debiasing Training Epoch:  67%|\u001b[32m██████▋   \u001b[0m| 336/500 [15:07<05:09,  1.89s/it, accADV=0.656, accCLF=0.822, lossADV=0.643, lossCLF=0.488]"
     ]
    },
    {
     "name": "stdout",
     "output_type": "stream",
     "text": [
      "EarlyStopping counter: 137 out of 100\n"
     ]
    },
    {
     "name": "stderr",
     "output_type": "stream",
     "text": [
      "Adversarial Debiasing Training Epoch:  67%|\u001b[32m██████▋   \u001b[0m| 337/500 [15:09<05:05,  1.87s/it, accADV=0.664, accCLF=0.736, lossADV=0.641, lossCLF=0.624]"
     ]
    },
    {
     "name": "stdout",
     "output_type": "stream",
     "text": [
      "EarlyStopping counter: 138 out of 100\n"
     ]
    },
    {
     "name": "stderr",
     "output_type": "stream",
     "text": [
      "Adversarial Debiasing Training Epoch:  68%|\u001b[32m██████▊   \u001b[0m| 338/500 [15:11<05:07,  1.90s/it, accADV=0.625, accCLF=0.756, lossADV=0.667, lossCLF=0.596]"
     ]
    },
    {
     "name": "stdout",
     "output_type": "stream",
     "text": [
      "EarlyStopping counter: 139 out of 100\n"
     ]
    },
    {
     "name": "stderr",
     "output_type": "stream",
     "text": [
      "Adversarial Debiasing Training Epoch:  68%|\u001b[32m██████▊   \u001b[0m| 339/500 [15:14<06:03,  2.26s/it, accADV=0.662, accCLF=0.76, lossADV=0.64, lossCLF=0.603]  "
     ]
    },
    {
     "name": "stdout",
     "output_type": "stream",
     "text": [
      "EarlyStopping counter: 140 out of 100\n"
     ]
    },
    {
     "name": "stderr",
     "output_type": "stream",
     "text": [
      "Adversarial Debiasing Training Epoch:  68%|\u001b[32m██████▊   \u001b[0m| 340/500 [15:21<09:16,  3.48s/it, accADV=0.684, accCLF=0.77, lossADV=0.618, lossCLF=0.599] "
     ]
    },
    {
     "name": "stdout",
     "output_type": "stream",
     "text": [
      "EarlyStopping counter: 141 out of 100\n"
     ]
    },
    {
     "name": "stderr",
     "output_type": "stream",
     "text": [
      "Adversarial Debiasing Training Epoch:  68%|\u001b[32m██████▊   \u001b[0m| 341/500 [15:26<10:51,  4.10s/it, accADV=0.668, accCLF=0.715, lossADV=0.637, lossCLF=0.718]"
     ]
    },
    {
     "name": "stdout",
     "output_type": "stream",
     "text": [
      "EarlyStopping counter: 142 out of 100\n"
     ]
    },
    {
     "name": "stderr",
     "output_type": "stream",
     "text": [
      "Adversarial Debiasing Training Epoch:  68%|\u001b[32m██████▊   \u001b[0m| 342/500 [15:31<11:46,  4.47s/it, accADV=0.65, accCLF=0.748, lossADV=0.64, lossCLF=0.61]   "
     ]
    },
    {
     "name": "stdout",
     "output_type": "stream",
     "text": [
      "EarlyStopping counter: 143 out of 100\n"
     ]
    },
    {
     "name": "stderr",
     "output_type": "stream",
     "text": [
      "Adversarial Debiasing Training Epoch:  69%|\u001b[32m██████▊   \u001b[0m| 343/500 [15:36<12:17,  4.70s/it, accADV=0.688, accCLF=0.779, lossADV=0.619, lossCLF=0.578]"
     ]
    },
    {
     "name": "stdout",
     "output_type": "stream",
     "text": [
      "EarlyStopping counter: 144 out of 100\n"
     ]
    },
    {
     "name": "stderr",
     "output_type": "stream",
     "text": [
      "Adversarial Debiasing Training Epoch:  69%|\u001b[32m██████▉   \u001b[0m| 344/500 [15:41<12:32,  4.83s/it, accADV=0.658, accCLF=0.77, lossADV=0.639, lossCLF=0.579] "
     ]
    },
    {
     "name": "stdout",
     "output_type": "stream",
     "text": [
      "EarlyStopping counter: 145 out of 100\n"
     ]
    },
    {
     "name": "stderr",
     "output_type": "stream",
     "text": [
      "Adversarial Debiasing Training Epoch:  69%|\u001b[32m██████▉   \u001b[0m| 345/500 [15:46<12:30,  4.84s/it, accADV=0.664, accCLF=0.758, lossADV=0.633, lossCLF=0.609]"
     ]
    },
    {
     "name": "stdout",
     "output_type": "stream",
     "text": [
      "EarlyStopping counter: 146 out of 100\n"
     ]
    },
    {
     "name": "stderr",
     "output_type": "stream",
     "text": [
      "Adversarial Debiasing Training Epoch:  69%|\u001b[32m██████▉   \u001b[0m| 346/500 [15:51<12:36,  4.91s/it, accADV=0.664, accCLF=0.744, lossADV=0.634, lossCLF=0.613]"
     ]
    },
    {
     "name": "stdout",
     "output_type": "stream",
     "text": [
      "EarlyStopping counter: 147 out of 100\n"
     ]
    },
    {
     "name": "stderr",
     "output_type": "stream",
     "text": [
      "Adversarial Debiasing Training Epoch:  69%|\u001b[32m██████▉   \u001b[0m| 347/500 [15:56<12:47,  5.02s/it, accADV=0.627, accCLF=0.752, lossADV=0.662, lossCLF=0.587]"
     ]
    },
    {
     "name": "stdout",
     "output_type": "stream",
     "text": [
      "EarlyStopping counter: 148 out of 100\n"
     ]
    },
    {
     "name": "stderr",
     "output_type": "stream",
     "text": [
      "Adversarial Debiasing Training Epoch:  70%|\u001b[32m██████▉   \u001b[0m| 348/500 [15:58<10:23,  4.10s/it, accADV=0.689, accCLF=0.762, lossADV=0.616, lossCLF=0.594]"
     ]
    },
    {
     "name": "stdout",
     "output_type": "stream",
     "text": [
      "EarlyStopping counter: 149 out of 100\n"
     ]
    },
    {
     "name": "stderr",
     "output_type": "stream",
     "text": [
      "Adversarial Debiasing Training Epoch:  70%|\u001b[32m██████▉   \u001b[0m| 349/500 [16:00<08:28,  3.36s/it, accADV=0.666, accCLF=0.746, lossADV=0.628, lossCLF=0.584]"
     ]
    },
    {
     "name": "stdout",
     "output_type": "stream",
     "text": [
      "EarlyStopping counter: 150 out of 100\n"
     ]
    },
    {
     "name": "stderr",
     "output_type": "stream",
     "text": [
      "Adversarial Debiasing Training Epoch:  70%|\u001b[32m██████▉   \u001b[0m| 349/500 [16:01<08:28,  3.36s/it, accADV=0.677, accCLF=0.795, lossADV=0.625, lossCLF=0.438]"
     ]
    },
    {
     "name": "stdout",
     "output_type": "stream",
     "text": [
      "EarlyStopping counter: 151 out of 100\n"
     ]
    },
    {
     "name": "stderr",
     "output_type": "stream",
     "text": [
      "Adversarial Debiasing Training Epoch:  70%|\u001b[32m███████   \u001b[0m| 350/500 [16:03<07:32,  3.02s/it, accADV=0.678, accCLF=0.781, lossADV=0.63, lossCLF=0.533] "
     ]
    },
    {
     "name": "stdout",
     "output_type": "stream",
     "text": [
      "EarlyStopping counter: 152 out of 100\n"
     ]
    },
    {
     "name": "stderr",
     "output_type": "stream",
     "text": [
      "Adversarial Debiasing Training Epoch:  70%|\u001b[32m███████   \u001b[0m| 351/500 [16:05<06:41,  2.70s/it, accADV=0.676, accCLF=0.809, lossADV=0.625, lossCLF=0.505]"
     ]
    },
    {
     "name": "stdout",
     "output_type": "stream",
     "text": [
      "EarlyStopping counter: 153 out of 100\n"
     ]
    },
    {
     "name": "stderr",
     "output_type": "stream",
     "text": [
      "Adversarial Debiasing Training Epoch:  70%|\u001b[32m███████   \u001b[0m| 352/500 [16:07<06:02,  2.45s/it, accADV=0.672, accCLF=0.771, lossADV=0.631, lossCLF=0.61] "
     ]
    },
    {
     "name": "stdout",
     "output_type": "stream",
     "text": [
      "EarlyStopping counter: 154 out of 100\n"
     ]
    },
    {
     "name": "stderr",
     "output_type": "stream",
     "text": [
      "Adversarial Debiasing Training Epoch:  71%|\u001b[32m███████   \u001b[0m| 353/500 [16:09<05:28,  2.24s/it, accADV=0.693, accCLF=0.77, lossADV=0.607, lossCLF=0.54]  "
     ]
    },
    {
     "name": "stdout",
     "output_type": "stream",
     "text": [
      "EarlyStopping counter: 155 out of 100\n"
     ]
    },
    {
     "name": "stderr",
     "output_type": "stream",
     "text": [
      "Adversarial Debiasing Training Epoch:  72%|\u001b[32m███████▏  \u001b[0m| 361/500 [16:22<04:05,  1.76s/it, accADV=0.668, accCLF=0.818, lossADV=0.638, lossCLF=0.439]"
     ]
    },
    {
     "name": "stdout",
     "output_type": "stream",
     "text": [
      "EarlyStopping counter: 1 out of 100\n"
     ]
    },
    {
     "name": "stderr",
     "output_type": "stream",
     "text": [
      "Adversarial Debiasing Training Epoch:  73%|\u001b[32m███████▎  \u001b[0m| 363/500 [16:26<04:00,  1.75s/it, accADV=0.684, accCLF=0.801, lossADV=0.617, lossCLF=0.46] "
     ]
    },
    {
     "name": "stdout",
     "output_type": "stream",
     "text": [
      "EarlyStopping counter: 1 out of 100\n"
     ]
    },
    {
     "name": "stderr",
     "output_type": "stream",
     "text": [
      "Adversarial Debiasing Training Epoch:  73%|\u001b[32m███████▎  \u001b[0m| 364/500 [16:28<03:58,  1.76s/it, accADV=0.686, accCLF=0.801, lossADV=0.614, lossCLF=0.417]"
     ]
    },
    {
     "name": "stdout",
     "output_type": "stream",
     "text": [
      "EarlyStopping counter: 2 out of 100\n"
     ]
    },
    {
     "name": "stderr",
     "output_type": "stream",
     "text": [
      "Adversarial Debiasing Training Epoch:  73%|\u001b[32m███████▎  \u001b[0m| 365/500 [16:29<04:00,  1.78s/it, accADV=0.652, accCLF=0.809, lossADV=0.637, lossCLF=0.422]"
     ]
    },
    {
     "name": "stdout",
     "output_type": "stream",
     "text": [
      "EarlyStopping counter: 3 out of 100\n"
     ]
    },
    {
     "name": "stderr",
     "output_type": "stream",
     "text": [
      "Adversarial Debiasing Training Epoch:  73%|\u001b[32m███████▎  \u001b[0m| 366/500 [16:31<04:00,  1.80s/it, accADV=0.68, accCLF=0.791, lossADV=0.623, lossCLF=0.466] "
     ]
    },
    {
     "name": "stdout",
     "output_type": "stream",
     "text": [
      "EarlyStopping counter: 4 out of 100\n"
     ]
    },
    {
     "name": "stderr",
     "output_type": "stream",
     "text": [
      "Adversarial Debiasing Training Epoch:  73%|\u001b[32m███████▎  \u001b[0m| 367/500 [16:33<03:57,  1.78s/it, accADV=0.695, accCLF=0.809, lossADV=0.624, lossCLF=0.441]"
     ]
    },
    {
     "name": "stdout",
     "output_type": "stream",
     "text": [
      "EarlyStopping counter: 5 out of 100\n"
     ]
    },
    {
     "name": "stderr",
     "output_type": "stream",
     "text": [
      "Adversarial Debiasing Training Epoch:  74%|\u001b[32m███████▎  \u001b[0m| 368/500 [16:35<03:58,  1.81s/it, accADV=0.641, accCLF=0.82, lossADV=0.648, lossCLF=0.467] "
     ]
    },
    {
     "name": "stdout",
     "output_type": "stream",
     "text": [
      "EarlyStopping counter: 6 out of 100\n"
     ]
    },
    {
     "name": "stderr",
     "output_type": "stream",
     "text": [
      "Adversarial Debiasing Training Epoch:  74%|\u001b[32m███████▍  \u001b[0m| 370/500 [16:38<03:56,  1.82s/it, accADV=0.701, accCLF=0.832, lossADV=0.602, lossCLF=0.467]"
     ]
    },
    {
     "name": "stdout",
     "output_type": "stream",
     "text": [
      "EarlyStopping counter: 1 out of 100\n"
     ]
    },
    {
     "name": "stderr",
     "output_type": "stream",
     "text": [
      "Adversarial Debiasing Training Epoch:  74%|\u001b[32m███████▍  \u001b[0m| 372/500 [16:42<03:55,  1.84s/it, accADV=0.686, accCLF=0.836, lossADV=0.623, lossCLF=0.408]"
     ]
    },
    {
     "name": "stdout",
     "output_type": "stream",
     "text": [
      "EarlyStopping counter: 1 out of 100\n"
     ]
    },
    {
     "name": "stderr",
     "output_type": "stream",
     "text": [
      "Adversarial Debiasing Training Epoch:  75%|\u001b[32m███████▌  \u001b[0m| 375/500 [16:48<03:59,  1.92s/it, accADV=0.693, accCLF=0.836, lossADV=0.602, lossCLF=0.405]"
     ]
    },
    {
     "name": "stdout",
     "output_type": "stream",
     "text": [
      "EarlyStopping counter: 1 out of 100\n"
     ]
    },
    {
     "name": "stderr",
     "output_type": "stream",
     "text": [
      "Adversarial Debiasing Training Epoch:  76%|\u001b[32m███████▌  \u001b[0m| 378/500 [17:06<08:47,  4.33s/it, accADV=0.697, accCLF=0.807, lossADV=0.602, lossCLF=0.399]"
     ]
    },
    {
     "name": "stdout",
     "output_type": "stream",
     "text": [
      "EarlyStopping counter: 1 out of 100\n"
     ]
    },
    {
     "name": "stderr",
     "output_type": "stream",
     "text": [
      "Adversarial Debiasing Training Epoch:  76%|\u001b[32m███████▌  \u001b[0m| 379/500 [17:12<09:38,  4.78s/it, accADV=0.678, accCLF=0.809, lossADV=0.625, lossCLF=0.432]"
     ]
    },
    {
     "name": "stdout",
     "output_type": "stream",
     "text": [
      "EarlyStopping counter: 2 out of 100\n"
     ]
    },
    {
     "name": "stderr",
     "output_type": "stream",
     "text": [
      "Adversarial Debiasing Training Epoch:  76%|\u001b[32m███████▌  \u001b[0m| 380/500 [17:16<10:22,  5.19s/it, accADV=0.682, accCLF=0.783, lossADV=0.622, lossCLF=0.476]"
     ]
    },
    {
     "name": "stdout",
     "output_type": "stream",
     "text": [
      "EarlyStopping counter: 3 out of 100\n"
     ]
    },
    {
     "name": "stderr",
     "output_type": "stream",
     "text": [
      "Adversarial Debiasing Training Epoch:  76%|\u001b[32m███████▌  \u001b[0m| 381/500 [17:18<08:09,  4.11s/it, accADV=0.676, accCLF=0.811, lossADV=0.622, lossCLF=0.411]"
     ]
    },
    {
     "name": "stdout",
     "output_type": "stream",
     "text": [
      "EarlyStopping counter: 4 out of 100\n"
     ]
    },
    {
     "name": "stderr",
     "output_type": "stream",
     "text": [
      "Adversarial Debiasing Training Epoch:  76%|\u001b[32m███████▋  \u001b[0m| 382/500 [17:19<06:38,  3.38s/it, accADV=0.66, accCLF=0.777, lossADV=0.637, lossCLF=0.453] "
     ]
    },
    {
     "name": "stdout",
     "output_type": "stream",
     "text": [
      "EarlyStopping counter: 5 out of 100\n"
     ]
    },
    {
     "name": "stderr",
     "output_type": "stream",
     "text": [
      "Adversarial Debiasing Training Epoch:  77%|\u001b[32m███████▋  \u001b[0m| 383/500 [17:21<05:31,  2.84s/it, accADV=0.672, accCLF=0.807, lossADV=0.627, lossCLF=0.495]"
     ]
    },
    {
     "name": "stdout",
     "output_type": "stream",
     "text": [
      "EarlyStopping counter: 6 out of 100\n"
     ]
    },
    {
     "name": "stderr",
     "output_type": "stream",
     "text": [
      "Adversarial Debiasing Training Epoch:  77%|\u001b[32m███████▋  \u001b[0m| 384/500 [17:23<04:47,  2.47s/it, accADV=0.662, accCLF=0.783, lossADV=0.636, lossCLF=0.543]"
     ]
    },
    {
     "name": "stdout",
     "output_type": "stream",
     "text": [
      "EarlyStopping counter: 7 out of 100\n"
     ]
    },
    {
     "name": "stderr",
     "output_type": "stream",
     "text": [
      "Adversarial Debiasing Training Epoch:  77%|\u001b[32m███████▋  \u001b[0m| 385/500 [17:24<04:17,  2.24s/it, accADV=0.668, accCLF=0.785, lossADV=0.633, lossCLF=0.51] "
     ]
    },
    {
     "name": "stdout",
     "output_type": "stream",
     "text": [
      "EarlyStopping counter: 8 out of 100\n"
     ]
    },
    {
     "name": "stderr",
     "output_type": "stream",
     "text": [
      "Adversarial Debiasing Training Epoch:  77%|\u001b[32m███████▋  \u001b[0m| 386/500 [17:26<03:53,  2.05s/it, accADV=0.672, accCLF=0.758, lossADV=0.634, lossCLF=0.605]"
     ]
    },
    {
     "name": "stdout",
     "output_type": "stream",
     "text": [
      "EarlyStopping counter: 9 out of 100\n"
     ]
    },
    {
     "name": "stderr",
     "output_type": "stream",
     "text": [
      "Adversarial Debiasing Training Epoch:  77%|\u001b[32m███████▋  \u001b[0m| 387/500 [17:28<03:39,  1.94s/it, accADV=0.688, accCLF=0.752, lossADV=0.62, lossCLF=0.566] "
     ]
    },
    {
     "name": "stdout",
     "output_type": "stream",
     "text": [
      "EarlyStopping counter: 10 out of 100\n"
     ]
    },
    {
     "name": "stderr",
     "output_type": "stream",
     "text": [
      "Adversarial Debiasing Training Epoch:  78%|\u001b[32m███████▊  \u001b[0m| 388/500 [17:29<03:28,  1.86s/it, accADV=0.67, accCLF=0.744, lossADV=0.634, lossCLF=0.579] "
     ]
    },
    {
     "name": "stdout",
     "output_type": "stream",
     "text": [
      "EarlyStopping counter: 11 out of 100\n"
     ]
    },
    {
     "name": "stderr",
     "output_type": "stream",
     "text": [
      "Adversarial Debiasing Training Epoch:  78%|\u001b[32m███████▊  \u001b[0m| 389/500 [17:31<03:20,  1.81s/it, accADV=0.646, accCLF=0.758, lossADV=0.657, lossCLF=0.593]"
     ]
    },
    {
     "name": "stdout",
     "output_type": "stream",
     "text": [
      "EarlyStopping counter: 12 out of 100\n"
     ]
    },
    {
     "name": "stderr",
     "output_type": "stream",
     "text": [
      "Adversarial Debiasing Training Epoch:  78%|\u001b[32m███████▊  \u001b[0m| 390/500 [17:33<03:18,  1.80s/it, accADV=0.656, accCLF=0.742, lossADV=0.648, lossCLF=0.575]"
     ]
    },
    {
     "name": "stdout",
     "output_type": "stream",
     "text": [
      "EarlyStopping counter: 13 out of 100\n"
     ]
    },
    {
     "name": "stderr",
     "output_type": "stream",
     "text": [
      "Adversarial Debiasing Training Epoch:  78%|\u001b[32m███████▊  \u001b[0m| 391/500 [17:38<05:08,  2.83s/it, accADV=0.646, accCLF=0.795, lossADV=0.656, lossCLF=0.475]"
     ]
    },
    {
     "name": "stdout",
     "output_type": "stream",
     "text": [
      "EarlyStopping counter: 14 out of 100\n"
     ]
    },
    {
     "name": "stderr",
     "output_type": "stream",
     "text": [
      "Adversarial Debiasing Training Epoch:  78%|\u001b[32m███████▊  \u001b[0m| 392/500 [17:44<06:35,  3.66s/it, accADV=0.662, accCLF=0.789, lossADV=0.64, lossCLF=0.483] "
     ]
    },
    {
     "name": "stdout",
     "output_type": "stream",
     "text": [
      "EarlyStopping counter: 15 out of 100\n"
     ]
    },
    {
     "name": "stderr",
     "output_type": "stream",
     "text": [
      "Adversarial Debiasing Training Epoch:  79%|\u001b[32m███████▊  \u001b[0m| 393/500 [17:49<07:23,  4.15s/it, accADV=0.662, accCLF=0.746, lossADV=0.644, lossCLF=0.547]"
     ]
    },
    {
     "name": "stdout",
     "output_type": "stream",
     "text": [
      "EarlyStopping counter: 16 out of 100\n"
     ]
    },
    {
     "name": "stderr",
     "output_type": "stream",
     "text": [
      "Adversarial Debiasing Training Epoch:  79%|\u001b[32m███████▉  \u001b[0m| 394/500 [17:51<06:15,  3.54s/it, accADV=0.689, accCLF=0.775, lossADV=0.622, lossCLF=0.538]"
     ]
    },
    {
     "name": "stdout",
     "output_type": "stream",
     "text": [
      "EarlyStopping counter: 17 out of 100\n"
     ]
    },
    {
     "name": "stderr",
     "output_type": "stream",
     "text": [
      "Adversarial Debiasing Training Epoch:  79%|\u001b[32m███████▉  \u001b[0m| 395/500 [17:52<05:10,  2.96s/it, accADV=0.697, accCLF=0.719, lossADV=0.624, lossCLF=0.607]"
     ]
    },
    {
     "name": "stdout",
     "output_type": "stream",
     "text": [
      "EarlyStopping counter: 18 out of 100\n"
     ]
    },
    {
     "name": "stderr",
     "output_type": "stream",
     "text": [
      "Adversarial Debiasing Training Epoch:  79%|\u001b[32m███████▉  \u001b[0m| 396/500 [17:54<04:25,  2.55s/it, accADV=0.682, accCLF=0.738, lossADV=0.623, lossCLF=0.638]"
     ]
    },
    {
     "name": "stdout",
     "output_type": "stream",
     "text": [
      "EarlyStopping counter: 19 out of 100\n"
     ]
    },
    {
     "name": "stderr",
     "output_type": "stream",
     "text": [
      "Adversarial Debiasing Training Epoch:  79%|\u001b[32m███████▉  \u001b[0m| 397/500 [17:55<03:51,  2.25s/it, accADV=0.656, accCLF=0.713, lossADV=0.649, lossCLF=0.615]"
     ]
    },
    {
     "name": "stdout",
     "output_type": "stream",
     "text": [
      "EarlyStopping counter: 20 out of 100\n"
     ]
    },
    {
     "name": "stderr",
     "output_type": "stream",
     "text": [
      "Adversarial Debiasing Training Epoch:  80%|\u001b[32m███████▉  \u001b[0m| 398/500 [17:57<03:31,  2.07s/it, accADV=0.688, accCLF=0.729, lossADV=0.62, lossCLF=0.611] "
     ]
    },
    {
     "name": "stdout",
     "output_type": "stream",
     "text": [
      "EarlyStopping counter: 21 out of 100\n"
     ]
    },
    {
     "name": "stderr",
     "output_type": "stream",
     "text": [
      "Adversarial Debiasing Training Epoch:  80%|\u001b[32m███████▉  \u001b[0m| 399/500 [17:59<03:15,  1.93s/it, accADV=0.666, accCLF=0.709, lossADV=0.635, lossCLF=0.592]"
     ]
    },
    {
     "name": "stdout",
     "output_type": "stream",
     "text": [
      "EarlyStopping counter: 22 out of 100\n"
     ]
    },
    {
     "name": "stderr",
     "output_type": "stream",
     "text": [
      "Adversarial Debiasing Training Epoch:  80%|\u001b[32m███████▉  \u001b[0m| 399/500 [18:00<03:15,  1.93s/it, accADV=0.65, accCLF=0.791, lossADV=0.654, lossCLF=0.406] "
     ]
    },
    {
     "name": "stdout",
     "output_type": "stream",
     "text": [
      "EarlyStopping counter: 23 out of 100\n"
     ]
    },
    {
     "name": "stderr",
     "output_type": "stream",
     "text": [
      "Adversarial Debiasing Training Epoch:  80%|\u001b[32m████████  \u001b[0m| 400/500 [18:02<03:20,  2.00s/it, accADV=0.668, accCLF=0.775, lossADV=0.642, lossCLF=0.559]"
     ]
    },
    {
     "name": "stdout",
     "output_type": "stream",
     "text": [
      "EarlyStopping counter: 24 out of 100\n"
     ]
    },
    {
     "name": "stderr",
     "output_type": "stream",
     "text": [
      "Adversarial Debiasing Training Epoch:  80%|\u001b[32m████████  \u001b[0m| 401/500 [18:04<03:09,  1.92s/it, accADV=0.652, accCLF=0.771, lossADV=0.641, lossCLF=0.493]"
     ]
    },
    {
     "name": "stdout",
     "output_type": "stream",
     "text": [
      "EarlyStopping counter: 25 out of 100\n"
     ]
    },
    {
     "name": "stderr",
     "output_type": "stream",
     "text": [
      "Adversarial Debiasing Training Epoch:  80%|\u001b[32m████████  \u001b[0m| 402/500 [18:10<03:45,  2.30s/it, accADV=0.668, accCLF=0.758, lossADV=0.636, lossCLF=0.548]"
     ]
    },
    {
     "name": "stdout",
     "output_type": "stream",
     "text": [
      "EarlyStopping counter: 26 out of 100\n"
     ]
    },
    {
     "name": "stderr",
     "output_type": "stream",
     "text": [
      "Adversarial Debiasing Training Epoch:  81%|\u001b[32m████████  \u001b[0m| 403/500 [18:17<05:31,  3.42s/it, accADV=0.695, accCLF=0.777, lossADV=0.616, lossCLF=0.497]"
     ]
    },
    {
     "name": "stdout",
     "output_type": "stream",
     "text": [
      "EarlyStopping counter: 27 out of 100\n"
     ]
    },
    {
     "name": "stderr",
     "output_type": "stream",
     "text": [
      "Adversarial Debiasing Training Epoch:  81%|\u001b[32m████████  \u001b[0m| 404/500 [18:20<07:15,  4.54s/it, accADV=0.684, accCLF=0.738, lossADV=0.617, lossCLF=0.586]"
     ]
    },
    {
     "name": "stdout",
     "output_type": "stream",
     "text": [
      "EarlyStopping counter: 28 out of 100\n"
     ]
    },
    {
     "name": "stderr",
     "output_type": "stream",
     "text": [
      "Adversarial Debiasing Training Epoch:  81%|\u001b[32m████████  \u001b[0m| 405/500 [18:22<05:59,  3.79s/it, accADV=0.662, accCLF=0.771, lossADV=0.643, lossCLF=0.517]"
     ]
    },
    {
     "name": "stdout",
     "output_type": "stream",
     "text": [
      "EarlyStopping counter: 29 out of 100\n"
     ]
    },
    {
     "name": "stderr",
     "output_type": "stream",
     "text": [
      "Adversarial Debiasing Training Epoch:  81%|\u001b[32m████████  \u001b[0m| 406/500 [18:24<04:57,  3.16s/it, accADV=0.645, accCLF=0.775, lossADV=0.651, lossCLF=0.464]"
     ]
    },
    {
     "name": "stdout",
     "output_type": "stream",
     "text": [
      "EarlyStopping counter: 30 out of 100\n"
     ]
    },
    {
     "name": "stderr",
     "output_type": "stream",
     "text": [
      "Adversarial Debiasing Training Epoch:  81%|\u001b[32m████████▏ \u001b[0m| 407/500 [18:25<04:14,  2.73s/it, accADV=0.664, accCLF=0.771, lossADV=0.644, lossCLF=0.504]"
     ]
    },
    {
     "name": "stdout",
     "output_type": "stream",
     "text": [
      "EarlyStopping counter: 31 out of 100\n"
     ]
    },
    {
     "name": "stderr",
     "output_type": "stream",
     "text": [
      "Adversarial Debiasing Training Epoch:  82%|\u001b[32m████████▏ \u001b[0m| 408/500 [18:27<03:41,  2.41s/it, accADV=0.676, accCLF=0.77, lossADV=0.629, lossCLF=0.53]  "
     ]
    },
    {
     "name": "stdout",
     "output_type": "stream",
     "text": [
      "EarlyStopping counter: 32 out of 100\n"
     ]
    },
    {
     "name": "stderr",
     "output_type": "stream",
     "text": [
      "Adversarial Debiasing Training Epoch:  82%|\u001b[32m████████▏ \u001b[0m| 409/500 [18:29<03:22,  2.23s/it, accADV=0.627, accCLF=0.803, lossADV=0.661, lossCLF=0.481]"
     ]
    },
    {
     "name": "stdout",
     "output_type": "stream",
     "text": [
      "EarlyStopping counter: 33 out of 100\n"
     ]
    },
    {
     "name": "stderr",
     "output_type": "stream",
     "text": [
      "Adversarial Debiasing Training Epoch:  82%|\u001b[32m████████▏ \u001b[0m| 410/500 [18:30<03:06,  2.08s/it, accADV=0.697, accCLF=0.768, lossADV=0.609, lossCLF=0.558]"
     ]
    },
    {
     "name": "stdout",
     "output_type": "stream",
     "text": [
      "EarlyStopping counter: 34 out of 100\n"
     ]
    },
    {
     "name": "stderr",
     "output_type": "stream",
     "text": [
      "Adversarial Debiasing Training Epoch:  82%|\u001b[32m████████▏ \u001b[0m| 411/500 [18:32<02:56,  1.98s/it, accADV=0.658, accCLF=0.795, lossADV=0.639, lossCLF=0.462]"
     ]
    },
    {
     "name": "stdout",
     "output_type": "stream",
     "text": [
      "EarlyStopping counter: 35 out of 100\n"
     ]
    },
    {
     "name": "stderr",
     "output_type": "stream",
     "text": [
      "Adversarial Debiasing Training Epoch:  82%|\u001b[32m████████▏ \u001b[0m| 412/500 [18:34<02:44,  1.87s/it, accADV=0.707, accCLF=0.758, lossADV=0.61, lossCLF=0.483] "
     ]
    },
    {
     "name": "stdout",
     "output_type": "stream",
     "text": [
      "EarlyStopping counter: 36 out of 100\n"
     ]
    },
    {
     "name": "stderr",
     "output_type": "stream",
     "text": [
      "Adversarial Debiasing Training Epoch:  83%|\u001b[32m████████▎ \u001b[0m| 413/500 [18:36<02:41,  1.86s/it, accADV=0.664, accCLF=0.77, lossADV=0.631, lossCLF=0.498] "
     ]
    },
    {
     "name": "stdout",
     "output_type": "stream",
     "text": [
      "EarlyStopping counter: 37 out of 100\n"
     ]
    },
    {
     "name": "stderr",
     "output_type": "stream",
     "text": [
      "Adversarial Debiasing Training Epoch:  83%|\u001b[32m████████▎ \u001b[0m| 414/500 [18:38<02:35,  1.80s/it, accADV=0.662, accCLF=0.736, lossADV=0.635, lossCLF=0.551]"
     ]
    },
    {
     "name": "stdout",
     "output_type": "stream",
     "text": [
      "EarlyStopping counter: 38 out of 100\n"
     ]
    },
    {
     "name": "stderr",
     "output_type": "stream",
     "text": [
      "Adversarial Debiasing Training Epoch:  83%|\u001b[32m████████▎ \u001b[0m| 415/500 [18:43<03:14,  2.28s/it, accADV=0.672, accCLF=0.75, lossADV=0.639, lossCLF=0.529] "
     ]
    },
    {
     "name": "stdout",
     "output_type": "stream",
     "text": [
      "EarlyStopping counter: 39 out of 100\n"
     ]
    },
    {
     "name": "stderr",
     "output_type": "stream",
     "text": [
      "Adversarial Debiasing Training Epoch:  83%|\u001b[32m████████▎ \u001b[0m| 416/500 [18:49<04:55,  3.52s/it, accADV=0.666, accCLF=0.766, lossADV=0.632, lossCLF=0.551]"
     ]
    },
    {
     "name": "stdout",
     "output_type": "stream",
     "text": [
      "EarlyStopping counter: 40 out of 100\n"
     ]
    },
    {
     "name": "stderr",
     "output_type": "stream",
     "text": [
      "Adversarial Debiasing Training Epoch:  83%|\u001b[32m████████▎ \u001b[0m| 417/500 [18:55<05:45,  4.16s/it, accADV=0.689, accCLF=0.783, lossADV=0.623, lossCLF=0.454]"
     ]
    },
    {
     "name": "stdout",
     "output_type": "stream",
     "text": [
      "EarlyStopping counter: 41 out of 100\n"
     ]
    },
    {
     "name": "stderr",
     "output_type": "stream",
     "text": [
      "Adversarial Debiasing Training Epoch:  84%|\u001b[32m████████▎ \u001b[0m| 418/500 [19:00<06:10,  4.52s/it, accADV=0.67, accCLF=0.793, lossADV=0.641, lossCLF=0.48]  "
     ]
    },
    {
     "name": "stdout",
     "output_type": "stream",
     "text": [
      "EarlyStopping counter: 42 out of 100\n"
     ]
    },
    {
     "name": "stderr",
     "output_type": "stream",
     "text": [
      "Adversarial Debiasing Training Epoch:  84%|\u001b[32m████████▍ \u001b[0m| 419/500 [19:06<06:35,  4.88s/it, accADV=0.668, accCLF=0.779, lossADV=0.639, lossCLF=0.434]"
     ]
    },
    {
     "name": "stdout",
     "output_type": "stream",
     "text": [
      "EarlyStopping counter: 43 out of 100\n"
     ]
    },
    {
     "name": "stderr",
     "output_type": "stream",
     "text": [
      "Adversarial Debiasing Training Epoch:  84%|\u001b[32m████████▍ \u001b[0m| 420/500 [19:09<06:35,  4.94s/it, accADV=0.664, accCLF=0.758, lossADV=0.639, lossCLF=0.564]"
     ]
    },
    {
     "name": "stdout",
     "output_type": "stream",
     "text": [
      "EarlyStopping counter: 44 out of 100\n"
     ]
    },
    {
     "name": "stderr",
     "output_type": "stream",
     "text": [
      "Adversarial Debiasing Training Epoch:  84%|\u001b[32m████████▍ \u001b[0m| 421/500 [19:11<05:13,  3.96s/it, accADV=0.682, accCLF=0.775, lossADV=0.634, lossCLF=0.515]"
     ]
    },
    {
     "name": "stdout",
     "output_type": "stream",
     "text": [
      "EarlyStopping counter: 45 out of 100\n"
     ]
    },
    {
     "name": "stderr",
     "output_type": "stream",
     "text": [
      "Adversarial Debiasing Training Epoch:  84%|\u001b[32m████████▍ \u001b[0m| 422/500 [19:12<04:15,  3.28s/it, accADV=0.664, accCLF=0.764, lossADV=0.639, lossCLF=0.558]"
     ]
    },
    {
     "name": "stdout",
     "output_type": "stream",
     "text": [
      "EarlyStopping counter: 46 out of 100\n"
     ]
    },
    {
     "name": "stderr",
     "output_type": "stream",
     "text": [
      "Adversarial Debiasing Training Epoch:  85%|\u001b[32m████████▍ \u001b[0m| 423/500 [19:14<03:34,  2.79s/it, accADV=0.646, accCLF=0.746, lossADV=0.655, lossCLF=0.57] "
     ]
    },
    {
     "name": "stdout",
     "output_type": "stream",
     "text": [
      "EarlyStopping counter: 47 out of 100\n"
     ]
    },
    {
     "name": "stderr",
     "output_type": "stream",
     "text": [
      "Adversarial Debiasing Training Epoch:  85%|\u001b[32m████████▍ \u001b[0m| 424/500 [19:16<03:10,  2.51s/it, accADV=0.66, accCLF=0.773, lossADV=0.647, lossCLF=0.494] "
     ]
    },
    {
     "name": "stdout",
     "output_type": "stream",
     "text": [
      "EarlyStopping counter: 48 out of 100\n"
     ]
    },
    {
     "name": "stderr",
     "output_type": "stream",
     "text": [
      "Adversarial Debiasing Training Epoch:  85%|\u001b[32m████████▌ \u001b[0m| 425/500 [19:17<02:47,  2.23s/it, accADV=0.709, accCLF=0.771, lossADV=0.608, lossCLF=0.505]"
     ]
    },
    {
     "name": "stdout",
     "output_type": "stream",
     "text": [
      "EarlyStopping counter: 49 out of 100\n"
     ]
    },
    {
     "name": "stderr",
     "output_type": "stream",
     "text": [
      "Adversarial Debiasing Training Epoch:  85%|\u001b[32m████████▌ \u001b[0m| 426/500 [19:19<02:32,  2.06s/it, accADV=0.682, accCLF=0.729, lossADV=0.626, lossCLF=0.636]"
     ]
    },
    {
     "name": "stdout",
     "output_type": "stream",
     "text": [
      "EarlyStopping counter: 50 out of 100\n"
     ]
    },
    {
     "name": "stderr",
     "output_type": "stream",
     "text": [
      "Adversarial Debiasing Training Epoch:  85%|\u001b[32m████████▌ \u001b[0m| 427/500 [19:21<02:27,  2.02s/it, accADV=0.693, accCLF=0.77, lossADV=0.615, lossCLF=0.488] "
     ]
    },
    {
     "name": "stdout",
     "output_type": "stream",
     "text": [
      "EarlyStopping counter: 51 out of 100\n"
     ]
    },
    {
     "name": "stderr",
     "output_type": "stream",
     "text": [
      "Adversarial Debiasing Training Epoch:  86%|\u001b[32m████████▌ \u001b[0m| 428/500 [19:23<02:20,  1.96s/it, accADV=0.715, accCLF=0.74, lossADV=0.608, lossCLF=0.612] "
     ]
    },
    {
     "name": "stdout",
     "output_type": "stream",
     "text": [
      "EarlyStopping counter: 52 out of 100\n"
     ]
    },
    {
     "name": "stderr",
     "output_type": "stream",
     "text": [
      "Adversarial Debiasing Training Epoch:  86%|\u001b[32m████████▌ \u001b[0m| 429/500 [19:24<02:16,  1.92s/it, accADV=0.686, accCLF=0.76, lossADV=0.621, lossCLF=0.513] "
     ]
    },
    {
     "name": "stdout",
     "output_type": "stream",
     "text": [
      "EarlyStopping counter: 53 out of 100\n"
     ]
    },
    {
     "name": "stderr",
     "output_type": "stream",
     "text": [
      "Adversarial Debiasing Training Epoch:  86%|\u001b[32m████████▌ \u001b[0m| 430/500 [19:26<02:10,  1.87s/it, accADV=0.701, accCLF=0.764, lossADV=0.612, lossCLF=0.517]"
     ]
    },
    {
     "name": "stdout",
     "output_type": "stream",
     "text": [
      "EarlyStopping counter: 54 out of 100\n"
     ]
    },
    {
     "name": "stderr",
     "output_type": "stream",
     "text": [
      "Adversarial Debiasing Training Epoch:  86%|\u001b[32m████████▌ \u001b[0m| 431/500 [19:28<02:04,  1.80s/it, accADV=0.682, accCLF=0.773, lossADV=0.629, lossCLF=0.497]"
     ]
    },
    {
     "name": "stdout",
     "output_type": "stream",
     "text": [
      "EarlyStopping counter: 55 out of 100\n"
     ]
    },
    {
     "name": "stderr",
     "output_type": "stream",
     "text": [
      "Adversarial Debiasing Training Epoch:  86%|\u001b[32m████████▋ \u001b[0m| 432/500 [19:29<02:00,  1.77s/it, accADV=0.641, accCLF=0.766, lossADV=0.657, lossCLF=0.527]"
     ]
    },
    {
     "name": "stdout",
     "output_type": "stream",
     "text": [
      "EarlyStopping counter: 56 out of 100\n"
     ]
    },
    {
     "name": "stderr",
     "output_type": "stream",
     "text": [
      "Adversarial Debiasing Training Epoch:  87%|\u001b[32m████████▋ \u001b[0m| 433/500 [19:31<01:58,  1.77s/it, accADV=0.68, accCLF=0.748, lossADV=0.622, lossCLF=0.512] "
     ]
    },
    {
     "name": "stdout",
     "output_type": "stream",
     "text": [
      "EarlyStopping counter: 57 out of 100\n"
     ]
    },
    {
     "name": "stderr",
     "output_type": "stream",
     "text": [
      "Adversarial Debiasing Training Epoch:  87%|\u001b[32m████████▋ \u001b[0m| 434/500 [19:33<01:56,  1.76s/it, accADV=0.668, accCLF=0.775, lossADV=0.637, lossCLF=0.535]"
     ]
    },
    {
     "name": "stdout",
     "output_type": "stream",
     "text": [
      "EarlyStopping counter: 58 out of 100\n"
     ]
    },
    {
     "name": "stderr",
     "output_type": "stream",
     "text": [
      "Adversarial Debiasing Training Epoch:  87%|\u001b[32m████████▋ \u001b[0m| 435/500 [19:34<01:53,  1.75s/it, accADV=0.695, accCLF=0.727, lossADV=0.615, lossCLF=0.612]"
     ]
    },
    {
     "name": "stdout",
     "output_type": "stream",
     "text": [
      "EarlyStopping counter: 59 out of 100\n"
     ]
    },
    {
     "name": "stderr",
     "output_type": "stream",
     "text": [
      "Adversarial Debiasing Training Epoch:  87%|\u001b[32m████████▋ \u001b[0m| 436/500 [19:36<01:51,  1.75s/it, accADV=0.695, accCLF=0.766, lossADV=0.616, lossCLF=0.561]"
     ]
    },
    {
     "name": "stdout",
     "output_type": "stream",
     "text": [
      "EarlyStopping counter: 60 out of 100\n"
     ]
    },
    {
     "name": "stderr",
     "output_type": "stream",
     "text": [
      "Adversarial Debiasing Training Epoch:  87%|\u001b[32m████████▋ \u001b[0m| 437/500 [19:38<01:50,  1.75s/it, accADV=0.65, accCLF=0.727, lossADV=0.654, lossCLF=0.673] "
     ]
    },
    {
     "name": "stdout",
     "output_type": "stream",
     "text": [
      "EarlyStopping counter: 61 out of 100\n"
     ]
    },
    {
     "name": "stderr",
     "output_type": "stream",
     "text": [
      "Adversarial Debiasing Training Epoch:  88%|\u001b[32m████████▊ \u001b[0m| 438/500 [19:40<01:48,  1.75s/it, accADV=0.674, accCLF=0.725, lossADV=0.641, lossCLF=0.6]  "
     ]
    },
    {
     "name": "stdout",
     "output_type": "stream",
     "text": [
      "EarlyStopping counter: 62 out of 100\n"
     ]
    },
    {
     "name": "stderr",
     "output_type": "stream",
     "text": [
      "Adversarial Debiasing Training Epoch:  88%|\u001b[32m████████▊ \u001b[0m| 439/500 [19:41<01:47,  1.77s/it, accADV=0.688, accCLF=0.703, lossADV=0.62, lossCLF=0.666] "
     ]
    },
    {
     "name": "stdout",
     "output_type": "stream",
     "text": [
      "EarlyStopping counter: 63 out of 100\n"
     ]
    },
    {
     "name": "stderr",
     "output_type": "stream",
     "text": [
      "Adversarial Debiasing Training Epoch:  88%|\u001b[32m████████▊ \u001b[0m| 440/500 [19:43<01:47,  1.79s/it, accADV=0.691, accCLF=0.709, lossADV=0.619, lossCLF=0.655]"
     ]
    },
    {
     "name": "stdout",
     "output_type": "stream",
     "text": [
      "EarlyStopping counter: 64 out of 100\n"
     ]
    },
    {
     "name": "stderr",
     "output_type": "stream",
     "text": [
      "Adversarial Debiasing Training Epoch:  88%|\u001b[32m████████▊ \u001b[0m| 441/500 [19:49<02:47,  2.84s/it, accADV=0.699, accCLF=0.734, lossADV=0.616, lossCLF=0.582]"
     ]
    },
    {
     "name": "stdout",
     "output_type": "stream",
     "text": [
      "EarlyStopping counter: 65 out of 100\n"
     ]
    },
    {
     "name": "stderr",
     "output_type": "stream",
     "text": [
      "Adversarial Debiasing Training Epoch:  88%|\u001b[32m████████▊ \u001b[0m| 442/500 [19:55<03:46,  3.91s/it, accADV=0.705, accCLF=0.756, lossADV=0.611, lossCLF=0.545]"
     ]
    },
    {
     "name": "stdout",
     "output_type": "stream",
     "text": [
      "EarlyStopping counter: 66 out of 100\n"
     ]
    },
    {
     "name": "stderr",
     "output_type": "stream",
     "text": [
      "Adversarial Debiasing Training Epoch:  89%|\u001b[32m████████▊ \u001b[0m| 443/500 [19:57<03:14,  3.41s/it, accADV=0.652, accCLF=0.744, lossADV=0.65, lossCLF=0.561] "
     ]
    },
    {
     "name": "stdout",
     "output_type": "stream",
     "text": [
      "EarlyStopping counter: 67 out of 100\n"
     ]
    },
    {
     "name": "stderr",
     "output_type": "stream",
     "text": [
      "Adversarial Debiasing Training Epoch:  89%|\u001b[32m████████▉ \u001b[0m| 444/500 [19:59<02:40,  2.86s/it, accADV=0.691, accCLF=0.732, lossADV=0.615, lossCLF=0.552]"
     ]
    },
    {
     "name": "stdout",
     "output_type": "stream",
     "text": [
      "EarlyStopping counter: 68 out of 100\n"
     ]
    },
    {
     "name": "stderr",
     "output_type": "stream",
     "text": [
      "Adversarial Debiasing Training Epoch:  89%|\u001b[32m████████▉ \u001b[0m| 445/500 [20:00<02:15,  2.47s/it, accADV=0.68, accCLF=0.713, lossADV=0.624, lossCLF=0.618] "
     ]
    },
    {
     "name": "stdout",
     "output_type": "stream",
     "text": [
      "EarlyStopping counter: 69 out of 100\n"
     ]
    },
    {
     "name": "stderr",
     "output_type": "stream",
     "text": [
      "Adversarial Debiasing Training Epoch:  89%|\u001b[32m████████▉ \u001b[0m| 446/500 [20:02<02:00,  2.23s/it, accADV=0.691, accCLF=0.738, lossADV=0.628, lossCLF=0.54] "
     ]
    },
    {
     "name": "stdout",
     "output_type": "stream",
     "text": [
      "EarlyStopping counter: 70 out of 100\n"
     ]
    },
    {
     "name": "stderr",
     "output_type": "stream",
     "text": [
      "Adversarial Debiasing Training Epoch:  89%|\u001b[32m████████▉ \u001b[0m| 447/500 [20:03<01:48,  2.06s/it, accADV=0.668, accCLF=0.67, lossADV=0.634, lossCLF=0.651] "
     ]
    },
    {
     "name": "stdout",
     "output_type": "stream",
     "text": [
      "EarlyStopping counter: 71 out of 100\n"
     ]
    },
    {
     "name": "stderr",
     "output_type": "stream",
     "text": [
      "Adversarial Debiasing Training Epoch:  90%|\u001b[32m████████▉ \u001b[0m| 448/500 [20:05<01:44,  2.00s/it, accADV=0.682, accCLF=0.748, lossADV=0.637, lossCLF=0.535]"
     ]
    },
    {
     "name": "stdout",
     "output_type": "stream",
     "text": [
      "EarlyStopping counter: 72 out of 100\n"
     ]
    },
    {
     "name": "stderr",
     "output_type": "stream",
     "text": [
      "Adversarial Debiasing Training Epoch:  90%|\u001b[32m████████▉ \u001b[0m| 449/500 [20:07<01:37,  1.91s/it, accADV=0.646, accCLF=0.713, lossADV=0.656, lossCLF=0.604]"
     ]
    },
    {
     "name": "stdout",
     "output_type": "stream",
     "text": [
      "EarlyStopping counter: 73 out of 100\n"
     ]
    },
    {
     "name": "stderr",
     "output_type": "stream",
     "text": [
      "Adversarial Debiasing Training Epoch:  90%|\u001b[32m████████▉ \u001b[0m| 449/500 [20:09<01:37,  1.91s/it, accADV=0.65, accCLF=0.777, lossADV=0.653, lossCLF=0.414] "
     ]
    },
    {
     "name": "stdout",
     "output_type": "stream",
     "text": [
      "EarlyStopping counter: 74 out of 100\n"
     ]
    },
    {
     "name": "stderr",
     "output_type": "stream",
     "text": [
      "Adversarial Debiasing Training Epoch:  90%|\u001b[32m█████████ \u001b[0m| 450/500 [20:11<01:42,  2.04s/it, accADV=0.703, accCLF=0.762, lossADV=0.613, lossCLF=0.536]"
     ]
    },
    {
     "name": "stdout",
     "output_type": "stream",
     "text": [
      "EarlyStopping counter: 75 out of 100\n"
     ]
    },
    {
     "name": "stderr",
     "output_type": "stream",
     "text": [
      "Adversarial Debiasing Training Epoch:  90%|\u001b[32m█████████ \u001b[0m| 451/500 [20:12<01:37,  1.99s/it, accADV=0.701, accCLF=0.777, lossADV=0.605, lossCLF=0.516]"
     ]
    },
    {
     "name": "stdout",
     "output_type": "stream",
     "text": [
      "EarlyStopping counter: 76 out of 100\n"
     ]
    },
    {
     "name": "stderr",
     "output_type": "stream",
     "text": [
      "Adversarial Debiasing Training Epoch:  90%|\u001b[32m█████████ \u001b[0m| 452/500 [20:16<01:33,  1.94s/it, accADV=0.666, accCLF=0.711, lossADV=0.639, lossCLF=0.649]"
     ]
    },
    {
     "name": "stdout",
     "output_type": "stream",
     "text": [
      "EarlyStopping counter: 77 out of 100\n"
     ]
    },
    {
     "name": "stderr",
     "output_type": "stream",
     "text": [
      "Adversarial Debiasing Training Epoch:  91%|\u001b[32m█████████ \u001b[0m| 453/500 [20:23<02:22,  3.03s/it, accADV=0.658, accCLF=0.748, lossADV=0.646, lossCLF=0.595]"
     ]
    },
    {
     "name": "stdout",
     "output_type": "stream",
     "text": [
      "EarlyStopping counter: 78 out of 100\n"
     ]
    },
    {
     "name": "stderr",
     "output_type": "stream",
     "text": [
      "Adversarial Debiasing Training Epoch:  91%|\u001b[32m█████████ \u001b[0m| 454/500 [20:29<03:05,  4.03s/it, accADV=0.684, accCLF=0.756, lossADV=0.627, lossCLF=0.528]"
     ]
    },
    {
     "name": "stdout",
     "output_type": "stream",
     "text": [
      "EarlyStopping counter: 79 out of 100\n"
     ]
    },
    {
     "name": "stderr",
     "output_type": "stream",
     "text": [
      "Adversarial Debiasing Training Epoch:  91%|\u001b[32m█████████ \u001b[0m| 455/500 [20:35<03:33,  4.75s/it, accADV=0.689, accCLF=0.764, lossADV=0.621, lossCLF=0.517]"
     ]
    },
    {
     "name": "stdout",
     "output_type": "stream",
     "text": [
      "EarlyStopping counter: 80 out of 100\n"
     ]
    },
    {
     "name": "stderr",
     "output_type": "stream",
     "text": [
      "Adversarial Debiasing Training Epoch:  91%|\u001b[32m█████████ \u001b[0m| 456/500 [20:40<03:42,  5.05s/it, accADV=0.646, accCLF=0.744, lossADV=0.65, lossCLF=0.575] "
     ]
    },
    {
     "name": "stdout",
     "output_type": "stream",
     "text": [
      "EarlyStopping counter: 81 out of 100\n"
     ]
    },
    {
     "name": "stderr",
     "output_type": "stream",
     "text": [
      "Adversarial Debiasing Training Epoch:  91%|\u001b[32m█████████▏\u001b[0m| 457/500 [20:44<03:40,  5.13s/it, accADV=0.67, accCLF=0.752, lossADV=0.634, lossCLF=0.523] "
     ]
    },
    {
     "name": "stdout",
     "output_type": "stream",
     "text": [
      "EarlyStopping counter: 82 out of 100\n"
     ]
    },
    {
     "name": "stderr",
     "output_type": "stream",
     "text": [
      "Adversarial Debiasing Training Epoch:  92%|\u001b[32m█████████▏\u001b[0m| 458/500 [20:45<02:56,  4.20s/it, accADV=0.641, accCLF=0.744, lossADV=0.651, lossCLF=0.512]"
     ]
    },
    {
     "name": "stdout",
     "output_type": "stream",
     "text": [
      "EarlyStopping counter: 83 out of 100\n"
     ]
    },
    {
     "name": "stderr",
     "output_type": "stream",
     "text": [
      "Adversarial Debiasing Training Epoch:  92%|\u001b[32m█████████▏\u001b[0m| 459/500 [20:47<02:20,  3.43s/it, accADV=0.688, accCLF=0.773, lossADV=0.617, lossCLF=0.52] "
     ]
    },
    {
     "name": "stdout",
     "output_type": "stream",
     "text": [
      "EarlyStopping counter: 84 out of 100\n"
     ]
    },
    {
     "name": "stderr",
     "output_type": "stream",
     "text": [
      "Adversarial Debiasing Training Epoch:  92%|\u001b[32m█████████▏\u001b[0m| 460/500 [20:49<01:56,  2.92s/it, accADV=0.654, accCLF=0.742, lossADV=0.645, lossCLF=0.567]"
     ]
    },
    {
     "name": "stdout",
     "output_type": "stream",
     "text": [
      "EarlyStopping counter: 85 out of 100\n"
     ]
    },
    {
     "name": "stderr",
     "output_type": "stream",
     "text": [
      "Adversarial Debiasing Training Epoch:  92%|\u001b[32m█████████▏\u001b[0m| 461/500 [20:51<01:41,  2.61s/it, accADV=0.664, accCLF=0.727, lossADV=0.637, lossCLF=0.603]"
     ]
    },
    {
     "name": "stdout",
     "output_type": "stream",
     "text": [
      "EarlyStopping counter: 86 out of 100\n"
     ]
    },
    {
     "name": "stderr",
     "output_type": "stream",
     "text": [
      "Adversarial Debiasing Training Epoch:  92%|\u001b[32m█████████▏\u001b[0m| 462/500 [20:53<01:30,  2.38s/it, accADV=0.666, accCLF=0.779, lossADV=0.641, lossCLF=0.451]"
     ]
    },
    {
     "name": "stdout",
     "output_type": "stream",
     "text": [
      "EarlyStopping counter: 87 out of 100\n"
     ]
    },
    {
     "name": "stderr",
     "output_type": "stream",
     "text": [
      "Adversarial Debiasing Training Epoch:  93%|\u001b[32m█████████▎\u001b[0m| 463/500 [20:54<01:20,  2.18s/it, accADV=0.664, accCLF=0.768, lossADV=0.637, lossCLF=0.584]"
     ]
    },
    {
     "name": "stdout",
     "output_type": "stream",
     "text": [
      "EarlyStopping counter: 88 out of 100\n"
     ]
    },
    {
     "name": "stderr",
     "output_type": "stream",
     "text": [
      "Adversarial Debiasing Training Epoch:  93%|\u001b[32m█████████▎\u001b[0m| 464/500 [20:56<01:13,  2.05s/it, accADV=0.668, accCLF=0.766, lossADV=0.646, lossCLF=0.503]"
     ]
    },
    {
     "name": "stdout",
     "output_type": "stream",
     "text": [
      "EarlyStopping counter: 89 out of 100\n"
     ]
    },
    {
     "name": "stderr",
     "output_type": "stream",
     "text": [
      "Adversarial Debiasing Training Epoch:  93%|\u001b[32m█████████▎\u001b[0m| 465/500 [20:58<01:08,  1.94s/it, accADV=0.678, accCLF=0.756, lossADV=0.632, lossCLF=0.5]  "
     ]
    },
    {
     "name": "stdout",
     "output_type": "stream",
     "text": [
      "EarlyStopping counter: 90 out of 100\n"
     ]
    },
    {
     "name": "stderr",
     "output_type": "stream",
     "text": [
      "Adversarial Debiasing Training Epoch:  93%|\u001b[32m█████████▎\u001b[0m| 466/500 [20:59<01:03,  1.86s/it, accADV=0.691, accCLF=0.75, lossADV=0.623, lossCLF=0.537] "
     ]
    },
    {
     "name": "stdout",
     "output_type": "stream",
     "text": [
      "EarlyStopping counter: 91 out of 100\n"
     ]
    },
    {
     "name": "stderr",
     "output_type": "stream",
     "text": [
      "Adversarial Debiasing Training Epoch:  93%|\u001b[32m█████████▎\u001b[0m| 467/500 [21:02<01:00,  1.84s/it, accADV=0.672, accCLF=0.771, lossADV=0.644, lossCLF=0.509]"
     ]
    },
    {
     "name": "stdout",
     "output_type": "stream",
     "text": [
      "EarlyStopping counter: 92 out of 100\n"
     ]
    },
    {
     "name": "stderr",
     "output_type": "stream",
     "text": [
      "Adversarial Debiasing Training Epoch:  94%|\u001b[32m█████████▎\u001b[0m| 468/500 [21:08<01:31,  2.85s/it, accADV=0.678, accCLF=0.76, lossADV=0.628, lossCLF=0.55]  "
     ]
    },
    {
     "name": "stdout",
     "output_type": "stream",
     "text": [
      "EarlyStopping counter: 93 out of 100\n"
     ]
    },
    {
     "name": "stderr",
     "output_type": "stream",
     "text": [
      "Adversarial Debiasing Training Epoch:  94%|\u001b[32m█████████▍\u001b[0m| 469/500 [21:14<01:55,  3.71s/it, accADV=0.689, accCLF=0.768, lossADV=0.624, lossCLF=0.544]"
     ]
    },
    {
     "name": "stdout",
     "output_type": "stream",
     "text": [
      "EarlyStopping counter: 94 out of 100\n"
     ]
    },
    {
     "name": "stderr",
     "output_type": "stream",
     "text": [
      "Adversarial Debiasing Training Epoch:  94%|\u001b[32m█████████▍\u001b[0m| 470/500 [21:20<02:09,  4.31s/it, accADV=0.664, accCLF=0.752, lossADV=0.637, lossCLF=0.537]"
     ]
    },
    {
     "name": "stdout",
     "output_type": "stream",
     "text": [
      "EarlyStopping counter: 95 out of 100\n"
     ]
    },
    {
     "name": "stderr",
     "output_type": "stream",
     "text": [
      "Adversarial Debiasing Training Epoch:  94%|\u001b[32m█████████▍\u001b[0m| 471/500 [21:25<02:18,  4.78s/it, accADV=0.678, accCLF=0.768, lossADV=0.632, lossCLF=0.563]"
     ]
    },
    {
     "name": "stdout",
     "output_type": "stream",
     "text": [
      "EarlyStopping counter: 96 out of 100\n"
     ]
    },
    {
     "name": "stderr",
     "output_type": "stream",
     "text": [
      "Adversarial Debiasing Training Epoch:  94%|\u001b[32m█████████▍\u001b[0m| 472/500 [21:30<02:17,  4.92s/it, accADV=0.66, accCLF=0.756, lossADV=0.637, lossCLF=0.486] "
     ]
    },
    {
     "name": "stdout",
     "output_type": "stream",
     "text": [
      "EarlyStopping counter: 97 out of 100\n"
     ]
    },
    {
     "name": "stderr",
     "output_type": "stream",
     "text": [
      "Adversarial Debiasing Training Epoch:  95%|\u001b[32m█████████▍\u001b[0m| 473/500 [21:34<02:12,  4.93s/it, accADV=0.656, accCLF=0.719, lossADV=0.644, lossCLF=0.675]"
     ]
    },
    {
     "name": "stdout",
     "output_type": "stream",
     "text": [
      "EarlyStopping counter: 98 out of 100\n"
     ]
    },
    {
     "name": "stderr",
     "output_type": "stream",
     "text": [
      "Adversarial Debiasing Training Epoch:  95%|\u001b[32m█████████▍\u001b[0m| 474/500 [21:35<01:43,  4.00s/it, accADV=0.682, accCLF=0.73, lossADV=0.624, lossCLF=0.565] "
     ]
    },
    {
     "name": "stdout",
     "output_type": "stream",
     "text": [
      "EarlyStopping counter: 99 out of 100\n"
     ]
    },
    {
     "name": "stderr",
     "output_type": "stream",
     "text": [
      "Adversarial Debiasing Training Epoch:  95%|\u001b[32m█████████▌\u001b[0m| 475/500 [21:37<01:22,  3.30s/it, accADV=0.66, accCLF=0.746, lossADV=0.645, lossCLF=0.517] "
     ]
    },
    {
     "name": "stdout",
     "output_type": "stream",
     "text": [
      "EarlyStopping counter: 100 out of 100\n"
     ]
    },
    {
     "name": "stderr",
     "output_type": "stream",
     "text": [
      "Adversarial Debiasing Training Epoch:  95%|\u001b[32m█████████▌\u001b[0m| 476/500 [21:38<01:06,  2.77s/it, accADV=0.693, accCLF=0.76, lossADV=0.615, lossCLF=0.481] "
     ]
    },
    {
     "name": "stdout",
     "output_type": "stream",
     "text": [
      "EarlyStopping counter: 101 out of 100\n"
     ]
    },
    {
     "name": "stderr",
     "output_type": "stream",
     "text": [
      "Adversarial Debiasing Training Epoch:  95%|\u001b[32m█████████▌\u001b[0m| 477/500 [21:40<00:55,  2.43s/it, accADV=0.717, accCLF=0.75, lossADV=0.601, lossCLF=0.559] "
     ]
    },
    {
     "name": "stdout",
     "output_type": "stream",
     "text": [
      "EarlyStopping counter: 102 out of 100\n"
     ]
    },
    {
     "name": "stderr",
     "output_type": "stream",
     "text": [
      "Adversarial Debiasing Training Epoch:  96%|\u001b[32m█████████▌\u001b[0m| 478/500 [21:42<00:48,  2.20s/it, accADV=0.66, accCLF=0.744, lossADV=0.646, lossCLF=0.551] "
     ]
    },
    {
     "name": "stdout",
     "output_type": "stream",
     "text": [
      "EarlyStopping counter: 103 out of 100\n"
     ]
    },
    {
     "name": "stderr",
     "output_type": "stream",
     "text": [
      "Adversarial Debiasing Training Epoch:  96%|\u001b[32m█████████▌\u001b[0m| 479/500 [21:43<00:42,  2.03s/it, accADV=0.65, accCLF=0.736, lossADV=0.65, lossCLF=0.541]  "
     ]
    },
    {
     "name": "stdout",
     "output_type": "stream",
     "text": [
      "EarlyStopping counter: 104 out of 100\n"
     ]
    },
    {
     "name": "stderr",
     "output_type": "stream",
     "text": [
      "Adversarial Debiasing Training Epoch:  96%|\u001b[32m█████████▌\u001b[0m| 480/500 [21:45<00:37,  1.90s/it, accADV=0.65, accCLF=0.758, lossADV=0.648, lossCLF=0.543] "
     ]
    },
    {
     "name": "stdout",
     "output_type": "stream",
     "text": [
      "EarlyStopping counter: 105 out of 100\n"
     ]
    },
    {
     "name": "stderr",
     "output_type": "stream",
     "text": [
      "Adversarial Debiasing Training Epoch:  96%|\u001b[32m█████████▌\u001b[0m| 481/500 [21:46<00:34,  1.81s/it, accADV=0.666, accCLF=0.723, lossADV=0.635, lossCLF=0.617]"
     ]
    },
    {
     "name": "stdout",
     "output_type": "stream",
     "text": [
      "EarlyStopping counter: 106 out of 100\n"
     ]
    },
    {
     "name": "stderr",
     "output_type": "stream",
     "text": [
      "Adversarial Debiasing Training Epoch:  96%|\u001b[32m█████████▋\u001b[0m| 482/500 [21:48<00:32,  1.78s/it, accADV=0.684, accCLF=0.727, lossADV=0.628, lossCLF=0.585]"
     ]
    },
    {
     "name": "stdout",
     "output_type": "stream",
     "text": [
      "EarlyStopping counter: 107 out of 100\n"
     ]
    },
    {
     "name": "stderr",
     "output_type": "stream",
     "text": [
      "Adversarial Debiasing Training Epoch:  97%|\u001b[32m█████████▋\u001b[0m| 483/500 [21:50<00:29,  1.75s/it, accADV=0.65, accCLF=0.752, lossADV=0.646, lossCLF=0.565] "
     ]
    },
    {
     "name": "stdout",
     "output_type": "stream",
     "text": [
      "EarlyStopping counter: 108 out of 100\n"
     ]
    },
    {
     "name": "stderr",
     "output_type": "stream",
     "text": [
      "Adversarial Debiasing Training Epoch:  97%|\u001b[32m█████████▋\u001b[0m| 484/500 [21:51<00:27,  1.72s/it, accADV=0.656, accCLF=0.756, lossADV=0.646, lossCLF=0.568]"
     ]
    },
    {
     "name": "stdout",
     "output_type": "stream",
     "text": [
      "EarlyStopping counter: 109 out of 100\n"
     ]
    },
    {
     "name": "stderr",
     "output_type": "stream",
     "text": [
      "Adversarial Debiasing Training Epoch:  97%|\u001b[32m█████████▋\u001b[0m| 485/500 [21:53<00:25,  1.71s/it, accADV=0.701, accCLF=0.73, lossADV=0.618, lossCLF=0.556] "
     ]
    },
    {
     "name": "stdout",
     "output_type": "stream",
     "text": [
      "EarlyStopping counter: 110 out of 100\n"
     ]
    },
    {
     "name": "stderr",
     "output_type": "stream",
     "text": [
      "Adversarial Debiasing Training Epoch:  97%|\u001b[32m█████████▋\u001b[0m| 486/500 [21:55<00:23,  1.68s/it, accADV=0.658, accCLF=0.771, lossADV=0.648, lossCLF=0.537]"
     ]
    },
    {
     "name": "stdout",
     "output_type": "stream",
     "text": [
      "EarlyStopping counter: 111 out of 100\n"
     ]
    },
    {
     "name": "stderr",
     "output_type": "stream",
     "text": [
      "Adversarial Debiasing Training Epoch:  97%|\u001b[32m█████████▋\u001b[0m| 487/500 [21:56<00:21,  1.68s/it, accADV=0.709, accCLF=0.703, lossADV=0.603, lossCLF=0.655]"
     ]
    },
    {
     "name": "stdout",
     "output_type": "stream",
     "text": [
      "EarlyStopping counter: 112 out of 100\n"
     ]
    },
    {
     "name": "stderr",
     "output_type": "stream",
     "text": [
      "Adversarial Debiasing Training Epoch:  98%|\u001b[32m█████████▊\u001b[0m| 488/500 [21:58<00:20,  1.69s/it, accADV=0.658, accCLF=0.713, lossADV=0.643, lossCLF=0.664]"
     ]
    },
    {
     "name": "stdout",
     "output_type": "stream",
     "text": [
      "EarlyStopping counter: 113 out of 100\n"
     ]
    },
    {
     "name": "stderr",
     "output_type": "stream",
     "text": [
      "Adversarial Debiasing Training Epoch:  98%|\u001b[32m█████████▊\u001b[0m| 489/500 [22:00<00:18,  1.71s/it, accADV=0.689, accCLF=0.746, lossADV=0.619, lossCLF=0.526]"
     ]
    },
    {
     "name": "stdout",
     "output_type": "stream",
     "text": [
      "EarlyStopping counter: 114 out of 100\n"
     ]
    },
    {
     "name": "stderr",
     "output_type": "stream",
     "text": [
      "Adversarial Debiasing Training Epoch:  98%|\u001b[32m█████████▊\u001b[0m| 490/500 [22:01<00:17,  1.71s/it, accADV=0.658, accCLF=0.771, lossADV=0.636, lossCLF=0.551]"
     ]
    },
    {
     "name": "stdout",
     "output_type": "stream",
     "text": [
      "EarlyStopping counter: 115 out of 100\n"
     ]
    },
    {
     "name": "stderr",
     "output_type": "stream",
     "text": [
      "Adversarial Debiasing Training Epoch:  98%|\u001b[32m█████████▊\u001b[0m| 491/500 [22:03<00:15,  1.73s/it, accADV=0.682, accCLF=0.736, lossADV=0.628, lossCLF=0.587]"
     ]
    },
    {
     "name": "stdout",
     "output_type": "stream",
     "text": [
      "EarlyStopping counter: 116 out of 100\n"
     ]
    },
    {
     "name": "stderr",
     "output_type": "stream",
     "text": [
      "Adversarial Debiasing Training Epoch:  98%|\u001b[32m█████████▊\u001b[0m| 492/500 [22:05<00:13,  1.75s/it, accADV=0.648, accCLF=0.768, lossADV=0.65, lossCLF=0.56]  "
     ]
    },
    {
     "name": "stdout",
     "output_type": "stream",
     "text": [
      "EarlyStopping counter: 117 out of 100\n"
     ]
    },
    {
     "name": "stderr",
     "output_type": "stream",
     "text": [
      "Adversarial Debiasing Training Epoch:  99%|\u001b[32m█████████▊\u001b[0m| 493/500 [22:10<00:18,  2.70s/it, accADV=0.654, accCLF=0.725, lossADV=0.642, lossCLF=0.576]"
     ]
    },
    {
     "name": "stdout",
     "output_type": "stream",
     "text": [
      "EarlyStopping counter: 118 out of 100\n"
     ]
    },
    {
     "name": "stderr",
     "output_type": "stream",
     "text": [
      "Adversarial Debiasing Training Epoch:  99%|\u001b[32m█████████▉\u001b[0m| 494/500 [22:17<00:23,  3.96s/it, accADV=0.68, accCLF=0.781, lossADV=0.627, lossCLF=0.516] "
     ]
    },
    {
     "name": "stdout",
     "output_type": "stream",
     "text": [
      "EarlyStopping counter: 119 out of 100\n"
     ]
    },
    {
     "name": "stderr",
     "output_type": "stream",
     "text": [
      "Adversarial Debiasing Training Epoch:  99%|\u001b[32m█████████▉\u001b[0m| 495/500 [22:22<00:20,  4.20s/it, accADV=0.68, accCLF=0.717, lossADV=0.628, lossCLF=0.554] "
     ]
    },
    {
     "name": "stdout",
     "output_type": "stream",
     "text": [
      "EarlyStopping counter: 120 out of 100\n"
     ]
    },
    {
     "name": "stderr",
     "output_type": "stream",
     "text": [
      "Adversarial Debiasing Training Epoch:  99%|\u001b[32m█████████▉\u001b[0m| 496/500 [22:23<00:13,  3.49s/it, accADV=0.68, accCLF=0.721, lossADV=0.626, lossCLF=0.632] "
     ]
    },
    {
     "name": "stdout",
     "output_type": "stream",
     "text": [
      "EarlyStopping counter: 121 out of 100\n"
     ]
    },
    {
     "name": "stderr",
     "output_type": "stream",
     "text": [
      "Adversarial Debiasing Training Epoch:  99%|\u001b[32m█████████▉\u001b[0m| 497/500 [22:25<00:08,  2.90s/it, accADV=0.672, accCLF=0.695, lossADV=0.629, lossCLF=0.661]"
     ]
    },
    {
     "name": "stdout",
     "output_type": "stream",
     "text": [
      "EarlyStopping counter: 122 out of 100\n"
     ]
    },
    {
     "name": "stderr",
     "output_type": "stream",
     "text": [
      "Adversarial Debiasing Training Epoch: 100%|\u001b[32m█████████▉\u001b[0m| 498/500 [22:27<00:05,  2.58s/it, accADV=0.682, accCLF=0.777, lossADV=0.629, lossCLF=0.502]"
     ]
    },
    {
     "name": "stdout",
     "output_type": "stream",
     "text": [
      "EarlyStopping counter: 123 out of 100\n"
     ]
    },
    {
     "name": "stderr",
     "output_type": "stream",
     "text": [
      "Adversarial Debiasing Training Epoch: 100%|\u001b[32m█████████▉\u001b[0m| 499/500 [22:28<00:02,  2.31s/it, accADV=0.65, accCLF=0.738, lossADV=0.649, lossCLF=0.539] "
     ]
    },
    {
     "name": "stdout",
     "output_type": "stream",
     "text": [
      "EarlyStopping counter: 124 out of 100\n"
     ]
    },
    {
     "name": "stderr",
     "output_type": "stream",
     "text": [
      "Adversarial Debiasing Training Epoch: 100%|\u001b[32m█████████▉\u001b[0m| 499/500 [22:30<00:02,  2.31s/it, accADV=0.673, accCLF=0.751, lossADV=0.636, lossCLF=0.457]"
     ]
    },
    {
     "name": "stdout",
     "output_type": "stream",
     "text": [
      "EarlyStopping counter: 125 out of 100\n"
     ]
    },
    {
     "name": "stderr",
     "output_type": "stream",
     "text": [
      "Adversarial Debiasing Training Epoch: 100%|\u001b[32m██████████\u001b[0m| 500/500 [22:31<00:00,  2.70s/it, accADV=0.673, accCLF=0.751, lossADV=0.636, lossCLF=0.457]\n"
     ]
    },
    {
     "name": "stdout",
     "output_type": "stream",
     "text": [
      "========== after train(with debiasing) ==========\n",
      "========== Results on train ==========\n",
      "Grp. 0 - #instance: 8460; #pos. pred: 1045; Acc.: 0.932270\n",
      "Grp. 1 - #instance: 17589; #pos. pred: 954; Acc.: 0.708227\n",
      "Overall acc.: 0.780990; Demographic parity: -0.069284; Equal opportunity: -0.627474; Average odds difference: 0.460904\n",
      "========== Results on test ==========\n",
      "Grp. 0 - #instance: 4147; #pos. pred: 503; Acc.: 0.908850\n",
      "Grp. 1 - #instance: 8514; #pos. pred: 482; Acc.: 0.710947\n",
      "Overall acc.: 0.775768; Demographic parity: -0.064680; Equal opportunity: -0.508801; Average odds difference: 0.439973\n"
     ]
    }
   ],
   "source": [
    "data = fetch_data(\"adult\")\n",
    "print(\"data.x_train.shape: \", data.x_train.shape)\n",
    "print(\"data.x_test.shape: \", data.x_test.shape)\n",
    "origin_evaluator, train_evaluator, test_evaluator = Evaluator(data.s_train, \"origin\"), Evaluator(data.s_train, \"train\"), Evaluator(data.s_test, \"test\")\n",
    "if data.s_val is not None:\n",
    "    val_evaluator = Evaluator(data.s_val, \"val\")\n",
    "\n",
    "n_features, n_classes, n_groups = data.x_train.shape[1], len(np.unique(data.y_train)), len(np.unique(data.s_train))\n",
    "if n_classes == 2:\n",
    "    n_classes = 1\n",
    "if n_groups == 2:\n",
    "    n_groups = 1\n",
    "\n",
    "print(\"========== before train ==========\")\n",
    "origin_res = origin_evaluator(data.y_train, no_train=True)\n",
    "\n",
    "print('\\n========== Starting Training without Mitigation... ==========')\n",
    "clf_no_debias = AdversarialDebiasing(n_features, n_classes, n_groups, num_epochs=500, batch_size=512,\n",
    "                     classifier_num_hidden_units=512, random_state=42, debias=False)\n",
    "\n",
    "loss_list_no_debias, val_list_no_debias, train_info_no_debias, val_info_no_debias = clf_no_debias.fit(data.x_train, data.y_train, data.s_train, \n",
    "                                                    early_stopping=True, validation_set=[data.x_val, data.y_val, data.s_val])\n",
    "\n",
    "print(\"========== after train(without debiasing) ==========\")\n",
    "pred_label_train = clf_no_debias.predict(data.x_train)\n",
    "train_res = train_evaluator(data.y_train, pred_label_train, no_train=False)\n",
    "\n",
    "pred_label_test = clf_no_debias.predict(data.x_test)\n",
    "test_res = test_evaluator(data.y_test, pred_label_test, no_train=False)\n",
    "\n",
    "\n",
    "print('\\n========== Starting Training with Mitigation... ==========')\n",
    "clf = AdversarialDebiasing(n_features, n_classes, n_groups, adversary_loss_weight=0.1, num_epochs=500, batch_size=512,\n",
    "                           classifier_num_hidden_units=512, random_state=42, debias=True)\n",
    "\n",
    "loss_list, val_list, train_info, val_info = clf.fit(data.x_train, data.y_train, data.s_train, \n",
    "                                                    early_stopping=True, validation_set=[data.x_val, data.y_val, data.s_val])\n",
    "print(\"========== after train(with debiasing) ==========\")\n",
    "pred_label_train = clf.predict(data.x_train)\n",
    "train_res = train_evaluator(data.y_train, pred_label_train, no_train=False)\n",
    "\n",
    "pred_label_test = clf.predict(data.x_test)\n",
    "test_res = test_evaluator(data.y_test, pred_label_test, no_train=False)\n",
    "\n",
    "order_and_save_idx = True\n",
    "if order_and_save_idx:\n",
    "    clf.sorted_loss(data.x_train, data.y_train, data.s_train, idx_path='data/adult/sorted_idx_%d.json' % data.num_val)"
   ]
  },
  {
   "cell_type": "code",
<<<<<<< HEAD
   "execution_count": 99,
=======
   "execution_count": 97,
>>>>>>> main
   "metadata": {},
   "outputs": [
    {
     "data": {
      "text/plain": [
<<<<<<< HEAD
       "[<matplotlib.lines.Line2D at 0x1414c3a3488>]"
      ]
     },
     "execution_count": 99,
     "metadata": {},
     "output_type": "execute_result"
    },
    {
     "data": {
      "image/png": "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\n",
      "text/plain": [
       "<Figure size 640x480 with 1 Axes>"
      ]
     },
     "metadata": {},
     "output_type": "display_data"
    }
   ],
   "source": [
    "plt.plot(loss_list_no_debias)"
=======
       "(26049, 102)"
      ]
     },
     "execution_count": 97,
     "metadata": {},
     "output_type": "execute_result"
    }
   ],
   "source": [
    "data.x_train.shape"
>>>>>>> main
   ]
  },
  {
   "cell_type": "code",
   "execution_count": 65,
   "metadata": {},
   "outputs": [],
   "source": [
    "def sorted_loss(self, X, y, s, idx_path):\n",
    "    \"\"\" return the loss of each sample\"\"\"\n",
    "    print(\"========== sort and save ==========\")\n",
    "    X = torch.tensor(X.astype(np.float32)).to(self.device)\n",
    "    y = torch.tensor(y.astype(np.float32)).to(self.device)\n",
    "    s = torch.tensor(s.astype(np.float32)).to(self.device)\n",
    "\n",
    "    y = y.unsqueeze(1)\n",
    "    s = s.unsqueeze(1)\n",
    "    with torch.no_grad():\n",
    "        self.clf_model.eval()\n",
    "        if self.debias:\n",
    "            self.adv_model.eval()\n",
    "\n",
    "        pred_labels, pred_logits = self.clf_model.forward(X)\n",
    "        loss1 = self.loss_clf(pred_logits, y, reduction='none')\n",
    "        \n",
    "        if self.debias:\n",
    "            pred_protected_attributes_labels, pred_protected_attributes_logits = self.adv_model.forward(\n",
    "            pred_logits, y)\n",
    "            loss2 = self.loss_adv(pred_protected_attributes_logits, s, reduction='none')\n",
    "            total_loss_list = torch.flatten((loss1 + self.adversary_loss_weight * loss2))\n",
    "        else:\n",
    "            total_loss_list = torch.flatten(loss1)\n",
    "        print(total_loss_list)\n",
    "\n",
    "        sorted_loss_idx_value = sorted(enumerate(total_loss_list), key=lambda x: x[1])\n",
    "        idx = [i[0] for i in sorted_loss_idx_value]\n",
    "\n",
    "        with open(idx_path, \"w\") as f:\n",
    "            json.dump(idx, f)\n",
    "\n",
    "        return"
   ]
  },
  {
   "cell_type": "code",
   "execution_count": 96,
   "metadata": {},
   "outputs": [],
   "source": [
    "%psource clf"
   ]
  },
  {
   "cell_type": "code",
   "execution_count": 93,
   "metadata": {},
   "outputs": [],
   "source": [
    "AdversarialDebiasing.fit??"
   ]
  },
  {
   "cell_type": "code",
   "execution_count": 86,
   "metadata": {},
   "outputs": [],
   "source": [
    "import inspect"
   ]
  },
  {
   "cell_type": "code",
   "execution_count": 94,
   "metadata": {},
   "outputs": [
    {
     "name": "stdout",
     "output_type": "stream",
     "text": [
      "class AdversarialDebiasing(BaseEstimator, ClassifierMixin):\n",
      "    \"\"\"Debiasing with adversarial learning.\n",
      "\n",
      "    'Torch implementation of AIF360.adversarialdebiasing and fairer reproduction\n",
      "    of Zhang et al. work.'\n",
      "\n",
      "    Adversarial debiasing is an in-processing technique that learns a\n",
      "    classifier to maximize prediction accuracy and simultaneously reduce an\n",
      "    adversary's ability to determine the protected attribute from the\n",
      "    predictions [#zhang18]_. This approach leads to a fair classifier as the\n",
      "    predictions cannot carry any group discrimination information that the\n",
      "    adversary can exploit.\n",
      "\n",
      "    References:\n",
      "        .. [#zhang18] `B. H. Zhang, B. Lemoine, and M. Mitchell, \"Mitigating\n",
      "           Unwanted Biases with Adversarial Learning,\" AAAI/ACM Conference on\n",
      "           Artificial Intelligence, Ethics, and Society, 2018.\n",
      "           <https://dl.acm.org/citation.cfm?id=3278779>`_\n",
      "\n",
      "    Attributes:\n",
      "        prot_attr_ (str or list(str)): Protected attribute(s) used for\n",
      "            debiasing.\n",
      "        groups_ (array, shape (n_groups,)): A list of group labels known to the\n",
      "            classifier.\n",
      "        classes_ (array, shape (n_classes,)): A list of class labels known to\n",
      "            the classifier.\n",
      "        sess_ (tensorflow.Session): The TensorFlow Session used for the\n",
      "            computations. Note: this can be manually closed to free up resources\n",
      "            with `self.sess_.close()`.\n",
      "        classifier_logits_ (tensorflow.Tensor): Tensor containing output logits\n",
      "            from the classifier.\n",
      "        adversary_logits_ (tensorflow.Tensor): Tensor containing output logits\n",
      "            from the adversary.\n",
      "    \"\"\"\n",
      "\n",
      "    def __init__(self, n_features, n_classes, n_groups, scope_name='classifier',\n",
      "                 adversary_loss_weight=0.1, num_epochs=50, batch_size=256, starter_learning_rate=0.001,\n",
      "                 classifier_num_hidden_units=200, debias=True, verbose=False,\n",
      "                 random_state=None):\n",
      "        r\"\"\"\n",
      "        Args:\n",
      "            scope_name (str, optional): TensorFlow \"variable_scope\" name for the\n",
      "                entire model (classifier and adversary).\n",
      "            adversary_loss_weight (float or ``None``, optional): If ``None``,\n",
      "                this will use the suggestion from the paper:\n",
      "                :math:`\\alpha = \\sqrt(global_step)` with inverse time decay on\n",
      "                the learning rate. Otherwise, it uses the provided coefficient\n",
      "                with exponential learning rate decay.\n",
      "            num_epochs (int, optional): Number of epochs for which to train.\n",
      "            batch_size (int, optional): Size of mini-batch for training.\n",
      "            classifier_num_hidden_units (int, optional): Number of hidden units\n",
      "                in the classifier.\n",
      "            debias (bool, optional): If ``False``, learn a classifier without an\n",
      "                adversary.\n",
      "            verbose (bool, optional): If ``True``, print losses every 200 steps.\n",
      "            random_state (int or numpy.RandomState, optional): Seed of pseudo-\n",
      "                random number generator for shuffling data and seeding weights.\n",
      "        \"\"\"\n",
      "\n",
      "        self.scope_name = scope_name\n",
      "        self.adversary_loss_weight = adversary_loss_weight\n",
      "        self.num_epochs = num_epochs\n",
      "        self.batch_size = batch_size\n",
      "        self.classifier_num_hidden_units = classifier_num_hidden_units\n",
      "        self.debias = debias\n",
      "        self.verbose = verbose\n",
      "        self.random_state = random_state\n",
      "        self.features_dim = None\n",
      "        self.features_ph = None\n",
      "        self.protected_attributes_ph = None\n",
      "        self.true_labels_ph = None\n",
      "        self.pred_labels = None\n",
      "        self.device = torch.device('cuda' if torch.cuda.is_available() else 'cpu')\n",
      "\n",
      "        self.loss_adv = self.loss_clf = F.binary_cross_entropy_with_logits\n",
      "\n",
      "        # define the model\n",
      "        rng = check_random_state(self.random_state)\n",
      "        if self.random_state is not None:\n",
      "            self.set_all_seed(self.random_state)\n",
      "        else:\n",
      "            self.set_all_seed(42)\n",
      "        ii32 = np.iinfo(np.int32)\n",
      "        self.s1, self.s2, self.s3 = rng.randint(ii32.min, ii32.max, size=3)\n",
      "\n",
      "        self.batch_id = 0\n",
      "        self.stopped_batch_ids = []\n",
      "\n",
      "        # starter_learning_rate = 0.001\n",
      "        self.clf_model = classifier_model(feature=n_features, Hneuron1=self.classifier_num_hidden_units,\n",
      "                                          output=n_classes, dropout=0.2,\n",
      "                                          seed1=self.s1, seed2=self.s2).to(self.device)\n",
      "        self.init_parameters(self.clf_model)\n",
      "\n",
      "        self.starter_learning_rate = starter_learning_rate\n",
      "        self.n_groups = n_groups\n",
      "        # self.classifier_opt = torch.optim.Adam(self.clf_model.parameters(), lr=starter_learning_rate, weight_decay=1e-5)\n",
      "        # self.clf_lr_scheduler = torch.optim.lr_scheduler.CosineAnnealingLR(optimizer=self.classifier_opt,\n",
      "        #                                                                    T_max=num_epochs)\n",
      "        #\n",
      "        if debias:\n",
      "            self.adv_model = adversary_model(seed3=self.s3, n_groups=n_groups).to(self.device)\n",
      "            self.init_parameters(self.adv_model)\n",
      "        #     self.adversary_opt = torch.optim.Adam(self.adv_model.parameters(), lr=starter_learning_rate,\n",
      "        #                                           weight_decay=1e-5)\n",
      "        #     self.adv_lr_scheduler = torch.optim.lr_scheduler.CosineAnnealingLR(optimizer=self.adversary_opt,\n",
      "        #                                                                        T_max=num_epochs)\n",
      "        #\n",
      "        # else:\n",
      "        #     self.adv_model, self.adversary_opt = None, None\n",
      "\n",
      "        self.logs = {}\n",
      "        groups = {'accuracy': ['train_acc', 'val_acc'],\n",
      "                  'loss': ['train_loss', 'val_loss']}\n",
      "        if self.debias:\n",
      "            groups['dp'] = ['train_dp', 'val_dp']\n",
      "            groups['eop'] = ['train_eop', 'val_eop']\n",
      "            groups['aod'] = ['train_aod', 'val_aod']\n",
      "        self.liveloss = PlotLosses(groups=groups)\n",
      "\n",
      "\n",
      "    def set_all_seed(self, seed):\n",
      "        os.environ[\"PL_GLOBAL_SEED\"] = str(seed)\n",
      "        random.seed(seed)\n",
      "        np.random.seed(seed)\n",
      "        torch.manual_seed(seed)\n",
      "        torch.cuda.manual_seed_all(seed)\n",
      "\n",
      "    def init_parameters(self, net):\n",
      "        for m in net.modules():\n",
      "            if isinstance(m, nn.Linear):\n",
      "                # nn.init.xavier_uniform(m.weight.data)\n",
      "                torch.nn.init.normal_(m.weight.data)\n",
      "                nn.init.constant_(m.bias.data, 0)\n",
      "\n",
      "    def fit(self, X, y, s, early_stopping=False, patience=10, validation_set=None):\n",
      "        \"\"\" Train the classifier and adversary (if ``debias == True``) with the\n",
      "        given training data.\n",
      "\n",
      "        Args:\n",
      "            X (pandas.DataFrame): Training samples.\n",
      "            y (array-like): Training labels.\n",
      "            s (array-like): Sensitive attributes\n",
      "\n",
      "        Returns:\n",
      "            self\n",
      "        \"\"\"\n",
      "\n",
      "        self.classes_ = np.unique(y)\n",
      "        # if early_stopping == True:\n",
      "        self.early_stopping = EarlyStopping(patience=patience)\n",
      "        X_val, y_val, s_val = validation_set\n",
      "\n",
      "        train_evaluator, val_evaluator = self.train_info(s, s_val)\n",
      "\n",
      "        if scipy.sparse.issparse(X_val):\n",
      "            X_val = X_val.todense()\n",
      "        X_val = torch.tensor(X_val.astype(np.float32)).to(self.device)\n",
      "        y_val = torch.tensor(y_val.astype(np.float32)).to(self.device)\n",
      "        s_val = torch.tensor(s_val.astype(np.float32)).to(self.device)\n",
      "        y_val = y_val.unsqueeze(1)\n",
      "        s_val = s_val.unsqueeze(1)\n",
      "        val_loss_list = []\n",
      "\n",
      "        # else:\n",
      "        # train_evaluator, _ = self.train_info(s)\n",
      "\n",
      "        if scipy.sparse.issparse(X):\n",
      "            X = X.todense()\n",
      "        X = torch.tensor(X.astype(np.float32)).to(self.device)\n",
      "        y = torch.tensor(y.astype(np.float32)).to(self.device)\n",
      "        s = torch.tensor(s.astype(np.float32)).to(self.device)\n",
      "        y = y.unsqueeze(1)\n",
      "        s = s.unsqueeze(1)\n",
      "\n",
      "        # learning_rate = tf.keras.optimizers.schedules.ExponentialDecay(starter_learning_rate,\n",
      "        #                                                                decay_steps=1000, decay_rate=0.96,\n",
      "        #                                                                staircase=True)\n",
      "        # classifier_opt = tf.optimizers.Adam(learning_rate)\n",
      "        # classifier_vars = [var for var in self.clf_model.trainable_variables]\n",
      "\n",
      "        train_loss_list = []\n",
      "        # batch_list = []\n",
      "        train_eval_list = []\n",
      "        val_eval_list = []\n",
      "        self.batch_id = 0\n",
      "        # plt.ion()\n",
      "        dataBatch = DataLoader(TensorDataset(X, y, s), batch_size=self.batch_size, shuffle=True,\n",
      "                               drop_last=False)\n",
      "\n",
      "        # optimizer\n",
      "        self.classifier_opt = torch.optim.Adam(self.clf_model.parameters(), lr=self.starter_learning_rate, weight_decay=1e-5)\n",
      "        self.clf_lr_scheduler = torch.optim.lr_scheduler.CosineAnnealingLR(optimizer=self.classifier_opt,\n",
      "                                                                           T_max=self.num_epochs)\n",
      "        # self.clf_lr_scheduler = torch.optim.lr_scheduler.CosineAnnealingWarmRestarts(self.classifier_opt, T_0=2, T_mult=2)\n",
      "\n",
      "        if self.debias:\n",
      "            self.adversary_opt = torch.optim.Adam(self.adv_model.parameters(), lr=self.starter_learning_rate,\n",
      "                                                  weight_decay=1e-5)\n",
      "            self.adv_lr_scheduler = torch.optim.lr_scheduler.CosineAnnealingLR(optimizer=self.adversary_opt,\n",
      "                                                                               T_max=self.num_epochs)\n",
      "\n",
      "            # self.adv_lr_scheduler = torch.optim.lr_scheduler.CosineAnnealingWarmRestarts(optimizer=self.adversary_opt, T_0=2, T_mult=2)\n",
      "\n",
      "        else:\n",
      "            self.adv_model, self.adversary_opt = None, None\n",
      "\n",
      "        if self.debias:\n",
      "\n",
      "            # decayRate = 0.96\n",
      "            # adv_lr_scheduler = torch.optim.lr_scheduler.ExponentialLR(optimizer=adversary_opt, gamma=decayRate)\n",
      "            # with tqdm(range(self.num_epochs // 2)) as epochs:\n",
      "            #     epochs.set_description(\"Classifcation PreTraining Epoch\")\n",
      "            #     for epoch in epochs:\n",
      "            #         self.clf_model.train()\n",
      "            #         for X_b, y_b, s_b in dataBatch:\n",
      "            #             classifier_opt.zero_grad()\n",
      "            #             pred_labels, pred_logits = self.clf_model.forward(X_b)\n",
      "            #             # print(\"pred_labels: \", pred_labels)\n",
      "            #             # print(\"y_b: \", y_b)\n",
      "            #             loss = self.loss_clf(pred_logits, y_b, reduction='mean')\n",
      "            #             loss.backward()\n",
      "            #             classifier_opt.step()\n",
      "            #\n",
      "            #             clf_lr_scheduler.step()\n",
      "            #\n",
      "            #             acc_b = (pred_labels.round() == y_b).float().sum().item()/X_b.size(0)\n",
      "            #             epochs.set_postfix(loss=loss.item(), acc=acc_b)\n",
      "            #\n",
      "            # with tqdm(range(10)) as epochs:\n",
      "            #     epochs.set_description(\"Adversarial PreTraining Epoch\")\n",
      "            #     for epoch in epochs:\n",
      "            #         self.adv_model.train()\n",
      "            #         self.clf_model.eval()\n",
      "            #         for X_b, y_b, s_b in dataBatch:\n",
      "            #             adversary_opt.zero_grad()\n",
      "            #             pred_labels, pred_logits = self.clf_model.forward(X_b)\n",
      "            #             pred_protected_attributes_labels, pred_protected_attributes_logits = self.adv_model.forward(\n",
      "            #                 pred_logits, y_b)\n",
      "            #             loss = self.loss_adv(pred_protected_attributes_logits, s_b, reduction='mean')\n",
      "            #             loss.backward()\n",
      "            #             adversary_opt.step()\n",
      "            #             adv_lr_scheduler.step()\n",
      "            #\n",
      "            #             acc_b = (pred_protected_attributes_labels.round() == s_b).float().sum().item()/X_b.size(0)\n",
      "            #             epochs.set_postfix(loss=loss.item(), acc=acc_b)\n",
      "\n",
      "            # clf_lr_scheduler = torch.optim.lr_scheduler.ExponentialLR(optimizer=classifier_opt, gamma=decayRate)\n",
      "            # adv_lr_scheduler = torch.optim.lr_scheduler.ExponentialLR(optimizer=adversary_opt, gamma=decayRate)\n",
      "\n",
      "            with tqdm(range(self.num_epochs), colour='green') as epochs:\n",
      "                epochs.set_description(\"Adversarial Debiasing Training Epoch\")\n",
      "                for epoch in epochs:\n",
      "                    for X_b, y_b, s_b in dataBatch:\n",
      "                        self.adv_model.train()\n",
      "                        self.clf_model.train()\n",
      "                        self.classifier_opt.zero_grad()\n",
      "                        self.adversary_opt.zero_grad()\n",
      "                        pred_labels, pred_logits = self.clf_model.forward(X_b)\n",
      "                        loss1 = self.loss_clf(pred_logits, y_b, reduction='mean')\n",
      "                        loss1.backward(retain_graph=True)\n",
      "                        # dW_LP\n",
      "                        clf_grad = [torch.clone(par.grad.detach()) for par in self.clf_model.parameters()]\n",
      "\n",
      "                        self.classifier_opt.zero_grad()\n",
      "                        self.adversary_opt.zero_grad()\n",
      "\n",
      "                        pred_protected_attributes_labels, pred_protected_attributes_logits = self.adv_model.forward(\n",
      "                            pred_logits, y_b)\n",
      "                        loss2 = self.loss_adv(pred_protected_attributes_logits, s_b, reduction='mean')\n",
      "                        loss2.backward()\n",
      "                        # dW_LA\n",
      "                        adv_grad = [\n",
      "                            torch.clone(par.grad.detach()) for par in self.clf_model.parameters()\n",
      "                        ]\n",
      "\n",
      "                        for i, par in enumerate(self.clf_model.parameters()):\n",
      "                            # Normalization\n",
      "                            unit_adversary_grad = adv_grad[i] / (torch.norm(adv_grad[i]) + torch.finfo(float).tiny)\n",
      "                            # projection proj_{dW_LA}(dW_LP)\n",
      "                            proj = torch.sum(torch.inner(unit_adversary_grad, clf_grad[i]))\n",
      "                            # integrating into the CLF gradient\n",
      "                            par.grad = clf_grad[i] - (proj * unit_adversary_grad) - (\n",
      "                                    self.adversary_loss_weight * adv_grad[i])\n",
      "\n",
      "                        self.classifier_opt.step()\n",
      "                        # optimizing dU_LA\n",
      "                        self.adversary_opt.step()\n",
      "\n",
      "                        acc_adv = (pred_protected_attributes_labels.round() == s_b).float().sum().item() / X_b.size(0)\n",
      "                        acc_clf = (pred_labels.round() == y_b).float().sum().item() / X_b.size(0)\n",
      "                        epochs.set_postfix(lossCLF=loss1.item(), lossADV=loss2.item(), accCLF=acc_clf,\n",
      "                                           accADV=acc_adv)\n",
      "\n",
      "                        self.batch_id += 1\n",
      "                        train_loss_list.append((loss1 + self.adversary_loss_weight * loss2).item())\n",
      "                        if self.batch_id % 50 == 0:\n",
      "                            # train_loss_list.append((loss1 + self.adversary_loss_weight * loss2).item())\n",
      "                            # batch_list.append(self.batch_id)\n",
      "                            # plt.plot(batch_list, loss_list, 'r-')\n",
      "                            # plt.xlabel('batch num')\n",
      "                            # plt.ylabel('loss')\n",
      "                            # plt.title(\"loss\")\n",
      "                            # plt.pause(0.1)\n",
      "\n",
      "\n",
      "                            with torch.no_grad():\n",
      "                                # train loss\n",
      "                                self.clf_model.eval()\n",
      "                                self.adv_model.eval()\n",
      "                                # total_loss_train = (loss1 + self.adversary_loss_weight * loss2).item()\n",
      "\n",
      "                                pred_labels_train, pred_logits_train = self.clf_model.forward(X)\n",
      "                                loss1 = self.loss_clf(pred_logits_train, y, reduction='mean')\n",
      "                                pred_protected_attributes_labels_train, pred_protected_attributes_logits_train = self.adv_model.forward(\n",
      "                                    pred_logits_train, y)\n",
      "                                loss2 = self.loss_adv(pred_protected_attributes_logits_train, s, reduction='mean')\n",
      "                                total_loss_train = (loss1 + self.adversary_loss_weight * loss2).item()\n",
      "                                # train_loss_list.append(total_loss_train)\n",
      "\n",
      "                                # val loss\n",
      "                                pred_labels_val, pred_logits_val = self.clf_model.forward(X_val)\n",
      "                                loss1 = self.loss_clf(pred_logits_val, y_val, reduction='mean')\n",
      "                                pred_protected_attributes_labels_val, pred_protected_attributes_logits_val = self.adv_model.forward(\n",
      "                                    pred_logits_val, y_val)\n",
      "                                loss2 = self.loss_adv(pred_protected_attributes_logits_val, s_val, reduction='mean')\n",
      "                                total_loss_val = (loss1 + self.adversary_loss_weight * loss2).item()\n",
      "                                val_loss_list.append(total_loss_val)\n",
      "\n",
      "                                # evaluate on train and val\n",
      "                                pred_label_train = self.predict(X.squeeze(1).detach().numpy())\n",
      "                                train_res = train_evaluator(y.squeeze(1).detach().numpy(), pred_label_train,\n",
      "                                                            no_train=False, verbose=False)\n",
      "                                train_eval_list.append(train_res)\n",
      "\n",
      "                                pred_label_val = self.predict(X_val.squeeze(1).detach().numpy())\n",
      "                                val_res = val_evaluator(y_val.squeeze(1).detach().numpy(), pred_label_val,\n",
      "                                                        no_train=False, verbose=False)\n",
      "                                val_eval_list.append(val_res)\n",
      "\n",
      "                                self.logs['train_loss'] = total_loss_train\n",
      "                                self.logs['val_loss'] = total_loss_val\n",
      "                                self.logs['train_acc'] = train_res['overall_acc']\n",
      "                                self.logs['val_acc'] = val_res['overall_acc']\n",
      "\n",
      "                                self.logs['train_dp'] = train_res['dp']\n",
      "                                self.logs['val_dp'] = val_res['dp']\n",
      "                                self.logs['train_eop'] = train_res['eop']\n",
      "                                self.logs['val_eop'] = val_res['eop']\n",
      "                                self.logs['train_aod'] = train_res['average_odds_difference']\n",
      "                                self.logs['val_aod'] = val_res['average_odds_difference']\n",
      "\n",
      "                                self.liveloss.update(self.logs)\n",
      "                                self.liveloss.send()\n",
      "\n",
      "                                if early_stopping:\n",
      "                                    self.early_stopping(total_loss_train)\n",
      "                                    if self.early_stopping.early_stop:\n",
      "                                        break\n",
      "                    if early_stopping and self.early_stopping.early_stop:\n",
      "                        break\n",
      "                    self.clf_lr_scheduler.step()\n",
      "                    self.adv_lr_scheduler.step()\n",
      "\n",
      "            self.stopped_batch_ids.append(self.batch_id)\n",
      "\n",
      "            state = {\n",
      "                # 'clf_model': self.clf_model.state_dict(),\n",
      "                # 'adv_model': self.adv_model.state_dict(),\n",
      "                'clf_optimizer': self.classifier_opt.state_dict(),\n",
      "                'adv_optimizer': self.adversary_opt.state_dict(),\n",
      "                # 'epoch': epoch + 1,\n",
      "            }\n",
      "            if not os.path.isdir('checkpoint'):\n",
      "                os.mkdir('checkpoint')  # 2 、 建立一个保存参数的文件夹\n",
      "            torch.save(state, './checkpoint/clf_adv_optimizer_state.ckpt')\n",
      "        else:\n",
      "            with tqdm(range(self.num_epochs), colour='green') as epochs:\n",
      "                epochs.set_description(\"Classifier Training Epoch\")\n",
      "                for epoch in epochs:\n",
      "                    for X_b, y_b, s_b in dataBatch:\n",
      "                        self.clf_model.train()\n",
      "                        self.classifier_opt.zero_grad()\n",
      "                        pred_labels, pred_logits = self.clf_model.forward(X_b)\n",
      "                        loss = self.loss_clf(pred_logits, y_b, reduction='mean')\n",
      "                        loss.backward()\n",
      "                        self.classifier_opt.step()\n",
      "\n",
      "                        acc_b = (pred_labels.round() == y_b).float().sum().item() / X_b.size(0)\n",
      "                        epochs.set_postfix(loss=loss.item(), acc=acc_b)\n",
      "\n",
      "                        self.batch_id += 1\n",
      "                        if self.batch_id % 50 == 0:\n",
      "                            # loss_list.append(loss.item())\n",
      "                            # batch_list.append(self.batch_id)\n",
      "                            # plt.plot(batch_list, loss_list, 'r-')\n",
      "                            # plt.xlabel('batch num')\n",
      "                            # plt.ylabel('loss')\n",
      "                            # plt.title(\"loss\")\n",
      "                            # plt.pause(0.1)\n",
      "                            with torch.no_grad():\n",
      "                                self.clf_model.eval()\n",
      "                                # train loss\n",
      "                                pred_labels_train, pred_logits_train = self.clf_model.forward(X)\n",
      "                                loss1_train = self.loss_clf(pred_logits_train, y, reduction='mean')\n",
      "                                train_loss_list.append(loss1_train.item())\n",
      "\n",
      "                                # val loss\n",
      "                                pred_labels_val, pred_logits_val = self.clf_model.forward(X_val)\n",
      "                                loss1_val = self.loss_clf(pred_logits_val, y_val, reduction='mean')\n",
      "                                val_loss_list.append(loss1_val.item())\n",
      "                                \n",
      "                                # evaluate on train and val\n",
      "                                pred_label_train = self.predict(X.squeeze(1).detach().numpy())\n",
      "                                train_res = train_evaluator(y.squeeze(1).detach().numpy(), pred_label_train,\n",
      "                                                            no_train=False, verbose=False)\n",
      "                                train_eval_list.append(train_res)\n",
      "\n",
      "                                pred_label_val = self.predict(X_val.squeeze(1).detach().numpy())\n",
      "                                val_res = val_evaluator(y_val.squeeze(1).detach().numpy(), pred_label_val,\n",
      "                                                        no_train=False, verbose=False)\n",
      "                                val_eval_list.append(val_res)\n",
      "\n",
      "                                self.logs['train_loss'] = loss1_train\n",
      "                                self.logs['val_loss'] = loss1_val\n",
      "                                self.logs['train_acc'] = train_res['overall_acc']\n",
      "                                self.logs['val_acc'] = val_res['overall_acc']\n",
      "\n",
      "                                self.liveloss.update(self.logs)\n",
      "                                self.liveloss.send()\n",
      "\n",
      "                                if early_stopping:\n",
      "                                    self.early_stopping(-val_res['overall_acc'])\n",
      "                                    if self.early_stopping.early_stop:\n",
      "                                        break\n",
      "\n",
      "                    if early_stopping and self.early_stopping.early_stop:\n",
      "                        break\n",
      "                    self.clf_lr_scheduler.step()\n",
      "\n",
      "            self.stopped_batch_ids.append(self.batch_id)\n",
      "            \n",
      "            state = {\n",
      "                # 'clf_model': self.clf_model.state_dict(),\n",
      "                # 'adv_model': self.adv_model.state_dict(),\n",
      "                'clf_optimizer': self.classifier_opt.state_dict(),\n",
      "                # 'epoch': epoch + 1,\n",
      "            }\n",
      "            if not os.path.isdir('checkpoint'):\n",
      "                os.mkdir('checkpoint')  # 2 、 建立一个保存参数的文件夹\n",
      "            torch.save(state, './checkpoint/clf_optimizer_state.ckpt')\n",
      "        # plt.ioff()\n",
      "\n",
      "        return train_loss_list, val_loss_list, train_eval_list, val_eval_list\n",
      "\n",
      "    def train_info(self, s_train, s_val=None):\n",
      "        train_evaluator = Evaluator(s_train, \"train\")\n",
      "        if s_val is not None:\n",
      "            val_evaluator = Evaluator(s_val, \"val\")\n",
      "            return train_evaluator, val_evaluator\n",
      "        return train_evaluator, None\n",
      "\n",
      "    def decision_function(self, X):\n",
      "        \"\"\"Soft prediction scores.\n",
      "\n",
      "        Args:\n",
      "            X (pandas.DataFrame): Test samples.\n",
      "\n",
      "        Returns:\n",
      "            numpy.ndarray: Confidence scores per (sample, class) combination. In\n",
      "            the binary case, confidence score for ``self.classes_[1]`` where >0\n",
      "            means this class would be predicted.\n",
      "        \"\"\"\n",
      "        if scipy.sparse.issparse(X):\n",
      "            X = X.todense()\n",
      "        X = torch.tensor(X.astype(np.float32)).to(self.device)\n",
      "        # n_classes = len(self.classes_)\n",
      "\n",
      "        # if n_classes == 2:\n",
      "        #    n_classes = 1 # lgtm [py/unused-local-variable]\n",
      "\n",
      "        # self.clf_model.eval()\n",
      "        pred_labels_list = []\n",
      "        dataBatch = DataLoader(X, batch_size=self.batch_size, shuffle=False,\n",
      "                               drop_last=False)\n",
      "        for X_b in dataBatch:\n",
      "            self.clf_model.eval()\n",
      "            pred_labels, pred_logits = self.clf_model.forward(X_b)\n",
      "            pred_labels_list += pred_labels.cpu().detach().numpy().tolist()\n",
      "\n",
      "        scores = np.array(pred_labels_list, dtype=np.float64).reshape(-1, 1)\n",
      "        return scores.ravel() if scores.shape[1] == 1 else scores\n",
      "\n",
      "    def predict_proba(self, X):\n",
      "        \"\"\"Probability estimates.\n",
      "\n",
      "        The returned estimates for all classes are ordered by the label of\n",
      "        classes.\n",
      "\n",
      "        Args:\n",
      "            X (pandas.DataFrame): Test samples.\n",
      "\n",
      "        Returns:\n",
      "            numpy.ndarray: Returns the probability of the sample for each class\n",
      "            in the model, where classes are ordered as they are in\n",
      "            ``self.classes_``.\n",
      "        \"\"\"\n",
      "        decision = self.decision_function(X)\n",
      "\n",
      "        if decision.ndim == 1:\n",
      "            decision_2d = np.c_[np.zeros_like(decision), decision]\n",
      "        else:\n",
      "            decision_2d = decision\n",
      "        return scipy.special.softmax(decision_2d, axis=1)\n",
      "\n",
      "    def predict(self, X):\n",
      "        \"\"\"Predict class labels for the given samples.\n",
      "\n",
      "        Args:\n",
      "            X (pandas.DataFrame): Test samples.\n",
      "\n",
      "        Returns:\n",
      "            numpy.ndarray: Predicted class label per sample.\n",
      "        \"\"\"\n",
      "        scores = self.decision_function(X)\n",
      "        if scores.ndim == 1:\n",
      "            if X.shape[0] == 1:\n",
      "                indices = (scores > 0.5).astype(np.int).reshape((-1,))\n",
      "            else:\n",
      "                indices = (scores > 0.5).astype(np.int).reshape((-1,))\n",
      "        else:\n",
      "            indices = scores.argmax(axis=1)\n",
      "\n",
      "        return self.classes_[indices]\n",
      "\n",
      "    def sorted_loss(self, X, y, s, idx_path):\n",
      "        \"\"\" return the loss of each sample\"\"\"\n",
      "        print(\"========== sort and save ==========\")\n",
      "        X = torch.tensor(X.astype(np.float32)).to(self.device)\n",
      "        y = torch.tensor(y.astype(np.float32)).to(self.device)\n",
      "        s = torch.tensor(s.astype(np.float32)).to(self.device)\n",
      "\n",
      "        y = y.unsqueeze(1)\n",
      "        s = s.unsqueeze(1)\n",
      "        with torch.no_grad():\n",
      "            self.clf_model.eval()\n",
      "            if self.debias:\n",
      "                self.adv_model.eval()\n",
      "\n",
      "            pred_labels, pred_logits = self.clf_model.forward(X)\n",
      "            loss1 = self.loss_clf(pred_logits, y, reduction='none')\n",
      "\n",
      "            if self.debias:\n",
      "                pred_protected_attributes_labels, pred_protected_attributes_logits = self.adv_model.forward(\n",
      "                    pred_logits, y)\n",
      "                loss2 = self.loss_adv(pred_protected_attributes_logits, s, reduction='none')\n",
      "                total_loss_list = torch.flatten((loss1 + self.adversary_loss_weight * loss2))\n",
      "            else:\n",
      "                total_loss_list = torch.flatten(loss1)\n",
      "            print(total_loss_list)\n",
      "\n",
      "            sorted_loss_idx_value = sorted(enumerate(total_loss_list), key=lambda x: x[1])\n",
      "            idx = [i[0] for i in sorted_loss_idx_value]\n",
      "\n",
      "            with open(idx_path, \"w\") as f:\n",
      "                json.dump(idx, f)\n",
      "\n",
      "            return\n",
      "\n"
     ]
    }
   ],
   "source": [
    "source = inspect.getsource(AdversarialDebiasing)\n",
    "print(source)"
   ]
  },
  {
   "cell_type": "code",
   "execution_count": 68,
   "metadata": {},
   "outputs": [
    {
     "name": "stdout",
     "output_type": "stream",
     "text": [
      "========== sort and save ==========\n",
      "tensor([2.9915e-03, 1.6395e-01, 6.4449e-03,  ..., 4.3868e-05, 6.0091e-01,\n",
      "        7.5501e-01])\n"
     ]
    },
    {
     "ename": "TypeError",
     "evalue": "object of type 'NoneType' has no len()",
     "output_type": "error",
     "traceback": [
      "\u001b[1;31m---------------------------------------------------------------------------\u001b[0m",
      "\u001b[1;31mTypeError\u001b[0m                                 Traceback (most recent call last)",
      "\u001b[1;32m~\\AppData\\Local\\Temp\\ipykernel_20664\\316872300.py\u001b[0m in \u001b[0;36m<module>\u001b[1;34m\u001b[0m\n\u001b[0;32m      1\u001b[0m len(sorted_loss(clf_no_debias, data.x_train, data.y_train, data.s_train,\n\u001b[1;32m----> 2\u001b[1;33m                     idx_path='data/adult/no_debias_sorted_idx_%d.json' % data.num_val))\n\u001b[0m",
      "\u001b[1;31mTypeError\u001b[0m: object of type 'NoneType' has no len()"
     ]
    }
   ],
   "source": [
    "sorted_loss(clf_no_debias, data.x_train, data.y_train, data.s_train,\n",
    "                    idx_path='data/adult/no_debias_sorted_idx_%d.json' % data.num_val)"
   ]
  },
  {
   "cell_type": "code",
   "execution_count": 69,
   "metadata": {},
   "outputs": [
    {
     "data": {
      "text/plain": [
       "(26049, 102)"
      ]
     },
     "execution_count": 69,
     "metadata": {},
     "output_type": "execute_result"
    }
   ],
   "source": [
    "data.x_train.shape"
   ]
  },
  {
   "cell_type": "code",
   "execution_count": 56,
   "metadata": {},
   "outputs": [
    {
     "name": "stdout",
     "output_type": "stream",
     "text": [
      "========== sort and save ==========\n",
      "tensor([0.1029, 0.3802, 0.0516,  ..., 0.0425, 0.4398, 0.4017])\n"
     ]
    }
   ],
   "source": [
    "order_and_save_idx = True\n",
    "if order_and_save_idx:\n",
    "#     clf_no_debias.sorted_loss(data.x_train, data.y_train, data.s_train,\n",
    "#                     idx_path='data/adult/no_debias_sorted_idx_%d.json' % data.num_val)\n",
    "    clf.sorted_loss(data.x_train, data.y_train, data.s_train,\n",
    "                    idx_path='data/adult/sorted_idx_%d.json' % data.num_val)"
   ]
  },
  {
   "cell_type": "code",
   "execution_count": 4,
   "metadata": {},
   "outputs": [],
   "source": [
    "import pandas as pd\n",
    "res = pd.DataFrame(train_info)\n",
    "epoch_loss_list = loss_list[::]\n",
    "res['epoch_loss'] = epoch_loss_list\n",
    "res.to_csv('train_info.csv')\n",
    "# for res in train_info:\n",
    "#     print(res)"
   ]
  },
  {
   "cell_type": "code",
   "execution_count": 5,
   "metadata": {},
   "outputs": [
    {
     "data": {
      "text/html": [
       "<div>\n",
       "<style scoped>\n",
       "    .dataframe tbody tr th:only-of-type {\n",
       "        vertical-align: middle;\n",
       "    }\n",
       "\n",
       "    .dataframe tbody tr th {\n",
       "        vertical-align: top;\n",
       "    }\n",
       "\n",
       "    .dataframe thead th {\n",
       "        text-align: right;\n",
       "    }\n",
       "</style>\n",
       "<table border=\"1\" class=\"dataframe\">\n",
       "  <thead>\n",
       "    <tr style=\"text-align: right;\">\n",
       "      <th></th>\n",
       "      <th>overall_acc</th>\n",
       "      <th>dp</th>\n",
       "      <th>eop</th>\n",
       "      <th>average_odds_difference</th>\n",
       "      <th>grp_0_acc</th>\n",
       "      <th>grp_1_acc</th>\n",
       "      <th>epoch_loss</th>\n",
       "    </tr>\n",
       "  </thead>\n",
       "  <tbody>\n",
       "    <tr>\n",
       "      <th>count</th>\n",
       "      <td>510.000000</td>\n",
       "      <td>510.000000</td>\n",
       "      <td>510.000000</td>\n",
       "      <td>510.000000</td>\n",
       "      <td>510.000000</td>\n",
       "      <td>510.000000</td>\n",
       "      <td>510.000000</td>\n",
       "    </tr>\n",
       "    <tr>\n",
       "      <th>mean</th>\n",
       "      <td>0.804767</td>\n",
       "      <td>0.033382</td>\n",
       "      <td>-0.254121</td>\n",
       "      <td>0.399377</td>\n",
       "      <td>0.904359</td>\n",
       "      <td>0.756865</td>\n",
       "      <td>1.059367</td>\n",
       "    </tr>\n",
       "    <tr>\n",
       "      <th>std</th>\n",
       "      <td>0.046270</td>\n",
       "      <td>0.165135</td>\n",
       "      <td>0.364116</td>\n",
       "      <td>0.342574</td>\n",
       "      <td>0.055041</td>\n",
       "      <td>0.053775</td>\n",
       "      <td>0.964443</td>\n",
       "    </tr>\n",
       "    <tr>\n",
       "      <th>min</th>\n",
       "      <td>0.583746</td>\n",
       "      <td>-0.497668</td>\n",
       "      <td>-0.759306</td>\n",
       "      <td>0.003801</td>\n",
       "      <td>0.448818</td>\n",
       "      <td>0.648644</td>\n",
       "      <td>0.311106</td>\n",
       "    </tr>\n",
       "    <tr>\n",
       "      <th>25%</th>\n",
       "      <td>0.778254</td>\n",
       "      <td>-0.070418</td>\n",
       "      <td>-0.595344</td>\n",
       "      <td>0.104358</td>\n",
       "      <td>0.900502</td>\n",
       "      <td>0.708468</td>\n",
       "      <td>0.613932</td>\n",
       "    </tr>\n",
       "    <tr>\n",
       "      <th>50%</th>\n",
       "      <td>0.798610</td>\n",
       "      <td>-0.025991</td>\n",
       "      <td>-0.360697</td>\n",
       "      <td>0.407241</td>\n",
       "      <td>0.922695</td>\n",
       "      <td>0.746148</td>\n",
       "      <td>0.719168</td>\n",
       "    </tr>\n",
       "    <tr>\n",
       "      <th>75%</th>\n",
       "      <td>0.848535</td>\n",
       "      <td>0.157829</td>\n",
       "      <td>0.016718</td>\n",
       "      <td>0.475202</td>\n",
       "      <td>0.932270</td>\n",
       "      <td>0.812155</td>\n",
       "      <td>0.918993</td>\n",
       "    </tr>\n",
       "    <tr>\n",
       "      <th>max</th>\n",
       "      <td>0.877155</td>\n",
       "      <td>0.531282</td>\n",
       "      <td>0.742395</td>\n",
       "      <td>2.640999</td>\n",
       "      <td>0.948109</td>\n",
       "      <td>0.846495</td>\n",
       "      <td>8.764972</td>\n",
       "    </tr>\n",
       "  </tbody>\n",
       "</table>\n",
       "</div>"
      ],
      "text/plain": [
       "       overall_acc          dp         eop  average_odds_difference  \\\n",
       "count   510.000000  510.000000  510.000000               510.000000   \n",
       "mean      0.804767    0.033382   -0.254121                 0.399377   \n",
       "std       0.046270    0.165135    0.364116                 0.342574   \n",
       "min       0.583746   -0.497668   -0.759306                 0.003801   \n",
       "25%       0.778254   -0.070418   -0.595344                 0.104358   \n",
       "50%       0.798610   -0.025991   -0.360697                 0.407241   \n",
       "75%       0.848535    0.157829    0.016718                 0.475202   \n",
       "max       0.877155    0.531282    0.742395                 2.640999   \n",
       "\n",
       "        grp_0_acc   grp_1_acc  epoch_loss  \n",
       "count  510.000000  510.000000  510.000000  \n",
       "mean     0.904359    0.756865    1.059367  \n",
       "std      0.055041    0.053775    0.964443  \n",
       "min      0.448818    0.648644    0.311106  \n",
       "25%      0.900502    0.708468    0.613932  \n",
       "50%      0.922695    0.746148    0.719168  \n",
       "75%      0.932270    0.812155    0.918993  \n",
       "max      0.948109    0.846495    8.764972  "
      ]
     },
     "execution_count": 5,
     "metadata": {},
     "output_type": "execute_result"
    }
   ],
   "source": [
    "res.describe()"
   ]
  },
  {
   "cell_type": "code",
   "execution_count": 67,
   "metadata": {},
   "outputs": [
    {
     "data": {
      "text/plain": [
       "510.0"
      ]
     },
     "execution_count": 67,
     "metadata": {},
     "output_type": "execute_result"
    }
   ],
   "source": [
    "clf.batch_id / 50"
   ]
  },
  {
   "cell_type": "code",
   "execution_count": 41,
   "metadata": {},
   "outputs": [
    {
     "data": {
      "text/html": [
       "<div>\n",
       "<style scoped>\n",
       "    .dataframe tbody tr th:only-of-type {\n",
       "        vertical-align: middle;\n",
       "    }\n",
       "\n",
       "    .dataframe tbody tr th {\n",
       "        vertical-align: top;\n",
       "    }\n",
       "\n",
       "    .dataframe thead th {\n",
       "        text-align: right;\n",
       "    }\n",
       "</style>\n",
       "<table border=\"1\" class=\"dataframe\">\n",
       "  <thead>\n",
       "    <tr style=\"text-align: right;\">\n",
       "      <th></th>\n",
       "      <th>overall_acc</th>\n",
       "      <th>dp</th>\n",
       "      <th>eop</th>\n",
       "      <th>average_odds_difference</th>\n",
       "      <th>grp_0_acc</th>\n",
       "      <th>grp_1_acc</th>\n",
       "      <th>epoch_loss</th>\n",
       "      <th>abs_dp</th>\n",
       "      <th>abs_eop</th>\n",
       "      <th>abs_aod</th>\n",
       "    </tr>\n",
       "  </thead>\n",
       "  <tbody>\n",
       "    <tr>\n",
       "      <th>42</th>\n",
       "      <td>0.841453</td>\n",
       "      <td>0.092066</td>\n",
       "      <td>-0.060676</td>\n",
       "      <td>0.050309</td>\n",
       "      <td>0.929787</td>\n",
       "      <td>0.798965</td>\n",
       "      <td>2.900521</td>\n",
       "      <td>0.092066</td>\n",
       "      <td>0.060676</td>\n",
       "      <td>0.050309</td>\n",
       "    </tr>\n",
       "    <tr>\n",
       "      <th>43</th>\n",
       "      <td>0.841453</td>\n",
       "      <td>0.094048</td>\n",
       "      <td>-0.067164</td>\n",
       "      <td>0.056181</td>\n",
       "      <td>0.929905</td>\n",
       "      <td>0.798908</td>\n",
       "      <td>3.164135</td>\n",
       "      <td>0.094048</td>\n",
       "      <td>0.067164</td>\n",
       "      <td>0.056181</td>\n",
       "    </tr>\n",
       "    <tr>\n",
       "      <th>290</th>\n",
       "      <td>0.763446</td>\n",
       "      <td>-0.020700</td>\n",
       "      <td>-0.183890</td>\n",
       "      <td>0.143662</td>\n",
       "      <td>0.900000</td>\n",
       "      <td>0.697766</td>\n",
       "      <td>0.842495</td>\n",
       "      <td>0.020700</td>\n",
       "      <td>0.183890</td>\n",
       "      <td>0.143662</td>\n",
       "    </tr>\n",
       "    <tr>\n",
       "      <th>292</th>\n",
       "      <td>0.763024</td>\n",
       "      <td>-0.022909</td>\n",
       "      <td>-0.198451</td>\n",
       "      <td>0.171984</td>\n",
       "      <td>0.897163</td>\n",
       "      <td>0.698505</td>\n",
       "      <td>0.816291</td>\n",
       "      <td>0.022909</td>\n",
       "      <td>0.198451</td>\n",
       "      <td>0.171984</td>\n",
       "    </tr>\n",
       "    <tr>\n",
       "      <th>360</th>\n",
       "      <td>0.831510</td>\n",
       "      <td>0.055733</td>\n",
       "      <td>-0.132687</td>\n",
       "      <td>0.189174</td>\n",
       "      <td>0.912411</td>\n",
       "      <td>0.792598</td>\n",
       "      <td>0.600321</td>\n",
       "      <td>0.055733</td>\n",
       "      <td>0.132687</td>\n",
       "      <td>0.189174</td>\n",
       "    </tr>\n",
       "    <tr>\n",
       "      <th>361</th>\n",
       "      <td>0.836193</td>\n",
       "      <td>0.067227</td>\n",
       "      <td>-0.125473</td>\n",
       "      <td>0.191213</td>\n",
       "      <td>0.912766</td>\n",
       "      <td>0.799363</td>\n",
       "      <td>0.588826</td>\n",
       "      <td>0.067227</td>\n",
       "      <td>0.125473</td>\n",
       "      <td>0.191213</td>\n",
       "    </tr>\n",
       "    <tr>\n",
       "      <th>362</th>\n",
       "      <td>0.838765</td>\n",
       "      <td>0.078389</td>\n",
       "      <td>-0.091139</td>\n",
       "      <td>0.159285</td>\n",
       "      <td>0.913475</td>\n",
       "      <td>0.802831</td>\n",
       "      <td>0.697787</td>\n",
       "      <td>0.078389</td>\n",
       "      <td>0.091139</td>\n",
       "      <td>0.159285</td>\n",
       "    </tr>\n",
       "    <tr>\n",
       "      <th>363</th>\n",
       "      <td>0.839226</td>\n",
       "      <td>0.088553</td>\n",
       "      <td>-0.064708</td>\n",
       "      <td>0.118568</td>\n",
       "      <td>0.916430</td>\n",
       "      <td>0.802092</td>\n",
       "      <td>0.522692</td>\n",
       "      <td>0.088553</td>\n",
       "      <td>0.064708</td>\n",
       "      <td>0.118568</td>\n",
       "    </tr>\n",
       "    <tr>\n",
       "      <th>387</th>\n",
       "      <td>0.846290</td>\n",
       "      <td>0.084376</td>\n",
       "      <td>-0.170694</td>\n",
       "      <td>0.186551</td>\n",
       "      <td>0.926950</td>\n",
       "      <td>0.807493</td>\n",
       "      <td>0.537756</td>\n",
       "      <td>0.084376</td>\n",
       "      <td>0.170694</td>\n",
       "      <td>0.186551</td>\n",
       "    </tr>\n",
       "  </tbody>\n",
       "</table>\n",
       "</div>"
      ],
      "text/plain": [
       "     overall_acc        dp       eop  average_odds_difference  grp_0_acc  \\\n",
       "42      0.841453  0.092066 -0.060676                 0.050309   0.929787   \n",
       "43      0.841453  0.094048 -0.067164                 0.056181   0.929905   \n",
       "290     0.763446 -0.020700 -0.183890                 0.143662   0.900000   \n",
       "292     0.763024 -0.022909 -0.198451                 0.171984   0.897163   \n",
       "360     0.831510  0.055733 -0.132687                 0.189174   0.912411   \n",
       "361     0.836193  0.067227 -0.125473                 0.191213   0.912766   \n",
       "362     0.838765  0.078389 -0.091139                 0.159285   0.913475   \n",
       "363     0.839226  0.088553 -0.064708                 0.118568   0.916430   \n",
       "387     0.846290  0.084376 -0.170694                 0.186551   0.926950   \n",
       "\n",
       "     grp_1_acc  epoch_loss    abs_dp   abs_eop   abs_aod  \n",
       "42    0.798965    2.900521  0.092066  0.060676  0.050309  \n",
       "43    0.798908    3.164135  0.094048  0.067164  0.056181  \n",
       "290   0.697766    0.842495  0.020700  0.183890  0.143662  \n",
       "292   0.698505    0.816291  0.022909  0.198451  0.171984  \n",
       "360   0.792598    0.600321  0.055733  0.132687  0.189174  \n",
       "361   0.799363    0.588826  0.067227  0.125473  0.191213  \n",
       "362   0.802831    0.697787  0.078389  0.091139  0.159285  \n",
       "363   0.802092    0.522692  0.088553  0.064708  0.118568  \n",
       "387   0.807493    0.537756  0.084376  0.170694  0.186551  "
      ]
     },
     "execution_count": 41,
     "metadata": {},
     "output_type": "execute_result"
    }
   ],
   "source": [
    "res[(abs(res['dp'])< 0.1) & (abs(res['eop']) < 0.2) & (abs(res['average_odds_difference']) < 0.2)]"
   ]
  },
  {
   "cell_type": "code",
   "execution_count": 48,
   "metadata": {},
   "outputs": [
    {
     "name": "stdout",
     "output_type": "stream",
     "text": [
      "EarlyStopping counter: 1 out of 100\n",
      "EarlyStopping counter: 1 out of 100\n",
      "EarlyStopping counter: 1 out of 100\n",
      "EarlyStopping counter: 2 out of 100\n",
      "EarlyStopping counter: 1 out of 100\n",
      "EarlyStopping counter: 2 out of 100\n",
      "EarlyStopping counter: 1 out of 100\n",
      "EarlyStopping counter: 2 out of 100\n",
      "EarlyStopping counter: 3 out of 100\n",
      "EarlyStopping counter: 4 out of 100\n",
      "EarlyStopping counter: 5 out of 100\n",
      "EarlyStopping counter: 6 out of 100\n",
      "EarlyStopping counter: 7 out of 100\n",
      "EarlyStopping counter: 8 out of 100\n",
      "EarlyStopping counter: 1 out of 100\n",
      "EarlyStopping counter: 2 out of 100\n",
      "EarlyStopping counter: 3 out of 100\n",
      "EarlyStopping counter: 4 out of 100\n",
      "EarlyStopping counter: 5 out of 100\n",
      "EarlyStopping counter: 1 out of 100\n",
      "EarlyStopping counter: 2 out of 100\n",
      "EarlyStopping counter: 1 out of 100\n",
      "EarlyStopping counter: 2 out of 100\n",
      "EarlyStopping counter: 3 out of 100\n",
      "EarlyStopping counter: 4 out of 100\n",
      "EarlyStopping counter: 5 out of 100\n",
      "EarlyStopping counter: 6 out of 100\n",
      "EarlyStopping counter: 7 out of 100\n",
      "EarlyStopping counter: 8 out of 100\n",
      "EarlyStopping counter: 9 out of 100\n",
      "EarlyStopping counter: 10 out of 100\n",
      "EarlyStopping counter: 11 out of 100\n",
      "EarlyStopping counter: 12 out of 100\n",
      "EarlyStopping counter: 13 out of 100\n",
      "EarlyStopping counter: 14 out of 100\n",
      "EarlyStopping counter: 15 out of 100\n",
      "EarlyStopping counter: 16 out of 100\n",
      "EarlyStopping counter: 17 out of 100\n",
      "EarlyStopping counter: 1 out of 100\n",
      "EarlyStopping counter: 2 out of 100\n",
      "EarlyStopping counter: 3 out of 100\n",
      "EarlyStopping counter: 4 out of 100\n",
      "EarlyStopping counter: 5 out of 100\n",
      "EarlyStopping counter: 6 out of 100\n",
      "EarlyStopping counter: 7 out of 100\n",
      "EarlyStopping counter: 8 out of 100\n",
      "EarlyStopping counter: 9 out of 100\n",
      "EarlyStopping counter: 10 out of 100\n",
      "EarlyStopping counter: 11 out of 100\n",
      "EarlyStopping counter: 12 out of 100\n",
      "EarlyStopping counter: 13 out of 100\n",
      "EarlyStopping counter: 14 out of 100\n",
      "EarlyStopping counter: 15 out of 100\n",
      "EarlyStopping counter: 16 out of 100\n",
      "EarlyStopping counter: 17 out of 100\n",
      "EarlyStopping counter: 18 out of 100\n",
      "EarlyStopping counter: 19 out of 100\n",
      "EarlyStopping counter: 20 out of 100\n",
      "EarlyStopping counter: 21 out of 100\n",
      "EarlyStopping counter: 22 out of 100\n",
      "EarlyStopping counter: 23 out of 100\n",
      "EarlyStopping counter: 24 out of 100\n",
      "EarlyStopping counter: 25 out of 100\n",
      "EarlyStopping counter: 26 out of 100\n",
      "EarlyStopping counter: 27 out of 100\n",
      "EarlyStopping counter: 28 out of 100\n",
      "EarlyStopping counter: 29 out of 100\n",
      "EarlyStopping counter: 30 out of 100\n",
      "EarlyStopping counter: 31 out of 100\n",
      "EarlyStopping counter: 32 out of 100\n",
      "EarlyStopping counter: 33 out of 100\n",
      "EarlyStopping counter: 34 out of 100\n",
      "EarlyStopping counter: 35 out of 100\n",
      "EarlyStopping counter: 36 out of 100\n",
      "EarlyStopping counter: 37 out of 100\n",
      "EarlyStopping counter: 38 out of 100\n",
      "EarlyStopping counter: 39 out of 100\n",
      "EarlyStopping counter: 40 out of 100\n",
      "EarlyStopping counter: 41 out of 100\n",
      "EarlyStopping counter: 42 out of 100\n",
      "EarlyStopping counter: 43 out of 100\n",
      "EarlyStopping counter: 44 out of 100\n",
      "EarlyStopping counter: 45 out of 100\n",
      "EarlyStopping counter: 46 out of 100\n",
      "EarlyStopping counter: 47 out of 100\n",
      "EarlyStopping counter: 48 out of 100\n",
      "EarlyStopping counter: 49 out of 100\n",
      "EarlyStopping counter: 50 out of 100\n",
      "EarlyStopping counter: 1 out of 100\n",
      "EarlyStopping counter: 2 out of 100\n",
      "EarlyStopping counter: 3 out of 100\n",
      "EarlyStopping counter: 4 out of 100\n",
      "EarlyStopping counter: 5 out of 100\n",
      "EarlyStopping counter: 6 out of 100\n",
      "EarlyStopping counter: 7 out of 100\n",
      "EarlyStopping counter: 8 out of 100\n",
      "EarlyStopping counter: 9 out of 100\n",
      "EarlyStopping counter: 10 out of 100\n",
      "EarlyStopping counter: 11 out of 100\n",
      "EarlyStopping counter: 12 out of 100\n",
      "EarlyStopping counter: 13 out of 100\n",
      "EarlyStopping counter: 14 out of 100\n",
      "EarlyStopping counter: 15 out of 100\n",
      "EarlyStopping counter: 16 out of 100\n",
      "EarlyStopping counter: 17 out of 100\n",
      "EarlyStopping counter: 18 out of 100\n",
      "EarlyStopping counter: 19 out of 100\n",
      "EarlyStopping counter: 20 out of 100\n",
      "EarlyStopping counter: 21 out of 100\n",
      "EarlyStopping counter: 22 out of 100\n",
      "EarlyStopping counter: 23 out of 100\n",
      "EarlyStopping counter: 24 out of 100\n",
      "EarlyStopping counter: 25 out of 100\n",
      "EarlyStopping counter: 26 out of 100\n",
      "EarlyStopping counter: 27 out of 100\n",
      "EarlyStopping counter: 28 out of 100\n",
      "EarlyStopping counter: 29 out of 100\n",
      "EarlyStopping counter: 30 out of 100\n",
      "EarlyStopping counter: 31 out of 100\n",
      "EarlyStopping counter: 32 out of 100\n",
      "EarlyStopping counter: 33 out of 100\n",
      "EarlyStopping counter: 34 out of 100\n",
      "EarlyStopping counter: 35 out of 100\n",
      "EarlyStopping counter: 36 out of 100\n",
      "EarlyStopping counter: 37 out of 100\n",
      "EarlyStopping counter: 38 out of 100\n",
      "EarlyStopping counter: 39 out of 100\n",
      "EarlyStopping counter: 40 out of 100\n",
      "EarlyStopping counter: 41 out of 100\n",
      "EarlyStopping counter: 42 out of 100\n",
      "EarlyStopping counter: 43 out of 100\n",
      "EarlyStopping counter: 44 out of 100\n",
      "EarlyStopping counter: 45 out of 100\n",
      "EarlyStopping counter: 46 out of 100\n",
      "EarlyStopping counter: 47 out of 100\n",
      "EarlyStopping counter: 48 out of 100\n",
      "EarlyStopping counter: 49 out of 100\n",
      "EarlyStopping counter: 50 out of 100\n",
      "EarlyStopping counter: 51 out of 100\n",
      "EarlyStopping counter: 52 out of 100\n",
      "EarlyStopping counter: 53 out of 100\n",
      "EarlyStopping counter: 54 out of 100\n",
      "EarlyStopping counter: 55 out of 100\n",
      "EarlyStopping counter: 56 out of 100\n",
      "EarlyStopping counter: 57 out of 100\n",
      "EarlyStopping counter: 58 out of 100\n",
      "EarlyStopping counter: 59 out of 100\n",
      "EarlyStopping counter: 60 out of 100\n",
      "EarlyStopping counter: 61 out of 100\n",
      "EarlyStopping counter: 62 out of 100\n",
      "EarlyStopping counter: 63 out of 100\n",
      "EarlyStopping counter: 64 out of 100\n",
      "EarlyStopping counter: 65 out of 100\n",
      "EarlyStopping counter: 66 out of 100\n",
      "EarlyStopping counter: 67 out of 100\n",
      "EarlyStopping counter: 68 out of 100\n",
      "EarlyStopping counter: 69 out of 100\n",
      "EarlyStopping counter: 70 out of 100\n",
      "EarlyStopping counter: 71 out of 100\n",
      "EarlyStopping counter: 72 out of 100\n",
      "EarlyStopping counter: 73 out of 100\n",
      "EarlyStopping counter: 74 out of 100\n",
      "EarlyStopping counter: 75 out of 100\n",
      "EarlyStopping counter: 76 out of 100\n",
      "EarlyStopping counter: 77 out of 100\n",
      "EarlyStopping counter: 78 out of 100\n",
      "EarlyStopping counter: 79 out of 100\n",
      "EarlyStopping counter: 80 out of 100\n",
      "EarlyStopping counter: 81 out of 100\n",
      "EarlyStopping counter: 82 out of 100\n",
      "EarlyStopping counter: 83 out of 100\n",
      "EarlyStopping counter: 84 out of 100\n",
      "EarlyStopping counter: 85 out of 100\n",
      "EarlyStopping counter: 86 out of 100\n",
      "EarlyStopping counter: 87 out of 100\n",
      "EarlyStopping counter: 88 out of 100\n",
      "EarlyStopping counter: 89 out of 100\n",
      "EarlyStopping counter: 90 out of 100\n",
      "EarlyStopping counter: 91 out of 100\n",
      "EarlyStopping counter: 92 out of 100\n",
      "EarlyStopping counter: 93 out of 100\n",
      "EarlyStopping counter: 94 out of 100\n",
      "EarlyStopping counter: 95 out of 100\n",
      "EarlyStopping counter: 96 out of 100\n",
      "EarlyStopping counter: 97 out of 100\n",
      "EarlyStopping counter: 98 out of 100\n",
      "EarlyStopping counter: 99 out of 100\n",
      "EarlyStopping counter: 100 out of 100\n",
      "201\n",
      "EarlyStopping counter: 1 out of 100\n",
      "EarlyStopping counter: 2 out of 100\n",
      "EarlyStopping counter: 3 out of 100\n",
      "EarlyStopping counter: 4 out of 100\n",
      "EarlyStopping counter: 5 out of 100\n",
      "EarlyStopping counter: 6 out of 100\n",
      "EarlyStopping counter: 7 out of 100\n",
      "EarlyStopping counter: 8 out of 100\n",
      "EarlyStopping counter: 9 out of 100\n",
      "EarlyStopping counter: 10 out of 100\n",
      "EarlyStopping counter: 11 out of 100\n",
      "EarlyStopping counter: 12 out of 100\n",
      "EarlyStopping counter: 13 out of 100\n",
      "EarlyStopping counter: 14 out of 100\n",
      "EarlyStopping counter: 15 out of 100\n",
      "EarlyStopping counter: 16 out of 100\n",
      "EarlyStopping counter: 17 out of 100\n",
      "EarlyStopping counter: 18 out of 100\n",
      "EarlyStopping counter: 19 out of 100\n",
      "EarlyStopping counter: 20 out of 100\n",
      "EarlyStopping counter: 21 out of 100\n",
      "EarlyStopping counter: 22 out of 100\n",
      "EarlyStopping counter: 23 out of 100\n",
      "EarlyStopping counter: 24 out of 100\n",
      "EarlyStopping counter: 25 out of 100\n",
      "EarlyStopping counter: 26 out of 100\n",
      "EarlyStopping counter: 27 out of 100\n",
      "EarlyStopping counter: 28 out of 100\n",
      "EarlyStopping counter: 29 out of 100\n",
      "EarlyStopping counter: 30 out of 100\n",
      "EarlyStopping counter: 31 out of 100\n",
      "EarlyStopping counter: 32 out of 100\n",
      "EarlyStopping counter: 33 out of 100\n",
      "EarlyStopping counter: 34 out of 100\n",
      "EarlyStopping counter: 35 out of 100\n",
      "EarlyStopping counter: 36 out of 100\n",
      "EarlyStopping counter: 37 out of 100\n",
      "EarlyStopping counter: 38 out of 100\n",
      "EarlyStopping counter: 39 out of 100\n",
      "EarlyStopping counter: 40 out of 100\n",
      "EarlyStopping counter: 41 out of 100\n",
      "EarlyStopping counter: 42 out of 100\n",
      "EarlyStopping counter: 43 out of 100\n",
      "EarlyStopping counter: 44 out of 100\n",
      "EarlyStopping counter: 45 out of 100\n",
      "EarlyStopping counter: 46 out of 100\n",
      "EarlyStopping counter: 47 out of 100\n",
      "EarlyStopping counter: 48 out of 100\n",
      "EarlyStopping counter: 49 out of 100\n",
      "EarlyStopping counter: 50 out of 100\n",
      "EarlyStopping counter: 51 out of 100\n",
      "EarlyStopping counter: 52 out of 100\n",
      "EarlyStopping counter: 53 out of 100\n",
      "EarlyStopping counter: 54 out of 100\n",
      "EarlyStopping counter: 55 out of 100\n",
      "EarlyStopping counter: 56 out of 100\n",
      "EarlyStopping counter: 57 out of 100\n",
      "EarlyStopping counter: 58 out of 100\n",
      "EarlyStopping counter: 59 out of 100\n",
      "EarlyStopping counter: 60 out of 100\n",
      "EarlyStopping counter: 61 out of 100\n",
      "EarlyStopping counter: 62 out of 100\n",
      "EarlyStopping counter: 63 out of 100\n",
      "EarlyStopping counter: 64 out of 100\n",
      "EarlyStopping counter: 65 out of 100\n",
      "EarlyStopping counter: 66 out of 100\n",
      "EarlyStopping counter: 67 out of 100\n",
      "EarlyStopping counter: 68 out of 100\n",
      "EarlyStopping counter: 69 out of 100\n",
      "EarlyStopping counter: 70 out of 100\n",
      "EarlyStopping counter: 71 out of 100\n",
      "EarlyStopping counter: 72 out of 100\n",
      "EarlyStopping counter: 73 out of 100\n",
      "EarlyStopping counter: 74 out of 100\n",
      "EarlyStopping counter: 75 out of 100\n",
      "EarlyStopping counter: 76 out of 100\n",
      "EarlyStopping counter: 77 out of 100\n",
      "EarlyStopping counter: 78 out of 100\n",
      "EarlyStopping counter: 79 out of 100\n",
      "EarlyStopping counter: 80 out of 100\n",
      "EarlyStopping counter: 81 out of 100\n",
      "EarlyStopping counter: 82 out of 100\n",
      "EarlyStopping counter: 83 out of 100\n",
      "EarlyStopping counter: 84 out of 100\n",
      "EarlyStopping counter: 85 out of 100\n",
      "EarlyStopping counter: 86 out of 100\n",
      "EarlyStopping counter: 87 out of 100\n",
      "EarlyStopping counter: 88 out of 100\n",
      "EarlyStopping counter: 89 out of 100\n",
      "EarlyStopping counter: 90 out of 100\n",
      "EarlyStopping counter: 91 out of 100\n",
      "EarlyStopping counter: 92 out of 100\n",
      "EarlyStopping counter: 93 out of 100\n",
      "EarlyStopping counter: 94 out of 100\n",
      "EarlyStopping counter: 95 out of 100\n",
      "EarlyStopping counter: 96 out of 100\n",
      "EarlyStopping counter: 97 out of 100\n",
      "EarlyStopping counter: 98 out of 100\n",
      "EarlyStopping counter: 99 out of 100\n",
      "EarlyStopping counter: 100 out of 100\n",
      "301\n",
      "EarlyStopping counter: 1 out of 100\n",
      "EarlyStopping counter: 2 out of 100\n",
      "EarlyStopping counter: 3 out of 100\n",
      "EarlyStopping counter: 4 out of 100\n",
      "EarlyStopping counter: 5 out of 100\n",
      "EarlyStopping counter: 6 out of 100\n",
      "EarlyStopping counter: 7 out of 100\n",
      "EarlyStopping counter: 8 out of 100\n",
      "EarlyStopping counter: 9 out of 100\n",
      "EarlyStopping counter: 10 out of 100\n",
      "EarlyStopping counter: 11 out of 100\n",
      "EarlyStopping counter: 12 out of 100\n",
      "EarlyStopping counter: 13 out of 100\n",
      "EarlyStopping counter: 14 out of 100\n",
      "EarlyStopping counter: 15 out of 100\n",
      "EarlyStopping counter: 16 out of 100\n",
      "EarlyStopping counter: 17 out of 100\n",
      "EarlyStopping counter: 18 out of 100\n",
      "EarlyStopping counter: 19 out of 100\n",
      "EarlyStopping counter: 20 out of 100\n",
      "EarlyStopping counter: 21 out of 100\n",
      "EarlyStopping counter: 22 out of 100\n",
      "EarlyStopping counter: 23 out of 100\n",
      "EarlyStopping counter: 24 out of 100\n",
      "EarlyStopping counter: 25 out of 100\n",
      "EarlyStopping counter: 26 out of 100\n",
      "EarlyStopping counter: 27 out of 100\n",
      "EarlyStopping counter: 28 out of 100\n",
      "EarlyStopping counter: 29 out of 100\n",
      "EarlyStopping counter: 30 out of 100\n",
      "EarlyStopping counter: 31 out of 100\n",
      "EarlyStopping counter: 32 out of 100\n",
      "EarlyStopping counter: 33 out of 100\n",
      "EarlyStopping counter: 34 out of 100\n",
      "EarlyStopping counter: 35 out of 100\n",
      "EarlyStopping counter: 36 out of 100\n",
      "EarlyStopping counter: 37 out of 100\n",
      "EarlyStopping counter: 38 out of 100\n",
      "EarlyStopping counter: 39 out of 100\n",
      "EarlyStopping counter: 40 out of 100\n",
      "EarlyStopping counter: 41 out of 100\n",
      "EarlyStopping counter: 42 out of 100\n",
      "EarlyStopping counter: 43 out of 100\n",
      "EarlyStopping counter: 44 out of 100\n",
      "EarlyStopping counter: 45 out of 100\n",
      "EarlyStopping counter: 46 out of 100\n",
      "EarlyStopping counter: 47 out of 100\n",
      "EarlyStopping counter: 48 out of 100\n",
      "EarlyStopping counter: 49 out of 100\n",
      "EarlyStopping counter: 50 out of 100\n",
      "EarlyStopping counter: 51 out of 100\n",
      "EarlyStopping counter: 52 out of 100\n",
      "EarlyStopping counter: 53 out of 100\n",
      "EarlyStopping counter: 54 out of 100\n",
      "EarlyStopping counter: 55 out of 100\n",
      "EarlyStopping counter: 56 out of 100\n",
      "EarlyStopping counter: 57 out of 100\n",
      "EarlyStopping counter: 58 out of 100\n",
      "EarlyStopping counter: 59 out of 100\n",
      "EarlyStopping counter: 60 out of 100\n",
      "EarlyStopping counter: 61 out of 100\n",
      "EarlyStopping counter: 62 out of 100\n",
      "EarlyStopping counter: 63 out of 100\n",
      "EarlyStopping counter: 64 out of 100\n",
      "EarlyStopping counter: 65 out of 100\n",
      "EarlyStopping counter: 66 out of 100\n",
      "EarlyStopping counter: 67 out of 100\n",
      "EarlyStopping counter: 68 out of 100\n",
      "EarlyStopping counter: 69 out of 100\n",
      "EarlyStopping counter: 70 out of 100\n",
      "EarlyStopping counter: 71 out of 100\n",
      "EarlyStopping counter: 72 out of 100\n",
      "EarlyStopping counter: 73 out of 100\n",
      "EarlyStopping counter: 74 out of 100\n",
      "EarlyStopping counter: 75 out of 100\n",
      "EarlyStopping counter: 76 out of 100\n",
      "EarlyStopping counter: 77 out of 100\n",
      "EarlyStopping counter: 78 out of 100\n",
      "EarlyStopping counter: 79 out of 100\n",
      "EarlyStopping counter: 80 out of 100\n",
      "EarlyStopping counter: 81 out of 100\n",
      "EarlyStopping counter: 82 out of 100\n",
      "EarlyStopping counter: 83 out of 100\n",
      "EarlyStopping counter: 84 out of 100\n",
      "EarlyStopping counter: 85 out of 100\n",
      "EarlyStopping counter: 86 out of 100\n",
      "EarlyStopping counter: 87 out of 100\n",
      "EarlyStopping counter: 88 out of 100\n",
      "EarlyStopping counter: 89 out of 100\n",
      "EarlyStopping counter: 90 out of 100\n",
      "EarlyStopping counter: 91 out of 100\n",
      "EarlyStopping counter: 92 out of 100\n",
      "EarlyStopping counter: 93 out of 100\n",
      "EarlyStopping counter: 94 out of 100\n",
      "EarlyStopping counter: 95 out of 100\n",
      "EarlyStopping counter: 96 out of 100\n",
      "EarlyStopping counter: 97 out of 100\n",
      "EarlyStopping counter: 98 out of 100\n",
      "EarlyStopping counter: 99 out of 100\n",
      "EarlyStopping counter: 100 out of 100\n",
      "401\n",
      "EarlyStopping counter: 1 out of 100\n",
      "EarlyStopping counter: 2 out of 100\n",
      "EarlyStopping counter: 3 out of 100\n",
      "EarlyStopping counter: 4 out of 100\n",
      "EarlyStopping counter: 5 out of 100\n",
      "EarlyStopping counter: 6 out of 100\n",
      "EarlyStopping counter: 7 out of 100\n",
      "EarlyStopping counter: 8 out of 100\n",
      "EarlyStopping counter: 9 out of 100\n",
      "EarlyStopping counter: 10 out of 100\n",
      "EarlyStopping counter: 11 out of 100\n",
      "EarlyStopping counter: 12 out of 100\n",
      "EarlyStopping counter: 13 out of 100\n",
      "EarlyStopping counter: 14 out of 100\n",
      "EarlyStopping counter: 15 out of 100\n",
      "EarlyStopping counter: 16 out of 100\n",
      "EarlyStopping counter: 17 out of 100\n",
      "EarlyStopping counter: 18 out of 100\n",
      "EarlyStopping counter: 19 out of 100\n",
      "EarlyStopping counter: 20 out of 100\n",
      "EarlyStopping counter: 21 out of 100\n",
      "EarlyStopping counter: 22 out of 100\n",
      "EarlyStopping counter: 23 out of 100\n",
      "EarlyStopping counter: 24 out of 100\n",
      "EarlyStopping counter: 25 out of 100\n",
      "EarlyStopping counter: 26 out of 100\n",
      "EarlyStopping counter: 27 out of 100\n",
      "EarlyStopping counter: 28 out of 100\n",
      "EarlyStopping counter: 29 out of 100\n",
      "EarlyStopping counter: 30 out of 100\n",
      "EarlyStopping counter: 31 out of 100\n",
      "EarlyStopping counter: 32 out of 100\n",
      "EarlyStopping counter: 33 out of 100\n",
      "EarlyStopping counter: 34 out of 100\n",
      "EarlyStopping counter: 35 out of 100\n",
      "EarlyStopping counter: 36 out of 100\n",
      "EarlyStopping counter: 37 out of 100\n",
      "EarlyStopping counter: 38 out of 100\n",
      "EarlyStopping counter: 39 out of 100\n",
      "EarlyStopping counter: 40 out of 100\n",
      "EarlyStopping counter: 41 out of 100\n",
      "EarlyStopping counter: 42 out of 100\n",
      "EarlyStopping counter: 43 out of 100\n",
      "EarlyStopping counter: 44 out of 100\n",
      "EarlyStopping counter: 45 out of 100\n",
      "EarlyStopping counter: 46 out of 100\n",
      "EarlyStopping counter: 47 out of 100\n",
      "EarlyStopping counter: 48 out of 100\n",
      "EarlyStopping counter: 49 out of 100\n",
      "EarlyStopping counter: 50 out of 100\n",
      "EarlyStopping counter: 51 out of 100\n",
      "EarlyStopping counter: 52 out of 100\n",
      "EarlyStopping counter: 53 out of 100\n",
      "EarlyStopping counter: 54 out of 100\n",
      "EarlyStopping counter: 55 out of 100\n",
      "EarlyStopping counter: 56 out of 100\n",
      "EarlyStopping counter: 57 out of 100\n",
      "EarlyStopping counter: 58 out of 100\n",
      "EarlyStopping counter: 59 out of 100\n",
      "EarlyStopping counter: 60 out of 100\n",
      "EarlyStopping counter: 61 out of 100\n",
      "EarlyStopping counter: 62 out of 100\n",
      "EarlyStopping counter: 63 out of 100\n",
      "EarlyStopping counter: 64 out of 100\n",
      "EarlyStopping counter: 65 out of 100\n",
      "EarlyStopping counter: 66 out of 100\n",
      "EarlyStopping counter: 67 out of 100\n",
      "EarlyStopping counter: 68 out of 100\n",
      "EarlyStopping counter: 69 out of 100\n",
      "EarlyStopping counter: 70 out of 100\n",
      "EarlyStopping counter: 71 out of 100\n",
      "EarlyStopping counter: 72 out of 100\n",
      "EarlyStopping counter: 73 out of 100\n",
      "EarlyStopping counter: 74 out of 100\n",
      "EarlyStopping counter: 75 out of 100\n",
      "EarlyStopping counter: 76 out of 100\n",
      "EarlyStopping counter: 77 out of 100\n",
      "EarlyStopping counter: 78 out of 100\n",
      "EarlyStopping counter: 79 out of 100\n",
      "EarlyStopping counter: 80 out of 100\n",
      "EarlyStopping counter: 81 out of 100\n",
      "EarlyStopping counter: 82 out of 100\n",
      "EarlyStopping counter: 83 out of 100\n",
      "EarlyStopping counter: 84 out of 100\n",
      "EarlyStopping counter: 85 out of 100\n",
      "EarlyStopping counter: 86 out of 100\n",
      "EarlyStopping counter: 87 out of 100\n",
      "EarlyStopping counter: 88 out of 100\n",
      "EarlyStopping counter: 89 out of 100\n",
      "EarlyStopping counter: 90 out of 100\n",
      "EarlyStopping counter: 91 out of 100\n",
      "EarlyStopping counter: 92 out of 100\n",
      "EarlyStopping counter: 93 out of 100\n",
      "EarlyStopping counter: 94 out of 100\n",
      "EarlyStopping counter: 95 out of 100\n",
      "EarlyStopping counter: 96 out of 100\n",
      "EarlyStopping counter: 97 out of 100\n",
      "EarlyStopping counter: 98 out of 100\n",
      "EarlyStopping counter: 99 out of 100\n",
      "EarlyStopping counter: 100 out of 100\n",
      "501\n",
      "EarlyStopping counter: 1 out of 100\n",
      "EarlyStopping counter: 2 out of 100\n",
      "EarlyStopping counter: 3 out of 100\n",
      "EarlyStopping counter: 4 out of 100\n",
      "EarlyStopping counter: 5 out of 100\n",
      "EarlyStopping counter: 6 out of 100\n",
      "EarlyStopping counter: 7 out of 100\n",
      "EarlyStopping counter: 8 out of 100\n"
     ]
    }
   ],
   "source": [
    "es1 = EarlyStopping(patience=100)\n",
    "es2 = EarlyStopping(patience=100)\n",
    "es3 = EarlyStopping(patience=100)\n",
    "for i, _ in enumerate(res['dp']):\n",
    "#     es1(res['abs_dp'][i])\n",
    "#     es2(res['abs_eop'][i])\n",
    "    es3(res['epoch_loss'][i])\n",
    "    \n",
    "    if  es3.early_stop:\n",
    "        es3.counter=0\n",
    "        es3.early_stop = False\n",
    "        print(i)\n",
    "#         break"
   ]
  },
  {
   "cell_type": "code",
   "execution_count": 43,
   "metadata": {},
   "outputs": [
    {
     "data": {
      "text/plain": [
       "overall_acc                0.793812\n",
       "dp                        -0.093946\n",
       "eop                       -0.485059\n",
       "average_odds_difference    0.753600\n",
       "grp_0_acc                  0.854492\n",
       "grp_1_acc                  0.764626\n",
       "epoch_loss                 0.561613\n",
       "abs_dp                     0.093946\n",
       "abs_eop                    0.485059\n",
       "abs_aod                    0.753600\n",
       "Name: 201, dtype: float64"
      ]
     },
     "execution_count": 43,
     "metadata": {},
     "output_type": "execute_result"
    }
   ],
   "source": [
    "res.iloc[201,:]"
   ]
  },
  {
   "cell_type": "code",
   "execution_count": 83,
   "metadata": {},
   "outputs": [
    {
     "data": {
      "text/plain": [
       "<AxesSubplot:>"
      ]
     },
     "execution_count": 83,
     "metadata": {},
     "output_type": "execute_result"
    },
    {
     "data": {
      "image/png": "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\n",
      "text/plain": [
       "<Figure size 640x480 with 1 Axes>"
      ]
     },
     "metadata": {},
     "output_type": "display_data"
    }
   ],
   "source": [
    "res['abs_dp'] = abs(res['dp'])\n",
    "res['abs_eop'] = abs(res['eop'])\n",
    "res['abs_aod'] = abs(res['average_odds_difference'])\n",
    "res[['abs_dp', 'abs_eop', 'epoch_loss']].iloc[200:, :].plot()"
   ]
  },
  {
   "cell_type": "code",
   "execution_count": 8,
   "metadata": {},
   "outputs": [
    {
     "data": {
      "text/plain": [
       "<AxesSubplot:>"
      ]
     },
     "execution_count": 8,
     "metadata": {},
     "output_type": "execute_result"
    },
    {
     "data": {
      "image/png": "iVBORw0KGgoAAAANSUhEUgAAAiIAAAGhCAYAAABceN/BAAAAOXRFWHRTb2Z0d2FyZQBNYXRwbG90bGliIHZlcnNpb24zLjUuMywgaHR0cHM6Ly9tYXRwbG90bGliLm9yZy/NK7nSAAAACXBIWXMAAA9hAAAPYQGoP6dpAACdb0lEQVR4nOzddXyVdf/H8dd1et0d5OhGQEJCAQMxfyYqdoFx6+2tqLdiYtwqttgtJiqKIKiESHeOGivWdZYnr98fZzvbYQMGbDvA+Tx97OE5V37PYdt575uKqqoqQgghhBBeoPF2AYQQQgjhuySICCGEEMJrJIgIIYQQwmskiAghhBDCaySICCGEEMJrJIgIIYQQwmskiAghhBDCaySICCGEEMJrJIgIIYQQwmskiAghhBDCa1o1iLRv3x5FURp9TZkypTVvK4QQQoiThK41L75mzRocDof7+datWxk3bhyXXXZZa95WCCGEECcJpS0Xvbv33nv55Zdf2L17N4qiHPF4p9PJgQMHCAoKatbxQgghhPA+VVUpLy8nPj4ejebwjS+tWiPSkNVq5fPPP+e+++47ZKiwWCxYLBb38+zsbHr06NFWRRRCCCFEC8rMzCQxMfGwx7RZEPnxxx8pLS3l+uuvP+QxM2bM4Iknnmi0PTMzk+Dg4FYsnRBCCCFaitlsJikpiaCgoCMe22ZNM2effTYGg4G5c+ce8piDa0TqXkhZWZkEESGEEOIkYTabCQkJadbnd5vUiKSnp7No0SJ++OGHwx5nNBoxGo1tUSQhhBBCnADaZB6Rjz76iOjoaCZMmNAWtxNCCCHESaLVg4jT6eSjjz5i8uTJ6HRt1iVFCCGEECeBVk8GixYtIiMjgxtvvLG1byWE8FEOhwObzebtYgjhU/R6PVqt9riv0+pBZPz48bThVCVCCB9TUVFBVlaW/J4Roo0pikJiYiKBgYHHdR1pKxFCnLQcDgdZWVn4+/sTFRUlEx8K0UZUVaWgoICsrCxSUlKOq2ZEgogQ4qRls9lQVZWoqCj8/Py8XRwhfEpUVBT79+/HZrMdVxCR1XeFECc9qQkRou211M+dBBEhhBBCeI0EESGEEEJ4jQQRIYQ4QYwePZp7773X28UQok1JEBFCCCGE1/jkqBnLvn2UzJ6NPiaGiJtu8nZxhBBCCJ/lkzUituwDlHz6GWW//OrtogghWpCqqlRZ7V75OtoJ1SorK7nuuusIDAwkLi6Ol156yWN/+/bteeqpp7jqqqsICAggISGBN998syXfLiFOCD5ZI4KmdsiRzMQoxCml2uagx2MLvHLv7U+ejb+h+b9SH3jgAZYsWcJPP/1EdHQ0Dz/8MOvXr6dfv37uY1588UUefvhhnnjiCRYsWMA999xDly5dGDduXCu8AiG8wyeDiKKprQhyOr1bECGET6qoqOCDDz7g888/56yzzgLgk08+ITEx0eO44cOH89BDDwHQpUsXli9fziuvvCJBRJxSfDKIoNQGEVWCiBCnEj+9lu1Pnu21ezfX3r17sVqtDBkyxL0tPDycrl27ehw3dOjQRs9nzpx5XOUU4kTjm0GktmlGdUrTjBCnEkVRjqp5RAjhfT7ZWVWaZoQQ3tSpUyf0ej2rVq1ybyspKWHXrl0ex61cubLR8+7du7dJGYVoK775p4MEESGEFwUGBnLTTTfxwAMPEBERQXR0NI888ggajeffhsuXL+eFF17goosuYuHChXz77bf8+quM9hOnFt8MIrUL9RztcDshhGgpL774IhUVFUycOJGgoCDuv/9+ysrKPI65//77Wbt2LU888QTBwcG8/PLLnH22d/rACNFafDKISNOMEMLbAgMD+eyzz/jss8/c2x544AGPY4KDg/nmm2/aumhCtCmf7CMiTTNCCCHEicE3gwjSNCOEEEKcCHyyaUZmVhVCnOj279/v7SII0SZ8skZE+ogIIYQQJwafDCJ1fURUmVlVCCGE8CrfDCK1w3eRmVWFEEIIr/LJICJNM0IIIcSJwSeDiAzfFUIIIU4MvhlEZGZVIYQQ4oTgk0FEmmaEEEKIE4NPBhFpmhFCCCFODL4ZRKRpRgghhDgh+GQQURSZWVWIU5KqgrXSO19H+fvE6XQyY8YMOnTogJ+fH3379uW7775z71+yZAmDBw/GaDQSFxfHQw89hN1ud+8fPXo0U6dOZerUqYSEhBAZGcl///tf+QNLnHR8dIp3aZoR4pRkq4Jn471z74cPgCGg2YfPmDGDzz//nHfeeYeUlBSWLl3KNddcQ1RUFJ07d+a8887j+uuv59NPP2Xnzp3ccsstmEwmpk+f7r7GJ598wk033cTq1atZu3Ytt956K8nJydxyyy2t8AKFaB0+HUTkLwchhDdYLBaeffZZFi1axNChQwHo2LEjf//9N7NmzaJDhw4kJSXxxhtvoCgK3bp148CBAzz44IM89thjaGp/hyUlJfHKK6+gKApdu3Zly5YtvPLKKxJExEnFN4OIe2ZVqRER4pSi93fVTHjr3s20Z88eqqqqGDdunMd2q9VK//79qampYejQofXNyMDw4cOpqKggKyuL5ORkAE4//XSPY4YOHcpLL72Ew+FAq9Ue5wsSom34ZBCR4btCnKIU5aiaR7yloqICgF9//ZWEhASPfUajkXvuuccbxRLCK1q9s2p2djbXXHMNERER+Pn50bt3b9auXdvatz28uiCiqtI8I4Rocz169MBoNJKRkUHnzp09vpKSkujevTsrVqzw+P20fPlygoKCSExMdG9btWqVx3VXrlxJSkqK1IaIk0qr1oiUlJQwfPhwxowZw2+//UZUVBS7d+8mLCysNW97ZA2qMlFVz+dCCNHKgoKC+Pe//82//vUvnE4nI0aMoKysjOXLlxMcHMydd97JzJkzueuuu5g6dSqpqak8/vjj3Hfffe7+IQAZGRncd9993Hbbbaxfv57XX3+dl156yYuvTIij16pB5PnnnycpKYmPPvrIva1Dhw6tectmURr8ION01teQCCFEG3nqqaeIiopixowZ7Nu3j9DQUAYMGMDDDz9MQkIC8+bN44EHHqBv376Eh4dz00038eijj3pc47rrrqO6uprBgwej1Wq55557uPXWW730ioQ4Noraim0TPXr04OyzzyYrK4slS5aQkJDAnXfeecge3RaLBYvF4n5uNptJSkqirKyM4ODgFiuXo7ycXYMGA9Bt8yYUg6HFri2EaDs1NTWkpaXRoUMHTCaTt4vTpkaPHk2/fv2YOXOmt4sifNThfv7MZjMhISHN+vxu1aqAffv28fbbb5OSksKCBQu44447uPvuu/nkk0+aPH7GjBmEhIS4v5KSklqnYA2aYqSPiBBCCOE9rRpEnE4nAwYM4Nlnn6V///7ceuut3HLLLbzzzjtNHj9t2jTKysrcX5mZma1SLuXgPiJCCCGE8IpW7SMSFxdHjx49PLZ1796d77//vsnjjUYjRqOxNYvkcnAfESGEOMksXrzY20UQokW0ao3I8OHDSU1N9di2a9cu2rVr15q3PbIGQUR1So2IEEII4S2tGkT+9a9/sXLlSp599ln27NnDl19+ybvvvsuUKVNa87ZH5Nk0IzUiQgghhLe0ahAZNGgQc+bM4auvvqJXr1489dRTzJw5k0mTJrXmbY9MmmaEEEKIE0KrT/F+/vnnc/7557f2bY6OR9OMBBEhhBDCW3xzJi8ZNSOEEEKcEHwyiCiKIivwCiGEECcAnwwigLt5RppmhBDixLd//34URWHjxo2HPGbx4sUoikJpaWmL3//ga3/88ceEhoZ6HPPuu++SlJSERqNxz3jb1DbhqdX7iJyw6mpEpGlGCCHEUbriiis477zz3M/NZjNTp07l5Zdf5tJLLyUkJKTJbaIxnw0iiqKgggQRIYRPcDgcKIrisXqvOHZ+fn74+fm5n2dkZGCz2ZgwYQJxcXEAbN26tdG2Y2Gz2dDr9cdd5hOV735H1v0wStOMEKcMVVWpslV55eto162aP38+I0aMIDQ0lIiICM4//3z27t0LwLBhw3jwwQc9ji8oKECv17N06VLAtUjov//9bxISEggICGDIkCEes63WNR38/PPP9OjRA6PRSEZGBmvWrGHcuHFERkYSEhLCqFGjWL9+vce9du7cyYgRIzCZTPTo0YNFixahKAo//vij+5jMzEwuv/xyQkNDCQ8P58ILL2T//v3Neu1Op5Mnn3ySxMREjEYj/fr1Y/78+R7HrF69mv79+2MymTjttNPYsGFDo+vMmzePLl264Ofnx5gxYxrdPz09nYkTJxIWFkZAQAA9e/Zk3rx5zSrjka7dsGnm448/pnfv3gB07NgRRVGa3FZ3jZ9++okBAwZgMpno2LEjTzzxBHa73X1tRVF4++23ueCCCwgICOCZZ55p9nnvv/8+F198Mf7+/qSkpPDzzz97lHvbtm2cf/75BAcHExQUxBlnnOH+vgN4//336d69OyaTiW7duvHWW2816/06Hj5bI1LfR0RqRIQ4VVTbqxny5RCv3HvV1avw1/s3+/jKykruu+8++vTpQ0VFBY899hgXX3wxGzduZNKkSbzwwgs899xz7gkYv/76a+Lj4znjjDMAmDp1Ktu3b2f27NnEx8czZ84czjnnHLZs2UJKSgoAVVVVPP/887z//vtEREQQHR3Nvn37mDx5Mq+//jqqqvLSSy9x3nnnsXv3boKCgnA4HFx00UUkJyezatUqysvLuf/++z3KbrPZOPvssxk6dCjLli1Dp9Px9NNPc84557B582YMR1jR/NVXX+Wll15i1qxZ9O/fnw8//JALLriAbdu2kZKSQkVFBeeffz7jxo3j888/Jy0tjXvuucfjGpmZmVxyySVMmTKFW2+9lbVr1zYq55QpU7BarSxdupSAgAC2b99OYGDgEf9tmnPthq644gqSkpIYO3Ysq1evJikpiaCgoEbboqKiWLZsGddddx2vvfaaOwTceuutADz++OPua06fPp3nnnuOmTNnotPpmn3eE088wQsvvMCLL77I66+/zqRJk0hPTyc8PJzs7GxGjhzJ6NGj+fPPPwkODmb58uXuMPPFF1/w2GOP8cYbb9C/f382bNjALbfcQkBAAJMnTz7i+3bM1BNYWVmZCqhlZWUtfu2d/Qeo27t2Uy0ZGS1+bSFE26iurla3b9+uVldXq6qqqpXWSrXXx7288lVprTyu11JQUKAC6pYtW9T8/HxVp9OpS5cude8fOnSo+uCDD6qqqqrp6emqVqtVs7OzPa5x1llnqdOmTVNVVVU/+ugjFVA3btx42Ps6HA41KChInTt3rqqqqvrbb7+pOp1OzcnJcR+zcOFCFVDnzJmjqqqqfvbZZ2rXrl1Vp9PpPsZisah+fn7qggULjvha4+Pj1WeeecZj26BBg9Q777xTVVVVnTVrlhoREeH+d1VVVX377bdVQN2wYYOqqqo6bdo0tUePHh7XePDBB1VALSkpUVVVVXv37q1Onz79iOU5WHOu/dFHH6khISHu/Rs2bFABNS0t7bDbzjrrLPXZZ5/1uPZnn32mxsXFuZ8D6r333utxTHPPe/TRR93PKyoqVED97bff3K+rQ4cOqtVqbfJ1d+rUSf3yyy89tj311FPq0KFDmzz+4J+/ho7m89vna0SkaUaIU4efzo9VV6/y2r2Pxu7du3nsscdYtWoVhYWFOGt/F2VkZNCrVy/Gjx/PF198wRlnnEFaWhorVqxg1qxZAGzZsgWHw0GXLl08rmmxWIiIiHA/NxgM9OnTx+OYvLw8Hn30URYvXkx+fj4Oh4OqqioyMjIASE1NJSkpidjYWPc5gwcP9rjGpk2b2LNnD0FBQR7ba2pqPKr5m2I2mzlw4ADDhw/32D58+HA2bdoEwI4dO+jTpw8mk8m9f+jQoR7H79ixgyFDPGu/Dj7m7rvv5o477uD3339n7NixXHrppY3ej6Y059rHatOmTSxfvtzd3AKu/js1NTVUVVXh7++qVTvttNOO6byGry8gIIDg4GDy8/MB2LhxI2eccUaT/U0qKyvZu3cvN910E7fccot7u91ub/VOtj4fRGT4rhCnDkVRjqp5xJsmTpxIu3bteO+994iPj8fpdNKrVy+sVisAkyZN4u677+b111/nyy+/pHfv3u4+BxUVFWi1WtatW4dWq/W4bsOmBz8/P8+1tYDJkydTVFTEq6++Srt27TAajQwdOtR93+aoqKhg4MCBfPHFF432RUVFNfs6re3mm2/m7LPP5tdff+X3339nxowZvPTSS9x1111eK1NFRQVPPPEEl1xySaN9DYNXQEDAMZ13cMhQFMUdcht2rm2qXADvvfdeoxB28PdYS/PZIKLI8F0hhJcUFRWRmprKe++95+7z8ffff3scc+GFF3Lrrbcyf/58vvzyS6677jr3vv79++NwOMjPz3ef31zLly/nrbfecg89zczMpLCw0L2/a9euZGZmkpeXR0xMDABr1qzxuMaAAQP4+uuviY6OJjg4+KjuHxwcTHx8PMuXL2fUqFEe5aqreenevTufffYZNTU17g/ZlStXelyne/fujTpiHnwMQFJSErfffju3334706ZN47333jtiEGnutY/FgAEDSE1NpXPnzm1yXkN9+vThk08+aXIUTkxMDPHx8ezbt6/N14OTUTNSIyKEaGNhYWFERETw7rvvsmfPHv7880/uu+8+j2MCAgK46KKL+O9//8uOHTu46qqr3Pu6dOnCpEmTuO666/jhhx9IS0tj9erVzJgxg19//fWw905JSeGzzz5jx44drFq1ikmTJnn8pTxu3Dg6derE5MmT2bx5M8uXL+fRRx8F6v+AmzRpEpGRkVx44YUsW7aMtLQ0Fi9ezN13301WVtYRX/8DDzzA888/z9dff01qaioPPfQQGzdudHdIvfrqq1EUhVtuuYXt27czb948/ve//3lc4/bbb2f37t088MADpKam8uWXX/Lxxx97HHPvvfeyYMEC0tLSWL9+PX/99Rfdu3c/Yvmac+1j9dhjj/Hpp5/yxBNPsG3bNnbs2MHs2bPd73FLn9fQ1KlTMZvNXHnllaxdu5bdu3fz2WefkZqaCrg6us6YMYPXXnuNXbt2sWXLFj766CNefvnl43rNR3TEXiRe1JqdVVOHDVe3d+2mVqemtvi1hRBt43Cd5U50CxcuVLt3764ajUa1T58+6uLFiz06hKqqqs6bN08F1JEjRzY632q1qo899pjavn17Va/Xq3FxcerFF1+sbt68WVXVxp0p66xfv1497bTTVJPJpKakpKjffvut2q5dO/WVV15xH7Njxw51+PDhqsFgULt166bOnTtXBdT58+e7j8nJyVGvu+46NTIyUjUajWrHjh3VW265pVm/rx0Ohzp9+nQ1ISFB1ev1at++fd0dKuusWLFC7du3r2owGNR+/fqp33//vUdnVVVV1blz56qdO3dWjUajesYZZ6gffvihR4fSqVOnqp06dVKNRqMaFRWlXnvttWphYeERy9ecax9rZ1VVVdX58+erw4YNU/38/NTg4GB18ODB6rvvvuvef/D3wfGcFxISon700Ufu55s2bVLHjx+v+vv7q0FBQeoZZ5yh7t27173/iy++UPv166caDAY1LCxMHTlypPrDDz80+R61VGdVpbbwJySz2UxISAhlZWVHXf13JLtGnIGjsJAOP/2IqWvXFr22EKJt1NTUkJaWRocOHTzayUXLWr58OSNGjGDPnj106tTJ28URJ4jD/fwdzee39BE5cXOYEEJ4xZw5cwgMDCQlJYU9e/Zwzz33MHz4cAkholVIHxHpIyKEEB7Ky8uZMmUK3bp14/rrr2fQoEH89NNPzT4/MDDwkF/Lli1rxZI3z+23337I8t1+++3eLp7P8dkaEZlZVQghmnbdddd5jNI5WodbITchIeGYr9tSnnzySf797383ua+luwGII/PZIFLfNCM1IkII0ZKOZ4hpW4iOjiY6OtrbxRC1pGlGmmaEEEIIr/H5ICIzqwohhBDe47NBREbNCCGEEN7ns0FEmmaEEEII7/P5ICJNM0IIIYT3+G4QqVuQUobvCiF80OLFi1EUhdLS0mM6f/r06fTr169FyyR8k88GEUWpe+kSRIQQQghv8dkgIn1EhBBCCO/z+SAiM6sKcepQVRVnVZVXvo52/VCn08mMGTPo0KEDfn5+9O3bl++++w6obzb59ddf6dOnDyaTidNPP52tW7d6XOP777+nZ8+eGI1G2rdvz0svveSx32Kx8OCDD5KUlITRaKRz58588MEHHsesW7eO0047DX9/f4YNG+ZeEv5oOZ1OnnzySRITEzEajfTr14/58+e791utVqZOnUpcXBwmk4l27doxY8YMwPXvNn36dJKTkzEajcTHx3P33XcfUznEyUdmVpWZVYU4ZajV1aQOGOiVe3ddvw7F37/Zx8+YMYPPP/+cd955h5SUFJYuXco111xDVFSU+5gHHniAV199ldjYWB5++GEmTpzIrl270Ov1rFu3jssvv5zp06dzxRVX8M8//3DnnXcSERHB9ddfD7imal+xYgWvvfYaffv2JS0tjcLCQo9yPPLII7z00ktERUVx++23c+ONN7J8+fKjfv2vvvoqL730ErNmzaJ///58+OGHXHDBBWzbto2UlBRee+01fv75Z7755huSk5PJzMwkMzMTcAWqV155hdmzZ9OzZ09yc3PZtGnTUZdBnJx8NohI04wQwlssFgvPPvssixYtYujQoQB07NiRv//+m1mzZnHrrbcC8PjjjzNu3DgAPvnkExITE5kzZw6XX345L7/8MmeddRb//e9/AejSpQvbt2/nxRdf5Prrr2fXrl188803LFy4kLFjx7rvcbBnnnmGUaNGAfDQQw8xYcIEampqGi3rfiT/+9//ePDBB7nyyisBeP755/nrr7+YOXMmb775JhkZGaSkpDBixAgURaFdu3buczMyMoiNjWXs2LHo9XqSk5MZPHjwUd1fnLx8PojI8F0hTh2Knx9d16/z2r2ba8+ePVRVVblDRh2r1Ur//v3dz+tCCkB4eDhdu3Zlx44dAOzYsYMLL7zQ4/zhw4czc+ZMHA4HGzduRKvVukPGofTp08f9OC4uDoD8/HySk5Ob/XrMZjMHDhxg+PDhjcpTV7Nx/fXXM27cOLp27co555zD+eefz/jx4wG47LLLmDlzJh07duScc87hvPPOY+LEieh0vvsR5Ut89l9ZZlYV4tSjKMpRNY94S0VFBQC//vpro9VojUYje/fuPe57+DUzGOn1evfjut+Lzlb4A23AgAGkpaXx22+/sWjRIi6//HLGjh3Ld999R1JSEqmpqSxatIiFCxdy55138uKLL7JkyRKP8olTk893VpWmGSFEW+vRowdGo5GMjAw6d+7s8ZWUlOQ+buXKle7HJSUl7Nq1i+7duwPQvXv3Rn05li9fTpcuXdBqtfTu3Run08mSJUta/fUEBwcTHx/fZHl69OjhcdwVV1zBe++9x9dff833339PcXEx4ApOEydO5LXXXmPx4sWsWLGCLVu2tHrZhff5bI2INM0IIbwlKCiIf//73/zrX//C6XQyYsQIysrKWL58OcHBwe7+E08++SQRERHExMTwyCOPEBkZyUUXXQTA/fffz6BBg3jqqae44oorWLFiBW+88QZvvfUWAO3bt2fy5MnceOON7s6q6enp5Ofnc/nll7f4a3rggQd4/PHH6dSpE/369eOjjz5i48aNfPHFFwC8/PLLxMXF0b9/fzQaDd9++y2xsbGEhoby8ccf43A4GDJkCP7+/nz++ef4+fl59CMRpy7fDSIys6oQwoueeuopoqKimDFjBvv27SM0NJQBAwbw8MMPu5tGnnvuOe655x52795Nv379mDt3LgaDAXA1dXzzzTc89thjPPXUU8TFxfHkk0+6R8wAvP322zz88MPceeedFBUVkZyczMMPP9wqr+fuu++mrKyM+++/n/z8fHr06MHPP/9MSkoK4ApfL7zwArt370ar1TJo0CDmzZuHRqMhNDSU5557jvvuuw+Hw0Hv3r2ZO3cuERERrVJWcWJR1KMd/N6GzGYzISEhlJWVERwc3KLXTr/2OqrWrCFh5isEn3NOi15bCNE2ampqSEtLo0OHDkc9yuNEtnjxYsaMGUNJSQmhoaHeLo4QTTrcz9/RfH63ah+R6dOnuzqPNfjq1q1ba96y+aSPiBBCCOF1rd4007NnTxYtWlR/wxNlOJbG1TYjM6sKIURjPXv2JD09vcl9s2bNYtKkSW1cInGqavVUoNPpiI2NbdaxFosFi8Xifm42m1urWPWL3snMqkKIE8zo0aOPesr4ljZv3jxsNluT+2JiYtq4NOJU1upBZPfu3cTHx2MymRg6dCgzZsw45EQ5M2bM4IknnmjtIrlI04wQQhySjFgRbaVV+4gMGTKEjz/+mPnz5/P222+TlpbGGWecQXl5eZPHT5s2jbKyMvdX3ToErUKaZoQ4ZXi79kAIX9RSP3etWiNy7rnnuh/36dOHIUOG0K5dO7755htuuummRscbjUaMRmNrFsnN3TQjNSJCnLS0Wi3gmhq9uTOJCiFahtVqBep/Do9Vm/YcDQ0NpUuXLuzZs6ctb9s0jfQREeJkp9Pp8Pf3p6CgAL1ej0bju5NFC9GWnE4nBQUF+Pv7H/cglDYNIhUVFezdu5drr722LW/bNJlZVYiTnqIoxMXFkZaWdsgRHkKI1qHRaEhOTq5fu+0YtWoQ+fe//83EiRNp164dBw4c4PHHH0er1XLVVVe15m2bR2ZWFeKUYDAYSElJcVcTCyHahsFgaJFayFYNIllZWVx11VUUFRURFRXFiBEjWLlyJVFRUa1522Zx9xFBgogQJzuNRnNKzawqhC9p1SAye/bs1rz88ZGmGSGEEMLrfLdnV+3wXWmaEUIIIbzHZ4OIDN8VQgghvM9ng4gM3xVCCCG8z4eDiMysKoQQQnibzwYRaZoRQgghvM9ng4g0zQghhBDe57tBRJGmGSGEEMLbfDeIuIfvSo2IEEII4S0+G0RkZlUhhBDC+3w2iMjMqkIIIYT3+XAQkZlVhRBCCG/z2SAiw3eFEEII7/PZIOJumpHhu0IIIYTX+HAQkaYZIYQQwtt8NohI04wQQgjhfT4bRGRmVSGEEML7fDeIyMyqQgghhNf5bBBRZGZVIYQQwut8NohQ10dElRoRIYQQwlt8N4jI8F0hhBDC63w4iMjwXSGEEMLbfDaIyPBdIYQQwvt8NohI04wQQgjhfT4cRKRpRgghhPA2nw0iikaaZoQQQghv89kgUjd8V5pmhBBCCO/x4SAiTTNCCCGEt/lsEJGZVYUQQgjv89kgIjOrCiGEEN7nu0FEhu8KIYQQXuezQUSR4btCCCGE1/lsEEFmVhVCCCG8zneDiDTNCCGEEF7nw0FEmmaEEEIIb2uzIPLcc8+hKAr33ntvW93ysGRmVSGEEML72iSIrFmzhlmzZtGnT5+2uF3zyMyqQgghhNe1ehCpqKhg0qRJvPfee4SFhbX27ZqvtmUGhwQRIYQQwltaPYhMmTKFCRMmMHbs2CMea7FYMJvNHl+tRdHqAFCdjla7hxBCCCEOT9eaF589ezbr169nzZo1zTp+xowZPPHEE61ZJDfFoHc9sNna5H5CCCGEaKzVakQyMzO55557+OKLLzCZTM06Z9q0aZSVlbm/MjMzW6t4KHpXEFGtEkSEEEIIb2m1GpF169aRn5/PgAED3NscDgdLly7ljTfewGKxoNVqPc4xGo0YjcbWKpIHdxCx29vkfkIIIYRorNWCyFlnncWWLVs8tt1www1069aNBx98sFEIaWvuICJNM0IIIYTXtFoQCQoKolevXh7bAgICiIiIaLTdGySICCGEEN7nszOrShARQgghvK9VR80cbPHixW15u8OSICKEEEJ4n9SISBARQgghvEaCiAQRIYQQwmskiEgQEUIIIbxGgogEESGEEMJrfDaIIEFECCGE8DqfDSJ1NSI4HKgOWfhOCCGE8AYfDiIG92OZ5l0IIYTwDh8OIvVTqEjzjBBCCOEdvhtEdBJEhBBCCG/z3SCi1ULtwnuqVYKIEEII4Q0+G0RAhvAKIYQQ3iZBBFBtVi+XRAghhPBNEkSQGhEhhBDCWySIIEFECCGE8BYJIgASRIQQQgivkCCC1IgIIYQQ3iJBBJlZVQghhPAWCSJIjYgQQgjhLRJEkCAihBBCeIsEESSICCGEEN4iQQQJIkIIIYS3SBBB1poRQgghvMW3g4hBakSEEEIIb/LtICJNM0IIIYRX+XQQQacDJIgIIYQQ3uLTQURqRIQQQgjvkiCCBBEhhBDCW3w8iBgACSJCCCGEt/h4EJEaESGEEMKbJIggQUQIIYTwFp8OIho/EwDOqkovl0QIIYTwTT4dRLShYQA4Skq9WxAhhBDCR/l2EAmvDSLFxV4uiRBCCOGbfDqI6MLqakRKvFwSIYQQwjf5dBDRhocDYJcgIoQQQnhFqwaRt99+mz59+hAcHExwcDBDhw7lt99+a81bHhVtbY2I02yWkTNCCCGEF7RqEElMTOS5555j3bp1rF27ljPPPJMLL7yQbdu2teZtm00bEgKKAoCjrMzLpRFCCCF8j641Lz5x4kSP58888wxvv/02K1eupGfPno2Ot1gsWCwW93Oz2dyaxUPRatGGhOAoLcVeXIwuMrJV7yeEEEIIT23WR8ThcDB79mwqKysZOnRok8fMmDGDkJAQ91dSUlKrl0sbJkN4hRBCCG9p9SCyZcsWAgMDMRqN3H777cyZM4cePXo0eey0adMoKytzf2VmZrZ28dwdVh0lMoRXCCGEaGut2jQD0LVrVzZu3EhZWRnfffcdkydPZsmSJU2GEaPRiNFobO0iedCGhQIyhFcIIYTwhlYPIgaDgc6dOwMwcOBA1qxZw6uvvsqsWbNa+9bNoguPAMBeWOTlkgghhBC+p83nEXE6nR4dUr2troOqvbDQyyURQgghfE+r1ohMmzaNc889l+TkZMrLy/nyyy9ZvHgxCxYsaM3bHhVdlAQRIYQQwltaNYjk5+dz3XXXkZOTQ0hICH369GHBggWMGzeuNW97VHRRUQDYCwq8XBIhhBDC97RqEPnggw9a8/Itor5pRoKIEEII0dZ8eq0ZqK8RcRQUoqqql0sjhBBC+BafDyLa2hoR1WbDKdO8CyGEEG3K54OIxmhEExICSIdVIYQQoq35fBCBBv1EpMOqEEII0aYkiAC6aFc/EduBHC+XRAghhPAtEkQAU5cuANTs3OnlkgghhBC+RYIIYKpd96Zm+3Yvl0QIIYTwLRJEaBBEduxAdTq9XBohhBDCd0gQAQwdO6KYTKhVVVj37fN2cYQQQgifIUEEULRa/AcMAMA8b56XSyOEEEL4DgkitUIv+z8ASr/9DtVu93JphBBCCN8gQaRW0FlnoQ0JwV5QQM3Wrd4ujhBCCOETJIjUUgwG/AcPAqBq7Vovl0YIlwxzBmUWWXpACHHqkiDSgP9ppwFQtUaCiPC+3MpcJsyZwFnfnuXtogghRKuRINKAX10QWbtW1p0RXrez2DXBnsVhweawebk0QgjROiSINGDq1g1jSgrOykpyHnvc28URPi7YEOx+nF2R7cWSCCFE65Eg0oCi1RL/wvMAVCxditNq9XKJhC+zOetrQTLKM7xYEiGEaD0SRA5i7NYNTUgI2O1Ydu/2dnGED2sYRDLLM71YEiGEaD0SRA6iKAqm7t0BsOzY4eXSCF9mddTXyGWYpUZECHFqkiDShPpF8CSICO9pWCOSXp7uxZIIIUTrkSDShLoakaqNG7xcEuHLGgaR4upiL5ZECCFajwSRJgQMGwpaLZbtO7Du3+/t4ggf1XDIbqWt0oslEUKI1iNBpAm6iAgChg0DoOyXX71cGuGrGtaIVNmrvFgSIYRoPRJEDiHkgokAlH7zDaoM4xVe0DCISI2IEOJUJUHkEILPPhtdVBT2/HzM8+d7uzjCBzVsmqm2V+NUnV4sjRBCtA4JIoegGAyEXvZ/AFQsWerl0ghfZHV61sRV26u9VBIhhGg9EkQOw2/AQACqt27xckmEL2rYNAPSPCOEODVJEDkMv149AbClZ+AoLfVuYYTPOXihOwkiQohTkQSRw9CGhqJvlwxA+R9/erk0wtccXCNSZZORM0KIU48EkSPwHzQIgJzp07Gmy+yWou00nOIdZAivEOLUJEHkCKLvuw9tSAjYbFSuXOXt4ggfIn1EhBC+QILIEejCwwmeMAEAW3a2l0sjfIkEESGEL5Ag0gz6hAQAyhcsoHLVai+XRviKRn1EpGlGCHEKkiDSDPqEeACs6elkTJ6MvbDQyyUSvuDgUTPSWVUIcSpq1SAyY8YMBg0aRFBQENHR0Vx00UWkpqa25i1bRV2NSB3ptCraQl2NiE6jA6RpRghxamrVILJkyRKmTJnCypUrWbhwITabjfHjx1NZeXL9Qm0URDIyvVQS4UvqgkiIIQSQGhEhxKlJ15oXn3/QGi0ff/wx0dHRrFu3jpEjR7bmrVuUNizM47ktM8NLJRG+pG74bpgpjKKaIirtJ1eAF0KI5mjTPiJlZWUAhIeHN7nfYrFgNps9vk4EiqIQOGaM+7nUiIi24K4RMbpqRKRpRghxKmqzIOJ0Orn33nsZPnw4vXr1avKYGTNmEBIS4v5KSkpqq+IdUeJrrxL37LMAWKVGRLSBg5tmZNE7IcSpqM2CyJQpU9i6dSuzZ88+5DHTpk2jrKzM/ZWZeeLUPCh6Pabu3QCo2bSZqvXrvVwicaqrCyJBhiBAgogQ4tTUJkFk6tSp/PLLL/z1118kJiYe8jij0UhwcLDH14nE0KkTho4dAci46Waqt23zconEqaxu+G5d04wEESHEqahVg4iqqkydOpU5c+bw559/0qFDh9a8XavTGAy0/+pL/IeejlpdTd6zM7xdJHEKq6sRCTa4ArkEESHEqahVg8iUKVP4/PPP+fLLLwkKCiI3N5fc3Fyqq0/eX6jakBDiZ7gCSPX69dgLCrxcInGqqqsRCTbWBhHbyftzI4QQh9KqQeTtt9+mrKyM0aNHExcX5/76+uuvW/O2rU4fG4upTx9QVcr/+svbxRGnKKvTNXxXOqsKIU5lrTqPiKqqrXl5rwo6cww1mzdTufwfwi6/3NvFEacgd9OMUZpmhBCnLllr5hiZevcGoGbnDi+XRJyq3E0zDfqInMrhXgjhmySIHCNTN9dQXltGJs6TbMp6ceJTVbVRZ1UVFYvD4s1iCSFEi5Mgcox0ERHooqJAVUkdeBo127d7u0jiFGJX7ai4aj/qmmZAmmeEEKceCSLHQdtgqvqS2Sd3B1xxYqlrlgEwaU0YNAYAauw13iqSEEK0CgkixyHkggvcj6s3bfJiScSppm7BOwC9Vo+f3g+QGhEhxKlHgshxCJ98HUkfvA+AJTUVe0mJl0skThVp5jQAovyi0Gv0+OkkiAghTk0SRI6DotMROHw4xpTOAJT99JOXSyROFdsKXcsH9IzsCbiaZwCq7FVeK5MQQrQGCSItIOzaawEofOttHGazl0sjTgXbimqDSIQriEiNiBDiVCVBpAWEXnophg4dcJrNlC9c6O3iiFOABBEhhK+QINICFK2WkAsmAmCe95t7u9NqpfKff1AdDm8VTZyEVFUl05wJQOdQV7OfdFYVQpyqJIi0kOBzzwWgcvly8l96icqVq8h//gUybryJ4k8/83LpxMmk2l6NXbUDEGJ0rTPjr/N37zsVmK1mrp13LZ9u+9TbRRFCeJkEkRZiaN8eU48eABS99z4Z119PyRdfAJD//PPeLJo4yZRbywHQKlp3k8yp1jTzzqZ32FiwkRfXvujtogghvEyCSAsKPu/cQ+5zVp8aHyCi9dUFkSBDEIqiAKdeENleJDMRCyFcJIi0oOBzz0UxGJrcV7V+fRuXRpysym31QaSOO4jYTo0gklaW5u0iCCFOEDpvF+BUok9IoMP336Hx90dVoXr9Osy/zqNiyRJqNm8mcPhwbxdRnAQa1ojU0Wv0AO6F8E52xTXF3i6CEOIEIUGkhRlTUtyPDYkJ2AuLXEFk+w4vlkqcTA4XROxOu1fK1JIqrBXuxzqN/AoSwtdJ00wrM/XoDkDNjvogojoclH7/PbacHG8VS5zA6oJIsKF+1d26D+y60TQns/3m/e7HAfoA7xVECHFCkD9HWpmpWzcAbFlZOMxmyn//HfPvv1O5dBmGDh3o9Ns8L5dQnGjqgkigPtC9zR1EToEakQxzhvvxqfB6hBDHR4JIK9OGhqKPj8d24AA5jzzqMfOqNS0NZ1UVGn9/L5ZQnGiaapqpCyKnQh+RjPL6IOJwymR/Qvg6aZppA8ETJgA0Of171Zo1bV0ccYIzW13rFTUVRE6FGoTM8kz341Ph9Qghjo8EkTYQccvNaMPCmtxX8ffyo76eardT9uuv2EtKjrdo4gRUYXN15vSJIKLaUVXVi6URQnibBJE2oA0Opv3Xs0n+6EM6//UnxpQUDO3aAVC9YUOzr2PLy8NeXEzB629w4P5/k/fU061VZOFFTXZWVU7uIFJmKXM/bthHBE6NDrhCiGMnQaSNGJKTCRg6FH1cHB3n/kzyxx8BrtE0zqqqI57vrK5m3/kT2T1sOEWzZgFgnjcP1els1XKLtne4zqonYx+R2TtnM2L2CH5L+40ySxlFNUUe+0/WcCWEaBkSRLxEHxeHLiYGHA6qt2494vH2wkKc5eWNtjccFixODU31ETmZ5xF5ZtUzAPxn6X9Yn+eaYTgxMNG9/2R8TUKIliNBxIv8+vcHoGrt2iMe66ysdD/WJyW5Hxe89BLVmza5rrNmDTU7d7ZwKUVbKbeW80fGH+RV5gEQbgp37zsV+ogoKKzPdwWRIXFD3NtP5tckhDh+EkS8KOD00wGoXP7PEY+ta77Rt0um88LfSXzrLde5/6xg/xVXUjJ7NunXXkfaRRej2uUX+8noP0v/w71/3UuNowY49YKIVqNlXd46AAbGDESjuH79nMyvSQhx/CSIeFHAiBEAVG/cSNEHH5Bx440UvPZak8fW1Yho/F0zUQadOYbY6Y+79+dOf8L92LJ3X2sVWbSiv7P/dj/WKlqCjSf/zKpVtvr+T07VyY5iV1Ni/+j+J30HXCFEy5Ag4kWGxAQMHTuCw0H+i/+j8p8VFL71dpPNK85K1y/0hpOfhV15JR1//aXRsTVbNrdeoUWbCDOFuWsMoGX6iGRXZPNN6jdYHdbjLl9z5VTWL2PgVJ3YnXZCjCEkBCacErU8QojjJ0HEywLHjG60rfS77xttc9eIBHjOwmrs1ImAg1b1rd68pcXKJ7wjzOQ570xLfGhf/evVPLXyKd7f8v5xle1oZFdkN9rWPbw7iqLUjwRST76RQEKIliNBxMuCx493P9YnJABgXjC/0XF1fUTqmmYaip3+OIrJ5H5e8feyZg0JFieOuiG7dRr2D4GWGb5bXFMMwOLMxcd8jaN1oOJAo23dI1wLQUqNiBACJIh4nalPH/fj6AceAEXBUVCIvchzrgV3EAlovC6NISmJjnN/pv2336KLjsZ+IIfcZ59t3YKLFlU3UqZOqDHU43lLfmhbHJbjvkZDh5sZNb8qv9G2HuE9AAkiQggXCSJepigKHX76ifj//Y/gc852D8217N7tcdzBnVUPZkhKwq93L+JfeAEUhbLvvqf0xx9lGviTRG5V7mH3t2THzpbsI7IxfyMjZo/gu13fNbm/sLoQAD+dHwDDE4ZzRuIZwMk9N4oQouVIEDkBmLp2IeR818J4xpQUACy7Dgoih6kRaSjg9CFE3HYrADkPTWP30GFU/nPk4cHCu3IrPYOIzeHZBOP+0D7GUTMNay1aMojc+cedmK1mnljxRJP762ZRfXDQg2y4dgPvjH2HAL0rTEuNiBACJIiccIxdaoPI7l0e249UI9JQ1F13ETh6tPt5xo03UfzFFzId/Ans4L4URq3R4/nxfmhX26vdj63OlgsiB/dtOVhRtSuIRPpFul9DHRm+K4QACSInHFNtjUjNds+p2+s7qx6+RgRA0WpJfP014p6b4d6W99TTlHz+eQuWVLSkXSWu4JkYmEhsQCxT+0/12H+8QaRu2nhwre7bEiveNgwh/rqmvy/rmmYi/CIa7ZMaESEEtHIQWbp0KRMnTiQ+Ph5FUfjxxx9b83anBL+BAwGo2b4dR2mpe3t908yRa0QAFL2e0IsuIuSii9zb8l54EfOC37Hs3YtqkyGTJ5Kdxa65Y54Z8QwL/28hycHJHvuPd9RMw9Vv7U67x/NjtaWwfpi4VtE22q+qqrtpJsLUOIhoNa5zTrZJ2oQQLatVg0hlZSV9+/blzTffbM3bnFL0MTEYOncCVaVy5Sr39vqmmSPXiDQU98zTdNuymeCJE8FuJ/uee9g34Xwyb7+jRf4qFsevpKaEvCrXqJkuYV2aPKYuiDhVJ0716JvYGtaIABRUFxz1NQ5W1+wCUG4rbxSSzFazu7bjcDUiJ+OKwkKIltOqQeTcc8/l6aef5uKLL27W8RaLBbPZ7PHliwKGDQMg74XnsexLA46+RqSOotWi6PXEPzeDoHHj3Nsrly+n7Ic5LVRicTzqakOSgpIINAR67KvesgXbgQMe/SuOpSnj4BqQuiaT49Gw3wlAaU2px/O6oBJkCMKgNTQ6X/qICCHgBOsjMmPGDEJCQtxfSQ1WmfUlYZddhiYgAPuBHNKvvprqLVuOuUakjqLVEv/cDCJuuRm/fv0AKHx3FqrD0VLFFscotTgVgG7h3Ty2W7Oy2H/Z5ew58yy01Dd9HMsH98E1IhW2imMoqadKW6XH87oJ0+rUhZ1Iv8gmz5fhu0IIOMGCyLRp0ygrK3N/ZWZmertIXmFMSaHjvHmYevfGUVpK+uTrsdW+F0cavns4moAAou+/n+QP3kcTHIwtPYOcxx/HWVlJ9dZt1KTuOvJFRIvbWeKqEWkURPbudT9WsusnPDuWpoyDa0QqrMcfRKrsnrP3llg856ypW2fmUEGkrpbHoUoYFsKXnVBBxGg0Ehwc7PHlq/Qx0SR/9BEBw4ahNpiu/WibZpqiCQgg4uabASj77ntSBw9h///9H2n/939Ub96MLS9fakra0KFqRJw19TOgWlavdT9uiRqRg2szjkXDlXXB1delzvq89czeORuAXhG9mjxfRs0IIeAECyLCkzYwgKT33iX6wQfRhoejT0hAFx3dIteOuOVmEt96C11sLNSFDpuN/ZdfwZ5Ro8h94kkcPtpHpy3V2GtIK3P1A+oa1tVjn6Os1P24atWq4+pT0ahGpBWbZkpqSrh+/vVsLdoKwJC4IU2ef7IFEVVVeWXdK7y3+T1vF0WIU4ruyIcIb1K0WiJuuJ7wydeBw4Gi17fMdRWFoDPHEDBkMJWrV6MxmciZPh1begYApd98Q+k33xA4ejTx/3sRbWDgEa4ojsXe0r04VAdhxjCi/T1DpqO0PjxUb9qEboAOu8N+TMNd64KIQWPA6rS2TI3IwU0zNSU8teIpftjzAyr1I7L6R/dv8vyTbdTM9qLtfLj1QwBu7HWje/ixEOL4tGqNSEVFBRs3bmTjxo0ApKWlsXHjRjIyMlrztqckRaNpsRDSkCYggKAxYwgYOpTE1153DR1uoGLxYrLvu4/qLVtxVFQcdZONs6YGe3HxkQ/0UWlmV21Ip9BOKIrisa9hjYgtO5sQi+vH9XiaZuID44GWqRGpa5qpmyMk3ZzON7u+8SjfJSmX4K9vul/TyVYj0nDelJZeOFAIX9aqQWTt2rX079+f/v1dfxHdd9999O/fn8cee6w1byuOkalrFzr98gtd1qwm5uGHibr3HgAqly5j/2WXseu0Qey//AqclZU4Kpr3F3XG5OvZM3oM5oULW7PoJ63s8mwAEgITGu1rOKEdQIfa/qrH0zRTF0QqrS1XIxIbEAvA/P3zPfb3iezDE8OaXoMGmj98d1vRNh79+9FGKxS3tdSSVPfjGkeNF0sixKmlVZtmRo8eLZNmnYS0QUGEX3ctqqpSsexvqtetc++r2baN1IGnARBy6SXETZ9+yJoa1WqletMmALLvupuSwYPxHzyYsKuuRBfReIKrk4mqqo1qMI5FdkVtEAlqKoh49uton6uyMqHxB3dmeSbPrHqGG3veyOC4wU3ep65GJC4gDmi5GpEOuSqnlSns8VOxGDzfjyBj0GHPb26NyNW/Xo1TdVJhq2DmmJnHVebjsa1wm/uxxS41IkK0FOmsKg5JURSSP3ifzn/+QdD48RjatfPYX/b9DxR99PEhz7fleq4oW7V6NYVvvMH+yy4n/+VXKJz1LpWrVuO0NP6lrtrt2PLyW+R1tCRVVcl95ln2jBxF5cpVlFvLuXHBjby96e1jul5dEEkMTGy0r65pxtijOwA99roWqzv4g/uRvx9hefZybvr9pkPex2xxBZG6mpeW6CMSk1rI8x85mPDWRq5f1Hi212DD4Ue9uYPIEfq81M0ku71ou8d2VVWxZmQ0WszRUVGBs9pzsrXjVWYpc68HBFIjIkRLks6q4rA0JhOa+HgSX3sVgMqVKyl4ZSbg6kBZ+Prr+PXpTcDppzc615aVBYChUycSXnyB6s2bKfrgQ2yZmRS9+279PQIDMXbujKa2Q6xfnz7UbN9OxeLFBIwaSfQ992Dq0aOVX2nzlH7zLSWffQbA3ttu5p/n/o/SDav5Omg1t/e5/ahrSbLKXe9RYlATQaS2aSbsiivJfeopuu210C1T26hzZ93MrA2pqkqlrZIAfQCLMhZRbnMtUNeSfUS6bi11Px6+XeXjsZ61IkcKInUTmr2z6R0Gxw5mUOwgnFVVOCsrUVWV1GVzCa1Q+e+XDuKKVZadZcEc9Du6iHCMXbuS89hjlP82n4BhQwm/8SYsu3eD00nRu+/iKCtDExiIqbsrxIXfcANBZ4455te6LHuZx3wn0kdEiJYjQUQclYDTTyfg69modjt7z5uALSODjOtvIPLOO4i86y6PD2JrbRDRJyZg6tEDU48eBI0fT8ns2ThKS3EUFlK5eg2OwkKqazs0A1T+/Xf94yVLSVuyFE1AACGXXELMw9NapEnkaNlyc8l86EEsK1e7t+ktdkb9azajgH0xcOCGA0329TjkNZ02cqtctUZN9hEpczXN+PXpTcgFF1D2ww8M2elsFEQOnmpdVVUmz5/MhvwNja5Z1zRzvDUiTouF/lvqR82YbDAkVaXSpBJfBHOHKIcNIvaSEhLWZZJcoTIk1cm3a65HF3IW/gtW4KxwhSQtUA70rj3n4h/zyf7xnkbXqvxnBZX/rGhcxooKqtasAaBqzRp00dHoIiMJHD2KgGHDsKan4zdgAMYOHY74ehdnLvZ4XmOXGhEhWooEEXFMFJ2O5Pffo2DmTMzzfqPwrbep/GcFfn37Evp/l2JMScGWfQAAQ0L9h6wuPJyoO+90P1edTir//hvbgQNY0/bjrK6mat06rHv3EnnnndSkplLxxx84Kysp+ewznBUV+PXtS/A5Z6MNDW2z11v4ySfuEPLrIIXf+ys8/5ETU20m6JgHe/avJ6FX84NIXmUeTtWJQWNoNPuoqqruPiLakBCMXVIACK30bJr5YfcPja6bU5nTZAgJ0AcQYgwBjq5GxGmxUL5wEf79+6FPSMB24AD7Jl5AaKWKUwH7Zedi+OY3pv5S30RyIEJDcB8/979vwRtvEnn77QSdOYaaXbtIv/Y6BpaVMbD+FQMLqbuCqkB6FFQZYXuyQoQZumdBu9huWPfuRbVa0cXHEXbVVZh/nYc9JwdD+/buPklNsefnY8/Pp2b7dgrfcjWlKf7+xD7yMJqAQILGj0PRNN1avT5vvcdzqRERouVIEBHHzJCcTMLLLxMwfDg5j0+neuNGqjdupOTrrwm/4XrKfv4ZAH1C42aHOopGQ+DIkR7bVIcDe1ER+uhoVKeTktmzKXr3Pey5uZTNmUPZnDnkv/IKUXfeQdhVV6EYGi+o1pJUVaVg7vfogS/PVDinXRF3m2t4dGIsk37SYKitsc/44zPm5v3NyP63EhLe6bDXBCiqcS0KF+kXiUbx/AC0ZWeDzZVytKGh6MLDAQiqrg8i6/PW8/g/jzcqa8O+DA3pNXqMO9O5YKWT/HAzFcn/EFi7wGJTr7l8we/o4+Mo+3kuJZ9/DlotIRdfROXfy91rHy3vrnD21NvZ9/tvxJbWn//gd04cv75BWuLPWNMzUK1Wsu68E7+BAz06P9ex6mBJL4X1nRUOdA6j1FpKtbFxzddfl79LmM2ALTcXY/v2KAYDkbfc4t5v2b0bZ00NFX/9hbOyitIffyRqyhRKvvka6569ja6nVlWR88ijAMRMe4jwyZMbHVNuLXevVtw+uD37zfsliAjRgiSIiOMWeuml+A0YQOXyfyj57DOs6ekUvf2Oe78+ofm1BOCaxE1fO4OsotEQfvXVhF11FeULfqd60yYq/16GZfce8mY8R+E7swgaO5bY/z7aaoGkesMG9IXlVBsgqYeW4aPfgm4TeXr5y1j7pLH505WE7bOye/s25oTuoN3+uXw87n0ik5v+kK9TN6S2rpaioQMP/AcAv759Ufz80IaFARBcpbqDyH7z/kbnma3mQwYRTUEJFS/+h2sqnYCTzB9vpfOihejj4hqX7cefyJk2zXOjw0HZd98DoISFMvXycvLCFa4NT2LKJVru+clBYlH94dpqK5bdezwuURdCjCmdKa4uJiDLNcfM5Pu0OLR1waMMakNIv6h+2J129yyti9IX0TGkI9lKNrs3/ci57c+ld1Rv9/WNKa6aI7/erm0x0x4CIOSCiVizs/Hr2RNnVRWFs97Fr3cvij78iOr1rtqOvBnPoTqchN9wvUfz376yfQBE+0cTbgpnv3m/NM0I0YJk1IxoEcYOHQi/ZhLtv/2GqHvvIXDUKLQREfiffjoBww//gdwciqIQfM7ZxDz4Hzr8+COxTz6BNjISR0kJpd9+S87j01FtrTNDZ8HHHwGwopvC6OH/hl6Xgs6AYdRDBF45i5Ax5wAwaJcTvV0lXafl278PPX9GnVJLKQChxlCP7ZZ9+6jesAH0euJfeglFUdCGuWpEgqvqR5nUdXQ9+Jp1a9ccPKPpjQudqJUN+oY4HJR8+RUOs5mKpUuxFxZSuWIFGbfcSs6jj3qca+zRncS338KvXz8MHTtieut58sIV/HR++On8SI9RuP8WLZPv0/LrIIXUBHB0TgZFwdilC+2/no02xBW4wq69lg5z5rD73okUB8KnZ2pwaBVGJ45u9HqeHP4kX53/FQOiBwDwzKpnuOn3m3jsn8f4bPtnPLD0AXIqcvhixxdYHdZDvtfa0FD8evYEXCtYR//rXoLGjiX5/fdIeO1VNLVly3/hBXYPG07h22+7R+PsK3UFkY4hHTHpTICMmhGiJUmNiGhR2uBgIm+/vVXvoWi1hF1+OSEXXEDp99+T9/QzlM2ZgzU9nbinnsTY6cjNIs2hqirFn3xC1e+LAFgzAO7sfVWj41KumMLuz+bROcfO85/BzwOdLE/Zzx3luRAUe8jrl9aUAvVBRFVVnGVllP/xB+DqGGxIdNUm6cLrakTA7HAFrszyxqtTl9SUuGtEbutzG0U1RTzy9yOctsvJ4F0q6HS8eqmBrrurOWe9StF771H0XtNrpwSOHk3AyDOwpWcQcuklmLp0IWiMa+RJanEqbAY/nV/9+6UoVBvhk7Guqc9nn/8yKUoc2pAQFK2WxHfepnrjJsKvmYSi01GRHMHtd7l+Bf195d/kVuayOGuxRxmSg5IB6BXZi/X5nv00wDX8efz34wHXEOU7+t1xqLe7SRp/f4LHj0cfn0DWHXdgLyjAUVJCwauvUbliJUHjx1NtXsG5250MM5ViyMijt+KAqH3QMt9mQvg8CSLipKUxmQifNAldVBQ5Dz9C9fr17JtwPmHXXOMaXXOIjofNlf/8CxR//DEAy3oqJLZPQtE1bv4xJCfT/t33ybr7bhJzzdz5K8weqaVswM+EDL71kNevqxGpa5opfPttCl973b0/6Kwz3Y+1tX1EdE7co0rSzekA/GfQf5izZw67S3aTU5lDRrlrCYWu4V2J9IskpyKHwG9cw6/DJ19HduelrE5O4yz/vuj/dn24KwYDqtVVoxB6+eWE33D9YUeT1HV2DdR7rkFk1Brd/Sf8df7oQsLd+/z798e/f30tTd0ieeAa6huoD0Sn0WF32ukV0Yux7ca613MZGDOQT7d/6nGvczucy29pv7mff7HzC87tcC42p42UsJRDlr0pfr160uHnn9g34XwctUsSVK1eTdXq1fQHXKV2NQ91AByPfIS1z2XuoCiEOHYSRMRJL3j8eEzdupH3zLNULFlCyeefUzZnDpqAAAJGjCD2sf+iMZmO6prm3393h5C/Rjl5e6iex9qPPeTxAacPoeMvc8l7dgbl8+dzwSqVDcN/Z/RhgkhdH5FQUyj2khKPEAIQOKY+iGhMJqwGLQarA7XEzG0Lb2NH8Q4AhsUPY2XOSnaX7GZt7lqcqpNwUziRfpGoTidX5LUnZ69rhuOQCy4kNn0X+837SXvocs6PegvV4UAbFoajqAjV4UAfE3PE9+dQ/VvCTGHkVrqGJIebwhud11CJpcT9WFEUtIqWHy/8kQprBT0je3ocW9c0A67w859B/2F8+/Esz17unjW2zFLGxB8n4qfzY8GlCwgzhR3xdTSkCwuj46+/oCgKDrOZsp/nsm/l75Sk76IgXMvp7UexMqKY2AUbSSyykjVlCsnvv4cuKuqo7iOE8CR9RMQpwZCcTNKsd4h/6X9oAgJwVlZiz8+n7IcfODBtGvaSkiNfpJbTaiXvmWcBCDu3H5+crgNFoU+XCw57nj46moSXX6I43h9/C1gX7jjs8e4+IoYQ8mbM8Hw9nTuhj/FcjdcS6JoArCBnD/8c+Me9PSEwwd28szrXNcS4S1gXVKeTgldeIefuewFXrYqxS4p7UrMDlQfQhoSgCw9HURR0kZHNCiFQP2V8sNFzrhCj1sjs82fz6bmfNtkJt6FqW+PZT9sFt2sUQsAV1gbHDsaoNfL1+V9zccrFBOgD+HLCl1zR9Qo6h3auv669mpU5K5v1Og6mCwtDGxqKITmZqKlT+OyGJB64WUf1U3eT8uqbZIzvxYzLtVhC/LCkppJ2yaUUvP6GLOwoxHGQGhFxSgmZMIGAYcOo2bYdW2YGuU8+Rflv8ymfvwDFz4/A4cMJu+pK9ImJaIOD0QQHN2rCKfthDva8PHTRUWxPWkuVxoS/xuDxYdfQ1uwyooOMRAebUDQacieNJvzFecRtdGDbvwN9++5NnldmLUPrUOn8+m+Y/1oPWi3Urm4cMLjxmjE1QUaCimtIT98CtV1P7hlwDyadiSg/11/ldSNpeiuJpF14oceoleBzzkFRFPcidXU1F8fCXSNicIWN/tH92ZC/gUtTLqVnROMg0ZSp/aeyLn8dN/e6uVnHvzrmVSpsFe7ygyu4PHr6o6zJXcONC250b19xYAXndji3uS/nkOqav3pHukbhmHQmCkIVVjw2kXGv/IMtK4vCN9+k5JuvCTlvArrYWPx698KvTx8clZVoQ0Ox7t1LzfbtmHr3RuPvj6OsDEWrxdC+PQD2wiJ0UZHH3ZR4Iqtas4aaXbuwpO6iZutWdNHR6JOT0AYGYezSBW1wEPr4eDSBgWgjIrwyaaHwHgki4pSjCwsjcMRwYDi6qCgK33qbmu3bUauqKF+4kPIGKwFrIyMJPu9c9HHx4LCji4kl74UXAAgYHMwToYUAXNb1CrQaLZUWO/O35pJeXMXpHcNRULj6/ZV0jw1m3j1nABA5biI7v5xHt2yFopkvEjvzwybLaa4u5a65ToJ3uEJI3NNPow0NwTx3LlF3393oeFuwH1BGcd5+iNVwXY/ruLn3zagOBz0L/dA4VZwahXZ5KiO/WoxlvytohE2aROCokfgNcE0fFh9QWyNSceCY3+ODm2beOOsNNuVvYmj80GZfIyUshWVXLGv2h06gIZBAQ2CT+06LOY3RSaPdM6DO2TOHzqGdua7ndc0uz8EcTgdZFa6RSe2CXessGbVGAIojDLSf/RWl331H6Zw52NIzKP7kk0bX0EZE4CgpgYPWw6nbh9OJo6QETUAAxq5dMfXogT42BrQ6FK0WTYA/pt690UVFoQs7uqamE4GqqhTNepeCmTM9d2zf3uTxUDtvTmwszspKnNXVxDz4H9covODDLxnQrPI4ndgLClC0WlSLBdXhAEVBtdlwVlWj1lTjrK7BWV2FarHgrKlx9Z2y21FtNlS7HdXW8LEN1W5z7be6tjktNTjLzO4mT21wMJqgQLRBwWgCAlB0WlA0oFFc4bPRYw0oeP5cKMphzjnoONeDBttotP/ga2vDwtxD3r1Bgog4uagqlKRBWAfPH8BDCBo7lqCxY7GXlGBLT6f0+++pWL4cR2kZalUVjsJCSj79rNF5hg7t+T5+C8XaYDr4x3J7v7t4eeEuPvlnP2XVrlErr/1Rf/z2HDPpRZW0iwigU1hn3hyt5YkvHJT8vpLwzEwMSUmN7tF59QGG7VBRdVqS336bwDNcQaZuZMrB9AkJsCWXblkqS3qrDLIkUPTRx5jn/0bips3c3E/h8zEa/vuVA2N1LprgYNrP/gpjx44e16lrmjmeGpG6ppm6IBJsCOaMxDOO+jot9Zevoii8NuY1LA4L478bT4mlhA+2fnBcQSSnMge7045BY3DXwtQN37U4LOgiI4m8/XbCb7gB86/zqNm+HXteLlVr1rrXCXIUNZxYRQuqilLbX6nhPmdlJdXr17vnNGmKPiEBfXw8ASNGoA0Pw1lRSdBZZ7o+6EJCDvteqqrquncb17rkPfUUJV9+BYCxe3cCBg/Cr/8A7EWF2HNyKErbif1ADqYqu6uPUmWVa/mH2vcPaufUURSMnTth6tsXfXQ0moAAtCEhtUP4S9EEBqAxGnGUleEoKXX9v6wMh7nMvc26Z48rPFgPPczbVwWMGEHy+02PnmsLEkTEyUNVYe7dsP5T6HcNTJwJ9ho4wnLz4Kol0YWF4devn3ubs7qa8kWLqNm6DXtBAarDQc3OHSg6PTF3XsiX+a7RJ/cMfohZizN4/U9XM0f7CH86RwexaEeexz2+XpNJXIiJ8T1j2N/ewMYONfRLU8l7+hkSZr6CarNRvugParZuwZqRyaTlrn4rxtsmu0PI4YROnAjz1zFms8qQVAf+lqdouD7x2I0qeruT4GrXh1a7zz5FHx/f6Dp1H6o5lTmoqnpMYeDgppkTgaIomHQmfrnkF4Z/NZzimmLKreUEGY78/dGUDLPr3z8pKMk9821djUjDCc00RiOhl1wMl1wMuNYIKvn6G9eCe4qCPjYGY+fOqE4nqt3u+mvcbqd6wwYUgwFT9+5YMzOx7NxJzfYdOEpLUR0OVLsNe14+lp07cVZVYcvOxpad7V4/ByD/+eddZQgMxNCuHZrAQJw11Rjbd0AbGYGzohJndRXV69aDqhJ1z90En3tuq89GDFC1bp0rhGg0xEybhv6KC1mZs5IthVtYY19DmV8ZmVH1Q9AVFHqH9KJjiZ6emiT6h/QkZFsmFYsXY8vMxLJ7T6MJ8o6JorhCmdHo+rcAFL0ejZ8fGpMJxc+v9rERxWhC0esbfOlAp3M91tVu0+lQ9Lr6xwaDa84crQ5HSQkOsxlneTmOinKcFZW1za8qqlN11ZSpTvdj1elw/Z5zqp5lVtXGxzlVd1Muris2OP6gc4/w+OCV1duaoqqqeuTDvMNsNhMSEkJZWRnBLVAtJ04idd+WigKlGbBpNpRlwfqDqr+1RjjnWRjUvH4GzbVv/gNcmDcfPzTMvWQFY15cSpXVwfSJPbh2aHu0GoW1+4tZs7+EtfuL+WNnfSSIDjKS1P1N7Lt2M+NjOwoKitHomiDroEnXdsXD6J+XERIYeXARGqmx17B8ZH/iG/SLNHbtSuDo0ZR88YV7WC9A4ltvHXK1WZvTxpAvhmBz2ph38TySghvX1hzJrb/fyoqcFTw74lkmdpp41Oe3tjHfjKGw2tWsNuOMGZzf8fyjOl9VVe768y6WZC1hdNJoXj/TNaLpm9RveGrlU4xJGsNrZ77W4uU+FFt+PrasLGp27qRi0R+g1WLPz8eSmnrU19JGRRJ2+RX4DxqENjQEQ4cOaIzGFi2vvbiY9EnXYE1LI/Syy6i471qun3+9uyatud4f/z5D4oZgr10Ys3rrVpxmM86qauz5+ThKS10jvkpLUVUnutBQNCEhaIND0IaGumpNQkLQhgSjT0pGYzSgT0igSrVSbCkmMTCxURA3W83sKNpBXEAcSUFJHvstDos7jKqqSpW9iuKaYoxaI+GmcHQa+du+ztF8fsu7Jk5Mi6bD6vegw0jY+wfUzppZoyhsDgpjgLnY9c3rsMCv90NUd2g/vMVuvz1nNWigm38cs1dlU2V10CcxhMnD2rt/MZ3WPpzT2odTVJHI5bNWsLfANWtpfrmF0MpYcuL2sO3sGvpvaoct1xVUDJ06EThyJPnRep7NeJ+cLhFcEBDRrDKZdCZeu0DLmZucdO44kHMffgdNQAAAgaNGsfeWG9BVWrBPPPOwS97rNXq6h3dnc+FmNhZsPKYg4h41c5gVdr2pfXB7dxCZtmzaUQeRH/f8yJKsJQD0CO/h3t6waaYt6aOj0UdH4z9gAOFXX+3e7jCbUfR6bFlZWPbvR7VaUbQ6LHv24KyooFxvp7CmiE5R3VCrqij7/gfsBQUUvvlm/cVrO86aunZx1QAYDTjNZlS7A9XpQNHqULQaNIFB6KKj0QYFogkMRBMQgC46GsVgRNG6aoyclZVY9u6j8O23sefmoouLw3DH9Uxb9h/MVjPhpnBGJY5icNxgYv1jiQmIYX/Zfpyqk3bB7fgt7TdUVGZtnoVTdbI4czFD4oagi4x0N7MeLVVV2VSwiWXZC1iSuoSoPVFsK9xGiaUEg8aAU3WioqJVtBi0BqrsVThVV5+eMGMYNqcNFRWj1khxjSu8OFUnxTXFHjPsKrg6gk/pN4ULO1941GVUFIUySxm7Snaxq2QXeZV5VNmrsDqsWJ1WbA6b+/82pw2rw4qKikbRYHfasTqsWBwWd/mNWqM7GCnU9w2p+6/uObiGx/936H+P+r1tKb4dRMrzwD8CtL79NpxwDmxg49q3+DPQn9t2z6dEq+HBuBja22xsNxrYYzBwbru+PG+2oDhskLUG5v0bbvkT9H5Hvn4z7KjJA389EYbOvLLINVPpTSM6NNmMERFoZP69I9mYWYpGgUvfXkF6bgiGaFjZRcP/3fMUNm07VIcDQ/v2KBoNi3Z8wVaNhjOieh1V08hTN33JsuxljO99Kxqt3r3df0B/us37ncpNGwg586wjXqdPVB82F25mXd46yixljEoaRVJQ8wPJ4dbJOREkByezNm/tMZ//7a5vATivw3nc3Lu+tq2pphlvquvAaUxJca+zA+BUx/HD7h94Yc0LVNurubCTP0+PeJqoO+/EvHAh5rm/YE1Px1FcjKOsDOvevVj3Nl4U8Hjo2yUT/tpLTF51D/vN+wk1hvL9Bd83Wmm64fdd3cy4nUI78e8l/+bzHZ+zr2wfp8edTqAhkAxzBgNjBhIfGE9yUDIVtgoi/SLJMGeQV5VHujmd3/f/TrW9GhWVgqoCimqKPIJjakl9LZLVWd9fxKE63M+DDcFU26s95rqptLn+0KjrwFzHqDVic9pwqk5yKnN4dPmjfLHjC54b+RwdQzpSY69Br9HjxMmu4l3sLN7JX5l/kV2RTUlNCQ7VQbm1HD+d31Gtit2SYvybN2y/tfjuJ/D+5fDxeTB0Kpz9jLdLIwAcNph7D2z8gv8kxZOj07Epqj371RqK7VVsNtVXH/9WsZfsmD6clzCaK4vT0OZvh08vcvUbiW56uGyz2a1sVxyAnj+3u/oXRAYaOafXoadr12s1DGrvmsDr9I7hrMmLxgDsNehRKnIx9PFcYXhb4Tagflhoc/WJ6kOfqD5NlyEmmtDxZzfrOn2j+/L5js/5frdrEbuX173M31f+jb/ev9GxuZW5fLj1Q67pfg3Jwa4p18usriBy8DwiJyqz1XzE2htVVfnv8v+SWpLKzuKd6BQd/xn0H/QNAl/dlPYn4uq7qqry/e7vqbBWkGZO44fdP7j3/bT3J67veT2dwzoTMmECIRMmuM+x5xdg2ZWKJTUV1eHEWVONNiTE1VyjKKhWK6rNhj0/H2dVtauvQ1UVzvIKV98qm83dV0Hj7482LIzAM88k/JpJPLLuKfab9xMbEMsbZ77RKIQcyqDYQe7H/xz4x2PenI+3fexxrL/Onyp71WGvZ9AYGJYwjO7h3dEqWjqHdmZI3BB3s4qiKDicDqod1a4J9SJ6YnVaSTeno1N06LV6yq3lhBpDSTenE2QIItwUTrgpHH+9Pw6ngxJLCbN3zuaDLR+wo3gHV8y9gij/KLLKs9z3qLY3njunTl0ISQhMICUshaSgJPx1/ph0JvQaPXqNHoPWgEFrcD3WGFAUBafqRKfRYdC49vnr/dEqWiwOi3uBTBUVVVXd/UjqHtdtP3i9q7bmu0Hkjydd/1/xBox/ulkjMEQrWzQdNn6BDcjRub4119saTxSVEpbC7pLdbC7YzOaCzVQNvoJbFr8FmSvhl/vgxt8anXNUynPI1LvuX25JZmC7MJ6+qBdGnbZZp5/TM5ZVGa6/MNL1emxlmegb7C+pKWFNnqvDYVOTd7WFhjOVgqvfyNnfn82bZ71Jn6g+zNs3j/n75xNsCGZN7hoOVB5gUfoi5l86H62ipdxaDpxYnVUbmtR9Ej/v+dm9QOC+0n30i+532HMyyjP4ae9P7udjkscQ4efZbFZXI5JWlobNYfMIKd62LHsZT6zwXGzxtj638VfmX+wq2cWBygN0DvOcC0dRFPQx0ehjopvVYfpobC3cyi/7fkFB4cWRL9I1vGuzzw03hdM3qi+bCjYR5RdFv+h+ZJVnkVeVR5mlDIda30mzLoQkBSVhc9oYkzSGwbGD0SgaggxBBOoDiQmIaXKm30MNBwfw0/jRLbxbo+2JQYmNtmk1WiL9IpnafyqXd72cu/+8m21F29zrQdU14QQbgkkITGBsu7H0juxNsDEYg8YVHiptlcQFxB1z5+qTmU8GEVVVyVCtVBr09LDaoHA3RHXxdrF824ENsOINNhoN3JqYBM76Tp0GJYCaGj80Rlebf37qjQzrvo5/ir4D4M2MeQya+AL95j4A2WvBVgP6o5vSvSHVfIAirSt0BOvD+fiGQQSZmv+Bc1b3GKbPDUHnVLBrILc0jYaNHo8uf5TcylxCjaGNVshtK9H+0fSM6Mm2om3ubaWWUh5c+iA39LqBp1Y+1eicguoCXl3/qkeTx4laI9IlrAsrrl7BXX/excqclewp3XPEIFI3ZX6du/s3nsulLohU2au44McLuKLrFUzoOIEo/9aZ5t3qsLLfvJ+U0JRDNuEVVBWQV5XHd7u+89jeL6ofU/pNYWfxTlefg6q8Js9vLbM2zQJgYqeJR3zvm/LqmFfJr8qne4RnDadTdZJbmcv2ou0Mih3EzuKdRPlF0TG04yGu1Lai/aP5/LzP2VywmWp7NV3CulBtr8bmtNEuuJ10aG2CT74jP+75kcf0hQwKD+PD3HzYv1SCiLftmEuVonBDfBz22hBir2pHTda1qKoWrTEH//bvYi/vRlaRQtbfp9E1djSmuK/ZV7OM/6R9x7eBUYRUFMCH4+HcFyF5yDEVxVyyF3vtL/1Jp/U8qhACkBTuT9eYYMx2PyoMVeSUZ7mDiM1pY1XOKsA1CZg3//oZGDPQHUQWX76YK3+9kqyKLHcIGd9uPEU1RazLW+c+p27hOY2i4aLOF6HXnDg1Agcz6Ux0D+/OypyVbC3cyv91+b/DHr+jqD6IvDjqRdqHtG90TPvg9gToA6i0VZJVkcVL617ijY1v0CeqD+d1OI9zO5xLgD7giGXbWbyTT7Z9wpC4IUzsONG9uN8/2f9QZi3jk22fEB8Yz7q8dRTXFDM2eSwXdr6QpKAkDBoDszbP4tIul2LQGLh14a0eo1E+O/czUotTGdtuLIqiEO3vWiogvyq/ybK0hnJrOX8f+BuAm3rddEzXiPCLaFQjBa7vvfjAePd8OEPiju3nvDXpNDoGxAw48oEC8NEg0s/o+ubeaDJSoyiY0pa2+PBP0QxOJ9irYcHDsO5jPg4Nwd5gALxqC0F1uKpO40w9ObDvHpy2MLrHBbM7r5zU3ArIH0t0113kVOZwUVQQ0x3ljMrZBB+eDdf9BB1HHXWxDhS6Ou35ORSuHnJsa72f1T2an/cFgqGKnOoC9/a9pXuxOCwE6YOOun9IS7up901sLtjM6KTRRPhFcH3P63lu9XMAJAYm8sLIF3CoDhamL6RzaGf+b67rg1xB4deLf22yivpEMyBmAB9t+8gjTB3KzuKdADw29DHOaX9Ok8eEmkL587I/STOn8eWOL1mXt47simzW5K5hTe4a/rf2f6SEppBRnoFOo8Nf58+9A+/lrGRXB2Kn6uTdze/y/pb3sTgs/LLvF/67/L+MSRqD1WFl+YHl7ns1rK1alLGIRRmLPMry096fCDeFe4SQK7peQb/ofh41EHW1NQVVBbSVZVnLsDvtdAzpeMLUVIgTl08GkfbmQqLtdvJ1OjYZDQxJW+b6UDyF13o44agqzL4adrn6c5RpNHwW4qodsJl7ozHmEaNO4OU7hlJpcRAfauLiN21cODiepy/qTXGllc9WpPPKol0Upl1GQIc3KMTO62GhjKrOBVRY8/4xBZE9ea4g4u80kBB6bKNwzuoew4+poUA+OQ163m8tdC0l3yOih3uSLG8JN4Xz2Xn1s8qe2+FcdxA5p8M5aDVatGiZ0NHVsbFuCvUXRr5wUoQQcAURBYX95v3kV+W7awcOpqqqu0ake/jhOzv76/3pGdGTZ0Y8g8PpILUklVU5q/hh9w/sN+9nY8FGj+PvW3wfIxNGMih2EDqNjjc3uobO+un83J0X/8r8q9F9OoV0Ym/ZXgZEDyDYGMyOoh2NmleKa4rpFNKJfw/6NwDD4xsPYa8bEdGWTTN1Q5/HJB16GLkQdXwyiCjtz2BQ2gB+Ld7M6oAghhQVQv52iO3l7aKdsv5Z+Q/GwBAG9nJ1zrRtm4u+NoRYFHg1LIQKjQZ/kugWeDdLUou45aJeDGxX38Fs8/Tx7sfhAQbuGZtCYpgfLy/0I2ffPQR0fJVUg5EfBr3JJWumoO5agFJjBtPR9WPILcuBAAjWHroj25H0SwpFUeKAXeQ4q8FuAZ3RHUS81Un1cMJN4dzc+2b+OfAP13S/ptH+GSNmcKDyAF3CTp5mzGBDMN3Cu7GjeAerc1cfcj6RvKo8SiwlaBUtKWEpTR7TFK1GS4+IHvSI6MHknpP558A//LD7B/QaPcGGYH5N+5VyazmLsxazOGux+7w7+t7BHX3vYMH+Bfy892e6hXdDo2joH90fs9VMr4heJAYlkl+VT0xA/dDKcms5X+74kj2le5i/fz6dQjrxyphX6BDS4ZBl9EbTzOaCzcCJ2WwiTjw+GUQIjCI45Gwo3sx3/oHcWlyIcc9CCSKtIGvBTCo2/8KQirXkE8bVSz/ArvHj0dyn6Kgo7DHouT86mnydq3Zgxph/MyxuECv3FTEyxbMDYFOd9S4dmMiYbtH857tgVtiC0ejNPF74PD/EJPJ2fjZBW76FQUfXRl1qKwUg0nTsi4xpNQpd47uzpnIJuVotFO/DHJrAgv0LAFf/jBPRPQPu4Z4B9zS5L9AQSBfDyRNC6gyLH8aO4h38mfHnIYNIXW1Ix9CO7g6pR0ujaBiRMIIRCSPc2x4c/CAvr3uZz7d/7h46OSB6ALf2uRVFUTinwzmc06HpZiDAI4QABBmCuK3vbaiqyr0D7yXWP9bdv+RQ6oJIWzXNlNSUuOfaOBEDtzjx+GxbRHlRT5y2EIp1Tr4LCqRk2ftUWaw4Dp7j/wSycfsOtu/Zf8znO50qv27OYW9B20yao6oqiSsep1vlGrSKSpxSzLTcf/FmzhX0ZBfXx8VwbXysO4QMiRvCmKQxmPRaRneNRqNp3pDq8AAD708+jShT/boqm/w1fBkSBKvf9VxfoRnKcQ21iwk4vpEQ47u4qvhzdDpKMrbxbeq3VNgq6Bza2ePDSrSuce3GAfB39t+HnMehbsTMkZpljpZO45qLZPPkzXx67qe8edabfHD2B8c9ckJRFBICE44YQgCi/VxBpMRSwjep3xzXfZujrtavfXD7E3bmXXFi8c0aEWBzZhXW6pGYYufya0AQk8xZTH7ifyynH2O7x3Bu71gGJIcRHWxscv6IfHMN4QEG7E4Vk961X1VV0gorCfM3EBbQcotKqarKe39s4bplZ2JBz73dfqF/uwg0GoXB7cPJNdewK7ecjlEBfLIiHX+9FpvDyYbMUoZ1iuC+cV2ID/Xj2Xk7+HRFOn56LXeflYKKSueoQEZ1jcJid6JVFAKMLfctkVlgJgmwAY9GRRBrd/Cvkv0owI+BAaQa69+j/436H+PbjT+u1Vgn9bqA1zbtdD9fZvLnttydpH7/FNHnPtSsf5PyGhsVWjugIyH40BOYNcew9p1hAxzQaVmxegVbu7umjb6o80Ve7x/iS3pE9CA+IJ4DlQdYkrWkyY6orRVEGvLWUO0QYwgDogewPn89T698mt6RvRsNiT1YeY2NnzcdYHNmGX4GLe0i/OkSE0RSmD/JEY0nvWtoS+EWAHpFSg2zaB6fDCJVVjs7c8txanpC7Fy2mfSUaDRco13IEltf5m/LZf62+iXSu8QEYneoVFkdnJESSWGFhb9S66s5z0iJpHdCCH/syCc1r5zYYBO/3j2CiMBjX0iqtMpKkEnPqrQivliZQebWv7nVaMOEjc2b1/Pjpsarqjbll805/LI5B61Gcdf2VNscPD+//gPbpNdgtTsx6bWM6RZNYpgfO3PKueWMjoQHGAgy6UgKP/wvn4MVVlh4Z8FaimKi+Me/vsNntVZHiN3GrDDXRFgDYwZyUeeLjjuEAFzf50rahcbQPqQ9l/58KZtNRsoVha5bX+LtbZl0v/IZRndturNinS05B0it/WeLD27ee3woCYEJ6NFg0cCBgi1sCnO9D8lBycd1XXF0FEVhQscJvLflPR5Y8gA2h81job6s8iz+yXbN3Nk7yrsjmVqDoih8ePaH/Gvxv/gr8y9eWPMCH53zUZPHrs8o4ZWFu1izv5gam7PRfoNOwwV94+mdEEKvhGC6xwXjb/D8GFlxYAXgveAlTj4+GUQ2ZZbhcKrEBsaSENaFXSW7+NPfj0sqNvDe2EDuWFCJvUETza68+qaMb9e52j67K+lkqlFU4M+y3YUs213oPibXXMPZM5dxWrswbhjens1ZZWzILOG0duFcdlriEeel+HVzDnd9td5jJeizNfUzjN7exczM3I44VSiosKDVKHSJCWRrtmsY3xkpkZzWLpz2kf7M2ZDN4tQCHE6V+BATvRJC+GNHDglhgQxsF8bKfUXklLmaIqqsDn7dnOO+z5Jd9WGrY2QAMcEmOkcH0i7Cn/P7xBPqryerpJr4UBMF5RZsDieFFVZmLtrFyn3FJJs2UNLBc9TJ7KD6QBPtH807Y99xLyR2vPQaPePbuzq0Jge1J6N8P4/6j+DVymXcoX7DzZ8kcaM6kHYRAVwxKImhHSPYmFmKVqPQLymUmDA7L657kgyDjiCHk2GJI49wx8PTarR08o9hZ1UOWmMuBdUm0EJCUEJLvFxxFC5OuZj3trwHwMN/P0yMfwzxgfG8uv5VFmcuxuq0MiR2CH0im54+/2Sn1Wh5eMjD/J39N2vz1vJP9j8MSxjm3l9hsfPi/J18ujLd3ZLZKSqAsT1iMFfbmbvpABUWO1a7k+/WZfFd7e/Bup+d4Z0imNAnntgwJ5sLXR1Vz0ho2ZlaxalLUdWjbEBvQ0ezjPDRWLG3iJmLdpEY5k/37mt4df2rhKPl5/R0QiK6kDv+LbRRXVmdbqa0xsba/SUM6xSB1eEku6SaXuV/c962+9kdNpKfuv2PfYUVqCqE+us5u2cs932zieJK6yHvHxlo4NrT23P9sPZszi5l+Z4iwvz1TB7WHovdyVkvLaGwwrWWhb9By4X9ErjF9Av/zfyIcIeD1/ILUUb8CzqdiS1xKKqixaDTsDqtmChrJh2SaqfPWvAwZK/HfOHHVAR1IDbYhGb/UtQvLsc55Da045/E4XQ1J9mdTr5alcGy3YVkFZZytmYNC50DcWr9sDmdjbpZGHQaDFoNFRb7IV9nYuzHlIXV17wMiB6AxWEhpzKHUkspz53xHOd2OPfY/yEP48OtH/LKulfoFNKJbw3d0a9+iyI1iHMsz1FA406ouqCt+CV+DoCiqnx9IJfu/8kG3fEtjz7tj7v5Jesvri8t5+NQ1/DkVVevanJNF9G6Zq6byQdbP2hyX5A+iE/P/bTRFOinmqdXPs3XqV+j1+h5YeQLjG03lsziKia9v4qMYtdU6ZcMSODmER3pHqlDqS6GoHjKrQ4URWHt/mLWp5ew9YCZbQfKyDPXr7mj0yhMGJrDn8Uz6RTSiR8v+tFLr1KcCI7m89sng0hDVoeVy+Zexr6yfUwtr+G2wgZD3BQtJA+FM/4FAVFgzoGYnvDuKKgqch1z5VfQ6UzXlOJOB6BQZXeyJauMT1bsZ96WXKKCjJzVLZqV+4rYX3ToxZl6J4TgZ9CyOq2YYJOO+8Z14ZxecSi6Mh796QpW2lz3/DXzAMn22gCQMBA6joGhUyBvq2vhN0MghCa5ngMMuQOST4fM1bDuI7DVluHujRDeeNhf+U8PELThXdKTLiJ80vtUWOzsya8gz2xhb0EFS1IL2J5j9jjHoNVg1LuCSa/4EDokZbO49BlUxfXt1S64HT9c8AMGraufRo29psVqQppitpoZ9+04quxV3Nf/bpJWvk9k0T6SY4bwe8/X+WZ9FvvNuwkJrsDurKbE71sUreuX6oXlFTxeXIn+seMf7vjBlg+YuX4mHa029hn0aJyBbLz+n+NuhhLHZl/ZPi768SL3CBZwNaG9ceYbp3wIAde8I1MWTWFr0VYC9UGcF/oy36wuo7zGTkKoH89d2psz9Kkw/yHI2w6qA4zBkDIOBkyGyBRo0GSZWVzFP3sL+W1rLotT8/Dv8CpaUx439bqVewfe5cVXKrxNgshRmrt3Lg///TCxpkh+tYWTkb6EUIeDTL2OT0OC6VdjIdFuJ9LhoIvVhklV2V+7KNpGo5GzNMEEn/s/sv96gnRHDb0mvE5wx9GAq9OXUa9SYasgzBhGaZWN79Zl8cw8V+e4UH89QztG8PeeQspr7Ci6MlSHiS9uGklkeBGLMxfz/pb33YsmATxeWMT/lVdiB6o0CsFOFQJjoLoUGqwKalEgR6ujnd1Ow4+9Io2GMKcTjc4E/pGg1cGwuyGqGyQMgGdiKdRoiHQ6YXoZlGaCpRyWvwrx/XEMvo2NmaWUW6oY0SmOCqsVi6OCrUWbWJq1DD+9iR92/0C1vZqLyit4LLgfXPNNm08H/u7md3l9w+uNtusVDRqNvtEKqhrVxCjNBP637xW0ATFoH9h13GVYmrWUKX9McT93VCfy6TlfcFr7xgtwibaRbk7ntoW3kV2RDcCm6zb5VOfh4qoqJnx7ORWk46iJozrjZrpHx/Hhtf2IXfs8rHwHp9NGml7HZpOJKgVGVVWTaHeAKdS1wnXXCaCr7/ytqirT//yMH7JeRHWYOC/sNV64eKjXXqPwPgkiR8nisDDu23GUNJgB81D8nE5CnU736rAACTY7w6ur+SEoELuiEOJwcL7qR1ZwLBP6387nm95hS0UG5yadyYC4ocSXZOLw70yPzmNYcmAhv6X9RkFlCRnmAziVKvSKiZ6R3RrN0NjQ4NhBbM9ZS4Wi0qfGQr5Oi1FVmWBR8U8eRvWB9cwJCuCArZyzKqsYUGNhT1wP0jRONtbkMdih5dqCXPxVJ3YUBlpq2GowMjs4kH/8TJi1WsZXVDJdieZzWw5pOi1OoJfFSqeL3ufD1K9Ym7/+sO9Vb2M0H6WuxdjrMrj0/eb+c7QYi8PCDfNvYGvhVmIDYqmoLqLcWd9kFqQPolNwO0yGQJKDkrmu53W0K0qHTyZCZFeYuvq4y1Blq2LCN2dSaK8EwGbug77wOt65diDDOkVIzYiXZFdk88jfj3B5l8s5r+N53i5Om9maXcYdX6wjuyIdv3bvotFVEGNqx539b6J95lr6LnuDf/xMPBIbRwn1K9zqVZW7Skq5qLySMKcTonugjn8aW0A0htheVNmrueTnS8iuyMaSfw6OkjH8cd8o2kceed0dcWo64YLIm2++yYsvvkhubi59+/bl9ddfZ/DgwUc8r62CCLj+cn1gyQNU2avQKlr3MtOx/rF08o+hApXsygMUVhce4UotR6to6RPUDv+KQh5L30GOVsf18TFHPtFLOoR0oF9UP1RUIv0iubYwn/B/3oDBt8J5L3qtXKqqoigKqsNO9XujKS3cji2sPUlWG5qqQrjic+jsWguEHXPh62sgcTDcvLBF7j9n7Ws8tu09TE6VmvwbKS9xLYd+9ZBknrmol4QR0epUVeXHjdlM+2ELNTYnSeF+TLsggv9t/hcFDdZCCnM4KKldedpP50f38O5YHVa2FrmaeXXA6dUWzqsoZ5mfH/MD/IlQdBSj4sRJpF8kSZVPsjTVzFWDk5hxyanZ+Vcc2QkVRL7++muuu+463nnnHYYMGcLMmTP59ttvSU1NJTr68EMp2zKIAJRZysitzKVTaCdKaly1Iw2X91ZVle3F2ymrKaNHRA+KLcU4nA5+TP0GR1UxvduNYXz7s/lu03usT/+DLcU7yNVqCHI6mVxWTo5OywGdjr0GPVWKQplWi06FUVVVDOtyMe17Xo5eo+Ozf54huDiNqxLPouv6r8FS5rp/fH/mjJpKtdNCgD6AlLAUDBoDG/I3UG4t551N76AoCv2i+hFqCmVI7BASghJYlPY7ZlsFsQGxRPpFsrdsL3N2zyFAH+CqkladmG0V6NCQpDFSZqukqz6EdGcNB7ChQyHFYiFbp8Ws1aJVVcIdDsZUVZNot3PmFXOIiOxOoCHQtWZP7ibY8LlrrReAUQ/BmGmt/u/XLFlr4YPxrrbvOlqDK4x0OdtV7p+mQOdxcM13h77O0bBb2fS/diRaa9h6ziJeXFXlHuE0fWIPrh9+6Om5hTiUjKIq/tiZx/DOkSjA9hwzAQYdXWODWLTDta7MhD5xFJRbeH5+KktrR8GN7hrFq1f2J8RPT05FDk+tfIpd2SuocFqprF1va0D0AN4f/z56rR5VVfl217d8t+s793wrTQnSBfD2+FnUlCdyxbsr8dNrWfnwWYT4nbgrNIvWc0IFkSFDhjBo0CDeeOMNAJxOJ0lJSdx111089NBDHsdaLBYslvp2e7PZTFJSUpsFkRaXtpTq5a+h6zIO/cCboGAHrP8UwjqgbvyCgsIdBDqd+Nf9E9zwG5Rlww9NrAR85qOuTqfGQ69/YraaMWlN7g6hh1Npq8Rf54+iKDhVJ5nlmQQZggg3hbtmIlUUrA4r2RXZxOmCMH0wHpw2ssPbEZG5DpOtQafbsA7Q8yKwVcPWH6DyoE6e5zwPp9/ejDesjax8B/55HUKTXav/Htjg6ph88SzI3Qz/vAa9/g/+r+kRFsfknRGQuwWu/BK6TeDj5WlMn7sdk17DmkfGHnFIdx27w0mVzUHwIY6vstobzesgmlZUYSHET49O23L9Q5xOlYIKC9ml1SSE+qHVKFRbHRh1Gsw1dsw1NpLC/IkK8hyNVWNzYK6xYa62U15jIyncH5vDSVGFFb1Ww+78cnbmlJNWWMnS3QWE+RvIM9dgsTee6+NQDFoNd47pxF1npqCtm7XYVuP6nfTbA9i0RtZd+gb2kHiGxA1psk9XWlka89PmMy9tHpnlmZwe0ZvuOTsYUphBD1MMwXesQDUEcM7MZaTmlfOvsV24Z2zz1+4Rp44TJohYrVb8/f357rvvuOiii9zbJ0+eTGlpKT/99JPH8dOnT+eJJ55odJ2TNogcTsEu+PRCKD9Qv622dsJNowO/cNdf68leXjzK6QRFcX05nVCW6dr+4TmerwFAZ4KkwZC21PV84mswcHLblre5HDZXDcjmrz23D7oZJrzUcvf58U7Y+IW7dkhVVc56aQn7Cit54+r+nN+neZOnPfjdZr5em8lNIzrwyHnd3dPg2xxO7v9mE3M3H+DjGwYzqsvRT0+/Oq2Y5+fvpKTSyvl94zm3Vyz55RaCTDr6JYaSXVpNrrmGjpEBxzVZn7dsyixlc1YpS3cXkppbTkZxFUadhmA/PZ2iAhjZJYpbzuiIvpnBxOZwsmZ/MbvzKlibXsLOHDMZxVVHDAc6jULn6ECsDifmalc4sR5FoDiYQatBq1HoER9MUYWF/UVVtI/wx9+gY3uOGb1WYXyPWB44u6tnnw27FT4+D7LWuJ4PnQpnP9Ose6qqisVhcY18qyqGWaOgLAOG3wPjnuTnTQe4+6sN+Om1LLxvJIlhMlzd1xxNEGnVP50KCwtxOBzExHj2a4iJiWHnzp2Njp82bRr33Xef+3ldjcgpKaoL3L4M0pe7ht/+8i/YWtsUENoOpqxyBROtwfXh720ajefjsHaux7f8CX88AeZsCIiGpCGu0KHRw5O183WEnsD/hlo9XPQO5Gx21VjVsR56mPUxia2dsTPXNf21oiiM6xHDrKX7WLg9r1lBpKjCwtdrXQHwg7/T6JUQzMX9EwF4f1kaP29yBcKXf09lZEpks/qe7MorJybIxL7CCm78eI17XpjX/tjNa3/sPuR5PeKCueb0dlw95MSfJdZcY+OBbzexYFteo30Wu5OCcgsF5RZW7nOFiucu7d3ksg715zj4bl0Wby/eS1ZJ47VrtBqF8AADBeWu2l2jToPV4STIqMOg01JYYWFnbnmj8xQFgow6THot+eUWdBqFUH891VYHnWOC6BEXRFK4P12ig7A7nUQEGhmYHIZGo7j7QQGUVdkI9nP9ai+utBJQe03PN+UAzLmtPoQEJ8CIfzXr/XSVVakffu8f7uoD9tUVsOJN6HsVE/t047MV+1mzv4Q7v1jPW5MGHHcYUVWVCoudsmobpVU2zNU2qm0ONBoFraKg1SjoNAphAQbCAwwYdRr3fEdt0Q/L7nBisTtbdJkMX3FCvWNGoxGj8eT7S+uYBURCjwtdj//vAxg21TVUNvl00Psd/twTRXAcXPxO0/vuXAVZq11B60Sm0bhqPz67uH74c9KRO1MflYOCCOAOIr9szmFUlyguGZB42Ev8uiXH4/m/vt7E6rRinrywF3/urP+Q3ZRVxj97ixjeOfKQ11JVlefm72TWkn0e2/snh3JJ/wT+3JnPst2F+Om1WGt/wWoUiA02caCshu05Zh79cQvn9Y4l1L/l1lVqaSWVVq75YBXbDrhqBk7vGEG32CDOSImiY1QA2w+YCTLp2XagjBm/7WTOhmzmbMgmOsjIWd2jGdopknHdY/AzuD7IKy12LnnrH1LzXEEizF9Pv6RQ+ieH0TcplPYR/sSH+qHXaqi2OjDoXLUVDYPCvoIKMkuqXbUxJj3BfjqC/fQEGnTuGq7yGht+em2zm40aftCG+Nc3qRyy5urHO101looWrvgMup53fH/wdD3HNaQ39VdY8DDKtXN4+fJ+nP/632zOKuPMl5Zw1aAkRneLpntsMGEB+iYDgs3hJM9cQ05ZDevTS9ieY6akysbuvHLyyy3HvChpZKCRrrGBhPoZXIFFq6DXaFz/r32P7U4nDic4nE7sThVHgy+bQ6XSUl97ZXeqWO1OrA4nNocTq91JldXV76xvUiixwUYKyi3ubXUURUFfe0+dRsGg07gf63Ua9BoFnVbjPkajKK6KaOr+7/pncjjBqaoNvlz76o53vR4Vp9O1v67dQ4UGj+s3dosL4taRnY7pvW0JJ1TTzMHaurOq8HFOJ1jMsGuBKyDqW3DCtZoyeK629uA/aeAfjqqqTPthC7PXZBJs0rHy4bMO279jypfr+XVzDnef2Znv12eTXer6azwy0EBhhWtY8sguUSzdVUC32CB+mjoco06LqqrsyCmnc3QghtqVjr9fl8X9327yuP75feJ4+qJe7mBhsTvQazRkl1YzZ0M25/WOpXN0EIUVFi6ftYJ9BUfXrNSWUnPLueur9e7lGSIDDXwweRB9k0IPec7C7XlM+2GLe1bjOr0TQph17UDiQ/1YuD2PWz5dS7BJx71ju3DV4GR3SDkpqCosfRH+esbV9HvDfEga1DLXLtkPrw1wdQS/dTHE9yc1t5zpP29jxb6iRodrNQp+ei1+Bi3+Bi16rYb9hZ7LazTFoNMQ4qcn1E+Pn0GLU1XrA4RDpbjKSmmVrWVek48Y2SWKT29s2T++TpimGYPBwMCBA/njjz/cQcTpdPLHH38wderU1ry1EEdPowG/UOh7Rctf2xTianIrTXfNeNthJIqi8OzFvVmxr4j0oirmbMhm0pB2h7xEYW1Vf6foQH679wy+Xp3JjN92uEMIwKtX9GPMS4vZmVvO2a8sJTrYxM4cM+YaO3eO7sR/zulGfnkNT/6yHYB7zkphWKcI4kL8Gq2qWtc8kRTuz91n1Xc4jAw0cmbXaPYVpLF0VwHn94kns7iKBdtyueb0do2bAQ5BVVUWpxYwoF1Yi4ys2JFjJr/cQkZRJS8t3OX+MAoy6fjyltPpEhN02PPH9YhhdNcoSiqt7Mqr4MeN2czbksOW7DLGvbyEV67ox9YD5tpjY7lxxEk42mnD564QAjDolpYLIQBh7aH3/7n6W61+Hy56k66xQXx5yxCW7S7kp40H2JRVyr6CCpwqOJyuppaDl4kwaDXEhphoF+HP6R0jCA8w0CUmkIRQf0L99c36/nLVYrhqLCw2J1klVezJr6DK6sDmcNVo2B1ObA4Vu9OJgqtpp+5Ld9D/tRoNAUYtwX56jLW1GPramou650EmPdU2Byv2FlFltRMdZCTQWP99raLWvm4nVrtaWw4nNruKzenEVlvTYnPU7nM4cdTWZtTVZKi4nmg0ChoFtIqC0qAWxKm6fq4AdBoNWg3uWjaldlrLupqVuscASV7uw9PqTTP33XcfkydP5rTTTmPw4MHMnDmTyspKbrjhhta+tRAnltjeriCSvR46uBbU02gUrhvanqd+2c7Hy/dz9eDkQ7Zn161fFBFgJNik55aRHRnfM4bbP1/PjhwzF/dPICzAwFtXD+DGT9awv6jKY0mBtxbv5YGzu/LE3O2UVdvolRDM1DM7N7tzZkMju0Tx/t9pLN/j+kt3ypfr2ZxVRkZxFdsOmKm02PlxyvDDfmj8sSOfmz9dS3K4P3/cPwqdRuHbdVlklVQT4qene2wQw2qbl8qqbTz43WbWppfQPzmUfkmh9IwPZuH2PHbkmCmutDa5fMLorlHcdWbnxiEkex18dTWcfgeMuNe9Wa/VEB1sIjrYxIiUSKaO6cz9325iXXoJt32+zl2t3Scx5KjfM69TVVhV24w64DoY/3TL36PP5a4gkv63e5OiKIzsEsXI2g7UNoerGaPa6qDa5qDKaqfa6nDPb5Ic7n/cfTpc4UHr+v4zQVSQkf7JjdeYag3/N/DwTayisVYPIldccQUFBQU89thj5Obm0q9fP+bPn9+oA6sQp7wOI2HnL7DtB48Pv8tOS+Tl31PZnV/BtR+sZldeOV/dejqdojyHatcFkfCA+j4Z7SICmHPnMOZuOsCorq5f9MM6R/L1rUP5z3eb3X0Z6mw7YGb+1lwAnrukzzGFEHD1JQHILq0mq6SKzVmuuW4+XZHuPubv3YWM7XHon/O61Z0ziqtIeeQ3EsP8GnX+jAsxERVkZPsBs7vKfuH2PBZub9zxtI5Jr+GOUZ25anAS0cEHNa+pqmu9pV9qO2YuetzVFNf3Suh/rWenbKB9ZABf33o6037Y4l55G6BXwkkYRLb/6KqN05lg7BOupR1aWuJgVyf7kv2utbmC4xodotdqCPHTyPwiwq1NOqtOnTpVmmKE6PV/sOARyNkEaz+E024EINik59KBiXy6Ip2/97hm7n110W5eu6q/+1SnU6WkyhVEIgM9O4ea9FouO81zZFLfpFAW/MtV65KaW85DP2xmQ0YpMxftwuFUSQj1O64P0yCTno6RAewrrOT9ZWlNHnP37A3MvWtEo0BVp66/Sp2mRqDklLk6LtZpH+GPn0GHVgMllTYGtAujV3wwOWU1XHN6MpGBRuxOlchDddLct7g+hNTJ+Mf1VZYFZz7S6BSdVsNzl/ahxu5k7qYDGHQaesSdZH3W1n4Iv9XO23T6na6RLq3BFAwxvVzz8WSsgF6XtM59xCnlhBo1I8QpLSACel0Km2e7Pgz9I6HHBQBcflqSR21CVolnM0NptY26PnxhAUc3SqVrbBDn9oplQ0Ypi3a4Jpsb3OH4P4h6JYSwr7CSj//Z3+T+KquD8a8s5ckLezbZ96VueCvA3Wd2JjHMn37JoSSF+VNltfP6n3sI8dPzxap0Cius3DSiA/89v8exF/irqyB1nuux1ggdR8Hu3+v3L30Bel4MMY3vodUovHZlP8Z0jSLUX39ydVAtz4Vf7gNU10rhYx5u3fslD3UFkaw1EkREs0gQEaItnf+K6/+bZ7tqR1LGg95Ez3jPv7C3ZpupsTncfSyKK10f2sEm3TE1p4zqEs2z8+rn7hnUAqv/9koIds9dAvDVLaezPqOEvfkVGHQaVqUVk1ZYyYx5Ozm/dzw1dgc5ZTX0qx25UhdEXr2yHxf2S/C4tp9By/QLegJw7dB2LNqex8UDPI85Kjmb60OIooGpa1xzZ6QthnYj4OtJsGcR7FnYZBABV1+HIw2xPiHt/h1QISIFJn3fqPmpxcX3c/0/Z3Pr3kecMnxn7WshTgQGf1cYCYp3zURZO4mdoii8NWkASeGu+WOstbN21imqHRlzrDOadonxbB45q/vh13lqjtFd66/hb9AypEM4U8Z05uUr+vHcpX34475RdI0JosJi5/JZKxj14l9c9OZyftqYDeAeJnvIZpRakYFGrhycfNhJxo5o45eu/5tC4eZFrgn5tDroPNY1TLturpv9y4/9Hm3BVuNawyl1Pnx3I3xyAeS6FqQjbzuUZrj6wexeBMtegsoiVx8YgN6XtX4IAc85c07cxd3FCURqRIRoawZ/GHKbq6Pkyreh3yRQFM7rHcd5veN44NtNfLsui792FnBGiqsDal1H1TP0O2H+AhjzyGHXHTqYoij8e3wX3lmyj1ev7EfMwZ04j0GXmCBev6o/j/+8jX+N6+IeJlhHo1GYemZn7vpqg0en2SfmbicuxI+C2iBy8LorLc7pdHUQBrjkXUgY2PiY9iNc/89YAU4HaE6QppfadZ+w1bg62a7/FPK3ex7z4dkQ3sH1wa/3h/j+rhmb+f/27jws6uvcA/h3BpgRZBlwWGVVUNwgrjgar1ZQo9Yk1lprTKvGx1wNptqY3GpyE7VNrt6m1zRJU21NolmaWGPiUqM2BhBjggoICoi4BAWRRUX2nTn3j3cWBpB9+M3I+3meeWb5nZk5v8My75zlPQBifm8sN/Sx3qmzeihlhK4tpcDIteWwHGNNcY8IY1LQp8EvTAfum072nB5KPQ1xWcbNA+/pApHX7r8CnPkr8E3LSZW48g1lhy291fIYgDXTQ3Bx00xEDuu5FWvzwn2Q/N9R+NXE1j9s5ozyNkxKVdrKEerlhOLKOvzy7wmGPB/u5t635lYiUFEIKF0enOXXaxQdry2j+Q29TQigoZb2Psr8F+1FFfN74I9BwK5I4K0RwPENLYMQpTNQV2HM2FtfZQxCmhq7HPAON/95AICtAnAPpdtStCWzOhyIMCYFe1fjN/NmwwGPhqhhZyND9t1KHEyhYYziyjq4owS20CV/St4D1DZZmttQB3y2ELgeC5zc9sC3Nem1KC+k4KWi6IHlO6KtnA82chl2LxuPMF8XfP7sRHyxSoOJg9wME2/lMph/GWfmYboeMos+JFsjtwECNHT7xunWy3RVXRVQ/CNtcrlrOpB7jh6vrwHOfwLsXQK8OwZ43QP4gxr459PAe+NpaKX6PpCXBFTdBZx9aRfuxf8EgmcAT+0DXrgETHmRJkGvjAXGrQAgoxVaCz4AfMZQ79nsP/bsObVHH/TkJffu+zKrxEMzjEklcDKQewY4+iIwaJphc0CnfnZYNXUw3o29hlcPpWNeuA+uFJZDI88wff61b2mVBwBkHDA+nm+auh2NDbTnj89o4x5GZfn04VdfBQRMBpYfNc85ApgcrMbhNY8a7m/7WRim/ekkAMoE2XxIp0c1NgBpus0kdSuUHijwUeDKcQoMJz3fufcRgnpTcs4AJzZROzt5095FN3+gdtb7cBbl28hLArQND35NhSNtIunsDYTOo/ks+twfTYdZIl813h44FpixBbDrT/NBRv28c+fRU/wigJRPgJyz0rw/syociDAmlYDJ9K23oQbY+xTtxqyzNjIEO05eR3lNA4rKa5B4oxi/kTfbsfpqk0Ck6TLUwgygpoxyOgBAwl9oPsq4FcBPt9NjF/9p/HDMSaDeFWXbKdB7SqC6P95aFI4X9l1AZGj3J8226cc4oKIAsHcDQma1XTZgMl1fOQZ8uZKGzwIfbfs5AHD0JSDxA9pjpT0OaurdyD1D9+1dqffCO4xWUNVVAk5e1BNi7woo+rf/ms310s+xTf4T6fr2eeqte1BPFGPgQIQx6QROoWyr2adoLL0wA/CkJau2NnJ4OvdDXkk1Em/cR2FZLbwVulU0IxcA6V8CqZ8C2nrgyR2mY/Gikb6F6781f7uJrpM+oECkrsq4igQAhBa4lQQM/gnw3XZK+rVwT8ukV3WVtH28OgTdNX+0L8YFuLW7YqbL7l0Hds+hIASg1OPtfRh6hwN+EylISNsHXDoELPu65X4sNxMoWCi7DXy9HriTaTymdKY9hfwnUkBQXw2EzgE8RlDviKMn/ezKCyiPiVdY67vediUAsSQDgin4qy4GbqcA/hFS14hZMA5EGJOKrQJY+i+aI3D5CA0h6AIRAPBRUSByOJVydQxUVAENAELnUrBQdY96NuzdgLtX6Un6rdiz42lORPLulu/75QrgbhZ1/QdMBq7+G4j/X/rwiNlCZU6/Bcz8A1BbQbdHLQTiXqeJlIs+BYbN6/bp+7mZcaOtc383BiEArUxqj9wGWHaEApCT24B7V4E9c4BF/wCGzKQy964Du1tZfTJ+JSUK60jG0rBfdOwcrJlMRoFWxgH63eZAhLWBJ6syJjX98ErWMZOHvV1oPse3mbSvirtNJR1w8gae+QYIX0z3z+4AIACHAcY5AUkf0oTW5unM66uNeSV+8TEFNQANz/x5pLFcyifUc/LvjcB3fwL+NoWCEICGLapLunfO5nY7xXjbzoGGPjrCxo7acGUsTQhtrAO+3WzMh3Eny7S87wRgyX6aDGqutOnWaoQuq2rGAVpCzdgDcCDCmNQGT6dsn3cyac7I+1FAaR68Vaa5Phy1ulUyDgMAdTAwfycwo0meiIFjDbv6oqEGOLKu5XvlnKGhGxslLWUNWwRMe5k2Qmuq+j4tFz3/Md1vrDMea6gGdkwGUj/v3nmbS00ZDTUBNEzyy8/aLt+afs7Agl0UxBRlADd083f0S6OVzsDSI8Az/wZCZvROojBrEzIDUDgBpbm0mqsnCQFUFVNgzUnTrB4PzTAmNQc3WmaZl2RMQBX3Bnw8/stQxAaNsKsvozv2Tb55T15Lm4yd3UkrPfqrjcMzrfnxJF2r/OjDU94PmPY7mpR5dicw/AkKQo6+CJz/qOXzJ/wnLYctuwUcfp56c+y6nxytR8VsoWDLbTDwm/Ndfx17V+p1SvoAOLOTgrzSXDo2+mkgaErP1PdhZWcPjPk1cOY94NSbFHB3J2ArzQOKr1MAnJcE3L1Cj/dzAbwfoTk+9q7Uy+fia/3zbPoQDkQYswSDp9M/V737N+AdYvyAHzVAQFap++Zn72r63OBIuugt/gz4MR74+HGaB7L2AgUNWUdpFQlAPQVNBU6mC0BDMmf/RpMx3YIoMCnLo6GKx7YBUZuB//GmibL3rlIyMCHo26nCgb79NtS1n8mz9Bbw2SLaDXZ0B+ZwtOf0W8C5XVRXgOraXRGrKBDJ+prmjuh7RFyscM8ZKUxaAyTuognAxzcAczqRzyT+TdqTqb8HUFPSMpmbXk0pzYnKjqf7+nlOPmMo4LbrD7gNAsIXASr/bp1Oh2m1VN+GGprYXJhBk70dPenLgnpI65OU+ygORBizBL7jTO/XVyFIbfxG9/xENyAG9O3PpgN/toOmAk99Qb0t+n98WUeNOUbaSrutcKBN4YSWJnA21ALX4yjXiVxOx/WrS4ouUyByejsQ+zq95z8W0Ov89hLg0sZGdaf+RJllD3UwECnNo5ThtkoKsNQhtGz53nUK5L7dbCwb/pRxgml3uA8BQn9KEy73/ZraH+BApKOcfYAn/gp8tRI49zfAyZN61drbnqCiiCZHA8C9a6bHgqZSTpjhT1Iq+fs3aE5QQRr9PuUkULnb5+miF/c6ILOhv4WBY6huSifANYgCFM8RNEdICLp0tfemoRb4dIFxOK81/hrqwXHypgDexg5w9AD6u9OXhAdsvPiw4kCEMUvg/Yjp/bvXEOLhiD/+PAx+rg7Q2OlWxdh3YkJk0w/iwEeB7/9svO8a2PZzZTL6pw3QB3/z3g2PYRSI6Jeu6oeU9EEIQB8CbQUiTfdzOfwbWj6c/iUFFjI5zTGI2kzHs44B+1cA9boJuzIbCt5yW0mYJbcD/uPFts+vM+bvBI68QEt6a0rpMQ5EOi5sIVCYBnz/Nv2exL9JK7r8JtAmhCo/+uBXDwFyfgDu/Wiapt4vApjwLK3wchjQchm2d5jpZOTqEvo55SUBFXeAunJaIp99iobs7mSaLrnWs1EAcltjYOA/kfbNqSmlnDsFabqtApwoH4yNrqyjF9WpppQulXepBwegzS3LbwMufnQpz6fAKSfBGDC1xmeMcd6WawDNSVI60j5IjfW0FLyxjnoeG5te6jv/8wEo2WHUpq49twdwIMKYJXBqtv9LXTlQmotfjNN1JV/WfeB2dWWGv8b0fvOhmc7yGEbXRZkPniyYd77tZb51lcbb5z9qOSelMJ2WFN9MoJwpTYnG1oOQyesoz8qAwe2eQocpnYAn/kLnWqjb08XFr+devy/4ySvUw5b5L/ogvnSQLu15cifwyOLOvZe9ii5Ne/3+4yWa3FpXQbsV51+gxHKVd2kI8m4WBRH6SdmNdcbgpbmGGqDyjvF+8x4bgIaDFn1M2XAb6ynA0Q/F3LsOXD1BQUl5PgX62kZ6zYpCGsZp2pOT80Pnzr8rZNJOtuZAhDFLdT2OsnsClDME6FyPSFNKR+NwCmBcXdNV+k3NijLpn2lrTm+nb7uPPN16MrHWnuc/iSYhVt2l+4eijcdslMALmfRa2d9R7pMR82nc/Yd3KNfJo781z9i7rZJW0eyKpGDQQd3z7/Ews1UCM18HZvyBgoBLh+gDNy+ZftZyO5pzpB4K+I6n3xv3UGBYO2n5O8PBjS4qf0oy15RWC5TmUFBt50A9Gj/G67LyulLvxIBgmjNVW04BjLaBypbeoiCrnwsFQP1cAOeBdBug3pWmBgxuO1AuyTVOKpfb0DBVTSkF7nJbej1bJV3bKKknx1ah69Gx69rvv2PPbYTZFRyIMGYpVsYCp/6Pxq4Td1GyMn0gUq3LquowoOuvP/N1es3Ja7uf80LfI3L/BnA79cHljvyWsrwueL/lsXJdwjHNGkoGJrOhFThCUG/H7tn0D15v6GNAf935h84x/TDp7LfmrvAYBjyfpPuHz8t1u0QmA3weoQtAQwsNNTTnR9sgXSp4udx0uNLJE3AfKk1dVH7AmF9J894S4UCEMUsxcCyteCnNAxLfp3HyazG0Iqackpqhfze+ifuNb5muvKv6u1NQVHXPmOhM4Uhd3wANBdk5ANdjgLQvaBls2n5afjl/J61i0PeIjP6V6VJLmYzG558/r8vjcQn44V3jfBEpOftIXYOHi63CGHzIeT+avooDEcYsjctAYNxyyo56cDUNR+hXu3hYyGx6mQxwHwbcPA1c0CUMm/gcragpyqSVEja2wP5naALqpz8zPveT+cDU3xknfjp5tf4ebkG64540kZUx9lDi/kXGLNGsrTQEUFFIwx/5qfS4z2gpa2XKI9T0ftAUmqPxs78blxhPf7Xl8+7foABLT78kljHWJ3EgwpglstNNjgMo/0ddBQ1TSDVu3Rr3ZoGI74SWZdyCgKe/pJ2Glx8HXrxGK1v0bBSc2ImxPo4DEcYslTqErlP+Qdfe4aa5N6Q2dLbx9uDpD071HhxFu9oGaABHd2DGFmDtRUpMNfON3qkrY8xi8RwRxiyVeghd65MvDZomWVVa5eILRCcCCX+hOS2d4RoALD1snnoxxqwKByKMWSp9IKIX/ktp6tEW9yHA4+9IXQvGmBXjoRnGLJXnSOPtQT9pPy07Y4xZIe4RYcxSeQ4HFu6h3XDbSpXOGGNWjAMRxizZiPlS14AxxsyKh2YYY4wxJhkORBhjjDEmGQ5EGGOMMSYZDkQYY4wxJhkORBhjjDEmGbMFIm+88QYmTZoEBwcHqFQqc70NY4wxxqyY2QKRuro6LFy4EKtXr26/MGOMMcb6JLPlEdmyZQsAYM+ePeZ6C8YYY4xZOYtKaFZbW4va2lrD/bKyMglrwxhjjDFzs6jJqlu3boWLi4vh4ufnJ3WVGGOMMWZGnQpENmzYAJlM1ubl8uXLXa7Mxo0bUVpaarjk5uZ2+bUYY4wxZvk6NTSzfv16LFu2rM0ygwYN6nJllEollEpll5/PGGOMMevSqUDE3d0d7u7u5qoLY4wxxvoYs01WzcnJQXFxMXJyctDY2IjU1FQAQHBwMBwdHTv0GkIIADxplTHGGLMm+s9t/ed4W2SiI6W6YNmyZfjoo49aPB4XF4dp06Z16DVu3brFE1YZY4wxK5WbmwtfX982y5gtEOkJWq0Wt2/fhpOTE2QyWY++dllZGfz8/JCbmwtnZ+cefW3G7dsbuI3Nj9vYvLh9zU+qNhZCoLy8HD4+PpDL214XY1F5RJqTy+XtRlLd5ezszH8AZsTta37cxubHbWxe3L7mJ0Ubu7i4dKicReURYYwxxljfwoEIY4wxxiTTZwMRpVKJTZs2cd4SM+H2NT9uY/PjNjYvbl/zs4Y2tujJqowxxhh7uPXZHhHGGGOMSY8DEcYYY4xJhgMRxhhjjEmGAxHGGGOMSYYDEcYYY4xJpk8GIu+99x4CAwPRr18/RERE4Ny5c1JXyWqcOnUK8+bNg4+PD2QyGQ4ePGhyXAiB1157Dd7e3rC3t0dUVBSuXr1qUqa4uBhLliyBs7MzVCoVVqxYgYqKil48C8u1detWjB8/Hk5OTvDw8MCTTz6JrKwskzI1NTWIjo7GgAED4OjoiAULFqCwsNCkTE5ODubOnQsHBwd4eHjgpZdeQkNDQ2+eikXasWMHwsLCDFkmNRoNjh07ZjjObdvztm3bBplMhnXr1hke43buns2bN0Mmk5lcQkNDDcetrn1FH7N3716hUCjEhx9+KDIyMsTKlSuFSqUShYWFUlfNKhw9elS88sor4quvvhIAxIEDB0yOb9u2Tbi4uIiDBw+KCxcuiMcff1wEBQWJ6upqQ5nHHntMhIeHizNnzojvvvtOBAcHi8WLF/fymVimWbNmid27d4v09HSRmpoq5syZI/z9/UVFRYWhzKpVq4Sfn5+IiYkRSUlJYuLEiWLSpEmG4w0NDWLkyJEiKipKpKSkiKNHjwq1Wi02btwoxSlZlMOHD4uvv/5aXLlyRWRlZYmXX35Z2NnZifT0dCEEt21PO3funAgMDBRhYWFi7dq1hse5nbtn06ZNYsSIESI/P99wuXPnjuG4tbVvnwtEJkyYIKKjow33GxsbhY+Pj9i6dauEtbJOzQMRrVYrvLy8xJtvvml4rKSkRCiVSvH5558LIYS4dOmSACASExMNZY4dOyZkMpnIy8vrtbpbi6KiIgFAxMfHCyGoPe3s7MQXX3xhKJOZmSkAiISEBCEEBYtyuVwUFBQYyuzYsUM4OzuL2tra3j0BK+Dq6iref/99btseVl5eLkJCQsSJEyfE1KlTDYEIt3P3bdq0SYSHh7d6zBrbt08NzdTV1SE5ORlRUVGGx+RyOaKiopCQkCBhzR4O2dnZKCgoMGlfFxcXREREGNo3ISEBKpUK48aNM5SJioqCXC7H2bNne73Olq60tBQA4ObmBgBITk5GfX29SRuHhobC39/fpI1HjRoFT09PQ5lZs2ahrKwMGRkZvVh7y9bY2Ii9e/eisrISGo2G27aHRUdHY+7cuSbtCfDvcE+5evUqfHx8MGjQICxZsgQ5OTkArLN9LXr33Z529+5dNDY2mjQ+AHh6euLy5csS1erhUVBQAACttq/+WEFBATw8PEyO29raws3NzVCGEa1Wi3Xr1mHy5MkYOXIkAGo/hUIBlUplUrZ5G7f2M9Af6+vS0tKg0WhQU1MDR0dHHDhwAMOHD0dqaiq3bQ/Zu3cvzp8/j8TExBbH+He4+yIiIrBnzx4MHToU+fn52LJlC6ZMmYL09HSrbN8+FYgwZk2io6ORnp6O06dPS12Vh8rQoUORmpqK0tJS7N+/H0uXLkV8fLzU1Xpo5ObmYu3atThx4gT69esndXUeSrNnzzbcDgsLQ0REBAICArBv3z7Y29tLWLOu6VNDM2q1GjY2Ni1mDxcWFsLLy0uiWj089G3YVvt6eXmhqKjI5HhDQwOKi4v5Z9DEmjVrcOTIEcTFxcHX19fwuJeXF+rq6lBSUmJSvnkbt/Yz0B/r6xQKBYKDgzF27Fhs3boV4eHhePvtt7lte0hycjKKioowZswY2NrawtbWFvHx8XjnnXdga2sLT09PbuceplKpMGTIEFy7ds0qf4/7VCCiUCgwduxYxMTEGB7TarWIiYmBRqORsGYPh6CgIHh5eZm0b1lZGc6ePWtoX41Gg5KSEiQnJxvKxMbGQqvVIiIiotfrbGmEEFizZg0OHDiA2NhYBAUFmRwfO3Ys7OzsTNo4KysLOTk5Jm2clpZmEvCdOHECzs7OGD58eO+ciBXRarWora3ltu0hkZGRSEtLQ2pqquEybtw4LFmyxHCb27lnVVRU4Pr16/D29rbO3+Nenx4rsb179wqlUin27NkjLl26JJ599lmhUqlMZg+zBysvLxcpKSkiJSVFABDbt28XKSkp4ubNm0IIWr6rUqnEoUOHxMWLF8UTTzzR6vLd0aNHi7Nnz4rTp0+LkJAQXr6rs3r1auHi4iJOnjxpsjSvqqrKUGbVqlXC399fxMbGiqSkJKHRaIRGozEc1y/NmzlzpkhNTRXHjx8X7u7uvPRRCLFhwwYRHx8vsrOzxcWLF8WGDRuETCYT33zzjRCC29Zcmq6aEYLbubvWr18vTp48KbKzs8X3338voqKihFqtFkVFRUII62vfPheICCHEu+++K/z9/YVCoRATJkwQZ86ckbpKViMuLk4AaHFZunSpEIKW8L766qvC09NTKJVKERkZKbKyskxe4969e2Lx4sXC0dFRODs7i+XLl4vy8nIJzsbytNa2AMTu3bsNZaqrq8Vzzz0nXF1dhYODg5g/f77Iz883eZ0bN26I2bNnC3t7e6FWq8X69etFfX19L5+N5XnmmWdEQECAUCgUwt3dXURGRhqCECG4bc2leSDC7dw9ixYtEt7e3kKhUIiBAweKRYsWiWvXrhmOW1v7yoQQovf7YRhjjDHG+tgcEcYYY4xZFg5EGGOMMSYZDkQYY4wxJhkORBhjjDEmGQ5EGGOMMSYZDkQYY4wxJhkORBhjjDEmGQ5EGGOMMSYZDkQYY4wxJhkORBhjjDEmGQ5EGGOMMSaZ/wdDn3DAUYsKPgAAAABJRU5ErkJggg==\n",
      "text/plain": [
       "<Figure size 640x480 with 1 Axes>"
      ]
     },
     "metadata": {},
     "output_type": "display_data"
    }
   ],
   "source": [
    "val_res = pd.DataFrame(val_info)\n",
    "epoch_loss_list_val = val_list[::]\n",
    "val_res['epoch_loss'] = epoch_loss_list_val\n",
    "# val_res.to_csv('val_info.csv')"
   ]
  },
  {
   "cell_type": "code",
   "execution_count": 98,
   "metadata": {},
   "outputs": [
    {
     "data": {
      "text/plain": [
       "<AxesSubplot:>"
      ]
     },
     "execution_count": 98,
     "metadata": {},
     "output_type": "execute_result"
    },
    {
     "data": {
      "image/png": "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\n",
      "text/plain": [
       "<Figure size 640x480 with 1 Axes>"
      ]
     },
     "metadata": {},
     "output_type": "display_data"
    }
   ],
   "source": [
    "val_res[['dp']].iloc[200:, :].plot()"
   ]
  },
  {
   "cell_type": "code",
   "execution_count": 9,
   "metadata": {},
   "outputs": [
    {
     "data": {
      "text/html": [
       "<div>\n",
       "<style scoped>\n",
       "    .dataframe tbody tr th:only-of-type {\n",
       "        vertical-align: middle;\n",
       "    }\n",
       "\n",
       "    .dataframe tbody tr th {\n",
       "        vertical-align: top;\n",
       "    }\n",
       "\n",
       "    .dataframe thead th {\n",
       "        text-align: right;\n",
       "    }\n",
       "</style>\n",
       "<table border=\"1\" class=\"dataframe\">\n",
       "  <thead>\n",
       "    <tr style=\"text-align: right;\">\n",
       "      <th></th>\n",
       "      <th>overall_acc</th>\n",
       "      <th>dp</th>\n",
       "      <th>eop</th>\n",
       "      <th>average_odds_difference</th>\n",
       "      <th>grp_0_acc</th>\n",
       "      <th>grp_1_acc</th>\n",
       "      <th>epoch_loss</th>\n",
       "    </tr>\n",
       "  </thead>\n",
       "  <tbody>\n",
       "    <tr>\n",
       "      <th>count</th>\n",
       "      <td>510.000000</td>\n",
       "      <td>510.000000</td>\n",
       "      <td>510.000000</td>\n",
       "      <td>510.000000</td>\n",
       "      <td>510.000000</td>\n",
       "      <td>510.000000</td>\n",
       "      <td>510.000000</td>\n",
       "    </tr>\n",
       "    <tr>\n",
       "      <th>mean</th>\n",
       "      <td>0.790728</td>\n",
       "      <td>0.043340</td>\n",
       "      <td>-0.190372</td>\n",
       "      <td>0.383101</td>\n",
       "      <td>0.889768</td>\n",
       "      <td>0.743983</td>\n",
       "      <td>0.756673</td>\n",
       "    </tr>\n",
       "    <tr>\n",
       "      <th>std</th>\n",
       "      <td>0.039763</td>\n",
       "      <td>0.166814</td>\n",
       "      <td>0.344989</td>\n",
       "      <td>0.320623</td>\n",
       "      <td>0.049945</td>\n",
       "      <td>0.045732</td>\n",
       "      <td>0.497900</td>\n",
       "    </tr>\n",
       "    <tr>\n",
       "      <th>min</th>\n",
       "      <td>0.583231</td>\n",
       "      <td>-0.485795</td>\n",
       "      <td>-0.749562</td>\n",
       "      <td>0.030370</td>\n",
       "      <td>0.458812</td>\n",
       "      <td>0.641953</td>\n",
       "      <td>0.430006</td>\n",
       "    </tr>\n",
       "    <tr>\n",
       "      <th>25%</th>\n",
       "      <td>0.766316</td>\n",
       "      <td>-0.065977</td>\n",
       "      <td>-0.508257</td>\n",
       "      <td>0.104064</td>\n",
       "      <td>0.894157</td>\n",
       "      <td>0.702306</td>\n",
       "      <td>0.521778</td>\n",
       "    </tr>\n",
       "    <tr>\n",
       "      <th>50%</th>\n",
       "      <td>0.792230</td>\n",
       "      <td>-0.013443</td>\n",
       "      <td>-0.300710</td>\n",
       "      <td>0.372959</td>\n",
       "      <td>0.907088</td>\n",
       "      <td>0.741524</td>\n",
       "      <td>0.599918</td>\n",
       "    </tr>\n",
       "    <tr>\n",
       "      <th>75%</th>\n",
       "      <td>0.829853</td>\n",
       "      <td>0.172185</td>\n",
       "      <td>0.079588</td>\n",
       "      <td>0.450585</td>\n",
       "      <td>0.911877</td>\n",
       "      <td>0.792948</td>\n",
       "      <td>0.765636</td>\n",
       "    </tr>\n",
       "    <tr>\n",
       "      <th>max</th>\n",
       "      <td>0.844134</td>\n",
       "      <td>0.544839</td>\n",
       "      <td>0.752942</td>\n",
       "      <td>2.524951</td>\n",
       "      <td>0.919540</td>\n",
       "      <td>0.810127</td>\n",
       "      <td>6.648506</td>\n",
       "    </tr>\n",
       "  </tbody>\n",
       "</table>\n",
       "</div>"
      ],
      "text/plain": [
       "       overall_acc          dp         eop  average_odds_difference  \\\n",
       "count   510.000000  510.000000  510.000000               510.000000   \n",
       "mean      0.790728    0.043340   -0.190372                 0.383101   \n",
       "std       0.039763    0.166814    0.344989                 0.320623   \n",
       "min       0.583231   -0.485795   -0.749562                 0.030370   \n",
       "25%       0.766316   -0.065977   -0.508257                 0.104064   \n",
       "50%       0.792230   -0.013443   -0.300710                 0.372959   \n",
       "75%       0.829853    0.172185    0.079588                 0.450585   \n",
       "max       0.844134    0.544839    0.752942                 2.524951   \n",
       "\n",
       "        grp_0_acc   grp_1_acc  epoch_loss  \n",
       "count  510.000000  510.000000  510.000000  \n",
       "mean     0.889768    0.743983    0.756673  \n",
       "std      0.049945    0.045732    0.497900  \n",
       "min      0.458812    0.641953    0.430006  \n",
       "25%      0.894157    0.702306    0.521778  \n",
       "50%      0.907088    0.741524    0.599918  \n",
       "75%      0.911877    0.792948    0.765636  \n",
       "max      0.919540    0.810127    6.648506  "
      ]
     },
     "execution_count": 9,
     "metadata": {},
     "output_type": "execute_result"
    }
   ],
   "source": [
    "val_res.describe()"
   ]
  },
  {
   "cell_type": "code",
   "execution_count": 37,
   "metadata": {},
   "outputs": [
    {
     "data": {
      "text/html": [
       "<div>\n",
       "<style scoped>\n",
       "    .dataframe tbody tr th:only-of-type {\n",
       "        vertical-align: middle;\n",
       "    }\n",
       "\n",
       "    .dataframe tbody tr th {\n",
       "        vertical-align: top;\n",
       "    }\n",
       "\n",
       "    .dataframe thead th {\n",
       "        text-align: right;\n",
       "    }\n",
       "</style>\n",
       "<table border=\"1\" class=\"dataframe\">\n",
       "  <thead>\n",
       "    <tr style=\"text-align: right;\">\n",
       "      <th></th>\n",
       "      <th>overall_acc</th>\n",
       "      <th>dp</th>\n",
       "      <th>eop</th>\n",
       "      <th>average_odds_difference</th>\n",
       "      <th>grp_0_acc</th>\n",
       "      <th>grp_1_acc</th>\n",
       "      <th>epoch_loss</th>\n",
       "    </tr>\n",
       "  </thead>\n",
       "  <tbody>\n",
       "    <tr>\n",
       "      <th>42</th>\n",
       "      <td>0.8211</td>\n",
       "      <td>0.099387</td>\n",
       "      <td>-0.019412</td>\n",
       "      <td>0.070114</td>\n",
       "      <td>0.908525</td>\n",
       "      <td>0.779837</td>\n",
       "      <td>1.236583</td>\n",
       "    </tr>\n",
       "  </tbody>\n",
       "</table>\n",
       "</div>"
      ],
      "text/plain": [
       "    overall_acc        dp       eop  average_odds_difference  grp_0_acc  \\\n",
       "42       0.8211  0.099387 -0.019412                 0.070114   0.908525   \n",
       "\n",
       "    grp_1_acc  epoch_loss  \n",
       "42   0.779837    1.236583  "
      ]
     },
     "execution_count": 37,
     "metadata": {},
     "output_type": "execute_result"
    }
   ],
   "source": [
    "val_res[(abs(val_res['dp'])< 0.1) & (abs(val_res['eop']) < 0.1) & (abs(val_res['average_odds_difference']) < 0.1)]"
   ]
  },
  {
   "cell_type": "code",
   "execution_count": 10,
   "metadata": {},
   "outputs": [],
   "source": [
    "new_df = pd.concat([res[['dp', 'eop', 'average_odds_difference', 'epoch_loss']], val_res[['dp', 'eop', 'average_odds_difference', 'epoch_loss']]], axis=1)"
   ]
  },
  {
   "cell_type": "code",
   "execution_count": 11,
   "metadata": {},
   "outputs": [],
   "source": [
    "new_df.columns = ['dp', 'eop', 'aod', 'epoch_loss', 'vdp', 'veop', 'vaod', 'vepoch_loss']"
   ]
  },
  {
   "cell_type": "code",
   "execution_count": 12,
   "metadata": {},
   "outputs": [
    {
     "data": {
      "text/plain": [
       "<AxesSubplot:>"
      ]
     },
     "execution_count": 12,
     "metadata": {},
     "output_type": "execute_result"
    },
    {
     "data": {
      "image/png": "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\n",
      "text/plain": [
       "<Figure size 640x480 with 1 Axes>"
      ]
     },
     "metadata": {},
     "output_type": "display_data"
    }
   ],
   "source": [
    "new_df.iloc[100:400,:].plot(legend=False)"
   ]
  },
  {
   "cell_type": "code",
   "execution_count": 21,
   "metadata": {},
   "outputs": [],
   "source": [
    "from utils import EarlyStopping"
   ]
  },
  {
   "cell_type": "code",
   "execution_count": 13,
   "metadata": {},
   "outputs": [],
   "source": [
    "import pandas as pd\n",
    "res_no_debias = pd.DataFrame(train_info_no_debias)\n",
    "epoch_loss_list = loss_list_no_debias[::]\n",
    "res_no_debias['epoch_loss'] = epoch_loss_list\n",
    "res_no_debias.to_csv('train_info_no_debias.csv')"
   ]
  },
  {
   "cell_type": "code",
   "execution_count": 14,
   "metadata": {},
   "outputs": [
    {
     "data": {
      "text/html": [
       "<div>\n",
       "<style scoped>\n",
       "    .dataframe tbody tr th:only-of-type {\n",
       "        vertical-align: middle;\n",
       "    }\n",
       "\n",
       "    .dataframe tbody tr th {\n",
       "        vertical-align: top;\n",
       "    }\n",
       "\n",
       "    .dataframe thead th {\n",
       "        text-align: right;\n",
       "    }\n",
       "</style>\n",
       "<table border=\"1\" class=\"dataframe\">\n",
       "  <thead>\n",
       "    <tr style=\"text-align: right;\">\n",
       "      <th></th>\n",
       "      <th>overall_acc</th>\n",
       "      <th>dp</th>\n",
       "      <th>eop</th>\n",
       "      <th>average_odds_difference</th>\n",
       "      <th>grp_0_acc</th>\n",
       "      <th>grp_1_acc</th>\n",
       "      <th>epoch_loss</th>\n",
       "    </tr>\n",
       "  </thead>\n",
       "  <tbody>\n",
       "    <tr>\n",
       "      <th>count</th>\n",
       "      <td>510.000000</td>\n",
       "      <td>510.000000</td>\n",
       "      <td>510.000000</td>\n",
       "      <td>510.000000</td>\n",
       "      <td>510.000000</td>\n",
       "      <td>510.000000</td>\n",
       "      <td>510.000000</td>\n",
       "    </tr>\n",
       "    <tr>\n",
       "      <th>mean</th>\n",
       "      <td>0.892458</td>\n",
       "      <td>0.171787</td>\n",
       "      <td>-0.008434</td>\n",
       "      <td>0.028393</td>\n",
       "      <td>0.953840</td>\n",
       "      <td>0.862934</td>\n",
       "      <td>0.806908</td>\n",
       "    </tr>\n",
       "    <tr>\n",
       "      <th>std</th>\n",
       "      <td>0.019873</td>\n",
       "      <td>0.016752</td>\n",
       "      <td>0.039983</td>\n",
       "      <td>0.023408</td>\n",
       "      <td>0.013704</td>\n",
       "      <td>0.023067</td>\n",
       "      <td>1.096528</td>\n",
       "    </tr>\n",
       "    <tr>\n",
       "      <th>min</th>\n",
       "      <td>0.748743</td>\n",
       "      <td>0.093339</td>\n",
       "      <td>-0.078049</td>\n",
       "      <td>0.002397</td>\n",
       "      <td>0.806619</td>\n",
       "      <td>0.720905</td>\n",
       "      <td>0.195237</td>\n",
       "    </tr>\n",
       "    <tr>\n",
       "      <th>25%</th>\n",
       "      <td>0.883009</td>\n",
       "      <td>0.167353</td>\n",
       "      <td>-0.027072</td>\n",
       "      <td>0.021525</td>\n",
       "      <td>0.949527</td>\n",
       "      <td>0.851129</td>\n",
       "      <td>0.286974</td>\n",
       "    </tr>\n",
       "    <tr>\n",
       "      <th>50%</th>\n",
       "      <td>0.901109</td>\n",
       "      <td>0.176258</td>\n",
       "      <td>-0.017891</td>\n",
       "      <td>0.025068</td>\n",
       "      <td>0.959102</td>\n",
       "      <td>0.873216</td>\n",
       "      <td>0.336757</td>\n",
       "    </tr>\n",
       "    <tr>\n",
       "      <th>75%</th>\n",
       "      <td>0.906551</td>\n",
       "      <td>0.180853</td>\n",
       "      <td>-0.000845</td>\n",
       "      <td>0.028236</td>\n",
       "      <td>0.962264</td>\n",
       "      <td>0.879854</td>\n",
       "      <td>0.705450</td>\n",
       "    </tr>\n",
       "    <tr>\n",
       "      <th>max</th>\n",
       "      <td>0.911129</td>\n",
       "      <td>0.236918</td>\n",
       "      <td>0.393902</td>\n",
       "      <td>0.410845</td>\n",
       "      <td>0.965012</td>\n",
       "      <td>0.885667</td>\n",
       "      <td>11.095547</td>\n",
       "    </tr>\n",
       "  </tbody>\n",
       "</table>\n",
       "</div>"
      ],
      "text/plain": [
       "       overall_acc          dp         eop  average_odds_difference  \\\n",
       "count   510.000000  510.000000  510.000000               510.000000   \n",
       "mean      0.892458    0.171787   -0.008434                 0.028393   \n",
       "std       0.019873    0.016752    0.039983                 0.023408   \n",
       "min       0.748743    0.093339   -0.078049                 0.002397   \n",
       "25%       0.883009    0.167353   -0.027072                 0.021525   \n",
       "50%       0.901109    0.176258   -0.017891                 0.025068   \n",
       "75%       0.906551    0.180853   -0.000845                 0.028236   \n",
       "max       0.911129    0.236918    0.393902                 0.410845   \n",
       "\n",
       "        grp_0_acc   grp_1_acc  epoch_loss  \n",
       "count  510.000000  510.000000  510.000000  \n",
       "mean     0.953840    0.862934    0.806908  \n",
       "std      0.013704    0.023067    1.096528  \n",
       "min      0.806619    0.720905    0.195237  \n",
       "25%      0.949527    0.851129    0.286974  \n",
       "50%      0.959102    0.873216    0.336757  \n",
       "75%      0.962264    0.879854    0.705450  \n",
       "max      0.965012    0.885667   11.095547  "
      ]
     },
     "execution_count": 14,
     "metadata": {},
     "output_type": "execute_result"
    }
   ],
   "source": [
    "res_no_debias.describe()"
   ]
  },
  {
   "cell_type": "code",
   "execution_count": 15,
   "metadata": {},
   "outputs": [
    {
     "data": {
      "text/html": [
       "<div>\n",
       "<style scoped>\n",
       "    .dataframe tbody tr th:only-of-type {\n",
       "        vertical-align: middle;\n",
       "    }\n",
       "\n",
       "    .dataframe tbody tr th {\n",
       "        vertical-align: top;\n",
       "    }\n",
       "\n",
       "    .dataframe thead th {\n",
       "        text-align: right;\n",
       "    }\n",
       "</style>\n",
       "<table border=\"1\" class=\"dataframe\">\n",
       "  <thead>\n",
       "    <tr style=\"text-align: right;\">\n",
       "      <th></th>\n",
       "      <th>overall_acc</th>\n",
       "      <th>dp</th>\n",
       "      <th>eop</th>\n",
       "      <th>average_odds_difference</th>\n",
       "      <th>grp_0_acc</th>\n",
       "      <th>grp_1_acc</th>\n",
       "      <th>epoch_loss</th>\n",
       "    </tr>\n",
       "  </thead>\n",
       "  <tbody>\n",
       "    <tr>\n",
       "      <th>40</th>\n",
       "      <td>0.840493</td>\n",
       "      <td>0.093339</td>\n",
       "      <td>-0.051243</td>\n",
       "      <td>0.046596</td>\n",
       "      <td>0.928251</td>\n",
       "      <td>0.798283</td>\n",
       "      <td>2.55971</td>\n",
       "    </tr>\n",
       "  </tbody>\n",
       "</table>\n",
       "</div>"
      ],
      "text/plain": [
       "    overall_acc        dp       eop  average_odds_difference  grp_0_acc  \\\n",
       "40     0.840493  0.093339 -0.051243                 0.046596   0.928251   \n",
       "\n",
       "    grp_1_acc  epoch_loss  \n",
       "40   0.798283     2.55971  "
      ]
     },
     "execution_count": 15,
     "metadata": {},
     "output_type": "execute_result"
    }
   ],
   "source": [
    "res_no_debias[(abs(res_no_debias['dp'])< 0.1) & (abs(res_no_debias['eop']) < 0.2) & (abs(res_no_debias['average_odds_difference']) < 0.2)]"
   ]
  },
  {
   "cell_type": "code",
   "execution_count": 18,
   "metadata": {},
   "outputs": [
    {
     "data": {
      "text/plain": [
       "<AxesSubplot:>"
      ]
     },
     "execution_count": 18,
     "metadata": {},
     "output_type": "execute_result"
    },
    {
     "data": {
      "image/png": "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\n",
      "text/plain": [
       "<Figure size 640x480 with 1 Axes>"
      ]
     },
     "metadata": {},
     "output_type": "display_data"
    }
   ],
   "source": [
    "val_res_no_debias = pd.DataFrame(val_info_no_debias)\n",
    "epoch_loss_list_val = val_list_no_debias[::]\n",
    "val_res_no_debias['epoch_loss'] = epoch_loss_list_val\n",
    "val_res.to_csv('val_info_no_debias.csv')\n",
    "val_res_no_debias[['dp', 'eop', 'average_odds_difference', 'epoch_loss']].iloc[100:, :].plot()"
   ]
  },
  {
   "cell_type": "code",
   "execution_count": 19,
   "metadata": {},
   "outputs": [
    {
     "data": {
      "text/html": [
       "<div>\n",
       "<style scoped>\n",
       "    .dataframe tbody tr th:only-of-type {\n",
       "        vertical-align: middle;\n",
       "    }\n",
       "\n",
       "    .dataframe tbody tr th {\n",
       "        vertical-align: top;\n",
       "    }\n",
       "\n",
       "    .dataframe thead th {\n",
       "        text-align: right;\n",
       "    }\n",
       "</style>\n",
       "<table border=\"1\" class=\"dataframe\">\n",
       "  <thead>\n",
       "    <tr style=\"text-align: right;\">\n",
       "      <th></th>\n",
       "      <th>overall_acc</th>\n",
       "      <th>dp</th>\n",
       "      <th>eop</th>\n",
       "      <th>average_odds_difference</th>\n",
       "      <th>grp_0_acc</th>\n",
       "      <th>grp_1_acc</th>\n",
       "      <th>epoch_loss</th>\n",
       "    </tr>\n",
       "  </thead>\n",
       "  <tbody>\n",
       "    <tr>\n",
       "      <th>count</th>\n",
       "      <td>510.000000</td>\n",
       "      <td>510.000000</td>\n",
       "      <td>510.000000</td>\n",
       "      <td>510.000000</td>\n",
       "      <td>510.000000</td>\n",
       "      <td>510.000000</td>\n",
       "      <td>510.000000</td>\n",
       "    </tr>\n",
       "    <tr>\n",
       "      <th>mean</th>\n",
       "      <td>0.835197</td>\n",
       "      <td>0.180475</td>\n",
       "      <td>0.077992</td>\n",
       "      <td>0.067549</td>\n",
       "      <td>0.911845</td>\n",
       "      <td>0.799021</td>\n",
       "      <td>0.631714</td>\n",
       "    </tr>\n",
       "    <tr>\n",
       "      <th>std</th>\n",
       "      <td>0.007334</td>\n",
       "      <td>0.017008</td>\n",
       "      <td>0.033451</td>\n",
       "      <td>0.021166</td>\n",
       "      <td>0.005932</td>\n",
       "      <td>0.008469</td>\n",
       "      <td>0.517292</td>\n",
       "    </tr>\n",
       "    <tr>\n",
       "      <th>min</th>\n",
       "      <td>0.743090</td>\n",
       "      <td>0.101460</td>\n",
       "      <td>-0.021817</td>\n",
       "      <td>0.040543</td>\n",
       "      <td>0.809866</td>\n",
       "      <td>0.711573</td>\n",
       "      <td>0.387142</td>\n",
       "    </tr>\n",
       "    <tr>\n",
       "      <th>25%</th>\n",
       "      <td>0.833999</td>\n",
       "      <td>0.175881</td>\n",
       "      <td>0.064947</td>\n",
       "      <td>0.060132</td>\n",
       "      <td>0.911398</td>\n",
       "      <td>0.797242</td>\n",
       "      <td>0.391945</td>\n",
       "    </tr>\n",
       "    <tr>\n",
       "      <th>50%</th>\n",
       "      <td>0.837300</td>\n",
       "      <td>0.183707</td>\n",
       "      <td>0.077847</td>\n",
       "      <td>0.067222</td>\n",
       "      <td>0.912356</td>\n",
       "      <td>0.801537</td>\n",
       "      <td>0.418724</td>\n",
       "    </tr>\n",
       "    <tr>\n",
       "      <th>75%</th>\n",
       "      <td>0.838874</td>\n",
       "      <td>0.188649</td>\n",
       "      <td>0.090747</td>\n",
       "      <td>0.071981</td>\n",
       "      <td>0.913793</td>\n",
       "      <td>0.803797</td>\n",
       "      <td>0.627771</td>\n",
       "    </tr>\n",
       "    <tr>\n",
       "      <th>max</th>\n",
       "      <td>0.844287</td>\n",
       "      <td>0.259828</td>\n",
       "      <td>0.418073</td>\n",
       "      <td>0.369683</td>\n",
       "      <td>0.919061</td>\n",
       "      <td>0.809901</td>\n",
       "      <td>6.446000</td>\n",
       "    </tr>\n",
       "  </tbody>\n",
       "</table>\n",
       "</div>"
      ],
      "text/plain": [
       "       overall_acc          dp         eop  average_odds_difference  \\\n",
       "count   510.000000  510.000000  510.000000               510.000000   \n",
       "mean      0.835197    0.180475    0.077992                 0.067549   \n",
       "std       0.007334    0.017008    0.033451                 0.021166   \n",
       "min       0.743090    0.101460   -0.021817                 0.040543   \n",
       "25%       0.833999    0.175881    0.064947                 0.060132   \n",
       "50%       0.837300    0.183707    0.077847                 0.067222   \n",
       "75%       0.838874    0.188649    0.090747                 0.071981   \n",
       "max       0.844287    0.259828    0.418073                 0.369683   \n",
       "\n",
       "        grp_0_acc   grp_1_acc  epoch_loss  \n",
       "count  510.000000  510.000000  510.000000  \n",
       "mean     0.911845    0.799021    0.631714  \n",
       "std      0.005932    0.008469    0.517292  \n",
       "min      0.809866    0.711573    0.387142  \n",
       "25%      0.911398    0.797242    0.391945  \n",
       "50%      0.912356    0.801537    0.418724  \n",
       "75%      0.913793    0.803797    0.627771  \n",
       "max      0.919061    0.809901    6.446000  "
      ]
     },
     "execution_count": 19,
     "metadata": {},
     "output_type": "execute_result"
    }
   ],
   "source": [
    "val_res_no_debias.describe()"
   ]
  },
  {
   "cell_type": "code",
   "execution_count": 23,
   "metadata": {},
   "outputs": [
    {
     "name": "stdout",
     "output_type": "stream",
     "text": [
      "EarlyStopping counter: 1 out of 100\n",
      "EarlyStopping counter: 1 out of 100\n",
      "EarlyStopping counter: 1 out of 100\n",
      "EarlyStopping counter: 2 out of 100\n",
      "EarlyStopping counter: 1 out of 100\n",
      "EarlyStopping counter: 2 out of 100\n",
      "EarlyStopping counter: 1 out of 100\n",
      "EarlyStopping counter: 2 out of 100\n",
      "EarlyStopping counter: 3 out of 100\n",
      "EarlyStopping counter: 4 out of 100\n",
      "EarlyStopping counter: 5 out of 100\n",
      "EarlyStopping counter: 6 out of 100\n",
      "EarlyStopping counter: 7 out of 100\n",
      "EarlyStopping counter: 8 out of 100\n",
      "EarlyStopping counter: 1 out of 100\n",
      "EarlyStopping counter: 2 out of 100\n",
      "EarlyStopping counter: 3 out of 100\n",
      "EarlyStopping counter: 4 out of 100\n",
      "EarlyStopping counter: 5 out of 100\n",
      "EarlyStopping counter: 1 out of 100\n",
      "EarlyStopping counter: 2 out of 100\n",
      "EarlyStopping counter: 1 out of 100\n",
      "EarlyStopping counter: 2 out of 100\n",
      "EarlyStopping counter: 3 out of 100\n",
      "EarlyStopping counter: 4 out of 100\n",
      "EarlyStopping counter: 5 out of 100\n",
      "EarlyStopping counter: 6 out of 100\n",
      "EarlyStopping counter: 7 out of 100\n",
      "EarlyStopping counter: 8 out of 100\n",
      "EarlyStopping counter: 9 out of 100\n",
      "EarlyStopping counter: 10 out of 100\n",
      "EarlyStopping counter: 11 out of 100\n",
      "EarlyStopping counter: 12 out of 100\n",
      "EarlyStopping counter: 13 out of 100\n",
      "EarlyStopping counter: 14 out of 100\n",
      "EarlyStopping counter: 15 out of 100\n",
      "EarlyStopping counter: 16 out of 100\n",
      "EarlyStopping counter: 17 out of 100\n",
      "EarlyStopping counter: 1 out of 100\n",
      "EarlyStopping counter: 2 out of 100\n",
      "EarlyStopping counter: 3 out of 100\n",
      "EarlyStopping counter: 4 out of 100\n",
      "EarlyStopping counter: 5 out of 100\n",
      "EarlyStopping counter: 6 out of 100\n",
      "EarlyStopping counter: 7 out of 100\n",
      "EarlyStopping counter: 8 out of 100\n",
      "EarlyStopping counter: 9 out of 100\n",
      "EarlyStopping counter: 10 out of 100\n",
      "EarlyStopping counter: 11 out of 100\n",
      "EarlyStopping counter: 12 out of 100\n",
      "EarlyStopping counter: 13 out of 100\n",
      "EarlyStopping counter: 14 out of 100\n",
      "EarlyStopping counter: 15 out of 100\n",
      "EarlyStopping counter: 16 out of 100\n",
      "EarlyStopping counter: 17 out of 100\n",
      "EarlyStopping counter: 18 out of 100\n",
      "EarlyStopping counter: 19 out of 100\n",
      "EarlyStopping counter: 20 out of 100\n",
      "EarlyStopping counter: 21 out of 100\n",
      "EarlyStopping counter: 22 out of 100\n",
      "EarlyStopping counter: 23 out of 100\n",
      "EarlyStopping counter: 24 out of 100\n",
      "EarlyStopping counter: 25 out of 100\n",
      "EarlyStopping counter: 26 out of 100\n",
      "EarlyStopping counter: 27 out of 100\n",
      "EarlyStopping counter: 28 out of 100\n",
      "EarlyStopping counter: 29 out of 100\n",
      "EarlyStopping counter: 30 out of 100\n",
      "EarlyStopping counter: 31 out of 100\n",
      "EarlyStopping counter: 32 out of 100\n",
      "EarlyStopping counter: 33 out of 100\n",
      "EarlyStopping counter: 34 out of 100\n",
      "EarlyStopping counter: 35 out of 100\n",
      "EarlyStopping counter: 36 out of 100\n",
      "EarlyStopping counter: 37 out of 100\n",
      "EarlyStopping counter: 38 out of 100\n",
      "EarlyStopping counter: 39 out of 100\n",
      "EarlyStopping counter: 40 out of 100\n",
      "EarlyStopping counter: 41 out of 100\n",
      "EarlyStopping counter: 42 out of 100\n",
      "EarlyStopping counter: 43 out of 100\n",
      "EarlyStopping counter: 44 out of 100\n",
      "EarlyStopping counter: 45 out of 100\n",
      "EarlyStopping counter: 46 out of 100\n",
      "EarlyStopping counter: 47 out of 100\n",
      "EarlyStopping counter: 48 out of 100\n",
      "EarlyStopping counter: 49 out of 100\n",
      "EarlyStopping counter: 50 out of 100\n",
      "EarlyStopping counter: 1 out of 100\n",
      "EarlyStopping counter: 2 out of 100\n",
      "EarlyStopping counter: 3 out of 100\n",
      "EarlyStopping counter: 4 out of 100\n",
      "EarlyStopping counter: 5 out of 100\n",
      "EarlyStopping counter: 6 out of 100\n",
      "EarlyStopping counter: 7 out of 100\n",
      "EarlyStopping counter: 8 out of 100\n",
      "EarlyStopping counter: 9 out of 100\n",
      "EarlyStopping counter: 10 out of 100\n",
      "EarlyStopping counter: 11 out of 100\n",
      "EarlyStopping counter: 12 out of 100\n",
      "EarlyStopping counter: 13 out of 100\n",
      "EarlyStopping counter: 14 out of 100\n",
      "EarlyStopping counter: 15 out of 100\n",
      "EarlyStopping counter: 16 out of 100\n",
      "EarlyStopping counter: 17 out of 100\n",
      "EarlyStopping counter: 18 out of 100\n",
      "EarlyStopping counter: 19 out of 100\n",
      "EarlyStopping counter: 20 out of 100\n",
      "EarlyStopping counter: 21 out of 100\n",
      "EarlyStopping counter: 22 out of 100\n",
      "EarlyStopping counter: 23 out of 100\n",
      "EarlyStopping counter: 24 out of 100\n",
      "EarlyStopping counter: 25 out of 100\n",
      "EarlyStopping counter: 26 out of 100\n",
      "EarlyStopping counter: 27 out of 100\n",
      "EarlyStopping counter: 28 out of 100\n",
      "EarlyStopping counter: 29 out of 100\n",
      "EarlyStopping counter: 30 out of 100\n",
      "EarlyStopping counter: 31 out of 100\n",
      "EarlyStopping counter: 32 out of 100\n",
      "EarlyStopping counter: 33 out of 100\n",
      "EarlyStopping counter: 34 out of 100\n",
      "EarlyStopping counter: 35 out of 100\n",
      "EarlyStopping counter: 36 out of 100\n",
      "EarlyStopping counter: 37 out of 100\n",
      "EarlyStopping counter: 38 out of 100\n",
      "EarlyStopping counter: 39 out of 100\n",
      "EarlyStopping counter: 40 out of 100\n",
      "EarlyStopping counter: 41 out of 100\n",
      "EarlyStopping counter: 42 out of 100\n",
      "EarlyStopping counter: 43 out of 100\n",
      "EarlyStopping counter: 44 out of 100\n",
      "EarlyStopping counter: 45 out of 100\n",
      "EarlyStopping counter: 46 out of 100\n",
      "EarlyStopping counter: 47 out of 100\n",
      "EarlyStopping counter: 48 out of 100\n",
      "EarlyStopping counter: 49 out of 100\n",
      "EarlyStopping counter: 50 out of 100\n",
      "EarlyStopping counter: 51 out of 100\n",
      "EarlyStopping counter: 52 out of 100\n",
      "EarlyStopping counter: 53 out of 100\n",
      "EarlyStopping counter: 54 out of 100\n",
      "EarlyStopping counter: 55 out of 100\n",
      "EarlyStopping counter: 56 out of 100\n",
      "EarlyStopping counter: 57 out of 100\n",
      "EarlyStopping counter: 58 out of 100\n",
      "EarlyStopping counter: 59 out of 100\n",
      "EarlyStopping counter: 60 out of 100\n",
      "EarlyStopping counter: 61 out of 100\n",
      "EarlyStopping counter: 62 out of 100\n",
      "EarlyStopping counter: 63 out of 100\n",
      "EarlyStopping counter: 64 out of 100\n",
      "EarlyStopping counter: 65 out of 100\n",
      "EarlyStopping counter: 66 out of 100\n",
      "EarlyStopping counter: 67 out of 100\n",
      "EarlyStopping counter: 68 out of 100\n",
      "EarlyStopping counter: 69 out of 100\n",
      "EarlyStopping counter: 70 out of 100\n",
      "EarlyStopping counter: 71 out of 100\n",
      "EarlyStopping counter: 72 out of 100\n",
      "EarlyStopping counter: 73 out of 100\n",
      "EarlyStopping counter: 74 out of 100\n",
      "EarlyStopping counter: 75 out of 100\n",
      "EarlyStopping counter: 76 out of 100\n",
      "EarlyStopping counter: 77 out of 100\n",
      "EarlyStopping counter: 78 out of 100\n",
      "EarlyStopping counter: 79 out of 100\n",
      "EarlyStopping counter: 80 out of 100\n",
      "EarlyStopping counter: 81 out of 100\n",
      "EarlyStopping counter: 82 out of 100\n",
      "EarlyStopping counter: 83 out of 100\n",
      "EarlyStopping counter: 84 out of 100\n",
      "EarlyStopping counter: 85 out of 100\n",
      "EarlyStopping counter: 86 out of 100\n",
      "EarlyStopping counter: 87 out of 100\n",
      "EarlyStopping counter: 88 out of 100\n",
      "EarlyStopping counter: 89 out of 100\n",
      "EarlyStopping counter: 90 out of 100\n",
      "EarlyStopping counter: 91 out of 100\n",
      "EarlyStopping counter: 92 out of 100\n",
      "EarlyStopping counter: 93 out of 100\n",
      "EarlyStopping counter: 94 out of 100\n",
      "EarlyStopping counter: 95 out of 100\n",
      "EarlyStopping counter: 96 out of 100\n",
      "EarlyStopping counter: 97 out of 100\n",
      "EarlyStopping counter: 98 out of 100\n",
      "EarlyStopping counter: 99 out of 100\n",
      "EarlyStopping counter: 100 out of 100\n",
      "201\n"
     ]
    }
   ],
   "source": [
    "es = EarlyStopping(patience=100)\n",
    "for i, _ in enumerate(res['dp']):\n",
    "    es(res['epoch_loss'][i])\n",
    "    \n",
    "    if  es.early_stop:\n",
    "        print(i)\n",
    "        break"
   ]
  },
  {
   "cell_type": "code",
   "execution_count": 24,
   "metadata": {},
   "outputs": [
    {
     "data": {
      "text/plain": [
       "overall_acc                0.826474\n",
       "dp                         0.174106\n",
       "eop                        0.059351\n",
       "average_odds_difference    0.050964\n",
       "grp_0_acc                  0.910920\n",
       "grp_1_acc                  0.786618\n",
       "epoch_loss                 0.454220\n",
       "Name: 201, dtype: float64"
      ]
     },
     "execution_count": 24,
     "metadata": {},
     "output_type": "execute_result"
    }
   ],
   "source": [
    "val_res_no_debias.iloc[201,:]"
   ]
  },
  {
   "cell_type": "code",
   "execution_count": 27,
   "metadata": {},
   "outputs": [
    {
     "data": {
      "text/plain": [
       "overall_acc                0.753532\n",
       "dp                        -0.014557\n",
       "eop                       -0.149904\n",
       "average_odds_difference    0.149265\n",
       "grp_0_acc                  0.887931\n",
       "grp_1_acc                  0.690099\n",
       "epoch_loss                 0.706302\n",
       "Name: 292, dtype: float64"
      ]
     },
     "execution_count": 27,
     "metadata": {},
     "output_type": "execute_result"
    }
   ],
   "source": [
    "val_res.iloc[292,:]"
   ]
  },
  {
   "cell_type": "code",
   "execution_count": null,
   "metadata": {},
   "outputs": [],
   "source": []
  }
 ],
 "metadata": {
  "kernelspec": {
   "display_name": "Python 3 (ipykernel)",
   "language": "python",
   "name": "python3"
  },
  "language_info": {
   "codemirror_mode": {
    "name": "ipython",
    "version": 3
   },
   "file_extension": ".py",
   "mimetype": "text/x-python",
   "name": "python",
   "nbconvert_exporter": "python",
   "pygments_lexer": "ipython3",
   "version": "3.7.4"
  }
 },
 "nbformat": 4,
 "nbformat_minor": 1
}
