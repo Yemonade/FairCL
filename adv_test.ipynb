{
 "cells": [
  {
   "cell_type": "code",
   "execution_count": 71,
   "metadata": {},
   "outputs": [],
   "source": [
    "import warnings\n",
    "warnings.filterwarnings(\"ignore\", category=FutureWarning)\n",
    "\n",
    "import sys\n",
    "sys.path.append('D:\\\\Compute Science\\\\Machine Learning\\\\论文\\\\项目\\\\FairSPL\\\\venv_torch')\n",
    "sys.path.append('D:\\\\Compute Science\\\\Machine Learning\\\\论文\\\\项目\\\\FairSPL\\\\venv_torch\\\\lib\\\\site-packages')"
   ]
  },
  {
   "cell_type": "code",
   "execution_count": 64,
   "metadata": {
    "pycharm": {
     "is_executing": true
    }
   },
   "outputs": [],
   "source": [
    "import json\n",
    "\n",
    "import numpy as np\n",
    "import matplotlib.pyplot as plt\n",
    "import torch\n",
    "\n",
    "from dataset import fetch_data\n",
    "from models.AdversarialDebiasing import AdversarialDebiasing\n",
    "from eval import Evaluator\n",
    "from utils import get_curriculum_stages"
   ]
  },
  {
   "cell_type": "code",
   "execution_count": 3,
   "metadata": {},
   "outputs": [
    {
     "name": "stdout",
     "output_type": "stream",
     "text": [
      "Loading Adult dataset..\n",
      "train_val_df.shape:  (32561, 15)\n",
      "test_df.shape:  (12661, 15)\n"
     ]
    },
    {
     "name": "stderr",
     "output_type": "stream",
     "text": [
      "E:\\Environment\\python\\python3.7.4\\lib\\site-packages\\pandas\\core\\frame.py:4913: SettingWithCopyWarning: \n",
      "A value is trying to be set on a copy of a slice from a DataFrame\n",
      "\n",
      "See the caveats in the documentation: https://pandas.pydata.org/pandas-docs/stable/user_guide/indexing.html#returning-a-view-versus-a-copy\n",
      "  errors=errors,\n"
     ]
    },
    {
     "name": "stdout",
     "output_type": "stream",
     "text": [
      "Dataset statistic - #total: 45222; #train: 26049; #val.: 6512; #test: 12661; #dim.: 102\n",
      "\n",
      "data.x_train.shape:  (26049, 102)\n",
      "data.x_test.shape:  (12661, 102)\n",
      "========== before train ==========\n",
      "========== Results on origin ==========\n",
      "Grp. 0 - #instance: 8460; #pos : 954\n",
      "Grp. 1 - #instance: 17589; #pos : 5496\n",
      "Demographic parity: 0.199702; Equal opportunity: 0.000000; Average odds difference: 0.000000\n",
      "\n",
      "========== Starting Training without Mitigation... ==========\n"
     ]
    },
    {
     "name": "stderr",
     "output_type": "stream",
     "text": [
      "Classifier Training Epoch:   1%|\u001b[32m▏         \u001b[0m| 7/500 [00:12<13:46,  1.68s/it, acc=0.805, loss=3.94]"
     ]
    },
    {
     "name": "stdout",
     "output_type": "stream",
     "text": [
      "EarlyStopping counter: 1 out of 100\n"
     ]
    },
    {
     "name": "stderr",
     "output_type": "stream",
     "text": [
      "Classifier Training Epoch:   3%|\u001b[32m▎         \u001b[0m| 14/500 [00:26<18:22,  2.27s/it, acc=0.805, loss=4.02]"
     ]
    },
    {
     "name": "stdout",
     "output_type": "stream",
     "text": [
      "EarlyStopping counter: 1 out of 100\n"
     ]
    },
    {
     "name": "stderr",
     "output_type": "stream",
     "text": [
      "Classifier Training Epoch:   4%|\u001b[32m▎         \u001b[0m| 18/500 [00:34<16:21,  2.04s/it, acc=0.824, loss=3.2] "
     ]
    },
    {
     "name": "stdout",
     "output_type": "stream",
     "text": [
      "EarlyStopping counter: 1 out of 100\n"
     ]
    },
    {
     "name": "stderr",
     "output_type": "stream",
     "text": [
      "Classifier Training Epoch:   4%|\u001b[32m▍         \u001b[0m| 20/500 [00:38<16:14,  2.03s/it, acc=0.799, loss=3.22] "
     ]
    },
    {
     "name": "stdout",
     "output_type": "stream",
     "text": [
      "EarlyStopping counter: 1 out of 100\n"
     ]
    },
    {
     "name": "stderr",
     "output_type": "stream",
     "text": [
      "Classifier Training Epoch:   4%|\u001b[32m▍         \u001b[0m| 22/500 [00:42<16:42,  2.10s/it, acc=0.771, loss=3.26]"
     ]
    },
    {
     "name": "stdout",
     "output_type": "stream",
     "text": [
      "EarlyStopping counter: 1 out of 100\n"
     ]
    },
    {
     "name": "stderr",
     "output_type": "stream",
     "text": [
      "Classifier Training Epoch:   5%|\u001b[32m▍         \u001b[0m| 24/500 [00:46<15:49,  1.99s/it, acc=0.832, loss=2.68] "
     ]
    },
    {
     "name": "stdout",
     "output_type": "stream",
     "text": [
      "EarlyStopping counter: 1 out of 100\n"
     ]
    },
    {
     "name": "stderr",
     "output_type": "stream",
     "text": [
      "Classifier Training Epoch:   5%|\u001b[32m▌         \u001b[0m| 26/500 [00:50<15:33,  1.97s/it, acc=0.768, loss=2.85] "
     ]
    },
    {
     "name": "stdout",
     "output_type": "stream",
     "text": [
      "EarlyStopping counter: 1 out of 100\n"
     ]
    },
    {
     "name": "stderr",
     "output_type": "stream",
     "text": [
      "Classifier Training Epoch:   6%|\u001b[32m▌         \u001b[0m| 29/500 [00:55<13:20,  1.70s/it, acc=0.803, loss=2.87] "
     ]
    },
    {
     "name": "stdout",
     "output_type": "stream",
     "text": [
      "EarlyStopping counter: 1 out of 100\n"
     ]
    },
    {
     "name": "stderr",
     "output_type": "stream",
     "text": [
      "Classifier Training Epoch:   7%|\u001b[32m▋         \u001b[0m| 33/500 [01:01<12:48,  1.65s/it, acc=0.777, loss=2.63] "
     ]
    },
    {
     "name": "stdout",
     "output_type": "stream",
     "text": [
      "EarlyStopping counter: 1 out of 100\n"
     ]
    },
    {
     "name": "stderr",
     "output_type": "stream",
     "text": [
      "Classifier Training Epoch:   7%|\u001b[32m▋         \u001b[0m| 34/500 [01:03<12:41,  1.63s/it, acc=0.783, loss=2.7]  "
     ]
    },
    {
     "name": "stdout",
     "output_type": "stream",
     "text": [
      "EarlyStopping counter: 2 out of 100\n"
     ]
    },
    {
     "name": "stderr",
     "output_type": "stream",
     "text": [
      "Classifier Training Epoch:   7%|\u001b[32m▋         \u001b[0m| 37/500 [01:14<24:27,  3.17s/it, acc=0.74, loss=3.34]  "
     ]
    },
    {
     "name": "stdout",
     "output_type": "stream",
     "text": [
      "EarlyStopping counter: 1 out of 100\n"
     ]
    },
    {
     "name": "stderr",
     "output_type": "stream",
     "text": [
      "Classifier Training Epoch:   8%|\u001b[32m▊         \u001b[0m| 38/500 [01:19<30:28,  3.96s/it, acc=0.773, loss=2.7]  "
     ]
    },
    {
     "name": "stdout",
     "output_type": "stream",
     "text": [
      "EarlyStopping counter: 2 out of 100\n"
     ]
    },
    {
     "name": "stderr",
     "output_type": "stream",
     "text": [
      "Classifier Training Epoch:   8%|\u001b[32m▊         \u001b[0m| 40/500 [01:28<32:47,  4.28s/it, acc=0.787, loss=2.56] "
     ]
    },
    {
     "name": "stdout",
     "output_type": "stream",
     "text": [
      "EarlyStopping counter: 1 out of 100\n"
     ]
    },
    {
     "name": "stderr",
     "output_type": "stream",
     "text": [
      "Classifier Training Epoch:   9%|\u001b[32m▉         \u001b[0m| 45/500 [01:51<33:16,  4.39s/it, acc=0.754, loss=2.19] "
     ]
    },
    {
     "name": "stdout",
     "output_type": "stream",
     "text": [
      "EarlyStopping counter: 1 out of 100\n"
     ]
    },
    {
     "name": "stderr",
     "output_type": "stream",
     "text": [
      "Classifier Training Epoch:  10%|\u001b[32m█         \u001b[0m| 50/500 [02:15<35:34,  4.74s/it, acc=0.807, loss=2.84] "
     ]
    },
    {
     "name": "stdout",
     "output_type": "stream",
     "text": [
      "EarlyStopping counter: 1 out of 100\n"
     ]
    },
    {
     "name": "stderr",
     "output_type": "stream",
     "text": [
      "Classifier Training Epoch:  10%|\u001b[32m█         \u001b[0m| 51/500 [02:16<29:17,  3.91s/it, acc=0.824, loss=1.69]"
     ]
    },
    {
     "name": "stdout",
     "output_type": "stream",
     "text": [
      "EarlyStopping counter: 2 out of 100\n"
     ]
    },
    {
     "name": "stderr",
     "output_type": "stream",
     "text": [
      "Classifier Training Epoch:  10%|\u001b[32m█         \u001b[0m| 52/500 [02:18<23:28,  3.14s/it, acc=0.816, loss=2.35] "
     ]
    },
    {
     "name": "stdout",
     "output_type": "stream",
     "text": [
      "EarlyStopping counter: 3 out of 100\n"
     ]
    },
    {
     "name": "stderr",
     "output_type": "stream",
     "text": [
      "Classifier Training Epoch:  11%|\u001b[32m█         \u001b[0m| 53/500 [02:19<20:05,  2.70s/it, acc=0.801, loss=2.45] "
     ]
    },
    {
     "name": "stdout",
     "output_type": "stream",
     "text": [
      "EarlyStopping counter: 4 out of 100\n"
     ]
    },
    {
     "name": "stderr",
     "output_type": "stream",
     "text": [
      "Classifier Training Epoch:  11%|\u001b[32m█         \u001b[0m| 54/500 [02:21<17:46,  2.39s/it, acc=0.803, loss=2.19] "
     ]
    },
    {
     "name": "stdout",
     "output_type": "stream",
     "text": [
      "EarlyStopping counter: 5 out of 100\n"
     ]
    },
    {
     "name": "stderr",
     "output_type": "stream",
     "text": [
      "Classifier Training Epoch:  11%|\u001b[32m█         \u001b[0m| 55/500 [02:22<15:40,  2.11s/it, acc=0.844, loss=1.71] "
     ]
    },
    {
     "name": "stdout",
     "output_type": "stream",
     "text": [
      "EarlyStopping counter: 6 out of 100\n"
     ]
    },
    {
     "name": "stderr",
     "output_type": "stream",
     "text": [
      "Classifier Training Epoch:  11%|\u001b[32m█         \u001b[0m| 56/500 [02:24<14:22,  1.94s/it, acc=0.818, loss=1.62] "
     ]
    },
    {
     "name": "stdout",
     "output_type": "stream",
     "text": [
      "EarlyStopping counter: 7 out of 100\n"
     ]
    },
    {
     "name": "stderr",
     "output_type": "stream",
     "text": [
      "Classifier Training Epoch:  11%|\u001b[32m█▏        \u001b[0m| 57/500 [02:25<13:14,  1.79s/it, acc=0.797, loss=2.12] "
     ]
    },
    {
     "name": "stdout",
     "output_type": "stream",
     "text": [
      "EarlyStopping counter: 8 out of 100\n"
     ]
    },
    {
     "name": "stderr",
     "output_type": "stream",
     "text": [
      "Classifier Training Epoch:  12%|\u001b[32m█▏        \u001b[0m| 58/500 [02:27<12:15,  1.66s/it, acc=0.807, loss=1.99] "
     ]
    },
    {
     "name": "stdout",
     "output_type": "stream",
     "text": [
      "EarlyStopping counter: 9 out of 100\n"
     ]
    },
    {
     "name": "stderr",
     "output_type": "stream",
     "text": [
      "Classifier Training Epoch:  12%|\u001b[32m█▏        \u001b[0m| 59/500 [02:28<11:53,  1.62s/it, acc=0.807, loss=1.65] "
     ]
    },
    {
     "name": "stdout",
     "output_type": "stream",
     "text": [
      "EarlyStopping counter: 10 out of 100\n"
     ]
    },
    {
     "name": "stderr",
     "output_type": "stream",
     "text": [
      "Classifier Training Epoch:  12%|\u001b[32m█▏        \u001b[0m| 60/500 [02:29<11:28,  1.56s/it, acc=0.807, loss=1.89] "
     ]
    },
    {
     "name": "stdout",
     "output_type": "stream",
     "text": [
      "EarlyStopping counter: 11 out of 100\n"
     ]
    },
    {
     "name": "stderr",
     "output_type": "stream",
     "text": [
      "Classifier Training Epoch:  12%|\u001b[32m█▏        \u001b[0m| 61/500 [02:31<10:58,  1.50s/it, acc=0.818, loss=1.65] "
     ]
    },
    {
     "name": "stdout",
     "output_type": "stream",
     "text": [
      "EarlyStopping counter: 12 out of 100\n"
     ]
    },
    {
     "name": "stderr",
     "output_type": "stream",
     "text": [
      "Classifier Training Epoch:  12%|\u001b[32m█▏        \u001b[0m| 62/500 [02:32<10:46,  1.48s/it, acc=0.779, loss=2.03] "
     ]
    },
    {
     "name": "stdout",
     "output_type": "stream",
     "text": [
      "EarlyStopping counter: 13 out of 100\n"
     ]
    },
    {
     "name": "stderr",
     "output_type": "stream",
     "text": [
      "Classifier Training Epoch:  13%|\u001b[32m█▎        \u001b[0m| 63/500 [02:34<10:44,  1.47s/it, acc=0.812, loss=1.68] "
     ]
    },
    {
     "name": "stdout",
     "output_type": "stream",
     "text": [
      "EarlyStopping counter: 14 out of 100\n"
     ]
    },
    {
     "name": "stderr",
     "output_type": "stream",
     "text": [
      "Classifier Training Epoch:  13%|\u001b[32m█▎        \u001b[0m| 64/500 [02:35<10:30,  1.45s/it, acc=0.812, loss=1.59] "
     ]
    },
    {
     "name": "stdout",
     "output_type": "stream",
     "text": [
      "EarlyStopping counter: 15 out of 100\n"
     ]
    },
    {
     "name": "stderr",
     "output_type": "stream",
     "text": [
      "Classifier Training Epoch:  13%|\u001b[32m█▎        \u001b[0m| 65/500 [02:36<10:33,  1.46s/it, acc=0.822, loss=1.38] "
     ]
    },
    {
     "name": "stdout",
     "output_type": "stream",
     "text": [
      "EarlyStopping counter: 16 out of 100\n"
     ]
    },
    {
     "name": "stderr",
     "output_type": "stream",
     "text": [
      "Classifier Training Epoch:  13%|\u001b[32m█▎        \u001b[0m| 66/500 [02:38<10:36,  1.47s/it, acc=0.812, loss=1.45] "
     ]
    },
    {
     "name": "stdout",
     "output_type": "stream",
     "text": [
      "EarlyStopping counter: 17 out of 100\n"
     ]
    },
    {
     "name": "stderr",
     "output_type": "stream",
     "text": [
      "Classifier Training Epoch:  13%|\u001b[32m█▎        \u001b[0m| 67/500 [02:40<10:27,  1.45s/it, acc=0.797, loss=2.06] "
     ]
    },
    {
     "name": "stdout",
     "output_type": "stream",
     "text": [
      "EarlyStopping counter: 18 out of 100\n"
     ]
    },
    {
     "name": "stderr",
     "output_type": "stream",
     "text": [
      "Classifier Training Epoch:  14%|\u001b[32m█▎        \u001b[0m| 68/500 [02:41<10:52,  1.51s/it, acc=0.822, loss=1.25] "
     ]
    },
    {
     "name": "stdout",
     "output_type": "stream",
     "text": [
      "EarlyStopping counter: 19 out of 100\n"
     ]
    },
    {
     "name": "stderr",
     "output_type": "stream",
     "text": [
      "Classifier Training Epoch:  14%|\u001b[32m█▍        \u001b[0m| 69/500 [02:42<10:48,  1.51s/it, acc=0.801, loss=1.8]  "
     ]
    },
    {
     "name": "stdout",
     "output_type": "stream",
     "text": [
      "EarlyStopping counter: 20 out of 100\n"
     ]
    },
    {
     "name": "stderr",
     "output_type": "stream",
     "text": [
      "Classifier Training Epoch:  14%|\u001b[32m█▍        \u001b[0m| 70/500 [02:44<10:46,  1.50s/it, acc=0.805, loss=1.69] "
     ]
    },
    {
     "name": "stdout",
     "output_type": "stream",
     "text": [
      "EarlyStopping counter: 21 out of 100\n"
     ]
    },
    {
     "name": "stderr",
     "output_type": "stream",
     "text": [
      "Classifier Training Epoch:  14%|\u001b[32m█▍        \u001b[0m| 71/500 [02:45<10:41,  1.49s/it, acc=0.854, loss=1.28] "
     ]
    },
    {
     "name": "stdout",
     "output_type": "stream",
     "text": [
      "EarlyStopping counter: 22 out of 100\n"
     ]
    },
    {
     "name": "stderr",
     "output_type": "stream",
     "text": [
      "Classifier Training Epoch:  14%|\u001b[32m█▍        \u001b[0m| 72/500 [02:47<10:38,  1.49s/it, acc=0.793, loss=1.56] "
     ]
    },
    {
     "name": "stdout",
     "output_type": "stream",
     "text": [
      "EarlyStopping counter: 23 out of 100\n"
     ]
    },
    {
     "name": "stderr",
     "output_type": "stream",
     "text": [
      "Classifier Training Epoch:  15%|\u001b[32m█▍        \u001b[0m| 73/500 [02:48<10:34,  1.49s/it, acc=0.766, loss=1.92] "
     ]
    },
    {
     "name": "stdout",
     "output_type": "stream",
     "text": [
      "EarlyStopping counter: 24 out of 100\n"
     ]
    },
    {
     "name": "stderr",
     "output_type": "stream",
     "text": [
      "Classifier Training Epoch:  15%|\u001b[32m█▍        \u001b[0m| 74/500 [02:50<10:39,  1.50s/it, acc=0.811, loss=1.46] "
     ]
    },
    {
     "name": "stdout",
     "output_type": "stream",
     "text": [
      "EarlyStopping counter: 25 out of 100\n"
     ]
    },
    {
     "name": "stderr",
     "output_type": "stream",
     "text": [
      "Classifier Training Epoch:  15%|\u001b[32m█▌        \u001b[0m| 75/500 [02:51<10:37,  1.50s/it, acc=0.807, loss=1.54] "
     ]
    },
    {
     "name": "stdout",
     "output_type": "stream",
     "text": [
      "EarlyStopping counter: 26 out of 100\n"
     ]
    },
    {
     "name": "stderr",
     "output_type": "stream",
     "text": [
      "Classifier Training Epoch:  15%|\u001b[32m█▌        \u001b[0m| 76/500 [02:53<10:27,  1.48s/it, acc=0.783, loss=1.56] "
     ]
    },
    {
     "name": "stdout",
     "output_type": "stream",
     "text": [
      "EarlyStopping counter: 27 out of 100\n"
     ]
    },
    {
     "name": "stderr",
     "output_type": "stream",
     "text": [
      "Classifier Training Epoch:  15%|\u001b[32m█▌        \u001b[0m| 77/500 [02:54<10:36,  1.50s/it, acc=0.771, loss=1.58] "
     ]
    },
    {
     "name": "stdout",
     "output_type": "stream",
     "text": [
      "EarlyStopping counter: 28 out of 100\n"
     ]
    },
    {
     "name": "stderr",
     "output_type": "stream",
     "text": [
      "Classifier Training Epoch:  16%|\u001b[32m█▌        \u001b[0m| 79/500 [02:57<10:37,  1.51s/it, acc=0.805, loss=1.38] "
     ]
    },
    {
     "name": "stdout",
     "output_type": "stream",
     "text": [
      "EarlyStopping counter: 1 out of 100\n"
     ]
    },
    {
     "name": "stderr",
     "output_type": "stream",
     "text": [
      "Classifier Training Epoch:  16%|\u001b[32m█▌        \u001b[0m| 81/500 [03:00<10:33,  1.51s/it, acc=0.811, loss=1.09] "
     ]
    },
    {
     "name": "stdout",
     "output_type": "stream",
     "text": [
      "EarlyStopping counter: 1 out of 100\n"
     ]
    },
    {
     "name": "stderr",
     "output_type": "stream",
     "text": [
      "Classifier Training Epoch:  16%|\u001b[32m█▋        \u001b[0m| 82/500 [03:02<10:37,  1.53s/it, acc=0.828, loss=1.22] "
     ]
    },
    {
     "name": "stdout",
     "output_type": "stream",
     "text": [
      "EarlyStopping counter: 2 out of 100\n"
     ]
    },
    {
     "name": "stderr",
     "output_type": "stream",
     "text": [
      "Classifier Training Epoch:  17%|\u001b[32m█▋        \u001b[0m| 85/500 [03:06<10:38,  1.54s/it, acc=0.838, loss=1.24] "
     ]
    },
    {
     "name": "stdout",
     "output_type": "stream",
     "text": [
      "EarlyStopping counter: 1 out of 100\n"
     ]
    },
    {
     "name": "stderr",
     "output_type": "stream",
     "text": [
      "Classifier Training Epoch:  17%|\u001b[32m█▋        \u001b[0m| 86/500 [03:08<10:43,  1.55s/it, acc=0.775, loss=1.55] "
     ]
    },
    {
     "name": "stdout",
     "output_type": "stream",
     "text": [
      "EarlyStopping counter: 2 out of 100\n"
     ]
    },
    {
     "name": "stderr",
     "output_type": "stream",
     "text": [
      "Classifier Training Epoch:  18%|\u001b[32m█▊        \u001b[0m| 88/500 [03:11<10:40,  1.56s/it, acc=0.789, loss=1.27] "
     ]
    },
    {
     "name": "stdout",
     "output_type": "stream",
     "text": [
      "EarlyStopping counter: 1 out of 100\n"
     ]
    },
    {
     "name": "stderr",
     "output_type": "stream",
     "text": [
      "Classifier Training Epoch:  18%|\u001b[32m█▊        \u001b[0m| 91/500 [03:16<10:40,  1.57s/it, acc=0.812, loss=1.25] "
     ]
    },
    {
     "name": "stdout",
     "output_type": "stream",
     "text": [
      "EarlyStopping counter: 1 out of 100\n"
     ]
    },
    {
     "name": "stderr",
     "output_type": "stream",
     "text": [
      "Classifier Training Epoch:  19%|\u001b[32m█▉        \u001b[0m| 94/500 [03:20<10:26,  1.54s/it, acc=0.805, loss=1.31] "
     ]
    },
    {
     "name": "stdout",
     "output_type": "stream",
     "text": [
      "EarlyStopping counter: 1 out of 100\n"
     ]
    },
    {
     "name": "stderr",
     "output_type": "stream",
     "text": [
      "Classifier Training Epoch:  20%|\u001b[32m██        \u001b[0m| 100/500 [03:32<12:24,  1.86s/it, acc=0.795, loss=1.33] "
     ]
    },
    {
     "name": "stdout",
     "output_type": "stream",
     "text": [
      "EarlyStopping counter: 1 out of 100\n"
     ]
    },
    {
     "name": "stderr",
     "output_type": "stream",
     "text": [
      "Classifier Training Epoch:  20%|\u001b[32m██        \u001b[0m| 101/500 [03:34<11:57,  1.80s/it, acc=0.832, loss=1]    "
     ]
    },
    {
     "name": "stdout",
     "output_type": "stream",
     "text": [
      "EarlyStopping counter: 2 out of 100\n"
     ]
    },
    {
     "name": "stderr",
     "output_type": "stream",
     "text": [
      "Classifier Training Epoch:  20%|\u001b[32m██        \u001b[0m| 102/500 [03:35<11:43,  1.77s/it, acc=0.82, loss=0.967] "
     ]
    },
    {
     "name": "stdout",
     "output_type": "stream",
     "text": [
      "EarlyStopping counter: 3 out of 100\n"
     ]
    },
    {
     "name": "stderr",
     "output_type": "stream",
     "text": [
      "Classifier Training Epoch:  21%|\u001b[32m██        \u001b[0m| 103/500 [03:37<11:30,  1.74s/it, acc=0.816, loss=1.1]  "
     ]
    },
    {
     "name": "stdout",
     "output_type": "stream",
     "text": [
      "EarlyStopping counter: 4 out of 100\n"
     ]
    },
    {
     "name": "stderr",
     "output_type": "stream",
     "text": [
      "Classifier Training Epoch:  21%|\u001b[32m██        \u001b[0m| 104/500 [03:39<11:24,  1.73s/it, acc=0.824, loss=0.93] "
     ]
    },
    {
     "name": "stdout",
     "output_type": "stream",
     "text": [
      "EarlyStopping counter: 5 out of 100\n"
     ]
    },
    {
     "name": "stderr",
     "output_type": "stream",
     "text": [
      "Classifier Training Epoch:  21%|\u001b[32m██        \u001b[0m| 105/500 [03:40<11:07,  1.69s/it, acc=0.824, loss=1.05] "
     ]
    },
    {
     "name": "stdout",
     "output_type": "stream",
     "text": [
      "EarlyStopping counter: 6 out of 100\n"
     ]
    },
    {
     "name": "stderr",
     "output_type": "stream",
     "text": [
      "Classifier Training Epoch:  21%|\u001b[32m██        \u001b[0m| 106/500 [03:42<11:20,  1.73s/it, acc=0.82, loss=0.973] "
     ]
    },
    {
     "name": "stdout",
     "output_type": "stream",
     "text": [
      "EarlyStopping counter: 7 out of 100\n"
     ]
    },
    {
     "name": "stderr",
     "output_type": "stream",
     "text": [
      "Classifier Training Epoch:  21%|\u001b[32m██▏       \u001b[0m| 107/500 [03:47<12:08,  1.85s/it, acc=0.846, loss=0.946]"
     ]
    },
    {
     "name": "stdout",
     "output_type": "stream",
     "text": [
      "EarlyStopping counter: 8 out of 100\n"
     ]
    },
    {
     "name": "stderr",
     "output_type": "stream",
     "text": [
      "Classifier Training Epoch:  22%|\u001b[32m██▏       \u001b[0m| 108/500 [03:52<20:05,  3.08s/it, acc=0.852, loss=0.761]"
     ]
    },
    {
     "name": "stdout",
     "output_type": "stream",
     "text": [
      "EarlyStopping counter: 9 out of 100\n"
     ]
    },
    {
     "name": "stderr",
     "output_type": "stream",
     "text": [
      "Classifier Training Epoch:  22%|\u001b[32m██▏       \u001b[0m| 109/500 [03:57<23:55,  3.67s/it, acc=0.816, loss=0.964]"
     ]
    },
    {
     "name": "stdout",
     "output_type": "stream",
     "text": [
      "EarlyStopping counter: 10 out of 100\n"
     ]
    },
    {
     "name": "stderr",
     "output_type": "stream",
     "text": [
      "Classifier Training Epoch:  22%|\u001b[32m██▏       \u001b[0m| 110/500 [04:02<25:54,  3.99s/it, acc=0.811, loss=0.749]"
     ]
    },
    {
     "name": "stdout",
     "output_type": "stream",
     "text": [
      "EarlyStopping counter: 11 out of 100\n"
     ]
    },
    {
     "name": "stderr",
     "output_type": "stream",
     "text": [
      "Classifier Training Epoch:  22%|\u001b[32m██▏       \u001b[0m| 111/500 [04:07<27:39,  4.27s/it, acc=0.803, loss=0.936]"
     ]
    },
    {
     "name": "stdout",
     "output_type": "stream",
     "text": [
      "EarlyStopping counter: 12 out of 100\n"
     ]
    },
    {
     "name": "stderr",
     "output_type": "stream",
     "text": [
      "Classifier Training Epoch:  22%|\u001b[32m██▏       \u001b[0m| 112/500 [04:12<29:45,  4.60s/it, acc=0.824, loss=0.726]"
     ]
    },
    {
     "name": "stdout",
     "output_type": "stream",
     "text": [
      "EarlyStopping counter: 13 out of 100\n"
     ]
    },
    {
     "name": "stderr",
     "output_type": "stream",
     "text": [
      "Classifier Training Epoch:  23%|\u001b[32m██▎       \u001b[0m| 113/500 [04:16<29:31,  4.58s/it, acc=0.818, loss=0.991]"
     ]
    },
    {
     "name": "stdout",
     "output_type": "stream",
     "text": [
      "EarlyStopping counter: 14 out of 100\n"
     ]
    },
    {
     "name": "stderr",
     "output_type": "stream",
     "text": [
      "Classifier Training Epoch:  23%|\u001b[32m██▎       \u001b[0m| 114/500 [04:20<28:50,  4.48s/it, acc=0.795, loss=0.815]"
     ]
    },
    {
     "name": "stdout",
     "output_type": "stream",
     "text": [
      "EarlyStopping counter: 15 out of 100\n"
     ]
    },
    {
     "name": "stderr",
     "output_type": "stream",
     "text": [
      "Classifier Training Epoch:  23%|\u001b[32m██▎       \u001b[0m| 115/500 [04:23<28:47,  4.49s/it, acc=0.826, loss=1.08] "
     ]
    },
    {
     "name": "stdout",
     "output_type": "stream",
     "text": [
      "EarlyStopping counter: 16 out of 100\n"
     ]
    },
    {
     "name": "stderr",
     "output_type": "stream",
     "text": [
      "Classifier Training Epoch:  23%|\u001b[32m██▎       \u001b[0m| 116/500 [04:25<23:20,  3.65s/it, acc=0.816, loss=0.806]"
     ]
    },
    {
     "name": "stdout",
     "output_type": "stream",
     "text": [
      "EarlyStopping counter: 17 out of 100\n"
     ]
    },
    {
     "name": "stderr",
     "output_type": "stream",
     "text": [
      "Classifier Training Epoch:  23%|\u001b[32m██▎       \u001b[0m| 117/500 [04:26<18:55,  2.97s/it, acc=0.84, loss=0.697] "
     ]
    },
    {
     "name": "stdout",
     "output_type": "stream",
     "text": [
      "EarlyStopping counter: 18 out of 100\n"
     ]
    },
    {
     "name": "stderr",
     "output_type": "stream",
     "text": [
      "Classifier Training Epoch:  24%|\u001b[32m██▎       \u001b[0m| 118/500 [04:28<15:54,  2.50s/it, acc=0.82, loss=0.797] "
     ]
    },
    {
     "name": "stdout",
     "output_type": "stream",
     "text": [
      "EarlyStopping counter: 19 out of 100\n"
     ]
    },
    {
     "name": "stderr",
     "output_type": "stream",
     "text": [
      "Classifier Training Epoch:  24%|\u001b[32m██▍       \u001b[0m| 119/500 [04:29<13:46,  2.17s/it, acc=0.832, loss=0.727]"
     ]
    },
    {
     "name": "stdout",
     "output_type": "stream",
     "text": [
      "EarlyStopping counter: 20 out of 100\n"
     ]
    },
    {
     "name": "stderr",
     "output_type": "stream",
     "text": [
      "Classifier Training Epoch:  24%|\u001b[32m██▍       \u001b[0m| 120/500 [04:31<12:34,  1.99s/it, acc=0.844, loss=0.649]"
     ]
    },
    {
     "name": "stdout",
     "output_type": "stream",
     "text": [
      "EarlyStopping counter: 21 out of 100\n"
     ]
    },
    {
     "name": "stderr",
     "output_type": "stream",
     "text": [
      "Classifier Training Epoch:  24%|\u001b[32m██▍       \u001b[0m| 122/500 [04:34<11:27,  1.82s/it, acc=0.848, loss=0.68] "
     ]
    },
    {
     "name": "stdout",
     "output_type": "stream",
     "text": [
      "EarlyStopping counter: 1 out of 100\n"
     ]
    },
    {
     "name": "stderr",
     "output_type": "stream",
     "text": [
      "Classifier Training Epoch:  25%|\u001b[32m██▌       \u001b[0m| 125/500 [04:38<09:50,  1.57s/it, acc=0.797, loss=0.723]"
     ]
    },
    {
     "name": "stdout",
     "output_type": "stream",
     "text": [
      "EarlyStopping counter: 1 out of 100\n"
     ]
    },
    {
     "name": "stderr",
     "output_type": "stream",
     "text": [
      "Classifier Training Epoch:  25%|\u001b[32m██▌       \u001b[0m| 126/500 [04:40<09:21,  1.50s/it, acc=0.807, loss=0.791]"
     ]
    },
    {
     "name": "stdout",
     "output_type": "stream",
     "text": [
      "EarlyStopping counter: 2 out of 100\n"
     ]
    },
    {
     "name": "stderr",
     "output_type": "stream",
     "text": [
      "Classifier Training Epoch:  26%|\u001b[32m██▌       \u001b[0m| 129/500 [04:57<27:02,  4.37s/it, acc=0.83, loss=0.723] "
     ]
    },
    {
     "name": "stdout",
     "output_type": "stream",
     "text": [
      "EarlyStopping counter: 1 out of 100\n"
     ]
    },
    {
     "name": "stderr",
     "output_type": "stream",
     "text": [
      "Classifier Training Epoch:  26%|\u001b[32m██▋       \u001b[0m| 132/500 [05:10<28:03,  4.58s/it, acc=0.824, loss=0.565]"
     ]
    },
    {
     "name": "stdout",
     "output_type": "stream",
     "text": [
      "EarlyStopping counter: 1 out of 100\n"
     ]
    },
    {
     "name": "stderr",
     "output_type": "stream",
     "text": [
      "Classifier Training Epoch:  27%|\u001b[32m██▋       \u001b[0m| 135/500 [05:15<15:53,  2.61s/it, acc=0.854, loss=0.598]"
     ]
    },
    {
     "name": "stdout",
     "output_type": "stream",
     "text": [
      "EarlyStopping counter: 1 out of 100\n"
     ]
    },
    {
     "name": "stderr",
     "output_type": "stream",
     "text": [
      "Classifier Training Epoch:  27%|\u001b[32m██▋       \u001b[0m| 137/500 [05:17<12:03,  1.99s/it, acc=0.826, loss=0.627]"
     ]
    },
    {
     "name": "stdout",
     "output_type": "stream",
     "text": [
      "EarlyStopping counter: 1 out of 100\n"
     ]
    },
    {
     "name": "stderr",
     "output_type": "stream",
     "text": [
      "Classifier Training Epoch:  28%|\u001b[32m██▊       \u001b[0m| 138/500 [05:19<10:51,  1.80s/it, acc=0.832, loss=0.595]"
     ]
    },
    {
     "name": "stdout",
     "output_type": "stream",
     "text": [
      "EarlyStopping counter: 2 out of 100\n"
     ]
    },
    {
     "name": "stderr",
     "output_type": "stream",
     "text": [
      "Classifier Training Epoch:  28%|\u001b[32m██▊       \u001b[0m| 140/500 [05:22<09:35,  1.60s/it, acc=0.809, loss=0.723]"
     ]
    },
    {
     "name": "stdout",
     "output_type": "stream",
     "text": [
      "EarlyStopping counter: 1 out of 100\n"
     ]
    },
    {
     "name": "stderr",
     "output_type": "stream",
     "text": [
      "Classifier Training Epoch:  28%|\u001b[32m██▊       \u001b[0m| 141/500 [05:23<09:11,  1.54s/it, acc=0.842, loss=0.48] "
     ]
    },
    {
     "name": "stdout",
     "output_type": "stream",
     "text": [
      "EarlyStopping counter: 2 out of 100\n"
     ]
    },
    {
     "name": "stderr",
     "output_type": "stream",
     "text": [
      "Classifier Training Epoch:  29%|\u001b[32m██▊       \u001b[0m| 143/500 [05:26<08:36,  1.45s/it, acc=0.834, loss=0.598]"
     ]
    },
    {
     "name": "stdout",
     "output_type": "stream",
     "text": [
      "EarlyStopping counter: 1 out of 100\n"
     ]
    },
    {
     "name": "stderr",
     "output_type": "stream",
     "text": [
      "Classifier Training Epoch:  29%|\u001b[32m██▉       \u001b[0m| 144/500 [05:27<08:38,  1.46s/it, acc=0.801, loss=0.714]"
     ]
    },
    {
     "name": "stdout",
     "output_type": "stream",
     "text": [
      "EarlyStopping counter: 2 out of 100\n"
     ]
    },
    {
     "name": "stderr",
     "output_type": "stream",
     "text": [
      "Classifier Training Epoch:  30%|\u001b[32m███       \u001b[0m| 150/500 [05:38<10:19,  1.77s/it, acc=0.812, loss=0.782]"
     ]
    },
    {
     "name": "stdout",
     "output_type": "stream",
     "text": [
      "EarlyStopping counter: 1 out of 100\n"
     ]
    },
    {
     "name": "stderr",
     "output_type": "stream",
     "text": [
      "Classifier Training Epoch:  30%|\u001b[32m███       \u001b[0m| 151/500 [05:40<10:37,  1.83s/it, acc=0.848, loss=0.532]"
     ]
    },
    {
     "name": "stdout",
     "output_type": "stream",
     "text": [
      "EarlyStopping counter: 2 out of 100\n"
     ]
    },
    {
     "name": "stderr",
     "output_type": "stream",
     "text": [
      "Classifier Training Epoch:  30%|\u001b[32m███       \u001b[0m| 152/500 [05:41<10:33,  1.82s/it, acc=0.83, loss=0.652] "
     ]
    },
    {
     "name": "stdout",
     "output_type": "stream",
     "text": [
      "EarlyStopping counter: 3 out of 100\n"
     ]
    },
    {
     "name": "stderr",
     "output_type": "stream",
     "text": [
      "Classifier Training Epoch:  31%|\u001b[32m███       \u001b[0m| 153/500 [05:43<10:28,  1.81s/it, acc=0.828, loss=0.636]"
     ]
    },
    {
     "name": "stdout",
     "output_type": "stream",
     "text": [
      "EarlyStopping counter: 4 out of 100\n"
     ]
    },
    {
     "name": "stderr",
     "output_type": "stream",
     "text": [
      "Classifier Training Epoch:  31%|\u001b[32m███       \u001b[0m| 154/500 [05:45<10:02,  1.74s/it, acc=0.859, loss=0.442]"
     ]
    },
    {
     "name": "stdout",
     "output_type": "stream",
     "text": [
      "EarlyStopping counter: 5 out of 100\n"
     ]
    },
    {
     "name": "stderr",
     "output_type": "stream",
     "text": [
      "Classifier Training Epoch:  31%|\u001b[32m███       \u001b[0m| 155/500 [05:46<09:39,  1.68s/it, acc=0.859, loss=0.486]"
     ]
    },
    {
     "name": "stdout",
     "output_type": "stream",
     "text": [
      "EarlyStopping counter: 6 out of 100\n"
     ]
    },
    {
     "name": "stderr",
     "output_type": "stream",
     "text": [
      "Classifier Training Epoch:  31%|\u001b[32m███       \u001b[0m| 156/500 [05:51<11:51,  2.07s/it, acc=0.836, loss=0.439]"
     ]
    },
    {
     "name": "stdout",
     "output_type": "stream",
     "text": [
      "EarlyStopping counter: 7 out of 100\n"
     ]
    },
    {
     "name": "stderr",
     "output_type": "stream",
     "text": [
      "Classifier Training Epoch:  31%|\u001b[32m███▏      \u001b[0m| 157/500 [05:56<17:33,  3.07s/it, acc=0.852, loss=0.461]"
     ]
    },
    {
     "name": "stdout",
     "output_type": "stream",
     "text": [
      "EarlyStopping counter: 8 out of 100\n"
     ]
    },
    {
     "name": "stderr",
     "output_type": "stream",
     "text": [
      "Classifier Training Epoch:  32%|\u001b[32m███▏      \u001b[0m| 158/500 [05:59<20:26,  3.59s/it, acc=0.861, loss=0.509]"
     ]
    },
    {
     "name": "stdout",
     "output_type": "stream",
     "text": [
      "EarlyStopping counter: 9 out of 100\n"
     ]
    },
    {
     "name": "stderr",
     "output_type": "stream",
     "text": [
      "Classifier Training Epoch:  32%|\u001b[32m███▏      \u001b[0m| 159/500 [06:01<16:52,  2.97s/it, acc=0.832, loss=0.519]"
     ]
    },
    {
     "name": "stdout",
     "output_type": "stream",
     "text": [
      "EarlyStopping counter: 10 out of 100\n"
     ]
    },
    {
     "name": "stderr",
     "output_type": "stream",
     "text": [
      "Classifier Training Epoch:  32%|\u001b[32m███▏      \u001b[0m| 160/500 [06:02<14:13,  2.51s/it, acc=0.826, loss=0.518]"
     ]
    },
    {
     "name": "stdout",
     "output_type": "stream",
     "text": [
      "EarlyStopping counter: 11 out of 100\n"
     ]
    },
    {
     "name": "stderr",
     "output_type": "stream",
     "text": [
      "Classifier Training Epoch:  32%|\u001b[32m███▏      \u001b[0m| 161/500 [06:04<12:19,  2.18s/it, acc=0.848, loss=0.451]"
     ]
    },
    {
     "name": "stdout",
     "output_type": "stream",
     "text": [
      "EarlyStopping counter: 12 out of 100\n"
     ]
    },
    {
     "name": "stderr",
     "output_type": "stream",
     "text": [
      "Classifier Training Epoch:  32%|\u001b[32m███▏      \u001b[0m| 162/500 [06:05<11:00,  1.95s/it, acc=0.84, loss=0.504] "
     ]
    },
    {
     "name": "stdout",
     "output_type": "stream",
     "text": [
      "EarlyStopping counter: 13 out of 100\n"
     ]
    },
    {
     "name": "stderr",
     "output_type": "stream",
     "text": [
      "Classifier Training Epoch:  33%|\u001b[32m███▎      \u001b[0m| 163/500 [06:06<10:09,  1.81s/it, acc=0.826, loss=0.399]"
     ]
    },
    {
     "name": "stdout",
     "output_type": "stream",
     "text": [
      "EarlyStopping counter: 14 out of 100\n"
     ]
    },
    {
     "name": "stderr",
     "output_type": "stream",
     "text": [
      "Classifier Training Epoch:  33%|\u001b[32m███▎      \u001b[0m| 164/500 [06:08<09:29,  1.69s/it, acc=0.82, loss=0.522] "
     ]
    },
    {
     "name": "stdout",
     "output_type": "stream",
     "text": [
      "EarlyStopping counter: 15 out of 100\n"
     ]
    },
    {
     "name": "stderr",
     "output_type": "stream",
     "text": [
      "Classifier Training Epoch:  34%|\u001b[32m███▍      \u001b[0m| 169/500 [06:15<08:36,  1.56s/it, acc=0.842, loss=0.443]"
     ]
    },
    {
     "name": "stdout",
     "output_type": "stream",
     "text": [
      "EarlyStopping counter: 1 out of 100\n"
     ]
    },
    {
     "name": "stderr",
     "output_type": "stream",
     "text": [
      "Classifier Training Epoch:  34%|\u001b[32m███▍      \u001b[0m| 170/500 [06:17<08:20,  1.52s/it, acc=0.834, loss=0.453]"
     ]
    },
    {
     "name": "stdout",
     "output_type": "stream",
     "text": [
      "EarlyStopping counter: 2 out of 100\n"
     ]
    },
    {
     "name": "stderr",
     "output_type": "stream",
     "text": [
      "Classifier Training Epoch:  35%|\u001b[32m███▌      \u001b[0m| 175/500 [06:34<14:28,  2.67s/it, acc=0.848, loss=0.434]"
     ]
    },
    {
     "name": "stdout",
     "output_type": "stream",
     "text": [
      "EarlyStopping counter: 1 out of 100\n"
     ]
    },
    {
     "name": "stderr",
     "output_type": "stream",
     "text": [
      "Classifier Training Epoch:  36%|\u001b[32m███▌      \u001b[0m| 180/500 [06:42<08:56,  1.68s/it, acc=0.844, loss=0.399]"
     ]
    },
    {
     "name": "stdout",
     "output_type": "stream",
     "text": [
      "EarlyStopping counter: 1 out of 100\n"
     ]
    },
    {
     "name": "stderr",
     "output_type": "stream",
     "text": [
      "Classifier Training Epoch:  36%|\u001b[32m███▌      \u001b[0m| 181/500 [06:43<09:11,  1.73s/it, acc=0.865, loss=0.333]"
     ]
    },
    {
     "name": "stdout",
     "output_type": "stream",
     "text": [
      "EarlyStopping counter: 2 out of 100\n"
     ]
    },
    {
     "name": "stderr",
     "output_type": "stream",
     "text": [
      "Classifier Training Epoch:  37%|\u001b[32m███▋      \u001b[0m| 184/500 [06:50<11:01,  2.09s/it, acc=0.842, loss=0.363]"
     ]
    },
    {
     "name": "stdout",
     "output_type": "stream",
     "text": [
      "EarlyStopping counter: 1 out of 100\n"
     ]
    },
    {
     "name": "stderr",
     "output_type": "stream",
     "text": [
      "Classifier Training Epoch:  37%|\u001b[32m███▋      \u001b[0m| 185/500 [06:55<15:38,  2.98s/it, acc=0.863, loss=0.372]"
     ]
    },
    {
     "name": "stdout",
     "output_type": "stream",
     "text": [
      "EarlyStopping counter: 2 out of 100\n"
     ]
    },
    {
     "name": "stderr",
     "output_type": "stream",
     "text": [
      "Classifier Training Epoch:  38%|\u001b[32m███▊      \u001b[0m| 190/500 [07:18<22:17,  4.31s/it, acc=0.838, loss=0.413]"
     ]
    },
    {
     "name": "stdout",
     "output_type": "stream",
     "text": [
      "EarlyStopping counter: 1 out of 100\n"
     ]
    },
    {
     "name": "stderr",
     "output_type": "stream",
     "text": [
      "Classifier Training Epoch:  38%|\u001b[32m███▊      \u001b[0m| 191/500 [07:22<22:05,  4.29s/it, acc=0.85, loss=0.479] "
     ]
    },
    {
     "name": "stdout",
     "output_type": "stream",
     "text": [
      "EarlyStopping counter: 2 out of 100\n"
     ]
    },
    {
     "name": "stderr",
     "output_type": "stream",
     "text": [
      "Classifier Training Epoch:  38%|\u001b[32m███▊      \u001b[0m| 192/500 [07:27<22:29,  4.38s/it, acc=0.838, loss=0.418]"
     ]
    },
    {
     "name": "stdout",
     "output_type": "stream",
     "text": [
      "EarlyStopping counter: 3 out of 100\n"
     ]
    },
    {
     "name": "stderr",
     "output_type": "stream",
     "text": [
      "Classifier Training Epoch:  39%|\u001b[32m███▉      \u001b[0m| 194/500 [07:34<21:19,  4.18s/it, acc=0.812, loss=0.519]"
     ]
    },
    {
     "name": "stdout",
     "output_type": "stream",
     "text": [
      "EarlyStopping counter: 1 out of 100\n"
     ]
    },
    {
     "name": "stderr",
     "output_type": "stream",
     "text": [
      "Classifier Training Epoch:  39%|\u001b[32m███▉      \u001b[0m| 197/500 [07:38<11:43,  2.32s/it, acc=0.85, loss=0.412] "
     ]
    },
    {
     "name": "stdout",
     "output_type": "stream",
     "text": [
      "EarlyStopping counter: 1 out of 100\n"
     ]
    },
    {
     "name": "stderr",
     "output_type": "stream",
     "text": [
      "Classifier Training Epoch:  40%|\u001b[32m███▉      \u001b[0m| 198/500 [07:40<10:07,  2.01s/it, acc=0.855, loss=0.419]"
     ]
    },
    {
     "name": "stdout",
     "output_type": "stream",
     "text": [
      "EarlyStopping counter: 2 out of 100\n"
     ]
    },
    {
     "name": "stderr",
     "output_type": "stream",
     "text": [
      "Classifier Training Epoch:  40%|\u001b[32m████      \u001b[0m| 200/500 [07:44<09:06,  1.82s/it, acc=0.855, loss=0.477]"
     ]
    },
    {
     "name": "stdout",
     "output_type": "stream",
     "text": [
      "EarlyStopping counter: 1 out of 100\n"
     ]
    },
    {
     "name": "stderr",
     "output_type": "stream",
     "text": [
      "Classifier Training Epoch:  40%|\u001b[32m████      \u001b[0m| 201/500 [07:45<08:46,  1.76s/it, acc=0.85, loss=0.456] "
     ]
    },
    {
     "name": "stdout",
     "output_type": "stream",
     "text": [
      "EarlyStopping counter: 2 out of 100\n"
     ]
    },
    {
     "name": "stderr",
     "output_type": "stream",
     "text": [
      "Classifier Training Epoch:  40%|\u001b[32m████      \u001b[0m| 202/500 [07:47<08:08,  1.64s/it, acc=0.834, loss=0.364]"
     ]
    },
    {
     "name": "stdout",
     "output_type": "stream",
     "text": [
      "EarlyStopping counter: 3 out of 100\n"
     ]
    },
    {
     "name": "stderr",
     "output_type": "stream",
     "text": [
      "Classifier Training Epoch:  41%|\u001b[32m████      \u001b[0m| 203/500 [07:48<08:16,  1.67s/it, acc=0.846, loss=0.366]"
     ]
    },
    {
     "name": "stdout",
     "output_type": "stream",
     "text": [
      "EarlyStopping counter: 4 out of 100\n"
     ]
    },
    {
     "name": "stderr",
     "output_type": "stream",
     "text": [
      "Classifier Training Epoch:  41%|\u001b[32m████      \u001b[0m| 204/500 [07:50<08:17,  1.68s/it, acc=0.865, loss=0.374]"
     ]
    },
    {
     "name": "stdout",
     "output_type": "stream",
     "text": [
      "EarlyStopping counter: 5 out of 100\n"
     ]
    },
    {
     "name": "stderr",
     "output_type": "stream",
     "text": [
      "Classifier Training Epoch:  41%|\u001b[32m████      \u001b[0m| 205/500 [07:52<07:58,  1.62s/it, acc=0.85, loss=0.469] "
     ]
    },
    {
     "name": "stdout",
     "output_type": "stream",
     "text": [
      "EarlyStopping counter: 6 out of 100\n"
     ]
    },
    {
     "name": "stderr",
     "output_type": "stream",
     "text": [
      "Classifier Training Epoch:  41%|\u001b[32m████      \u001b[0m| 206/500 [07:53<07:51,  1.60s/it, acc=0.873, loss=0.388]"
     ]
    },
    {
     "name": "stdout",
     "output_type": "stream",
     "text": [
      "EarlyStopping counter: 7 out of 100\n"
     ]
    },
    {
     "name": "stderr",
     "output_type": "stream",
     "text": [
      "Classifier Training Epoch:  41%|\u001b[32m████▏     \u001b[0m| 207/500 [07:54<07:35,  1.55s/it, acc=0.84, loss=0.382] "
     ]
    },
    {
     "name": "stdout",
     "output_type": "stream",
     "text": [
      "EarlyStopping counter: 8 out of 100\n"
     ]
    },
    {
     "name": "stderr",
     "output_type": "stream",
     "text": [
      "Classifier Training Epoch:  42%|\u001b[32m████▏     \u001b[0m| 208/500 [07:56<07:26,  1.53s/it, acc=0.879, loss=0.341]"
     ]
    },
    {
     "name": "stdout",
     "output_type": "stream",
     "text": [
      "EarlyStopping counter: 9 out of 100\n"
     ]
    },
    {
     "name": "stderr",
     "output_type": "stream",
     "text": [
      "Classifier Training Epoch:  42%|\u001b[32m████▏     \u001b[0m| 209/500 [07:57<07:24,  1.53s/it, acc=0.865, loss=0.329]"
     ]
    },
    {
     "name": "stdout",
     "output_type": "stream",
     "text": [
      "EarlyStopping counter: 10 out of 100\n"
     ]
    },
    {
     "name": "stderr",
     "output_type": "stream",
     "text": [
      "Classifier Training Epoch:  42%|\u001b[32m████▏     \u001b[0m| 210/500 [07:59<07:23,  1.53s/it, acc=0.848, loss=0.417]"
     ]
    },
    {
     "name": "stdout",
     "output_type": "stream",
     "text": [
      "EarlyStopping counter: 11 out of 100\n"
     ]
    },
    {
     "name": "stderr",
     "output_type": "stream",
     "text": [
      "Classifier Training Epoch:  42%|\u001b[32m████▏     \u001b[0m| 211/500 [08:00<07:13,  1.50s/it, acc=0.844, loss=0.356]"
     ]
    },
    {
     "name": "stdout",
     "output_type": "stream",
     "text": [
      "EarlyStopping counter: 12 out of 100\n"
     ]
    },
    {
     "name": "stderr",
     "output_type": "stream",
     "text": [
      "Classifier Training Epoch:  43%|\u001b[32m████▎     \u001b[0m| 213/500 [08:03<07:17,  1.53s/it, acc=0.873, loss=0.317]"
     ]
    },
    {
     "name": "stdout",
     "output_type": "stream",
     "text": [
      "EarlyStopping counter: 1 out of 100\n"
     ]
    },
    {
     "name": "stderr",
     "output_type": "stream",
     "text": [
      "Classifier Training Epoch:  43%|\u001b[32m████▎     \u001b[0m| 217/500 [08:09<07:12,  1.53s/it, acc=0.854, loss=0.371]"
     ]
    },
    {
     "name": "stdout",
     "output_type": "stream",
     "text": [
      "EarlyStopping counter: 1 out of 100\n"
     ]
    },
    {
     "name": "stderr",
     "output_type": "stream",
     "text": [
      "Classifier Training Epoch:  44%|\u001b[32m████▍     \u001b[0m| 219/500 [08:13<07:15,  1.55s/it, acc=0.85, loss=0.359] "
     ]
    },
    {
     "name": "stdout",
     "output_type": "stream",
     "text": [
      "EarlyStopping counter: 1 out of 100\n"
     ]
    },
    {
     "name": "stderr",
     "output_type": "stream",
     "text": [
      "Classifier Training Epoch:  45%|\u001b[32m████▌     \u001b[0m| 225/500 [08:22<07:14,  1.58s/it, acc=0.842, loss=0.367]"
     ]
    },
    {
     "name": "stdout",
     "output_type": "stream",
     "text": [
      "EarlyStopping counter: 1 out of 100\n"
     ]
    },
    {
     "name": "stderr",
     "output_type": "stream",
     "text": [
      "Classifier Training Epoch:  45%|\u001b[32m████▌     \u001b[0m| 227/500 [08:25<07:04,  1.55s/it, acc=0.855, loss=0.32] "
     ]
    },
    {
     "name": "stdout",
     "output_type": "stream",
     "text": [
      "EarlyStopping counter: 1 out of 100\n"
     ]
    },
    {
     "name": "stderr",
     "output_type": "stream",
     "text": [
      "Classifier Training Epoch:  46%|\u001b[32m████▌     \u001b[0m| 228/500 [08:26<07:07,  1.57s/it, acc=0.859, loss=0.296]"
     ]
    },
    {
     "name": "stdout",
     "output_type": "stream",
     "text": [
      "EarlyStopping counter: 2 out of 100\n"
     ]
    },
    {
     "name": "stderr",
     "output_type": "stream",
     "text": [
      "Classifier Training Epoch:  46%|\u001b[32m████▌     \u001b[0m| 229/500 [08:28<07:07,  1.58s/it, acc=0.846, loss=0.343]"
     ]
    },
    {
     "name": "stdout",
     "output_type": "stream",
     "text": [
      "EarlyStopping counter: 3 out of 100\n"
     ]
    },
    {
     "name": "stderr",
     "output_type": "stream",
     "text": [
      "Classifier Training Epoch:  46%|\u001b[32m████▋     \u001b[0m| 232/500 [08:33<06:59,  1.57s/it, acc=0.861, loss=0.335]"
     ]
    },
    {
     "name": "stdout",
     "output_type": "stream",
     "text": [
      "EarlyStopping counter: 1 out of 100\n"
     ]
    },
    {
     "name": "stderr",
     "output_type": "stream",
     "text": [
      "Classifier Training Epoch:  47%|\u001b[32m████▋     \u001b[0m| 233/500 [08:34<07:00,  1.58s/it, acc=0.859, loss=0.376]"
     ]
    },
    {
     "name": "stdout",
     "output_type": "stream",
     "text": [
      "EarlyStopping counter: 2 out of 100\n"
     ]
    },
    {
     "name": "stderr",
     "output_type": "stream",
     "text": [
      "Classifier Training Epoch:  47%|\u001b[32m████▋     \u001b[0m| 234/500 [08:36<06:58,  1.57s/it, acc=0.869, loss=0.286]"
     ]
    },
    {
     "name": "stdout",
     "output_type": "stream",
     "text": [
      "EarlyStopping counter: 3 out of 100\n"
     ]
    },
    {
     "name": "stderr",
     "output_type": "stream",
     "text": [
      "Classifier Training Epoch:  48%|\u001b[32m████▊     \u001b[0m| 238/500 [08:42<06:55,  1.59s/it, acc=0.848, loss=0.376]"
     ]
    },
    {
     "name": "stdout",
     "output_type": "stream",
     "text": [
      "EarlyStopping counter: 1 out of 100\n"
     ]
    },
    {
     "name": "stderr",
     "output_type": "stream",
     "text": [
      "Classifier Training Epoch:  48%|\u001b[32m████▊     \u001b[0m| 239/500 [08:44<06:52,  1.58s/it, acc=0.84, loss=0.391] "
     ]
    },
    {
     "name": "stdout",
     "output_type": "stream",
     "text": [
      "EarlyStopping counter: 2 out of 100\n"
     ]
    },
    {
     "name": "stderr",
     "output_type": "stream",
     "text": [
      "Classifier Training Epoch:  48%|\u001b[32m████▊     \u001b[0m| 240/500 [08:47<08:13,  1.90s/it, acc=0.844, loss=0.352]"
     ]
    },
    {
     "name": "stdout",
     "output_type": "stream",
     "text": [
      "EarlyStopping counter: 3 out of 100\n"
     ]
    },
    {
     "name": "stderr",
     "output_type": "stream",
     "text": [
      "Classifier Training Epoch:  49%|\u001b[32m████▊     \u001b[0m| 243/500 [09:02<17:24,  4.06s/it, acc=0.85, loss=0.377] "
     ]
    },
    {
     "name": "stdout",
     "output_type": "stream",
     "text": [
      "EarlyStopping counter: 1 out of 100\n"
     ]
    },
    {
     "name": "stderr",
     "output_type": "stream",
     "text": [
      "Classifier Training Epoch:  49%|\u001b[32m████▉     \u001b[0m| 246/500 [09:13<15:19,  3.62s/it, acc=0.852, loss=0.342]"
     ]
    },
    {
     "name": "stdout",
     "output_type": "stream",
     "text": [
      "EarlyStopping counter: 1 out of 100\n"
     ]
    },
    {
     "name": "stderr",
     "output_type": "stream",
     "text": [
      "Classifier Training Epoch:  49%|\u001b[32m████▉     \u001b[0m| 247/500 [09:14<12:24,  2.94s/it, acc=0.85, loss=0.348] "
     ]
    },
    {
     "name": "stdout",
     "output_type": "stream",
     "text": [
      "EarlyStopping counter: 2 out of 100\n"
     ]
    },
    {
     "name": "stderr",
     "output_type": "stream",
     "text": [
      "Classifier Training Epoch:  50%|\u001b[32m████▉     \u001b[0m| 248/500 [09:16<10:16,  2.45s/it, acc=0.867, loss=0.309]"
     ]
    },
    {
     "name": "stdout",
     "output_type": "stream",
     "text": [
      "EarlyStopping counter: 3 out of 100\n"
     ]
    },
    {
     "name": "stderr",
     "output_type": "stream",
     "text": [
      "Classifier Training Epoch:  50%|\u001b[32m████▉     \u001b[0m| 249/500 [09:17<08:54,  2.13s/it, acc=0.863, loss=0.339]"
     ]
    },
    {
     "name": "stdout",
     "output_type": "stream",
     "text": [
      "EarlyStopping counter: 4 out of 100\n"
     ]
    },
    {
     "name": "stderr",
     "output_type": "stream",
     "text": [
      "Classifier Training Epoch:  50%|\u001b[32m████▉     \u001b[0m| 249/500 [09:18<08:54,  2.13s/it, acc=0.906, loss=0.211]"
     ]
    },
    {
     "name": "stdout",
     "output_type": "stream",
     "text": [
      "EarlyStopping counter: 5 out of 100\n"
     ]
    },
    {
     "name": "stderr",
     "output_type": "stream",
     "text": [
      "Classifier Training Epoch:  50%|\u001b[32m█████     \u001b[0m| 250/500 [09:20<08:40,  2.08s/it, acc=0.875, loss=0.36] "
     ]
    },
    {
     "name": "stdout",
     "output_type": "stream",
     "text": [
      "EarlyStopping counter: 6 out of 100\n"
     ]
    },
    {
     "name": "stderr",
     "output_type": "stream",
     "text": [
      "Classifier Training Epoch:  50%|\u001b[32m█████     \u001b[0m| 251/500 [09:21<07:52,  1.90s/it, acc=0.871, loss=0.308]"
     ]
    },
    {
     "name": "stdout",
     "output_type": "stream",
     "text": [
      "EarlyStopping counter: 7 out of 100\n"
     ]
    },
    {
     "name": "stderr",
     "output_type": "stream",
     "text": [
      "Classifier Training Epoch:  50%|\u001b[32m█████     \u001b[0m| 252/500 [09:23<07:18,  1.77s/it, acc=0.883, loss=0.267]"
     ]
    },
    {
     "name": "stdout",
     "output_type": "stream",
     "text": [
      "EarlyStopping counter: 8 out of 100\n"
     ]
    },
    {
     "name": "stderr",
     "output_type": "stream",
     "text": [
      "Classifier Training Epoch:  51%|\u001b[32m█████     \u001b[0m| 253/500 [09:24<06:58,  1.69s/it, acc=0.834, loss=0.357]"
     ]
    },
    {
     "name": "stdout",
     "output_type": "stream",
     "text": [
      "EarlyStopping counter: 9 out of 100\n"
     ]
    },
    {
     "name": "stderr",
     "output_type": "stream",
     "text": [
      "Classifier Training Epoch:  51%|\u001b[32m█████     \u001b[0m| 254/500 [09:26<06:42,  1.64s/it, acc=0.863, loss=0.3]  "
     ]
    },
    {
     "name": "stdout",
     "output_type": "stream",
     "text": [
      "EarlyStopping counter: 10 out of 100\n"
     ]
    },
    {
     "name": "stderr",
     "output_type": "stream",
     "text": [
      "Classifier Training Epoch:  51%|\u001b[32m█████     \u001b[0m| 255/500 [09:28<06:26,  1.58s/it, acc=0.867, loss=0.282]"
     ]
    },
    {
     "name": "stdout",
     "output_type": "stream",
     "text": [
      "EarlyStopping counter: 11 out of 100\n"
     ]
    },
    {
     "name": "stderr",
     "output_type": "stream",
     "text": [
      "Classifier Training Epoch:  51%|\u001b[32m█████     \u001b[0m| 256/500 [09:34<09:34,  2.35s/it, acc=0.861, loss=0.318]"
     ]
    },
    {
     "name": "stdout",
     "output_type": "stream",
     "text": [
      "EarlyStopping counter: 12 out of 100\n"
     ]
    },
    {
     "name": "stderr",
     "output_type": "stream",
     "text": [
      "Classifier Training Epoch:  51%|\u001b[32m█████▏    \u001b[0m| 257/500 [09:38<12:48,  3.16s/it, acc=0.846, loss=0.336]"
     ]
    },
    {
     "name": "stdout",
     "output_type": "stream",
     "text": [
      "EarlyStopping counter: 13 out of 100\n"
     ]
    },
    {
     "name": "stderr",
     "output_type": "stream",
     "text": [
      "Classifier Training Epoch:  52%|\u001b[32m█████▏    \u001b[0m| 258/500 [09:43<14:44,  3.65s/it, acc=0.852, loss=0.325]"
     ]
    },
    {
     "name": "stdout",
     "output_type": "stream",
     "text": [
      "EarlyStopping counter: 14 out of 100\n"
     ]
    },
    {
     "name": "stderr",
     "output_type": "stream",
     "text": [
      "Classifier Training Epoch:  52%|\u001b[32m█████▏    \u001b[0m| 259/500 [09:48<16:07,  4.02s/it, acc=0.869, loss=0.355]"
     ]
    },
    {
     "name": "stdout",
     "output_type": "stream",
     "text": [
      "EarlyStopping counter: 15 out of 100\n"
     ]
    },
    {
     "name": "stderr",
     "output_type": "stream",
     "text": [
      "Classifier Training Epoch:  52%|\u001b[32m█████▏    \u001b[0m| 260/500 [09:53<16:56,  4.24s/it, acc=0.877, loss=0.294]"
     ]
    },
    {
     "name": "stdout",
     "output_type": "stream",
     "text": [
      "EarlyStopping counter: 16 out of 100\n"
     ]
    },
    {
     "name": "stderr",
     "output_type": "stream",
     "text": [
      "Classifier Training Epoch:  53%|\u001b[32m█████▎    \u001b[0m| 264/500 [10:04<12:08,  3.09s/it, acc=0.838, loss=0.379]"
     ]
    },
    {
     "name": "stdout",
     "output_type": "stream",
     "text": [
      "EarlyStopping counter: 1 out of 100\n"
     ]
    },
    {
     "name": "stderr",
     "output_type": "stream",
     "text": [
      "Classifier Training Epoch:  54%|\u001b[32m█████▍    \u001b[0m| 269/500 [10:11<06:31,  1.69s/it, acc=0.852, loss=0.326]"
     ]
    },
    {
     "name": "stdout",
     "output_type": "stream",
     "text": [
      "EarlyStopping counter: 1 out of 100\n"
     ]
    },
    {
     "name": "stderr",
     "output_type": "stream",
     "text": [
      "Classifier Training Epoch:  54%|\u001b[32m█████▍    \u001b[0m| 271/500 [10:13<05:55,  1.55s/it, acc=0.861, loss=0.253]"
     ]
    },
    {
     "name": "stdout",
     "output_type": "stream",
     "text": [
      "EarlyStopping counter: 1 out of 100\n"
     ]
    },
    {
     "name": "stderr",
     "output_type": "stream",
     "text": [
      "Classifier Training Epoch:  54%|\u001b[32m█████▍    \u001b[0m| 272/500 [10:15<05:44,  1.51s/it, acc=0.84, loss=0.367] "
     ]
    },
    {
     "name": "stdout",
     "output_type": "stream",
     "text": [
      "EarlyStopping counter: 2 out of 100\n"
     ]
    },
    {
     "name": "stderr",
     "output_type": "stream",
     "text": [
      "Classifier Training Epoch:  55%|\u001b[32m█████▍    \u001b[0m| 273/500 [10:16<05:39,  1.50s/it, acc=0.854, loss=0.321]"
     ]
    },
    {
     "name": "stdout",
     "output_type": "stream",
     "text": [
      "EarlyStopping counter: 3 out of 100\n"
     ]
    },
    {
     "name": "stderr",
     "output_type": "stream",
     "text": [
      "Classifier Training Epoch:  55%|\u001b[32m█████▌    \u001b[0m| 275/500 [10:19<05:29,  1.46s/it, acc=0.861, loss=0.309]"
     ]
    },
    {
     "name": "stdout",
     "output_type": "stream",
     "text": [
      "EarlyStopping counter: 1 out of 100\n"
     ]
    },
    {
     "name": "stderr",
     "output_type": "stream",
     "text": [
      "Classifier Training Epoch:  55%|\u001b[32m█████▌    \u001b[0m| 276/500 [10:20<05:21,  1.44s/it, acc=0.865, loss=0.296]"
     ]
    },
    {
     "name": "stdout",
     "output_type": "stream",
     "text": [
      "EarlyStopping counter: 2 out of 100\n"
     ]
    },
    {
     "name": "stderr",
     "output_type": "stream",
     "text": [
      "Classifier Training Epoch:  55%|\u001b[32m█████▌    \u001b[0m| 277/500 [10:22<05:24,  1.45s/it, acc=0.846, loss=0.36] "
     ]
    },
    {
     "name": "stdout",
     "output_type": "stream",
     "text": [
      "EarlyStopping counter: 3 out of 100\n"
     ]
    },
    {
     "name": "stderr",
     "output_type": "stream",
     "text": [
      "Classifier Training Epoch:  56%|\u001b[32m█████▌    \u001b[0m| 278/500 [10:23<05:24,  1.46s/it, acc=0.873, loss=0.281]"
     ]
    },
    {
     "name": "stdout",
     "output_type": "stream",
     "text": [
      "EarlyStopping counter: 4 out of 100\n"
     ]
    },
    {
     "name": "stderr",
     "output_type": "stream",
     "text": [
      "Classifier Training Epoch:  56%|\u001b[32m█████▌    \u001b[0m| 279/500 [10:25<05:23,  1.47s/it, acc=0.869, loss=0.327]"
     ]
    },
    {
     "name": "stdout",
     "output_type": "stream",
     "text": [
      "EarlyStopping counter: 5 out of 100\n"
     ]
    },
    {
     "name": "stderr",
     "output_type": "stream",
     "text": [
      "Classifier Training Epoch:  56%|\u001b[32m█████▌    \u001b[0m| 280/500 [10:26<05:22,  1.47s/it, acc=0.865, loss=0.323]"
     ]
    },
    {
     "name": "stdout",
     "output_type": "stream",
     "text": [
      "EarlyStopping counter: 6 out of 100\n"
     ]
    },
    {
     "name": "stderr",
     "output_type": "stream",
     "text": [
      "Classifier Training Epoch:  57%|\u001b[32m█████▋    \u001b[0m| 283/500 [10:31<05:20,  1.48s/it, acc=0.865, loss=0.282]"
     ]
    },
    {
     "name": "stdout",
     "output_type": "stream",
     "text": [
      "EarlyStopping counter: 1 out of 100\n"
     ]
    },
    {
     "name": "stderr",
     "output_type": "stream",
     "text": [
      "Classifier Training Epoch:  57%|\u001b[32m█████▋    \u001b[0m| 284/500 [10:33<05:32,  1.54s/it, acc=0.902, loss=0.255]"
     ]
    },
    {
     "name": "stdout",
     "output_type": "stream",
     "text": [
      "EarlyStopping counter: 2 out of 100\n"
     ]
    },
    {
     "name": "stderr",
     "output_type": "stream",
     "text": [
      "Classifier Training Epoch:  57%|\u001b[32m█████▋    \u001b[0m| 285/500 [10:37<08:23,  2.34s/it, acc=0.865, loss=0.311]"
     ]
    },
    {
     "name": "stdout",
     "output_type": "stream",
     "text": [
      "EarlyStopping counter: 3 out of 100\n"
     ]
    },
    {
     "name": "stderr",
     "output_type": "stream",
     "text": [
      "Classifier Training Epoch:  57%|\u001b[32m█████▋    \u001b[0m| 286/500 [10:42<11:13,  3.15s/it, acc=0.881, loss=0.281]"
     ]
    },
    {
     "name": "stdout",
     "output_type": "stream",
     "text": [
      "EarlyStopping counter: 4 out of 100\n"
     ]
    },
    {
     "name": "stderr",
     "output_type": "stream",
     "text": [
      "Classifier Training Epoch:  57%|\u001b[32m█████▋    \u001b[0m| 287/500 [10:51<15:13,  4.29s/it, acc=0.85, loss=0.365] "
     ]
    },
    {
     "name": "stdout",
     "output_type": "stream",
     "text": [
      "EarlyStopping counter: 5 out of 100\n"
     ]
    },
    {
     "name": "stderr",
     "output_type": "stream",
     "text": [
      "Classifier Training Epoch:  58%|\u001b[32m█████▊    \u001b[0m| 290/500 [11:07<17:22,  4.97s/it, acc=0.859, loss=0.317]"
     ]
    },
    {
     "name": "stdout",
     "output_type": "stream",
     "text": [
      "EarlyStopping counter: 1 out of 100\n"
     ]
    },
    {
     "name": "stderr",
     "output_type": "stream",
     "text": [
      "Classifier Training Epoch:  58%|\u001b[32m█████▊    \u001b[0m| 291/500 [11:08<13:45,  3.95s/it, acc=0.865, loss=0.272]"
     ]
    },
    {
     "name": "stdout",
     "output_type": "stream",
     "text": [
      "EarlyStopping counter: 2 out of 100\n"
     ]
    },
    {
     "name": "stderr",
     "output_type": "stream",
     "text": [
      "Classifier Training Epoch:  59%|\u001b[32m█████▊    \u001b[0m| 293/500 [11:11<09:00,  2.61s/it, acc=0.855, loss=0.324]"
     ]
    },
    {
     "name": "stdout",
     "output_type": "stream",
     "text": [
      "EarlyStopping counter: 1 out of 100\n"
     ]
    },
    {
     "name": "stderr",
     "output_type": "stream",
     "text": [
      "Classifier Training Epoch:  59%|\u001b[32m█████▉    \u001b[0m| 294/500 [11:12<07:40,  2.23s/it, acc=0.842, loss=0.326]"
     ]
    },
    {
     "name": "stdout",
     "output_type": "stream",
     "text": [
      "EarlyStopping counter: 2 out of 100\n"
     ]
    },
    {
     "name": "stderr",
     "output_type": "stream",
     "text": [
      "Classifier Training Epoch:  59%|\u001b[32m█████▉    \u001b[0m| 296/500 [11:15<06:09,  1.81s/it, acc=0.865, loss=0.344]"
     ]
    },
    {
     "name": "stdout",
     "output_type": "stream",
     "text": [
      "EarlyStopping counter: 1 out of 100\n"
     ]
    },
    {
     "name": "stderr",
     "output_type": "stream",
     "text": [
      "Classifier Training Epoch:  60%|\u001b[32m█████▉    \u001b[0m| 299/500 [11:21<05:07,  1.53s/it, acc=0.906, loss=0.195]"
     ]
    },
    {
     "name": "stdout",
     "output_type": "stream",
     "text": [
      "EarlyStopping counter: 1 out of 100\n"
     ]
    },
    {
     "name": "stderr",
     "output_type": "stream",
     "text": [
      "Classifier Training Epoch:  60%|\u001b[32m██████    \u001b[0m| 300/500 [11:22<05:29,  1.65s/it, acc=0.852, loss=0.337]"
     ]
    },
    {
     "name": "stdout",
     "output_type": "stream",
     "text": [
      "EarlyStopping counter: 2 out of 100\n"
     ]
    },
    {
     "name": "stderr",
     "output_type": "stream",
     "text": [
      "Classifier Training Epoch:  60%|\u001b[32m██████    \u001b[0m| 301/500 [11:24<05:18,  1.60s/it, acc=0.877, loss=0.281]"
     ]
    },
    {
     "name": "stdout",
     "output_type": "stream",
     "text": [
      "EarlyStopping counter: 3 out of 100\n"
     ]
    },
    {
     "name": "stderr",
     "output_type": "stream",
     "text": [
      "Classifier Training Epoch:  60%|\u001b[32m██████    \u001b[0m| 302/500 [11:25<05:06,  1.55s/it, acc=0.859, loss=0.302]"
     ]
    },
    {
     "name": "stdout",
     "output_type": "stream",
     "text": [
      "EarlyStopping counter: 4 out of 100\n"
     ]
    },
    {
     "name": "stderr",
     "output_type": "stream",
     "text": [
      "Classifier Training Epoch:  61%|\u001b[32m██████    \u001b[0m| 303/500 [11:27<05:02,  1.54s/it, acc=0.844, loss=0.339]"
     ]
    },
    {
     "name": "stdout",
     "output_type": "stream",
     "text": [
      "EarlyStopping counter: 5 out of 100\n"
     ]
    },
    {
     "name": "stderr",
     "output_type": "stream",
     "text": [
      "Classifier Training Epoch:  61%|\u001b[32m██████    \u001b[0m| 304/500 [11:28<05:02,  1.55s/it, acc=0.867, loss=0.317]"
     ]
    },
    {
     "name": "stdout",
     "output_type": "stream",
     "text": [
      "EarlyStopping counter: 6 out of 100\n"
     ]
    },
    {
     "name": "stderr",
     "output_type": "stream",
     "text": [
      "Classifier Training Epoch:  61%|\u001b[32m██████    \u001b[0m| 305/500 [11:30<05:02,  1.55s/it, acc=0.865, loss=0.315]"
     ]
    },
    {
     "name": "stdout",
     "output_type": "stream",
     "text": [
      "EarlyStopping counter: 7 out of 100\n"
     ]
    },
    {
     "name": "stderr",
     "output_type": "stream",
     "text": [
      "Classifier Training Epoch:  61%|\u001b[32m██████    \u001b[0m| 306/500 [11:31<05:00,  1.55s/it, acc=0.859, loss=0.289]"
     ]
    },
    {
     "name": "stdout",
     "output_type": "stream",
     "text": [
      "EarlyStopping counter: 8 out of 100\n"
     ]
    },
    {
     "name": "stderr",
     "output_type": "stream",
     "text": [
      "Classifier Training Epoch:  61%|\u001b[32m██████▏   \u001b[0m| 307/500 [11:33<05:00,  1.55s/it, acc=0.875, loss=0.27] "
     ]
    },
    {
     "name": "stdout",
     "output_type": "stream",
     "text": [
      "EarlyStopping counter: 9 out of 100\n"
     ]
    },
    {
     "name": "stderr",
     "output_type": "stream",
     "text": [
      "Classifier Training Epoch:  62%|\u001b[32m██████▏   \u001b[0m| 308/500 [11:34<04:53,  1.53s/it, acc=0.852, loss=0.362]"
     ]
    },
    {
     "name": "stdout",
     "output_type": "stream",
     "text": [
      "EarlyStopping counter: 10 out of 100\n"
     ]
    },
    {
     "name": "stderr",
     "output_type": "stream",
     "text": [
      "Classifier Training Epoch:  62%|\u001b[32m██████▏   \u001b[0m| 309/500 [11:36<04:56,  1.55s/it, acc=0.865, loss=0.324]"
     ]
    },
    {
     "name": "stdout",
     "output_type": "stream",
     "text": [
      "EarlyStopping counter: 11 out of 100\n"
     ]
    },
    {
     "name": "stderr",
     "output_type": "stream",
     "text": [
      "Classifier Training Epoch:  62%|\u001b[32m██████▏   \u001b[0m| 310/500 [11:37<04:59,  1.58s/it, acc=0.861, loss=0.324]"
     ]
    },
    {
     "name": "stdout",
     "output_type": "stream",
     "text": [
      "EarlyStopping counter: 12 out of 100\n"
     ]
    },
    {
     "name": "stderr",
     "output_type": "stream",
     "text": [
      "Classifier Training Epoch:  62%|\u001b[32m██████▏   \u001b[0m| 311/500 [11:39<04:55,  1.56s/it, acc=0.877, loss=0.274]"
     ]
    },
    {
     "name": "stdout",
     "output_type": "stream",
     "text": [
      "EarlyStopping counter: 13 out of 100\n"
     ]
    },
    {
     "name": "stderr",
     "output_type": "stream",
     "text": [
      "Classifier Training Epoch:  62%|\u001b[32m██████▏   \u001b[0m| 312/500 [11:40<04:57,  1.58s/it, acc=0.877, loss=0.28] "
     ]
    },
    {
     "name": "stdout",
     "output_type": "stream",
     "text": [
      "EarlyStopping counter: 14 out of 100\n"
     ]
    },
    {
     "name": "stderr",
     "output_type": "stream",
     "text": [
      "Classifier Training Epoch:  63%|\u001b[32m██████▎   \u001b[0m| 313/500 [11:42<04:58,  1.60s/it, acc=0.902, loss=0.231]"
     ]
    },
    {
     "name": "stdout",
     "output_type": "stream",
     "text": [
      "EarlyStopping counter: 15 out of 100\n"
     ]
    },
    {
     "name": "stderr",
     "output_type": "stream",
     "text": [
      "Classifier Training Epoch:  63%|\u001b[32m██████▎   \u001b[0m| 314/500 [11:44<04:53,  1.58s/it, acc=0.867, loss=0.319]"
     ]
    },
    {
     "name": "stdout",
     "output_type": "stream",
     "text": [
      "EarlyStopping counter: 16 out of 100\n"
     ]
    },
    {
     "name": "stderr",
     "output_type": "stream",
     "text": [
      "Classifier Training Epoch:  63%|\u001b[32m██████▎   \u001b[0m| 315/500 [11:45<04:51,  1.58s/it, acc=0.865, loss=0.334]"
     ]
    },
    {
     "name": "stdout",
     "output_type": "stream",
     "text": [
      "EarlyStopping counter: 17 out of 100\n"
     ]
    },
    {
     "name": "stderr",
     "output_type": "stream",
     "text": [
      "Classifier Training Epoch:  63%|\u001b[32m██████▎   \u001b[0m| 316/500 [11:47<04:53,  1.59s/it, acc=0.873, loss=0.323]"
     ]
    },
    {
     "name": "stdout",
     "output_type": "stream",
     "text": [
      "EarlyStopping counter: 18 out of 100\n"
     ]
    },
    {
     "name": "stderr",
     "output_type": "stream",
     "text": [
      "Classifier Training Epoch:  64%|\u001b[32m██████▍   \u001b[0m| 321/500 [11:55<04:44,  1.59s/it, acc=0.867, loss=0.251]"
     ]
    },
    {
     "name": "stdout",
     "output_type": "stream",
     "text": [
      "EarlyStopping counter: 1 out of 100\n"
     ]
    },
    {
     "name": "stderr",
     "output_type": "stream",
     "text": [
      "Classifier Training Epoch:  64%|\u001b[32m██████▍   \u001b[0m| 322/500 [11:56<04:43,  1.59s/it, acc=0.871, loss=0.289]"
     ]
    },
    {
     "name": "stdout",
     "output_type": "stream",
     "text": [
      "EarlyStopping counter: 2 out of 100\n"
     ]
    },
    {
     "name": "stderr",
     "output_type": "stream",
     "text": [
      "Classifier Training Epoch:  65%|\u001b[32m██████▍   \u001b[0m| 323/500 [12:01<05:42,  1.94s/it, acc=0.867, loss=0.28] "
     ]
    },
    {
     "name": "stdout",
     "output_type": "stream",
     "text": [
      "EarlyStopping counter: 3 out of 100\n"
     ]
    },
    {
     "name": "stderr",
     "output_type": "stream",
     "text": [
      "Classifier Training Epoch:  65%|\u001b[32m██████▍   \u001b[0m| 324/500 [12:06<08:56,  3.05s/it, acc=0.855, loss=0.293]"
     ]
    },
    {
     "name": "stdout",
     "output_type": "stream",
     "text": [
      "EarlyStopping counter: 4 out of 100\n"
     ]
    },
    {
     "name": "stderr",
     "output_type": "stream",
     "text": [
      "Classifier Training Epoch:  65%|\u001b[32m██████▌   \u001b[0m| 326/500 [12:17<12:36,  4.35s/it, acc=0.877, loss=0.317]"
     ]
    },
    {
     "name": "stdout",
     "output_type": "stream",
     "text": [
      "EarlyStopping counter: 1 out of 100\n"
     ]
    },
    {
     "name": "stderr",
     "output_type": "stream",
     "text": [
      "Classifier Training Epoch:  66%|\u001b[32m██████▌   \u001b[0m| 328/500 [12:28<14:12,  4.96s/it, acc=0.881, loss=0.276]"
     ]
    },
    {
     "name": "stdout",
     "output_type": "stream",
     "text": [
      "EarlyStopping counter: 1 out of 100\n"
     ]
    },
    {
     "name": "stderr",
     "output_type": "stream",
     "text": [
      "Classifier Training Epoch:  66%|\u001b[32m██████▌   \u001b[0m| 330/500 [12:38<14:02,  4.96s/it, acc=0.877, loss=0.267]"
     ]
    },
    {
     "name": "stdout",
     "output_type": "stream",
     "text": [
      "EarlyStopping counter: 1 out of 100\n"
     ]
    },
    {
     "name": "stderr",
     "output_type": "stream",
     "text": [
      "Classifier Training Epoch:  67%|\u001b[32m██████▋   \u001b[0m| 333/500 [12:51<12:50,  4.61s/it, acc=0.871, loss=0.286]"
     ]
    },
    {
     "name": "stdout",
     "output_type": "stream",
     "text": [
      "EarlyStopping counter: 1 out of 100\n"
     ]
    },
    {
     "name": "stderr",
     "output_type": "stream",
     "text": [
      "Classifier Training Epoch:  67%|\u001b[32m██████▋   \u001b[0m| 334/500 [12:56<13:00,  4.70s/it, acc=0.898, loss=0.243]"
     ]
    },
    {
     "name": "stdout",
     "output_type": "stream",
     "text": [
      "EarlyStopping counter: 2 out of 100\n"
     ]
    },
    {
     "name": "stderr",
     "output_type": "stream",
     "text": [
      "Classifier Training Epoch:  67%|\u001b[32m██████▋   \u001b[0m| 336/500 [12:59<08:43,  3.19s/it, acc=0.889, loss=0.257]"
     ]
    },
    {
     "name": "stdout",
     "output_type": "stream",
     "text": [
      "EarlyStopping counter: 1 out of 100\n"
     ]
    },
    {
     "name": "stderr",
     "output_type": "stream",
     "text": [
      "Classifier Training Epoch:  67%|\u001b[32m██████▋   \u001b[0m| 337/500 [13:00<07:12,  2.65s/it, acc=0.869, loss=0.296]"
     ]
    },
    {
     "name": "stdout",
     "output_type": "stream",
     "text": [
      "EarlyStopping counter: 2 out of 100\n"
     ]
    },
    {
     "name": "stderr",
     "output_type": "stream",
     "text": [
      "Classifier Training Epoch:  68%|\u001b[32m██████▊   \u001b[0m| 341/500 [13:05<04:27,  1.68s/it, acc=0.844, loss=0.307]"
     ]
    },
    {
     "name": "stdout",
     "output_type": "stream",
     "text": [
      "EarlyStopping counter: 1 out of 100\n"
     ]
    },
    {
     "name": "stderr",
     "output_type": "stream",
     "text": [
      "Classifier Training Epoch:  69%|\u001b[32m██████▊   \u001b[0m| 343/500 [13:08<04:13,  1.61s/it, acc=0.855, loss=0.287]"
     ]
    },
    {
     "name": "stdout",
     "output_type": "stream",
     "text": [
      "EarlyStopping counter: 1 out of 100\n"
     ]
    },
    {
     "name": "stderr",
     "output_type": "stream",
     "text": [
      "Classifier Training Epoch:  69%|\u001b[32m██████▉   \u001b[0m| 344/500 [13:10<04:02,  1.55s/it, acc=0.887, loss=0.267]"
     ]
    },
    {
     "name": "stdout",
     "output_type": "stream",
     "text": [
      "EarlyStopping counter: 2 out of 100\n"
     ]
    },
    {
     "name": "stderr",
     "output_type": "stream",
     "text": [
      "Classifier Training Epoch:  69%|\u001b[32m██████▉   \u001b[0m| 345/500 [13:11<04:08,  1.60s/it, acc=0.885, loss=0.297]"
     ]
    },
    {
     "name": "stdout",
     "output_type": "stream",
     "text": [
      "EarlyStopping counter: 3 out of 100\n"
     ]
    },
    {
     "name": "stderr",
     "output_type": "stream",
     "text": [
      "Classifier Training Epoch:  69%|\u001b[32m██████▉   \u001b[0m| 346/500 [13:14<04:26,  1.73s/it, acc=0.861, loss=0.296]"
     ]
    },
    {
     "name": "stdout",
     "output_type": "stream",
     "text": [
      "EarlyStopping counter: 4 out of 100\n"
     ]
    },
    {
     "name": "stderr",
     "output_type": "stream",
     "text": [
      "Classifier Training Epoch:  69%|\u001b[32m██████▉   \u001b[0m| 347/500 [13:15<04:15,  1.67s/it, acc=0.881, loss=0.285]"
     ]
    },
    {
     "name": "stdout",
     "output_type": "stream",
     "text": [
      "EarlyStopping counter: 5 out of 100\n"
     ]
    },
    {
     "name": "stderr",
     "output_type": "stream",
     "text": [
      "Classifier Training Epoch:  70%|\u001b[32m██████▉   \u001b[0m| 348/500 [13:17<04:14,  1.67s/it, acc=0.875, loss=0.263]"
     ]
    },
    {
     "name": "stdout",
     "output_type": "stream",
     "text": [
      "EarlyStopping counter: 6 out of 100\n"
     ]
    },
    {
     "name": "stderr",
     "output_type": "stream",
     "text": [
      "Classifier Training Epoch:  70%|\u001b[32m██████▉   \u001b[0m| 349/500 [13:18<04:14,  1.68s/it, acc=0.863, loss=0.324]"
     ]
    },
    {
     "name": "stdout",
     "output_type": "stream",
     "text": [
      "EarlyStopping counter: 7 out of 100\n"
     ]
    },
    {
     "name": "stderr",
     "output_type": "stream",
     "text": [
      "Classifier Training Epoch:  70%|\u001b[32m██████▉   \u001b[0m| 349/500 [13:20<04:14,  1.68s/it, acc=0.922, loss=0.195]"
     ]
    },
    {
     "name": "stdout",
     "output_type": "stream",
     "text": [
      "EarlyStopping counter: 8 out of 100\n"
     ]
    },
    {
     "name": "stderr",
     "output_type": "stream",
     "text": [
      "Classifier Training Epoch:  70%|\u001b[32m███████   \u001b[0m| 350/500 [13:21<04:34,  1.83s/it, acc=0.848, loss=0.356]"
     ]
    },
    {
     "name": "stdout",
     "output_type": "stream",
     "text": [
      "EarlyStopping counter: 9 out of 100\n"
     ]
    },
    {
     "name": "stderr",
     "output_type": "stream",
     "text": [
      "Classifier Training Epoch:  70%|\u001b[32m███████   \u001b[0m| 351/500 [13:23<04:21,  1.76s/it, acc=0.869, loss=0.298]"
     ]
    },
    {
     "name": "stdout",
     "output_type": "stream",
     "text": [
      "EarlyStopping counter: 10 out of 100\n"
     ]
    },
    {
     "name": "stderr",
     "output_type": "stream",
     "text": [
      "Classifier Training Epoch:  70%|\u001b[32m███████   \u001b[0m| 352/500 [13:24<04:05,  1.66s/it, acc=0.879, loss=0.266]"
     ]
    },
    {
     "name": "stdout",
     "output_type": "stream",
     "text": [
      "EarlyStopping counter: 11 out of 100\n"
     ]
    },
    {
     "name": "stderr",
     "output_type": "stream",
     "text": [
      "Classifier Training Epoch:  71%|\u001b[32m███████   \u001b[0m| 353/500 [13:26<03:59,  1.63s/it, acc=0.865, loss=0.296]"
     ]
    },
    {
     "name": "stdout",
     "output_type": "stream",
     "text": [
      "EarlyStopping counter: 12 out of 100\n"
     ]
    },
    {
     "name": "stderr",
     "output_type": "stream",
     "text": [
      "Classifier Training Epoch:  71%|\u001b[32m███████   \u001b[0m| 354/500 [13:28<03:53,  1.60s/it, acc=0.895, loss=0.261]"
     ]
    },
    {
     "name": "stdout",
     "output_type": "stream",
     "text": [
      "EarlyStopping counter: 13 out of 100\n"
     ]
    },
    {
     "name": "stderr",
     "output_type": "stream",
     "text": [
      "Classifier Training Epoch:  71%|\u001b[32m███████   \u001b[0m| 355/500 [13:33<04:47,  1.98s/it, acc=0.889, loss=0.277]"
     ]
    },
    {
     "name": "stdout",
     "output_type": "stream",
     "text": [
      "EarlyStopping counter: 14 out of 100\n"
     ]
    },
    {
     "name": "stderr",
     "output_type": "stream",
     "text": [
      "Classifier Training Epoch:  71%|\u001b[32m███████   \u001b[0m| 356/500 [13:38<07:14,  3.02s/it, acc=0.908, loss=0.219]"
     ]
    },
    {
     "name": "stdout",
     "output_type": "stream",
     "text": [
      "EarlyStopping counter: 15 out of 100\n"
     ]
    },
    {
     "name": "stderr",
     "output_type": "stream",
     "text": [
      "Classifier Training Epoch:  71%|\u001b[32m███████▏  \u001b[0m| 357/500 [13:43<08:34,  3.60s/it, acc=0.865, loss=0.305]"
     ]
    },
    {
     "name": "stdout",
     "output_type": "stream",
     "text": [
      "EarlyStopping counter: 16 out of 100\n"
     ]
    },
    {
     "name": "stderr",
     "output_type": "stream",
     "text": [
      "Classifier Training Epoch:  72%|\u001b[32m███████▏  \u001b[0m| 358/500 [13:45<08:49,  3.73s/it, acc=0.875, loss=0.274]"
     ]
    },
    {
     "name": "stdout",
     "output_type": "stream",
     "text": [
      "EarlyStopping counter: 17 out of 100\n"
     ]
    },
    {
     "name": "stderr",
     "output_type": "stream",
     "text": [
      "Classifier Training Epoch:  72%|\u001b[32m███████▏  \u001b[0m| 359/500 [13:46<07:09,  3.05s/it, acc=0.869, loss=0.268]"
     ]
    },
    {
     "name": "stdout",
     "output_type": "stream",
     "text": [
      "EarlyStopping counter: 18 out of 100\n"
     ]
    },
    {
     "name": "stderr",
     "output_type": "stream",
     "text": [
      "Classifier Training Epoch:  72%|\u001b[32m███████▏  \u001b[0m| 360/500 [13:48<05:59,  2.57s/it, acc=0.869, loss=0.292]"
     ]
    },
    {
     "name": "stdout",
     "output_type": "stream",
     "text": [
      "EarlyStopping counter: 19 out of 100\n"
     ]
    },
    {
     "name": "stderr",
     "output_type": "stream",
     "text": [
      "Classifier Training Epoch:  72%|\u001b[32m███████▏  \u001b[0m| 361/500 [13:49<05:08,  2.22s/it, acc=0.859, loss=0.305]"
     ]
    },
    {
     "name": "stdout",
     "output_type": "stream",
     "text": [
      "EarlyStopping counter: 20 out of 100\n"
     ]
    },
    {
     "name": "stderr",
     "output_type": "stream",
     "text": [
      "Classifier Training Epoch:  72%|\u001b[32m███████▏  \u001b[0m| 362/500 [13:50<04:33,  1.98s/it, acc=0.873, loss=0.285]"
     ]
    },
    {
     "name": "stdout",
     "output_type": "stream",
     "text": [
      "EarlyStopping counter: 21 out of 100\n"
     ]
    },
    {
     "name": "stderr",
     "output_type": "stream",
     "text": [
      "Classifier Training Epoch:  73%|\u001b[32m███████▎  \u001b[0m| 363/500 [13:52<04:15,  1.86s/it, acc=0.863, loss=0.315]"
     ]
    },
    {
     "name": "stdout",
     "output_type": "stream",
     "text": [
      "EarlyStopping counter: 22 out of 100\n"
     ]
    },
    {
     "name": "stderr",
     "output_type": "stream",
     "text": [
      "Classifier Training Epoch:  73%|\u001b[32m███████▎  \u001b[0m| 364/500 [13:53<03:55,  1.73s/it, acc=0.859, loss=0.293]"
     ]
    },
    {
     "name": "stdout",
     "output_type": "stream",
     "text": [
      "EarlyStopping counter: 23 out of 100\n"
     ]
    },
    {
     "name": "stderr",
     "output_type": "stream",
     "text": [
      "Classifier Training Epoch:  73%|\u001b[32m███████▎  \u001b[0m| 365/500 [13:55<03:45,  1.67s/it, acc=0.895, loss=0.254]"
     ]
    },
    {
     "name": "stdout",
     "output_type": "stream",
     "text": [
      "EarlyStopping counter: 24 out of 100\n"
     ]
    },
    {
     "name": "stderr",
     "output_type": "stream",
     "text": [
      "Classifier Training Epoch:  73%|\u001b[32m███████▎  \u001b[0m| 366/500 [13:56<03:39,  1.64s/it, acc=0.887, loss=0.296]"
     ]
    },
    {
     "name": "stdout",
     "output_type": "stream",
     "text": [
      "EarlyStopping counter: 25 out of 100\n"
     ]
    },
    {
     "name": "stderr",
     "output_type": "stream",
     "text": [
      "Classifier Training Epoch:  73%|\u001b[32m███████▎  \u001b[0m| 367/500 [13:58<03:31,  1.59s/it, acc=0.871, loss=0.264]"
     ]
    },
    {
     "name": "stdout",
     "output_type": "stream",
     "text": [
      "EarlyStopping counter: 26 out of 100\n"
     ]
    },
    {
     "name": "stderr",
     "output_type": "stream",
     "text": [
      "Classifier Training Epoch:  74%|\u001b[32m███████▎  \u001b[0m| 368/500 [13:59<03:29,  1.58s/it, acc=0.865, loss=0.313]"
     ]
    },
    {
     "name": "stdout",
     "output_type": "stream",
     "text": [
      "EarlyStopping counter: 27 out of 100\n"
     ]
    },
    {
     "name": "stderr",
     "output_type": "stream",
     "text": [
      "Classifier Training Epoch:  74%|\u001b[32m███████▍  \u001b[0m| 369/500 [14:01<03:39,  1.68s/it, acc=0.887, loss=0.241]"
     ]
    },
    {
     "name": "stdout",
     "output_type": "stream",
     "text": [
      "EarlyStopping counter: 28 out of 100\n"
     ]
    },
    {
     "name": "stderr",
     "output_type": "stream",
     "text": [
      "Classifier Training Epoch:  74%|\u001b[32m███████▍  \u001b[0m| 370/500 [14:03<03:53,  1.79s/it, acc=0.889, loss=0.242]"
     ]
    },
    {
     "name": "stdout",
     "output_type": "stream",
     "text": [
      "EarlyStopping counter: 29 out of 100\n"
     ]
    },
    {
     "name": "stderr",
     "output_type": "stream",
     "text": [
      "Classifier Training Epoch:  74%|\u001b[32m███████▍  \u001b[0m| 371/500 [14:06<04:06,  1.91s/it, acc=0.85, loss=0.301] "
     ]
    },
    {
     "name": "stdout",
     "output_type": "stream",
     "text": [
      "EarlyStopping counter: 30 out of 100\n"
     ]
    },
    {
     "name": "stderr",
     "output_type": "stream",
     "text": [
      "Classifier Training Epoch:  74%|\u001b[32m███████▍  \u001b[0m| 372/500 [14:07<04:02,  1.90s/it, acc=0.85, loss=0.373] "
     ]
    },
    {
     "name": "stdout",
     "output_type": "stream",
     "text": [
      "EarlyStopping counter: 31 out of 100\n"
     ]
    },
    {
     "name": "stderr",
     "output_type": "stream",
     "text": [
      "Classifier Training Epoch:  75%|\u001b[32m███████▍  \u001b[0m| 373/500 [14:09<03:44,  1.77s/it, acc=0.885, loss=0.243]"
     ]
    },
    {
     "name": "stdout",
     "output_type": "stream",
     "text": [
      "EarlyStopping counter: 32 out of 100\n"
     ]
    },
    {
     "name": "stderr",
     "output_type": "stream",
     "text": [
      "Classifier Training Epoch:  75%|\u001b[32m███████▍  \u001b[0m| 374/500 [14:10<03:39,  1.75s/it, acc=0.889, loss=0.245]"
     ]
    },
    {
     "name": "stdout",
     "output_type": "stream",
     "text": [
      "EarlyStopping counter: 33 out of 100\n"
     ]
    },
    {
     "name": "stderr",
     "output_type": "stream",
     "text": [
      "Classifier Training Epoch:  75%|\u001b[32m███████▌  \u001b[0m| 375/500 [14:12<03:31,  1.70s/it, acc=0.871, loss=0.289]"
     ]
    },
    {
     "name": "stdout",
     "output_type": "stream",
     "text": [
      "EarlyStopping counter: 34 out of 100\n"
     ]
    },
    {
     "name": "stderr",
     "output_type": "stream",
     "text": [
      "Classifier Training Epoch:  75%|\u001b[32m███████▌  \u001b[0m| 376/500 [14:14<03:23,  1.64s/it, acc=0.867, loss=0.3]  "
     ]
    },
    {
     "name": "stdout",
     "output_type": "stream",
     "text": [
      "EarlyStopping counter: 35 out of 100\n"
     ]
    },
    {
     "name": "stderr",
     "output_type": "stream",
     "text": [
      "Classifier Training Epoch:  76%|\u001b[32m███████▌  \u001b[0m| 378/500 [14:17<03:18,  1.62s/it, acc=0.883, loss=0.29] "
     ]
    },
    {
     "name": "stdout",
     "output_type": "stream",
     "text": [
      "EarlyStopping counter: 1 out of 100\n"
     ]
    },
    {
     "name": "stderr",
     "output_type": "stream",
     "text": [
      "Classifier Training Epoch:  76%|\u001b[32m███████▌  \u001b[0m| 379/500 [14:22<04:28,  2.21s/it, acc=0.893, loss=0.236]"
     ]
    },
    {
     "name": "stdout",
     "output_type": "stream",
     "text": [
      "EarlyStopping counter: 2 out of 100\n"
     ]
    },
    {
     "name": "stderr",
     "output_type": "stream",
     "text": [
      "Classifier Training Epoch:  76%|\u001b[32m███████▋  \u001b[0m| 382/500 [14:37<08:09,  4.15s/it, acc=0.881, loss=0.297]"
     ]
    },
    {
     "name": "stdout",
     "output_type": "stream",
     "text": [
      "EarlyStopping counter: 1 out of 100\n"
     ]
    },
    {
     "name": "stderr",
     "output_type": "stream",
     "text": [
      "Classifier Training Epoch:  77%|\u001b[32m███████▋  \u001b[0m| 383/500 [14:42<08:23,  4.30s/it, acc=0.873, loss=0.279]"
     ]
    },
    {
     "name": "stdout",
     "output_type": "stream",
     "text": [
      "EarlyStopping counter: 2 out of 100\n"
     ]
    },
    {
     "name": "stderr",
     "output_type": "stream",
     "text": [
      "Classifier Training Epoch:  77%|\u001b[32m███████▋  \u001b[0m| 384/500 [14:47<08:40,  4.49s/it, acc=0.875, loss=0.273]"
     ]
    },
    {
     "name": "stdout",
     "output_type": "stream",
     "text": [
      "EarlyStopping counter: 3 out of 100\n"
     ]
    },
    {
     "name": "stderr",
     "output_type": "stream",
     "text": [
      "Classifier Training Epoch:  77%|\u001b[32m███████▋  \u001b[0m| 385/500 [14:48<07:28,  3.90s/it, acc=0.875, loss=0.27] "
     ]
    },
    {
     "name": "stdout",
     "output_type": "stream",
     "text": [
      "EarlyStopping counter: 4 out of 100\n"
     ]
    },
    {
     "name": "stderr",
     "output_type": "stream",
     "text": [
      "Classifier Training Epoch:  77%|\u001b[32m███████▋  \u001b[0m| 386/500 [14:50<06:00,  3.16s/it, acc=0.871, loss=0.271]"
     ]
    },
    {
     "name": "stdout",
     "output_type": "stream",
     "text": [
      "EarlyStopping counter: 5 out of 100\n"
     ]
    },
    {
     "name": "stderr",
     "output_type": "stream",
     "text": [
      "Classifier Training Epoch:  77%|\u001b[32m███████▋  \u001b[0m| 387/500 [14:51<04:57,  2.63s/it, acc=0.863, loss=0.3]  "
     ]
    },
    {
     "name": "stdout",
     "output_type": "stream",
     "text": [
      "EarlyStopping counter: 6 out of 100\n"
     ]
    },
    {
     "name": "stderr",
     "output_type": "stream",
     "text": [
      "Classifier Training Epoch:  78%|\u001b[32m███████▊  \u001b[0m| 390/500 [14:56<03:25,  1.87s/it, acc=0.877, loss=0.255]"
     ]
    },
    {
     "name": "stdout",
     "output_type": "stream",
     "text": [
      "EarlyStopping counter: 1 out of 100\n"
     ]
    },
    {
     "name": "stderr",
     "output_type": "stream",
     "text": [
      "Classifier Training Epoch:  78%|\u001b[32m███████▊  \u001b[0m| 392/500 [14:58<02:55,  1.62s/it, acc=0.865, loss=0.323]"
     ]
    },
    {
     "name": "stdout",
     "output_type": "stream",
     "text": [
      "EarlyStopping counter: 1 out of 100\n"
     ]
    },
    {
     "name": "stderr",
     "output_type": "stream",
     "text": [
      "Classifier Training Epoch:  79%|\u001b[32m███████▉  \u001b[0m| 395/500 [15:03<02:37,  1.50s/it, acc=0.865, loss=0.27] "
     ]
    },
    {
     "name": "stdout",
     "output_type": "stream",
     "text": [
      "EarlyStopping counter: 1 out of 100\n"
     ]
    },
    {
     "name": "stderr",
     "output_type": "stream",
     "text": [
      "Classifier Training Epoch:  79%|\u001b[32m███████▉  \u001b[0m| 396/500 [15:04<02:35,  1.50s/it, acc=0.879, loss=0.262]"
     ]
    },
    {
     "name": "stdout",
     "output_type": "stream",
     "text": [
      "EarlyStopping counter: 2 out of 100\n"
     ]
    },
    {
     "name": "stderr",
     "output_type": "stream",
     "text": [
      "Classifier Training Epoch:  80%|\u001b[32m████████  \u001b[0m| 400/500 [15:12<02:51,  1.71s/it, acc=0.855, loss=0.322]"
     ]
    },
    {
     "name": "stdout",
     "output_type": "stream",
     "text": [
      "EarlyStopping counter: 1 out of 100\n"
     ]
    },
    {
     "name": "stderr",
     "output_type": "stream",
     "text": [
      "Classifier Training Epoch:  80%|\u001b[32m████████  \u001b[0m| 401/500 [15:13<02:45,  1.68s/it, acc=0.867, loss=0.3]  "
     ]
    },
    {
     "name": "stdout",
     "output_type": "stream",
     "text": [
      "EarlyStopping counter: 2 out of 100\n"
     ]
    },
    {
     "name": "stderr",
     "output_type": "stream",
     "text": [
      "Classifier Training Epoch:  80%|\u001b[32m████████  \u001b[0m| 402/500 [15:15<02:40,  1.64s/it, acc=0.873, loss=0.286]"
     ]
    },
    {
     "name": "stdout",
     "output_type": "stream",
     "text": [
      "EarlyStopping counter: 3 out of 100\n"
     ]
    },
    {
     "name": "stderr",
     "output_type": "stream",
     "text": [
      "Classifier Training Epoch:  81%|\u001b[32m████████  \u001b[0m| 403/500 [15:17<02:39,  1.65s/it, acc=0.873, loss=0.292]"
     ]
    },
    {
     "name": "stdout",
     "output_type": "stream",
     "text": [
      "EarlyStopping counter: 4 out of 100\n"
     ]
    },
    {
     "name": "stderr",
     "output_type": "stream",
     "text": [
      "Classifier Training Epoch:  81%|\u001b[32m████████  \u001b[0m| 404/500 [15:18<02:38,  1.65s/it, acc=0.863, loss=0.296]"
     ]
    },
    {
     "name": "stdout",
     "output_type": "stream",
     "text": [
      "EarlyStopping counter: 5 out of 100\n"
     ]
    },
    {
     "name": "stderr",
     "output_type": "stream",
     "text": [
      "Classifier Training Epoch:  81%|\u001b[32m████████  \u001b[0m| 405/500 [15:20<02:34,  1.63s/it, acc=0.865, loss=0.306]"
     ]
    },
    {
     "name": "stdout",
     "output_type": "stream",
     "text": [
      "EarlyStopping counter: 6 out of 100\n"
     ]
    },
    {
     "name": "stderr",
     "output_type": "stream",
     "text": [
      "Classifier Training Epoch:  81%|\u001b[32m████████  \u001b[0m| 406/500 [15:21<02:35,  1.66s/it, acc=0.869, loss=0.275]"
     ]
    },
    {
     "name": "stdout",
     "output_type": "stream",
     "text": [
      "EarlyStopping counter: 7 out of 100\n"
     ]
    },
    {
     "name": "stderr",
     "output_type": "stream",
     "text": [
      "Classifier Training Epoch:  81%|\u001b[32m████████▏ \u001b[0m| 407/500 [15:23<02:34,  1.66s/it, acc=0.898, loss=0.239]"
     ]
    },
    {
     "name": "stdout",
     "output_type": "stream",
     "text": [
      "EarlyStopping counter: 8 out of 100\n"
     ]
    },
    {
     "name": "stderr",
     "output_type": "stream",
     "text": [
      "Classifier Training Epoch:  82%|\u001b[32m████████▏ \u001b[0m| 408/500 [15:25<02:30,  1.63s/it, acc=0.889, loss=0.274]"
     ]
    },
    {
     "name": "stdout",
     "output_type": "stream",
     "text": [
      "EarlyStopping counter: 9 out of 100\n"
     ]
    },
    {
     "name": "stderr",
     "output_type": "stream",
     "text": [
      "Classifier Training Epoch:  82%|\u001b[32m████████▏ \u001b[0m| 409/500 [15:26<02:29,  1.64s/it, acc=0.879, loss=0.272]"
     ]
    },
    {
     "name": "stdout",
     "output_type": "stream",
     "text": [
      "EarlyStopping counter: 10 out of 100\n"
     ]
    },
    {
     "name": "stderr",
     "output_type": "stream",
     "text": [
      "Classifier Training Epoch:  82%|\u001b[32m████████▏ \u001b[0m| 410/500 [15:28<02:32,  1.69s/it, acc=0.867, loss=0.287]"
     ]
    },
    {
     "name": "stdout",
     "output_type": "stream",
     "text": [
      "EarlyStopping counter: 11 out of 100\n"
     ]
    },
    {
     "name": "stderr",
     "output_type": "stream",
     "text": [
      "Classifier Training Epoch:  82%|\u001b[32m████████▏ \u001b[0m| 411/500 [15:30<02:34,  1.74s/it, acc=0.887, loss=0.253]"
     ]
    },
    {
     "name": "stdout",
     "output_type": "stream",
     "text": [
      "EarlyStopping counter: 12 out of 100\n"
     ]
    },
    {
     "name": "stderr",
     "output_type": "stream",
     "text": [
      "Classifier Training Epoch:  82%|\u001b[32m████████▏ \u001b[0m| 412/500 [15:32<02:36,  1.77s/it, acc=0.871, loss=0.295]"
     ]
    },
    {
     "name": "stdout",
     "output_type": "stream",
     "text": [
      "EarlyStopping counter: 13 out of 100\n"
     ]
    },
    {
     "name": "stderr",
     "output_type": "stream",
     "text": [
      "Classifier Training Epoch:  83%|\u001b[32m████████▎ \u001b[0m| 413/500 [15:34<02:33,  1.77s/it, acc=0.867, loss=0.304]"
     ]
    },
    {
     "name": "stdout",
     "output_type": "stream",
     "text": [
      "EarlyStopping counter: 14 out of 100\n"
     ]
    },
    {
     "name": "stderr",
     "output_type": "stream",
     "text": [
      "Classifier Training Epoch:  83%|\u001b[32m████████▎ \u001b[0m| 414/500 [15:35<02:27,  1.71s/it, acc=0.881, loss=0.257]"
     ]
    },
    {
     "name": "stdout",
     "output_type": "stream",
     "text": [
      "EarlyStopping counter: 15 out of 100\n"
     ]
    },
    {
     "name": "stderr",
     "output_type": "stream",
     "text": [
      "Classifier Training Epoch:  83%|\u001b[32m████████▎ \u001b[0m| 415/500 [15:37<02:25,  1.71s/it, acc=0.861, loss=0.298]"
     ]
    },
    {
     "name": "stdout",
     "output_type": "stream",
     "text": [
      "EarlyStopping counter: 16 out of 100\n"
     ]
    },
    {
     "name": "stderr",
     "output_type": "stream",
     "text": [
      "Classifier Training Epoch:  83%|\u001b[32m████████▎ \u001b[0m| 416/500 [15:38<02:23,  1.71s/it, acc=0.863, loss=0.328]"
     ]
    },
    {
     "name": "stdout",
     "output_type": "stream",
     "text": [
      "EarlyStopping counter: 17 out of 100\n"
     ]
    },
    {
     "name": "stderr",
     "output_type": "stream",
     "text": [
      "Classifier Training Epoch:  83%|\u001b[32m████████▎ \u001b[0m| 417/500 [15:40<02:19,  1.68s/it, acc=0.887, loss=0.274]"
     ]
    },
    {
     "name": "stdout",
     "output_type": "stream",
     "text": [
      "EarlyStopping counter: 18 out of 100\n"
     ]
    },
    {
     "name": "stderr",
     "output_type": "stream",
     "text": [
      "Classifier Training Epoch:  84%|\u001b[32m████████▎ \u001b[0m| 418/500 [15:43<02:18,  1.69s/it, acc=0.873, loss=0.256]"
     ]
    },
    {
     "name": "stdout",
     "output_type": "stream",
     "text": [
      "EarlyStopping counter: 19 out of 100\n"
     ]
    },
    {
     "name": "stderr",
     "output_type": "stream",
     "text": [
      "Classifier Training Epoch:  84%|\u001b[32m████████▍ \u001b[0m| 419/500 [15:48<03:40,  2.72s/it, acc=0.859, loss=0.293]"
     ]
    },
    {
     "name": "stdout",
     "output_type": "stream",
     "text": [
      "EarlyStopping counter: 20 out of 100\n"
     ]
    },
    {
     "name": "stderr",
     "output_type": "stream",
     "text": [
      "Classifier Training Epoch:  84%|\u001b[32m████████▍ \u001b[0m| 420/500 [15:54<04:37,  3.47s/it, acc=0.844, loss=0.351]"
     ]
    },
    {
     "name": "stdout",
     "output_type": "stream",
     "text": [
      "EarlyStopping counter: 21 out of 100\n"
     ]
    },
    {
     "name": "stderr",
     "output_type": "stream",
     "text": [
      "Classifier Training Epoch:  84%|\u001b[32m████████▍ \u001b[0m| 421/500 [15:59<05:27,  4.15s/it, acc=0.865, loss=0.249]"
     ]
    },
    {
     "name": "stdout",
     "output_type": "stream",
     "text": [
      "EarlyStopping counter: 22 out of 100\n"
     ]
    },
    {
     "name": "stderr",
     "output_type": "stream",
     "text": [
      "Classifier Training Epoch:  84%|\u001b[32m████████▍ \u001b[0m| 422/500 [16:04<05:42,  4.39s/it, acc=0.896, loss=0.25] "
     ]
    },
    {
     "name": "stdout",
     "output_type": "stream",
     "text": [
      "EarlyStopping counter: 23 out of 100\n"
     ]
    },
    {
     "name": "stderr",
     "output_type": "stream",
     "text": [
      "Classifier Training Epoch:  85%|\u001b[32m████████▍ \u001b[0m| 423/500 [16:09<05:46,  4.50s/it, acc=0.861, loss=0.3]  "
     ]
    },
    {
     "name": "stdout",
     "output_type": "stream",
     "text": [
      "EarlyStopping counter: 24 out of 100\n"
     ]
    },
    {
     "name": "stderr",
     "output_type": "stream",
     "text": [
      "Classifier Training Epoch:  85%|\u001b[32m████████▍ \u001b[0m| 424/500 [16:13<05:43,  4.52s/it, acc=0.854, loss=0.325]"
     ]
    },
    {
     "name": "stdout",
     "output_type": "stream",
     "text": [
      "EarlyStopping counter: 25 out of 100\n"
     ]
    },
    {
     "name": "stderr",
     "output_type": "stream",
     "text": [
      "Classifier Training Epoch:  85%|\u001b[32m████████▌ \u001b[0m| 425/500 [16:18<05:50,  4.67s/it, acc=0.881, loss=0.252]"
     ]
    },
    {
     "name": "stdout",
     "output_type": "stream",
     "text": [
      "EarlyStopping counter: 26 out of 100\n"
     ]
    },
    {
     "name": "stderr",
     "output_type": "stream",
     "text": [
      "Classifier Training Epoch:  85%|\u001b[32m████████▌ \u001b[0m| 426/500 [16:23<05:43,  4.64s/it, acc=0.893, loss=0.234]"
     ]
    },
    {
     "name": "stdout",
     "output_type": "stream",
     "text": [
      "EarlyStopping counter: 27 out of 100\n"
     ]
    },
    {
     "name": "stderr",
     "output_type": "stream",
     "text": [
      "Classifier Training Epoch:  85%|\u001b[32m████████▌ \u001b[0m| 427/500 [16:27<05:37,  4.62s/it, acc=0.889, loss=0.253]"
     ]
    },
    {
     "name": "stdout",
     "output_type": "stream",
     "text": [
      "EarlyStopping counter: 28 out of 100\n"
     ]
    },
    {
     "name": "stderr",
     "output_type": "stream",
     "text": [
      "Classifier Training Epoch:  86%|\u001b[32m████████▌ \u001b[0m| 428/500 [16:32<05:30,  4.60s/it, acc=0.867, loss=0.317]"
     ]
    },
    {
     "name": "stdout",
     "output_type": "stream",
     "text": [
      "EarlyStopping counter: 29 out of 100\n"
     ]
    },
    {
     "name": "stderr",
     "output_type": "stream",
     "text": [
      "Classifier Training Epoch:  86%|\u001b[32m████████▌ \u001b[0m| 429/500 [16:37<05:37,  4.75s/it, acc=0.893, loss=0.24] "
     ]
    },
    {
     "name": "stdout",
     "output_type": "stream",
     "text": [
      "EarlyStopping counter: 30 out of 100\n"
     ]
    },
    {
     "name": "stderr",
     "output_type": "stream",
     "text": [
      "Classifier Training Epoch:  86%|\u001b[32m████████▌ \u001b[0m| 430/500 [16:40<05:28,  4.70s/it, acc=0.863, loss=0.303]"
     ]
    },
    {
     "name": "stdout",
     "output_type": "stream",
     "text": [
      "EarlyStopping counter: 31 out of 100\n"
     ]
    },
    {
     "name": "stderr",
     "output_type": "stream",
     "text": [
      "Classifier Training Epoch:  86%|\u001b[32m████████▌ \u001b[0m| 431/500 [16:42<04:17,  3.73s/it, acc=0.869, loss=0.343]"
     ]
    },
    {
     "name": "stdout",
     "output_type": "stream",
     "text": [
      "EarlyStopping counter: 32 out of 100\n"
     ]
    },
    {
     "name": "stderr",
     "output_type": "stream",
     "text": [
      "Classifier Training Epoch:  86%|\u001b[32m████████▋ \u001b[0m| 432/500 [16:43<03:25,  3.02s/it, acc=0.869, loss=0.294]"
     ]
    },
    {
     "name": "stdout",
     "output_type": "stream",
     "text": [
      "EarlyStopping counter: 33 out of 100\n"
     ]
    },
    {
     "name": "stderr",
     "output_type": "stream",
     "text": [
      "Classifier Training Epoch:  87%|\u001b[32m████████▋ \u001b[0m| 433/500 [16:44<02:48,  2.52s/it, acc=0.869, loss=0.253]"
     ]
    },
    {
     "name": "stdout",
     "output_type": "stream",
     "text": [
      "EarlyStopping counter: 34 out of 100\n"
     ]
    },
    {
     "name": "stderr",
     "output_type": "stream",
     "text": [
      "Classifier Training Epoch:  87%|\u001b[32m████████▋ \u001b[0m| 434/500 [16:46<02:24,  2.18s/it, acc=0.865, loss=0.335]"
     ]
    },
    {
     "name": "stdout",
     "output_type": "stream",
     "text": [
      "EarlyStopping counter: 35 out of 100\n"
     ]
    },
    {
     "name": "stderr",
     "output_type": "stream",
     "text": [
      "Classifier Training Epoch:  87%|\u001b[32m████████▋ \u001b[0m| 435/500 [16:47<02:06,  1.94s/it, acc=0.854, loss=0.314]"
     ]
    },
    {
     "name": "stdout",
     "output_type": "stream",
     "text": [
      "EarlyStopping counter: 36 out of 100\n"
     ]
    },
    {
     "name": "stderr",
     "output_type": "stream",
     "text": [
      "Classifier Training Epoch:  87%|\u001b[32m████████▋ \u001b[0m| 436/500 [16:48<01:54,  1.80s/it, acc=0.871, loss=0.302]"
     ]
    },
    {
     "name": "stdout",
     "output_type": "stream",
     "text": [
      "EarlyStopping counter: 37 out of 100\n"
     ]
    },
    {
     "name": "stderr",
     "output_type": "stream",
     "text": [
      "Classifier Training Epoch:  87%|\u001b[32m████████▋ \u001b[0m| 437/500 [16:50<01:46,  1.69s/it, acc=0.904, loss=0.254]"
     ]
    },
    {
     "name": "stdout",
     "output_type": "stream",
     "text": [
      "EarlyStopping counter: 38 out of 100\n"
     ]
    },
    {
     "name": "stderr",
     "output_type": "stream",
     "text": [
      "Classifier Training Epoch:  88%|\u001b[32m████████▊ \u001b[0m| 438/500 [16:51<01:38,  1.59s/it, acc=0.848, loss=0.313]"
     ]
    },
    {
     "name": "stdout",
     "output_type": "stream",
     "text": [
      "EarlyStopping counter: 39 out of 100\n"
     ]
    },
    {
     "name": "stderr",
     "output_type": "stream",
     "text": [
      "Classifier Training Epoch:  88%|\u001b[32m████████▊ \u001b[0m| 440/500 [16:54<01:30,  1.51s/it, acc=0.898, loss=0.237]"
     ]
    },
    {
     "name": "stdout",
     "output_type": "stream",
     "text": [
      "EarlyStopping counter: 1 out of 100\n"
     ]
    },
    {
     "name": "stderr",
     "output_type": "stream",
     "text": [
      "Classifier Training Epoch:  90%|\u001b[32m█████████ \u001b[0m| 450/500 [17:10<01:21,  1.63s/it, acc=0.896, loss=0.24] "
     ]
    },
    {
     "name": "stdout",
     "output_type": "stream",
     "text": [
      "EarlyStopping counter: 1 out of 100\n"
     ]
    },
    {
     "name": "stderr",
     "output_type": "stream",
     "text": [
      "Classifier Training Epoch:  90%|\u001b[32m█████████ \u001b[0m| 451/500 [17:12<01:19,  1.63s/it, acc=0.867, loss=0.286]"
     ]
    },
    {
     "name": "stdout",
     "output_type": "stream",
     "text": [
      "EarlyStopping counter: 2 out of 100\n"
     ]
    },
    {
     "name": "stderr",
     "output_type": "stream",
     "text": [
      "Classifier Training Epoch:  90%|\u001b[32m█████████ \u001b[0m| 452/500 [17:13<01:17,  1.61s/it, acc=0.883, loss=0.246]"
     ]
    },
    {
     "name": "stdout",
     "output_type": "stream",
     "text": [
      "EarlyStopping counter: 3 out of 100\n"
     ]
    },
    {
     "name": "stderr",
     "output_type": "stream",
     "text": [
      "Classifier Training Epoch:  91%|\u001b[32m█████████ \u001b[0m| 453/500 [17:15<01:15,  1.61s/it, acc=0.873, loss=0.313]"
     ]
    },
    {
     "name": "stdout",
     "output_type": "stream",
     "text": [
      "EarlyStopping counter: 4 out of 100\n"
     ]
    },
    {
     "name": "stderr",
     "output_type": "stream",
     "text": [
      "Classifier Training Epoch:  91%|\u001b[32m█████████ \u001b[0m| 454/500 [17:16<01:12,  1.58s/it, acc=0.885, loss=0.329]"
     ]
    },
    {
     "name": "stdout",
     "output_type": "stream",
     "text": [
      "EarlyStopping counter: 5 out of 100\n"
     ]
    },
    {
     "name": "stderr",
     "output_type": "stream",
     "text": [
      "Classifier Training Epoch:  91%|\u001b[32m█████████ \u001b[0m| 455/500 [17:18<01:13,  1.62s/it, acc=0.871, loss=0.268]"
     ]
    },
    {
     "name": "stdout",
     "output_type": "stream",
     "text": [
      "EarlyStopping counter: 6 out of 100\n"
     ]
    },
    {
     "name": "stderr",
     "output_type": "stream",
     "text": [
      "Classifier Training Epoch:  91%|\u001b[32m█████████ \u001b[0m| 456/500 [17:19<01:11,  1.62s/it, acc=0.869, loss=0.265]"
     ]
    },
    {
     "name": "stdout",
     "output_type": "stream",
     "text": [
      "EarlyStopping counter: 7 out of 100\n"
     ]
    },
    {
     "name": "stderr",
     "output_type": "stream",
     "text": [
      "Classifier Training Epoch:  91%|\u001b[32m█████████▏\u001b[0m| 457/500 [17:21<01:09,  1.62s/it, acc=0.861, loss=0.306]"
     ]
    },
    {
     "name": "stdout",
     "output_type": "stream",
     "text": [
      "EarlyStopping counter: 8 out of 100\n"
     ]
    },
    {
     "name": "stderr",
     "output_type": "stream",
     "text": [
      "Classifier Training Epoch:  92%|\u001b[32m█████████▏\u001b[0m| 458/500 [17:23<01:07,  1.60s/it, acc=0.84, loss=0.321] "
     ]
    },
    {
     "name": "stdout",
     "output_type": "stream",
     "text": [
      "EarlyStopping counter: 9 out of 100\n"
     ]
    },
    {
     "name": "stderr",
     "output_type": "stream",
     "text": [
      "Classifier Training Epoch:  92%|\u001b[32m█████████▏\u001b[0m| 459/500 [17:24<01:06,  1.62s/it, acc=0.852, loss=0.353]"
     ]
    },
    {
     "name": "stdout",
     "output_type": "stream",
     "text": [
      "EarlyStopping counter: 10 out of 100\n"
     ]
    },
    {
     "name": "stderr",
     "output_type": "stream",
     "text": [
      "Classifier Training Epoch:  92%|\u001b[32m█████████▏\u001b[0m| 460/500 [17:26<01:05,  1.63s/it, acc=0.869, loss=0.261]"
     ]
    },
    {
     "name": "stdout",
     "output_type": "stream",
     "text": [
      "EarlyStopping counter: 11 out of 100\n"
     ]
    },
    {
     "name": "stderr",
     "output_type": "stream",
     "text": [
      "Classifier Training Epoch:  92%|\u001b[32m█████████▏\u001b[0m| 461/500 [17:27<01:02,  1.59s/it, acc=0.857, loss=0.305]"
     ]
    },
    {
     "name": "stdout",
     "output_type": "stream",
     "text": [
      "EarlyStopping counter: 12 out of 100\n"
     ]
    },
    {
     "name": "stderr",
     "output_type": "stream",
     "text": [
      "Classifier Training Epoch:  92%|\u001b[32m█████████▏\u001b[0m| 462/500 [17:29<01:01,  1.62s/it, acc=0.895, loss=0.254]"
     ]
    },
    {
     "name": "stdout",
     "output_type": "stream",
     "text": [
      "EarlyStopping counter: 13 out of 100\n"
     ]
    },
    {
     "name": "stderr",
     "output_type": "stream",
     "text": [
      "Classifier Training Epoch:  93%|\u001b[32m█████████▎\u001b[0m| 463/500 [17:31<01:00,  1.64s/it, acc=0.887, loss=0.236]"
     ]
    },
    {
     "name": "stdout",
     "output_type": "stream",
     "text": [
      "EarlyStopping counter: 14 out of 100\n"
     ]
    },
    {
     "name": "stderr",
     "output_type": "stream",
     "text": [
      "Classifier Training Epoch:  93%|\u001b[32m█████████▎\u001b[0m| 464/500 [17:35<01:00,  1.68s/it, acc=0.895, loss=0.242]"
     ]
    },
    {
     "name": "stdout",
     "output_type": "stream",
     "text": [
      "EarlyStopping counter: 15 out of 100\n"
     ]
    },
    {
     "name": "stderr",
     "output_type": "stream",
     "text": [
      "Classifier Training Epoch:  93%|\u001b[32m█████████▎\u001b[0m| 465/500 [17:41<01:50,  3.15s/it, acc=0.859, loss=0.309]"
     ]
    },
    {
     "name": "stdout",
     "output_type": "stream",
     "text": [
      "EarlyStopping counter: 16 out of 100\n"
     ]
    },
    {
     "name": "stderr",
     "output_type": "stream",
     "text": [
      "Classifier Training Epoch:  93%|\u001b[32m█████████▎\u001b[0m| 466/500 [17:47<02:16,  4.01s/it, acc=0.875, loss=0.266]"
     ]
    },
    {
     "name": "stdout",
     "output_type": "stream",
     "text": [
      "EarlyStopping counter: 17 out of 100\n"
     ]
    },
    {
     "name": "stderr",
     "output_type": "stream",
     "text": [
      "Classifier Training Epoch:  93%|\u001b[32m█████████▎\u001b[0m| 467/500 [17:53<02:28,  4.49s/it, acc=0.857, loss=0.309]"
     ]
    },
    {
     "name": "stdout",
     "output_type": "stream",
     "text": [
      "EarlyStopping counter: 18 out of 100\n"
     ]
    },
    {
     "name": "stderr",
     "output_type": "stream",
     "text": [
      "Classifier Training Epoch:  94%|\u001b[32m█████████▎\u001b[0m| 468/500 [17:58<02:33,  4.78s/it, acc=0.875, loss=0.27] "
     ]
    },
    {
     "name": "stdout",
     "output_type": "stream",
     "text": [
      "EarlyStopping counter: 19 out of 100\n"
     ]
    },
    {
     "name": "stderr",
     "output_type": "stream",
     "text": [
      "Classifier Training Epoch:  94%|\u001b[32m█████████▍\u001b[0m| 469/500 [18:03<02:33,  4.94s/it, acc=0.855, loss=0.33] "
     ]
    },
    {
     "name": "stdout",
     "output_type": "stream",
     "text": [
      "EarlyStopping counter: 20 out of 100\n"
     ]
    },
    {
     "name": "stderr",
     "output_type": "stream",
     "text": [
      "Classifier Training Epoch:  94%|\u001b[32m█████████▍\u001b[0m| 470/500 [18:07<02:25,  4.86s/it, acc=0.896, loss=0.234]"
     ]
    },
    {
     "name": "stdout",
     "output_type": "stream",
     "text": [
      "EarlyStopping counter: 21 out of 100\n"
     ]
    },
    {
     "name": "stderr",
     "output_type": "stream",
     "text": [
      "Classifier Training Epoch:  94%|\u001b[32m█████████▍\u001b[0m| 471/500 [18:12<02:19,  4.81s/it, acc=0.875, loss=0.292]"
     ]
    },
    {
     "name": "stdout",
     "output_type": "stream",
     "text": [
      "EarlyStopping counter: 22 out of 100\n"
     ]
    },
    {
     "name": "stderr",
     "output_type": "stream",
     "text": [
      "Classifier Training Epoch:  94%|\u001b[32m█████████▍\u001b[0m| 472/500 [18:15<02:13,  4.75s/it, acc=0.883, loss=0.276]"
     ]
    },
    {
     "name": "stdout",
     "output_type": "stream",
     "text": [
      "EarlyStopping counter: 23 out of 100\n"
     ]
    },
    {
     "name": "stderr",
     "output_type": "stream",
     "text": [
      "Classifier Training Epoch:  95%|\u001b[32m█████████▍\u001b[0m| 473/500 [18:17<01:41,  3.75s/it, acc=0.883, loss=0.273]"
     ]
    },
    {
     "name": "stdout",
     "output_type": "stream",
     "text": [
      "EarlyStopping counter: 24 out of 100\n"
     ]
    },
    {
     "name": "stderr",
     "output_type": "stream",
     "text": [
      "Classifier Training Epoch:  95%|\u001b[32m█████████▍\u001b[0m| 474/500 [18:18<01:19,  3.07s/it, acc=0.891, loss=0.242]"
     ]
    },
    {
     "name": "stdout",
     "output_type": "stream",
     "text": [
      "EarlyStopping counter: 25 out of 100\n"
     ]
    },
    {
     "name": "stderr",
     "output_type": "stream",
     "text": [
      "Classifier Training Epoch:  95%|\u001b[32m█████████▌\u001b[0m| 475/500 [18:20<01:04,  2.58s/it, acc=0.898, loss=0.249]"
     ]
    },
    {
     "name": "stdout",
     "output_type": "stream",
     "text": [
      "EarlyStopping counter: 26 out of 100\n"
     ]
    },
    {
     "name": "stderr",
     "output_type": "stream",
     "text": [
      "Classifier Training Epoch:  95%|\u001b[32m█████████▌\u001b[0m| 476/500 [18:21<00:53,  2.24s/it, acc=0.895, loss=0.256]"
     ]
    },
    {
     "name": "stdout",
     "output_type": "stream",
     "text": [
      "EarlyStopping counter: 27 out of 100\n"
     ]
    },
    {
     "name": "stderr",
     "output_type": "stream",
     "text": [
      "Classifier Training Epoch:  95%|\u001b[32m█████████▌\u001b[0m| 477/500 [18:22<00:45,  1.98s/it, acc=0.881, loss=0.284]"
     ]
    },
    {
     "name": "stdout",
     "output_type": "stream",
     "text": [
      "EarlyStopping counter: 28 out of 100\n"
     ]
    },
    {
     "name": "stderr",
     "output_type": "stream",
     "text": [
      "Classifier Training Epoch:  96%|\u001b[32m█████████▌\u001b[0m| 478/500 [18:24<00:40,  1.82s/it, acc=0.891, loss=0.252]"
     ]
    },
    {
     "name": "stdout",
     "output_type": "stream",
     "text": [
      "EarlyStopping counter: 29 out of 100\n"
     ]
    },
    {
     "name": "stderr",
     "output_type": "stream",
     "text": [
      "Classifier Training Epoch:  96%|\u001b[32m█████████▌\u001b[0m| 479/500 [18:25<00:35,  1.69s/it, acc=0.889, loss=0.254]"
     ]
    },
    {
     "name": "stdout",
     "output_type": "stream",
     "text": [
      "EarlyStopping counter: 30 out of 100\n"
     ]
    },
    {
     "name": "stderr",
     "output_type": "stream",
     "text": [
      "Classifier Training Epoch:  96%|\u001b[32m█████████▌\u001b[0m| 480/500 [18:26<00:32,  1.61s/it, acc=0.879, loss=0.282]"
     ]
    },
    {
     "name": "stdout",
     "output_type": "stream",
     "text": [
      "EarlyStopping counter: 31 out of 100\n"
     ]
    },
    {
     "name": "stderr",
     "output_type": "stream",
     "text": [
      "Classifier Training Epoch:  96%|\u001b[32m█████████▌\u001b[0m| 481/500 [18:28<00:29,  1.56s/it, acc=0.863, loss=0.319]"
     ]
    },
    {
     "name": "stdout",
     "output_type": "stream",
     "text": [
      "EarlyStopping counter: 32 out of 100\n"
     ]
    },
    {
     "name": "stderr",
     "output_type": "stream",
     "text": [
      "Classifier Training Epoch:  96%|\u001b[32m█████████▋\u001b[0m| 482/500 [18:29<00:27,  1.50s/it, acc=0.842, loss=0.329]"
     ]
    },
    {
     "name": "stdout",
     "output_type": "stream",
     "text": [
      "EarlyStopping counter: 33 out of 100\n"
     ]
    },
    {
     "name": "stderr",
     "output_type": "stream",
     "text": [
      "Classifier Training Epoch:  97%|\u001b[32m█████████▋\u001b[0m| 483/500 [18:31<00:25,  1.49s/it, acc=0.9, loss=0.254]  "
     ]
    },
    {
     "name": "stdout",
     "output_type": "stream",
     "text": [
      "EarlyStopping counter: 34 out of 100\n"
     ]
    },
    {
     "name": "stderr",
     "output_type": "stream",
     "text": [
      "Classifier Training Epoch:  97%|\u001b[32m█████████▋\u001b[0m| 484/500 [18:33<00:24,  1.51s/it, acc=0.861, loss=0.297]"
     ]
    },
    {
     "name": "stdout",
     "output_type": "stream",
     "text": [
      "EarlyStopping counter: 35 out of 100\n"
     ]
    },
    {
     "name": "stderr",
     "output_type": "stream",
     "text": [
      "Classifier Training Epoch:  97%|\u001b[32m█████████▋\u001b[0m| 485/500 [18:37<00:35,  2.36s/it, acc=0.91, loss=0.234] "
     ]
    },
    {
     "name": "stdout",
     "output_type": "stream",
     "text": [
      "EarlyStopping counter: 36 out of 100\n"
     ]
    },
    {
     "name": "stderr",
     "output_type": "stream",
     "text": [
      "Classifier Training Epoch:  97%|\u001b[32m█████████▋\u001b[0m| 486/500 [18:42<00:43,  3.09s/it, acc=0.873, loss=0.261]"
     ]
    },
    {
     "name": "stdout",
     "output_type": "stream",
     "text": [
      "EarlyStopping counter: 37 out of 100\n"
     ]
    },
    {
     "name": "stderr",
     "output_type": "stream",
     "text": [
      "Classifier Training Epoch:  97%|\u001b[32m█████████▋\u001b[0m| 487/500 [18:46<00:47,  3.66s/it, acc=0.885, loss=0.248]"
     ]
    },
    {
     "name": "stdout",
     "output_type": "stream",
     "text": [
      "EarlyStopping counter: 38 out of 100\n"
     ]
    },
    {
     "name": "stderr",
     "output_type": "stream",
     "text": [
      "Classifier Training Epoch:  98%|\u001b[32m█████████▊\u001b[0m| 488/500 [18:48<00:36,  3.03s/it, acc=0.873, loss=0.293]"
     ]
    },
    {
     "name": "stdout",
     "output_type": "stream",
     "text": [
      "EarlyStopping counter: 39 out of 100\n"
     ]
    },
    {
     "name": "stderr",
     "output_type": "stream",
     "text": [
      "Classifier Training Epoch:  98%|\u001b[32m█████████▊\u001b[0m| 489/500 [18:49<00:28,  2.57s/it, acc=0.855, loss=0.279]"
     ]
    },
    {
     "name": "stdout",
     "output_type": "stream",
     "text": [
      "EarlyStopping counter: 40 out of 100\n"
     ]
    },
    {
     "name": "stderr",
     "output_type": "stream",
     "text": [
      "Classifier Training Epoch:  98%|\u001b[32m█████████▊\u001b[0m| 490/500 [18:51<00:22,  2.23s/it, acc=0.861, loss=0.318]"
     ]
    },
    {
     "name": "stdout",
     "output_type": "stream",
     "text": [
      "EarlyStopping counter: 41 out of 100\n"
     ]
    },
    {
     "name": "stderr",
     "output_type": "stream",
     "text": [
      "Classifier Training Epoch:  98%|\u001b[32m█████████▊\u001b[0m| 491/500 [18:52<00:17,  1.96s/it, acc=0.865, loss=0.304]"
     ]
    },
    {
     "name": "stdout",
     "output_type": "stream",
     "text": [
      "EarlyStopping counter: 42 out of 100\n"
     ]
    },
    {
     "name": "stderr",
     "output_type": "stream",
     "text": [
      "Classifier Training Epoch:  98%|\u001b[32m█████████▊\u001b[0m| 492/500 [18:54<00:14,  1.81s/it, acc=0.863, loss=0.309]"
     ]
    },
    {
     "name": "stdout",
     "output_type": "stream",
     "text": [
      "EarlyStopping counter: 43 out of 100\n"
     ]
    },
    {
     "name": "stderr",
     "output_type": "stream",
     "text": [
      "Classifier Training Epoch:  99%|\u001b[32m█████████▊\u001b[0m| 493/500 [18:55<00:11,  1.70s/it, acc=0.898, loss=0.266]"
     ]
    },
    {
     "name": "stdout",
     "output_type": "stream",
     "text": [
      "EarlyStopping counter: 44 out of 100\n"
     ]
    },
    {
     "name": "stderr",
     "output_type": "stream",
     "text": [
      "Classifier Training Epoch:  99%|\u001b[32m█████████▉\u001b[0m| 494/500 [18:56<00:09,  1.62s/it, acc=0.885, loss=0.261]"
     ]
    },
    {
     "name": "stdout",
     "output_type": "stream",
     "text": [
      "EarlyStopping counter: 45 out of 100\n"
     ]
    },
    {
     "name": "stderr",
     "output_type": "stream",
     "text": [
      "Classifier Training Epoch:  99%|\u001b[32m█████████▉\u001b[0m| 495/500 [18:58<00:08,  1.62s/it, acc=0.9, loss=0.225]  "
     ]
    },
    {
     "name": "stdout",
     "output_type": "stream",
     "text": [
      "EarlyStopping counter: 46 out of 100\n"
     ]
    },
    {
     "name": "stderr",
     "output_type": "stream",
     "text": [
      "Classifier Training Epoch:  99%|\u001b[32m█████████▉\u001b[0m| 496/500 [18:59<00:06,  1.57s/it, acc=0.854, loss=0.295]"
     ]
    },
    {
     "name": "stdout",
     "output_type": "stream",
     "text": [
      "EarlyStopping counter: 47 out of 100\n"
     ]
    },
    {
     "name": "stderr",
     "output_type": "stream",
     "text": [
      "Classifier Training Epoch:  99%|\u001b[32m█████████▉\u001b[0m| 497/500 [19:01<00:04,  1.57s/it, acc=0.898, loss=0.252]"
     ]
    },
    {
     "name": "stdout",
     "output_type": "stream",
     "text": [
      "EarlyStopping counter: 48 out of 100\n"
     ]
    },
    {
     "name": "stderr",
     "output_type": "stream",
     "text": [
      "Classifier Training Epoch: 100%|\u001b[32m█████████▉\u001b[0m| 498/500 [19:02<00:03,  1.54s/it, acc=0.85, loss=0.31]  "
     ]
    },
    {
     "name": "stdout",
     "output_type": "stream",
     "text": [
      "EarlyStopping counter: 49 out of 100\n"
     ]
    },
    {
     "name": "stderr",
     "output_type": "stream",
     "text": [
      "Classifier Training Epoch: 100%|\u001b[32m█████████▉\u001b[0m| 499/500 [19:04<00:01,  1.59s/it, acc=0.865, loss=0.277]"
     ]
    },
    {
     "name": "stdout",
     "output_type": "stream",
     "text": [
      "EarlyStopping counter: 50 out of 100\n"
     ]
    },
    {
     "name": "stderr",
     "output_type": "stream",
     "text": [
      "Classifier Training Epoch: 100%|\u001b[32m█████████▉\u001b[0m| 499/500 [19:05<00:01,  1.59s/it, acc=0.915, loss=0.205]"
     ]
    },
    {
     "name": "stdout",
     "output_type": "stream",
     "text": [
      "EarlyStopping counter: 51 out of 100\n"
     ]
    },
    {
     "name": "stderr",
     "output_type": "stream",
     "text": [
      "Classifier Training Epoch: 100%|\u001b[32m██████████\u001b[0m| 500/500 [19:06<00:00,  2.29s/it, acc=0.915, loss=0.205]\n"
     ]
    },
    {
     "name": "stdout",
     "output_type": "stream",
     "text": [
      "========== after train(without debiasing) ==========\n",
      "========== Results on train ==========\n",
      "Grp. 0 - #instance: 8460; #pos. pred: 859; Acc.: 0.963475\n",
      "Grp. 1 - #instance: 17589; #pos. pred: 4987; Acc.: 0.880323\n",
      "Overall acc.: 0.907328; Demographic parity: 0.181993; Equal opportunity: -0.026069; Average odds difference: 0.029553\n",
      "========== Results on test ==========\n",
      "Grp. 0 - #instance: 4147; #pos. pred: 424; Acc.: 0.920666\n",
      "Grp. 1 - #instance: 8514; #pos. pred: 2316; Acc.: 0.805614\n",
      "Overall acc.: 0.843298; Demographic parity: 0.169780; Equal opportunity: 0.025386; Average odds difference: 0.032782\n",
      "\n",
      "========== Starting Training with Mitigation... ==========\n"
     ]
    },
    {
     "name": "stderr",
     "output_type": "stream",
     "text": [
      "Adversarial Debiasing Training Epoch:   3%|\u001b[32m▎         \u001b[0m| 15/500 [00:38<18:10,  2.25s/it, accADV=0.609, accCLF=0.789, lossADV=0.655, lossCLF=3.62]"
     ]
    },
    {
     "name": "stdout",
     "output_type": "stream",
     "text": [
      "EarlyStopping counter: 1 out of 100\n"
     ]
    },
    {
     "name": "stderr",
     "output_type": "stream",
     "text": [
      "Adversarial Debiasing Training Epoch:   4%|\u001b[32m▍         \u001b[0m| 21/500 [00:50<16:36,  2.08s/it, accADV=0.711, accCLF=0.799, lossADV=0.596, lossCLF=3.37] "
     ]
    },
    {
     "name": "stdout",
     "output_type": "stream",
     "text": [
      "EarlyStopping counter: 1 out of 100\n"
     ]
    },
    {
     "name": "stderr",
     "output_type": "stream",
     "text": [
      "Adversarial Debiasing Training Epoch:   5%|\u001b[32m▌         \u001b[0m| 26/500 [01:00<16:17,  2.06s/it, accADV=0.654, accCLF=0.797, lossADV=0.63, lossCLF=2.6]   "
     ]
    },
    {
     "name": "stdout",
     "output_type": "stream",
     "text": [
      "EarlyStopping counter: 1 out of 100\n"
     ]
    },
    {
     "name": "stderr",
     "output_type": "stream",
     "text": [
      "Adversarial Debiasing Training Epoch:   5%|\u001b[32m▌         \u001b[0m| 27/500 [01:02<16:12,  2.06s/it, accADV=0.672, accCLF=0.779, lossADV=0.62, lossCLF=3.2]   "
     ]
    },
    {
     "name": "stdout",
     "output_type": "stream",
     "text": [
      "EarlyStopping counter: 2 out of 100\n"
     ]
    },
    {
     "name": "stderr",
     "output_type": "stream",
     "text": [
      "Adversarial Debiasing Training Epoch:   6%|\u001b[32m▌         \u001b[0m| 29/500 [01:09<18:06,  2.31s/it, accADV=0.658, accCLF=0.822, lossADV=0.618, lossCLF=2.3]  "
     ]
    },
    {
     "name": "stdout",
     "output_type": "stream",
     "text": [
      "EarlyStopping counter: 1 out of 100\n"
     ]
    },
    {
     "name": "stderr",
     "output_type": "stream",
     "text": [
      "Adversarial Debiasing Training Epoch:   7%|\u001b[32m▋         \u001b[0m| 33/500 [01:33<41:11,  5.29s/it, accADV=0.678, accCLF=0.762, lossADV=0.62, lossCLF=2.88]  "
     ]
    },
    {
     "name": "stdout",
     "output_type": "stream",
     "text": [
      "EarlyStopping counter: 1 out of 100\n"
     ]
    },
    {
     "name": "stderr",
     "output_type": "stream",
     "text": [
      "Adversarial Debiasing Training Epoch:   7%|\u001b[32m▋         \u001b[0m| 34/500 [01:40<44:21,  5.71s/it, accADV=0.688, accCLF=0.795, lossADV=0.596, lossCLF=2.3]  "
     ]
    },
    {
     "name": "stdout",
     "output_type": "stream",
     "text": [
      "EarlyStopping counter: 2 out of 100\n"
     ]
    },
    {
     "name": "stderr",
     "output_type": "stream",
     "text": [
      "Adversarial Debiasing Training Epoch:   7%|\u001b[32m▋         \u001b[0m| 36/500 [01:52<45:20,  5.86s/it, accADV=0.67, accCLF=0.771, lossADV=0.622, lossCLF=2.99]  "
     ]
    },
    {
     "name": "stdout",
     "output_type": "stream",
     "text": [
      "EarlyStopping counter: 1 out of 100\n"
     ]
    },
    {
     "name": "stderr",
     "output_type": "stream",
     "text": [
      "Adversarial Debiasing Training Epoch:   7%|\u001b[32m▋         \u001b[0m| 37/500 [02:01<52:10,  6.76s/it, accADV=0.701, accCLF=0.758, lossADV=0.604, lossCLF=3]    "
     ]
    },
    {
     "name": "stdout",
     "output_type": "stream",
     "text": [
      "EarlyStopping counter: 2 out of 100\n"
     ]
    },
    {
     "name": "stderr",
     "output_type": "stream",
     "text": [
      "Adversarial Debiasing Training Epoch:   8%|\u001b[32m▊         \u001b[0m| 41/500 [02:10<25:17,  3.31s/it, accADV=0.699, accCLF=0.76, lossADV=0.607, lossCLF=3.28]  "
     ]
    },
    {
     "name": "stdout",
     "output_type": "stream",
     "text": [
      "EarlyStopping counter: 1 out of 100\n"
     ]
    },
    {
     "name": "stderr",
     "output_type": "stream",
     "text": [
      "Adversarial Debiasing Training Epoch:   8%|\u001b[32m▊         \u001b[0m| 42/500 [02:12<21:49,  2.86s/it, accADV=0.654, accCLF=0.781, lossADV=0.625, lossCLF=2.84] "
     ]
    },
    {
     "name": "stdout",
     "output_type": "stream",
     "text": [
      "EarlyStopping counter: 2 out of 100\n"
     ]
    },
    {
     "name": "stderr",
     "output_type": "stream",
     "text": [
      "Adversarial Debiasing Training Epoch:   9%|\u001b[32m▊         \u001b[0m| 43/500 [02:14<19:02,  2.50s/it, accADV=0.676, accCLF=0.74, lossADV=0.616, lossCLF=3.1]   "
     ]
    },
    {
     "name": "stdout",
     "output_type": "stream",
     "text": [
      "EarlyStopping counter: 3 out of 100\n"
     ]
    },
    {
     "name": "stderr",
     "output_type": "stream",
     "text": [
      "Adversarial Debiasing Training Epoch:  10%|\u001b[32m█         \u001b[0m| 50/500 [02:28<14:49,  1.98s/it, accADV=0.662, accCLF=0.812, lossADV=0.61, lossCLF=2.02]  "
     ]
    },
    {
     "name": "stdout",
     "output_type": "stream",
     "text": [
      "EarlyStopping counter: 1 out of 100\n"
     ]
    },
    {
     "name": "stderr",
     "output_type": "stream",
     "text": [
      "Adversarial Debiasing Training Epoch:  10%|\u001b[32m█         \u001b[0m| 51/500 [02:29<14:36,  1.95s/it, accADV=0.695, accCLF=0.82, lossADV=0.612, lossCLF=1.74]  "
     ]
    },
    {
     "name": "stdout",
     "output_type": "stream",
     "text": [
      "EarlyStopping counter: 2 out of 100\n"
     ]
    },
    {
     "name": "stderr",
     "output_type": "stream",
     "text": [
      "Adversarial Debiasing Training Epoch:  10%|\u001b[32m█         \u001b[0m| 52/500 [02:31<14:26,  1.93s/it, accADV=0.693, accCLF=0.822, lossADV=0.609, lossCLF=1.76]"
     ]
    },
    {
     "name": "stdout",
     "output_type": "stream",
     "text": [
      "EarlyStopping counter: 3 out of 100\n"
     ]
    },
    {
     "name": "stderr",
     "output_type": "stream",
     "text": [
      "Adversarial Debiasing Training Epoch:  11%|\u001b[32m█         \u001b[0m| 53/500 [02:33<14:19,  1.92s/it, accADV=0.68, accCLF=0.805, lossADV=0.598, lossCLF=2.07]  "
     ]
    },
    {
     "name": "stdout",
     "output_type": "stream",
     "text": [
      "EarlyStopping counter: 4 out of 100\n"
     ]
    },
    {
     "name": "stderr",
     "output_type": "stream",
     "text": [
      "Adversarial Debiasing Training Epoch:  11%|\u001b[32m█         \u001b[0m| 54/500 [02:35<14:22,  1.93s/it, accADV=0.674, accCLF=0.811, lossADV=0.611, lossCLF=1.86] "
     ]
    },
    {
     "name": "stdout",
     "output_type": "stream",
     "text": [
      "EarlyStopping counter: 5 out of 100\n"
     ]
    },
    {
     "name": "stderr",
     "output_type": "stream",
     "text": [
      "Adversarial Debiasing Training Epoch:  11%|\u001b[32m█         \u001b[0m| 55/500 [02:37<14:33,  1.96s/it, accADV=0.699, accCLF=0.787, lossADV=0.587, lossCLF=2.19] "
     ]
    },
    {
     "name": "stdout",
     "output_type": "stream",
     "text": [
      "EarlyStopping counter: 6 out of 100\n"
     ]
    },
    {
     "name": "stderr",
     "output_type": "stream",
     "text": [
      "Adversarial Debiasing Training Epoch:  11%|\u001b[32m█         \u001b[0m| 56/500 [02:39<14:33,  1.97s/it, accADV=0.646, accCLF=0.828, lossADV=0.634, lossCLF=1.41] "
     ]
    },
    {
     "name": "stdout",
     "output_type": "stream",
     "text": [
      "EarlyStopping counter: 7 out of 100\n"
     ]
    },
    {
     "name": "stderr",
     "output_type": "stream",
     "text": [
      "Adversarial Debiasing Training Epoch:  11%|\u001b[32m█▏        \u001b[0m| 57/500 [02:41<14:26,  1.95s/it, accADV=0.703, accCLF=0.82, lossADV=0.583, lossCLF=1.59]  "
     ]
    },
    {
     "name": "stdout",
     "output_type": "stream",
     "text": [
      "EarlyStopping counter: 8 out of 100\n"
     ]
    },
    {
     "name": "stderr",
     "output_type": "stream",
     "text": [
      "Adversarial Debiasing Training Epoch:  12%|\u001b[32m█▏        \u001b[0m| 58/500 [02:43<14:36,  1.98s/it, accADV=0.658, accCLF=0.82, lossADV=0.624, lossCLF=1.4]   "
     ]
    },
    {
     "name": "stdout",
     "output_type": "stream",
     "text": [
      "EarlyStopping counter: 9 out of 100\n"
     ]
    },
    {
     "name": "stderr",
     "output_type": "stream",
     "text": [
      "Adversarial Debiasing Training Epoch:  12%|\u001b[32m█▏        \u001b[0m| 59/500 [02:45<14:51,  2.02s/it, accADV=0.703, accCLF=0.777, lossADV=0.61, lossCLF=2.23]  "
     ]
    },
    {
     "name": "stdout",
     "output_type": "stream",
     "text": [
      "EarlyStopping counter: 10 out of 100\n"
     ]
    },
    {
     "name": "stderr",
     "output_type": "stream",
     "text": [
      "Adversarial Debiasing Training Epoch:  12%|\u001b[32m█▏        \u001b[0m| 60/500 [02:47<14:40,  2.00s/it, accADV=0.707, accCLF=0.797, lossADV=0.583, lossCLF=1.99] "
     ]
    },
    {
     "name": "stdout",
     "output_type": "stream",
     "text": [
      "EarlyStopping counter: 11 out of 100\n"
     ]
    },
    {
     "name": "stderr",
     "output_type": "stream",
     "text": [
      "Adversarial Debiasing Training Epoch:  12%|\u001b[32m█▏        \u001b[0m| 61/500 [02:49<14:37,  2.00s/it, accADV=0.709, accCLF=0.783, lossADV=0.583, lossCLF=1.84] "
     ]
    },
    {
     "name": "stdout",
     "output_type": "stream",
     "text": [
      "EarlyStopping counter: 12 out of 100\n"
     ]
    },
    {
     "name": "stderr",
     "output_type": "stream",
     "text": [
      "Adversarial Debiasing Training Epoch:  12%|\u001b[32m█▏        \u001b[0m| 62/500 [02:51<14:38,  2.01s/it, accADV=0.686, accCLF=0.834, lossADV=0.591, lossCLF=1.49] "
     ]
    },
    {
     "name": "stdout",
     "output_type": "stream",
     "text": [
      "EarlyStopping counter: 13 out of 100\n"
     ]
    },
    {
     "name": "stderr",
     "output_type": "stream",
     "text": [
      "Adversarial Debiasing Training Epoch:  13%|\u001b[32m█▎        \u001b[0m| 63/500 [02:53<14:37,  2.01s/it, accADV=0.686, accCLF=0.82, lossADV=0.6, lossCLF=1.46]    "
     ]
    },
    {
     "name": "stdout",
     "output_type": "stream",
     "text": [
      "EarlyStopping counter: 14 out of 100\n"
     ]
    },
    {
     "name": "stderr",
     "output_type": "stream",
     "text": [
      "Adversarial Debiasing Training Epoch:  13%|\u001b[32m█▎        \u001b[0m| 64/500 [02:55<15:00,  2.07s/it, accADV=0.652, accCLF=0.795, lossADV=0.621, lossCLF=1.7]  "
     ]
    },
    {
     "name": "stdout",
     "output_type": "stream",
     "text": [
      "EarlyStopping counter: 15 out of 100\n"
     ]
    },
    {
     "name": "stderr",
     "output_type": "stream",
     "text": [
      "Adversarial Debiasing Training Epoch:  13%|\u001b[32m█▎        \u001b[0m| 65/500 [03:01<16:53,  2.33s/it, accADV=0.664, accCLF=0.814, lossADV=0.61, lossCLF=1.63]  "
     ]
    },
    {
     "name": "stdout",
     "output_type": "stream",
     "text": [
      "EarlyStopping counter: 16 out of 100\n"
     ]
    },
    {
     "name": "stderr",
     "output_type": "stream",
     "text": [
      "Adversarial Debiasing Training Epoch:  13%|\u001b[32m█▎        \u001b[0m| 66/500 [03:07<27:30,  3.80s/it, accADV=0.662, accCLF=0.816, lossADV=0.62, lossCLF=1.26]  "
     ]
    },
    {
     "name": "stdout",
     "output_type": "stream",
     "text": [
      "EarlyStopping counter: 17 out of 100\n"
     ]
    },
    {
     "name": "stderr",
     "output_type": "stream",
     "text": [
      "Adversarial Debiasing Training Epoch:  13%|\u001b[32m█▎        \u001b[0m| 67/500 [03:14<32:25,  4.49s/it, accADV=0.652, accCLF=0.82, lossADV=0.616, lossCLF=1.79]  "
     ]
    },
    {
     "name": "stdout",
     "output_type": "stream",
     "text": [
      "EarlyStopping counter: 18 out of 100\n"
     ]
    },
    {
     "name": "stderr",
     "output_type": "stream",
     "text": [
      "Adversarial Debiasing Training Epoch:  14%|\u001b[32m█▎        \u001b[0m| 68/500 [03:19<36:33,  5.08s/it, accADV=0.703, accCLF=0.805, lossADV=0.584, lossCLF=1.64] "
     ]
    },
    {
     "name": "stdout",
     "output_type": "stream",
     "text": [
      "EarlyStopping counter: 19 out of 100\n"
     ]
    },
    {
     "name": "stderr",
     "output_type": "stream",
     "text": [
      "Adversarial Debiasing Training Epoch:  14%|\u001b[32m█▍        \u001b[0m| 69/500 [03:25<37:47,  5.26s/it, accADV=0.666, accCLF=0.801, lossADV=0.608, lossCLF=1.85] "
     ]
    },
    {
     "name": "stdout",
     "output_type": "stream",
     "text": [
      "EarlyStopping counter: 20 out of 100\n"
     ]
    },
    {
     "name": "stderr",
     "output_type": "stream",
     "text": [
      "Adversarial Debiasing Training Epoch:  14%|\u001b[32m█▍        \u001b[0m| 70/500 [03:31<38:19,  5.35s/it, accADV=0.693, accCLF=0.807, lossADV=0.584, lossCLF=1.33] "
     ]
    },
    {
     "name": "stdout",
     "output_type": "stream",
     "text": [
      "EarlyStopping counter: 21 out of 100\n"
     ]
    },
    {
     "name": "stderr",
     "output_type": "stream",
     "text": [
      "Adversarial Debiasing Training Epoch:  14%|\u001b[32m█▍        \u001b[0m| 71/500 [03:36<38:56,  5.45s/it, accADV=0.682, accCLF=0.803, lossADV=0.606, lossCLF=1.41] "
     ]
    },
    {
     "name": "stdout",
     "output_type": "stream",
     "text": [
      "EarlyStopping counter: 22 out of 100\n"
     ]
    },
    {
     "name": "stderr",
     "output_type": "stream",
     "text": [
      "Adversarial Debiasing Training Epoch:  14%|\u001b[32m█▍        \u001b[0m| 72/500 [03:41<39:24,  5.52s/it, accADV=0.678, accCLF=0.793, lossADV=0.589, lossCLF=1.67] "
     ]
    },
    {
     "name": "stdout",
     "output_type": "stream",
     "text": [
      "EarlyStopping counter: 23 out of 100\n"
     ]
    },
    {
     "name": "stderr",
     "output_type": "stream",
     "text": [
      "Adversarial Debiasing Training Epoch:  15%|\u001b[32m█▍        \u001b[0m| 73/500 [03:42<32:17,  4.54s/it, accADV=0.674, accCLF=0.809, lossADV=0.588, lossCLF=1.5]  "
     ]
    },
    {
     "name": "stdout",
     "output_type": "stream",
     "text": [
      "EarlyStopping counter: 24 out of 100\n"
     ]
    },
    {
     "name": "stderr",
     "output_type": "stream",
     "text": [
      "Adversarial Debiasing Training Epoch:  15%|\u001b[32m█▌        \u001b[0m| 76/500 [03:48<18:59,  2.69s/it, accADV=0.664, accCLF=0.809, lossADV=0.605, lossCLF=1.46] "
     ]
    },
    {
     "name": "stdout",
     "output_type": "stream",
     "text": [
      "EarlyStopping counter: 1 out of 100\n"
     ]
    },
    {
     "name": "stderr",
     "output_type": "stream",
     "text": [
      "Adversarial Debiasing Training Epoch:  16%|\u001b[32m█▌        \u001b[0m| 79/500 [03:53<14:28,  2.06s/it, accADV=0.645, accCLF=0.809, lossADV=0.632, lossCLF=1.37] "
     ]
    },
    {
     "name": "stdout",
     "output_type": "stream",
     "text": [
      "EarlyStopping counter: 1 out of 100\n"
     ]
    },
    {
     "name": "stderr",
     "output_type": "stream",
     "text": [
      "Adversarial Debiasing Training Epoch:  16%|\u001b[32m█▌        \u001b[0m| 81/500 [03:56<13:33,  1.94s/it, accADV=0.693, accCLF=0.807, lossADV=0.593, lossCLF=1.2]  "
     ]
    },
    {
     "name": "stdout",
     "output_type": "stream",
     "text": [
      "EarlyStopping counter: 1 out of 100\n"
     ]
    },
    {
     "name": "stderr",
     "output_type": "stream",
     "text": [
      "Adversarial Debiasing Training Epoch:  16%|\u001b[32m█▋        \u001b[0m| 82/500 [04:03<18:28,  2.65s/it, accADV=0.68, accCLF=0.752, lossADV=0.598, lossCLF=1.47]  "
     ]
    },
    {
     "name": "stdout",
     "output_type": "stream",
     "text": [
      "EarlyStopping counter: 2 out of 100\n"
     ]
    },
    {
     "name": "stderr",
     "output_type": "stream",
     "text": [
      "Adversarial Debiasing Training Epoch:  17%|\u001b[32m█▋        \u001b[0m| 84/500 [04:12<28:17,  4.08s/it, accADV=0.662, accCLF=0.82, lossADV=0.626, lossCLF=1.16]  "
     ]
    },
    {
     "name": "stdout",
     "output_type": "stream",
     "text": [
      "EarlyStopping counter: 1 out of 100\n"
     ]
    },
    {
     "name": "stderr",
     "output_type": "stream",
     "text": [
      "Adversarial Debiasing Training Epoch:  17%|\u001b[32m█▋        \u001b[0m| 86/500 [04:15<19:56,  2.89s/it, accADV=0.635, accCLF=0.793, lossADV=0.647, lossCLF=1.2]  "
     ]
    },
    {
     "name": "stdout",
     "output_type": "stream",
     "text": [
      "EarlyStopping counter: 1 out of 100\n"
     ]
    },
    {
     "name": "stderr",
     "output_type": "stream",
     "text": [
      "Adversarial Debiasing Training Epoch:  18%|\u001b[32m█▊        \u001b[0m| 89/500 [04:21<14:40,  2.14s/it, accADV=0.713, accCLF=0.797, lossADV=0.594, lossCLF=1.05] "
     ]
    },
    {
     "name": "stdout",
     "output_type": "stream",
     "text": [
      "EarlyStopping counter: 1 out of 100\n"
     ]
    },
    {
     "name": "stderr",
     "output_type": "stream",
     "text": [
      "Adversarial Debiasing Training Epoch:  18%|\u001b[32m█▊        \u001b[0m| 90/500 [04:22<13:52,  2.03s/it, accADV=0.73, accCLF=0.777, lossADV=0.585, lossCLF=1.17]  "
     ]
    },
    {
     "name": "stdout",
     "output_type": "stream",
     "text": [
      "EarlyStopping counter: 2 out of 100\n"
     ]
    },
    {
     "name": "stderr",
     "output_type": "stream",
     "text": [
      "Adversarial Debiasing Training Epoch:  20%|\u001b[32m█▉        \u001b[0m| 99/500 [04:40<12:28,  1.87s/it, accADV=0.641, accCLF=0.882, lossADV=0.62, lossCLF=0.249] "
     ]
    },
    {
     "name": "stdout",
     "output_type": "stream",
     "text": [
      "EarlyStopping counter: 1 out of 100\n"
     ]
    },
    {
     "name": "stderr",
     "output_type": "stream",
     "text": [
      "Adversarial Debiasing Training Epoch:  20%|\u001b[32m██        \u001b[0m| 100/500 [04:42<13:39,  2.05s/it, accADV=0.709, accCLF=0.826, lossADV=0.57, lossCLF=0.914] "
     ]
    },
    {
     "name": "stdout",
     "output_type": "stream",
     "text": [
      "EarlyStopping counter: 2 out of 100\n"
     ]
    },
    {
     "name": "stderr",
     "output_type": "stream",
     "text": [
      "Adversarial Debiasing Training Epoch:  20%|\u001b[32m██        \u001b[0m| 101/500 [04:44<13:33,  2.04s/it, accADV=0.666, accCLF=0.818, lossADV=0.6, lossCLF=1]      "
     ]
    },
    {
     "name": "stdout",
     "output_type": "stream",
     "text": [
      "EarlyStopping counter: 3 out of 100\n"
     ]
    },
    {
     "name": "stderr",
     "output_type": "stream",
     "text": [
      "Adversarial Debiasing Training Epoch:  20%|\u001b[32m██        \u001b[0m| 102/500 [04:46<13:24,  2.02s/it, accADV=0.713, accCLF=0.834, lossADV=0.58, lossCLF=0.934] "
     ]
    },
    {
     "name": "stdout",
     "output_type": "stream",
     "text": [
      "EarlyStopping counter: 4 out of 100\n"
     ]
    },
    {
     "name": "stderr",
     "output_type": "stream",
     "text": [
      "Adversarial Debiasing Training Epoch:  21%|\u001b[32m██        \u001b[0m| 103/500 [04:49<13:18,  2.01s/it, accADV=0.68, accCLF=0.814, lossADV=0.594, lossCLF=1.15]  "
     ]
    },
    {
     "name": "stdout",
     "output_type": "stream",
     "text": [
      "EarlyStopping counter: 5 out of 100\n"
     ]
    },
    {
     "name": "stderr",
     "output_type": "stream",
     "text": [
      "Adversarial Debiasing Training Epoch:  21%|\u001b[32m██        \u001b[0m| 104/500 [04:58<18:58,  2.87s/it, accADV=0.705, accCLF=0.801, lossADV=0.554, lossCLF=1.12] "
     ]
    },
    {
     "name": "stdout",
     "output_type": "stream",
     "text": [
      "EarlyStopping counter: 6 out of 100\n"
     ]
    },
    {
     "name": "stderr",
     "output_type": "stream",
     "text": [
      "Adversarial Debiasing Training Epoch:  21%|\u001b[32m██        \u001b[0m| 105/500 [05:02<30:37,  4.65s/it, accADV=0.686, accCLF=0.852, lossADV=0.596, lossCLF=0.7]  "
     ]
    },
    {
     "name": "stdout",
     "output_type": "stream",
     "text": [
      "EarlyStopping counter: 7 out of 100\n"
     ]
    },
    {
     "name": "stderr",
     "output_type": "stream",
     "text": [
      "Adversarial Debiasing Training Epoch:  21%|\u001b[32m██        \u001b[0m| 106/500 [05:04<25:05,  3.82s/it, accADV=0.688, accCLF=0.865, lossADV=0.582, lossCLF=0.578]"
     ]
    },
    {
     "name": "stdout",
     "output_type": "stream",
     "text": [
      "EarlyStopping counter: 8 out of 100\n"
     ]
    },
    {
     "name": "stderr",
     "output_type": "stream",
     "text": [
      "Adversarial Debiasing Training Epoch:  21%|\u001b[32m██▏       \u001b[0m| 107/500 [05:06<21:13,  3.24s/it, accADV=0.668, accCLF=0.793, lossADV=0.615, lossCLF=0.775]"
     ]
    },
    {
     "name": "stdout",
     "output_type": "stream",
     "text": [
      "EarlyStopping counter: 9 out of 100\n"
     ]
    },
    {
     "name": "stderr",
     "output_type": "stream",
     "text": [
      "Adversarial Debiasing Training Epoch:  22%|\u001b[32m██▏       \u001b[0m| 108/500 [05:08<18:58,  2.90s/it, accADV=0.688, accCLF=0.828, lossADV=0.564, lossCLF=0.869]"
     ]
    },
    {
     "name": "stdout",
     "output_type": "stream",
     "text": [
      "EarlyStopping counter: 10 out of 100\n"
     ]
    },
    {
     "name": "stderr",
     "output_type": "stream",
     "text": [
      "Adversarial Debiasing Training Epoch:  22%|\u001b[32m██▏       \u001b[0m| 109/500 [05:10<17:09,  2.63s/it, accADV=0.715, accCLF=0.828, lossADV=0.569, lossCLF=0.763]"
     ]
    },
    {
     "name": "stdout",
     "output_type": "stream",
     "text": [
      "EarlyStopping counter: 11 out of 100\n"
     ]
    },
    {
     "name": "stderr",
     "output_type": "stream",
     "text": [
      "Adversarial Debiasing Training Epoch:  22%|\u001b[32m██▏       \u001b[0m| 110/500 [05:12<16:01,  2.46s/it, accADV=0.684, accCLF=0.836, lossADV=0.584, lossCLF=0.899]"
     ]
    },
    {
     "name": "stdout",
     "output_type": "stream",
     "text": [
      "EarlyStopping counter: 12 out of 100\n"
     ]
    },
    {
     "name": "stderr",
     "output_type": "stream",
     "text": [
      "Adversarial Debiasing Training Epoch:  22%|\u001b[32m██▏       \u001b[0m| 111/500 [05:14<14:56,  2.31s/it, accADV=0.662, accCLF=0.809, lossADV=0.598, lossCLF=0.794]"
     ]
    },
    {
     "name": "stdout",
     "output_type": "stream",
     "text": [
      "EarlyStopping counter: 13 out of 100\n"
     ]
    },
    {
     "name": "stderr",
     "output_type": "stream",
     "text": [
      "Adversarial Debiasing Training Epoch:  22%|\u001b[32m██▏       \u001b[0m| 112/500 [05:15<14:03,  2.17s/it, accADV=0.66, accCLF=0.818, lossADV=0.59, lossCLF=0.821]  "
     ]
    },
    {
     "name": "stdout",
     "output_type": "stream",
     "text": [
      "EarlyStopping counter: 14 out of 100\n"
     ]
    },
    {
     "name": "stderr",
     "output_type": "stream",
     "text": [
      "Adversarial Debiasing Training Epoch:  23%|\u001b[32m██▎       \u001b[0m| 113/500 [05:17<13:33,  2.10s/it, accADV=0.689, accCLF=0.803, lossADV=0.596, lossCLF=1.06] "
     ]
    },
    {
     "name": "stdout",
     "output_type": "stream",
     "text": [
      "EarlyStopping counter: 15 out of 100\n"
     ]
    },
    {
     "name": "stderr",
     "output_type": "stream",
     "text": [
      "Adversarial Debiasing Training Epoch:  23%|\u001b[32m██▎       \u001b[0m| 114/500 [05:23<16:06,  2.50s/it, accADV=0.684, accCLF=0.803, lossADV=0.563, lossCLF=0.949]"
     ]
    },
    {
     "name": "stdout",
     "output_type": "stream",
     "text": [
      "EarlyStopping counter: 16 out of 100\n"
     ]
    },
    {
     "name": "stderr",
     "output_type": "stream",
     "text": [
      "Adversarial Debiasing Training Epoch:  23%|\u001b[32m██▎       \u001b[0m| 115/500 [05:29<23:42,  3.70s/it, accADV=0.662, accCLF=0.805, lossADV=0.567, lossCLF=0.791]"
     ]
    },
    {
     "name": "stdout",
     "output_type": "stream",
     "text": [
      "EarlyStopping counter: 17 out of 100\n"
     ]
    },
    {
     "name": "stderr",
     "output_type": "stream",
     "text": [
      "Adversarial Debiasing Training Epoch:  23%|\u001b[32m██▎       \u001b[0m| 116/500 [05:35<28:23,  4.44s/it, accADV=0.693, accCLF=0.805, lossADV=0.556, lossCLF=1]    "
     ]
    },
    {
     "name": "stdout",
     "output_type": "stream",
     "text": [
      "EarlyStopping counter: 18 out of 100\n"
     ]
    },
    {
     "name": "stderr",
     "output_type": "stream",
     "text": [
      "Adversarial Debiasing Training Epoch:  23%|\u001b[32m██▎       \u001b[0m| 117/500 [05:41<31:19,  4.91s/it, accADV=0.693, accCLF=0.812, lossADV=0.561, lossCLF=0.862]"
     ]
    },
    {
     "name": "stdout",
     "output_type": "stream",
     "text": [
      "EarlyStopping counter: 19 out of 100\n"
     ]
    },
    {
     "name": "stderr",
     "output_type": "stream",
     "text": [
      "Adversarial Debiasing Training Epoch:  24%|\u001b[32m██▎       \u001b[0m| 118/500 [05:47<32:36,  5.12s/it, accADV=0.678, accCLF=0.818, lossADV=0.568, lossCLF=0.774]"
     ]
    },
    {
     "name": "stdout",
     "output_type": "stream",
     "text": [
      "EarlyStopping counter: 20 out of 100\n"
     ]
    },
    {
     "name": "stderr",
     "output_type": "stream",
     "text": [
      "Adversarial Debiasing Training Epoch:  24%|\u001b[32m██▍       \u001b[0m| 119/500 [05:53<33:58,  5.35s/it, accADV=0.693, accCLF=0.816, lossADV=0.571, lossCLF=0.789]"
     ]
    },
    {
     "name": "stdout",
     "output_type": "stream",
     "text": [
      "EarlyStopping counter: 21 out of 100\n"
     ]
    },
    {
     "name": "stderr",
     "output_type": "stream",
     "text": [
      "Adversarial Debiasing Training Epoch:  24%|\u001b[32m██▍       \u001b[0m| 120/500 [06:00<37:32,  5.93s/it, accADV=0.703, accCLF=0.818, lossADV=0.558, lossCLF=0.734]"
     ]
    },
    {
     "name": "stdout",
     "output_type": "stream",
     "text": [
      "EarlyStopping counter: 22 out of 100\n"
     ]
    },
    {
     "name": "stderr",
     "output_type": "stream",
     "text": [
      "Adversarial Debiasing Training Epoch:  24%|\u001b[32m██▍       \u001b[0m| 121/500 [06:04<37:05,  5.87s/it, accADV=0.676, accCLF=0.838, lossADV=0.574, lossCLF=0.571]"
     ]
    },
    {
     "name": "stdout",
     "output_type": "stream",
     "text": [
      "EarlyStopping counter: 23 out of 100\n"
     ]
    },
    {
     "name": "stderr",
     "output_type": "stream",
     "text": [
      "Adversarial Debiasing Training Epoch:  24%|\u001b[32m██▍       \u001b[0m| 122/500 [06:05<29:18,  4.65s/it, accADV=0.678, accCLF=0.82, lossADV=0.539, lossCLF=0.713] "
     ]
    },
    {
     "name": "stdout",
     "output_type": "stream",
     "text": [
      "EarlyStopping counter: 24 out of 100\n"
     ]
    },
    {
     "name": "stderr",
     "output_type": "stream",
     "text": [
      "Adversarial Debiasing Training Epoch:  25%|\u001b[32m██▍       \u001b[0m| 123/500 [06:07<23:47,  3.79s/it, accADV=0.688, accCLF=0.766, lossADV=0.555, lossCLF=0.999]"
     ]
    },
    {
     "name": "stdout",
     "output_type": "stream",
     "text": [
      "EarlyStopping counter: 25 out of 100\n"
     ]
    },
    {
     "name": "stderr",
     "output_type": "stream",
     "text": [
      "Adversarial Debiasing Training Epoch:  25%|\u001b[32m██▍       \u001b[0m| 124/500 [06:09<19:59,  3.19s/it, accADV=0.68, accCLF=0.807, lossADV=0.575, lossCLF=0.679] "
     ]
    },
    {
     "name": "stdout",
     "output_type": "stream",
     "text": [
      "EarlyStopping counter: 26 out of 100\n"
     ]
    },
    {
     "name": "stderr",
     "output_type": "stream",
     "text": [
      "Adversarial Debiasing Training Epoch:  25%|\u001b[32m██▌       \u001b[0m| 125/500 [06:11<17:13,  2.76s/it, accADV=0.674, accCLF=0.822, lossADV=0.556, lossCLF=0.663]"
     ]
    },
    {
     "name": "stdout",
     "output_type": "stream",
     "text": [
      "EarlyStopping counter: 27 out of 100\n"
     ]
    },
    {
     "name": "stderr",
     "output_type": "stream",
     "text": [
      "Adversarial Debiasing Training Epoch:  27%|\u001b[32m██▋       \u001b[0m| 134/500 [06:27<11:10,  1.83s/it, accADV=0.668, accCLF=0.814, lossADV=0.621, lossCLF=0.547]"
     ]
    },
    {
     "name": "stdout",
     "output_type": "stream",
     "text": [
      "EarlyStopping counter: 1 out of 100\n"
     ]
    },
    {
     "name": "stderr",
     "output_type": "stream",
     "text": [
      "Adversarial Debiasing Training Epoch:  27%|\u001b[32m██▋       \u001b[0m| 135/500 [06:29<11:04,  1.82s/it, accADV=0.678, accCLF=0.822, lossADV=0.591, lossCLF=0.661]"
     ]
    },
    {
     "name": "stdout",
     "output_type": "stream",
     "text": [
      "EarlyStopping counter: 2 out of 100\n"
     ]
    },
    {
     "name": "stderr",
     "output_type": "stream",
     "text": [
      "Adversarial Debiasing Training Epoch:  28%|\u001b[32m██▊       \u001b[0m| 139/500 [06:36<11:14,  1.87s/it, accADV=0.66, accCLF=0.785, lossADV=0.584, lossCLF=0.71]  "
     ]
    },
    {
     "name": "stdout",
     "output_type": "stream",
     "text": [
      "EarlyStopping counter: 1 out of 100\n"
     ]
    },
    {
     "name": "stderr",
     "output_type": "stream",
     "text": [
      "Adversarial Debiasing Training Epoch:  29%|\u001b[32m██▊       \u001b[0m| 143/500 [06:44<11:16,  1.89s/it, accADV=0.643, accCLF=0.805, lossADV=0.645, lossCLF=0.56] "
     ]
    },
    {
     "name": "stdout",
     "output_type": "stream",
     "text": [
      "EarlyStopping counter: 1 out of 100\n"
     ]
    },
    {
     "name": "stderr",
     "output_type": "stream",
     "text": [
      "Adversarial Debiasing Training Epoch:  30%|\u001b[32m██▉       \u001b[0m| 148/500 [06:53<11:19,  1.93s/it, accADV=0.705, accCLF=0.795, lossADV=0.633, lossCLF=0.697]"
     ]
    },
    {
     "name": "stdout",
     "output_type": "stream",
     "text": [
      "EarlyStopping counter: 1 out of 100\n"
     ]
    },
    {
     "name": "stderr",
     "output_type": "stream",
     "text": [
      "Adversarial Debiasing Training Epoch:  30%|\u001b[32m██▉       \u001b[0m| 149/500 [06:59<11:11,  1.91s/it, accADV=0.673, accCLF=0.853, lossADV=0.626, lossCLF=0.285]"
     ]
    },
    {
     "name": "stdout",
     "output_type": "stream",
     "text": [
      "EarlyStopping counter: 1 out of 100\n"
     ]
    },
    {
     "name": "stderr",
     "output_type": "stream",
     "text": [
      "Adversarial Debiasing Training Epoch:  30%|\u001b[32m███       \u001b[0m| 150/500 [07:07<20:28,  3.51s/it, accADV=0.68, accCLF=0.781, lossADV=0.589, lossCLF=0.677] "
     ]
    },
    {
     "name": "stdout",
     "output_type": "stream",
     "text": [
      "EarlyStopping counter: 2 out of 100\n"
     ]
    },
    {
     "name": "stderr",
     "output_type": "stream",
     "text": [
      "Adversarial Debiasing Training Epoch:  30%|\u001b[32m███       \u001b[0m| 151/500 [07:13<26:13,  4.51s/it, accADV=0.686, accCLF=0.816, lossADV=0.556, lossCLF=0.583]"
     ]
    },
    {
     "name": "stdout",
     "output_type": "stream",
     "text": [
      "EarlyStopping counter: 3 out of 100\n"
     ]
    },
    {
     "name": "stderr",
     "output_type": "stream",
     "text": [
      "Adversarial Debiasing Training Epoch:  30%|\u001b[32m███       \u001b[0m| 152/500 [07:19<28:41,  4.95s/it, accADV=0.672, accCLF=0.797, lossADV=0.567, lossCLF=0.609]"
     ]
    },
    {
     "name": "stdout",
     "output_type": "stream",
     "text": [
      "EarlyStopping counter: 4 out of 100\n"
     ]
    },
    {
     "name": "stderr",
     "output_type": "stream",
     "text": [
      "Adversarial Debiasing Training Epoch:  31%|\u001b[32m███       \u001b[0m| 153/500 [07:24<30:02,  5.19s/it, accADV=0.67, accCLF=0.758, lossADV=0.545, lossCLF=0.859] "
     ]
    },
    {
     "name": "stdout",
     "output_type": "stream",
     "text": [
      "EarlyStopping counter: 5 out of 100\n"
     ]
    },
    {
     "name": "stderr",
     "output_type": "stream",
     "text": [
      "Adversarial Debiasing Training Epoch:  31%|\u001b[32m███       \u001b[0m| 154/500 [07:29<29:51,  5.18s/it, accADV=0.666, accCLF=0.789, lossADV=0.547, lossCLF=0.687]"
     ]
    },
    {
     "name": "stdout",
     "output_type": "stream",
     "text": [
      "EarlyStopping counter: 6 out of 100\n"
     ]
    },
    {
     "name": "stderr",
     "output_type": "stream",
     "text": [
      "Adversarial Debiasing Training Epoch:  31%|\u001b[32m███       \u001b[0m| 155/500 [07:34<29:28,  5.13s/it, accADV=0.658, accCLF=0.807, lossADV=0.538, lossCLF=0.629]"
     ]
    },
    {
     "name": "stdout",
     "output_type": "stream",
     "text": [
      "EarlyStopping counter: 7 out of 100\n"
     ]
    },
    {
     "name": "stderr",
     "output_type": "stream",
     "text": [
      "Adversarial Debiasing Training Epoch:  31%|\u001b[32m███       \u001b[0m| 156/500 [07:39<28:56,  5.05s/it, accADV=0.656, accCLF=0.797, lossADV=0.546, lossCLF=0.729]"
     ]
    },
    {
     "name": "stdout",
     "output_type": "stream",
     "text": [
      "EarlyStopping counter: 8 out of 100\n"
     ]
    },
    {
     "name": "stderr",
     "output_type": "stream",
     "text": [
      "Adversarial Debiasing Training Epoch:  31%|\u001b[32m███▏      \u001b[0m| 157/500 [07:43<28:09,  4.93s/it, accADV=0.691, accCLF=0.76, lossADV=0.489, lossCLF=0.904] "
     ]
    },
    {
     "name": "stdout",
     "output_type": "stream",
     "text": [
      "EarlyStopping counter: 9 out of 100\n"
     ]
    },
    {
     "name": "stderr",
     "output_type": "stream",
     "text": [
      "Adversarial Debiasing Training Epoch:  32%|\u001b[32m███▏      \u001b[0m| 158/500 [07:48<28:25,  4.99s/it, accADV=0.676, accCLF=0.729, lossADV=0.502, lossCLF=0.923]"
     ]
    },
    {
     "name": "stdout",
     "output_type": "stream",
     "text": [
      "EarlyStopping counter: 10 out of 100\n"
     ]
    },
    {
     "name": "stderr",
     "output_type": "stream",
     "text": [
      "Adversarial Debiasing Training Epoch:  32%|\u001b[32m███▏      \u001b[0m| 159/500 [07:53<28:25,  5.00s/it, accADV=0.668, accCLF=0.746, lossADV=0.511, lossCLF=0.908]"
     ]
    },
    {
     "name": "stdout",
     "output_type": "stream",
     "text": [
      "EarlyStopping counter: 11 out of 100\n"
     ]
    },
    {
     "name": "stderr",
     "output_type": "stream",
     "text": [
      "Adversarial Debiasing Training Epoch:  32%|\u001b[32m███▏      \u001b[0m| 160/500 [07:56<27:46,  4.90s/it, accADV=0.658, accCLF=0.736, lossADV=0.486, lossCLF=0.839]"
     ]
    },
    {
     "name": "stdout",
     "output_type": "stream",
     "text": [
      "EarlyStopping counter: 12 out of 100\n"
     ]
    },
    {
     "name": "stderr",
     "output_type": "stream",
     "text": [
      "Adversarial Debiasing Training Epoch:  32%|\u001b[32m███▏      \u001b[0m| 161/500 [07:58<22:16,  3.94s/it, accADV=0.674, accCLF=0.783, lossADV=0.492, lossCLF=0.704]"
     ]
    },
    {
     "name": "stdout",
     "output_type": "stream",
     "text": [
      "EarlyStopping counter: 13 out of 100\n"
     ]
    },
    {
     "name": "stderr",
     "output_type": "stream",
     "text": [
      "Adversarial Debiasing Training Epoch:  32%|\u001b[32m███▏      \u001b[0m| 162/500 [07:59<18:17,  3.25s/it, accADV=0.68, accCLF=0.758, lossADV=0.502, lossCLF=0.82]  "
     ]
    },
    {
     "name": "stdout",
     "output_type": "stream",
     "text": [
      "EarlyStopping counter: 14 out of 100\n"
     ]
    },
    {
     "name": "stderr",
     "output_type": "stream",
     "text": [
      "Adversarial Debiasing Training Epoch:  33%|\u001b[32m███▎      \u001b[0m| 163/500 [08:01<15:40,  2.79s/it, accADV=0.652, accCLF=0.742, lossADV=0.49, lossCLF=0.82]  "
     ]
    },
    {
     "name": "stdout",
     "output_type": "stream",
     "text": [
      "EarlyStopping counter: 15 out of 100\n"
     ]
    },
    {
     "name": "stderr",
     "output_type": "stream",
     "text": [
      "Adversarial Debiasing Training Epoch:  33%|\u001b[32m███▎      \u001b[0m| 164/500 [08:03<13:50,  2.47s/it, accADV=0.641, accCLF=0.783, lossADV=0.518, lossCLF=0.762]"
     ]
    },
    {
     "name": "stdout",
     "output_type": "stream",
     "text": [
      "EarlyStopping counter: 16 out of 100\n"
     ]
    },
    {
     "name": "stderr",
     "output_type": "stream",
     "text": [
      "Adversarial Debiasing Training Epoch:  33%|\u001b[32m███▎      \u001b[0m| 165/500 [08:04<12:23,  2.22s/it, accADV=0.617, accCLF=0.793, lossADV=0.54, lossCLF=0.715] "
     ]
    },
    {
     "name": "stdout",
     "output_type": "stream",
     "text": [
      "EarlyStopping counter: 17 out of 100\n"
     ]
    },
    {
     "name": "stderr",
     "output_type": "stream",
     "text": [
      "Adversarial Debiasing Training Epoch:  33%|\u001b[32m███▎      \u001b[0m| 166/500 [08:06<11:18,  2.03s/it, accADV=0.635, accCLF=0.783, lossADV=0.53, lossCLF=0.654] "
     ]
    },
    {
     "name": "stdout",
     "output_type": "stream",
     "text": [
      "EarlyStopping counter: 18 out of 100\n"
     ]
    },
    {
     "name": "stderr",
     "output_type": "stream",
     "text": [
      "Adversarial Debiasing Training Epoch:  33%|\u001b[32m███▎      \u001b[0m| 167/500 [08:08<10:34,  1.91s/it, accADV=0.68, accCLF=0.764, lossADV=0.502, lossCLF=0.611] "
     ]
    },
    {
     "name": "stdout",
     "output_type": "stream",
     "text": [
      "EarlyStopping counter: 19 out of 100\n"
     ]
    },
    {
     "name": "stderr",
     "output_type": "stream",
     "text": [
      "Adversarial Debiasing Training Epoch:  34%|\u001b[32m███▎      \u001b[0m| 168/500 [08:09<10:07,  1.83s/it, accADV=0.682, accCLF=0.758, lossADV=0.488, lossCLF=0.637]"
     ]
    },
    {
     "name": "stdout",
     "output_type": "stream",
     "text": [
      "EarlyStopping counter: 20 out of 100\n"
     ]
    },
    {
     "name": "stderr",
     "output_type": "stream",
     "text": [
      "Adversarial Debiasing Training Epoch:  34%|\u001b[32m███▍      \u001b[0m| 169/500 [08:11<09:43,  1.76s/it, accADV=0.646, accCLF=0.779, lossADV=0.541, lossCLF=0.62] "
     ]
    },
    {
     "name": "stdout",
     "output_type": "stream",
     "text": [
      "EarlyStopping counter: 21 out of 100\n"
     ]
    },
    {
     "name": "stderr",
     "output_type": "stream",
     "text": [
      "Adversarial Debiasing Training Epoch:  35%|\u001b[32m███▍      \u001b[0m| 174/500 [08:31<18:55,  3.48s/it, accADV=0.688, accCLF=0.832, lossADV=0.594, lossCLF=0.437]"
     ]
    },
    {
     "name": "stdout",
     "output_type": "stream",
     "text": [
      "EarlyStopping counter: 1 out of 100\n"
     ]
    },
    {
     "name": "stderr",
     "output_type": "stream",
     "text": [
      "Adversarial Debiasing Training Epoch:  35%|\u001b[32m███▌      \u001b[0m| 175/500 [08:32<15:47,  2.92s/it, accADV=0.713, accCLF=0.783, lossADV=0.625, lossCLF=0.5]  "
     ]
    },
    {
     "name": "stdout",
     "output_type": "stream",
     "text": [
      "EarlyStopping counter: 2 out of 100\n"
     ]
    },
    {
     "name": "stderr",
     "output_type": "stream",
     "text": [
      "Adversarial Debiasing Training Epoch:  35%|\u001b[32m███▌      \u001b[0m| 176/500 [08:34<13:35,  2.52s/it, accADV=0.686, accCLF=0.826, lossADV=0.667, lossCLF=0.419]"
     ]
    },
    {
     "name": "stdout",
     "output_type": "stream",
     "text": [
      "EarlyStopping counter: 3 out of 100\n"
     ]
    },
    {
     "name": "stderr",
     "output_type": "stream",
     "text": [
      "Adversarial Debiasing Training Epoch:  35%|\u001b[32m███▌      \u001b[0m| 177/500 [08:35<11:56,  2.22s/it, accADV=0.699, accCLF=0.789, lossADV=0.681, lossCLF=0.6]  "
     ]
    },
    {
     "name": "stdout",
     "output_type": "stream",
     "text": [
      "EarlyStopping counter: 4 out of 100\n"
     ]
    },
    {
     "name": "stderr",
     "output_type": "stream",
     "text": [
      "Adversarial Debiasing Training Epoch:  36%|\u001b[32m███▌      \u001b[0m| 178/500 [08:37<10:54,  2.03s/it, accADV=0.668, accCLF=0.84, lossADV=0.681, lossCLF=0.429] "
     ]
    },
    {
     "name": "stdout",
     "output_type": "stream",
     "text": [
      "EarlyStopping counter: 5 out of 100\n"
     ]
    },
    {
     "name": "stderr",
     "output_type": "stream",
     "text": [
      "Adversarial Debiasing Training Epoch:  36%|\u001b[32m███▌      \u001b[0m| 179/500 [08:38<10:12,  1.91s/it, accADV=0.684, accCLF=0.789, lossADV=0.66, lossCLF=0.474] "
     ]
    },
    {
     "name": "stdout",
     "output_type": "stream",
     "text": [
      "EarlyStopping counter: 6 out of 100\n"
     ]
    },
    {
     "name": "stderr",
     "output_type": "stream",
     "text": [
      "Adversarial Debiasing Training Epoch:  36%|\u001b[32m███▌      \u001b[0m| 180/500 [08:40<09:32,  1.79s/it, accADV=0.693, accCLF=0.824, lossADV=0.679, lossCLF=0.479]"
     ]
    },
    {
     "name": "stdout",
     "output_type": "stream",
     "text": [
      "EarlyStopping counter: 7 out of 100\n"
     ]
    },
    {
     "name": "stderr",
     "output_type": "stream",
     "text": [
      "Adversarial Debiasing Training Epoch:  36%|\u001b[32m███▌      \u001b[0m| 181/500 [08:42<09:21,  1.76s/it, accADV=0.652, accCLF=0.762, lossADV=0.767, lossCLF=0.561]"
     ]
    },
    {
     "name": "stdout",
     "output_type": "stream",
     "text": [
      "EarlyStopping counter: 8 out of 100\n"
     ]
    },
    {
     "name": "stderr",
     "output_type": "stream",
     "text": [
      "Adversarial Debiasing Training Epoch:  36%|\u001b[32m███▋      \u001b[0m| 182/500 [08:43<09:03,  1.71s/it, accADV=0.672, accCLF=0.746, lossADV=0.751, lossCLF=0.538]"
     ]
    },
    {
     "name": "stdout",
     "output_type": "stream",
     "text": [
      "EarlyStopping counter: 9 out of 100\n"
     ]
    },
    {
     "name": "stderr",
     "output_type": "stream",
     "text": [
      "Adversarial Debiasing Training Epoch:  37%|\u001b[32m███▋      \u001b[0m| 183/500 [08:45<08:53,  1.68s/it, accADV=0.668, accCLF=0.756, lossADV=0.722, lossCLF=0.535]"
     ]
    },
    {
     "name": "stdout",
     "output_type": "stream",
     "text": [
      "EarlyStopping counter: 10 out of 100\n"
     ]
    },
    {
     "name": "stderr",
     "output_type": "stream",
     "text": [
      "Adversarial Debiasing Training Epoch:  37%|\u001b[32m███▋      \u001b[0m| 184/500 [08:46<08:47,  1.67s/it, accADV=0.691, accCLF=0.732, lossADV=0.746, lossCLF=0.598]"
     ]
    },
    {
     "name": "stdout",
     "output_type": "stream",
     "text": [
      "EarlyStopping counter: 11 out of 100\n"
     ]
    },
    {
     "name": "stderr",
     "output_type": "stream",
     "text": [
      "Adversarial Debiasing Training Epoch:  37%|\u001b[32m███▋      \u001b[0m| 185/500 [08:48<08:49,  1.68s/it, accADV=0.654, accCLF=0.732, lossADV=0.75, lossCLF=0.604] "
     ]
    },
    {
     "name": "stdout",
     "output_type": "stream",
     "text": [
      "EarlyStopping counter: 12 out of 100\n"
     ]
    },
    {
     "name": "stderr",
     "output_type": "stream",
     "text": [
      "Adversarial Debiasing Training Epoch:  37%|\u001b[32m███▋      \u001b[0m| 186/500 [08:50<09:02,  1.73s/it, accADV=0.645, accCLF=0.699, lossADV=0.75, lossCLF=0.664] "
     ]
    },
    {
     "name": "stdout",
     "output_type": "stream",
     "text": [
      "EarlyStopping counter: 13 out of 100\n"
     ]
    },
    {
     "name": "stderr",
     "output_type": "stream",
     "text": [
      "Adversarial Debiasing Training Epoch:  37%|\u001b[32m███▋      \u001b[0m| 187/500 [08:51<08:54,  1.71s/it, accADV=0.676, accCLF=0.701, lossADV=0.744, lossCLF=0.703]"
     ]
    },
    {
     "name": "stdout",
     "output_type": "stream",
     "text": [
      "EarlyStopping counter: 14 out of 100\n"
     ]
    },
    {
     "name": "stderr",
     "output_type": "stream",
     "text": [
      "Adversarial Debiasing Training Epoch:  38%|\u001b[32m███▊      \u001b[0m| 188/500 [08:53<08:48,  1.69s/it, accADV=0.705, accCLF=0.703, lossADV=0.706, lossCLF=0.671]"
     ]
    },
    {
     "name": "stdout",
     "output_type": "stream",
     "text": [
      "EarlyStopping counter: 15 out of 100\n"
     ]
    },
    {
     "name": "stderr",
     "output_type": "stream",
     "text": [
      "Adversarial Debiasing Training Epoch:  38%|\u001b[32m███▊      \u001b[0m| 189/500 [08:55<08:52,  1.71s/it, accADV=0.707, accCLF=0.588, lossADV=0.727, lossCLF=0.96] "
     ]
    },
    {
     "name": "stdout",
     "output_type": "stream",
     "text": [
      "EarlyStopping counter: 16 out of 100\n"
     ]
    },
    {
     "name": "stderr",
     "output_type": "stream",
     "text": [
      "Adversarial Debiasing Training Epoch:  38%|\u001b[32m███▊      \u001b[0m| 190/500 [08:57<08:48,  1.70s/it, accADV=0.682, accCLF=0.619, lossADV=0.725, lossCLF=0.911]"
     ]
    },
    {
     "name": "stdout",
     "output_type": "stream",
     "text": [
      "EarlyStopping counter: 17 out of 100\n"
     ]
    },
    {
     "name": "stderr",
     "output_type": "stream",
     "text": [
      "Adversarial Debiasing Training Epoch:  38%|\u001b[32m███▊      \u001b[0m| 191/500 [08:58<08:52,  1.72s/it, accADV=0.662, accCLF=0.656, lossADV=0.712, lossCLF=0.828]"
     ]
    },
    {
     "name": "stdout",
     "output_type": "stream",
     "text": [
      "EarlyStopping counter: 18 out of 100\n"
     ]
    },
    {
     "name": "stderr",
     "output_type": "stream",
     "text": [
      "Adversarial Debiasing Training Epoch:  38%|\u001b[32m███▊      \u001b[0m| 192/500 [09:00<08:53,  1.73s/it, accADV=0.697, accCLF=0.633, lossADV=0.681, lossCLF=0.847]"
     ]
    },
    {
     "name": "stdout",
     "output_type": "stream",
     "text": [
      "EarlyStopping counter: 19 out of 100\n"
     ]
    },
    {
     "name": "stderr",
     "output_type": "stream",
     "text": [
      "Adversarial Debiasing Training Epoch:  39%|\u001b[32m███▊      \u001b[0m| 193/500 [09:02<09:23,  1.84s/it, accADV=0.678, accCLF=0.746, lossADV=0.646, lossCLF=0.585]"
     ]
    },
    {
     "name": "stdout",
     "output_type": "stream",
     "text": [
      "EarlyStopping counter: 20 out of 100\n"
     ]
    },
    {
     "name": "stderr",
     "output_type": "stream",
     "text": [
      "Adversarial Debiasing Training Epoch:  39%|\u001b[32m███▉      \u001b[0m| 194/500 [09:04<09:12,  1.81s/it, accADV=0.668, accCLF=0.797, lossADV=0.642, lossCLF=0.501]"
     ]
    },
    {
     "name": "stdout",
     "output_type": "stream",
     "text": [
      "EarlyStopping counter: 21 out of 100\n"
     ]
    },
    {
     "name": "stderr",
     "output_type": "stream",
     "text": [
      "Adversarial Debiasing Training Epoch:  39%|\u001b[32m███▉      \u001b[0m| 195/500 [09:06<09:11,  1.81s/it, accADV=0.691, accCLF=0.793, lossADV=0.624, lossCLF=0.493]"
     ]
    },
    {
     "name": "stdout",
     "output_type": "stream",
     "text": [
      "EarlyStopping counter: 22 out of 100\n"
     ]
    },
    {
     "name": "stderr",
     "output_type": "stream",
     "text": [
      "Adversarial Debiasing Training Epoch:  39%|\u001b[32m███▉      \u001b[0m| 196/500 [09:07<09:01,  1.78s/it, accADV=0.695, accCLF=0.777, lossADV=0.627, lossCLF=0.516]"
     ]
    },
    {
     "name": "stdout",
     "output_type": "stream",
     "text": [
      "EarlyStopping counter: 23 out of 100\n"
     ]
    },
    {
     "name": "stderr",
     "output_type": "stream",
     "text": [
      "Adversarial Debiasing Training Epoch:  39%|\u001b[32m███▉      \u001b[0m| 197/500 [09:09<08:48,  1.74s/it, accADV=0.666, accCLF=0.758, lossADV=0.659, lossCLF=0.578]"
     ]
    },
    {
     "name": "stdout",
     "output_type": "stream",
     "text": [
      "EarlyStopping counter: 24 out of 100\n"
     ]
    },
    {
     "name": "stderr",
     "output_type": "stream",
     "text": [
      "Adversarial Debiasing Training Epoch:  40%|\u001b[32m███▉      \u001b[0m| 198/500 [09:11<08:48,  1.75s/it, accADV=0.666, accCLF=0.779, lossADV=0.646, lossCLF=0.497]"
     ]
    },
    {
     "name": "stdout",
     "output_type": "stream",
     "text": [
      "EarlyStopping counter: 25 out of 100\n"
     ]
    },
    {
     "name": "stderr",
     "output_type": "stream",
     "text": [
      "Adversarial Debiasing Training Epoch:  40%|\u001b[32m███▉      \u001b[0m| 199/500 [09:12<08:47,  1.75s/it, accADV=0.674, accCLF=0.77, lossADV=0.64, lossCLF=0.597]  "
     ]
    },
    {
     "name": "stdout",
     "output_type": "stream",
     "text": [
      "EarlyStopping counter: 26 out of 100\n"
     ]
    },
    {
     "name": "stderr",
     "output_type": "stream",
     "text": [
      "Adversarial Debiasing Training Epoch:  40%|\u001b[32m███▉      \u001b[0m| 199/500 [09:14<08:47,  1.75s/it, accADV=0.682, accCLF=0.8, lossADV=0.63, lossCLF=0.436]   "
     ]
    },
    {
     "name": "stdout",
     "output_type": "stream",
     "text": [
      "EarlyStopping counter: 27 out of 100\n"
     ]
    },
    {
     "name": "stderr",
     "output_type": "stream",
     "text": [
      "Adversarial Debiasing Training Epoch:  40%|\u001b[32m████      \u001b[0m| 200/500 [09:16<09:29,  1.90s/it, accADV=0.668, accCLF=0.803, lossADV=0.631, lossCLF=0.451]"
     ]
    },
    {
     "name": "stdout",
     "output_type": "stream",
     "text": [
      "EarlyStopping counter: 28 out of 100\n"
     ]
    },
    {
     "name": "stderr",
     "output_type": "stream",
     "text": [
      "Adversarial Debiasing Training Epoch:  40%|\u001b[32m████      \u001b[0m| 202/500 [09:19<09:13,  1.86s/it, accADV=0.645, accCLF=0.803, lossADV=0.652, lossCLF=0.448]"
     ]
    },
    {
     "name": "stdout",
     "output_type": "stream",
     "text": [
      "EarlyStopping counter: 1 out of 100\n"
     ]
    },
    {
     "name": "stderr",
     "output_type": "stream",
     "text": [
      "Adversarial Debiasing Training Epoch:  41%|\u001b[32m████      \u001b[0m| 203/500 [09:22<09:14,  1.87s/it, accADV=0.678, accCLF=0.766, lossADV=0.643, lossCLF=0.521]"
     ]
    },
    {
     "name": "stdout",
     "output_type": "stream",
     "text": [
      "EarlyStopping counter: 2 out of 100\n"
     ]
    },
    {
     "name": "stderr",
     "output_type": "stream",
     "text": [
      "Adversarial Debiasing Training Epoch:  41%|\u001b[32m████      \u001b[0m| 204/500 [09:27<11:14,  2.28s/it, accADV=0.674, accCLF=0.783, lossADV=0.646, lossCLF=0.481]"
     ]
    },
    {
     "name": "stdout",
     "output_type": "stream",
     "text": [
      "EarlyStopping counter: 3 out of 100\n"
     ]
    },
    {
     "name": "stderr",
     "output_type": "stream",
     "text": [
      "Adversarial Debiasing Training Epoch:  41%|\u001b[32m████      \u001b[0m| 205/500 [09:33<16:44,  3.40s/it, accADV=0.67, accCLF=0.758, lossADV=0.652, lossCLF=0.543] "
     ]
    },
    {
     "name": "stdout",
     "output_type": "stream",
     "text": [
      "EarlyStopping counter: 4 out of 100\n"
     ]
    },
    {
     "name": "stderr",
     "output_type": "stream",
     "text": [
      "Adversarial Debiasing Training Epoch:  41%|\u001b[32m████      \u001b[0m| 206/500 [09:39<20:16,  4.14s/it, accADV=0.674, accCLF=0.836, lossADV=0.641, lossCLF=0.415]"
     ]
    },
    {
     "name": "stdout",
     "output_type": "stream",
     "text": [
      "EarlyStopping counter: 5 out of 100\n"
     ]
    },
    {
     "name": "stderr",
     "output_type": "stream",
     "text": [
      "Adversarial Debiasing Training Epoch:  41%|\u001b[32m████▏     \u001b[0m| 207/500 [09:44<22:05,  4.53s/it, accADV=0.695, accCLF=0.762, lossADV=0.621, lossCLF=0.534]"
     ]
    },
    {
     "name": "stdout",
     "output_type": "stream",
     "text": [
      "EarlyStopping counter: 6 out of 100\n"
     ]
    },
    {
     "name": "stderr",
     "output_type": "stream",
     "text": [
      "Adversarial Debiasing Training Epoch:  42%|\u001b[32m████▏     \u001b[0m| 208/500 [09:48<22:41,  4.66s/it, accADV=0.682, accCLF=0.725, lossADV=0.632, lossCLF=0.596]"
     ]
    },
    {
     "name": "stdout",
     "output_type": "stream",
     "text": [
      "EarlyStopping counter: 7 out of 100\n"
     ]
    },
    {
     "name": "stderr",
     "output_type": "stream",
     "text": [
      "Adversarial Debiasing Training Epoch:  42%|\u001b[32m████▏     \u001b[0m| 209/500 [09:49<19:42,  4.07s/it, accADV=0.676, accCLF=0.732, lossADV=0.645, lossCLF=0.626]"
     ]
    },
    {
     "name": "stdout",
     "output_type": "stream",
     "text": [
      "EarlyStopping counter: 8 out of 100\n"
     ]
    },
    {
     "name": "stderr",
     "output_type": "stream",
     "text": [
      "Adversarial Debiasing Training Epoch:  42%|\u001b[32m████▏     \u001b[0m| 210/500 [09:51<16:05,  3.33s/it, accADV=0.645, accCLF=0.67, lossADV=0.662, lossCLF=0.742] "
     ]
    },
    {
     "name": "stdout",
     "output_type": "stream",
     "text": [
      "EarlyStopping counter: 9 out of 100\n"
     ]
    },
    {
     "name": "stderr",
     "output_type": "stream",
     "text": [
      "Adversarial Debiasing Training Epoch:  42%|\u001b[32m████▏     \u001b[0m| 211/500 [09:52<13:31,  2.81s/it, accADV=0.699, accCLF=0.74, lossADV=0.62, lossCLF=0.671]  "
     ]
    },
    {
     "name": "stdout",
     "output_type": "stream",
     "text": [
      "EarlyStopping counter: 10 out of 100\n"
     ]
    },
    {
     "name": "stderr",
     "output_type": "stream",
     "text": [
      "Adversarial Debiasing Training Epoch:  42%|\u001b[32m████▏     \u001b[0m| 212/500 [09:54<11:45,  2.45s/it, accADV=0.621, accCLF=0.75, lossADV=0.67, lossCLF=0.608]  "
     ]
    },
    {
     "name": "stdout",
     "output_type": "stream",
     "text": [
      "EarlyStopping counter: 11 out of 100\n"
     ]
    },
    {
     "name": "stderr",
     "output_type": "stream",
     "text": [
      "Adversarial Debiasing Training Epoch:  43%|\u001b[32m████▎     \u001b[0m| 213/500 [09:56<10:47,  2.26s/it, accADV=0.631, accCLF=0.734, lossADV=0.665, lossCLF=0.628]"
     ]
    },
    {
     "name": "stdout",
     "output_type": "stream",
     "text": [
      "EarlyStopping counter: 12 out of 100\n"
     ]
    },
    {
     "name": "stderr",
     "output_type": "stream",
     "text": [
      "Adversarial Debiasing Training Epoch:  43%|\u001b[32m████▎     \u001b[0m| 214/500 [09:58<10:49,  2.27s/it, accADV=0.67, accCLF=0.738, lossADV=0.635, lossCLF=0.63]  "
     ]
    },
    {
     "name": "stdout",
     "output_type": "stream",
     "text": [
      "EarlyStopping counter: 13 out of 100\n"
     ]
    },
    {
     "name": "stderr",
     "output_type": "stream",
     "text": [
      "Adversarial Debiasing Training Epoch:  43%|\u001b[32m████▎     \u001b[0m| 215/500 [10:00<10:20,  2.18s/it, accADV=0.688, accCLF=0.732, lossADV=0.623, lossCLF=0.664]"
     ]
    },
    {
     "name": "stdout",
     "output_type": "stream",
     "text": [
      "EarlyStopping counter: 14 out of 100\n"
     ]
    },
    {
     "name": "stderr",
     "output_type": "stream",
     "text": [
      "Adversarial Debiasing Training Epoch:  43%|\u001b[32m████▎     \u001b[0m| 216/500 [10:02<09:54,  2.10s/it, accADV=0.691, accCLF=0.764, lossADV=0.618, lossCLF=0.548]"
     ]
    },
    {
     "name": "stdout",
     "output_type": "stream",
     "text": [
      "EarlyStopping counter: 15 out of 100\n"
     ]
    },
    {
     "name": "stderr",
     "output_type": "stream",
     "text": [
      "Adversarial Debiasing Training Epoch:  43%|\u001b[32m████▎     \u001b[0m| 217/500 [10:04<09:52,  2.09s/it, accADV=0.658, accCLF=0.717, lossADV=0.642, lossCLF=0.708]"
     ]
    },
    {
     "name": "stdout",
     "output_type": "stream",
     "text": [
      "EarlyStopping counter: 16 out of 100\n"
     ]
    },
    {
     "name": "stderr",
     "output_type": "stream",
     "text": [
      "Adversarial Debiasing Training Epoch:  44%|\u001b[32m████▎     \u001b[0m| 218/500 [10:09<11:18,  2.40s/it, accADV=0.662, accCLF=0.732, lossADV=0.64, lossCLF=0.633] "
     ]
    },
    {
     "name": "stdout",
     "output_type": "stream",
     "text": [
      "EarlyStopping counter: 17 out of 100\n"
     ]
    },
    {
     "name": "stderr",
     "output_type": "stream",
     "text": [
      "Adversarial Debiasing Training Epoch:  44%|\u001b[32m████▍     \u001b[0m| 219/500 [10:14<15:55,  3.40s/it, accADV=0.664, accCLF=0.715, lossADV=0.639, lossCLF=0.675]"
     ]
    },
    {
     "name": "stdout",
     "output_type": "stream",
     "text": [
      "EarlyStopping counter: 18 out of 100\n"
     ]
    },
    {
     "name": "stderr",
     "output_type": "stream",
     "text": [
      "Adversarial Debiasing Training Epoch:  44%|\u001b[32m████▍     \u001b[0m| 220/500 [10:19<18:21,  3.93s/it, accADV=0.648, accCLF=0.729, lossADV=0.65, lossCLF=0.631] "
     ]
    },
    {
     "name": "stdout",
     "output_type": "stream",
     "text": [
      "EarlyStopping counter: 19 out of 100\n"
     ]
    },
    {
     "name": "stderr",
     "output_type": "stream",
     "text": [
      "Adversarial Debiasing Training Epoch:  44%|\u001b[32m████▍     \u001b[0m| 221/500 [10:24<19:27,  4.18s/it, accADV=0.662, accCLF=0.748, lossADV=0.642, lossCLF=0.63] "
     ]
    },
    {
     "name": "stdout",
     "output_type": "stream",
     "text": [
      "EarlyStopping counter: 20 out of 100\n"
     ]
    },
    {
     "name": "stderr",
     "output_type": "stream",
     "text": [
      "Adversarial Debiasing Training Epoch:  44%|\u001b[32m████▍     \u001b[0m| 222/500 [10:29<20:06,  4.34s/it, accADV=0.688, accCLF=0.74, lossADV=0.622, lossCLF=0.641] "
     ]
    },
    {
     "name": "stdout",
     "output_type": "stream",
     "text": [
      "EarlyStopping counter: 21 out of 100\n"
     ]
    },
    {
     "name": "stderr",
     "output_type": "stream",
     "text": [
      "Adversarial Debiasing Training Epoch:  45%|\u001b[32m████▍     \u001b[0m| 223/500 [10:33<20:40,  4.48s/it, accADV=0.701, accCLF=0.701, lossADV=0.613, lossCLF=0.72] "
     ]
    },
    {
     "name": "stdout",
     "output_type": "stream",
     "text": [
      "EarlyStopping counter: 22 out of 100\n"
     ]
    },
    {
     "name": "stderr",
     "output_type": "stream",
     "text": [
      "Adversarial Debiasing Training Epoch:  45%|\u001b[32m████▍     \u001b[0m| 224/500 [10:36<19:51,  4.32s/it, accADV=0.699, accCLF=0.689, lossADV=0.613, lossCLF=0.715]"
     ]
    },
    {
     "name": "stdout",
     "output_type": "stream",
     "text": [
      "EarlyStopping counter: 23 out of 100\n"
     ]
    },
    {
     "name": "stderr",
     "output_type": "stream",
     "text": [
      "Adversarial Debiasing Training Epoch:  45%|\u001b[32m████▌     \u001b[0m| 225/500 [10:38<16:14,  3.54s/it, accADV=0.662, accCLF=0.74, lossADV=0.64, lossCLF=0.673]  "
     ]
    },
    {
     "name": "stdout",
     "output_type": "stream",
     "text": [
      "EarlyStopping counter: 24 out of 100\n"
     ]
    },
    {
     "name": "stderr",
     "output_type": "stream",
     "text": [
      "Adversarial Debiasing Training Epoch:  45%|\u001b[32m████▌     \u001b[0m| 226/500 [10:39<13:32,  2.97s/it, accADV=0.699, accCLF=0.76, lossADV=0.613, lossCLF=0.722] "
     ]
    },
    {
     "name": "stdout",
     "output_type": "stream",
     "text": [
      "EarlyStopping counter: 25 out of 100\n"
     ]
    },
    {
     "name": "stderr",
     "output_type": "stream",
     "text": [
      "Adversarial Debiasing Training Epoch:  45%|\u001b[32m████▌     \u001b[0m| 227/500 [10:41<11:35,  2.55s/it, accADV=0.686, accCLF=0.742, lossADV=0.623, lossCLF=0.673]"
     ]
    },
    {
     "name": "stdout",
     "output_type": "stream",
     "text": [
      "EarlyStopping counter: 26 out of 100\n"
     ]
    },
    {
     "name": "stderr",
     "output_type": "stream",
     "text": [
      "Adversarial Debiasing Training Epoch:  46%|\u001b[32m████▌     \u001b[0m| 228/500 [10:42<10:11,  2.25s/it, accADV=0.674, accCLF=0.736, lossADV=0.631, lossCLF=0.687]"
     ]
    },
    {
     "name": "stdout",
     "output_type": "stream",
     "text": [
      "EarlyStopping counter: 27 out of 100\n"
     ]
    },
    {
     "name": "stderr",
     "output_type": "stream",
     "text": [
      "Adversarial Debiasing Training Epoch:  46%|\u001b[32m████▌     \u001b[0m| 229/500 [10:44<09:17,  2.06s/it, accADV=0.639, accCLF=0.732, lossADV=0.657, lossCLF=0.686]"
     ]
    },
    {
     "name": "stdout",
     "output_type": "stream",
     "text": [
      "EarlyStopping counter: 28 out of 100\n"
     ]
    },
    {
     "name": "stderr",
     "output_type": "stream",
     "text": [
      "Adversarial Debiasing Training Epoch:  46%|\u001b[32m████▌     \u001b[0m| 230/500 [10:46<08:39,  1.93s/it, accADV=0.701, accCLF=0.73, lossADV=0.612, lossCLF=0.675] "
     ]
    },
    {
     "name": "stdout",
     "output_type": "stream",
     "text": [
      "EarlyStopping counter: 29 out of 100\n"
     ]
    },
    {
     "name": "stderr",
     "output_type": "stream",
     "text": [
      "Adversarial Debiasing Training Epoch:  46%|\u001b[32m████▌     \u001b[0m| 231/500 [10:47<08:11,  1.83s/it, accADV=0.656, accCLF=0.744, lossADV=0.644, lossCLF=0.676]"
     ]
    },
    {
     "name": "stdout",
     "output_type": "stream",
     "text": [
      "EarlyStopping counter: 30 out of 100\n"
     ]
    },
    {
     "name": "stderr",
     "output_type": "stream",
     "text": [
      "Adversarial Debiasing Training Epoch:  46%|\u001b[32m████▋     \u001b[0m| 232/500 [10:49<07:49,  1.75s/it, accADV=0.664, accCLF=0.723, lossADV=0.638, lossCLF=0.82] "
     ]
    },
    {
     "name": "stdout",
     "output_type": "stream",
     "text": [
      "EarlyStopping counter: 31 out of 100\n"
     ]
    },
    {
     "name": "stderr",
     "output_type": "stream",
     "text": [
      "Adversarial Debiasing Training Epoch:  47%|\u001b[32m████▋     \u001b[0m| 233/500 [10:50<07:40,  1.72s/it, accADV=0.662, accCLF=0.725, lossADV=0.637, lossCLF=0.772]"
     ]
    },
    {
     "name": "stdout",
     "output_type": "stream",
     "text": [
      "EarlyStopping counter: 32 out of 100\n"
     ]
    },
    {
     "name": "stderr",
     "output_type": "stream",
     "text": [
      "Adversarial Debiasing Training Epoch:  47%|\u001b[32m████▋     \u001b[0m| 234/500 [10:52<07:37,  1.72s/it, accADV=0.707, accCLF=0.713, lossADV=0.601, lossCLF=0.816]"
     ]
    },
    {
     "name": "stdout",
     "output_type": "stream",
     "text": [
      "EarlyStopping counter: 33 out of 100\n"
     ]
    },
    {
     "name": "stderr",
     "output_type": "stream",
     "text": [
      "Adversarial Debiasing Training Epoch:  47%|\u001b[32m████▋     \u001b[0m| 235/500 [10:57<11:08,  2.52s/it, accADV=0.643, accCLF=0.691, lossADV=0.649, lossCLF=0.812]"
     ]
    },
    {
     "name": "stdout",
     "output_type": "stream",
     "text": [
      "EarlyStopping counter: 34 out of 100\n"
     ]
    },
    {
     "name": "stderr",
     "output_type": "stream",
     "text": [
      "Adversarial Debiasing Training Epoch:  47%|\u001b[32m████▋     \u001b[0m| 236/500 [11:02<14:30,  3.30s/it, accADV=0.693, accCLF=0.73, lossADV=0.611, lossCLF=0.721] "
     ]
    },
    {
     "name": "stdout",
     "output_type": "stream",
     "text": [
      "EarlyStopping counter: 35 out of 100\n"
     ]
    },
    {
     "name": "stderr",
     "output_type": "stream",
     "text": [
      "Adversarial Debiasing Training Epoch:  47%|\u001b[32m████▋     \u001b[0m| 237/500 [11:08<17:21,  3.96s/it, accADV=0.658, accCLF=0.701, lossADV=0.633, lossCLF=0.79] "
     ]
    },
    {
     "name": "stdout",
     "output_type": "stream",
     "text": [
      "EarlyStopping counter: 36 out of 100\n"
     ]
    },
    {
     "name": "stderr",
     "output_type": "stream",
     "text": [
      "Adversarial Debiasing Training Epoch:  48%|\u001b[32m████▊     \u001b[0m| 238/500 [11:09<15:22,  3.52s/it, accADV=0.701, accCLF=0.693, lossADV=0.601, lossCLF=0.81] "
     ]
    },
    {
     "name": "stdout",
     "output_type": "stream",
     "text": [
      "EarlyStopping counter: 37 out of 100\n"
     ]
    },
    {
     "name": "stderr",
     "output_type": "stream",
     "text": [
      "Adversarial Debiasing Training Epoch:  48%|\u001b[32m████▊     \u001b[0m| 239/500 [11:11<12:40,  2.92s/it, accADV=0.668, accCLF=0.729, lossADV=0.619, lossCLF=0.717]"
     ]
    },
    {
     "name": "stdout",
     "output_type": "stream",
     "text": [
      "EarlyStopping counter: 38 out of 100\n"
     ]
    },
    {
     "name": "stderr",
     "output_type": "stream",
     "text": [
      "Adversarial Debiasing Training Epoch:  48%|\u001b[32m████▊     \u001b[0m| 240/500 [11:12<10:50,  2.50s/it, accADV=0.684, accCLF=0.67, lossADV=0.605, lossCLF=0.765] "
     ]
    },
    {
     "name": "stdout",
     "output_type": "stream",
     "text": [
      "EarlyStopping counter: 39 out of 100\n"
     ]
    },
    {
     "name": "stderr",
     "output_type": "stream",
     "text": [
      "Adversarial Debiasing Training Epoch:  48%|\u001b[32m████▊     \u001b[0m| 241/500 [11:14<09:37,  2.23s/it, accADV=0.693, accCLF=0.723, lossADV=0.603, lossCLF=0.683]"
     ]
    },
    {
     "name": "stdout",
     "output_type": "stream",
     "text": [
      "EarlyStopping counter: 40 out of 100\n"
     ]
    },
    {
     "name": "stderr",
     "output_type": "stream",
     "text": [
      "Adversarial Debiasing Training Epoch:  48%|\u001b[32m████▊     \u001b[0m| 242/500 [11:16<08:40,  2.02s/it, accADV=0.695, accCLF=0.717, lossADV=0.6, lossCLF=0.641]  "
     ]
    },
    {
     "name": "stdout",
     "output_type": "stream",
     "text": [
      "EarlyStopping counter: 41 out of 100\n"
     ]
    },
    {
     "name": "stderr",
     "output_type": "stream",
     "text": [
      "Adversarial Debiasing Training Epoch:  49%|\u001b[32m████▊     \u001b[0m| 243/500 [11:17<08:08,  1.90s/it, accADV=0.668, accCLF=0.682, lossADV=0.617, lossCLF=0.76] "
     ]
    },
    {
     "name": "stdout",
     "output_type": "stream",
     "text": [
      "EarlyStopping counter: 42 out of 100\n"
     ]
    },
    {
     "name": "stderr",
     "output_type": "stream",
     "text": [
      "Adversarial Debiasing Training Epoch:  49%|\u001b[32m████▉     \u001b[0m| 244/500 [11:19<07:45,  1.82s/it, accADV=0.682, accCLF=0.672, lossADV=0.6, lossCLF=0.828]  "
     ]
    },
    {
     "name": "stdout",
     "output_type": "stream",
     "text": [
      "EarlyStopping counter: 43 out of 100\n"
     ]
    },
    {
     "name": "stderr",
     "output_type": "stream",
     "text": [
      "Adversarial Debiasing Training Epoch:  49%|\u001b[32m████▉     \u001b[0m| 245/500 [11:20<07:25,  1.75s/it, accADV=0.67, accCLF=0.699, lossADV=0.613, lossCLF=0.762] "
     ]
    },
    {
     "name": "stdout",
     "output_type": "stream",
     "text": [
      "EarlyStopping counter: 44 out of 100\n"
     ]
    },
    {
     "name": "stderr",
     "output_type": "stream",
     "text": [
      "Adversarial Debiasing Training Epoch:  49%|\u001b[32m████▉     \u001b[0m| 246/500 [11:22<07:10,  1.70s/it, accADV=0.684, accCLF=0.662, lossADV=0.607, lossCLF=0.769]"
     ]
    },
    {
     "name": "stdout",
     "output_type": "stream",
     "text": [
      "EarlyStopping counter: 45 out of 100\n"
     ]
    },
    {
     "name": "stderr",
     "output_type": "stream",
     "text": [
      "Adversarial Debiasing Training Epoch:  49%|\u001b[32m████▉     \u001b[0m| 247/500 [11:23<07:05,  1.68s/it, accADV=0.689, accCLF=0.637, lossADV=0.603, lossCLF=0.852]"
     ]
    },
    {
     "name": "stdout",
     "output_type": "stream",
     "text": [
      "EarlyStopping counter: 46 out of 100\n"
     ]
    },
    {
     "name": "stderr",
     "output_type": "stream",
     "text": [
      "Adversarial Debiasing Training Epoch:  50%|\u001b[32m████▉     \u001b[0m| 248/500 [11:25<07:02,  1.68s/it, accADV=0.627, accCLF=0.689, lossADV=0.643, lossCLF=0.764]"
     ]
    },
    {
     "name": "stdout",
     "output_type": "stream",
     "text": [
      "EarlyStopping counter: 47 out of 100\n"
     ]
    },
    {
     "name": "stderr",
     "output_type": "stream",
     "text": [
      "Adversarial Debiasing Training Epoch:  50%|\u001b[32m████▉     \u001b[0m| 249/500 [11:27<06:55,  1.66s/it, accADV=0.705, accCLF=0.637, lossADV=0.606, lossCLF=0.847]"
     ]
    },
    {
     "name": "stdout",
     "output_type": "stream",
     "text": [
      "EarlyStopping counter: 48 out of 100\n"
     ]
    },
    {
     "name": "stderr",
     "output_type": "stream",
     "text": [
      "Adversarial Debiasing Training Epoch:  50%|\u001b[32m████▉     \u001b[0m| 249/500 [11:28<06:55,  1.66s/it, accADV=0.675, accCLF=0.731, lossADV=0.605, lossCLF=0.593]"
     ]
    },
    {
     "name": "stdout",
     "output_type": "stream",
     "text": [
      "EarlyStopping counter: 49 out of 100\n"
     ]
    },
    {
     "name": "stderr",
     "output_type": "stream",
     "text": [
      "Adversarial Debiasing Training Epoch:  50%|\u001b[32m█████     \u001b[0m| 250/500 [11:30<07:39,  1.84s/it, accADV=0.721, accCLF=0.719, lossADV=0.599, lossCLF=0.784]"
     ]
    },
    {
     "name": "stdout",
     "output_type": "stream",
     "text": [
      "EarlyStopping counter: 50 out of 100\n"
     ]
    },
    {
     "name": "stderr",
     "output_type": "stream",
     "text": [
      "Adversarial Debiasing Training Epoch:  50%|\u001b[32m█████     \u001b[0m| 251/500 [11:32<07:32,  1.82s/it, accADV=0.697, accCLF=0.707, lossADV=0.598, lossCLF=0.797]"
     ]
    },
    {
     "name": "stdout",
     "output_type": "stream",
     "text": [
      "EarlyStopping counter: 51 out of 100\n"
     ]
    },
    {
     "name": "stderr",
     "output_type": "stream",
     "text": [
      "Adversarial Debiasing Training Epoch:  50%|\u001b[32m█████     \u001b[0m| 252/500 [11:34<07:31,  1.82s/it, accADV=0.715, accCLF=0.697, lossADV=0.591, lossCLF=0.792]"
     ]
    },
    {
     "name": "stdout",
     "output_type": "stream",
     "text": [
      "EarlyStopping counter: 52 out of 100\n"
     ]
    },
    {
     "name": "stderr",
     "output_type": "stream",
     "text": [
      "Adversarial Debiasing Training Epoch:  51%|\u001b[32m█████     \u001b[0m| 253/500 [11:35<07:22,  1.79s/it, accADV=0.715, accCLF=0.705, lossADV=0.595, lossCLF=0.825]"
     ]
    },
    {
     "name": "stdout",
     "output_type": "stream",
     "text": [
      "EarlyStopping counter: 53 out of 100\n"
     ]
    },
    {
     "name": "stderr",
     "output_type": "stream",
     "text": [
      "Adversarial Debiasing Training Epoch:  51%|\u001b[32m█████     \u001b[0m| 254/500 [11:37<07:22,  1.80s/it, accADV=0.688, accCLF=0.721, lossADV=0.608, lossCLF=0.772]"
     ]
    },
    {
     "name": "stdout",
     "output_type": "stream",
     "text": [
      "EarlyStopping counter: 54 out of 100\n"
     ]
    },
    {
     "name": "stderr",
     "output_type": "stream",
     "text": [
      "Adversarial Debiasing Training Epoch:  51%|\u001b[32m█████     \u001b[0m| 255/500 [11:39<07:20,  1.80s/it, accADV=0.691, accCLF=0.742, lossADV=0.611, lossCLF=0.72] "
     ]
    },
    {
     "name": "stdout",
     "output_type": "stream",
     "text": [
      "EarlyStopping counter: 55 out of 100\n"
     ]
    },
    {
     "name": "stderr",
     "output_type": "stream",
     "text": [
      "Adversarial Debiasing Training Epoch:  51%|\u001b[32m█████     \u001b[0m| 256/500 [11:41<07:31,  1.85s/it, accADV=0.742, accCLF=0.717, lossADV=0.567, lossCLF=0.795]"
     ]
    },
    {
     "name": "stdout",
     "output_type": "stream",
     "text": [
      "EarlyStopping counter: 56 out of 100\n"
     ]
    },
    {
     "name": "stderr",
     "output_type": "stream",
     "text": [
      "Adversarial Debiasing Training Epoch:  51%|\u001b[32m█████▏    \u001b[0m| 257/500 [11:43<07:43,  1.91s/it, accADV=0.672, accCLF=0.74, lossADV=0.635, lossCLF=0.767] "
     ]
    },
    {
     "name": "stdout",
     "output_type": "stream",
     "text": [
      "EarlyStopping counter: 57 out of 100\n"
     ]
    },
    {
     "name": "stderr",
     "output_type": "stream",
     "text": [
      "Adversarial Debiasing Training Epoch:  52%|\u001b[32m█████▏    \u001b[0m| 258/500 [11:45<08:00,  1.98s/it, accADV=0.734, accCLF=0.697, lossADV=0.59, lossCLF=0.804] "
     ]
    },
    {
     "name": "stdout",
     "output_type": "stream",
     "text": [
      "EarlyStopping counter: 58 out of 100\n"
     ]
    },
    {
     "name": "stderr",
     "output_type": "stream",
     "text": [
      "Adversarial Debiasing Training Epoch:  52%|\u001b[32m█████▏    \u001b[0m| 259/500 [11:47<07:46,  1.93s/it, accADV=0.709, accCLF=0.736, lossADV=0.591, lossCLF=0.803]"
     ]
    },
    {
     "name": "stdout",
     "output_type": "stream",
     "text": [
      "EarlyStopping counter: 59 out of 100\n"
     ]
    },
    {
     "name": "stderr",
     "output_type": "stream",
     "text": [
      "Adversarial Debiasing Training Epoch:  52%|\u001b[32m█████▏    \u001b[0m| 260/500 [11:49<07:33,  1.89s/it, accADV=0.678, accCLF=0.76, lossADV=0.622, lossCLF=0.698] "
     ]
    },
    {
     "name": "stdout",
     "output_type": "stream",
     "text": [
      "EarlyStopping counter: 60 out of 100\n"
     ]
    },
    {
     "name": "stderr",
     "output_type": "stream",
     "text": [
      "Adversarial Debiasing Training Epoch:  52%|\u001b[32m█████▏    \u001b[0m| 261/500 [11:50<07:25,  1.86s/it, accADV=0.707, accCLF=0.723, lossADV=0.606, lossCLF=0.798]"
     ]
    },
    {
     "name": "stdout",
     "output_type": "stream",
     "text": [
      "EarlyStopping counter: 61 out of 100\n"
     ]
    },
    {
     "name": "stderr",
     "output_type": "stream",
     "text": [
      "Adversarial Debiasing Training Epoch:  52%|\u001b[32m█████▏    \u001b[0m| 262/500 [11:52<07:22,  1.86s/it, accADV=0.709, accCLF=0.707, lossADV=0.594, lossCLF=0.815]"
     ]
    },
    {
     "name": "stdout",
     "output_type": "stream",
     "text": [
      "EarlyStopping counter: 62 out of 100\n"
     ]
    },
    {
     "name": "stderr",
     "output_type": "stream",
     "text": [
      "Adversarial Debiasing Training Epoch:  53%|\u001b[32m█████▎    \u001b[0m| 263/500 [11:54<07:14,  1.83s/it, accADV=0.699, accCLF=0.742, lossADV=0.604, lossCLF=0.749]"
     ]
    },
    {
     "name": "stdout",
     "output_type": "stream",
     "text": [
      "EarlyStopping counter: 63 out of 100\n"
     ]
    },
    {
     "name": "stderr",
     "output_type": "stream",
     "text": [
      "Adversarial Debiasing Training Epoch:  53%|\u001b[32m█████▎    \u001b[0m| 264/500 [11:56<07:12,  1.83s/it, accADV=0.693, accCLF=0.697, lossADV=0.613, lossCLF=0.856]"
     ]
    },
    {
     "name": "stdout",
     "output_type": "stream",
     "text": [
      "EarlyStopping counter: 64 out of 100\n"
     ]
    },
    {
     "name": "stderr",
     "output_type": "stream",
     "text": [
      "Adversarial Debiasing Training Epoch:  53%|\u001b[32m█████▎    \u001b[0m| 265/500 [11:58<07:12,  1.84s/it, accADV=0.691, accCLF=0.717, lossADV=0.611, lossCLF=0.853]"
     ]
    },
    {
     "name": "stdout",
     "output_type": "stream",
     "text": [
      "EarlyStopping counter: 65 out of 100\n"
     ]
    },
    {
     "name": "stderr",
     "output_type": "stream",
     "text": [
      "Adversarial Debiasing Training Epoch:  53%|\u001b[32m█████▎    \u001b[0m| 266/500 [11:59<07:11,  1.85s/it, accADV=0.721, accCLF=0.717, lossADV=0.585, lossCLF=0.867]"
     ]
    },
    {
     "name": "stdout",
     "output_type": "stream",
     "text": [
      "EarlyStopping counter: 66 out of 100\n"
     ]
    },
    {
     "name": "stderr",
     "output_type": "stream",
     "text": [
      "Adversarial Debiasing Training Epoch:  53%|\u001b[32m█████▎    \u001b[0m| 267/500 [12:01<07:03,  1.82s/it, accADV=0.717, accCLF=0.693, lossADV=0.593, lossCLF=0.858]"
     ]
    },
    {
     "name": "stdout",
     "output_type": "stream",
     "text": [
      "EarlyStopping counter: 67 out of 100\n"
     ]
    },
    {
     "name": "stderr",
     "output_type": "stream",
     "text": [
      "Adversarial Debiasing Training Epoch:  54%|\u001b[32m█████▎    \u001b[0m| 268/500 [12:04<07:10,  1.86s/it, accADV=0.717, accCLF=0.699, lossADV=0.591, lossCLF=0.836]"
     ]
    },
    {
     "name": "stdout",
     "output_type": "stream",
     "text": [
      "EarlyStopping counter: 68 out of 100\n"
     ]
    },
    {
     "name": "stderr",
     "output_type": "stream",
     "text": [
      "Adversarial Debiasing Training Epoch:  54%|\u001b[32m█████▍    \u001b[0m| 269/500 [12:10<11:33,  3.00s/it, accADV=0.686, accCLF=0.709, lossADV=0.615, lossCLF=0.764]"
     ]
    },
    {
     "name": "stdout",
     "output_type": "stream",
     "text": [
      "EarlyStopping counter: 69 out of 100\n"
     ]
    },
    {
     "name": "stderr",
     "output_type": "stream",
     "text": [
      "Adversarial Debiasing Training Epoch:  54%|\u001b[32m█████▍    \u001b[0m| 270/500 [12:15<13:52,  3.62s/it, accADV=0.723, accCLF=0.699, lossADV=0.587, lossCLF=0.825]"
     ]
    },
    {
     "name": "stdout",
     "output_type": "stream",
     "text": [
      "EarlyStopping counter: 70 out of 100\n"
     ]
    },
    {
     "name": "stderr",
     "output_type": "stream",
     "text": [
      "Adversarial Debiasing Training Epoch:  54%|\u001b[32m█████▍    \u001b[0m| 271/500 [12:20<15:29,  4.06s/it, accADV=0.703, accCLF=0.705, lossADV=0.603, lossCLF=0.816]"
     ]
    },
    {
     "name": "stdout",
     "output_type": "stream",
     "text": [
      "EarlyStopping counter: 71 out of 100\n"
     ]
    },
    {
     "name": "stderr",
     "output_type": "stream",
     "text": [
      "Adversarial Debiasing Training Epoch:  54%|\u001b[32m█████▍    \u001b[0m| 272/500 [12:25<16:25,  4.32s/it, accADV=0.699, accCLF=0.781, lossADV=0.604, lossCLF=0.66] "
     ]
    },
    {
     "name": "stdout",
     "output_type": "stream",
     "text": [
      "EarlyStopping counter: 72 out of 100\n"
     ]
    },
    {
     "name": "stderr",
     "output_type": "stream",
     "text": [
      "Adversarial Debiasing Training Epoch:  55%|\u001b[32m█████▍    \u001b[0m| 273/500 [12:28<16:02,  4.24s/it, accADV=0.721, accCLF=0.688, lossADV=0.588, lossCLF=0.824]"
     ]
    },
    {
     "name": "stdout",
     "output_type": "stream",
     "text": [
      "EarlyStopping counter: 73 out of 100\n"
     ]
    },
    {
     "name": "stderr",
     "output_type": "stream",
     "text": [
      "Adversarial Debiasing Training Epoch:  55%|\u001b[32m█████▍    \u001b[0m| 274/500 [12:29<12:59,  3.45s/it, accADV=0.672, accCLF=0.686, lossADV=0.635, lossCLF=0.956]"
     ]
    },
    {
     "name": "stdout",
     "output_type": "stream",
     "text": [
      "EarlyStopping counter: 74 out of 100\n"
     ]
    },
    {
     "name": "stderr",
     "output_type": "stream",
     "text": [
      "Adversarial Debiasing Training Epoch:  55%|\u001b[32m█████▌    \u001b[0m| 275/500 [12:31<10:52,  2.90s/it, accADV=0.676, accCLF=0.717, lossADV=0.625, lossCLF=0.747]"
     ]
    },
    {
     "name": "stdout",
     "output_type": "stream",
     "text": [
      "EarlyStopping counter: 75 out of 100\n"
     ]
    },
    {
     "name": "stderr",
     "output_type": "stream",
     "text": [
      "Adversarial Debiasing Training Epoch:  55%|\u001b[32m█████▌    \u001b[0m| 276/500 [12:32<09:20,  2.50s/it, accADV=0.688, accCLF=0.695, lossADV=0.614, lossCLF=0.932]"
     ]
    },
    {
     "name": "stdout",
     "output_type": "stream",
     "text": [
      "EarlyStopping counter: 76 out of 100\n"
     ]
    },
    {
     "name": "stderr",
     "output_type": "stream",
     "text": [
      "Adversarial Debiasing Training Epoch:  55%|\u001b[32m█████▌    \u001b[0m| 277/500 [12:34<08:13,  2.21s/it, accADV=0.732, accCLF=0.715, lossADV=0.583, lossCLF=0.754]"
     ]
    },
    {
     "name": "stdout",
     "output_type": "stream",
     "text": [
      "EarlyStopping counter: 77 out of 100\n"
     ]
    },
    {
     "name": "stderr",
     "output_type": "stream",
     "text": [
      "Adversarial Debiasing Training Epoch:  56%|\u001b[32m█████▌    \u001b[0m| 278/500 [12:36<07:34,  2.05s/it, accADV=0.686, accCLF=0.75, lossADV=0.614, lossCLF=0.732] "
     ]
    },
    {
     "name": "stdout",
     "output_type": "stream",
     "text": [
      "EarlyStopping counter: 78 out of 100\n"
     ]
    },
    {
     "name": "stderr",
     "output_type": "stream",
     "text": [
      "Adversarial Debiasing Training Epoch:  56%|\u001b[32m█████▌    \u001b[0m| 279/500 [12:37<07:02,  1.91s/it, accADV=0.678, accCLF=0.723, lossADV=0.622, lossCLF=0.83] "
     ]
    },
    {
     "name": "stdout",
     "output_type": "stream",
     "text": [
      "EarlyStopping counter: 79 out of 100\n"
     ]
    },
    {
     "name": "stderr",
     "output_type": "stream",
     "text": [
      "Adversarial Debiasing Training Epoch:  56%|\u001b[32m█████▌    \u001b[0m| 280/500 [12:39<06:41,  1.82s/it, accADV=0.695, accCLF=0.73, lossADV=0.612, lossCLF=0.77]  "
     ]
    },
    {
     "name": "stdout",
     "output_type": "stream",
     "text": [
      "EarlyStopping counter: 80 out of 100\n"
     ]
    },
    {
     "name": "stderr",
     "output_type": "stream",
     "text": [
      "Adversarial Debiasing Training Epoch:  56%|\u001b[32m█████▌    \u001b[0m| 281/500 [12:40<06:30,  1.78s/it, accADV=0.688, accCLF=0.748, lossADV=0.615, lossCLF=0.796]"
     ]
    },
    {
     "name": "stdout",
     "output_type": "stream",
     "text": [
      "EarlyStopping counter: 81 out of 100\n"
     ]
    },
    {
     "name": "stderr",
     "output_type": "stream",
     "text": [
      "Adversarial Debiasing Training Epoch:  56%|\u001b[32m█████▋    \u001b[0m| 282/500 [12:42<06:22,  1.76s/it, accADV=0.666, accCLF=0.709, lossADV=0.631, lossCLF=0.896]"
     ]
    },
    {
     "name": "stdout",
     "output_type": "stream",
     "text": [
      "EarlyStopping counter: 82 out of 100\n"
     ]
    },
    {
     "name": "stderr",
     "output_type": "stream",
     "text": [
      "Adversarial Debiasing Training Epoch:  57%|\u001b[32m█████▋    \u001b[0m| 283/500 [12:44<06:18,  1.74s/it, accADV=0.693, accCLF=0.732, lossADV=0.613, lossCLF=0.88] "
     ]
    },
    {
     "name": "stdout",
     "output_type": "stream",
     "text": [
      "EarlyStopping counter: 83 out of 100\n"
     ]
    },
    {
     "name": "stderr",
     "output_type": "stream",
     "text": [
      "Adversarial Debiasing Training Epoch:  57%|\u001b[32m█████▋    \u001b[0m| 284/500 [12:46<06:29,  1.80s/it, accADV=0.699, accCLF=0.74, lossADV=0.61, lossCLF=0.735]  "
     ]
    },
    {
     "name": "stdout",
     "output_type": "stream",
     "text": [
      "EarlyStopping counter: 84 out of 100\n"
     ]
    },
    {
     "name": "stderr",
     "output_type": "stream",
     "text": [
      "Adversarial Debiasing Training Epoch:  57%|\u001b[32m█████▋    \u001b[0m| 285/500 [12:52<10:26,  2.91s/it, accADV=0.66, accCLF=0.742, lossADV=0.644, lossCLF=0.778] "
     ]
    },
    {
     "name": "stdout",
     "output_type": "stream",
     "text": [
      "EarlyStopping counter: 85 out of 100\n"
     ]
    },
    {
     "name": "stderr",
     "output_type": "stream",
     "text": [
      "Adversarial Debiasing Training Epoch:  57%|\u001b[32m█████▋    \u001b[0m| 286/500 [12:57<12:36,  3.54s/it, accADV=0.686, accCLF=0.74, lossADV=0.625, lossCLF=0.85]  "
     ]
    },
    {
     "name": "stdout",
     "output_type": "stream",
     "text": [
      "EarlyStopping counter: 86 out of 100\n"
     ]
    },
    {
     "name": "stderr",
     "output_type": "stream",
     "text": [
      "Adversarial Debiasing Training Epoch:  57%|\u001b[32m█████▋    \u001b[0m| 287/500 [13:02<13:55,  3.92s/it, accADV=0.686, accCLF=0.719, lossADV=0.622, lossCLF=0.754]"
     ]
    },
    {
     "name": "stdout",
     "output_type": "stream",
     "text": [
      "EarlyStopping counter: 87 out of 100\n"
     ]
    },
    {
     "name": "stderr",
     "output_type": "stream",
     "text": [
      "Adversarial Debiasing Training Epoch:  58%|\u001b[32m█████▊    \u001b[0m| 288/500 [13:06<14:47,  4.19s/it, accADV=0.699, accCLF=0.721, lossADV=0.617, lossCLF=0.837]"
     ]
    },
    {
     "name": "stdout",
     "output_type": "stream",
     "text": [
      "EarlyStopping counter: 88 out of 100\n"
     ]
    },
    {
     "name": "stderr",
     "output_type": "stream",
     "text": [
      "Adversarial Debiasing Training Epoch:  58%|\u001b[32m█████▊    \u001b[0m| 289/500 [13:11<15:54,  4.52s/it, accADV=0.654, accCLF=0.701, lossADV=0.641, lossCLF=0.775]"
     ]
    },
    {
     "name": "stdout",
     "output_type": "stream",
     "text": [
      "EarlyStopping counter: 89 out of 100\n"
     ]
    },
    {
     "name": "stderr",
     "output_type": "stream",
     "text": [
      "Adversarial Debiasing Training Epoch:  58%|\u001b[32m█████▊    \u001b[0m| 290/500 [13:16<16:00,  4.57s/it, accADV=0.684, accCLF=0.66, lossADV=0.626, lossCLF=0.92]  "
     ]
    },
    {
     "name": "stdout",
     "output_type": "stream",
     "text": [
      "EarlyStopping counter: 90 out of 100\n"
     ]
    },
    {
     "name": "stderr",
     "output_type": "stream",
     "text": [
      "Adversarial Debiasing Training Epoch:  58%|\u001b[32m█████▊    \u001b[0m| 291/500 [13:21<15:51,  4.55s/it, accADV=0.656, accCLF=0.711, lossADV=0.649, lossCLF=0.846]"
     ]
    },
    {
     "name": "stdout",
     "output_type": "stream",
     "text": [
      "EarlyStopping counter: 91 out of 100\n"
     ]
    },
    {
     "name": "stderr",
     "output_type": "stream",
     "text": [
      "Adversarial Debiasing Training Epoch:  58%|\u001b[32m█████▊    \u001b[0m| 292/500 [13:26<16:14,  4.69s/it, accADV=0.656, accCLF=0.715, lossADV=0.64, lossCLF=0.789] "
     ]
    },
    {
     "name": "stdout",
     "output_type": "stream",
     "text": [
      "EarlyStopping counter: 92 out of 100\n"
     ]
    },
    {
     "name": "stderr",
     "output_type": "stream",
     "text": [
      "Adversarial Debiasing Training Epoch:  59%|\u001b[32m█████▊    \u001b[0m| 293/500 [13:30<16:07,  4.67s/it, accADV=0.678, accCLF=0.668, lossADV=0.617, lossCLF=0.843]"
     ]
    },
    {
     "name": "stdout",
     "output_type": "stream",
     "text": [
      "EarlyStopping counter: 93 out of 100\n"
     ]
    },
    {
     "name": "stderr",
     "output_type": "stream",
     "text": [
      "Adversarial Debiasing Training Epoch:  59%|\u001b[32m█████▉    \u001b[0m| 294/500 [13:32<13:40,  3.98s/it, accADV=0.686, accCLF=0.686, lossADV=0.626, lossCLF=0.857]"
     ]
    },
    {
     "name": "stdout",
     "output_type": "stream",
     "text": [
      "EarlyStopping counter: 94 out of 100\n"
     ]
    },
    {
     "name": "stderr",
     "output_type": "stream",
     "text": [
      "Adversarial Debiasing Training Epoch:  59%|\u001b[32m█████▉    \u001b[0m| 295/500 [13:34<11:06,  3.25s/it, accADV=0.703, accCLF=0.707, lossADV=0.61, lossCLF=0.866] "
     ]
    },
    {
     "name": "stdout",
     "output_type": "stream",
     "text": [
      "EarlyStopping counter: 95 out of 100\n"
     ]
    },
    {
     "name": "stderr",
     "output_type": "stream",
     "text": [
      "Adversarial Debiasing Training Epoch:  59%|\u001b[32m█████▉    \u001b[0m| 296/500 [13:35<09:15,  2.72s/it, accADV=0.689, accCLF=0.639, lossADV=0.619, lossCLF=1.03] "
     ]
    },
    {
     "name": "stdout",
     "output_type": "stream",
     "text": [
      "EarlyStopping counter: 96 out of 100\n"
     ]
    },
    {
     "name": "stderr",
     "output_type": "stream",
     "text": [
      "Adversarial Debiasing Training Epoch:  59%|\u001b[32m█████▉    \u001b[0m| 297/500 [13:37<08:02,  2.38s/it, accADV=0.678, accCLF=0.68, lossADV=0.614, lossCLF=0.878] "
     ]
    },
    {
     "name": "stdout",
     "output_type": "stream",
     "text": [
      "EarlyStopping counter: 97 out of 100\n"
     ]
    },
    {
     "name": "stderr",
     "output_type": "stream",
     "text": [
      "Adversarial Debiasing Training Epoch:  60%|\u001b[32m█████▉    \u001b[0m| 298/500 [13:38<07:11,  2.14s/it, accADV=0.672, accCLF=0.684, lossADV=0.647, lossCLF=0.936]"
     ]
    },
    {
     "name": "stdout",
     "output_type": "stream",
     "text": [
      "EarlyStopping counter: 98 out of 100\n"
     ]
    },
    {
     "name": "stderr",
     "output_type": "stream",
     "text": [
      "Adversarial Debiasing Training Epoch:  60%|\u001b[32m█████▉    \u001b[0m| 299/500 [13:40<06:35,  1.97s/it, accADV=0.705, accCLF=0.67, lossADV=0.613, lossCLF=0.964] "
     ]
    },
    {
     "name": "stdout",
     "output_type": "stream",
     "text": [
      "EarlyStopping counter: 99 out of 100\n"
     ]
    },
    {
     "name": "stderr",
     "output_type": "stream",
     "text": [
      "Adversarial Debiasing Training Epoch:  60%|\u001b[32m█████▉    \u001b[0m| 299/500 [13:41<06:35,  1.97s/it, accADV=0.704, accCLF=0.715, lossADV=0.602, lossCLF=0.575]"
     ]
    },
    {
     "name": "stdout",
     "output_type": "stream",
     "text": [
      "EarlyStopping counter: 100 out of 100\n"
     ]
    },
    {
     "name": "stderr",
     "output_type": "stream",
     "text": [
      "Adversarial Debiasing Training Epoch:  60%|\u001b[32m██████    \u001b[0m| 300/500 [13:43<06:49,  2.05s/it, accADV=0.66, accCLF=0.732, lossADV=0.649, lossCLF=0.746] "
     ]
    },
    {
     "name": "stdout",
     "output_type": "stream",
     "text": [
      "EarlyStopping counter: 101 out of 100\n"
     ]
    },
    {
     "name": "stderr",
     "output_type": "stream",
     "text": [
      "Adversarial Debiasing Training Epoch:  60%|\u001b[32m██████    \u001b[0m| 301/500 [13:45<06:25,  1.94s/it, accADV=0.652, accCLF=0.779, lossADV=0.654, lossCLF=0.734]"
     ]
    },
    {
     "name": "stdout",
     "output_type": "stream",
     "text": [
      "EarlyStopping counter: 102 out of 100\n"
     ]
    },
    {
     "name": "stderr",
     "output_type": "stream",
     "text": [
      "Adversarial Debiasing Training Epoch:  60%|\u001b[32m██████    \u001b[0m| 302/500 [13:46<06:09,  1.86s/it, accADV=0.703, accCLF=0.732, lossADV=0.604, lossCLF=0.833]"
     ]
    },
    {
     "name": "stdout",
     "output_type": "stream",
     "text": [
      "EarlyStopping counter: 103 out of 100\n"
     ]
    },
    {
     "name": "stderr",
     "output_type": "stream",
     "text": [
      "Adversarial Debiasing Training Epoch:  61%|\u001b[32m██████    \u001b[0m| 303/500 [13:48<05:55,  1.80s/it, accADV=0.674, accCLF=0.758, lossADV=0.637, lossCLF=0.703]"
     ]
    },
    {
     "name": "stdout",
     "output_type": "stream",
     "text": [
      "EarlyStopping counter: 104 out of 100\n"
     ]
    },
    {
     "name": "stderr",
     "output_type": "stream",
     "text": [
      "Adversarial Debiasing Training Epoch:  61%|\u001b[32m██████    \u001b[0m| 304/500 [13:50<05:48,  1.78s/it, accADV=0.674, accCLF=0.756, lossADV=0.63, lossCLF=0.694] "
     ]
    },
    {
     "name": "stdout",
     "output_type": "stream",
     "text": [
      "EarlyStopping counter: 105 out of 100\n"
     ]
    },
    {
     "name": "stderr",
     "output_type": "stream",
     "text": [
      "Adversarial Debiasing Training Epoch:  61%|\u001b[32m██████    \u001b[0m| 305/500 [13:52<05:38,  1.74s/it, accADV=0.691, accCLF=0.758, lossADV=0.621, lossCLF=0.678]"
     ]
    },
    {
     "name": "stdout",
     "output_type": "stream",
     "text": [
      "EarlyStopping counter: 106 out of 100\n"
     ]
    },
    {
     "name": "stderr",
     "output_type": "stream",
     "text": [
      "Adversarial Debiasing Training Epoch:  61%|\u001b[32m██████    \u001b[0m| 306/500 [13:54<05:50,  1.81s/it, accADV=0.66, accCLF=0.795, lossADV=0.646, lossCLF=0.528] "
     ]
    },
    {
     "name": "stdout",
     "output_type": "stream",
     "text": [
      "EarlyStopping counter: 107 out of 100\n"
     ]
    },
    {
     "name": "stderr",
     "output_type": "stream",
     "text": [
      "Adversarial Debiasing Training Epoch:  61%|\u001b[32m██████▏   \u001b[0m| 307/500 [13:56<06:06,  1.90s/it, accADV=0.699, accCLF=0.744, lossADV=0.608, lossCLF=0.778]"
     ]
    },
    {
     "name": "stdout",
     "output_type": "stream",
     "text": [
      "EarlyStopping counter: 108 out of 100\n"
     ]
    },
    {
     "name": "stderr",
     "output_type": "stream",
     "text": [
      "Adversarial Debiasing Training Epoch:  62%|\u001b[32m██████▏   \u001b[0m| 308/500 [13:57<05:58,  1.87s/it, accADV=0.678, accCLF=0.787, lossADV=0.628, lossCLF=0.63] "
     ]
    },
    {
     "name": "stdout",
     "output_type": "stream",
     "text": [
      "EarlyStopping counter: 109 out of 100\n"
     ]
    },
    {
     "name": "stderr",
     "output_type": "stream",
     "text": [
      "Adversarial Debiasing Training Epoch:  62%|\u001b[32m██████▏   \u001b[0m| 309/500 [13:59<05:49,  1.83s/it, accADV=0.682, accCLF=0.754, lossADV=0.632, lossCLF=0.693]"
     ]
    },
    {
     "name": "stdout",
     "output_type": "stream",
     "text": [
      "EarlyStopping counter: 110 out of 100\n"
     ]
    },
    {
     "name": "stderr",
     "output_type": "stream",
     "text": [
      "Adversarial Debiasing Training Epoch:  62%|\u001b[32m██████▏   \u001b[0m| 310/500 [14:01<05:49,  1.84s/it, accADV=0.701, accCLF=0.752, lossADV=0.61, lossCLF=0.699] "
     ]
    },
    {
     "name": "stdout",
     "output_type": "stream",
     "text": [
      "EarlyStopping counter: 111 out of 100\n"
     ]
    },
    {
     "name": "stderr",
     "output_type": "stream",
     "text": [
      "Adversarial Debiasing Training Epoch:  62%|\u001b[32m██████▏   \u001b[0m| 311/500 [14:03<05:49,  1.85s/it, accADV=0.684, accCLF=0.789, lossADV=0.628, lossCLF=0.665]"
     ]
    },
    {
     "name": "stdout",
     "output_type": "stream",
     "text": [
      "EarlyStopping counter: 112 out of 100\n"
     ]
    },
    {
     "name": "stderr",
     "output_type": "stream",
     "text": [
      "Adversarial Debiasing Training Epoch:  62%|\u001b[32m██████▏   \u001b[0m| 312/500 [14:05<05:41,  1.82s/it, accADV=0.703, accCLF=0.787, lossADV=0.606, lossCLF=0.578]"
     ]
    },
    {
     "name": "stdout",
     "output_type": "stream",
     "text": [
      "EarlyStopping counter: 113 out of 100\n"
     ]
    },
    {
     "name": "stderr",
     "output_type": "stream",
     "text": [
      "Adversarial Debiasing Training Epoch:  63%|\u001b[32m██████▎   \u001b[0m| 313/500 [14:06<05:42,  1.83s/it, accADV=0.684, accCLF=0.768, lossADV=0.623, lossCLF=0.653]"
     ]
    },
    {
     "name": "stdout",
     "output_type": "stream",
     "text": [
      "EarlyStopping counter: 114 out of 100\n"
     ]
    },
    {
     "name": "stderr",
     "output_type": "stream",
     "text": [
      "Adversarial Debiasing Training Epoch:  63%|\u001b[32m██████▎   \u001b[0m| 314/500 [14:13<07:39,  2.47s/it, accADV=0.682, accCLF=0.781, lossADV=0.633, lossCLF=0.546]"
     ]
    },
    {
     "name": "stdout",
     "output_type": "stream",
     "text": [
      "EarlyStopping counter: 115 out of 100\n"
     ]
    },
    {
     "name": "stderr",
     "output_type": "stream",
     "text": [
      "Adversarial Debiasing Training Epoch:  63%|\u001b[32m██████▎   \u001b[0m| 315/500 [14:19<11:13,  3.64s/it, accADV=0.701, accCLF=0.787, lossADV=0.607, lossCLF=0.583]"
     ]
    },
    {
     "name": "stdout",
     "output_type": "stream",
     "text": [
      "EarlyStopping counter: 116 out of 100\n"
     ]
    },
    {
     "name": "stderr",
     "output_type": "stream",
     "text": [
      "Adversarial Debiasing Training Epoch:  63%|\u001b[32m██████▎   \u001b[0m| 316/500 [14:24<13:04,  4.27s/it, accADV=0.662, accCLF=0.762, lossADV=0.639, lossCLF=0.638]"
     ]
    },
    {
     "name": "stdout",
     "output_type": "stream",
     "text": [
      "EarlyStopping counter: 117 out of 100\n"
     ]
    },
    {
     "name": "stderr",
     "output_type": "stream",
     "text": [
      "Adversarial Debiasing Training Epoch:  63%|\u001b[32m██████▎   \u001b[0m| 317/500 [14:29<14:07,  4.63s/it, accADV=0.676, accCLF=0.775, lossADV=0.628, lossCLF=0.598]"
     ]
    },
    {
     "name": "stdout",
     "output_type": "stream",
     "text": [
      "EarlyStopping counter: 118 out of 100\n"
     ]
    },
    {
     "name": "stderr",
     "output_type": "stream",
     "text": [
      "Adversarial Debiasing Training Epoch:  64%|\u001b[32m██████▎   \u001b[0m| 318/500 [14:35<14:29,  4.78s/it, accADV=0.658, accCLF=0.768, lossADV=0.643, lossCLF=0.636]"
     ]
    },
    {
     "name": "stdout",
     "output_type": "stream",
     "text": [
      "EarlyStopping counter: 119 out of 100\n"
     ]
    },
    {
     "name": "stderr",
     "output_type": "stream",
     "text": [
      "Adversarial Debiasing Training Epoch:  64%|\u001b[32m██████▍   \u001b[0m| 319/500 [14:37<14:14,  4.72s/it, accADV=0.719, accCLF=0.764, lossADV=0.596, lossCLF=0.696]"
     ]
    },
    {
     "name": "stdout",
     "output_type": "stream",
     "text": [
      "EarlyStopping counter: 120 out of 100\n"
     ]
    },
    {
     "name": "stderr",
     "output_type": "stream",
     "text": [
      "Adversarial Debiasing Training Epoch:  64%|\u001b[32m██████▍   \u001b[0m| 320/500 [14:39<11:22,  3.79s/it, accADV=0.678, accCLF=0.764, lossADV=0.632, lossCLF=0.657]"
     ]
    },
    {
     "name": "stdout",
     "output_type": "stream",
     "text": [
      "EarlyStopping counter: 121 out of 100\n"
     ]
    },
    {
     "name": "stderr",
     "output_type": "stream",
     "text": [
      "Adversarial Debiasing Training Epoch:  64%|\u001b[32m██████▍   \u001b[0m| 321/500 [14:41<09:22,  3.14s/it, accADV=0.676, accCLF=0.795, lossADV=0.622, lossCLF=0.57] "
     ]
    },
    {
     "name": "stdout",
     "output_type": "stream",
     "text": [
      "EarlyStopping counter: 122 out of 100\n"
     ]
    },
    {
     "name": "stderr",
     "output_type": "stream",
     "text": [
      "Adversarial Debiasing Training Epoch:  64%|\u001b[32m██████▍   \u001b[0m| 322/500 [14:42<07:59,  2.69s/it, accADV=0.691, accCLF=0.738, lossADV=0.612, lossCLF=0.592]"
     ]
    },
    {
     "name": "stdout",
     "output_type": "stream",
     "text": [
      "EarlyStopping counter: 123 out of 100\n"
     ]
    },
    {
     "name": "stderr",
     "output_type": "stream",
     "text": [
      "Adversarial Debiasing Training Epoch:  65%|\u001b[32m██████▍   \u001b[0m| 323/500 [14:44<07:02,  2.39s/it, accADV=0.74, accCLF=0.748, lossADV=0.585, lossCLF=0.644] "
     ]
    },
    {
     "name": "stdout",
     "output_type": "stream",
     "text": [
      "EarlyStopping counter: 124 out of 100\n"
     ]
    },
    {
     "name": "stderr",
     "output_type": "stream",
     "text": [
      "Adversarial Debiasing Training Epoch:  65%|\u001b[32m██████▍   \u001b[0m| 324/500 [14:45<06:19,  2.15s/it, accADV=0.66, accCLF=0.75, lossADV=0.638, lossCLF=0.631]  "
     ]
    },
    {
     "name": "stdout",
     "output_type": "stream",
     "text": [
      "EarlyStopping counter: 125 out of 100\n"
     ]
    },
    {
     "name": "stderr",
     "output_type": "stream",
     "text": [
      "Adversarial Debiasing Training Epoch:  65%|\u001b[32m██████▌   \u001b[0m| 325/500 [14:47<05:51,  2.01s/it, accADV=0.67, accCLF=0.764, lossADV=0.638, lossCLF=0.621] "
     ]
    },
    {
     "name": "stdout",
     "output_type": "stream",
     "text": [
      "EarlyStopping counter: 126 out of 100\n"
     ]
    },
    {
     "name": "stderr",
     "output_type": "stream",
     "text": [
      "Adversarial Debiasing Training Epoch:  65%|\u001b[32m██████▌   \u001b[0m| 326/500 [14:49<05:32,  1.91s/it, accADV=0.701, accCLF=0.754, lossADV=0.602, lossCLF=0.596]"
     ]
    },
    {
     "name": "stdout",
     "output_type": "stream",
     "text": [
      "EarlyStopping counter: 127 out of 100\n"
     ]
    },
    {
     "name": "stderr",
     "output_type": "stream",
     "text": [
      "Adversarial Debiasing Training Epoch:  65%|\u001b[32m██████▌   \u001b[0m| 327/500 [14:50<05:17,  1.84s/it, accADV=0.713, accCLF=0.756, lossADV=0.603, lossCLF=0.585]"
     ]
    },
    {
     "name": "stdout",
     "output_type": "stream",
     "text": [
      "EarlyStopping counter: 128 out of 100\n"
     ]
    },
    {
     "name": "stderr",
     "output_type": "stream",
     "text": [
      "Adversarial Debiasing Training Epoch:  66%|\u001b[32m██████▌   \u001b[0m| 328/500 [14:52<05:07,  1.79s/it, accADV=0.715, accCLF=0.742, lossADV=0.598, lossCLF=0.573]"
     ]
    },
    {
     "name": "stdout",
     "output_type": "stream",
     "text": [
      "EarlyStopping counter: 129 out of 100\n"
     ]
    },
    {
     "name": "stderr",
     "output_type": "stream",
     "text": [
      "Adversarial Debiasing Training Epoch:  66%|\u001b[32m██████▌   \u001b[0m| 329/500 [14:54<04:57,  1.74s/it, accADV=0.68, accCLF=0.771, lossADV=0.632, lossCLF=0.636] "
     ]
    },
    {
     "name": "stdout",
     "output_type": "stream",
     "text": [
      "EarlyStopping counter: 130 out of 100\n"
     ]
    },
    {
     "name": "stderr",
     "output_type": "stream",
     "text": [
      "Adversarial Debiasing Training Epoch:  66%|\u001b[32m██████▌   \u001b[0m| 330/500 [14:55<05:03,  1.78s/it, accADV=0.684, accCLF=0.75, lossADV=0.619, lossCLF=0.656] "
     ]
    },
    {
     "name": "stdout",
     "output_type": "stream",
     "text": [
      "EarlyStopping counter: 131 out of 100\n"
     ]
    },
    {
     "name": "stderr",
     "output_type": "stream",
     "text": [
      "Adversarial Debiasing Training Epoch:  66%|\u001b[32m██████▌   \u001b[0m| 331/500 [14:57<05:04,  1.80s/it, accADV=0.713, accCLF=0.76, lossADV=0.596, lossCLF=0.573] "
     ]
    },
    {
     "name": "stdout",
     "output_type": "stream",
     "text": [
      "EarlyStopping counter: 132 out of 100\n"
     ]
    },
    {
     "name": "stderr",
     "output_type": "stream",
     "text": [
      "Adversarial Debiasing Training Epoch:  66%|\u001b[32m██████▋   \u001b[0m| 332/500 [14:59<05:13,  1.86s/it, accADV=0.645, accCLF=0.742, lossADV=0.641, lossCLF=0.606]"
     ]
    },
    {
     "name": "stdout",
     "output_type": "stream",
     "text": [
      "EarlyStopping counter: 133 out of 100\n"
     ]
    },
    {
     "name": "stderr",
     "output_type": "stream",
     "text": [
      "Adversarial Debiasing Training Epoch:  67%|\u001b[32m██████▋   \u001b[0m| 333/500 [15:01<05:15,  1.89s/it, accADV=0.713, accCLF=0.762, lossADV=0.6, lossCLF=0.578]  "
     ]
    },
    {
     "name": "stdout",
     "output_type": "stream",
     "text": [
      "EarlyStopping counter: 134 out of 100\n"
     ]
    },
    {
     "name": "stderr",
     "output_type": "stream",
     "text": [
      "Adversarial Debiasing Training Epoch:  67%|\u001b[32m██████▋   \u001b[0m| 334/500 [15:03<05:13,  1.89s/it, accADV=0.707, accCLF=0.738, lossADV=0.608, lossCLF=0.655]"
     ]
    },
    {
     "name": "stdout",
     "output_type": "stream",
     "text": [
      "EarlyStopping counter: 135 out of 100\n"
     ]
    },
    {
     "name": "stderr",
     "output_type": "stream",
     "text": [
      "Adversarial Debiasing Training Epoch:  67%|\u001b[32m██████▋   \u001b[0m| 335/500 [15:05<05:16,  1.92s/it, accADV=0.691, accCLF=0.785, lossADV=0.612, lossCLF=0.585]"
     ]
    },
    {
     "name": "stdout",
     "output_type": "stream",
     "text": [
      "EarlyStopping counter: 136 out of 100\n"
     ]
    },
    {
     "name": "stderr",
     "output_type": "stream",
     "text": [
      "Adversarial Debiasing Training Epoch:  67%|\u001b[32m██████▋   \u001b[0m| 336/500 [15:07<05:09,  1.89s/it, accADV=0.656, accCLF=0.822, lossADV=0.643, lossCLF=0.488]"
     ]
    },
    {
     "name": "stdout",
     "output_type": "stream",
     "text": [
      "EarlyStopping counter: 137 out of 100\n"
     ]
    },
    {
     "name": "stderr",
     "output_type": "stream",
     "text": [
      "Adversarial Debiasing Training Epoch:  67%|\u001b[32m██████▋   \u001b[0m| 337/500 [15:09<05:05,  1.87s/it, accADV=0.664, accCLF=0.736, lossADV=0.641, lossCLF=0.624]"
     ]
    },
    {
     "name": "stdout",
     "output_type": "stream",
     "text": [
      "EarlyStopping counter: 138 out of 100\n"
     ]
    },
    {
     "name": "stderr",
     "output_type": "stream",
     "text": [
      "Adversarial Debiasing Training Epoch:  68%|\u001b[32m██████▊   \u001b[0m| 338/500 [15:11<05:07,  1.90s/it, accADV=0.625, accCLF=0.756, lossADV=0.667, lossCLF=0.596]"
     ]
    },
    {
     "name": "stdout",
     "output_type": "stream",
     "text": [
      "EarlyStopping counter: 139 out of 100\n"
     ]
    },
    {
     "name": "stderr",
     "output_type": "stream",
     "text": [
      "Adversarial Debiasing Training Epoch:  68%|\u001b[32m██████▊   \u001b[0m| 339/500 [15:14<06:03,  2.26s/it, accADV=0.662, accCLF=0.76, lossADV=0.64, lossCLF=0.603]  "
     ]
    },
    {
     "name": "stdout",
     "output_type": "stream",
     "text": [
      "EarlyStopping counter: 140 out of 100\n"
     ]
    },
    {
     "name": "stderr",
     "output_type": "stream",
     "text": [
      "Adversarial Debiasing Training Epoch:  68%|\u001b[32m██████▊   \u001b[0m| 340/500 [15:21<09:16,  3.48s/it, accADV=0.684, accCLF=0.77, lossADV=0.618, lossCLF=0.599] "
     ]
    },
    {
     "name": "stdout",
     "output_type": "stream",
     "text": [
      "EarlyStopping counter: 141 out of 100\n"
     ]
    },
    {
     "name": "stderr",
     "output_type": "stream",
     "text": [
      "Adversarial Debiasing Training Epoch:  68%|\u001b[32m██████▊   \u001b[0m| 341/500 [15:26<10:51,  4.10s/it, accADV=0.668, accCLF=0.715, lossADV=0.637, lossCLF=0.718]"
     ]
    },
    {
     "name": "stdout",
     "output_type": "stream",
     "text": [
      "EarlyStopping counter: 142 out of 100\n"
     ]
    },
    {
     "name": "stderr",
     "output_type": "stream",
     "text": [
      "Adversarial Debiasing Training Epoch:  68%|\u001b[32m██████▊   \u001b[0m| 342/500 [15:31<11:46,  4.47s/it, accADV=0.65, accCLF=0.748, lossADV=0.64, lossCLF=0.61]   "
     ]
    },
    {
     "name": "stdout",
     "output_type": "stream",
     "text": [
      "EarlyStopping counter: 143 out of 100\n"
     ]
    },
    {
     "name": "stderr",
     "output_type": "stream",
     "text": [
      "Adversarial Debiasing Training Epoch:  69%|\u001b[32m██████▊   \u001b[0m| 343/500 [15:36<12:17,  4.70s/it, accADV=0.688, accCLF=0.779, lossADV=0.619, lossCLF=0.578]"
     ]
    },
    {
     "name": "stdout",
     "output_type": "stream",
     "text": [
      "EarlyStopping counter: 144 out of 100\n"
     ]
    },
    {
     "name": "stderr",
     "output_type": "stream",
     "text": [
      "Adversarial Debiasing Training Epoch:  69%|\u001b[32m██████▉   \u001b[0m| 344/500 [15:41<12:32,  4.83s/it, accADV=0.658, accCLF=0.77, lossADV=0.639, lossCLF=0.579] "
     ]
    },
    {
     "name": "stdout",
     "output_type": "stream",
     "text": [
      "EarlyStopping counter: 145 out of 100\n"
     ]
    },
    {
     "name": "stderr",
     "output_type": "stream",
     "text": [
      "Adversarial Debiasing Training Epoch:  69%|\u001b[32m██████▉   \u001b[0m| 345/500 [15:46<12:30,  4.84s/it, accADV=0.664, accCLF=0.758, lossADV=0.633, lossCLF=0.609]"
     ]
    },
    {
     "name": "stdout",
     "output_type": "stream",
     "text": [
      "EarlyStopping counter: 146 out of 100\n"
     ]
    },
    {
     "name": "stderr",
     "output_type": "stream",
     "text": [
      "Adversarial Debiasing Training Epoch:  69%|\u001b[32m██████▉   \u001b[0m| 346/500 [15:51<12:36,  4.91s/it, accADV=0.664, accCLF=0.744, lossADV=0.634, lossCLF=0.613]"
     ]
    },
    {
     "name": "stdout",
     "output_type": "stream",
     "text": [
      "EarlyStopping counter: 147 out of 100\n"
     ]
    },
    {
     "name": "stderr",
     "output_type": "stream",
     "text": [
      "Adversarial Debiasing Training Epoch:  69%|\u001b[32m██████▉   \u001b[0m| 347/500 [15:56<12:47,  5.02s/it, accADV=0.627, accCLF=0.752, lossADV=0.662, lossCLF=0.587]"
     ]
    },
    {
     "name": "stdout",
     "output_type": "stream",
     "text": [
      "EarlyStopping counter: 148 out of 100\n"
     ]
    },
    {
     "name": "stderr",
     "output_type": "stream",
     "text": [
      "Adversarial Debiasing Training Epoch:  70%|\u001b[32m██████▉   \u001b[0m| 348/500 [15:58<10:23,  4.10s/it, accADV=0.689, accCLF=0.762, lossADV=0.616, lossCLF=0.594]"
     ]
    },
    {
     "name": "stdout",
     "output_type": "stream",
     "text": [
      "EarlyStopping counter: 149 out of 100\n"
     ]
    },
    {
     "name": "stderr",
     "output_type": "stream",
     "text": [
      "Adversarial Debiasing Training Epoch:  70%|\u001b[32m██████▉   \u001b[0m| 349/500 [16:00<08:28,  3.36s/it, accADV=0.666, accCLF=0.746, lossADV=0.628, lossCLF=0.584]"
     ]
    },
    {
     "name": "stdout",
     "output_type": "stream",
     "text": [
      "EarlyStopping counter: 150 out of 100\n"
     ]
    },
    {
     "name": "stderr",
     "output_type": "stream",
     "text": [
      "Adversarial Debiasing Training Epoch:  70%|\u001b[32m██████▉   \u001b[0m| 349/500 [16:01<08:28,  3.36s/it, accADV=0.677, accCLF=0.795, lossADV=0.625, lossCLF=0.438]"
     ]
    },
    {
     "name": "stdout",
     "output_type": "stream",
     "text": [
      "EarlyStopping counter: 151 out of 100\n"
     ]
    },
    {
     "name": "stderr",
     "output_type": "stream",
     "text": [
      "Adversarial Debiasing Training Epoch:  70%|\u001b[32m███████   \u001b[0m| 350/500 [16:03<07:32,  3.02s/it, accADV=0.678, accCLF=0.781, lossADV=0.63, lossCLF=0.533] "
     ]
    },
    {
     "name": "stdout",
     "output_type": "stream",
     "text": [
      "EarlyStopping counter: 152 out of 100\n"
     ]
    },
    {
     "name": "stderr",
     "output_type": "stream",
     "text": [
      "Adversarial Debiasing Training Epoch:  70%|\u001b[32m███████   \u001b[0m| 351/500 [16:05<06:41,  2.70s/it, accADV=0.676, accCLF=0.809, lossADV=0.625, lossCLF=0.505]"
     ]
    },
    {
     "name": "stdout",
     "output_type": "stream",
     "text": [
      "EarlyStopping counter: 153 out of 100\n"
     ]
    },
    {
     "name": "stderr",
     "output_type": "stream",
     "text": [
      "Adversarial Debiasing Training Epoch:  70%|\u001b[32m███████   \u001b[0m| 352/500 [16:07<06:02,  2.45s/it, accADV=0.672, accCLF=0.771, lossADV=0.631, lossCLF=0.61] "
     ]
    },
    {
     "name": "stdout",
     "output_type": "stream",
     "text": [
      "EarlyStopping counter: 154 out of 100\n"
     ]
    },
    {
     "name": "stderr",
     "output_type": "stream",
     "text": [
      "Adversarial Debiasing Training Epoch:  71%|\u001b[32m███████   \u001b[0m| 353/500 [16:09<05:28,  2.24s/it, accADV=0.693, accCLF=0.77, lossADV=0.607, lossCLF=0.54]  "
     ]
    },
    {
     "name": "stdout",
     "output_type": "stream",
     "text": [
      "EarlyStopping counter: 155 out of 100\n"
     ]
    },
    {
     "name": "stderr",
     "output_type": "stream",
     "text": [
      "Adversarial Debiasing Training Epoch:  72%|\u001b[32m███████▏  \u001b[0m| 361/500 [16:22<04:05,  1.76s/it, accADV=0.668, accCLF=0.818, lossADV=0.638, lossCLF=0.439]"
     ]
    },
    {
     "name": "stdout",
     "output_type": "stream",
     "text": [
      "EarlyStopping counter: 1 out of 100\n"
     ]
    },
    {
     "name": "stderr",
     "output_type": "stream",
     "text": [
      "Adversarial Debiasing Training Epoch:  73%|\u001b[32m███████▎  \u001b[0m| 363/500 [16:26<04:00,  1.75s/it, accADV=0.684, accCLF=0.801, lossADV=0.617, lossCLF=0.46] "
     ]
    },
    {
     "name": "stdout",
     "output_type": "stream",
     "text": [
      "EarlyStopping counter: 1 out of 100\n"
     ]
    },
    {
     "name": "stderr",
     "output_type": "stream",
     "text": [
      "Adversarial Debiasing Training Epoch:  73%|\u001b[32m███████▎  \u001b[0m| 364/500 [16:28<03:58,  1.76s/it, accADV=0.686, accCLF=0.801, lossADV=0.614, lossCLF=0.417]"
     ]
    },
    {
     "name": "stdout",
     "output_type": "stream",
     "text": [
      "EarlyStopping counter: 2 out of 100\n"
     ]
    },
    {
     "name": "stderr",
     "output_type": "stream",
     "text": [
      "Adversarial Debiasing Training Epoch:  73%|\u001b[32m███████▎  \u001b[0m| 365/500 [16:29<04:00,  1.78s/it, accADV=0.652, accCLF=0.809, lossADV=0.637, lossCLF=0.422]"
     ]
    },
    {
     "name": "stdout",
     "output_type": "stream",
     "text": [
      "EarlyStopping counter: 3 out of 100\n"
     ]
    },
    {
     "name": "stderr",
     "output_type": "stream",
     "text": [
      "Adversarial Debiasing Training Epoch:  73%|\u001b[32m███████▎  \u001b[0m| 366/500 [16:31<04:00,  1.80s/it, accADV=0.68, accCLF=0.791, lossADV=0.623, lossCLF=0.466] "
     ]
    },
    {
     "name": "stdout",
     "output_type": "stream",
     "text": [
      "EarlyStopping counter: 4 out of 100\n"
     ]
    },
    {
     "name": "stderr",
     "output_type": "stream",
     "text": [
      "Adversarial Debiasing Training Epoch:  73%|\u001b[32m███████▎  \u001b[0m| 367/500 [16:33<03:57,  1.78s/it, accADV=0.695, accCLF=0.809, lossADV=0.624, lossCLF=0.441]"
     ]
    },
    {
     "name": "stdout",
     "output_type": "stream",
     "text": [
      "EarlyStopping counter: 5 out of 100\n"
     ]
    },
    {
     "name": "stderr",
     "output_type": "stream",
     "text": [
      "Adversarial Debiasing Training Epoch:  74%|\u001b[32m███████▎  \u001b[0m| 368/500 [16:35<03:58,  1.81s/it, accADV=0.641, accCLF=0.82, lossADV=0.648, lossCLF=0.467] "
     ]
    },
    {
     "name": "stdout",
     "output_type": "stream",
     "text": [
      "EarlyStopping counter: 6 out of 100\n"
     ]
    },
    {
     "name": "stderr",
     "output_type": "stream",
     "text": [
      "Adversarial Debiasing Training Epoch:  74%|\u001b[32m███████▍  \u001b[0m| 370/500 [16:38<03:56,  1.82s/it, accADV=0.701, accCLF=0.832, lossADV=0.602, lossCLF=0.467]"
     ]
    },
    {
     "name": "stdout",
     "output_type": "stream",
     "text": [
      "EarlyStopping counter: 1 out of 100\n"
     ]
    },
    {
     "name": "stderr",
     "output_type": "stream",
     "text": [
      "Adversarial Debiasing Training Epoch:  74%|\u001b[32m███████▍  \u001b[0m| 372/500 [16:42<03:55,  1.84s/it, accADV=0.686, accCLF=0.836, lossADV=0.623, lossCLF=0.408]"
     ]
    },
    {
     "name": "stdout",
     "output_type": "stream",
     "text": [
      "EarlyStopping counter: 1 out of 100\n"
     ]
    },
    {
     "name": "stderr",
     "output_type": "stream",
     "text": [
      "Adversarial Debiasing Training Epoch:  75%|\u001b[32m███████▌  \u001b[0m| 375/500 [16:48<03:59,  1.92s/it, accADV=0.693, accCLF=0.836, lossADV=0.602, lossCLF=0.405]"
     ]
    },
    {
     "name": "stdout",
     "output_type": "stream",
     "text": [
      "EarlyStopping counter: 1 out of 100\n"
     ]
    },
    {
     "name": "stderr",
     "output_type": "stream",
     "text": [
      "Adversarial Debiasing Training Epoch:  76%|\u001b[32m███████▌  \u001b[0m| 378/500 [17:06<08:47,  4.33s/it, accADV=0.697, accCLF=0.807, lossADV=0.602, lossCLF=0.399]"
     ]
    },
    {
     "name": "stdout",
     "output_type": "stream",
     "text": [
      "EarlyStopping counter: 1 out of 100\n"
     ]
    },
    {
     "name": "stderr",
     "output_type": "stream",
     "text": [
      "Adversarial Debiasing Training Epoch:  76%|\u001b[32m███████▌  \u001b[0m| 379/500 [17:12<09:38,  4.78s/it, accADV=0.678, accCLF=0.809, lossADV=0.625, lossCLF=0.432]"
     ]
    },
    {
     "name": "stdout",
     "output_type": "stream",
     "text": [
      "EarlyStopping counter: 2 out of 100\n"
     ]
    },
    {
     "name": "stderr",
     "output_type": "stream",
     "text": [
      "Adversarial Debiasing Training Epoch:  76%|\u001b[32m███████▌  \u001b[0m| 380/500 [17:16<10:22,  5.19s/it, accADV=0.682, accCLF=0.783, lossADV=0.622, lossCLF=0.476]"
     ]
    },
    {
     "name": "stdout",
     "output_type": "stream",
     "text": [
      "EarlyStopping counter: 3 out of 100\n"
     ]
    },
    {
     "name": "stderr",
     "output_type": "stream",
     "text": [
      "Adversarial Debiasing Training Epoch:  76%|\u001b[32m███████▌  \u001b[0m| 381/500 [17:18<08:09,  4.11s/it, accADV=0.676, accCLF=0.811, lossADV=0.622, lossCLF=0.411]"
     ]
    },
    {
     "name": "stdout",
     "output_type": "stream",
     "text": [
      "EarlyStopping counter: 4 out of 100\n"
     ]
    },
    {
     "name": "stderr",
     "output_type": "stream",
     "text": [
      "Adversarial Debiasing Training Epoch:  76%|\u001b[32m███████▋  \u001b[0m| 382/500 [17:19<06:38,  3.38s/it, accADV=0.66, accCLF=0.777, lossADV=0.637, lossCLF=0.453] "
     ]
    },
    {
     "name": "stdout",
     "output_type": "stream",
     "text": [
      "EarlyStopping counter: 5 out of 100\n"
     ]
    },
    {
     "name": "stderr",
     "output_type": "stream",
     "text": [
      "Adversarial Debiasing Training Epoch:  77%|\u001b[32m███████▋  \u001b[0m| 383/500 [17:21<05:31,  2.84s/it, accADV=0.672, accCLF=0.807, lossADV=0.627, lossCLF=0.495]"
     ]
    },
    {
     "name": "stdout",
     "output_type": "stream",
     "text": [
      "EarlyStopping counter: 6 out of 100\n"
     ]
    },
    {
     "name": "stderr",
     "output_type": "stream",
     "text": [
      "Adversarial Debiasing Training Epoch:  77%|\u001b[32m███████▋  \u001b[0m| 384/500 [17:23<04:47,  2.47s/it, accADV=0.662, accCLF=0.783, lossADV=0.636, lossCLF=0.543]"
     ]
    },
    {
     "name": "stdout",
     "output_type": "stream",
     "text": [
      "EarlyStopping counter: 7 out of 100\n"
     ]
    },
    {
     "name": "stderr",
     "output_type": "stream",
     "text": [
      "Adversarial Debiasing Training Epoch:  77%|\u001b[32m███████▋  \u001b[0m| 385/500 [17:24<04:17,  2.24s/it, accADV=0.668, accCLF=0.785, lossADV=0.633, lossCLF=0.51] "
     ]
    },
    {
     "name": "stdout",
     "output_type": "stream",
     "text": [
      "EarlyStopping counter: 8 out of 100\n"
     ]
    },
    {
     "name": "stderr",
     "output_type": "stream",
     "text": [
      "Adversarial Debiasing Training Epoch:  77%|\u001b[32m███████▋  \u001b[0m| 386/500 [17:26<03:53,  2.05s/it, accADV=0.672, accCLF=0.758, lossADV=0.634, lossCLF=0.605]"
     ]
    },
    {
     "name": "stdout",
     "output_type": "stream",
     "text": [
      "EarlyStopping counter: 9 out of 100\n"
     ]
    },
    {
     "name": "stderr",
     "output_type": "stream",
     "text": [
      "Adversarial Debiasing Training Epoch:  77%|\u001b[32m███████▋  \u001b[0m| 387/500 [17:28<03:39,  1.94s/it, accADV=0.688, accCLF=0.752, lossADV=0.62, lossCLF=0.566] "
     ]
    },
    {
     "name": "stdout",
     "output_type": "stream",
     "text": [
      "EarlyStopping counter: 10 out of 100\n"
     ]
    },
    {
     "name": "stderr",
     "output_type": "stream",
     "text": [
      "Adversarial Debiasing Training Epoch:  78%|\u001b[32m███████▊  \u001b[0m| 388/500 [17:29<03:28,  1.86s/it, accADV=0.67, accCLF=0.744, lossADV=0.634, lossCLF=0.579] "
     ]
    },
    {
     "name": "stdout",
     "output_type": "stream",
     "text": [
      "EarlyStopping counter: 11 out of 100\n"
     ]
    },
    {
     "name": "stderr",
     "output_type": "stream",
     "text": [
      "Adversarial Debiasing Training Epoch:  78%|\u001b[32m███████▊  \u001b[0m| 389/500 [17:31<03:20,  1.81s/it, accADV=0.646, accCLF=0.758, lossADV=0.657, lossCLF=0.593]"
     ]
    },
    {
     "name": "stdout",
     "output_type": "stream",
     "text": [
      "EarlyStopping counter: 12 out of 100\n"
     ]
    },
    {
     "name": "stderr",
     "output_type": "stream",
     "text": [
      "Adversarial Debiasing Training Epoch:  78%|\u001b[32m███████▊  \u001b[0m| 390/500 [17:33<03:18,  1.80s/it, accADV=0.656, accCLF=0.742, lossADV=0.648, lossCLF=0.575]"
     ]
    },
    {
     "name": "stdout",
     "output_type": "stream",
     "text": [
      "EarlyStopping counter: 13 out of 100\n"
     ]
    },
    {
     "name": "stderr",
     "output_type": "stream",
     "text": [
      "Adversarial Debiasing Training Epoch:  78%|\u001b[32m███████▊  \u001b[0m| 391/500 [17:38<05:08,  2.83s/it, accADV=0.646, accCLF=0.795, lossADV=0.656, lossCLF=0.475]"
     ]
    },
    {
     "name": "stdout",
     "output_type": "stream",
     "text": [
      "EarlyStopping counter: 14 out of 100\n"
     ]
    },
    {
     "name": "stderr",
     "output_type": "stream",
     "text": [
      "Adversarial Debiasing Training Epoch:  78%|\u001b[32m███████▊  \u001b[0m| 392/500 [17:44<06:35,  3.66s/it, accADV=0.662, accCLF=0.789, lossADV=0.64, lossCLF=0.483] "
     ]
    },
    {
     "name": "stdout",
     "output_type": "stream",
     "text": [
      "EarlyStopping counter: 15 out of 100\n"
     ]
    },
    {
     "name": "stderr",
     "output_type": "stream",
     "text": [
      "Adversarial Debiasing Training Epoch:  79%|\u001b[32m███████▊  \u001b[0m| 393/500 [17:49<07:23,  4.15s/it, accADV=0.662, accCLF=0.746, lossADV=0.644, lossCLF=0.547]"
     ]
    },
    {
     "name": "stdout",
     "output_type": "stream",
     "text": [
      "EarlyStopping counter: 16 out of 100\n"
     ]
    },
    {
     "name": "stderr",
     "output_type": "stream",
     "text": [
      "Adversarial Debiasing Training Epoch:  79%|\u001b[32m███████▉  \u001b[0m| 394/500 [17:51<06:15,  3.54s/it, accADV=0.689, accCLF=0.775, lossADV=0.622, lossCLF=0.538]"
     ]
    },
    {
     "name": "stdout",
     "output_type": "stream",
     "text": [
      "EarlyStopping counter: 17 out of 100\n"
     ]
    },
    {
     "name": "stderr",
     "output_type": "stream",
     "text": [
      "Adversarial Debiasing Training Epoch:  79%|\u001b[32m███████▉  \u001b[0m| 395/500 [17:52<05:10,  2.96s/it, accADV=0.697, accCLF=0.719, lossADV=0.624, lossCLF=0.607]"
     ]
    },
    {
     "name": "stdout",
     "output_type": "stream",
     "text": [
      "EarlyStopping counter: 18 out of 100\n"
     ]
    },
    {
     "name": "stderr",
     "output_type": "stream",
     "text": [
      "Adversarial Debiasing Training Epoch:  79%|\u001b[32m███████▉  \u001b[0m| 396/500 [17:54<04:25,  2.55s/it, accADV=0.682, accCLF=0.738, lossADV=0.623, lossCLF=0.638]"
     ]
    },
    {
     "name": "stdout",
     "output_type": "stream",
     "text": [
      "EarlyStopping counter: 19 out of 100\n"
     ]
    },
    {
     "name": "stderr",
     "output_type": "stream",
     "text": [
      "Adversarial Debiasing Training Epoch:  79%|\u001b[32m███████▉  \u001b[0m| 397/500 [17:55<03:51,  2.25s/it, accADV=0.656, accCLF=0.713, lossADV=0.649, lossCLF=0.615]"
     ]
    },
    {
     "name": "stdout",
     "output_type": "stream",
     "text": [
      "EarlyStopping counter: 20 out of 100\n"
     ]
    },
    {
     "name": "stderr",
     "output_type": "stream",
     "text": [
      "Adversarial Debiasing Training Epoch:  80%|\u001b[32m███████▉  \u001b[0m| 398/500 [17:57<03:31,  2.07s/it, accADV=0.688, accCLF=0.729, lossADV=0.62, lossCLF=0.611] "
     ]
    },
    {
     "name": "stdout",
     "output_type": "stream",
     "text": [
      "EarlyStopping counter: 21 out of 100\n"
     ]
    },
    {
     "name": "stderr",
     "output_type": "stream",
     "text": [
      "Adversarial Debiasing Training Epoch:  80%|\u001b[32m███████▉  \u001b[0m| 399/500 [17:59<03:15,  1.93s/it, accADV=0.666, accCLF=0.709, lossADV=0.635, lossCLF=0.592]"
     ]
    },
    {
     "name": "stdout",
     "output_type": "stream",
     "text": [
      "EarlyStopping counter: 22 out of 100\n"
     ]
    },
    {
     "name": "stderr",
     "output_type": "stream",
     "text": [
      "Adversarial Debiasing Training Epoch:  80%|\u001b[32m███████▉  \u001b[0m| 399/500 [18:00<03:15,  1.93s/it, accADV=0.65, accCLF=0.791, lossADV=0.654, lossCLF=0.406] "
     ]
    },
    {
     "name": "stdout",
     "output_type": "stream",
     "text": [
      "EarlyStopping counter: 23 out of 100\n"
     ]
    },
    {
     "name": "stderr",
     "output_type": "stream",
     "text": [
      "Adversarial Debiasing Training Epoch:  80%|\u001b[32m████████  \u001b[0m| 400/500 [18:02<03:20,  2.00s/it, accADV=0.668, accCLF=0.775, lossADV=0.642, lossCLF=0.559]"
     ]
    },
    {
     "name": "stdout",
     "output_type": "stream",
     "text": [
      "EarlyStopping counter: 24 out of 100\n"
     ]
    },
    {
     "name": "stderr",
     "output_type": "stream",
     "text": [
      "Adversarial Debiasing Training Epoch:  80%|\u001b[32m████████  \u001b[0m| 401/500 [18:04<03:09,  1.92s/it, accADV=0.652, accCLF=0.771, lossADV=0.641, lossCLF=0.493]"
     ]
    },
    {
     "name": "stdout",
     "output_type": "stream",
     "text": [
      "EarlyStopping counter: 25 out of 100\n"
     ]
    },
    {
     "name": "stderr",
     "output_type": "stream",
     "text": [
      "Adversarial Debiasing Training Epoch:  80%|\u001b[32m████████  \u001b[0m| 402/500 [18:10<03:45,  2.30s/it, accADV=0.668, accCLF=0.758, lossADV=0.636, lossCLF=0.548]"
     ]
    },
    {
     "name": "stdout",
     "output_type": "stream",
     "text": [
      "EarlyStopping counter: 26 out of 100\n"
     ]
    },
    {
     "name": "stderr",
     "output_type": "stream",
     "text": [
      "Adversarial Debiasing Training Epoch:  81%|\u001b[32m████████  \u001b[0m| 403/500 [18:17<05:31,  3.42s/it, accADV=0.695, accCLF=0.777, lossADV=0.616, lossCLF=0.497]"
     ]
    },
    {
     "name": "stdout",
     "output_type": "stream",
     "text": [
      "EarlyStopping counter: 27 out of 100\n"
     ]
    },
    {
     "name": "stderr",
     "output_type": "stream",
     "text": [
      "Adversarial Debiasing Training Epoch:  81%|\u001b[32m████████  \u001b[0m| 404/500 [18:20<07:15,  4.54s/it, accADV=0.684, accCLF=0.738, lossADV=0.617, lossCLF=0.586]"
     ]
    },
    {
     "name": "stdout",
     "output_type": "stream",
     "text": [
      "EarlyStopping counter: 28 out of 100\n"
     ]
    },
    {
     "name": "stderr",
     "output_type": "stream",
     "text": [
      "Adversarial Debiasing Training Epoch:  81%|\u001b[32m████████  \u001b[0m| 405/500 [18:22<05:59,  3.79s/it, accADV=0.662, accCLF=0.771, lossADV=0.643, lossCLF=0.517]"
     ]
    },
    {
     "name": "stdout",
     "output_type": "stream",
     "text": [
      "EarlyStopping counter: 29 out of 100\n"
     ]
    },
    {
     "name": "stderr",
     "output_type": "stream",
     "text": [
      "Adversarial Debiasing Training Epoch:  81%|\u001b[32m████████  \u001b[0m| 406/500 [18:24<04:57,  3.16s/it, accADV=0.645, accCLF=0.775, lossADV=0.651, lossCLF=0.464]"
     ]
    },
    {
     "name": "stdout",
     "output_type": "stream",
     "text": [
      "EarlyStopping counter: 30 out of 100\n"
     ]
    },
    {
     "name": "stderr",
     "output_type": "stream",
     "text": [
      "Adversarial Debiasing Training Epoch:  81%|\u001b[32m████████▏ \u001b[0m| 407/500 [18:25<04:14,  2.73s/it, accADV=0.664, accCLF=0.771, lossADV=0.644, lossCLF=0.504]"
     ]
    },
    {
     "name": "stdout",
     "output_type": "stream",
     "text": [
      "EarlyStopping counter: 31 out of 100\n"
     ]
    },
    {
     "name": "stderr",
     "output_type": "stream",
     "text": [
      "Adversarial Debiasing Training Epoch:  82%|\u001b[32m████████▏ \u001b[0m| 408/500 [18:27<03:41,  2.41s/it, accADV=0.676, accCLF=0.77, lossADV=0.629, lossCLF=0.53]  "
     ]
    },
    {
     "name": "stdout",
     "output_type": "stream",
     "text": [
      "EarlyStopping counter: 32 out of 100\n"
     ]
    },
    {
     "name": "stderr",
     "output_type": "stream",
     "text": [
      "Adversarial Debiasing Training Epoch:  82%|\u001b[32m████████▏ \u001b[0m| 409/500 [18:29<03:22,  2.23s/it, accADV=0.627, accCLF=0.803, lossADV=0.661, lossCLF=0.481]"
     ]
    },
    {
     "name": "stdout",
     "output_type": "stream",
     "text": [
      "EarlyStopping counter: 33 out of 100\n"
     ]
    },
    {
     "name": "stderr",
     "output_type": "stream",
     "text": [
      "Adversarial Debiasing Training Epoch:  82%|\u001b[32m████████▏ \u001b[0m| 410/500 [18:30<03:06,  2.08s/it, accADV=0.697, accCLF=0.768, lossADV=0.609, lossCLF=0.558]"
     ]
    },
    {
     "name": "stdout",
     "output_type": "stream",
     "text": [
      "EarlyStopping counter: 34 out of 100\n"
     ]
    },
    {
     "name": "stderr",
     "output_type": "stream",
     "text": [
      "Adversarial Debiasing Training Epoch:  82%|\u001b[32m████████▏ \u001b[0m| 411/500 [18:32<02:56,  1.98s/it, accADV=0.658, accCLF=0.795, lossADV=0.639, lossCLF=0.462]"
     ]
    },
    {
     "name": "stdout",
     "output_type": "stream",
     "text": [
      "EarlyStopping counter: 35 out of 100\n"
     ]
    },
    {
     "name": "stderr",
     "output_type": "stream",
     "text": [
      "Adversarial Debiasing Training Epoch:  82%|\u001b[32m████████▏ \u001b[0m| 412/500 [18:34<02:44,  1.87s/it, accADV=0.707, accCLF=0.758, lossADV=0.61, lossCLF=0.483] "
     ]
    },
    {
     "name": "stdout",
     "output_type": "stream",
     "text": [
      "EarlyStopping counter: 36 out of 100\n"
     ]
    },
    {
     "name": "stderr",
     "output_type": "stream",
     "text": [
      "Adversarial Debiasing Training Epoch:  83%|\u001b[32m████████▎ \u001b[0m| 413/500 [18:36<02:41,  1.86s/it, accADV=0.664, accCLF=0.77, lossADV=0.631, lossCLF=0.498] "
     ]
    },
    {
     "name": "stdout",
     "output_type": "stream",
     "text": [
      "EarlyStopping counter: 37 out of 100\n"
     ]
    },
    {
     "name": "stderr",
     "output_type": "stream",
     "text": [
      "Adversarial Debiasing Training Epoch:  83%|\u001b[32m████████▎ \u001b[0m| 414/500 [18:38<02:35,  1.80s/it, accADV=0.662, accCLF=0.736, lossADV=0.635, lossCLF=0.551]"
     ]
    },
    {
     "name": "stdout",
     "output_type": "stream",
     "text": [
      "EarlyStopping counter: 38 out of 100\n"
     ]
    },
    {
     "name": "stderr",
     "output_type": "stream",
     "text": [
      "Adversarial Debiasing Training Epoch:  83%|\u001b[32m████████▎ \u001b[0m| 415/500 [18:43<03:14,  2.28s/it, accADV=0.672, accCLF=0.75, lossADV=0.639, lossCLF=0.529] "
     ]
    },
    {
     "name": "stdout",
     "output_type": "stream",
     "text": [
      "EarlyStopping counter: 39 out of 100\n"
     ]
    },
    {
     "name": "stderr",
     "output_type": "stream",
     "text": [
      "Adversarial Debiasing Training Epoch:  83%|\u001b[32m████████▎ \u001b[0m| 416/500 [18:49<04:55,  3.52s/it, accADV=0.666, accCLF=0.766, lossADV=0.632, lossCLF=0.551]"
     ]
    },
    {
     "name": "stdout",
     "output_type": "stream",
     "text": [
      "EarlyStopping counter: 40 out of 100\n"
     ]
    },
    {
     "name": "stderr",
     "output_type": "stream",
     "text": [
      "Adversarial Debiasing Training Epoch:  83%|\u001b[32m████████▎ \u001b[0m| 417/500 [18:55<05:45,  4.16s/it, accADV=0.689, accCLF=0.783, lossADV=0.623, lossCLF=0.454]"
     ]
    },
    {
     "name": "stdout",
     "output_type": "stream",
     "text": [
      "EarlyStopping counter: 41 out of 100\n"
     ]
    },
    {
     "name": "stderr",
     "output_type": "stream",
     "text": [
      "Adversarial Debiasing Training Epoch:  84%|\u001b[32m████████▎ \u001b[0m| 418/500 [19:00<06:10,  4.52s/it, accADV=0.67, accCLF=0.793, lossADV=0.641, lossCLF=0.48]  "
     ]
    },
    {
     "name": "stdout",
     "output_type": "stream",
     "text": [
      "EarlyStopping counter: 42 out of 100\n"
     ]
    },
    {
     "name": "stderr",
     "output_type": "stream",
     "text": [
      "Adversarial Debiasing Training Epoch:  84%|\u001b[32m████████▍ \u001b[0m| 419/500 [19:06<06:35,  4.88s/it, accADV=0.668, accCLF=0.779, lossADV=0.639, lossCLF=0.434]"
     ]
    },
    {
     "name": "stdout",
     "output_type": "stream",
     "text": [
      "EarlyStopping counter: 43 out of 100\n"
     ]
    },
    {
     "name": "stderr",
     "output_type": "stream",
     "text": [
      "Adversarial Debiasing Training Epoch:  84%|\u001b[32m████████▍ \u001b[0m| 420/500 [19:09<06:35,  4.94s/it, accADV=0.664, accCLF=0.758, lossADV=0.639, lossCLF=0.564]"
     ]
    },
    {
     "name": "stdout",
     "output_type": "stream",
     "text": [
      "EarlyStopping counter: 44 out of 100\n"
     ]
    },
    {
     "name": "stderr",
     "output_type": "stream",
     "text": [
      "Adversarial Debiasing Training Epoch:  84%|\u001b[32m████████▍ \u001b[0m| 421/500 [19:11<05:13,  3.96s/it, accADV=0.682, accCLF=0.775, lossADV=0.634, lossCLF=0.515]"
     ]
    },
    {
     "name": "stdout",
     "output_type": "stream",
     "text": [
      "EarlyStopping counter: 45 out of 100\n"
     ]
    },
    {
     "name": "stderr",
     "output_type": "stream",
     "text": [
      "Adversarial Debiasing Training Epoch:  84%|\u001b[32m████████▍ \u001b[0m| 422/500 [19:12<04:15,  3.28s/it, accADV=0.664, accCLF=0.764, lossADV=0.639, lossCLF=0.558]"
     ]
    },
    {
     "name": "stdout",
     "output_type": "stream",
     "text": [
      "EarlyStopping counter: 46 out of 100\n"
     ]
    },
    {
     "name": "stderr",
     "output_type": "stream",
     "text": [
      "Adversarial Debiasing Training Epoch:  85%|\u001b[32m████████▍ \u001b[0m| 423/500 [19:14<03:34,  2.79s/it, accADV=0.646, accCLF=0.746, lossADV=0.655, lossCLF=0.57] "
     ]
    },
    {
     "name": "stdout",
     "output_type": "stream",
     "text": [
      "EarlyStopping counter: 47 out of 100\n"
     ]
    },
    {
     "name": "stderr",
     "output_type": "stream",
     "text": [
      "Adversarial Debiasing Training Epoch:  85%|\u001b[32m████████▍ \u001b[0m| 424/500 [19:16<03:10,  2.51s/it, accADV=0.66, accCLF=0.773, lossADV=0.647, lossCLF=0.494] "
     ]
    },
    {
     "name": "stdout",
     "output_type": "stream",
     "text": [
      "EarlyStopping counter: 48 out of 100\n"
     ]
    },
    {
     "name": "stderr",
     "output_type": "stream",
     "text": [
      "Adversarial Debiasing Training Epoch:  85%|\u001b[32m████████▌ \u001b[0m| 425/500 [19:17<02:47,  2.23s/it, accADV=0.709, accCLF=0.771, lossADV=0.608, lossCLF=0.505]"
     ]
    },
    {
     "name": "stdout",
     "output_type": "stream",
     "text": [
      "EarlyStopping counter: 49 out of 100\n"
     ]
    },
    {
     "name": "stderr",
     "output_type": "stream",
     "text": [
      "Adversarial Debiasing Training Epoch:  85%|\u001b[32m████████▌ \u001b[0m| 426/500 [19:19<02:32,  2.06s/it, accADV=0.682, accCLF=0.729, lossADV=0.626, lossCLF=0.636]"
     ]
    },
    {
     "name": "stdout",
     "output_type": "stream",
     "text": [
      "EarlyStopping counter: 50 out of 100\n"
     ]
    },
    {
     "name": "stderr",
     "output_type": "stream",
     "text": [
      "Adversarial Debiasing Training Epoch:  85%|\u001b[32m████████▌ \u001b[0m| 427/500 [19:21<02:27,  2.02s/it, accADV=0.693, accCLF=0.77, lossADV=0.615, lossCLF=0.488] "
     ]
    },
    {
     "name": "stdout",
     "output_type": "stream",
     "text": [
      "EarlyStopping counter: 51 out of 100\n"
     ]
    },
    {
     "name": "stderr",
     "output_type": "stream",
     "text": [
      "Adversarial Debiasing Training Epoch:  86%|\u001b[32m████████▌ \u001b[0m| 428/500 [19:23<02:20,  1.96s/it, accADV=0.715, accCLF=0.74, lossADV=0.608, lossCLF=0.612] "
     ]
    },
    {
     "name": "stdout",
     "output_type": "stream",
     "text": [
      "EarlyStopping counter: 52 out of 100\n"
     ]
    },
    {
     "name": "stderr",
     "output_type": "stream",
     "text": [
      "Adversarial Debiasing Training Epoch:  86%|\u001b[32m████████▌ \u001b[0m| 429/500 [19:24<02:16,  1.92s/it, accADV=0.686, accCLF=0.76, lossADV=0.621, lossCLF=0.513] "
     ]
    },
    {
     "name": "stdout",
     "output_type": "stream",
     "text": [
      "EarlyStopping counter: 53 out of 100\n"
     ]
    },
    {
     "name": "stderr",
     "output_type": "stream",
     "text": [
      "Adversarial Debiasing Training Epoch:  86%|\u001b[32m████████▌ \u001b[0m| 430/500 [19:26<02:10,  1.87s/it, accADV=0.701, accCLF=0.764, lossADV=0.612, lossCLF=0.517]"
     ]
    },
    {
     "name": "stdout",
     "output_type": "stream",
     "text": [
      "EarlyStopping counter: 54 out of 100\n"
     ]
    },
    {
     "name": "stderr",
     "output_type": "stream",
     "text": [
      "Adversarial Debiasing Training Epoch:  86%|\u001b[32m████████▌ \u001b[0m| 431/500 [19:28<02:04,  1.80s/it, accADV=0.682, accCLF=0.773, lossADV=0.629, lossCLF=0.497]"
     ]
    },
    {
     "name": "stdout",
     "output_type": "stream",
     "text": [
      "EarlyStopping counter: 55 out of 100\n"
     ]
    },
    {
     "name": "stderr",
     "output_type": "stream",
     "text": [
      "Adversarial Debiasing Training Epoch:  86%|\u001b[32m████████▋ \u001b[0m| 432/500 [19:29<02:00,  1.77s/it, accADV=0.641, accCLF=0.766, lossADV=0.657, lossCLF=0.527]"
     ]
    },
    {
     "name": "stdout",
     "output_type": "stream",
     "text": [
      "EarlyStopping counter: 56 out of 100\n"
     ]
    },
    {
     "name": "stderr",
     "output_type": "stream",
     "text": [
      "Adversarial Debiasing Training Epoch:  87%|\u001b[32m████████▋ \u001b[0m| 433/500 [19:31<01:58,  1.77s/it, accADV=0.68, accCLF=0.748, lossADV=0.622, lossCLF=0.512] "
     ]
    },
    {
     "name": "stdout",
     "output_type": "stream",
     "text": [
      "EarlyStopping counter: 57 out of 100\n"
     ]
    },
    {
     "name": "stderr",
     "output_type": "stream",
     "text": [
      "Adversarial Debiasing Training Epoch:  87%|\u001b[32m████████▋ \u001b[0m| 434/500 [19:33<01:56,  1.76s/it, accADV=0.668, accCLF=0.775, lossADV=0.637, lossCLF=0.535]"
     ]
    },
    {
     "name": "stdout",
     "output_type": "stream",
     "text": [
      "EarlyStopping counter: 58 out of 100\n"
     ]
    },
    {
     "name": "stderr",
     "output_type": "stream",
     "text": [
      "Adversarial Debiasing Training Epoch:  87%|\u001b[32m████████▋ \u001b[0m| 435/500 [19:34<01:53,  1.75s/it, accADV=0.695, accCLF=0.727, lossADV=0.615, lossCLF=0.612]"
     ]
    },
    {
     "name": "stdout",
     "output_type": "stream",
     "text": [
      "EarlyStopping counter: 59 out of 100\n"
     ]
    },
    {
     "name": "stderr",
     "output_type": "stream",
     "text": [
      "Adversarial Debiasing Training Epoch:  87%|\u001b[32m████████▋ \u001b[0m| 436/500 [19:36<01:51,  1.75s/it, accADV=0.695, accCLF=0.766, lossADV=0.616, lossCLF=0.561]"
     ]
    },
    {
     "name": "stdout",
     "output_type": "stream",
     "text": [
      "EarlyStopping counter: 60 out of 100\n"
     ]
    },
    {
     "name": "stderr",
     "output_type": "stream",
     "text": [
      "Adversarial Debiasing Training Epoch:  87%|\u001b[32m████████▋ \u001b[0m| 437/500 [19:38<01:50,  1.75s/it, accADV=0.65, accCLF=0.727, lossADV=0.654, lossCLF=0.673] "
     ]
    },
    {
     "name": "stdout",
     "output_type": "stream",
     "text": [
      "EarlyStopping counter: 61 out of 100\n"
     ]
    },
    {
     "name": "stderr",
     "output_type": "stream",
     "text": [
      "Adversarial Debiasing Training Epoch:  88%|\u001b[32m████████▊ \u001b[0m| 438/500 [19:40<01:48,  1.75s/it, accADV=0.674, accCLF=0.725, lossADV=0.641, lossCLF=0.6]  "
     ]
    },
    {
     "name": "stdout",
     "output_type": "stream",
     "text": [
      "EarlyStopping counter: 62 out of 100\n"
     ]
    },
    {
     "name": "stderr",
     "output_type": "stream",
     "text": [
      "Adversarial Debiasing Training Epoch:  88%|\u001b[32m████████▊ \u001b[0m| 439/500 [19:41<01:47,  1.77s/it, accADV=0.688, accCLF=0.703, lossADV=0.62, lossCLF=0.666] "
     ]
    },
    {
     "name": "stdout",
     "output_type": "stream",
     "text": [
      "EarlyStopping counter: 63 out of 100\n"
     ]
    },
    {
     "name": "stderr",
     "output_type": "stream",
     "text": [
      "Adversarial Debiasing Training Epoch:  88%|\u001b[32m████████▊ \u001b[0m| 440/500 [19:43<01:47,  1.79s/it, accADV=0.691, accCLF=0.709, lossADV=0.619, lossCLF=0.655]"
     ]
    },
    {
     "name": "stdout",
     "output_type": "stream",
     "text": [
      "EarlyStopping counter: 64 out of 100\n"
     ]
    },
    {
     "name": "stderr",
     "output_type": "stream",
     "text": [
      "Adversarial Debiasing Training Epoch:  88%|\u001b[32m████████▊ \u001b[0m| 441/500 [19:49<02:47,  2.84s/it, accADV=0.699, accCLF=0.734, lossADV=0.616, lossCLF=0.582]"
     ]
    },
    {
     "name": "stdout",
     "output_type": "stream",
     "text": [
      "EarlyStopping counter: 65 out of 100\n"
     ]
    },
    {
     "name": "stderr",
     "output_type": "stream",
     "text": [
      "Adversarial Debiasing Training Epoch:  88%|\u001b[32m████████▊ \u001b[0m| 442/500 [19:55<03:46,  3.91s/it, accADV=0.705, accCLF=0.756, lossADV=0.611, lossCLF=0.545]"
     ]
    },
    {
     "name": "stdout",
     "output_type": "stream",
     "text": [
      "EarlyStopping counter: 66 out of 100\n"
     ]
    },
    {
     "name": "stderr",
     "output_type": "stream",
     "text": [
      "Adversarial Debiasing Training Epoch:  89%|\u001b[32m████████▊ \u001b[0m| 443/500 [19:57<03:14,  3.41s/it, accADV=0.652, accCLF=0.744, lossADV=0.65, lossCLF=0.561] "
     ]
    },
    {
     "name": "stdout",
     "output_type": "stream",
     "text": [
      "EarlyStopping counter: 67 out of 100\n"
     ]
    },
    {
     "name": "stderr",
     "output_type": "stream",
     "text": [
      "Adversarial Debiasing Training Epoch:  89%|\u001b[32m████████▉ \u001b[0m| 444/500 [19:59<02:40,  2.86s/it, accADV=0.691, accCLF=0.732, lossADV=0.615, lossCLF=0.552]"
     ]
    },
    {
     "name": "stdout",
     "output_type": "stream",
     "text": [
      "EarlyStopping counter: 68 out of 100\n"
     ]
    },
    {
     "name": "stderr",
     "output_type": "stream",
     "text": [
      "Adversarial Debiasing Training Epoch:  89%|\u001b[32m████████▉ \u001b[0m| 445/500 [20:00<02:15,  2.47s/it, accADV=0.68, accCLF=0.713, lossADV=0.624, lossCLF=0.618] "
     ]
    },
    {
     "name": "stdout",
     "output_type": "stream",
     "text": [
      "EarlyStopping counter: 69 out of 100\n"
     ]
    },
    {
     "name": "stderr",
     "output_type": "stream",
     "text": [
      "Adversarial Debiasing Training Epoch:  89%|\u001b[32m████████▉ \u001b[0m| 446/500 [20:02<02:00,  2.23s/it, accADV=0.691, accCLF=0.738, lossADV=0.628, lossCLF=0.54] "
     ]
    },
    {
     "name": "stdout",
     "output_type": "stream",
     "text": [
      "EarlyStopping counter: 70 out of 100\n"
     ]
    },
    {
     "name": "stderr",
     "output_type": "stream",
     "text": [
      "Adversarial Debiasing Training Epoch:  89%|\u001b[32m████████▉ \u001b[0m| 447/500 [20:03<01:48,  2.06s/it, accADV=0.668, accCLF=0.67, lossADV=0.634, lossCLF=0.651] "
     ]
    },
    {
     "name": "stdout",
     "output_type": "stream",
     "text": [
      "EarlyStopping counter: 71 out of 100\n"
     ]
    },
    {
     "name": "stderr",
     "output_type": "stream",
     "text": [
      "Adversarial Debiasing Training Epoch:  90%|\u001b[32m████████▉ \u001b[0m| 448/500 [20:05<01:44,  2.00s/it, accADV=0.682, accCLF=0.748, lossADV=0.637, lossCLF=0.535]"
     ]
    },
    {
     "name": "stdout",
     "output_type": "stream",
     "text": [
      "EarlyStopping counter: 72 out of 100\n"
     ]
    },
    {
     "name": "stderr",
     "output_type": "stream",
     "text": [
      "Adversarial Debiasing Training Epoch:  90%|\u001b[32m████████▉ \u001b[0m| 449/500 [20:07<01:37,  1.91s/it, accADV=0.646, accCLF=0.713, lossADV=0.656, lossCLF=0.604]"
     ]
    },
    {
     "name": "stdout",
     "output_type": "stream",
     "text": [
      "EarlyStopping counter: 73 out of 100\n"
     ]
    },
    {
     "name": "stderr",
     "output_type": "stream",
     "text": [
      "Adversarial Debiasing Training Epoch:  90%|\u001b[32m████████▉ \u001b[0m| 449/500 [20:09<01:37,  1.91s/it, accADV=0.65, accCLF=0.777, lossADV=0.653, lossCLF=0.414] "
     ]
    },
    {
     "name": "stdout",
     "output_type": "stream",
     "text": [
      "EarlyStopping counter: 74 out of 100\n"
     ]
    },
    {
     "name": "stderr",
     "output_type": "stream",
     "text": [
      "Adversarial Debiasing Training Epoch:  90%|\u001b[32m█████████ \u001b[0m| 450/500 [20:11<01:42,  2.04s/it, accADV=0.703, accCLF=0.762, lossADV=0.613, lossCLF=0.536]"
     ]
    },
    {
     "name": "stdout",
     "output_type": "stream",
     "text": [
      "EarlyStopping counter: 75 out of 100\n"
     ]
    },
    {
     "name": "stderr",
     "output_type": "stream",
     "text": [
      "Adversarial Debiasing Training Epoch:  90%|\u001b[32m█████████ \u001b[0m| 451/500 [20:12<01:37,  1.99s/it, accADV=0.701, accCLF=0.777, lossADV=0.605, lossCLF=0.516]"
     ]
    },
    {
     "name": "stdout",
     "output_type": "stream",
     "text": [
      "EarlyStopping counter: 76 out of 100\n"
     ]
    },
    {
     "name": "stderr",
     "output_type": "stream",
     "text": [
      "Adversarial Debiasing Training Epoch:  90%|\u001b[32m█████████ \u001b[0m| 452/500 [20:16<01:33,  1.94s/it, accADV=0.666, accCLF=0.711, lossADV=0.639, lossCLF=0.649]"
     ]
    },
    {
     "name": "stdout",
     "output_type": "stream",
     "text": [
      "EarlyStopping counter: 77 out of 100\n"
     ]
    },
    {
     "name": "stderr",
     "output_type": "stream",
     "text": [
      "Adversarial Debiasing Training Epoch:  91%|\u001b[32m█████████ \u001b[0m| 453/500 [20:23<02:22,  3.03s/it, accADV=0.658, accCLF=0.748, lossADV=0.646, lossCLF=0.595]"
     ]
    },
    {
     "name": "stdout",
     "output_type": "stream",
     "text": [
      "EarlyStopping counter: 78 out of 100\n"
     ]
    },
    {
     "name": "stderr",
     "output_type": "stream",
     "text": [
      "Adversarial Debiasing Training Epoch:  91%|\u001b[32m█████████ \u001b[0m| 454/500 [20:29<03:05,  4.03s/it, accADV=0.684, accCLF=0.756, lossADV=0.627, lossCLF=0.528]"
     ]
    },
    {
     "name": "stdout",
     "output_type": "stream",
     "text": [
      "EarlyStopping counter: 79 out of 100\n"
     ]
    },
    {
     "name": "stderr",
     "output_type": "stream",
     "text": [
      "Adversarial Debiasing Training Epoch:  91%|\u001b[32m█████████ \u001b[0m| 455/500 [20:35<03:33,  4.75s/it, accADV=0.689, accCLF=0.764, lossADV=0.621, lossCLF=0.517]"
     ]
    },
    {
     "name": "stdout",
     "output_type": "stream",
     "text": [
      "EarlyStopping counter: 80 out of 100\n"
     ]
    },
    {
     "name": "stderr",
     "output_type": "stream",
     "text": [
      "Adversarial Debiasing Training Epoch:  91%|\u001b[32m█████████ \u001b[0m| 456/500 [20:40<03:42,  5.05s/it, accADV=0.646, accCLF=0.744, lossADV=0.65, lossCLF=0.575] "
     ]
    },
    {
     "name": "stdout",
     "output_type": "stream",
     "text": [
      "EarlyStopping counter: 81 out of 100\n"
     ]
    },
    {
     "name": "stderr",
     "output_type": "stream",
     "text": [
      "Adversarial Debiasing Training Epoch:  91%|\u001b[32m█████████▏\u001b[0m| 457/500 [20:44<03:40,  5.13s/it, accADV=0.67, accCLF=0.752, lossADV=0.634, lossCLF=0.523] "
     ]
    },
    {
     "name": "stdout",
     "output_type": "stream",
     "text": [
      "EarlyStopping counter: 82 out of 100\n"
     ]
    },
    {
     "name": "stderr",
     "output_type": "stream",
     "text": [
      "Adversarial Debiasing Training Epoch:  92%|\u001b[32m█████████▏\u001b[0m| 458/500 [20:45<02:56,  4.20s/it, accADV=0.641, accCLF=0.744, lossADV=0.651, lossCLF=0.512]"
     ]
    },
    {
     "name": "stdout",
     "output_type": "stream",
     "text": [
      "EarlyStopping counter: 83 out of 100\n"
     ]
    },
    {
     "name": "stderr",
     "output_type": "stream",
     "text": [
      "Adversarial Debiasing Training Epoch:  92%|\u001b[32m█████████▏\u001b[0m| 459/500 [20:47<02:20,  3.43s/it, accADV=0.688, accCLF=0.773, lossADV=0.617, lossCLF=0.52] "
     ]
    },
    {
     "name": "stdout",
     "output_type": "stream",
     "text": [
      "EarlyStopping counter: 84 out of 100\n"
     ]
    },
    {
     "name": "stderr",
     "output_type": "stream",
     "text": [
      "Adversarial Debiasing Training Epoch:  92%|\u001b[32m█████████▏\u001b[0m| 460/500 [20:49<01:56,  2.92s/it, accADV=0.654, accCLF=0.742, lossADV=0.645, lossCLF=0.567]"
     ]
    },
    {
     "name": "stdout",
     "output_type": "stream",
     "text": [
      "EarlyStopping counter: 85 out of 100\n"
     ]
    },
    {
     "name": "stderr",
     "output_type": "stream",
     "text": [
      "Adversarial Debiasing Training Epoch:  92%|\u001b[32m█████████▏\u001b[0m| 461/500 [20:51<01:41,  2.61s/it, accADV=0.664, accCLF=0.727, lossADV=0.637, lossCLF=0.603]"
     ]
    },
    {
     "name": "stdout",
     "output_type": "stream",
     "text": [
      "EarlyStopping counter: 86 out of 100\n"
     ]
    },
    {
     "name": "stderr",
     "output_type": "stream",
     "text": [
      "Adversarial Debiasing Training Epoch:  92%|\u001b[32m█████████▏\u001b[0m| 462/500 [20:53<01:30,  2.38s/it, accADV=0.666, accCLF=0.779, lossADV=0.641, lossCLF=0.451]"
     ]
    },
    {
     "name": "stdout",
     "output_type": "stream",
     "text": [
      "EarlyStopping counter: 87 out of 100\n"
     ]
    },
    {
     "name": "stderr",
     "output_type": "stream",
     "text": [
      "Adversarial Debiasing Training Epoch:  93%|\u001b[32m█████████▎\u001b[0m| 463/500 [20:54<01:20,  2.18s/it, accADV=0.664, accCLF=0.768, lossADV=0.637, lossCLF=0.584]"
     ]
    },
    {
     "name": "stdout",
     "output_type": "stream",
     "text": [
      "EarlyStopping counter: 88 out of 100\n"
     ]
    },
    {
     "name": "stderr",
     "output_type": "stream",
     "text": [
      "Adversarial Debiasing Training Epoch:  93%|\u001b[32m█████████▎\u001b[0m| 464/500 [20:56<01:13,  2.05s/it, accADV=0.668, accCLF=0.766, lossADV=0.646, lossCLF=0.503]"
     ]
    },
    {
     "name": "stdout",
     "output_type": "stream",
     "text": [
      "EarlyStopping counter: 89 out of 100\n"
     ]
    },
    {
     "name": "stderr",
     "output_type": "stream",
     "text": [
      "Adversarial Debiasing Training Epoch:  93%|\u001b[32m█████████▎\u001b[0m| 465/500 [20:58<01:08,  1.94s/it, accADV=0.678, accCLF=0.756, lossADV=0.632, lossCLF=0.5]  "
     ]
    },
    {
     "name": "stdout",
     "output_type": "stream",
     "text": [
      "EarlyStopping counter: 90 out of 100\n"
     ]
    },
    {
     "name": "stderr",
     "output_type": "stream",
     "text": [
      "Adversarial Debiasing Training Epoch:  93%|\u001b[32m█████████▎\u001b[0m| 466/500 [20:59<01:03,  1.86s/it, accADV=0.691, accCLF=0.75, lossADV=0.623, lossCLF=0.537] "
     ]
    },
    {
     "name": "stdout",
     "output_type": "stream",
     "text": [
      "EarlyStopping counter: 91 out of 100\n"
     ]
    },
    {
     "name": "stderr",
     "output_type": "stream",
     "text": [
      "Adversarial Debiasing Training Epoch:  93%|\u001b[32m█████████▎\u001b[0m| 467/500 [21:02<01:00,  1.84s/it, accADV=0.672, accCLF=0.771, lossADV=0.644, lossCLF=0.509]"
     ]
    },
    {
     "name": "stdout",
     "output_type": "stream",
     "text": [
      "EarlyStopping counter: 92 out of 100\n"
     ]
    },
    {
     "name": "stderr",
     "output_type": "stream",
     "text": [
      "Adversarial Debiasing Training Epoch:  94%|\u001b[32m█████████▎\u001b[0m| 468/500 [21:08<01:31,  2.85s/it, accADV=0.678, accCLF=0.76, lossADV=0.628, lossCLF=0.55]  "
     ]
    },
    {
     "name": "stdout",
     "output_type": "stream",
     "text": [
      "EarlyStopping counter: 93 out of 100\n"
     ]
    },
    {
     "name": "stderr",
     "output_type": "stream",
     "text": [
      "Adversarial Debiasing Training Epoch:  94%|\u001b[32m█████████▍\u001b[0m| 469/500 [21:14<01:55,  3.71s/it, accADV=0.689, accCLF=0.768, lossADV=0.624, lossCLF=0.544]"
     ]
    },
    {
     "name": "stdout",
     "output_type": "stream",
     "text": [
      "EarlyStopping counter: 94 out of 100\n"
     ]
    },
    {
     "name": "stderr",
     "output_type": "stream",
     "text": [
      "Adversarial Debiasing Training Epoch:  94%|\u001b[32m█████████▍\u001b[0m| 470/500 [21:20<02:09,  4.31s/it, accADV=0.664, accCLF=0.752, lossADV=0.637, lossCLF=0.537]"
     ]
    },
    {
     "name": "stdout",
     "output_type": "stream",
     "text": [
      "EarlyStopping counter: 95 out of 100\n"
     ]
    },
    {
     "name": "stderr",
     "output_type": "stream",
     "text": [
      "Adversarial Debiasing Training Epoch:  94%|\u001b[32m█████████▍\u001b[0m| 471/500 [21:25<02:18,  4.78s/it, accADV=0.678, accCLF=0.768, lossADV=0.632, lossCLF=0.563]"
     ]
    },
    {
     "name": "stdout",
     "output_type": "stream",
     "text": [
      "EarlyStopping counter: 96 out of 100\n"
     ]
    },
    {
     "name": "stderr",
     "output_type": "stream",
     "text": [
      "Adversarial Debiasing Training Epoch:  94%|\u001b[32m█████████▍\u001b[0m| 472/500 [21:30<02:17,  4.92s/it, accADV=0.66, accCLF=0.756, lossADV=0.637, lossCLF=0.486] "
     ]
    },
    {
     "name": "stdout",
     "output_type": "stream",
     "text": [
      "EarlyStopping counter: 97 out of 100\n"
     ]
    },
    {
     "name": "stderr",
     "output_type": "stream",
     "text": [
      "Adversarial Debiasing Training Epoch:  95%|\u001b[32m█████████▍\u001b[0m| 473/500 [21:34<02:12,  4.93s/it, accADV=0.656, accCLF=0.719, lossADV=0.644, lossCLF=0.675]"
     ]
    },
    {
     "name": "stdout",
     "output_type": "stream",
     "text": [
      "EarlyStopping counter: 98 out of 100\n"
     ]
    },
    {
     "name": "stderr",
     "output_type": "stream",
     "text": [
      "Adversarial Debiasing Training Epoch:  95%|\u001b[32m█████████▍\u001b[0m| 474/500 [21:35<01:43,  4.00s/it, accADV=0.682, accCLF=0.73, lossADV=0.624, lossCLF=0.565] "
     ]
    },
    {
     "name": "stdout",
     "output_type": "stream",
     "text": [
      "EarlyStopping counter: 99 out of 100\n"
     ]
    },
    {
     "name": "stderr",
     "output_type": "stream",
     "text": [
      "Adversarial Debiasing Training Epoch:  95%|\u001b[32m█████████▌\u001b[0m| 475/500 [21:37<01:22,  3.30s/it, accADV=0.66, accCLF=0.746, lossADV=0.645, lossCLF=0.517] "
     ]
    },
    {
     "name": "stdout",
     "output_type": "stream",
     "text": [
      "EarlyStopping counter: 100 out of 100\n"
     ]
    },
    {
     "name": "stderr",
     "output_type": "stream",
     "text": [
      "Adversarial Debiasing Training Epoch:  95%|\u001b[32m█████████▌\u001b[0m| 476/500 [21:38<01:06,  2.77s/it, accADV=0.693, accCLF=0.76, lossADV=0.615, lossCLF=0.481] "
     ]
    },
    {
     "name": "stdout",
     "output_type": "stream",
     "text": [
      "EarlyStopping counter: 101 out of 100\n"
     ]
    },
    {
     "name": "stderr",
     "output_type": "stream",
     "text": [
      "Adversarial Debiasing Training Epoch:  95%|\u001b[32m█████████▌\u001b[0m| 477/500 [21:40<00:55,  2.43s/it, accADV=0.717, accCLF=0.75, lossADV=0.601, lossCLF=0.559] "
     ]
    },
    {
     "name": "stdout",
     "output_type": "stream",
     "text": [
      "EarlyStopping counter: 102 out of 100\n"
     ]
    },
    {
     "name": "stderr",
     "output_type": "stream",
     "text": [
      "Adversarial Debiasing Training Epoch:  96%|\u001b[32m█████████▌\u001b[0m| 478/500 [21:42<00:48,  2.20s/it, accADV=0.66, accCLF=0.744, lossADV=0.646, lossCLF=0.551] "
     ]
    },
    {
     "name": "stdout",
     "output_type": "stream",
     "text": [
      "EarlyStopping counter: 103 out of 100\n"
     ]
    },
    {
     "name": "stderr",
     "output_type": "stream",
     "text": [
      "Adversarial Debiasing Training Epoch:  96%|\u001b[32m█████████▌\u001b[0m| 479/500 [21:43<00:42,  2.03s/it, accADV=0.65, accCLF=0.736, lossADV=0.65, lossCLF=0.541]  "
     ]
    },
    {
     "name": "stdout",
     "output_type": "stream",
     "text": [
      "EarlyStopping counter: 104 out of 100\n"
     ]
    },
    {
     "name": "stderr",
     "output_type": "stream",
     "text": [
      "Adversarial Debiasing Training Epoch:  96%|\u001b[32m█████████▌\u001b[0m| 480/500 [21:45<00:37,  1.90s/it, accADV=0.65, accCLF=0.758, lossADV=0.648, lossCLF=0.543] "
     ]
    },
    {
     "name": "stdout",
     "output_type": "stream",
     "text": [
      "EarlyStopping counter: 105 out of 100\n"
     ]
    },
    {
     "name": "stderr",
     "output_type": "stream",
     "text": [
      "Adversarial Debiasing Training Epoch:  96%|\u001b[32m█████████▌\u001b[0m| 481/500 [21:46<00:34,  1.81s/it, accADV=0.666, accCLF=0.723, lossADV=0.635, lossCLF=0.617]"
     ]
    },
    {
     "name": "stdout",
     "output_type": "stream",
     "text": [
      "EarlyStopping counter: 106 out of 100\n"
     ]
    },
    {
     "name": "stderr",
     "output_type": "stream",
     "text": [
      "Adversarial Debiasing Training Epoch:  96%|\u001b[32m█████████▋\u001b[0m| 482/500 [21:48<00:32,  1.78s/it, accADV=0.684, accCLF=0.727, lossADV=0.628, lossCLF=0.585]"
     ]
    },
    {
     "name": "stdout",
     "output_type": "stream",
     "text": [
      "EarlyStopping counter: 107 out of 100\n"
     ]
    },
    {
     "name": "stderr",
     "output_type": "stream",
     "text": [
      "Adversarial Debiasing Training Epoch:  97%|\u001b[32m█████████▋\u001b[0m| 483/500 [21:50<00:29,  1.75s/it, accADV=0.65, accCLF=0.752, lossADV=0.646, lossCLF=0.565] "
     ]
    },
    {
     "name": "stdout",
     "output_type": "stream",
     "text": [
      "EarlyStopping counter: 108 out of 100\n"
     ]
    },
    {
     "name": "stderr",
     "output_type": "stream",
     "text": [
      "Adversarial Debiasing Training Epoch:  97%|\u001b[32m█████████▋\u001b[0m| 484/500 [21:51<00:27,  1.72s/it, accADV=0.656, accCLF=0.756, lossADV=0.646, lossCLF=0.568]"
     ]
    },
    {
     "name": "stdout",
     "output_type": "stream",
     "text": [
      "EarlyStopping counter: 109 out of 100\n"
     ]
    },
    {
     "name": "stderr",
     "output_type": "stream",
     "text": [
      "Adversarial Debiasing Training Epoch:  97%|\u001b[32m█████████▋\u001b[0m| 485/500 [21:53<00:25,  1.71s/it, accADV=0.701, accCLF=0.73, lossADV=0.618, lossCLF=0.556] "
     ]
    },
    {
     "name": "stdout",
     "output_type": "stream",
     "text": [
      "EarlyStopping counter: 110 out of 100\n"
     ]
    },
    {
     "name": "stderr",
     "output_type": "stream",
     "text": [
      "Adversarial Debiasing Training Epoch:  97%|\u001b[32m█████████▋\u001b[0m| 486/500 [21:55<00:23,  1.68s/it, accADV=0.658, accCLF=0.771, lossADV=0.648, lossCLF=0.537]"
     ]
    },
    {
     "name": "stdout",
     "output_type": "stream",
     "text": [
      "EarlyStopping counter: 111 out of 100\n"
     ]
    },
    {
     "name": "stderr",
     "output_type": "stream",
     "text": [
      "Adversarial Debiasing Training Epoch:  97%|\u001b[32m█████████▋\u001b[0m| 487/500 [21:56<00:21,  1.68s/it, accADV=0.709, accCLF=0.703, lossADV=0.603, lossCLF=0.655]"
     ]
    },
    {
     "name": "stdout",
     "output_type": "stream",
     "text": [
      "EarlyStopping counter: 112 out of 100\n"
     ]
    },
    {
     "name": "stderr",
     "output_type": "stream",
     "text": [
      "Adversarial Debiasing Training Epoch:  98%|\u001b[32m█████████▊\u001b[0m| 488/500 [21:58<00:20,  1.69s/it, accADV=0.658, accCLF=0.713, lossADV=0.643, lossCLF=0.664]"
     ]
    },
    {
     "name": "stdout",
     "output_type": "stream",
     "text": [
      "EarlyStopping counter: 113 out of 100\n"
     ]
    },
    {
     "name": "stderr",
     "output_type": "stream",
     "text": [
      "Adversarial Debiasing Training Epoch:  98%|\u001b[32m█████████▊\u001b[0m| 489/500 [22:00<00:18,  1.71s/it, accADV=0.689, accCLF=0.746, lossADV=0.619, lossCLF=0.526]"
     ]
    },
    {
     "name": "stdout",
     "output_type": "stream",
     "text": [
      "EarlyStopping counter: 114 out of 100\n"
     ]
    },
    {
     "name": "stderr",
     "output_type": "stream",
     "text": [
      "Adversarial Debiasing Training Epoch:  98%|\u001b[32m█████████▊\u001b[0m| 490/500 [22:01<00:17,  1.71s/it, accADV=0.658, accCLF=0.771, lossADV=0.636, lossCLF=0.551]"
     ]
    },
    {
     "name": "stdout",
     "output_type": "stream",
     "text": [
      "EarlyStopping counter: 115 out of 100\n"
     ]
    },
    {
     "name": "stderr",
     "output_type": "stream",
     "text": [
      "Adversarial Debiasing Training Epoch:  98%|\u001b[32m█████████▊\u001b[0m| 491/500 [22:03<00:15,  1.73s/it, accADV=0.682, accCLF=0.736, lossADV=0.628, lossCLF=0.587]"
     ]
    },
    {
     "name": "stdout",
     "output_type": "stream",
     "text": [
      "EarlyStopping counter: 116 out of 100\n"
     ]
    },
    {
     "name": "stderr",
     "output_type": "stream",
     "text": [
      "Adversarial Debiasing Training Epoch:  98%|\u001b[32m█████████▊\u001b[0m| 492/500 [22:05<00:13,  1.75s/it, accADV=0.648, accCLF=0.768, lossADV=0.65, lossCLF=0.56]  "
     ]
    },
    {
     "name": "stdout",
     "output_type": "stream",
     "text": [
      "EarlyStopping counter: 117 out of 100\n"
     ]
    },
    {
     "name": "stderr",
     "output_type": "stream",
     "text": [
      "Adversarial Debiasing Training Epoch:  99%|\u001b[32m█████████▊\u001b[0m| 493/500 [22:10<00:18,  2.70s/it, accADV=0.654, accCLF=0.725, lossADV=0.642, lossCLF=0.576]"
     ]
    },
    {
     "name": "stdout",
     "output_type": "stream",
     "text": [
      "EarlyStopping counter: 118 out of 100\n"
     ]
    },
    {
     "name": "stderr",
     "output_type": "stream",
     "text": [
      "Adversarial Debiasing Training Epoch:  99%|\u001b[32m█████████▉\u001b[0m| 494/500 [22:17<00:23,  3.96s/it, accADV=0.68, accCLF=0.781, lossADV=0.627, lossCLF=0.516] "
     ]
    },
    {
     "name": "stdout",
     "output_type": "stream",
     "text": [
      "EarlyStopping counter: 119 out of 100\n"
     ]
    },
    {
     "name": "stderr",
     "output_type": "stream",
     "text": [
      "Adversarial Debiasing Training Epoch:  99%|\u001b[32m█████████▉\u001b[0m| 495/500 [22:22<00:20,  4.20s/it, accADV=0.68, accCLF=0.717, lossADV=0.628, lossCLF=0.554] "
     ]
    },
    {
     "name": "stdout",
     "output_type": "stream",
     "text": [
      "EarlyStopping counter: 120 out of 100\n"
     ]
    },
    {
     "name": "stderr",
     "output_type": "stream",
     "text": [
      "Adversarial Debiasing Training Epoch:  99%|\u001b[32m█████████▉\u001b[0m| 496/500 [22:23<00:13,  3.49s/it, accADV=0.68, accCLF=0.721, lossADV=0.626, lossCLF=0.632] "
     ]
    },
    {
     "name": "stdout",
     "output_type": "stream",
     "text": [
      "EarlyStopping counter: 121 out of 100\n"
     ]
    },
    {
     "name": "stderr",
     "output_type": "stream",
     "text": [
      "Adversarial Debiasing Training Epoch:  99%|\u001b[32m█████████▉\u001b[0m| 497/500 [22:25<00:08,  2.90s/it, accADV=0.672, accCLF=0.695, lossADV=0.629, lossCLF=0.661]"
     ]
    },
    {
     "name": "stdout",
     "output_type": "stream",
     "text": [
      "EarlyStopping counter: 122 out of 100\n"
     ]
    },
    {
     "name": "stderr",
     "output_type": "stream",
     "text": [
      "Adversarial Debiasing Training Epoch: 100%|\u001b[32m█████████▉\u001b[0m| 498/500 [22:27<00:05,  2.58s/it, accADV=0.682, accCLF=0.777, lossADV=0.629, lossCLF=0.502]"
     ]
    },
    {
     "name": "stdout",
     "output_type": "stream",
     "text": [
      "EarlyStopping counter: 123 out of 100\n"
     ]
    },
    {
     "name": "stderr",
     "output_type": "stream",
     "text": [
      "Adversarial Debiasing Training Epoch: 100%|\u001b[32m█████████▉\u001b[0m| 499/500 [22:28<00:02,  2.31s/it, accADV=0.65, accCLF=0.738, lossADV=0.649, lossCLF=0.539] "
     ]
    },
    {
     "name": "stdout",
     "output_type": "stream",
     "text": [
      "EarlyStopping counter: 124 out of 100\n"
     ]
    },
    {
     "name": "stderr",
     "output_type": "stream",
     "text": [
      "Adversarial Debiasing Training Epoch: 100%|\u001b[32m█████████▉\u001b[0m| 499/500 [22:30<00:02,  2.31s/it, accADV=0.673, accCLF=0.751, lossADV=0.636, lossCLF=0.457]"
     ]
    },
    {
     "name": "stdout",
     "output_type": "stream",
     "text": [
      "EarlyStopping counter: 125 out of 100\n"
     ]
    },
    {
     "name": "stderr",
     "output_type": "stream",
     "text": [
      "Adversarial Debiasing Training Epoch: 100%|\u001b[32m██████████\u001b[0m| 500/500 [22:31<00:00,  2.70s/it, accADV=0.673, accCLF=0.751, lossADV=0.636, lossCLF=0.457]\n"
     ]
    },
    {
     "name": "stdout",
     "output_type": "stream",
     "text": [
      "========== after train(with debiasing) ==========\n",
      "========== Results on train ==========\n",
      "Grp. 0 - #instance: 8460; #pos. pred: 1045; Acc.: 0.932270\n",
      "Grp. 1 - #instance: 17589; #pos. pred: 954; Acc.: 0.708227\n",
      "Overall acc.: 0.780990; Demographic parity: -0.069284; Equal opportunity: -0.627474; Average odds difference: 0.460904\n",
      "========== Results on test ==========\n",
      "Grp. 0 - #instance: 4147; #pos. pred: 503; Acc.: 0.908850\n",
      "Grp. 1 - #instance: 8514; #pos. pred: 482; Acc.: 0.710947\n",
      "Overall acc.: 0.775768; Demographic parity: -0.064680; Equal opportunity: -0.508801; Average odds difference: 0.439973\n"
     ]
    }
   ],
   "source": [
    "data = fetch_data(\"adult\")\n",
    "print(\"data.x_train.shape: \", data.x_train.shape)\n",
    "print(\"data.x_test.shape: \", data.x_test.shape)\n",
    "origin_evaluator, train_evaluator, test_evaluator = Evaluator(data.s_train, \"origin\"), Evaluator(data.s_train, \"train\"), Evaluator(data.s_test, \"test\")\n",
    "if data.s_val is not None:\n",
    "    val_evaluator = Evaluator(data.s_val, \"val\")\n",
    "\n",
    "n_features, n_classes, n_groups = data.x_train.shape[1], len(np.unique(data.y_train)), len(np.unique(data.s_train))\n",
    "if n_classes == 2:\n",
    "    n_classes = 1\n",
    "if n_groups == 2:\n",
    "    n_groups = 1\n",
    "\n",
    "print(\"========== before train ==========\")\n",
    "origin_res = origin_evaluator(data.y_train, no_train=True)\n",
    "\n",
    "print('\\n========== Starting Training without Mitigation... ==========')\n",
    "clf_no_debias = AdversarialDebiasing(n_features, n_classes, n_groups, num_epochs=500, batch_size=512,\n",
    "                     classifier_num_hidden_units=512, random_state=42, debias=False)\n",
    "\n",
    "loss_list_no_debias, val_list_no_debias, train_info_no_debias, val_info_no_debias = clf_no_debias.fit(data.x_train, data.y_train, data.s_train, \n",
    "                                                    early_stopping=True, validation_set=[data.x_val, data.y_val, data.s_val])\n",
    "\n",
    "print(\"========== after train(without debiasing) ==========\")\n",
    "pred_label_train = clf_no_debias.predict(data.x_train)\n",
    "train_res = train_evaluator(data.y_train, pred_label_train, no_train=False)\n",
    "\n",
    "pred_label_test = clf_no_debias.predict(data.x_test)\n",
    "test_res = test_evaluator(data.y_test, pred_label_test, no_train=False)\n",
    "\n",
    "\n",
    "print('\\n========== Starting Training with Mitigation... ==========')\n",
    "clf = AdversarialDebiasing(n_features, n_classes, n_groups, adversary_loss_weight=0.1, num_epochs=500, batch_size=512,\n",
    "                           classifier_num_hidden_units=512, random_state=42, debias=True)\n",
    "\n",
    "loss_list, val_list, train_info, val_info = clf.fit(data.x_train, data.y_train, data.s_train, \n",
    "                                                    early_stopping=True, validation_set=[data.x_val, data.y_val, data.s_val])\n",
    "print(\"========== after train(with debiasing) ==========\")\n",
    "pred_label_train = clf.predict(data.x_train)\n",
    "train_res = train_evaluator(data.y_train, pred_label_train, no_train=False)\n",
    "\n",
    "pred_label_test = clf.predict(data.x_test)\n",
    "test_res = test_evaluator(data.y_test, pred_label_test, no_train=False)\n",
    "\n",
    "order_and_save_idx = True\n",
    "if order_and_save_idx:\n",
    "    clf.sorted_loss(data.x_train, data.y_train, data.s_train, idx_path='data/adult/sorted_idx_%d.json' % data.num_val)"
   ]
  },
  {
   "cell_type": "code",
   "execution_count": 70,
   "metadata": {},
   "outputs": [
    {
     "name": "stderr",
     "output_type": "stream",
     "text": [
      "Adversarial Debiasing Training Epoch: 100%|\u001b[32m██████████\u001b[0m| 1/1 [00:02<00:00,  2.05s/it, accADV=0.608, accCLF=0.744, lossADV=0.745, lossCLF=6.23]\n"
     ]
    },
    {
     "data": {
      "text/plain": [
       "([8.764971733093262],\n",
       " [6.648506164550781],\n",
       " [{'overall_acc': 0.7515067756919651,\n",
       "   'dp': 0.15008356689726693,\n",
       "   'eop': 0.29864372488167495,\n",
       "   'average_odds_difference': 0.3854106588668259,\n",
       "   'grp_0_acc': 0.8127659574468085,\n",
       "   'grp_1_acc': 0.7220421854568196}],\n",
       " [{'overall_acc': 0.7440110565110565,\n",
       "   'dp': 0.16936615327056184,\n",
       "   'eop': 0.3108045010972592,\n",
       "   'average_odds_difference': 0.3427709296353364,\n",
       "   'grp_0_acc': 0.8156130268199234,\n",
       "   'grp_1_acc': 0.7102169981916817}])"
      ]
     },
     "execution_count": 70,
     "metadata": {},
     "output_type": "execute_result"
    }
   ],
   "source": [
    "tt = AdversarialDebiasing(n_features, n_classes, n_groups, num_epochs=1, batch_size=512,\n",
    "                     classifier_num_hidden_units=512, random_state=42, debias=True)\n",
    "\n",
    "tt.fit(data.x_train, data.y_train, data.s_train, early_stopping=True, validation_set=[data.x_val, data.y_val, data.s_val])"
   ]
  },
  {
   "cell_type": "code",
   "execution_count": null,
   "metadata": {},
   "outputs": [],
   "source": []
  },
  {
   "cell_type": "code",
   "execution_count": 65,
   "metadata": {},
   "outputs": [],
   "source": [
    "def sorted_loss(self, X, y, s, idx_path):\n",
    "    \"\"\" return the loss of each sample\"\"\"\n",
    "    print(\"========== sort and save ==========\")\n",
    "    X = torch.tensor(X.astype(np.float32)).to(self.device)\n",
    "    y = torch.tensor(y.astype(np.float32)).to(self.device)\n",
    "    s = torch.tensor(s.astype(np.float32)).to(self.device)\n",
    "\n",
    "    y = y.unsqueeze(1)\n",
    "    s = s.unsqueeze(1)\n",
    "    with torch.no_grad():\n",
    "        self.clf_model.eval()\n",
    "        if self.debias:\n",
    "            self.adv_model.eval()\n",
    "\n",
    "        pred_labels, pred_logits = self.clf_model.forward(X)\n",
    "        loss1 = self.loss_clf(pred_logits, y, reduction='none')\n",
    "        \n",
    "        if self.debias:\n",
    "            pred_protected_attributes_labels, pred_protected_attributes_logits = self.adv_model.forward(\n",
    "            pred_logits, y)\n",
    "            loss2 = self.loss_adv(pred_protected_attributes_logits, s, reduction='none')\n",
    "            total_loss_list = torch.flatten((loss1 + self.adversary_loss_weight * loss2))\n",
    "        else:\n",
    "            total_loss_list = torch.flatten(loss1)\n",
    "        print(total_loss_list)\n",
    "\n",
    "        sorted_loss_idx_value = sorted(enumerate(total_loss_list), key=lambda x: x[1])\n",
    "        idx = [i[0] for i in sorted_loss_idx_value]\n",
    "\n",
    "        with open(idx_path, \"w\") as f:\n",
    "            json.dump(idx, f)\n",
    "\n",
    "        return"
   ]
  },
  {
   "cell_type": "code",
   "execution_count": 68,
   "metadata": {},
   "outputs": [
    {
     "name": "stdout",
     "output_type": "stream",
     "text": [
      "========== sort and save ==========\n",
      "tensor([2.9915e-03, 1.6395e-01, 6.4449e-03,  ..., 4.3868e-05, 6.0091e-01,\n",
      "        7.5501e-01])\n"
     ]
    },
    {
     "ename": "TypeError",
     "evalue": "object of type 'NoneType' has no len()",
     "output_type": "error",
     "traceback": [
      "\u001b[1;31m---------------------------------------------------------------------------\u001b[0m",
      "\u001b[1;31mTypeError\u001b[0m                                 Traceback (most recent call last)",
      "\u001b[1;32m~\\AppData\\Local\\Temp\\ipykernel_20664\\316872300.py\u001b[0m in \u001b[0;36m<module>\u001b[1;34m\u001b[0m\n\u001b[0;32m      1\u001b[0m len(sorted_loss(clf_no_debias, data.x_train, data.y_train, data.s_train,\n\u001b[1;32m----> 2\u001b[1;33m                     idx_path='data/adult/no_debias_sorted_idx_%d.json' % data.num_val))\n\u001b[0m",
      "\u001b[1;31mTypeError\u001b[0m: object of type 'NoneType' has no len()"
     ]
    }
   ],
   "source": [
    "sorted_loss(clf_no_debias, data.x_train, data.y_train, data.s_train,\n",
    "                    idx_path='data/adult/no_debias_sorted_idx_%d.json' % data.num_val)"
   ]
  },
  {
   "cell_type": "code",
   "execution_count": 69,
   "metadata": {},
   "outputs": [
    {
     "data": {
      "text/plain": [
       "(26049, 102)"
      ]
     },
     "execution_count": 69,
     "metadata": {},
     "output_type": "execute_result"
    }
   ],
   "source": [
    "data.x_train.shape"
   ]
  },
  {
   "cell_type": "code",
   "execution_count": 56,
   "metadata": {},
   "outputs": [
    {
     "name": "stdout",
     "output_type": "stream",
     "text": [
      "========== sort and save ==========\n",
      "tensor([0.1029, 0.3802, 0.0516,  ..., 0.0425, 0.4398, 0.4017])\n"
     ]
    }
   ],
   "source": [
    "order_and_save_idx = True\n",
    "if order_and_save_idx:\n",
    "#     clf_no_debias.sorted_loss(data.x_train, data.y_train, data.s_train,\n",
    "#                     idx_path='data/adult/no_debias_sorted_idx_%d.json' % data.num_val)\n",
    "    clf.sorted_loss(data.x_train, data.y_train, data.s_train,\n",
    "                    idx_path='data/adult/sorted_idx_%d.json' % data.num_val)"
   ]
  },
  {
   "cell_type": "code",
   "execution_count": 4,
   "metadata": {},
   "outputs": [],
   "source": [
    "import pandas as pd\n",
    "res = pd.DataFrame(train_info)\n",
    "epoch_loss_list = loss_list[::]\n",
    "res['epoch_loss'] = epoch_loss_list\n",
    "res.to_csv('train_info.csv')\n",
    "# for res in train_info:\n",
    "#     print(res)"
   ]
  },
  {
   "cell_type": "code",
   "execution_count": 5,
   "metadata": {},
   "outputs": [
    {
     "data": {
      "text/html": [
       "<div>\n",
       "<style scoped>\n",
       "    .dataframe tbody tr th:only-of-type {\n",
       "        vertical-align: middle;\n",
       "    }\n",
       "\n",
       "    .dataframe tbody tr th {\n",
       "        vertical-align: top;\n",
       "    }\n",
       "\n",
       "    .dataframe thead th {\n",
       "        text-align: right;\n",
       "    }\n",
       "</style>\n",
       "<table border=\"1\" class=\"dataframe\">\n",
       "  <thead>\n",
       "    <tr style=\"text-align: right;\">\n",
       "      <th></th>\n",
       "      <th>overall_acc</th>\n",
       "      <th>dp</th>\n",
       "      <th>eop</th>\n",
       "      <th>average_odds_difference</th>\n",
       "      <th>grp_0_acc</th>\n",
       "      <th>grp_1_acc</th>\n",
       "      <th>epoch_loss</th>\n",
       "    </tr>\n",
       "  </thead>\n",
       "  <tbody>\n",
       "    <tr>\n",
       "      <th>count</th>\n",
       "      <td>510.000000</td>\n",
       "      <td>510.000000</td>\n",
       "      <td>510.000000</td>\n",
       "      <td>510.000000</td>\n",
       "      <td>510.000000</td>\n",
       "      <td>510.000000</td>\n",
       "      <td>510.000000</td>\n",
       "    </tr>\n",
       "    <tr>\n",
       "      <th>mean</th>\n",
       "      <td>0.804767</td>\n",
       "      <td>0.033382</td>\n",
       "      <td>-0.254121</td>\n",
       "      <td>0.399377</td>\n",
       "      <td>0.904359</td>\n",
       "      <td>0.756865</td>\n",
       "      <td>1.059367</td>\n",
       "    </tr>\n",
       "    <tr>\n",
       "      <th>std</th>\n",
       "      <td>0.046270</td>\n",
       "      <td>0.165135</td>\n",
       "      <td>0.364116</td>\n",
       "      <td>0.342574</td>\n",
       "      <td>0.055041</td>\n",
       "      <td>0.053775</td>\n",
       "      <td>0.964443</td>\n",
       "    </tr>\n",
       "    <tr>\n",
       "      <th>min</th>\n",
       "      <td>0.583746</td>\n",
       "      <td>-0.497668</td>\n",
       "      <td>-0.759306</td>\n",
       "      <td>0.003801</td>\n",
       "      <td>0.448818</td>\n",
       "      <td>0.648644</td>\n",
       "      <td>0.311106</td>\n",
       "    </tr>\n",
       "    <tr>\n",
       "      <th>25%</th>\n",
       "      <td>0.778254</td>\n",
       "      <td>-0.070418</td>\n",
       "      <td>-0.595344</td>\n",
       "      <td>0.104358</td>\n",
       "      <td>0.900502</td>\n",
       "      <td>0.708468</td>\n",
       "      <td>0.613932</td>\n",
       "    </tr>\n",
       "    <tr>\n",
       "      <th>50%</th>\n",
       "      <td>0.798610</td>\n",
       "      <td>-0.025991</td>\n",
       "      <td>-0.360697</td>\n",
       "      <td>0.407241</td>\n",
       "      <td>0.922695</td>\n",
       "      <td>0.746148</td>\n",
       "      <td>0.719168</td>\n",
       "    </tr>\n",
       "    <tr>\n",
       "      <th>75%</th>\n",
       "      <td>0.848535</td>\n",
       "      <td>0.157829</td>\n",
       "      <td>0.016718</td>\n",
       "      <td>0.475202</td>\n",
       "      <td>0.932270</td>\n",
       "      <td>0.812155</td>\n",
       "      <td>0.918993</td>\n",
       "    </tr>\n",
       "    <tr>\n",
       "      <th>max</th>\n",
       "      <td>0.877155</td>\n",
       "      <td>0.531282</td>\n",
       "      <td>0.742395</td>\n",
       "      <td>2.640999</td>\n",
       "      <td>0.948109</td>\n",
       "      <td>0.846495</td>\n",
       "      <td>8.764972</td>\n",
       "    </tr>\n",
       "  </tbody>\n",
       "</table>\n",
       "</div>"
      ],
      "text/plain": [
       "       overall_acc          dp         eop  average_odds_difference  \\\n",
       "count   510.000000  510.000000  510.000000               510.000000   \n",
       "mean      0.804767    0.033382   -0.254121                 0.399377   \n",
       "std       0.046270    0.165135    0.364116                 0.342574   \n",
       "min       0.583746   -0.497668   -0.759306                 0.003801   \n",
       "25%       0.778254   -0.070418   -0.595344                 0.104358   \n",
       "50%       0.798610   -0.025991   -0.360697                 0.407241   \n",
       "75%       0.848535    0.157829    0.016718                 0.475202   \n",
       "max       0.877155    0.531282    0.742395                 2.640999   \n",
       "\n",
       "        grp_0_acc   grp_1_acc  epoch_loss  \n",
       "count  510.000000  510.000000  510.000000  \n",
       "mean     0.904359    0.756865    1.059367  \n",
       "std      0.055041    0.053775    0.964443  \n",
       "min      0.448818    0.648644    0.311106  \n",
       "25%      0.900502    0.708468    0.613932  \n",
       "50%      0.922695    0.746148    0.719168  \n",
       "75%      0.932270    0.812155    0.918993  \n",
       "max      0.948109    0.846495    8.764972  "
      ]
     },
     "execution_count": 5,
     "metadata": {},
     "output_type": "execute_result"
    }
   ],
   "source": [
    "res.describe()"
   ]
  },
  {
   "cell_type": "code",
   "execution_count": 67,
   "metadata": {},
   "outputs": [
    {
     "data": {
      "text/plain": [
       "510.0"
      ]
     },
     "execution_count": 67,
     "metadata": {},
     "output_type": "execute_result"
    }
   ],
   "source": [
    "clf.batch_id / 50"
   ]
  },
  {
   "cell_type": "code",
   "execution_count": 41,
   "metadata": {},
   "outputs": [
    {
     "data": {
      "text/html": [
       "<div>\n",
       "<style scoped>\n",
       "    .dataframe tbody tr th:only-of-type {\n",
       "        vertical-align: middle;\n",
       "    }\n",
       "\n",
       "    .dataframe tbody tr th {\n",
       "        vertical-align: top;\n",
       "    }\n",
       "\n",
       "    .dataframe thead th {\n",
       "        text-align: right;\n",
       "    }\n",
       "</style>\n",
       "<table border=\"1\" class=\"dataframe\">\n",
       "  <thead>\n",
       "    <tr style=\"text-align: right;\">\n",
       "      <th></th>\n",
       "      <th>overall_acc</th>\n",
       "      <th>dp</th>\n",
       "      <th>eop</th>\n",
       "      <th>average_odds_difference</th>\n",
       "      <th>grp_0_acc</th>\n",
       "      <th>grp_1_acc</th>\n",
       "      <th>epoch_loss</th>\n",
       "      <th>abs_dp</th>\n",
       "      <th>abs_eop</th>\n",
       "      <th>abs_aod</th>\n",
       "    </tr>\n",
       "  </thead>\n",
       "  <tbody>\n",
       "    <tr>\n",
       "      <th>42</th>\n",
       "      <td>0.841453</td>\n",
       "      <td>0.092066</td>\n",
       "      <td>-0.060676</td>\n",
       "      <td>0.050309</td>\n",
       "      <td>0.929787</td>\n",
       "      <td>0.798965</td>\n",
       "      <td>2.900521</td>\n",
       "      <td>0.092066</td>\n",
       "      <td>0.060676</td>\n",
       "      <td>0.050309</td>\n",
       "    </tr>\n",
       "    <tr>\n",
       "      <th>43</th>\n",
       "      <td>0.841453</td>\n",
       "      <td>0.094048</td>\n",
       "      <td>-0.067164</td>\n",
       "      <td>0.056181</td>\n",
       "      <td>0.929905</td>\n",
       "      <td>0.798908</td>\n",
       "      <td>3.164135</td>\n",
       "      <td>0.094048</td>\n",
       "      <td>0.067164</td>\n",
       "      <td>0.056181</td>\n",
       "    </tr>\n",
       "    <tr>\n",
       "      <th>290</th>\n",
       "      <td>0.763446</td>\n",
       "      <td>-0.020700</td>\n",
       "      <td>-0.183890</td>\n",
       "      <td>0.143662</td>\n",
       "      <td>0.900000</td>\n",
       "      <td>0.697766</td>\n",
       "      <td>0.842495</td>\n",
       "      <td>0.020700</td>\n",
       "      <td>0.183890</td>\n",
       "      <td>0.143662</td>\n",
       "    </tr>\n",
       "    <tr>\n",
       "      <th>292</th>\n",
       "      <td>0.763024</td>\n",
       "      <td>-0.022909</td>\n",
       "      <td>-0.198451</td>\n",
       "      <td>0.171984</td>\n",
       "      <td>0.897163</td>\n",
       "      <td>0.698505</td>\n",
       "      <td>0.816291</td>\n",
       "      <td>0.022909</td>\n",
       "      <td>0.198451</td>\n",
       "      <td>0.171984</td>\n",
       "    </tr>\n",
       "    <tr>\n",
       "      <th>360</th>\n",
       "      <td>0.831510</td>\n",
       "      <td>0.055733</td>\n",
       "      <td>-0.132687</td>\n",
       "      <td>0.189174</td>\n",
       "      <td>0.912411</td>\n",
       "      <td>0.792598</td>\n",
       "      <td>0.600321</td>\n",
       "      <td>0.055733</td>\n",
       "      <td>0.132687</td>\n",
       "      <td>0.189174</td>\n",
       "    </tr>\n",
       "    <tr>\n",
       "      <th>361</th>\n",
       "      <td>0.836193</td>\n",
       "      <td>0.067227</td>\n",
       "      <td>-0.125473</td>\n",
       "      <td>0.191213</td>\n",
       "      <td>0.912766</td>\n",
       "      <td>0.799363</td>\n",
       "      <td>0.588826</td>\n",
       "      <td>0.067227</td>\n",
       "      <td>0.125473</td>\n",
       "      <td>0.191213</td>\n",
       "    </tr>\n",
       "    <tr>\n",
       "      <th>362</th>\n",
       "      <td>0.838765</td>\n",
       "      <td>0.078389</td>\n",
       "      <td>-0.091139</td>\n",
       "      <td>0.159285</td>\n",
       "      <td>0.913475</td>\n",
       "      <td>0.802831</td>\n",
       "      <td>0.697787</td>\n",
       "      <td>0.078389</td>\n",
       "      <td>0.091139</td>\n",
       "      <td>0.159285</td>\n",
       "    </tr>\n",
       "    <tr>\n",
       "      <th>363</th>\n",
       "      <td>0.839226</td>\n",
       "      <td>0.088553</td>\n",
       "      <td>-0.064708</td>\n",
       "      <td>0.118568</td>\n",
       "      <td>0.916430</td>\n",
       "      <td>0.802092</td>\n",
       "      <td>0.522692</td>\n",
       "      <td>0.088553</td>\n",
       "      <td>0.064708</td>\n",
       "      <td>0.118568</td>\n",
       "    </tr>\n",
       "    <tr>\n",
       "      <th>387</th>\n",
       "      <td>0.846290</td>\n",
       "      <td>0.084376</td>\n",
       "      <td>-0.170694</td>\n",
       "      <td>0.186551</td>\n",
       "      <td>0.926950</td>\n",
       "      <td>0.807493</td>\n",
       "      <td>0.537756</td>\n",
       "      <td>0.084376</td>\n",
       "      <td>0.170694</td>\n",
       "      <td>0.186551</td>\n",
       "    </tr>\n",
       "  </tbody>\n",
       "</table>\n",
       "</div>"
      ],
      "text/plain": [
       "     overall_acc        dp       eop  average_odds_difference  grp_0_acc  \\\n",
       "42      0.841453  0.092066 -0.060676                 0.050309   0.929787   \n",
       "43      0.841453  0.094048 -0.067164                 0.056181   0.929905   \n",
       "290     0.763446 -0.020700 -0.183890                 0.143662   0.900000   \n",
       "292     0.763024 -0.022909 -0.198451                 0.171984   0.897163   \n",
       "360     0.831510  0.055733 -0.132687                 0.189174   0.912411   \n",
       "361     0.836193  0.067227 -0.125473                 0.191213   0.912766   \n",
       "362     0.838765  0.078389 -0.091139                 0.159285   0.913475   \n",
       "363     0.839226  0.088553 -0.064708                 0.118568   0.916430   \n",
       "387     0.846290  0.084376 -0.170694                 0.186551   0.926950   \n",
       "\n",
       "     grp_1_acc  epoch_loss    abs_dp   abs_eop   abs_aod  \n",
       "42    0.798965    2.900521  0.092066  0.060676  0.050309  \n",
       "43    0.798908    3.164135  0.094048  0.067164  0.056181  \n",
       "290   0.697766    0.842495  0.020700  0.183890  0.143662  \n",
       "292   0.698505    0.816291  0.022909  0.198451  0.171984  \n",
       "360   0.792598    0.600321  0.055733  0.132687  0.189174  \n",
       "361   0.799363    0.588826  0.067227  0.125473  0.191213  \n",
       "362   0.802831    0.697787  0.078389  0.091139  0.159285  \n",
       "363   0.802092    0.522692  0.088553  0.064708  0.118568  \n",
       "387   0.807493    0.537756  0.084376  0.170694  0.186551  "
      ]
     },
     "execution_count": 41,
     "metadata": {},
     "output_type": "execute_result"
    }
   ],
   "source": [
    "res[(abs(res['dp'])< 0.1) & (abs(res['eop']) < 0.2) & (abs(res['average_odds_difference']) < 0.2)]"
   ]
  },
  {
   "cell_type": "code",
   "execution_count": 48,
   "metadata": {},
   "outputs": [
    {
     "name": "stdout",
     "output_type": "stream",
     "text": [
      "EarlyStopping counter: 1 out of 100\n",
      "EarlyStopping counter: 1 out of 100\n",
      "EarlyStopping counter: 1 out of 100\n",
      "EarlyStopping counter: 2 out of 100\n",
      "EarlyStopping counter: 1 out of 100\n",
      "EarlyStopping counter: 2 out of 100\n",
      "EarlyStopping counter: 1 out of 100\n",
      "EarlyStopping counter: 2 out of 100\n",
      "EarlyStopping counter: 3 out of 100\n",
      "EarlyStopping counter: 4 out of 100\n",
      "EarlyStopping counter: 5 out of 100\n",
      "EarlyStopping counter: 6 out of 100\n",
      "EarlyStopping counter: 7 out of 100\n",
      "EarlyStopping counter: 8 out of 100\n",
      "EarlyStopping counter: 1 out of 100\n",
      "EarlyStopping counter: 2 out of 100\n",
      "EarlyStopping counter: 3 out of 100\n",
      "EarlyStopping counter: 4 out of 100\n",
      "EarlyStopping counter: 5 out of 100\n",
      "EarlyStopping counter: 1 out of 100\n",
      "EarlyStopping counter: 2 out of 100\n",
      "EarlyStopping counter: 1 out of 100\n",
      "EarlyStopping counter: 2 out of 100\n",
      "EarlyStopping counter: 3 out of 100\n",
      "EarlyStopping counter: 4 out of 100\n",
      "EarlyStopping counter: 5 out of 100\n",
      "EarlyStopping counter: 6 out of 100\n",
      "EarlyStopping counter: 7 out of 100\n",
      "EarlyStopping counter: 8 out of 100\n",
      "EarlyStopping counter: 9 out of 100\n",
      "EarlyStopping counter: 10 out of 100\n",
      "EarlyStopping counter: 11 out of 100\n",
      "EarlyStopping counter: 12 out of 100\n",
      "EarlyStopping counter: 13 out of 100\n",
      "EarlyStopping counter: 14 out of 100\n",
      "EarlyStopping counter: 15 out of 100\n",
      "EarlyStopping counter: 16 out of 100\n",
      "EarlyStopping counter: 17 out of 100\n",
      "EarlyStopping counter: 1 out of 100\n",
      "EarlyStopping counter: 2 out of 100\n",
      "EarlyStopping counter: 3 out of 100\n",
      "EarlyStopping counter: 4 out of 100\n",
      "EarlyStopping counter: 5 out of 100\n",
      "EarlyStopping counter: 6 out of 100\n",
      "EarlyStopping counter: 7 out of 100\n",
      "EarlyStopping counter: 8 out of 100\n",
      "EarlyStopping counter: 9 out of 100\n",
      "EarlyStopping counter: 10 out of 100\n",
      "EarlyStopping counter: 11 out of 100\n",
      "EarlyStopping counter: 12 out of 100\n",
      "EarlyStopping counter: 13 out of 100\n",
      "EarlyStopping counter: 14 out of 100\n",
      "EarlyStopping counter: 15 out of 100\n",
      "EarlyStopping counter: 16 out of 100\n",
      "EarlyStopping counter: 17 out of 100\n",
      "EarlyStopping counter: 18 out of 100\n",
      "EarlyStopping counter: 19 out of 100\n",
      "EarlyStopping counter: 20 out of 100\n",
      "EarlyStopping counter: 21 out of 100\n",
      "EarlyStopping counter: 22 out of 100\n",
      "EarlyStopping counter: 23 out of 100\n",
      "EarlyStopping counter: 24 out of 100\n",
      "EarlyStopping counter: 25 out of 100\n",
      "EarlyStopping counter: 26 out of 100\n",
      "EarlyStopping counter: 27 out of 100\n",
      "EarlyStopping counter: 28 out of 100\n",
      "EarlyStopping counter: 29 out of 100\n",
      "EarlyStopping counter: 30 out of 100\n",
      "EarlyStopping counter: 31 out of 100\n",
      "EarlyStopping counter: 32 out of 100\n",
      "EarlyStopping counter: 33 out of 100\n",
      "EarlyStopping counter: 34 out of 100\n",
      "EarlyStopping counter: 35 out of 100\n",
      "EarlyStopping counter: 36 out of 100\n",
      "EarlyStopping counter: 37 out of 100\n",
      "EarlyStopping counter: 38 out of 100\n",
      "EarlyStopping counter: 39 out of 100\n",
      "EarlyStopping counter: 40 out of 100\n",
      "EarlyStopping counter: 41 out of 100\n",
      "EarlyStopping counter: 42 out of 100\n",
      "EarlyStopping counter: 43 out of 100\n",
      "EarlyStopping counter: 44 out of 100\n",
      "EarlyStopping counter: 45 out of 100\n",
      "EarlyStopping counter: 46 out of 100\n",
      "EarlyStopping counter: 47 out of 100\n",
      "EarlyStopping counter: 48 out of 100\n",
      "EarlyStopping counter: 49 out of 100\n",
      "EarlyStopping counter: 50 out of 100\n",
      "EarlyStopping counter: 1 out of 100\n",
      "EarlyStopping counter: 2 out of 100\n",
      "EarlyStopping counter: 3 out of 100\n",
      "EarlyStopping counter: 4 out of 100\n",
      "EarlyStopping counter: 5 out of 100\n",
      "EarlyStopping counter: 6 out of 100\n",
      "EarlyStopping counter: 7 out of 100\n",
      "EarlyStopping counter: 8 out of 100\n",
      "EarlyStopping counter: 9 out of 100\n",
      "EarlyStopping counter: 10 out of 100\n",
      "EarlyStopping counter: 11 out of 100\n",
      "EarlyStopping counter: 12 out of 100\n",
      "EarlyStopping counter: 13 out of 100\n",
      "EarlyStopping counter: 14 out of 100\n",
      "EarlyStopping counter: 15 out of 100\n",
      "EarlyStopping counter: 16 out of 100\n",
      "EarlyStopping counter: 17 out of 100\n",
      "EarlyStopping counter: 18 out of 100\n",
      "EarlyStopping counter: 19 out of 100\n",
      "EarlyStopping counter: 20 out of 100\n",
      "EarlyStopping counter: 21 out of 100\n",
      "EarlyStopping counter: 22 out of 100\n",
      "EarlyStopping counter: 23 out of 100\n",
      "EarlyStopping counter: 24 out of 100\n",
      "EarlyStopping counter: 25 out of 100\n",
      "EarlyStopping counter: 26 out of 100\n",
      "EarlyStopping counter: 27 out of 100\n",
      "EarlyStopping counter: 28 out of 100\n",
      "EarlyStopping counter: 29 out of 100\n",
      "EarlyStopping counter: 30 out of 100\n",
      "EarlyStopping counter: 31 out of 100\n",
      "EarlyStopping counter: 32 out of 100\n",
      "EarlyStopping counter: 33 out of 100\n",
      "EarlyStopping counter: 34 out of 100\n",
      "EarlyStopping counter: 35 out of 100\n",
      "EarlyStopping counter: 36 out of 100\n",
      "EarlyStopping counter: 37 out of 100\n",
      "EarlyStopping counter: 38 out of 100\n",
      "EarlyStopping counter: 39 out of 100\n",
      "EarlyStopping counter: 40 out of 100\n",
      "EarlyStopping counter: 41 out of 100\n",
      "EarlyStopping counter: 42 out of 100\n",
      "EarlyStopping counter: 43 out of 100\n",
      "EarlyStopping counter: 44 out of 100\n",
      "EarlyStopping counter: 45 out of 100\n",
      "EarlyStopping counter: 46 out of 100\n",
      "EarlyStopping counter: 47 out of 100\n",
      "EarlyStopping counter: 48 out of 100\n",
      "EarlyStopping counter: 49 out of 100\n",
      "EarlyStopping counter: 50 out of 100\n",
      "EarlyStopping counter: 51 out of 100\n",
      "EarlyStopping counter: 52 out of 100\n",
      "EarlyStopping counter: 53 out of 100\n",
      "EarlyStopping counter: 54 out of 100\n",
      "EarlyStopping counter: 55 out of 100\n",
      "EarlyStopping counter: 56 out of 100\n",
      "EarlyStopping counter: 57 out of 100\n",
      "EarlyStopping counter: 58 out of 100\n",
      "EarlyStopping counter: 59 out of 100\n",
      "EarlyStopping counter: 60 out of 100\n",
      "EarlyStopping counter: 61 out of 100\n",
      "EarlyStopping counter: 62 out of 100\n",
      "EarlyStopping counter: 63 out of 100\n",
      "EarlyStopping counter: 64 out of 100\n",
      "EarlyStopping counter: 65 out of 100\n",
      "EarlyStopping counter: 66 out of 100\n",
      "EarlyStopping counter: 67 out of 100\n",
      "EarlyStopping counter: 68 out of 100\n",
      "EarlyStopping counter: 69 out of 100\n",
      "EarlyStopping counter: 70 out of 100\n",
      "EarlyStopping counter: 71 out of 100\n",
      "EarlyStopping counter: 72 out of 100\n",
      "EarlyStopping counter: 73 out of 100\n",
      "EarlyStopping counter: 74 out of 100\n",
      "EarlyStopping counter: 75 out of 100\n",
      "EarlyStopping counter: 76 out of 100\n",
      "EarlyStopping counter: 77 out of 100\n",
      "EarlyStopping counter: 78 out of 100\n",
      "EarlyStopping counter: 79 out of 100\n",
      "EarlyStopping counter: 80 out of 100\n",
      "EarlyStopping counter: 81 out of 100\n",
      "EarlyStopping counter: 82 out of 100\n",
      "EarlyStopping counter: 83 out of 100\n",
      "EarlyStopping counter: 84 out of 100\n",
      "EarlyStopping counter: 85 out of 100\n",
      "EarlyStopping counter: 86 out of 100\n",
      "EarlyStopping counter: 87 out of 100\n",
      "EarlyStopping counter: 88 out of 100\n",
      "EarlyStopping counter: 89 out of 100\n",
      "EarlyStopping counter: 90 out of 100\n",
      "EarlyStopping counter: 91 out of 100\n",
      "EarlyStopping counter: 92 out of 100\n",
      "EarlyStopping counter: 93 out of 100\n",
      "EarlyStopping counter: 94 out of 100\n",
      "EarlyStopping counter: 95 out of 100\n",
      "EarlyStopping counter: 96 out of 100\n",
      "EarlyStopping counter: 97 out of 100\n",
      "EarlyStopping counter: 98 out of 100\n",
      "EarlyStopping counter: 99 out of 100\n",
      "EarlyStopping counter: 100 out of 100\n",
      "201\n",
      "EarlyStopping counter: 1 out of 100\n",
      "EarlyStopping counter: 2 out of 100\n",
      "EarlyStopping counter: 3 out of 100\n",
      "EarlyStopping counter: 4 out of 100\n",
      "EarlyStopping counter: 5 out of 100\n",
      "EarlyStopping counter: 6 out of 100\n",
      "EarlyStopping counter: 7 out of 100\n",
      "EarlyStopping counter: 8 out of 100\n",
      "EarlyStopping counter: 9 out of 100\n",
      "EarlyStopping counter: 10 out of 100\n",
      "EarlyStopping counter: 11 out of 100\n",
      "EarlyStopping counter: 12 out of 100\n",
      "EarlyStopping counter: 13 out of 100\n",
      "EarlyStopping counter: 14 out of 100\n",
      "EarlyStopping counter: 15 out of 100\n",
      "EarlyStopping counter: 16 out of 100\n",
      "EarlyStopping counter: 17 out of 100\n",
      "EarlyStopping counter: 18 out of 100\n",
      "EarlyStopping counter: 19 out of 100\n",
      "EarlyStopping counter: 20 out of 100\n",
      "EarlyStopping counter: 21 out of 100\n",
      "EarlyStopping counter: 22 out of 100\n",
      "EarlyStopping counter: 23 out of 100\n",
      "EarlyStopping counter: 24 out of 100\n",
      "EarlyStopping counter: 25 out of 100\n",
      "EarlyStopping counter: 26 out of 100\n",
      "EarlyStopping counter: 27 out of 100\n",
      "EarlyStopping counter: 28 out of 100\n",
      "EarlyStopping counter: 29 out of 100\n",
      "EarlyStopping counter: 30 out of 100\n",
      "EarlyStopping counter: 31 out of 100\n",
      "EarlyStopping counter: 32 out of 100\n",
      "EarlyStopping counter: 33 out of 100\n",
      "EarlyStopping counter: 34 out of 100\n",
      "EarlyStopping counter: 35 out of 100\n",
      "EarlyStopping counter: 36 out of 100\n",
      "EarlyStopping counter: 37 out of 100\n",
      "EarlyStopping counter: 38 out of 100\n",
      "EarlyStopping counter: 39 out of 100\n",
      "EarlyStopping counter: 40 out of 100\n",
      "EarlyStopping counter: 41 out of 100\n",
      "EarlyStopping counter: 42 out of 100\n",
      "EarlyStopping counter: 43 out of 100\n",
      "EarlyStopping counter: 44 out of 100\n",
      "EarlyStopping counter: 45 out of 100\n",
      "EarlyStopping counter: 46 out of 100\n",
      "EarlyStopping counter: 47 out of 100\n",
      "EarlyStopping counter: 48 out of 100\n",
      "EarlyStopping counter: 49 out of 100\n",
      "EarlyStopping counter: 50 out of 100\n",
      "EarlyStopping counter: 51 out of 100\n",
      "EarlyStopping counter: 52 out of 100\n",
      "EarlyStopping counter: 53 out of 100\n",
      "EarlyStopping counter: 54 out of 100\n",
      "EarlyStopping counter: 55 out of 100\n",
      "EarlyStopping counter: 56 out of 100\n",
      "EarlyStopping counter: 57 out of 100\n",
      "EarlyStopping counter: 58 out of 100\n",
      "EarlyStopping counter: 59 out of 100\n",
      "EarlyStopping counter: 60 out of 100\n",
      "EarlyStopping counter: 61 out of 100\n",
      "EarlyStopping counter: 62 out of 100\n",
      "EarlyStopping counter: 63 out of 100\n",
      "EarlyStopping counter: 64 out of 100\n",
      "EarlyStopping counter: 65 out of 100\n",
      "EarlyStopping counter: 66 out of 100\n",
      "EarlyStopping counter: 67 out of 100\n",
      "EarlyStopping counter: 68 out of 100\n",
      "EarlyStopping counter: 69 out of 100\n",
      "EarlyStopping counter: 70 out of 100\n",
      "EarlyStopping counter: 71 out of 100\n",
      "EarlyStopping counter: 72 out of 100\n",
      "EarlyStopping counter: 73 out of 100\n",
      "EarlyStopping counter: 74 out of 100\n",
      "EarlyStopping counter: 75 out of 100\n",
      "EarlyStopping counter: 76 out of 100\n",
      "EarlyStopping counter: 77 out of 100\n",
      "EarlyStopping counter: 78 out of 100\n",
      "EarlyStopping counter: 79 out of 100\n",
      "EarlyStopping counter: 80 out of 100\n",
      "EarlyStopping counter: 81 out of 100\n",
      "EarlyStopping counter: 82 out of 100\n",
      "EarlyStopping counter: 83 out of 100\n",
      "EarlyStopping counter: 84 out of 100\n",
      "EarlyStopping counter: 85 out of 100\n",
      "EarlyStopping counter: 86 out of 100\n",
      "EarlyStopping counter: 87 out of 100\n",
      "EarlyStopping counter: 88 out of 100\n",
      "EarlyStopping counter: 89 out of 100\n",
      "EarlyStopping counter: 90 out of 100\n",
      "EarlyStopping counter: 91 out of 100\n",
      "EarlyStopping counter: 92 out of 100\n",
      "EarlyStopping counter: 93 out of 100\n",
      "EarlyStopping counter: 94 out of 100\n",
      "EarlyStopping counter: 95 out of 100\n",
      "EarlyStopping counter: 96 out of 100\n",
      "EarlyStopping counter: 97 out of 100\n",
      "EarlyStopping counter: 98 out of 100\n",
      "EarlyStopping counter: 99 out of 100\n",
      "EarlyStopping counter: 100 out of 100\n",
      "301\n",
      "EarlyStopping counter: 1 out of 100\n",
      "EarlyStopping counter: 2 out of 100\n",
      "EarlyStopping counter: 3 out of 100\n",
      "EarlyStopping counter: 4 out of 100\n",
      "EarlyStopping counter: 5 out of 100\n",
      "EarlyStopping counter: 6 out of 100\n",
      "EarlyStopping counter: 7 out of 100\n",
      "EarlyStopping counter: 8 out of 100\n",
      "EarlyStopping counter: 9 out of 100\n",
      "EarlyStopping counter: 10 out of 100\n",
      "EarlyStopping counter: 11 out of 100\n",
      "EarlyStopping counter: 12 out of 100\n",
      "EarlyStopping counter: 13 out of 100\n",
      "EarlyStopping counter: 14 out of 100\n",
      "EarlyStopping counter: 15 out of 100\n",
      "EarlyStopping counter: 16 out of 100\n",
      "EarlyStopping counter: 17 out of 100\n",
      "EarlyStopping counter: 18 out of 100\n",
      "EarlyStopping counter: 19 out of 100\n",
      "EarlyStopping counter: 20 out of 100\n",
      "EarlyStopping counter: 21 out of 100\n",
      "EarlyStopping counter: 22 out of 100\n",
      "EarlyStopping counter: 23 out of 100\n",
      "EarlyStopping counter: 24 out of 100\n",
      "EarlyStopping counter: 25 out of 100\n",
      "EarlyStopping counter: 26 out of 100\n",
      "EarlyStopping counter: 27 out of 100\n",
      "EarlyStopping counter: 28 out of 100\n",
      "EarlyStopping counter: 29 out of 100\n",
      "EarlyStopping counter: 30 out of 100\n",
      "EarlyStopping counter: 31 out of 100\n",
      "EarlyStopping counter: 32 out of 100\n",
      "EarlyStopping counter: 33 out of 100\n",
      "EarlyStopping counter: 34 out of 100\n",
      "EarlyStopping counter: 35 out of 100\n",
      "EarlyStopping counter: 36 out of 100\n",
      "EarlyStopping counter: 37 out of 100\n",
      "EarlyStopping counter: 38 out of 100\n",
      "EarlyStopping counter: 39 out of 100\n",
      "EarlyStopping counter: 40 out of 100\n",
      "EarlyStopping counter: 41 out of 100\n",
      "EarlyStopping counter: 42 out of 100\n",
      "EarlyStopping counter: 43 out of 100\n",
      "EarlyStopping counter: 44 out of 100\n",
      "EarlyStopping counter: 45 out of 100\n",
      "EarlyStopping counter: 46 out of 100\n",
      "EarlyStopping counter: 47 out of 100\n",
      "EarlyStopping counter: 48 out of 100\n",
      "EarlyStopping counter: 49 out of 100\n",
      "EarlyStopping counter: 50 out of 100\n",
      "EarlyStopping counter: 51 out of 100\n",
      "EarlyStopping counter: 52 out of 100\n",
      "EarlyStopping counter: 53 out of 100\n",
      "EarlyStopping counter: 54 out of 100\n",
      "EarlyStopping counter: 55 out of 100\n",
      "EarlyStopping counter: 56 out of 100\n",
      "EarlyStopping counter: 57 out of 100\n",
      "EarlyStopping counter: 58 out of 100\n",
      "EarlyStopping counter: 59 out of 100\n",
      "EarlyStopping counter: 60 out of 100\n",
      "EarlyStopping counter: 61 out of 100\n",
      "EarlyStopping counter: 62 out of 100\n",
      "EarlyStopping counter: 63 out of 100\n",
      "EarlyStopping counter: 64 out of 100\n",
      "EarlyStopping counter: 65 out of 100\n",
      "EarlyStopping counter: 66 out of 100\n",
      "EarlyStopping counter: 67 out of 100\n",
      "EarlyStopping counter: 68 out of 100\n",
      "EarlyStopping counter: 69 out of 100\n",
      "EarlyStopping counter: 70 out of 100\n",
      "EarlyStopping counter: 71 out of 100\n",
      "EarlyStopping counter: 72 out of 100\n",
      "EarlyStopping counter: 73 out of 100\n",
      "EarlyStopping counter: 74 out of 100\n",
      "EarlyStopping counter: 75 out of 100\n",
      "EarlyStopping counter: 76 out of 100\n",
      "EarlyStopping counter: 77 out of 100\n",
      "EarlyStopping counter: 78 out of 100\n",
      "EarlyStopping counter: 79 out of 100\n",
      "EarlyStopping counter: 80 out of 100\n",
      "EarlyStopping counter: 81 out of 100\n",
      "EarlyStopping counter: 82 out of 100\n",
      "EarlyStopping counter: 83 out of 100\n",
      "EarlyStopping counter: 84 out of 100\n",
      "EarlyStopping counter: 85 out of 100\n",
      "EarlyStopping counter: 86 out of 100\n",
      "EarlyStopping counter: 87 out of 100\n",
      "EarlyStopping counter: 88 out of 100\n",
      "EarlyStopping counter: 89 out of 100\n",
      "EarlyStopping counter: 90 out of 100\n",
      "EarlyStopping counter: 91 out of 100\n",
      "EarlyStopping counter: 92 out of 100\n",
      "EarlyStopping counter: 93 out of 100\n",
      "EarlyStopping counter: 94 out of 100\n",
      "EarlyStopping counter: 95 out of 100\n",
      "EarlyStopping counter: 96 out of 100\n",
      "EarlyStopping counter: 97 out of 100\n",
      "EarlyStopping counter: 98 out of 100\n",
      "EarlyStopping counter: 99 out of 100\n",
      "EarlyStopping counter: 100 out of 100\n",
      "401\n",
      "EarlyStopping counter: 1 out of 100\n",
      "EarlyStopping counter: 2 out of 100\n",
      "EarlyStopping counter: 3 out of 100\n",
      "EarlyStopping counter: 4 out of 100\n",
      "EarlyStopping counter: 5 out of 100\n",
      "EarlyStopping counter: 6 out of 100\n",
      "EarlyStopping counter: 7 out of 100\n",
      "EarlyStopping counter: 8 out of 100\n",
      "EarlyStopping counter: 9 out of 100\n",
      "EarlyStopping counter: 10 out of 100\n",
      "EarlyStopping counter: 11 out of 100\n",
      "EarlyStopping counter: 12 out of 100\n",
      "EarlyStopping counter: 13 out of 100\n",
      "EarlyStopping counter: 14 out of 100\n",
      "EarlyStopping counter: 15 out of 100\n",
      "EarlyStopping counter: 16 out of 100\n",
      "EarlyStopping counter: 17 out of 100\n",
      "EarlyStopping counter: 18 out of 100\n",
      "EarlyStopping counter: 19 out of 100\n",
      "EarlyStopping counter: 20 out of 100\n",
      "EarlyStopping counter: 21 out of 100\n",
      "EarlyStopping counter: 22 out of 100\n",
      "EarlyStopping counter: 23 out of 100\n",
      "EarlyStopping counter: 24 out of 100\n",
      "EarlyStopping counter: 25 out of 100\n",
      "EarlyStopping counter: 26 out of 100\n",
      "EarlyStopping counter: 27 out of 100\n",
      "EarlyStopping counter: 28 out of 100\n",
      "EarlyStopping counter: 29 out of 100\n",
      "EarlyStopping counter: 30 out of 100\n",
      "EarlyStopping counter: 31 out of 100\n",
      "EarlyStopping counter: 32 out of 100\n",
      "EarlyStopping counter: 33 out of 100\n",
      "EarlyStopping counter: 34 out of 100\n",
      "EarlyStopping counter: 35 out of 100\n",
      "EarlyStopping counter: 36 out of 100\n",
      "EarlyStopping counter: 37 out of 100\n",
      "EarlyStopping counter: 38 out of 100\n",
      "EarlyStopping counter: 39 out of 100\n",
      "EarlyStopping counter: 40 out of 100\n",
      "EarlyStopping counter: 41 out of 100\n",
      "EarlyStopping counter: 42 out of 100\n",
      "EarlyStopping counter: 43 out of 100\n",
      "EarlyStopping counter: 44 out of 100\n",
      "EarlyStopping counter: 45 out of 100\n",
      "EarlyStopping counter: 46 out of 100\n",
      "EarlyStopping counter: 47 out of 100\n",
      "EarlyStopping counter: 48 out of 100\n",
      "EarlyStopping counter: 49 out of 100\n",
      "EarlyStopping counter: 50 out of 100\n",
      "EarlyStopping counter: 51 out of 100\n",
      "EarlyStopping counter: 52 out of 100\n",
      "EarlyStopping counter: 53 out of 100\n",
      "EarlyStopping counter: 54 out of 100\n",
      "EarlyStopping counter: 55 out of 100\n",
      "EarlyStopping counter: 56 out of 100\n",
      "EarlyStopping counter: 57 out of 100\n",
      "EarlyStopping counter: 58 out of 100\n",
      "EarlyStopping counter: 59 out of 100\n",
      "EarlyStopping counter: 60 out of 100\n",
      "EarlyStopping counter: 61 out of 100\n",
      "EarlyStopping counter: 62 out of 100\n",
      "EarlyStopping counter: 63 out of 100\n",
      "EarlyStopping counter: 64 out of 100\n",
      "EarlyStopping counter: 65 out of 100\n",
      "EarlyStopping counter: 66 out of 100\n",
      "EarlyStopping counter: 67 out of 100\n",
      "EarlyStopping counter: 68 out of 100\n",
      "EarlyStopping counter: 69 out of 100\n",
      "EarlyStopping counter: 70 out of 100\n",
      "EarlyStopping counter: 71 out of 100\n",
      "EarlyStopping counter: 72 out of 100\n",
      "EarlyStopping counter: 73 out of 100\n",
      "EarlyStopping counter: 74 out of 100\n",
      "EarlyStopping counter: 75 out of 100\n",
      "EarlyStopping counter: 76 out of 100\n",
      "EarlyStopping counter: 77 out of 100\n",
      "EarlyStopping counter: 78 out of 100\n",
      "EarlyStopping counter: 79 out of 100\n",
      "EarlyStopping counter: 80 out of 100\n",
      "EarlyStopping counter: 81 out of 100\n",
      "EarlyStopping counter: 82 out of 100\n",
      "EarlyStopping counter: 83 out of 100\n",
      "EarlyStopping counter: 84 out of 100\n",
      "EarlyStopping counter: 85 out of 100\n",
      "EarlyStopping counter: 86 out of 100\n",
      "EarlyStopping counter: 87 out of 100\n",
      "EarlyStopping counter: 88 out of 100\n",
      "EarlyStopping counter: 89 out of 100\n",
      "EarlyStopping counter: 90 out of 100\n",
      "EarlyStopping counter: 91 out of 100\n",
      "EarlyStopping counter: 92 out of 100\n",
      "EarlyStopping counter: 93 out of 100\n",
      "EarlyStopping counter: 94 out of 100\n",
      "EarlyStopping counter: 95 out of 100\n",
      "EarlyStopping counter: 96 out of 100\n",
      "EarlyStopping counter: 97 out of 100\n",
      "EarlyStopping counter: 98 out of 100\n",
      "EarlyStopping counter: 99 out of 100\n",
      "EarlyStopping counter: 100 out of 100\n",
      "501\n",
      "EarlyStopping counter: 1 out of 100\n",
      "EarlyStopping counter: 2 out of 100\n",
      "EarlyStopping counter: 3 out of 100\n",
      "EarlyStopping counter: 4 out of 100\n",
      "EarlyStopping counter: 5 out of 100\n",
      "EarlyStopping counter: 6 out of 100\n",
      "EarlyStopping counter: 7 out of 100\n",
      "EarlyStopping counter: 8 out of 100\n"
     ]
    }
   ],
   "source": [
    "es1 = EarlyStopping(patience=100)\n",
    "es2 = EarlyStopping(patience=100)\n",
    "es3 = EarlyStopping(patience=100)\n",
    "for i, _ in enumerate(res['dp']):\n",
    "#     es1(res['abs_dp'][i])\n",
    "#     es2(res['abs_eop'][i])\n",
    "    es3(res['epoch_loss'][i])\n",
    "    \n",
    "    if  es3.early_stop:\n",
    "        es3.counter=0\n",
    "        es3.early_stop = False\n",
    "        print(i)\n",
    "#         break"
   ]
  },
  {
   "cell_type": "code",
   "execution_count": 43,
   "metadata": {},
   "outputs": [
    {
     "data": {
      "text/plain": [
       "overall_acc                0.793812\n",
       "dp                        -0.093946\n",
       "eop                       -0.485059\n",
       "average_odds_difference    0.753600\n",
       "grp_0_acc                  0.854492\n",
       "grp_1_acc                  0.764626\n",
       "epoch_loss                 0.561613\n",
       "abs_dp                     0.093946\n",
       "abs_eop                    0.485059\n",
       "abs_aod                    0.753600\n",
       "Name: 201, dtype: float64"
      ]
     },
     "execution_count": 43,
     "metadata": {},
     "output_type": "execute_result"
    }
   ],
   "source": [
    "res.iloc[201,:]"
   ]
  },
  {
   "cell_type": "code",
   "execution_count": 72,
   "metadata": {},
   "outputs": [
    {
     "data": {
      "text/plain": [
       "<AxesSubplot:>"
      ]
     },
     "execution_count": 72,
     "metadata": {},
     "output_type": "execute_result"
    },
    {
     "data": {
      "image/png": "[encoded data removed]",
      "text/plain": [
       "<Figure size 640x480 with 1 Axes>"
      ]
     },
     "metadata": {},
     "output_type": "display_data"
    }
   ],
   "source": [
    "res['abs_dp'] = abs(res['dp'])\n",
    "res['abs_eop'] = abs(res['eop'])\n",
    "res['abs_aod'] = abs(res['average_odds_difference'])\n",
    "res[['abs_dp', 'abs_eop', 'epoch_loss']].iloc[:, :].plot()"
   ]
  },
  {
   "cell_type": "code",
   "execution_count": 8,
   "metadata": {},
   "outputs": [
    {
     "data": {
      "text/plain": [
       "<AxesSubplot:>"
      ]
     },
     "execution_count": 8,
     "metadata": {},
     "output_type": "execute_result"
    },
    {
     "data": {
      "image/png": "[encoded data removed]",
      "text/plain": [
       "<Figure size 640x480 with 1 Axes>"
      ]
     },
     "metadata": {},
     "output_type": "display_data"
    }
   ],
   "source": [
    "val_res = pd.DataFrame(val_info)\n",
    "epoch_loss_list_val = val_list[::]\n",
    "val_res['epoch_loss'] = epoch_loss_list_val\n",
    "# val_res.to_csv('val_info.csv')"
   ]
  },
  {
   "cell_type": "code",
   "execution_count": 39,
   "metadata": {},
   "outputs": [
    {
     "data": {
      "text/plain": [
       "<AxesSubplot:>"
      ]
     },
     "execution_count": 39,
     "metadata": {},
     "output_type": "execute_result"
    },
    {
     "data": {
      "image/png": "[encoded data removed]",
      "text/plain": [
       "<Figure size 640x480 with 1 Axes>"
      ]
     },
     "metadata": {},
     "output_type": "display_data"
    }
   ],
   "source": [
    "val_res[['dp', 'eop', 'average_odds_difference', 'epoch_loss']].iloc[40:, :].plot()"
   ]
  },
  {
   "cell_type": "code",
   "execution_count": 9,
   "metadata": {},
   "outputs": [
    {
     "data": {
      "text/html": [
       "<div>\n",
       "<style scoped>\n",
       "    .dataframe tbody tr th:only-of-type {\n",
       "        vertical-align: middle;\n",
       "    }\n",
       "\n",
       "    .dataframe tbody tr th {\n",
       "        vertical-align: top;\n",
       "    }\n",
       "\n",
       "    .dataframe thead th {\n",
       "        text-align: right;\n",
       "    }\n",
       "</style>\n",
       "<table border=\"1\" class=\"dataframe\">\n",
       "  <thead>\n",
       "    <tr style=\"text-align: right;\">\n",
       "      <th></th>\n",
       "      <th>overall_acc</th>\n",
       "      <th>dp</th>\n",
       "      <th>eop</th>\n",
       "      <th>average_odds_difference</th>\n",
       "      <th>grp_0_acc</th>\n",
       "      <th>grp_1_acc</th>\n",
       "      <th>epoch_loss</th>\n",
       "    </tr>\n",
       "  </thead>\n",
       "  <tbody>\n",
       "    <tr>\n",
       "      <th>count</th>\n",
       "      <td>510.000000</td>\n",
       "      <td>510.000000</td>\n",
       "      <td>510.000000</td>\n",
       "      <td>510.000000</td>\n",
       "      <td>510.000000</td>\n",
       "      <td>510.000000</td>\n",
       "      <td>510.000000</td>\n",
       "    </tr>\n",
       "    <tr>\n",
       "      <th>mean</th>\n",
       "      <td>0.790728</td>\n",
       "      <td>0.043340</td>\n",
       "      <td>-0.190372</td>\n",
       "      <td>0.383101</td>\n",
       "      <td>0.889768</td>\n",
       "      <td>0.743983</td>\n",
       "      <td>0.756673</td>\n",
       "    </tr>\n",
       "    <tr>\n",
       "      <th>std</th>\n",
       "      <td>0.039763</td>\n",
       "      <td>0.166814</td>\n",
       "      <td>0.344989</td>\n",
       "      <td>0.320623</td>\n",
       "      <td>0.049945</td>\n",
       "      <td>0.045732</td>\n",
       "      <td>0.497900</td>\n",
       "    </tr>\n",
       "    <tr>\n",
       "      <th>min</th>\n",
       "      <td>0.583231</td>\n",
       "      <td>-0.485795</td>\n",
       "      <td>-0.749562</td>\n",
       "      <td>0.030370</td>\n",
       "      <td>0.458812</td>\n",
       "      <td>0.641953</td>\n",
       "      <td>0.430006</td>\n",
       "    </tr>\n",
       "    <tr>\n",
       "      <th>25%</th>\n",
       "      <td>0.766316</td>\n",
       "      <td>-0.065977</td>\n",
       "      <td>-0.508257</td>\n",
       "      <td>0.104064</td>\n",
       "      <td>0.894157</td>\n",
       "      <td>0.702306</td>\n",
       "      <td>0.521778</td>\n",
       "    </tr>\n",
       "    <tr>\n",
       "      <th>50%</th>\n",
       "      <td>0.792230</td>\n",
       "      <td>-0.013443</td>\n",
       "      <td>-0.300710</td>\n",
       "      <td>0.372959</td>\n",
       "      <td>0.907088</td>\n",
       "      <td>0.741524</td>\n",
       "      <td>0.599918</td>\n",
       "    </tr>\n",
       "    <tr>\n",
       "      <th>75%</th>\n",
       "      <td>0.829853</td>\n",
       "      <td>0.172185</td>\n",
       "      <td>0.079588</td>\n",
       "      <td>0.450585</td>\n",
       "      <td>0.911877</td>\n",
       "      <td>0.792948</td>\n",
       "      <td>0.765636</td>\n",
       "    </tr>\n",
       "    <tr>\n",
       "      <th>max</th>\n",
       "      <td>0.844134</td>\n",
       "      <td>0.544839</td>\n",
       "      <td>0.752942</td>\n",
       "      <td>2.524951</td>\n",
       "      <td>0.919540</td>\n",
       "      <td>0.810127</td>\n",
       "      <td>6.648506</td>\n",
       "    </tr>\n",
       "  </tbody>\n",
       "</table>\n",
       "</div>"
      ],
      "text/plain": [
       "       overall_acc          dp         eop  average_odds_difference  \\\n",
       "count   510.000000  510.000000  510.000000               510.000000   \n",
       "mean      0.790728    0.043340   -0.190372                 0.383101   \n",
       "std       0.039763    0.166814    0.344989                 0.320623   \n",
       "min       0.583231   -0.485795   -0.749562                 0.030370   \n",
       "25%       0.766316   -0.065977   -0.508257                 0.104064   \n",
       "50%       0.792230   -0.013443   -0.300710                 0.372959   \n",
       "75%       0.829853    0.172185    0.079588                 0.450585   \n",
       "max       0.844134    0.544839    0.752942                 2.524951   \n",
       "\n",
       "        grp_0_acc   grp_1_acc  epoch_loss  \n",
       "count  510.000000  510.000000  510.000000  \n",
       "mean     0.889768    0.743983    0.756673  \n",
       "std      0.049945    0.045732    0.497900  \n",
       "min      0.458812    0.641953    0.430006  \n",
       "25%      0.894157    0.702306    0.521778  \n",
       "50%      0.907088    0.741524    0.599918  \n",
       "75%      0.911877    0.792948    0.765636  \n",
       "max      0.919540    0.810127    6.648506  "
      ]
     },
     "execution_count": 9,
     "metadata": {},
     "output_type": "execute_result"
    }
   ],
   "source": [
    "val_res.describe()"
   ]
  },
  {
   "cell_type": "code",
   "execution_count": 37,
   "metadata": {},
   "outputs": [
    {
     "data": {
      "text/html": [
       "<div>\n",
       "<style scoped>\n",
       "    .dataframe tbody tr th:only-of-type {\n",
       "        vertical-align: middle;\n",
       "    }\n",
       "\n",
       "    .dataframe tbody tr th {\n",
       "        vertical-align: top;\n",
       "    }\n",
       "\n",
       "    .dataframe thead th {\n",
       "        text-align: right;\n",
       "    }\n",
       "</style>\n",
       "<table border=\"1\" class=\"dataframe\">\n",
       "  <thead>\n",
       "    <tr style=\"text-align: right;\">\n",
       "      <th></th>\n",
       "      <th>overall_acc</th>\n",
       "      <th>dp</th>\n",
       "      <th>eop</th>\n",
       "      <th>average_odds_difference</th>\n",
       "      <th>grp_0_acc</th>\n",
       "      <th>grp_1_acc</th>\n",
       "      <th>epoch_loss</th>\n",
       "    </tr>\n",
       "  </thead>\n",
       "  <tbody>\n",
       "    <tr>\n",
       "      <th>42</th>\n",
       "      <td>0.8211</td>\n",
       "      <td>0.099387</td>\n",
       "      <td>-0.019412</td>\n",
       "      <td>0.070114</td>\n",
       "      <td>0.908525</td>\n",
       "      <td>0.779837</td>\n",
       "      <td>1.236583</td>\n",
       "    </tr>\n",
       "  </tbody>\n",
       "</table>\n",
       "</div>"
      ],
      "text/plain": [
       "    overall_acc        dp       eop  average_odds_difference  grp_0_acc  \\\n",
       "42       0.8211  0.099387 -0.019412                 0.070114   0.908525   \n",
       "\n",
       "    grp_1_acc  epoch_loss  \n",
       "42   0.779837    1.236583  "
      ]
     },
     "execution_count": 37,
     "metadata": {},
     "output_type": "execute_result"
    }
   ],
   "source": [
    "val_res[(abs(val_res['dp'])< 0.1) & (abs(val_res['eop']) < 0.1) & (abs(val_res['average_odds_difference']) < 0.1)]"
   ]
  },
  {
   "cell_type": "code",
   "execution_count": 10,
   "metadata": {},
   "outputs": [],
   "source": [
    "new_df = pd.concat([res[['dp', 'eop', 'average_odds_difference', 'epoch_loss']], val_res[['dp', 'eop', 'average_odds_difference', 'epoch_loss']]], axis=1)"
   ]
  },
  {
   "cell_type": "code",
   "execution_count": 11,
   "metadata": {},
   "outputs": [],
   "source": [
    "new_df.columns = ['dp', 'eop', 'aod', 'epoch_loss', 'vdp', 'veop', 'vaod', 'vepoch_loss']"
   ]
  },
  {
   "cell_type": "code",
   "execution_count": 12,
   "metadata": {},
   "outputs": [
    {
     "data": {
      "text/plain": [
       "<AxesSubplot:>"
      ]
     },
     "execution_count": 12,
     "metadata": {},
     "output_type": "execute_result"
    },
    {
     "data": {
      "image/png": "[encoded data removed]",
      "text/plain": [
       "<Figure size 640x480 with 1 Axes>"
      ]
     },
     "metadata": {},
     "output_type": "display_data"
    }
   ],
   "source": [
    "new_df.iloc[100:400,:].plot(legend=False)"
   ]
  },
  {
   "cell_type": "code",
   "execution_count": 21,
   "metadata": {},
   "outputs": [],
   "source": [
    "from utils import EarlyStopping"
   ]
  },
  {
   "cell_type": "code",
   "execution_count": 13,
   "metadata": {},
   "outputs": [],
   "source": [
    "import pandas as pd\n",
    "res_no_debias = pd.DataFrame(train_info_no_debias)\n",
    "epoch_loss_list = loss_list_no_debias[::]\n",
    "res_no_debias['epoch_loss'] = epoch_loss_list\n",
    "res_no_debias.to_csv('train_info_no_debias.csv')"
   ]
  },
  {
   "cell_type": "code",
   "execution_count": 14,
   "metadata": {},
   "outputs": [
    {
     "data": {
      "text/html": [
       "<div>\n",
       "<style scoped>\n",
       "    .dataframe tbody tr th:only-of-type {\n",
       "        vertical-align: middle;\n",
       "    }\n",
       "\n",
       "    .dataframe tbody tr th {\n",
       "        vertical-align: top;\n",
       "    }\n",
       "\n",
       "    .dataframe thead th {\n",
       "        text-align: right;\n",
       "    }\n",
       "</style>\n",
       "<table border=\"1\" class=\"dataframe\">\n",
       "  <thead>\n",
       "    <tr style=\"text-align: right;\">\n",
       "      <th></th>\n",
       "      <th>overall_acc</th>\n",
       "      <th>dp</th>\n",
       "      <th>eop</th>\n",
       "      <th>average_odds_difference</th>\n",
       "      <th>grp_0_acc</th>\n",
       "      <th>grp_1_acc</th>\n",
       "      <th>epoch_loss</th>\n",
       "    </tr>\n",
       "  </thead>\n",
       "  <tbody>\n",
       "    <tr>\n",
       "      <th>count</th>\n",
       "      <td>510.000000</td>\n",
       "      <td>510.000000</td>\n",
       "      <td>510.000000</td>\n",
       "      <td>510.000000</td>\n",
       "      <td>510.000000</td>\n",
       "      <td>510.000000</td>\n",
       "      <td>510.000000</td>\n",
       "    </tr>\n",
       "    <tr>\n",
       "      <th>mean</th>\n",
       "      <td>0.892458</td>\n",
       "      <td>0.171787</td>\n",
       "      <td>-0.008434</td>\n",
       "      <td>0.028393</td>\n",
       "      <td>0.953840</td>\n",
       "      <td>0.862934</td>\n",
       "      <td>0.806908</td>\n",
       "    </tr>\n",
       "    <tr>\n",
       "      <th>std</th>\n",
       "      <td>0.019873</td>\n",
       "      <td>0.016752</td>\n",
       "      <td>0.039983</td>\n",
       "      <td>0.023408</td>\n",
       "      <td>0.013704</td>\n",
       "      <td>0.023067</td>\n",
       "      <td>1.096528</td>\n",
       "    </tr>\n",
       "    <tr>\n",
       "      <th>min</th>\n",
       "      <td>0.748743</td>\n",
       "      <td>0.093339</td>\n",
       "      <td>-0.078049</td>\n",
       "      <td>0.002397</td>\n",
       "      <td>0.806619</td>\n",
       "      <td>0.720905</td>\n",
       "      <td>0.195237</td>\n",
       "    </tr>\n",
       "    <tr>\n",
       "      <th>25%</th>\n",
       "      <td>0.883009</td>\n",
       "      <td>0.167353</td>\n",
       "      <td>-0.027072</td>\n",
       "      <td>0.021525</td>\n",
       "      <td>0.949527</td>\n",
       "      <td>0.851129</td>\n",
       "      <td>0.286974</td>\n",
       "    </tr>\n",
       "    <tr>\n",
       "      <th>50%</th>\n",
       "      <td>0.901109</td>\n",
       "      <td>0.176258</td>\n",
       "      <td>-0.017891</td>\n",
       "      <td>0.025068</td>\n",
       "      <td>0.959102</td>\n",
       "      <td>0.873216</td>\n",
       "      <td>0.336757</td>\n",
       "    </tr>\n",
       "    <tr>\n",
       "      <th>75%</th>\n",
       "      <td>0.906551</td>\n",
       "      <td>0.180853</td>\n",
       "      <td>-0.000845</td>\n",
       "      <td>0.028236</td>\n",
       "      <td>0.962264</td>\n",
       "      <td>0.879854</td>\n",
       "      <td>0.705450</td>\n",
       "    </tr>\n",
       "    <tr>\n",
       "      <th>max</th>\n",
       "      <td>0.911129</td>\n",
       "      <td>0.236918</td>\n",
       "      <td>0.393902</td>\n",
       "      <td>0.410845</td>\n",
       "      <td>0.965012</td>\n",
       "      <td>0.885667</td>\n",
       "      <td>11.095547</td>\n",
       "    </tr>\n",
       "  </tbody>\n",
       "</table>\n",
       "</div>"
      ],
      "text/plain": [
       "       overall_acc          dp         eop  average_odds_difference  \\\n",
       "count   510.000000  510.000000  510.000000               510.000000   \n",
       "mean      0.892458    0.171787   -0.008434                 0.028393   \n",
       "std       0.019873    0.016752    0.039983                 0.023408   \n",
       "min       0.748743    0.093339   -0.078049                 0.002397   \n",
       "25%       0.883009    0.167353   -0.027072                 0.021525   \n",
       "50%       0.901109    0.176258   -0.017891                 0.025068   \n",
       "75%       0.906551    0.180853   -0.000845                 0.028236   \n",
       "max       0.911129    0.236918    0.393902                 0.410845   \n",
       "\n",
       "        grp_0_acc   grp_1_acc  epoch_loss  \n",
       "count  510.000000  510.000000  510.000000  \n",
       "mean     0.953840    0.862934    0.806908  \n",
       "std      0.013704    0.023067    1.096528  \n",
       "min      0.806619    0.720905    0.195237  \n",
       "25%      0.949527    0.851129    0.286974  \n",
       "50%      0.959102    0.873216    0.336757  \n",
       "75%      0.962264    0.879854    0.705450  \n",
       "max      0.965012    0.885667   11.095547  "
      ]
     },
     "execution_count": 14,
     "metadata": {},
     "output_type": "execute_result"
    }
   ],
   "source": [
    "res_no_debias.describe()"
   ]
  },
  {
   "cell_type": "code",
   "execution_count": 15,
   "metadata": {},
   "outputs": [
    {
     "data": {
      "text/html": [
       "<div>\n",
       "<style scoped>\n",
       "    .dataframe tbody tr th:only-of-type {\n",
       "        vertical-align: middle;\n",
       "    }\n",
       "\n",
       "    .dataframe tbody tr th {\n",
       "        vertical-align: top;\n",
       "    }\n",
       "\n",
       "    .dataframe thead th {\n",
       "        text-align: right;\n",
       "    }\n",
       "</style>\n",
       "<table border=\"1\" class=\"dataframe\">\n",
       "  <thead>\n",
       "    <tr style=\"text-align: right;\">\n",
       "      <th></th>\n",
       "      <th>overall_acc</th>\n",
       "      <th>dp</th>\n",
       "      <th>eop</th>\n",
       "      <th>average_odds_difference</th>\n",
       "      <th>grp_0_acc</th>\n",
       "      <th>grp_1_acc</th>\n",
       "      <th>epoch_loss</th>\n",
       "    </tr>\n",
       "  </thead>\n",
       "  <tbody>\n",
       "    <tr>\n",
       "      <th>40</th>\n",
       "      <td>0.840493</td>\n",
       "      <td>0.093339</td>\n",
       "      <td>-0.051243</td>\n",
       "      <td>0.046596</td>\n",
       "      <td>0.928251</td>\n",
       "      <td>0.798283</td>\n",
       "      <td>2.55971</td>\n",
       "    </tr>\n",
       "  </tbody>\n",
       "</table>\n",
       "</div>"
      ],
      "text/plain": [
       "    overall_acc        dp       eop  average_odds_difference  grp_0_acc  \\\n",
       "40     0.840493  0.093339 -0.051243                 0.046596   0.928251   \n",
       "\n",
       "    grp_1_acc  epoch_loss  \n",
       "40   0.798283     2.55971  "
      ]
     },
     "execution_count": 15,
     "metadata": {},
     "output_type": "execute_result"
    }
   ],
   "source": [
    "res_no_debias[(abs(res_no_debias['dp'])< 0.1) & (abs(res_no_debias['eop']) < 0.2) & (abs(res_no_debias['average_odds_difference']) < 0.2)]"
   ]
  },
  {
   "cell_type": "code",
   "execution_count": 18,
   "metadata": {},
   "outputs": [
    {
     "data": {
      "text/plain": [
       "<AxesSubplot:>"
      ]
     },
     "execution_count": 18,
     "metadata": {},
     "output_type": "execute_result"
    },
    {
     "data": {
      "image/png": "[encoded data removed]",
      "text/plain": [
       "<Figure size 640x480 with 1 Axes>"
      ]
     },
     "metadata": {},
     "output_type": "display_data"
    }
   ],
   "source": [
    "val_res_no_debias = pd.DataFrame(val_info_no_debias)\n",
    "epoch_loss_list_val = val_list_no_debias[::]\n",
    "val_res_no_debias['epoch_loss'] = epoch_loss_list_val\n",
    "val_res.to_csv('val_info_no_debias.csv')\n",
    "val_res_no_debias[['dp', 'eop', 'average_odds_difference', 'epoch_loss']].iloc[100:, :].plot()"
   ]
  },
  {
   "cell_type": "code",
   "execution_count": 19,
   "metadata": {},
   "outputs": [
    {
     "data": {
      "text/html": [
       "<div>\n",
       "<style scoped>\n",
       "    .dataframe tbody tr th:only-of-type {\n",
       "        vertical-align: middle;\n",
       "    }\n",
       "\n",
       "    .dataframe tbody tr th {\n",
       "        vertical-align: top;\n",
       "    }\n",
       "\n",
       "    .dataframe thead th {\n",
       "        text-align: right;\n",
       "    }\n",
       "</style>\n",
       "<table border=\"1\" class=\"dataframe\">\n",
       "  <thead>\n",
       "    <tr style=\"text-align: right;\">\n",
       "      <th></th>\n",
       "      <th>overall_acc</th>\n",
       "      <th>dp</th>\n",
       "      <th>eop</th>\n",
       "      <th>average_odds_difference</th>\n",
       "      <th>grp_0_acc</th>\n",
       "      <th>grp_1_acc</th>\n",
       "      <th>epoch_loss</th>\n",
       "    </tr>\n",
       "  </thead>\n",
       "  <tbody>\n",
       "    <tr>\n",
       "      <th>count</th>\n",
       "      <td>510.000000</td>\n",
       "      <td>510.000000</td>\n",
       "      <td>510.000000</td>\n",
       "      <td>510.000000</td>\n",
       "      <td>510.000000</td>\n",
       "      <td>510.000000</td>\n",
       "      <td>510.000000</td>\n",
       "    </tr>\n",
       "    <tr>\n",
       "      <th>mean</th>\n",
       "      <td>0.835197</td>\n",
       "      <td>0.180475</td>\n",
       "      <td>0.077992</td>\n",
       "      <td>0.067549</td>\n",
       "      <td>0.911845</td>\n",
       "      <td>0.799021</td>\n",
       "      <td>0.631714</td>\n",
       "    </tr>\n",
       "    <tr>\n",
       "      <th>std</th>\n",
       "      <td>0.007334</td>\n",
       "      <td>0.017008</td>\n",
       "      <td>0.033451</td>\n",
       "      <td>0.021166</td>\n",
       "      <td>0.005932</td>\n",
       "      <td>0.008469</td>\n",
       "      <td>0.517292</td>\n",
       "    </tr>\n",
       "    <tr>\n",
       "      <th>min</th>\n",
       "      <td>0.743090</td>\n",
       "      <td>0.101460</td>\n",
       "      <td>-0.021817</td>\n",
       "      <td>0.040543</td>\n",
       "      <td>0.809866</td>\n",
       "      <td>0.711573</td>\n",
       "      <td>0.387142</td>\n",
       "    </tr>\n",
       "    <tr>\n",
       "      <th>25%</th>\n",
       "      <td>0.833999</td>\n",
       "      <td>0.175881</td>\n",
       "      <td>0.064947</td>\n",
       "      <td>0.060132</td>\n",
       "      <td>0.911398</td>\n",
       "      <td>0.797242</td>\n",
       "      <td>0.391945</td>\n",
       "    </tr>\n",
       "    <tr>\n",
       "      <th>50%</th>\n",
       "      <td>0.837300</td>\n",
       "      <td>0.183707</td>\n",
       "      <td>0.077847</td>\n",
       "      <td>0.067222</td>\n",
       "      <td>0.912356</td>\n",
       "      <td>0.801537</td>\n",
       "      <td>0.418724</td>\n",
       "    </tr>\n",
       "    <tr>\n",
       "      <th>75%</th>\n",
       "      <td>0.838874</td>\n",
       "      <td>0.188649</td>\n",
       "      <td>0.090747</td>\n",
       "      <td>0.071981</td>\n",
       "      <td>0.913793</td>\n",
       "      <td>0.803797</td>\n",
       "      <td>0.627771</td>\n",
       "    </tr>\n",
       "    <tr>\n",
       "      <th>max</th>\n",
       "      <td>0.844287</td>\n",
       "      <td>0.259828</td>\n",
       "      <td>0.418073</td>\n",
       "      <td>0.369683</td>\n",
       "      <td>0.919061</td>\n",
       "      <td>0.809901</td>\n",
       "      <td>6.446000</td>\n",
       "    </tr>\n",
       "  </tbody>\n",
       "</table>\n",
       "</div>"
      ],
      "text/plain": [
       "       overall_acc          dp         eop  average_odds_difference  \\\n",
       "count   510.000000  510.000000  510.000000               510.000000   \n",
       "mean      0.835197    0.180475    0.077992                 0.067549   \n",
       "std       0.007334    0.017008    0.033451                 0.021166   \n",
       "min       0.743090    0.101460   -0.021817                 0.040543   \n",
       "25%       0.833999    0.175881    0.064947                 0.060132   \n",
       "50%       0.837300    0.183707    0.077847                 0.067222   \n",
       "75%       0.838874    0.188649    0.090747                 0.071981   \n",
       "max       0.844287    0.259828    0.418073                 0.369683   \n",
       "\n",
       "        grp_0_acc   grp_1_acc  epoch_loss  \n",
       "count  510.000000  510.000000  510.000000  \n",
       "mean     0.911845    0.799021    0.631714  \n",
       "std      0.005932    0.008469    0.517292  \n",
       "min      0.809866    0.711573    0.387142  \n",
       "25%      0.911398    0.797242    0.391945  \n",
       "50%      0.912356    0.801537    0.418724  \n",
       "75%      0.913793    0.803797    0.627771  \n",
       "max      0.919061    0.809901    6.446000  "
      ]
     },
     "execution_count": 19,
     "metadata": {},
     "output_type": "execute_result"
    }
   ],
   "source": [
    "val_res_no_debias.describe()"
   ]
  },
  {
   "cell_type": "code",
   "execution_count": 23,
   "metadata": {},
   "outputs": [
    {
     "name": "stdout",
     "output_type": "stream",
     "text": [
      "EarlyStopping counter: 1 out of 100\n",
      "EarlyStopping counter: 1 out of 100\n",
      "EarlyStopping counter: 1 out of 100\n",
      "EarlyStopping counter: 2 out of 100\n",
      "EarlyStopping counter: 1 out of 100\n",
      "EarlyStopping counter: 2 out of 100\n",
      "EarlyStopping counter: 1 out of 100\n",
      "EarlyStopping counter: 2 out of 100\n",
      "EarlyStopping counter: 3 out of 100\n",
      "EarlyStopping counter: 4 out of 100\n",
      "EarlyStopping counter: 5 out of 100\n",
      "EarlyStopping counter: 6 out of 100\n",
      "EarlyStopping counter: 7 out of 100\n",
      "EarlyStopping counter: 8 out of 100\n",
      "EarlyStopping counter: 1 out of 100\n",
      "EarlyStopping counter: 2 out of 100\n",
      "EarlyStopping counter: 3 out of 100\n",
      "EarlyStopping counter: 4 out of 100\n",
      "EarlyStopping counter: 5 out of 100\n",
      "EarlyStopping counter: 1 out of 100\n",
      "EarlyStopping counter: 2 out of 100\n",
      "EarlyStopping counter: 1 out of 100\n",
      "EarlyStopping counter: 2 out of 100\n",
      "EarlyStopping counter: 3 out of 100\n",
      "EarlyStopping counter: 4 out of 100\n",
      "EarlyStopping counter: 5 out of 100\n",
      "EarlyStopping counter: 6 out of 100\n",
      "EarlyStopping counter: 7 out of 100\n",
      "EarlyStopping counter: 8 out of 100\n",
      "EarlyStopping counter: 9 out of 100\n",
      "EarlyStopping counter: 10 out of 100\n",
      "EarlyStopping counter: 11 out of 100\n",
      "EarlyStopping counter: 12 out of 100\n",
      "EarlyStopping counter: 13 out of 100\n",
      "EarlyStopping counter: 14 out of 100\n",
      "EarlyStopping counter: 15 out of 100\n",
      "EarlyStopping counter: 16 out of 100\n",
      "EarlyStopping counter: 17 out of 100\n",
      "EarlyStopping counter: 1 out of 100\n",
      "EarlyStopping counter: 2 out of 100\n",
      "EarlyStopping counter: 3 out of 100\n",
      "EarlyStopping counter: 4 out of 100\n",
      "EarlyStopping counter: 5 out of 100\n",
      "EarlyStopping counter: 6 out of 100\n",
      "EarlyStopping counter: 7 out of 100\n",
      "EarlyStopping counter: 8 out of 100\n",
      "EarlyStopping counter: 9 out of 100\n",
      "EarlyStopping counter: 10 out of 100\n",
      "EarlyStopping counter: 11 out of 100\n",
      "EarlyStopping counter: 12 out of 100\n",
      "EarlyStopping counter: 13 out of 100\n",
      "EarlyStopping counter: 14 out of 100\n",
      "EarlyStopping counter: 15 out of 100\n",
      "EarlyStopping counter: 16 out of 100\n",
      "EarlyStopping counter: 17 out of 100\n",
      "EarlyStopping counter: 18 out of 100\n",
      "EarlyStopping counter: 19 out of 100\n",
      "EarlyStopping counter: 20 out of 100\n",
      "EarlyStopping counter: 21 out of 100\n",
      "EarlyStopping counter: 22 out of 100\n",
      "EarlyStopping counter: 23 out of 100\n",
      "EarlyStopping counter: 24 out of 100\n",
      "EarlyStopping counter: 25 out of 100\n",
      "EarlyStopping counter: 26 out of 100\n",
      "EarlyStopping counter: 27 out of 100\n",
      "EarlyStopping counter: 28 out of 100\n",
      "EarlyStopping counter: 29 out of 100\n",
      "EarlyStopping counter: 30 out of 100\n",
      "EarlyStopping counter: 31 out of 100\n",
      "EarlyStopping counter: 32 out of 100\n",
      "EarlyStopping counter: 33 out of 100\n",
      "EarlyStopping counter: 34 out of 100\n",
      "EarlyStopping counter: 35 out of 100\n",
      "EarlyStopping counter: 36 out of 100\n",
      "EarlyStopping counter: 37 out of 100\n",
      "EarlyStopping counter: 38 out of 100\n",
      "EarlyStopping counter: 39 out of 100\n",
      "EarlyStopping counter: 40 out of 100\n",
      "EarlyStopping counter: 41 out of 100\n",
      "EarlyStopping counter: 42 out of 100\n",
      "EarlyStopping counter: 43 out of 100\n",
      "EarlyStopping counter: 44 out of 100\n",
      "EarlyStopping counter: 45 out of 100\n",
      "EarlyStopping counter: 46 out of 100\n",
      "EarlyStopping counter: 47 out of 100\n",
      "EarlyStopping counter: 48 out of 100\n",
      "EarlyStopping counter: 49 out of 100\n",
      "EarlyStopping counter: 50 out of 100\n",
      "EarlyStopping counter: 1 out of 100\n",
      "EarlyStopping counter: 2 out of 100\n",
      "EarlyStopping counter: 3 out of 100\n",
      "EarlyStopping counter: 4 out of 100\n",
      "EarlyStopping counter: 5 out of 100\n",
      "EarlyStopping counter: 6 out of 100\n",
      "EarlyStopping counter: 7 out of 100\n",
      "EarlyStopping counter: 8 out of 100\n",
      "EarlyStopping counter: 9 out of 100\n",
      "EarlyStopping counter: 10 out of 100\n",
      "EarlyStopping counter: 11 out of 100\n",
      "EarlyStopping counter: 12 out of 100\n",
      "EarlyStopping counter: 13 out of 100\n",
      "EarlyStopping counter: 14 out of 100\n",
      "EarlyStopping counter: 15 out of 100\n",
      "EarlyStopping counter: 16 out of 100\n",
      "EarlyStopping counter: 17 out of 100\n",
      "EarlyStopping counter: 18 out of 100\n",
      "EarlyStopping counter: 19 out of 100\n",
      "EarlyStopping counter: 20 out of 100\n",
      "EarlyStopping counter: 21 out of 100\n",
      "EarlyStopping counter: 22 out of 100\n",
      "EarlyStopping counter: 23 out of 100\n",
      "EarlyStopping counter: 24 out of 100\n",
      "EarlyStopping counter: 25 out of 100\n",
      "EarlyStopping counter: 26 out of 100\n",
      "EarlyStopping counter: 27 out of 100\n",
      "EarlyStopping counter: 28 out of 100\n",
      "EarlyStopping counter: 29 out of 100\n",
      "EarlyStopping counter: 30 out of 100\n",
      "EarlyStopping counter: 31 out of 100\n",
      "EarlyStopping counter: 32 out of 100\n",
      "EarlyStopping counter: 33 out of 100\n",
      "EarlyStopping counter: 34 out of 100\n",
      "EarlyStopping counter: 35 out of 100\n",
      "EarlyStopping counter: 36 out of 100\n",
      "EarlyStopping counter: 37 out of 100\n",
      "EarlyStopping counter: 38 out of 100\n",
      "EarlyStopping counter: 39 out of 100\n",
      "EarlyStopping counter: 40 out of 100\n",
      "EarlyStopping counter: 41 out of 100\n",
      "EarlyStopping counter: 42 out of 100\n",
      "EarlyStopping counter: 43 out of 100\n",
      "EarlyStopping counter: 44 out of 100\n",
      "EarlyStopping counter: 45 out of 100\n",
      "EarlyStopping counter: 46 out of 100\n",
      "EarlyStopping counter: 47 out of 100\n",
      "EarlyStopping counter: 48 out of 100\n",
      "EarlyStopping counter: 49 out of 100\n",
      "EarlyStopping counter: 50 out of 100\n",
      "EarlyStopping counter: 51 out of 100\n",
      "EarlyStopping counter: 52 out of 100\n",
      "EarlyStopping counter: 53 out of 100\n",
      "EarlyStopping counter: 54 out of 100\n",
      "EarlyStopping counter: 55 out of 100\n",
      "EarlyStopping counter: 56 out of 100\n",
      "EarlyStopping counter: 57 out of 100\n",
      "EarlyStopping counter: 58 out of 100\n",
      "EarlyStopping counter: 59 out of 100\n",
      "EarlyStopping counter: 60 out of 100\n",
      "EarlyStopping counter: 61 out of 100\n",
      "EarlyStopping counter: 62 out of 100\n",
      "EarlyStopping counter: 63 out of 100\n",
      "EarlyStopping counter: 64 out of 100\n",
      "EarlyStopping counter: 65 out of 100\n",
      "EarlyStopping counter: 66 out of 100\n",
      "EarlyStopping counter: 67 out of 100\n",
      "EarlyStopping counter: 68 out of 100\n",
      "EarlyStopping counter: 69 out of 100\n",
      "EarlyStopping counter: 70 out of 100\n",
      "EarlyStopping counter: 71 out of 100\n",
      "EarlyStopping counter: 72 out of 100\n",
      "EarlyStopping counter: 73 out of 100\n",
      "EarlyStopping counter: 74 out of 100\n",
      "EarlyStopping counter: 75 out of 100\n",
      "EarlyStopping counter: 76 out of 100\n",
      "EarlyStopping counter: 77 out of 100\n",
      "EarlyStopping counter: 78 out of 100\n",
      "EarlyStopping counter: 79 out of 100\n",
      "EarlyStopping counter: 80 out of 100\n",
      "EarlyStopping counter: 81 out of 100\n",
      "EarlyStopping counter: 82 out of 100\n",
      "EarlyStopping counter: 83 out of 100\n",
      "EarlyStopping counter: 84 out of 100\n",
      "EarlyStopping counter: 85 out of 100\n",
      "EarlyStopping counter: 86 out of 100\n",
      "EarlyStopping counter: 87 out of 100\n",
      "EarlyStopping counter: 88 out of 100\n",
      "EarlyStopping counter: 89 out of 100\n",
      "EarlyStopping counter: 90 out of 100\n",
      "EarlyStopping counter: 91 out of 100\n",
      "EarlyStopping counter: 92 out of 100\n",
      "EarlyStopping counter: 93 out of 100\n",
      "EarlyStopping counter: 94 out of 100\n",
      "EarlyStopping counter: 95 out of 100\n",
      "EarlyStopping counter: 96 out of 100\n",
      "EarlyStopping counter: 97 out of 100\n",
      "EarlyStopping counter: 98 out of 100\n",
      "EarlyStopping counter: 99 out of 100\n",
      "EarlyStopping counter: 100 out of 100\n",
      "201\n"
     ]
    }
   ],
   "source": [
    "es = EarlyStopping(patience=100)\n",
    "for i, _ in enumerate(res['dp']):\n",
    "    es(res['epoch_loss'][i])\n",
    "    \n",
    "    if  es.early_stop:\n",
    "        print(i)\n",
    "        break"
   ]
  },
  {
   "cell_type": "code",
   "execution_count": 24,
   "metadata": {},
   "outputs": [
    {
     "data": {
      "text/plain": [
       "overall_acc                0.826474\n",
       "dp                         0.174106\n",
       "eop                        0.059351\n",
       "average_odds_difference    0.050964\n",
       "grp_0_acc                  0.910920\n",
       "grp_1_acc                  0.786618\n",
       "epoch_loss                 0.454220\n",
       "Name: 201, dtype: float64"
      ]
     },
     "execution_count": 24,
     "metadata": {},
     "output_type": "execute_result"
    }
   ],
   "source": [
    "val_res_no_debias.iloc[201,:]"
   ]
  },
  {
   "cell_type": "code",
   "execution_count": 27,
   "metadata": {},
   "outputs": [
    {
     "data": {
      "text/plain": [
       "overall_acc                0.753532\n",
       "dp                        -0.014557\n",
       "eop                       -0.149904\n",
       "average_odds_difference    0.149265\n",
       "grp_0_acc                  0.887931\n",
       "grp_1_acc                  0.690099\n",
       "epoch_loss                 0.706302\n",
       "Name: 292, dtype: float64"
      ]
     },
     "execution_count": 27,
     "metadata": {},
     "output_type": "execute_result"
    }
   ],
   "source": [
    "val_res.iloc[292,:]"
   ]
  },
  {
   "cell_type": "code",
   "execution_count": null,
   "metadata": {},
   "outputs": [],
   "source": []
  }
 ],
 "metadata": {
  "kernelspec": {
   "display_name": "Python 3 (ipykernel)",
   "language": "python",
   "name": "python3"
  },
  "language_info": {
   "codemirror_mode": {
    "name": "ipython",
    "version": 3
   },
   "file_extension": ".py",
   "mimetype": "text/x-python",
   "name": "python",
   "nbconvert_exporter": "python",
   "pygments_lexer": "ipython3",
   "version": "3.7.4"
  }
 },
 "nbformat": 4,
 "nbformat_minor": 1
}
