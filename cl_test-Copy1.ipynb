{
 "cells": [
  {
   "cell_type": "code",
   "execution_count": 1,
   "metadata": {
    "pycharm": {
     "is_executing": true
    }
   },
   "outputs": [],
   "source": [
    "import warnings\n",
    "warnings.filterwarnings(\"ignore\", category=FutureWarning)\n",
    "\n",
    "import sys\n",
    "sys.path.append('D:\\\\Compute Science\\\\Machine Learning\\\\论文\\\\项目\\\\FairSPL\\\\venv_torch')\n",
    "sys.path.append('D:\\\\Compute Science\\\\Machine Learning\\\\论文\\\\项目\\\\FairSPL\\\\venv_torch\\\\lib\\\\site-packages')"
   ]
  },
  {
   "cell_type": "code",
   "execution_count": 2,
   "metadata": {},
   "outputs": [],
   "source": [
    "import json\n",
    "\n",
    "import numpy as np\n",
    "import pandas as pd\n",
    "import matplotlib.pyplot as plt\n",
    "import torch\n",
    "\n",
    "from dataset import fetch_data\n",
    "from models.AdversarialDebiasing import AdversarialDebiasing\n",
    "from eval import Evaluator\n",
    "from utils import get_curriculum_stages\n",
    "# from tmp.AdversarialDebiasing_copied2_before_lr import AdversarialDebiasing"
   ]
  },
  {
   "cell_type": "code",
   "execution_count": 3,
   "metadata": {},
   "outputs": [
    {
     "name": "stdout",
     "output_type": "stream",
     "text": [
      "Loading Adult dataset..\n",
      "train_val_df.shape:  (32561, 15)\n",
      "test_df.shape:  (12661, 15)\n"
     ]
    },
    {
     "name": "stderr",
     "output_type": "stream",
     "text": [
      "E:\\Environment\\python\\python3.7.4\\lib\\site-packages\\pandas\\core\\frame.py:4913: SettingWithCopyWarning: \n",
      "A value is trying to be set on a copy of a slice from a DataFrame\n",
      "\n",
      "See the caveats in the documentation: https://pandas.pydata.org/pandas-docs/stable/user_guide/indexing.html#returning-a-view-versus-a-copy\n",
      "  errors=errors,\n"
     ]
    },
    {
     "name": "stdout",
     "output_type": "stream",
     "text": [
      "Dataset statistic - #total: 45222; #train: 26049; #val.: 6512; #test: 12661; #dim.: 102\n",
      "\n",
      "data.x_train.shape:  (26049, 102)\n",
      "data.x_test.shape:  (12661, 102)\n",
      "========== before train ==========\n",
      "========== Results on origin ==========\n",
      "Grp. 0 - #instance: 8460; #pos : 954\n",
      "Grp. 1 - #instance: 17589; #pos : 5496\n",
      "Demographic parity: 0.199702; Equal opportunity: 0.000000; Average odds difference: 0.000000\n"
     ]
    }
   ],
   "source": [
    "data = fetch_data(\"adult\")\n",
    "print(\"data.x_train.shape: \", data.x_train.shape)\n",
    "print(\"data.x_test.shape: \", data.x_test.shape)\n",
    "origin_evaluator, train_evaluator, test_evaluator = Evaluator(data.s_train, \"origin\"), Evaluator(data.s_train,\n",
    "                                                                                                 \"train\"), Evaluator(\n",
    "    data.s_test, \"test\")\n",
    "if data.s_val is not None:\n",
    "    val_evaluator = Evaluator(data.s_val, \"val\")\n",
    "\n",
    "n_features, n_classes, n_groups = data.x_train.shape[1], len(np.unique(data.y_train)), len(np.unique(data.s_train))\n",
    "if n_classes == 2:\n",
    "    n_classes = 1\n",
    "if n_groups == 2:\n",
    "    n_groups = 1\n",
    "\n",
    "print(\"========== before train ==========\")\n",
    "origin_res = origin_evaluator(data.y_train, no_train=True)"
   ]
  },
  {
   "cell_type": "code",
   "execution_count": 4,
   "metadata": {},
   "outputs": [
    {
     "name": "stderr",
     "output_type": "stream",
     "text": [
      "Classifier Training Epoch:   3%|\u001b[32m▎         \u001b[0m| 14/500 [00:21<11:24,  1.41s/it, acc=0.846, loss=1.7] "
     ]
    },
    {
     "name": "stdout",
     "output_type": "stream",
     "text": [
      "EarlyStopping counter: 1 out of 10\n"
     ]
    },
    {
     "name": "stderr",
     "output_type": "stream",
     "text": [
      "Classifier Training Epoch:   3%|\u001b[32m▎         \u001b[0m| 16/500 [00:23<10:40,  1.32s/it, acc=0.824, loss=1.44]"
     ]
    },
    {
     "name": "stdout",
     "output_type": "stream",
     "text": [
      "EarlyStopping counter: 1 out of 10\n"
     ]
    },
    {
     "name": "stderr",
     "output_type": "stream",
     "text": [
      "Classifier Training Epoch:   4%|\u001b[32m▎         \u001b[0m| 18/500 [00:25<10:19,  1.29s/it, acc=0.832, loss=1.49]"
     ]
    },
    {
     "name": "stdout",
     "output_type": "stream",
     "text": [
      "EarlyStopping counter: 1 out of 10\n"
     ]
    },
    {
     "name": "stderr",
     "output_type": "stream",
     "text": [
      "Classifier Training Epoch:   5%|\u001b[32m▍         \u001b[0m| 24/500 [00:33<10:03,  1.27s/it, acc=0.828, loss=1.14] "
     ]
    },
    {
     "name": "stdout",
     "output_type": "stream",
     "text": [
      "EarlyStopping counter: 1 out of 10\n"
     ]
    },
    {
     "name": "stderr",
     "output_type": "stream",
     "text": [
      "Classifier Training Epoch:   5%|\u001b[32m▌         \u001b[0m| 25/500 [00:34<10:06,  1.28s/it, acc=0.822, loss=1.64] "
     ]
    },
    {
     "name": "stdout",
     "output_type": "stream",
     "text": [
      "EarlyStopping counter: 2 out of 10\n"
     ]
    },
    {
     "name": "stderr",
     "output_type": "stream",
     "text": [
      "Classifier Training Epoch:   7%|\u001b[32m▋         \u001b[0m| 34/500 [00:45<09:13,  1.19s/it, acc=0.842, loss=0.993]"
     ]
    },
    {
     "name": "stdout",
     "output_type": "stream",
     "text": [
      "EarlyStopping counter: 1 out of 10\n"
     ]
    },
    {
     "name": "stderr",
     "output_type": "stream",
     "text": [
      "Classifier Training Epoch:   7%|\u001b[32m▋         \u001b[0m| 35/500 [00:46<09:03,  1.17s/it, acc=0.855, loss=0.969]"
     ]
    },
    {
     "name": "stdout",
     "output_type": "stream",
     "text": [
      "EarlyStopping counter: 2 out of 10\n"
     ]
    },
    {
     "name": "stderr",
     "output_type": "stream",
     "text": [
      "Classifier Training Epoch:   7%|\u001b[32m▋         \u001b[0m| 36/500 [00:47<09:04,  1.17s/it, acc=0.852, loss=0.95] "
     ]
    },
    {
     "name": "stdout",
     "output_type": "stream",
     "text": [
      "EarlyStopping counter: 3 out of 10\n"
     ]
    },
    {
     "name": "stderr",
     "output_type": "stream",
     "text": [
      "Classifier Training Epoch:   8%|\u001b[32m▊         \u001b[0m| 41/500 [00:53<09:32,  1.25s/it, acc=0.852, loss=0.743]"
     ]
    },
    {
     "name": "stdout",
     "output_type": "stream",
     "text": [
      "EarlyStopping counter: 1 out of 10\n"
     ]
    },
    {
     "name": "stderr",
     "output_type": "stream",
     "text": [
      "Classifier Training Epoch:  10%|\u001b[32m█         \u001b[0m| 51/500 [01:06<10:42,  1.43s/it, acc=0.809, loss=2.21] "
     ]
    },
    {
     "name": "stdout",
     "output_type": "stream",
     "text": [
      "EarlyStopping counter: 1 out of 10\n"
     ]
    },
    {
     "name": "stderr",
     "output_type": "stream",
     "text": [
      "Classifier Training Epoch:  10%|\u001b[32m█         \u001b[0m| 52/500 [01:07<10:32,  1.41s/it, acc=0.814, loss=2.2]  "
     ]
    },
    {
     "name": "stdout",
     "output_type": "stream",
     "text": [
      "EarlyStopping counter: 2 out of 10\n"
     ]
    },
    {
     "name": "stderr",
     "output_type": "stream",
     "text": [
      "Classifier Training Epoch:  11%|\u001b[32m█         \u001b[0m| 53/500 [01:08<10:21,  1.39s/it, acc=0.783, loss=1.95] "
     ]
    },
    {
     "name": "stdout",
     "output_type": "stream",
     "text": [
      "EarlyStopping counter: 3 out of 10\n"
     ]
    },
    {
     "name": "stderr",
     "output_type": "stream",
     "text": [
      "Classifier Training Epoch:  11%|\u001b[32m█         \u001b[0m| 54/500 [01:10<10:27,  1.41s/it, acc=0.834, loss=1.81] "
     ]
    },
    {
     "name": "stdout",
     "output_type": "stream",
     "text": [
      "EarlyStopping counter: 4 out of 10\n"
     ]
    },
    {
     "name": "stderr",
     "output_type": "stream",
     "text": [
      "Classifier Training Epoch:  11%|\u001b[32m█         \u001b[0m| 55/500 [01:11<10:14,  1.38s/it, acc=0.812, loss=1.8]  "
     ]
    },
    {
     "name": "stdout",
     "output_type": "stream",
     "text": [
      "EarlyStopping counter: 5 out of 10\n"
     ]
    },
    {
     "name": "stderr",
     "output_type": "stream",
     "text": [
      "Classifier Training Epoch:  11%|\u001b[32m█         \u001b[0m| 56/500 [01:13<10:05,  1.36s/it, acc=0.809, loss=2]    "
     ]
    },
    {
     "name": "stdout",
     "output_type": "stream",
     "text": [
      "EarlyStopping counter: 6 out of 10\n"
     ]
    },
    {
     "name": "stderr",
     "output_type": "stream",
     "text": [
      "Classifier Training Epoch:  11%|\u001b[32m█▏        \u001b[0m| 57/500 [01:14<09:47,  1.33s/it, acc=0.805, loss=1.75] "
     ]
    },
    {
     "name": "stdout",
     "output_type": "stream",
     "text": [
      "EarlyStopping counter: 7 out of 10\n"
     ]
    },
    {
     "name": "stderr",
     "output_type": "stream",
     "text": [
      "Classifier Training Epoch:  12%|\u001b[32m█▏        \u001b[0m| 58/500 [01:15<09:42,  1.32s/it, acc=0.809, loss=1.75] "
     ]
    },
    {
     "name": "stdout",
     "output_type": "stream",
     "text": [
      "EarlyStopping counter: 8 out of 10\n"
     ]
    },
    {
     "name": "stderr",
     "output_type": "stream",
     "text": [
      "Classifier Training Epoch:  12%|\u001b[32m█▏        \u001b[0m| 59/500 [01:16<09:40,  1.32s/it, acc=0.828, loss=1.8]  "
     ]
    },
    {
     "name": "stdout",
     "output_type": "stream",
     "text": [
      "EarlyStopping counter: 9 out of 10\n"
     ]
    },
    {
     "name": "stderr",
     "output_type": "stream",
     "text": [
      "Classifier Training Epoch:  12%|\u001b[32m█▏        \u001b[0m| 60/500 [01:18<09:31,  1.30s/it, acc=0.875, loss=0.576]"
     ]
    },
    {
     "name": "stdout",
     "output_type": "stream",
     "text": [
      "EarlyStopping counter: 10 out of 10\n"
     ]
    },
    {
     "name": "stderr",
     "output_type": "stream",
     "text": [
      "Classifier Training Epoch:  12%|\u001b[32m█▏        \u001b[0m| 61/500 [01:19<09:38,  1.32s/it, acc=0.807, loss=1.54] "
     ]
    },
    {
     "name": "stdout",
     "output_type": "stream",
     "text": [
      "EarlyStopping counter: 11 out of 10\n"
     ]
    },
    {
     "name": "stderr",
     "output_type": "stream",
     "text": [
      "Classifier Training Epoch:  12%|\u001b[32m█▏        \u001b[0m| 62/500 [01:20<09:32,  1.31s/it, acc=0.816, loss=1.37] "
     ]
    },
    {
     "name": "stdout",
     "output_type": "stream",
     "text": [
      "EarlyStopping counter: 12 out of 10\n"
     ]
    },
    {
     "name": "stderr",
     "output_type": "stream",
     "text": [
      "Classifier Training Epoch:  12%|\u001b[32m█▏        \u001b[0m| 62/500 [01:21<09:32,  1.31s/it, acc=0.875, loss=0.511]"
     ]
    },
    {
     "name": "stdout",
     "output_type": "stream",
     "text": [
      "EarlyStopping counter: 13 out of 10\n"
     ]
    },
    {
     "name": "stderr",
     "output_type": "stream",
     "text": [
      "Classifier Training Epoch:  13%|\u001b[32m█▎        \u001b[0m| 63/500 [01:23<09:35,  1.32s/it, acc=0.859, loss=0.628]"
     ]
    },
    {
     "name": "stdout",
     "output_type": "stream",
     "text": [
      "EarlyStopping counter: 14 out of 10\n"
     ]
    },
    {
     "name": "stderr",
     "output_type": "stream",
     "text": [
      "Classifier Training Epoch:  13%|\u001b[32m█▎        \u001b[0m| 64/500 [01:24<09:19,  1.28s/it, acc=0.859, loss=0.611]"
     ]
    },
    {
     "name": "stdout",
     "output_type": "stream",
     "text": [
      "EarlyStopping counter: 15 out of 10\n"
     ]
    },
    {
     "name": "stderr",
     "output_type": "stream",
     "text": [
      "Classifier Training Epoch:  13%|\u001b[32m█▎        \u001b[0m| 65/500 [01:25<09:16,  1.28s/it, acc=0.855, loss=0.678]"
     ]
    },
    {
     "name": "stdout",
     "output_type": "stream",
     "text": [
      "EarlyStopping counter: 16 out of 10\n"
     ]
    },
    {
     "name": "stderr",
     "output_type": "stream",
     "text": [
      "Classifier Training Epoch:  13%|\u001b[32m█▎        \u001b[0m| 66/500 [01:27<09:09,  1.27s/it, acc=0.873, loss=0.478]"
     ]
    },
    {
     "name": "stdout",
     "output_type": "stream",
     "text": [
      "EarlyStopping counter: 17 out of 10\n"
     ]
    },
    {
     "name": "stderr",
     "output_type": "stream",
     "text": [
      "Classifier Training Epoch:  13%|\u001b[32m█▎        \u001b[0m| 67/500 [01:28<09:18,  1.29s/it, acc=0.873, loss=0.449]"
     ]
    },
    {
     "name": "stdout",
     "output_type": "stream",
     "text": [
      "EarlyStopping counter: 18 out of 10\n"
     ]
    },
    {
     "name": "stderr",
     "output_type": "stream",
     "text": [
      "Classifier Training Epoch:  14%|\u001b[32m█▎        \u001b[0m| 68/500 [01:29<09:34,  1.33s/it, acc=0.869, loss=0.598]"
     ]
    },
    {
     "name": "stdout",
     "output_type": "stream",
     "text": [
      "EarlyStopping counter: 19 out of 10\n"
     ]
    },
    {
     "name": "stderr",
     "output_type": "stream",
     "text": [
      "Classifier Training Epoch:  14%|\u001b[32m█▍        \u001b[0m| 69/500 [01:30<09:32,  1.33s/it, acc=0.859, loss=0.558]"
     ]
    },
    {
     "name": "stdout",
     "output_type": "stream",
     "text": [
      "EarlyStopping counter: 20 out of 10\n"
     ]
    },
    {
     "name": "stderr",
     "output_type": "stream",
     "text": [
      "Classifier Training Epoch:  14%|\u001b[32m█▍        \u001b[0m| 70/500 [01:32<09:17,  1.30s/it, acc=0.867, loss=0.502]"
     ]
    },
    {
     "name": "stdout",
     "output_type": "stream",
     "text": [
      "EarlyStopping counter: 21 out of 10\n"
     ]
    },
    {
     "name": "stderr",
     "output_type": "stream",
     "text": [
      "Classifier Training Epoch:  14%|\u001b[32m█▍        \u001b[0m| 71/500 [01:33<09:12,  1.29s/it, acc=0.865, loss=0.504]"
     ]
    },
    {
     "name": "stdout",
     "output_type": "stream",
     "text": [
      "EarlyStopping counter: 22 out of 10\n"
     ]
    },
    {
     "name": "stderr",
     "output_type": "stream",
     "text": [
      "Classifier Training Epoch:  14%|\u001b[32m█▍        \u001b[0m| 72/500 [01:34<09:04,  1.27s/it, acc=0.895, loss=0.465]"
     ]
    },
    {
     "name": "stdout",
     "output_type": "stream",
     "text": [
      "EarlyStopping counter: 23 out of 10\n"
     ]
    },
    {
     "name": "stderr",
     "output_type": "stream",
     "text": [
      "Classifier Training Epoch:  15%|\u001b[32m█▍        \u001b[0m| 73/500 [01:35<08:54,  1.25s/it, acc=0.857, loss=0.484]"
     ]
    },
    {
     "name": "stdout",
     "output_type": "stream",
     "text": [
      "EarlyStopping counter: 24 out of 10\n"
     ]
    },
    {
     "name": "stderr",
     "output_type": "stream",
     "text": [
      "Classifier Training Epoch:  15%|\u001b[32m█▍        \u001b[0m| 74/500 [01:37<08:55,  1.26s/it, acc=0.867, loss=0.507]"
     ]
    },
    {
     "name": "stdout",
     "output_type": "stream",
     "text": [
      "EarlyStopping counter: 25 out of 10\n"
     ]
    },
    {
     "name": "stderr",
     "output_type": "stream",
     "text": [
      "Classifier Training Epoch:  15%|\u001b[32m█▌        \u001b[0m| 75/500 [01:38<08:50,  1.25s/it, acc=0.885, loss=0.481]"
     ]
    },
    {
     "name": "stdout",
     "output_type": "stream",
     "text": [
      "EarlyStopping counter: 26 out of 10\n"
     ]
    },
    {
     "name": "stderr",
     "output_type": "stream",
     "text": [
      "Classifier Training Epoch:  15%|\u001b[32m█▌        \u001b[0m| 77/500 [01:40<08:54,  1.26s/it, acc=0.857, loss=0.723]"
     ]
    },
    {
     "name": "stdout",
     "output_type": "stream",
     "text": [
      "EarlyStopping counter: 1 out of 10\n"
     ]
    },
    {
     "name": "stderr",
     "output_type": "stream",
     "text": [
      "Classifier Training Epoch:  16%|\u001b[32m█▌        \u001b[0m| 79/500 [01:43<08:51,  1.26s/it, acc=0.857, loss=0.674]"
     ]
    },
    {
     "name": "stdout",
     "output_type": "stream",
     "text": [
      "EarlyStopping counter: 1 out of 10\n"
     ]
    },
    {
     "name": "stderr",
     "output_type": "stream",
     "text": [
      "Classifier Training Epoch:  16%|\u001b[32m█▌        \u001b[0m| 81/500 [01:45<08:38,  1.24s/it, acc=0.859, loss=0.419]"
     ]
    },
    {
     "name": "stdout",
     "output_type": "stream",
     "text": [
      "EarlyStopping counter: 1 out of 10\n"
     ]
    },
    {
     "name": "stderr",
     "output_type": "stream",
     "text": [
      "Classifier Training Epoch:  16%|\u001b[32m█▋        \u001b[0m| 82/500 [01:46<08:37,  1.24s/it, acc=0.869, loss=0.365]"
     ]
    },
    {
     "name": "stdout",
     "output_type": "stream",
     "text": [
      "EarlyStopping counter: 2 out of 10\n"
     ]
    },
    {
     "name": "stderr",
     "output_type": "stream",
     "text": [
      "Classifier Training Epoch:  17%|\u001b[32m█▋        \u001b[0m| 85/500 [01:50<08:39,  1.25s/it, acc=0.865, loss=0.406]"
     ]
    },
    {
     "name": "stdout",
     "output_type": "stream",
     "text": [
      "EarlyStopping counter: 1 out of 10\n"
     ]
    },
    {
     "name": "stderr",
     "output_type": "stream",
     "text": [
      "Classifier Training Epoch:  18%|\u001b[32m█▊        \u001b[0m| 88/500 [01:54<08:20,  1.22s/it, acc=0.869, loss=0.382]"
     ]
    },
    {
     "name": "stdout",
     "output_type": "stream",
     "text": [
      "EarlyStopping counter: 1 out of 10\n"
     ]
    },
    {
     "name": "stderr",
     "output_type": "stream",
     "text": [
      "Classifier Training Epoch:  18%|\u001b[32m█▊        \u001b[0m| 89/500 [01:55<08:19,  1.22s/it, acc=0.869, loss=0.374]"
     ]
    },
    {
     "name": "stdout",
     "output_type": "stream",
     "text": [
      "EarlyStopping counter: 2 out of 10\n"
     ]
    },
    {
     "name": "stderr",
     "output_type": "stream",
     "text": [
      "Classifier Training Epoch:  18%|\u001b[32m█▊        \u001b[0m| 91/500 [01:57<08:20,  1.22s/it, acc=0.869, loss=0.401]"
     ]
    },
    {
     "name": "stdout",
     "output_type": "stream",
     "text": [
      "EarlyStopping counter: 1 out of 10\n"
     ]
    },
    {
     "name": "stderr",
     "output_type": "stream",
     "text": [
      "Classifier Training Epoch:  18%|\u001b[32m█▊        \u001b[0m| 92/500 [01:59<08:27,  1.24s/it, acc=0.848, loss=0.385]"
     ]
    },
    {
     "name": "stdout",
     "output_type": "stream",
     "text": [
      "EarlyStopping counter: 2 out of 10\n"
     ]
    },
    {
     "name": "stderr",
     "output_type": "stream",
     "text": [
      "Classifier Training Epoch:  20%|\u001b[32m██        \u001b[0m| 101/500 [02:09<09:06,  1.37s/it, acc=0.807, loss=1.17] "
     ]
    },
    {
     "name": "stdout",
     "output_type": "stream",
     "text": [
      "EarlyStopping counter: 1 out of 10\n"
     ]
    },
    {
     "name": "stderr",
     "output_type": "stream",
     "text": [
      "Classifier Training Epoch:  20%|\u001b[32m██        \u001b[0m| 102/500 [02:11<09:12,  1.39s/it, acc=0.832, loss=0.933]"
     ]
    },
    {
     "name": "stdout",
     "output_type": "stream",
     "text": [
      "EarlyStopping counter: 2 out of 10\n"
     ]
    },
    {
     "name": "stderr",
     "output_type": "stream",
     "text": [
      "Classifier Training Epoch:  21%|\u001b[32m██        \u001b[0m| 103/500 [02:12<09:24,  1.42s/it, acc=0.812, loss=0.904]"
     ]
    },
    {
     "name": "stdout",
     "output_type": "stream",
     "text": [
      "EarlyStopping counter: 3 out of 10\n"
     ]
    },
    {
     "name": "stderr",
     "output_type": "stream",
     "text": [
      "Classifier Training Epoch:  21%|\u001b[32m██        \u001b[0m| 104/500 [02:14<09:16,  1.40s/it, acc=0.799, loss=0.938]"
     ]
    },
    {
     "name": "stdout",
     "output_type": "stream",
     "text": [
      "EarlyStopping counter: 4 out of 10\n"
     ]
    },
    {
     "name": "stderr",
     "output_type": "stream",
     "text": [
      "Classifier Training Epoch:  21%|\u001b[32m██        \u001b[0m| 105/500 [02:15<08:55,  1.35s/it, acc=0.801, loss=1.08] "
     ]
    },
    {
     "name": "stdout",
     "output_type": "stream",
     "text": [
      "EarlyStopping counter: 5 out of 10\n"
     ]
    },
    {
     "name": "stderr",
     "output_type": "stream",
     "text": [
      "Classifier Training Epoch:  21%|\u001b[32m██        \u001b[0m| 106/500 [02:16<08:47,  1.34s/it, acc=0.822, loss=0.913]"
     ]
    },
    {
     "name": "stdout",
     "output_type": "stream",
     "text": [
      "EarlyStopping counter: 6 out of 10\n"
     ]
    },
    {
     "name": "stderr",
     "output_type": "stream",
     "text": [
      "Classifier Training Epoch:  21%|\u001b[32m██▏       \u001b[0m| 107/500 [02:18<08:34,  1.31s/it, acc=0.848, loss=0.721]"
     ]
    },
    {
     "name": "stdout",
     "output_type": "stream",
     "text": [
      "EarlyStopping counter: 7 out of 10\n"
     ]
    },
    {
     "name": "stderr",
     "output_type": "stream",
     "text": [
      "Classifier Training Epoch:  22%|\u001b[32m██▏       \u001b[0m| 108/500 [02:19<08:39,  1.33s/it, acc=0.895, loss=0.302]"
     ]
    },
    {
     "name": "stdout",
     "output_type": "stream",
     "text": [
      "EarlyStopping counter: 8 out of 10\n"
     ]
    },
    {
     "name": "stderr",
     "output_type": "stream",
     "text": [
      "Classifier Training Epoch:  22%|\u001b[32m██▏       \u001b[0m| 109/500 [02:20<08:19,  1.28s/it, acc=0.85, loss=0.748] "
     ]
    },
    {
     "name": "stdout",
     "output_type": "stream",
     "text": [
      "EarlyStopping counter: 9 out of 10\n"
     ]
    },
    {
     "name": "stderr",
     "output_type": "stream",
     "text": [
      "Classifier Training Epoch:  22%|\u001b[32m██▏       \u001b[0m| 110/500 [02:21<08:14,  1.27s/it, acc=0.826, loss=0.753]"
     ]
    },
    {
     "name": "stdout",
     "output_type": "stream",
     "text": [
      "EarlyStopping counter: 10 out of 10\n"
     ]
    },
    {
     "name": "stderr",
     "output_type": "stream",
     "text": [
      "Classifier Training Epoch:  22%|\u001b[32m██▏       \u001b[0m| 111/500 [02:22<07:58,  1.23s/it, acc=0.842, loss=0.694]"
     ]
    },
    {
     "name": "stdout",
     "output_type": "stream",
     "text": [
      "EarlyStopping counter: 11 out of 10\n"
     ]
    },
    {
     "name": "stderr",
     "output_type": "stream",
     "text": [
      "Classifier Training Epoch:  22%|\u001b[32m██▏       \u001b[0m| 112/500 [02:24<08:08,  1.26s/it, acc=0.891, loss=0.284]"
     ]
    },
    {
     "name": "stdout",
     "output_type": "stream",
     "text": [
      "EarlyStopping counter: 12 out of 10\n"
     ]
    },
    {
     "name": "stderr",
     "output_type": "stream",
     "text": [
      "Classifier Training Epoch:  23%|\u001b[32m██▎       \u001b[0m| 113/500 [02:25<08:10,  1.27s/it, acc=0.818, loss=0.81] "
     ]
    },
    {
     "name": "stdout",
     "output_type": "stream",
     "text": [
      "EarlyStopping counter: 13 out of 10\n"
     ]
    },
    {
     "name": "stderr",
     "output_type": "stream",
     "text": [
      "Classifier Training Epoch:  23%|\u001b[32m██▎       \u001b[0m| 113/500 [02:26<08:10,  1.27s/it, acc=0.869, loss=0.358]"
     ]
    },
    {
     "name": "stdout",
     "output_type": "stream",
     "text": [
      "EarlyStopping counter: 14 out of 10\n"
     ]
    },
    {
     "name": "stderr",
     "output_type": "stream",
     "text": [
      "Classifier Training Epoch:  23%|\u001b[32m██▎       \u001b[0m| 114/500 [02:27<08:08,  1.27s/it, acc=0.873, loss=0.352]"
     ]
    },
    {
     "name": "stdout",
     "output_type": "stream",
     "text": [
      "EarlyStopping counter: 15 out of 10\n"
     ]
    },
    {
     "name": "stderr",
     "output_type": "stream",
     "text": [
      "Classifier Training Epoch:  23%|\u001b[32m██▎       \u001b[0m| 115/500 [02:29<08:05,  1.26s/it, acc=0.867, loss=0.373]"
     ]
    },
    {
     "name": "stdout",
     "output_type": "stream",
     "text": [
      "EarlyStopping counter: 16 out of 10\n"
     ]
    },
    {
     "name": "stderr",
     "output_type": "stream",
     "text": [
      "Classifier Training Epoch:  23%|\u001b[32m██▎       \u001b[0m| 116/500 [02:30<08:25,  1.32s/it, acc=0.867, loss=0.362]"
     ]
    },
    {
     "name": "stdout",
     "output_type": "stream",
     "text": [
      "EarlyStopping counter: 17 out of 10\n"
     ]
    },
    {
     "name": "stderr",
     "output_type": "stream",
     "text": [
      "Classifier Training Epoch:  23%|\u001b[32m██▎       \u001b[0m| 117/500 [02:31<08:20,  1.31s/it, acc=0.873, loss=0.35] "
     ]
    },
    {
     "name": "stdout",
     "output_type": "stream",
     "text": [
      "EarlyStopping counter: 18 out of 10\n"
     ]
    },
    {
     "name": "stderr",
     "output_type": "stream",
     "text": [
      "Classifier Training Epoch:  24%|\u001b[32m██▍       \u001b[0m| 121/500 [02:36<08:18,  1.32s/it, acc=0.873, loss=0.331]"
     ]
    },
    {
     "name": "stdout",
     "output_type": "stream",
     "text": [
      "EarlyStopping counter: 1 out of 10\n"
     ]
    },
    {
     "name": "stderr",
     "output_type": "stream",
     "text": [
      "Classifier Training Epoch:  25%|\u001b[32m██▌       \u001b[0m| 127/500 [02:44<07:58,  1.28s/it, acc=0.869, loss=0.435]"
     ]
    },
    {
     "name": "stdout",
     "output_type": "stream",
     "text": [
      "EarlyStopping counter: 1 out of 10\n"
     ]
    },
    {
     "name": "stderr",
     "output_type": "stream",
     "text": [
      "Classifier Training Epoch:  26%|\u001b[32m██▌       \u001b[0m| 129/500 [02:46<07:42,  1.25s/it, acc=0.883, loss=0.384]"
     ]
    },
    {
     "name": "stdout",
     "output_type": "stream",
     "text": [
      "EarlyStopping counter: 1 out of 10\n"
     ]
    },
    {
     "name": "stderr",
     "output_type": "stream",
     "text": [
      "Classifier Training Epoch:  26%|\u001b[32m██▌       \u001b[0m| 130/500 [02:48<07:42,  1.25s/it, acc=0.893, loss=0.351]"
     ]
    },
    {
     "name": "stdout",
     "output_type": "stream",
     "text": [
      "EarlyStopping counter: 2 out of 10\n"
     ]
    },
    {
     "name": "stderr",
     "output_type": "stream",
     "text": [
      "Classifier Training Epoch:  26%|\u001b[32m██▌       \u001b[0m| 131/500 [02:49<07:40,  1.25s/it, acc=0.863, loss=0.255]"
     ]
    },
    {
     "name": "stdout",
     "output_type": "stream",
     "text": [
      "EarlyStopping counter: 3 out of 10\n"
     ]
    },
    {
     "name": "stderr",
     "output_type": "stream",
     "text": [
      "Classifier Training Epoch:  27%|\u001b[32m██▋       \u001b[0m| 134/500 [02:52<07:31,  1.23s/it, acc=0.91, loss=0.274] "
     ]
    },
    {
     "name": "stdout",
     "output_type": "stream",
     "text": [
      "EarlyStopping counter: 1 out of 10\n"
     ]
    },
    {
     "name": "stderr",
     "output_type": "stream",
     "text": [
      "Classifier Training Epoch:  27%|\u001b[32m██▋       \u001b[0m| 135/500 [02:54<07:27,  1.22s/it, acc=0.877, loss=0.334]"
     ]
    },
    {
     "name": "stdout",
     "output_type": "stream",
     "text": [
      "EarlyStopping counter: 2 out of 10\n"
     ]
    },
    {
     "name": "stderr",
     "output_type": "stream",
     "text": [
      "Classifier Training Epoch:  27%|\u001b[32m██▋       \u001b[0m| 136/500 [02:55<07:28,  1.23s/it, acc=0.871, loss=0.249]"
     ]
    },
    {
     "name": "stdout",
     "output_type": "stream",
     "text": [
      "EarlyStopping counter: 3 out of 10\n"
     ]
    },
    {
     "name": "stderr",
     "output_type": "stream",
     "text": [
      "Classifier Training Epoch:  27%|\u001b[32m██▋       \u001b[0m| 137/500 [02:56<07:26,  1.23s/it, acc=0.875, loss=0.246]"
     ]
    },
    {
     "name": "stdout",
     "output_type": "stream",
     "text": [
      "EarlyStopping counter: 4 out of 10\n"
     ]
    },
    {
     "name": "stderr",
     "output_type": "stream",
     "text": [
      "Classifier Training Epoch:  28%|\u001b[32m██▊       \u001b[0m| 141/500 [03:01<07:22,  1.23s/it, acc=0.891, loss=0.277]"
     ]
    },
    {
     "name": "stdout",
     "output_type": "stream",
     "text": [
      "EarlyStopping counter: 1 out of 10\n"
     ]
    },
    {
     "name": "stderr",
     "output_type": "stream",
     "text": [
      "Classifier Training Epoch:  29%|\u001b[32m██▉       \u001b[0m| 144/500 [03:05<07:14,  1.22s/it, acc=0.883, loss=0.246]"
     ]
    },
    {
     "name": "stdout",
     "output_type": "stream",
     "text": [
      "EarlyStopping counter: 1 out of 10\n"
     ]
    },
    {
     "name": "stderr",
     "output_type": "stream",
     "text": [
      "Classifier Training Epoch:  29%|\u001b[32m██▉       \u001b[0m| 147/500 [03:08<07:08,  1.21s/it, acc=0.912, loss=0.239]"
     ]
    },
    {
     "name": "stdout",
     "output_type": "stream",
     "text": [
      "EarlyStopping counter: 1 out of 10\n"
     ]
    },
    {
     "name": "stderr",
     "output_type": "stream",
     "text": [
      "Classifier Training Epoch:  30%|\u001b[32m███       \u001b[0m| 151/500 [03:13<07:41,  1.32s/it, acc=0.816, loss=0.547]"
     ]
    },
    {
     "name": "stdout",
     "output_type": "stream",
     "text": [
      "EarlyStopping counter: 1 out of 10\n"
     ]
    },
    {
     "name": "stderr",
     "output_type": "stream",
     "text": [
      "Classifier Training Epoch:  30%|\u001b[32m███       \u001b[0m| 152/500 [03:14<07:57,  1.37s/it, acc=0.852, loss=0.476]"
     ]
    },
    {
     "name": "stdout",
     "output_type": "stream",
     "text": [
      "EarlyStopping counter: 2 out of 10\n"
     ]
    },
    {
     "name": "stderr",
     "output_type": "stream",
     "text": [
      "Classifier Training Epoch:  31%|\u001b[32m███       \u001b[0m| 153/500 [03:16<07:58,  1.38s/it, acc=0.803, loss=0.693]"
     ]
    },
    {
     "name": "stdout",
     "output_type": "stream",
     "text": [
      "EarlyStopping counter: 3 out of 10\n"
     ]
    },
    {
     "name": "stderr",
     "output_type": "stream",
     "text": [
      "Classifier Training Epoch:  31%|\u001b[32m███       \u001b[0m| 154/500 [03:17<08:09,  1.42s/it, acc=0.832, loss=0.513]"
     ]
    },
    {
     "name": "stdout",
     "output_type": "stream",
     "text": [
      "EarlyStopping counter: 4 out of 10\n"
     ]
    },
    {
     "name": "stderr",
     "output_type": "stream",
     "text": [
      "Classifier Training Epoch:  31%|\u001b[32m███       \u001b[0m| 155/500 [03:19<08:31,  1.48s/it, acc=0.838, loss=0.563]"
     ]
    },
    {
     "name": "stdout",
     "output_type": "stream",
     "text": [
      "EarlyStopping counter: 5 out of 10\n"
     ]
    },
    {
     "name": "stderr",
     "output_type": "stream",
     "text": [
      "Classifier Training Epoch:  31%|\u001b[32m███       \u001b[0m| 156/500 [03:20<08:07,  1.42s/it, acc=0.859, loss=0.476]"
     ]
    },
    {
     "name": "stdout",
     "output_type": "stream",
     "text": [
      "EarlyStopping counter: 6 out of 10\n"
     ]
    },
    {
     "name": "stderr",
     "output_type": "stream",
     "text": [
      "Classifier Training Epoch:  31%|\u001b[32m███▏      \u001b[0m| 157/500 [03:22<07:55,  1.39s/it, acc=0.846, loss=0.466]"
     ]
    },
    {
     "name": "stdout",
     "output_type": "stream",
     "text": [
      "EarlyStopping counter: 7 out of 10\n"
     ]
    },
    {
     "name": "stderr",
     "output_type": "stream",
     "text": [
      "Classifier Training Epoch:  32%|\u001b[32m███▏      \u001b[0m| 158/500 [03:23<07:48,  1.37s/it, acc=0.832, loss=0.478]"
     ]
    },
    {
     "name": "stdout",
     "output_type": "stream",
     "text": [
      "EarlyStopping counter: 8 out of 10\n"
     ]
    },
    {
     "name": "stderr",
     "output_type": "stream",
     "text": [
      "Classifier Training Epoch:  32%|\u001b[32m███▏      \u001b[0m| 159/500 [03:24<07:48,  1.37s/it, acc=0.795, loss=0.7]  "
     ]
    },
    {
     "name": "stdout",
     "output_type": "stream",
     "text": [
      "EarlyStopping counter: 9 out of 10\n"
     ]
    },
    {
     "name": "stderr",
     "output_type": "stream",
     "text": [
      "Classifier Training Epoch:  32%|\u001b[32m███▏      \u001b[0m| 160/500 [03:25<07:28,  1.32s/it, acc=0.838, loss=0.398]"
     ]
    },
    {
     "name": "stdout",
     "output_type": "stream",
     "text": [
      "EarlyStopping counter: 10 out of 10\n"
     ]
    },
    {
     "name": "stderr",
     "output_type": "stream",
     "text": [
      "Classifier Training Epoch:  32%|\u001b[32m███▏      \u001b[0m| 161/500 [03:27<07:24,  1.31s/it, acc=0.904, loss=0.222]"
     ]
    },
    {
     "name": "stdout",
     "output_type": "stream",
     "text": [
      "EarlyStopping counter: 11 out of 10\n"
     ]
    },
    {
     "name": "stderr",
     "output_type": "stream",
     "text": [
      "Classifier Training Epoch:  32%|\u001b[32m███▏      \u001b[0m| 161/500 [03:28<07:24,  1.31s/it, acc=0.877, loss=0.261]"
     ]
    },
    {
     "name": "stdout",
     "output_type": "stream",
     "text": [
      "EarlyStopping counter: 12 out of 10\n"
     ]
    },
    {
     "name": "stderr",
     "output_type": "stream",
     "text": [
      "Classifier Training Epoch:  33%|\u001b[32m███▎      \u001b[0m| 164/500 [03:32<07:31,  1.34s/it, acc=0.881, loss=0.249]"
     ]
    },
    {
     "name": "stdout",
     "output_type": "stream",
     "text": [
      "EarlyStopping counter: 1 out of 10\n"
     ]
    },
    {
     "name": "stderr",
     "output_type": "stream",
     "text": [
      "Classifier Training Epoch:  33%|\u001b[32m███▎      \u001b[0m| 165/500 [03:33<07:25,  1.33s/it, acc=0.896, loss=0.26] "
     ]
    },
    {
     "name": "stdout",
     "output_type": "stream",
     "text": [
      "EarlyStopping counter: 2 out of 10\n"
     ]
    },
    {
     "name": "stderr",
     "output_type": "stream",
     "text": [
      "Classifier Training Epoch:  34%|\u001b[32m███▍      \u001b[0m| 172/500 [03:42<07:12,  1.32s/it, acc=0.895, loss=0.23] "
     ]
    },
    {
     "name": "stdout",
     "output_type": "stream",
     "text": [
      "EarlyStopping counter: 1 out of 10\n"
     ]
    },
    {
     "name": "stderr",
     "output_type": "stream",
     "text": [
      "Classifier Training Epoch:  35%|\u001b[32m███▍      \u001b[0m| 174/500 [03:45<07:03,  1.30s/it, acc=0.891, loss=0.231]"
     ]
    },
    {
     "name": "stdout",
     "output_type": "stream",
     "text": [
      "EarlyStopping counter: 1 out of 10\n"
     ]
    },
    {
     "name": "stderr",
     "output_type": "stream",
     "text": [
      "Classifier Training Epoch:  35%|\u001b[32m███▌      \u001b[0m| 176/500 [03:48<07:25,  1.37s/it, acc=0.904, loss=0.23] "
     ]
    },
    {
     "name": "stdout",
     "output_type": "stream",
     "text": [
      "EarlyStopping counter: 1 out of 10\n"
     ]
    },
    {
     "name": "stderr",
     "output_type": "stream",
     "text": [
      "Classifier Training Epoch:  36%|\u001b[32m███▌      \u001b[0m| 178/500 [03:50<07:09,  1.33s/it, acc=0.904, loss=0.228]"
     ]
    },
    {
     "name": "stdout",
     "output_type": "stream",
     "text": [
      "EarlyStopping counter: 1 out of 10\n"
     ]
    },
    {
     "name": "stderr",
     "output_type": "stream",
     "text": [
      "Classifier Training Epoch:  36%|\u001b[32m███▌      \u001b[0m| 179/500 [03:51<06:57,  1.30s/it, acc=0.906, loss=0.226]"
     ]
    },
    {
     "name": "stdout",
     "output_type": "stream",
     "text": [
      "EarlyStopping counter: 2 out of 10\n"
     ]
    },
    {
     "name": "stderr",
     "output_type": "stream",
     "text": [
      "Classifier Training Epoch:  36%|\u001b[32m███▌      \u001b[0m| 181/500 [03:54<07:00,  1.32s/it, acc=0.895, loss=0.236]"
     ]
    },
    {
     "name": "stdout",
     "output_type": "stream",
     "text": [
      "EarlyStopping counter: 1 out of 10\n"
     ]
    },
    {
     "name": "stderr",
     "output_type": "stream",
     "text": [
      "Classifier Training Epoch:  37%|\u001b[32m███▋      \u001b[0m| 184/500 [03:58<06:37,  1.26s/it, acc=0.91, loss=0.266] "
     ]
    },
    {
     "name": "stdout",
     "output_type": "stream",
     "text": [
      "EarlyStopping counter: 1 out of 10\n"
     ]
    },
    {
     "name": "stderr",
     "output_type": "stream",
     "text": [
      "Classifier Training Epoch:  37%|\u001b[32m███▋      \u001b[0m| 185/500 [03:59<06:34,  1.25s/it, acc=0.912, loss=0.262]"
     ]
    },
    {
     "name": "stdout",
     "output_type": "stream",
     "text": [
      "EarlyStopping counter: 2 out of 10\n"
     ]
    },
    {
     "name": "stderr",
     "output_type": "stream",
     "text": [
      "Classifier Training Epoch:  38%|\u001b[32m███▊      \u001b[0m| 188/500 [04:03<06:25,  1.23s/it, acc=0.879, loss=0.252]"
     ]
    },
    {
     "name": "stdout",
     "output_type": "stream",
     "text": [
      "EarlyStopping counter: 1 out of 10\n"
     ]
    },
    {
     "name": "stderr",
     "output_type": "stream",
     "text": [
      "Classifier Training Epoch:  39%|\u001b[32m███▊      \u001b[0m| 193/500 [04:09<06:15,  1.22s/it, acc=0.924, loss=0.221]"
     ]
    },
    {
     "name": "stdout",
     "output_type": "stream",
     "text": [
      "EarlyStopping counter: 1 out of 10\n"
     ]
    },
    {
     "name": "stderr",
     "output_type": "stream",
     "text": [
      "Classifier Training Epoch:  39%|\u001b[32m███▉      \u001b[0m| 196/500 [04:12<06:18,  1.25s/it, acc=0.889, loss=0.225]"
     ]
    },
    {
     "name": "stdout",
     "output_type": "stream",
     "text": [
      "EarlyStopping counter: 1 out of 10\n"
     ]
    },
    {
     "name": "stderr",
     "output_type": "stream",
     "text": [
      "Classifier Training Epoch:  40%|\u001b[32m████      \u001b[0m| 201/500 [04:19<06:41,  1.34s/it, acc=0.838, loss=0.395]"
     ]
    },
    {
     "name": "stdout",
     "output_type": "stream",
     "text": [
      "EarlyStopping counter: 1 out of 10\n"
     ]
    },
    {
     "name": "stderr",
     "output_type": "stream",
     "text": [
      "Classifier Training Epoch:  40%|\u001b[32m████      \u001b[0m| 202/500 [04:20<06:44,  1.36s/it, acc=0.867, loss=0.335]"
     ]
    },
    {
     "name": "stdout",
     "output_type": "stream",
     "text": [
      "EarlyStopping counter: 2 out of 10\n"
     ]
    },
    {
     "name": "stderr",
     "output_type": "stream",
     "text": [
      "Classifier Training Epoch:  41%|\u001b[32m████      \u001b[0m| 203/500 [04:21<06:56,  1.40s/it, acc=0.861, loss=0.316]"
     ]
    },
    {
     "name": "stdout",
     "output_type": "stream",
     "text": [
      "EarlyStopping counter: 3 out of 10\n"
     ]
    },
    {
     "name": "stderr",
     "output_type": "stream",
     "text": [
      "Classifier Training Epoch:  41%|\u001b[32m████      \u001b[0m| 204/500 [04:23<07:09,  1.45s/it, acc=0.838, loss=0.39] "
     ]
    },
    {
     "name": "stdout",
     "output_type": "stream",
     "text": [
      "EarlyStopping counter: 4 out of 10\n"
     ]
    },
    {
     "name": "stderr",
     "output_type": "stream",
     "text": [
      "Classifier Training Epoch:  41%|\u001b[32m████      \u001b[0m| 205/500 [04:24<06:58,  1.42s/it, acc=0.869, loss=0.324]"
     ]
    },
    {
     "name": "stdout",
     "output_type": "stream",
     "text": [
      "EarlyStopping counter: 5 out of 10\n"
     ]
    },
    {
     "name": "stderr",
     "output_type": "stream",
     "text": [
      "Classifier Training Epoch:  41%|\u001b[32m████      \u001b[0m| 206/500 [04:26<06:58,  1.42s/it, acc=0.855, loss=0.337]"
     ]
    },
    {
     "name": "stdout",
     "output_type": "stream",
     "text": [
      "EarlyStopping counter: 6 out of 10\n"
     ]
    },
    {
     "name": "stderr",
     "output_type": "stream",
     "text": [
      "Classifier Training Epoch:  41%|\u001b[32m████▏     \u001b[0m| 207/500 [04:27<06:46,  1.39s/it, acc=0.871, loss=0.32] "
     ]
    },
    {
     "name": "stdout",
     "output_type": "stream",
     "text": [
      "EarlyStopping counter: 7 out of 10\n"
     ]
    },
    {
     "name": "stderr",
     "output_type": "stream",
     "text": [
      "Classifier Training Epoch:  42%|\u001b[32m████▏     \u001b[0m| 208/500 [04:28<06:24,  1.32s/it, acc=0.869, loss=0.341]"
     ]
    },
    {
     "name": "stdout",
     "output_type": "stream",
     "text": [
      "EarlyStopping counter: 8 out of 10\n"
     ]
    },
    {
     "name": "stderr",
     "output_type": "stream",
     "text": [
      "Classifier Training Epoch:  42%|\u001b[32m████▏     \u001b[0m| 209/500 [04:30<06:38,  1.37s/it, acc=0.863, loss=0.364]"
     ]
    },
    {
     "name": "stdout",
     "output_type": "stream",
     "text": [
      "EarlyStopping counter: 9 out of 10\n"
     ]
    },
    {
     "name": "stderr",
     "output_type": "stream",
     "text": [
      "Classifier Training Epoch:  42%|\u001b[32m████▏     \u001b[0m| 210/500 [04:31<06:26,  1.33s/it, acc=0.855, loss=0.354]"
     ]
    },
    {
     "name": "stdout",
     "output_type": "stream",
     "text": [
      "EarlyStopping counter: 10 out of 10\n"
     ]
    },
    {
     "name": "stderr",
     "output_type": "stream",
     "text": [
      "Classifier Training Epoch:  42%|\u001b[32m████▏     \u001b[0m| 212/500 [04:33<06:09,  1.28s/it, acc=0.871, loss=0.282]"
     ]
    },
    {
     "name": "stdout",
     "output_type": "stream",
     "text": [
      "EarlyStopping counter: 1 out of 10\n"
     ]
    },
    {
     "name": "stderr",
     "output_type": "stream",
     "text": [
      "Classifier Training Epoch:  43%|\u001b[32m████▎     \u001b[0m| 215/500 [04:38<05:55,  1.25s/it, acc=0.885, loss=0.249]"
     ]
    },
    {
     "name": "stdout",
     "output_type": "stream",
     "text": [
      "EarlyStopping counter: 1 out of 10\n"
     ]
    },
    {
     "name": "stderr",
     "output_type": "stream",
     "text": [
      "Classifier Training Epoch:  44%|\u001b[32m████▎     \u001b[0m| 218/500 [04:42<05:50,  1.24s/it, acc=0.893, loss=0.237]"
     ]
    },
    {
     "name": "stdout",
     "output_type": "stream",
     "text": [
      "EarlyStopping counter: 1 out of 10\n"
     ]
    },
    {
     "name": "stderr",
     "output_type": "stream",
     "text": [
      "Classifier Training Epoch:  44%|\u001b[32m████▍     \u001b[0m| 219/500 [04:43<05:55,  1.27s/it, acc=0.895, loss=0.237]"
     ]
    },
    {
     "name": "stdout",
     "output_type": "stream",
     "text": [
      "EarlyStopping counter: 2 out of 10\n"
     ]
    },
    {
     "name": "stderr",
     "output_type": "stream",
     "text": [
      "Classifier Training Epoch:  44%|\u001b[32m████▍     \u001b[0m| 222/500 [04:47<05:48,  1.25s/it, acc=0.898, loss=0.24] "
     ]
    },
    {
     "name": "stdout",
     "output_type": "stream",
     "text": [
      "EarlyStopping counter: 1 out of 10\n"
     ]
    },
    {
     "name": "stderr",
     "output_type": "stream",
     "text": [
      "Classifier Training Epoch:  45%|\u001b[32m████▍     \u001b[0m| 224/500 [04:49<05:43,  1.25s/it, acc=0.9, loss=0.222]  "
     ]
    },
    {
     "name": "stdout",
     "output_type": "stream",
     "text": [
      "EarlyStopping counter: 1 out of 10\n"
     ]
    },
    {
     "name": "stderr",
     "output_type": "stream",
     "text": [
      "Classifier Training Epoch:  45%|\u001b[32m████▌     \u001b[0m| 225/500 [04:51<05:51,  1.28s/it, acc=0.885, loss=0.286]"
     ]
    },
    {
     "name": "stdout",
     "output_type": "stream",
     "text": [
      "EarlyStopping counter: 2 out of 10\n"
     ]
    },
    {
     "name": "stderr",
     "output_type": "stream",
     "text": [
      "Classifier Training Epoch:  45%|\u001b[32m████▌     \u001b[0m| 227/500 [04:53<05:46,  1.27s/it, acc=0.883, loss=0.281]"
     ]
    },
    {
     "name": "stdout",
     "output_type": "stream",
     "text": [
      "EarlyStopping counter: 1 out of 10\n"
     ]
    },
    {
     "name": "stderr",
     "output_type": "stream",
     "text": [
      "Classifier Training Epoch:  46%|\u001b[32m████▌     \u001b[0m| 229/500 [04:56<05:38,  1.25s/it, acc=0.906, loss=0.207]"
     ]
    },
    {
     "name": "stdout",
     "output_type": "stream",
     "text": [
      "EarlyStopping counter: 1 out of 10\n"
     ]
    },
    {
     "name": "stderr",
     "output_type": "stream",
     "text": [
      "Classifier Training Epoch:  46%|\u001b[32m████▌     \u001b[0m| 230/500 [04:57<05:40,  1.26s/it, acc=0.904, loss=0.207]"
     ]
    },
    {
     "name": "stdout",
     "output_type": "stream",
     "text": [
      "EarlyStopping counter: 2 out of 10\n"
     ]
    },
    {
     "name": "stderr",
     "output_type": "stream",
     "text": [
      "Classifier Training Epoch:  46%|\u001b[32m████▋     \u001b[0m| 232/500 [04:59<05:36,  1.26s/it, acc=0.898, loss=0.221]"
     ]
    },
    {
     "name": "stdout",
     "output_type": "stream",
     "text": [
      "EarlyStopping counter: 1 out of 10\n"
     ]
    },
    {
     "name": "stderr",
     "output_type": "stream",
     "text": [
      "Classifier Training Epoch:  47%|\u001b[32m████▋     \u001b[0m| 233/500 [05:01<05:42,  1.28s/it, acc=0.906, loss=0.217]"
     ]
    },
    {
     "name": "stdout",
     "output_type": "stream",
     "text": [
      "EarlyStopping counter: 2 out of 10\n"
     ]
    },
    {
     "name": "stderr",
     "output_type": "stream",
     "text": [
      "Classifier Training Epoch:  47%|\u001b[32m████▋     \u001b[0m| 235/500 [05:03<05:35,  1.26s/it, acc=0.918, loss=0.211]"
     ]
    },
    {
     "name": "stdout",
     "output_type": "stream",
     "text": [
      "EarlyStopping counter: 1 out of 10\n"
     ]
    },
    {
     "name": "stderr",
     "output_type": "stream",
     "text": [
      "Classifier Training Epoch:  47%|\u001b[32m████▋     \u001b[0m| 236/500 [05:04<05:30,  1.25s/it, acc=0.92, loss=0.208] "
     ]
    },
    {
     "name": "stdout",
     "output_type": "stream",
     "text": [
      "EarlyStopping counter: 2 out of 10\n"
     ]
    },
    {
     "name": "stderr",
     "output_type": "stream",
     "text": [
      "Classifier Training Epoch:  47%|\u001b[32m████▋     \u001b[0m| 237/500 [05:06<05:29,  1.25s/it, acc=0.9, loss=0.224]  "
     ]
    },
    {
     "name": "stdout",
     "output_type": "stream",
     "text": [
      "EarlyStopping counter: 3 out of 10\n"
     ]
    },
    {
     "name": "stderr",
     "output_type": "stream",
     "text": [
      "Classifier Training Epoch:  48%|\u001b[32m████▊     \u001b[0m| 240/500 [05:09<05:14,  1.21s/it, acc=0.893, loss=0.224]"
     ]
    },
    {
     "name": "stdout",
     "output_type": "stream",
     "text": [
      "EarlyStopping counter: 1 out of 10\n"
     ]
    },
    {
     "name": "stderr",
     "output_type": "stream",
     "text": [
      "Classifier Training Epoch:  48%|\u001b[32m████▊     \u001b[0m| 241/500 [05:10<05:16,  1.22s/it, acc=0.883, loss=0.24] "
     ]
    },
    {
     "name": "stdout",
     "output_type": "stream",
     "text": [
      "EarlyStopping counter: 2 out of 10\n"
     ]
    },
    {
     "name": "stderr",
     "output_type": "stream",
     "text": [
      "Classifier Training Epoch:  48%|\u001b[32m████▊     \u001b[0m| 242/500 [05:12<05:21,  1.25s/it, acc=0.898, loss=0.215]"
     ]
    },
    {
     "name": "stdout",
     "output_type": "stream",
     "text": [
      "EarlyStopping counter: 3 out of 10\n"
     ]
    },
    {
     "name": "stderr",
     "output_type": "stream",
     "text": [
      "Classifier Training Epoch:  50%|\u001b[32m█████     \u001b[0m| 250/500 [05:21<05:43,  1.37s/it, acc=0.879, loss=0.28] "
     ]
    },
    {
     "name": "stdout",
     "output_type": "stream",
     "text": [
      "EarlyStopping counter: 1 out of 10\n"
     ]
    },
    {
     "name": "stderr",
     "output_type": "stream",
     "text": [
      "Classifier Training Epoch:  50%|\u001b[32m█████     \u001b[0m| 251/500 [05:23<05:36,  1.35s/it, acc=0.857, loss=0.318]"
     ]
    },
    {
     "name": "stdout",
     "output_type": "stream",
     "text": [
      "EarlyStopping counter: 2 out of 10\n"
     ]
    },
    {
     "name": "stderr",
     "output_type": "stream",
     "text": [
      "Classifier Training Epoch:  50%|\u001b[32m█████     \u001b[0m| 252/500 [05:24<05:35,  1.35s/it, acc=0.84, loss=0.37]  "
     ]
    },
    {
     "name": "stdout",
     "output_type": "stream",
     "text": [
      "EarlyStopping counter: 3 out of 10\n"
     ]
    },
    {
     "name": "stderr",
     "output_type": "stream",
     "text": [
      "Classifier Training Epoch:  51%|\u001b[32m█████     \u001b[0m| 253/500 [05:25<05:22,  1.31s/it, acc=0.846, loss=0.384]"
     ]
    },
    {
     "name": "stdout",
     "output_type": "stream",
     "text": [
      "EarlyStopping counter: 4 out of 10\n"
     ]
    },
    {
     "name": "stderr",
     "output_type": "stream",
     "text": [
      "Classifier Training Epoch:  51%|\u001b[32m█████     \u001b[0m| 254/500 [05:27<05:34,  1.36s/it, acc=0.869, loss=0.281]"
     ]
    },
    {
     "name": "stdout",
     "output_type": "stream",
     "text": [
      "EarlyStopping counter: 5 out of 10\n"
     ]
    },
    {
     "name": "stderr",
     "output_type": "stream",
     "text": [
      "Classifier Training Epoch:  51%|\u001b[32m█████     \u001b[0m| 255/500 [05:28<05:40,  1.39s/it, acc=0.863, loss=0.277]"
     ]
    },
    {
     "name": "stdout",
     "output_type": "stream",
     "text": [
      "EarlyStopping counter: 6 out of 10\n"
     ]
    },
    {
     "name": "stderr",
     "output_type": "stream",
     "text": [
      "Classifier Training Epoch:  51%|\u001b[32m█████     \u001b[0m| 256/500 [05:30<05:57,  1.47s/it, acc=0.871, loss=0.303]"
     ]
    },
    {
     "name": "stdout",
     "output_type": "stream",
     "text": [
      "EarlyStopping counter: 7 out of 10\n"
     ]
    },
    {
     "name": "stderr",
     "output_type": "stream",
     "text": [
      "Classifier Training Epoch:  51%|\u001b[32m█████▏    \u001b[0m| 257/500 [05:31<05:49,  1.44s/it, acc=0.852, loss=0.368]"
     ]
    },
    {
     "name": "stdout",
     "output_type": "stream",
     "text": [
      "EarlyStopping counter: 8 out of 10\n"
     ]
    },
    {
     "name": "stderr",
     "output_type": "stream",
     "text": [
      "Classifier Training Epoch:  52%|\u001b[32m█████▏    \u001b[0m| 258/500 [05:33<05:47,  1.44s/it, acc=0.861, loss=0.279]"
     ]
    },
    {
     "name": "stdout",
     "output_type": "stream",
     "text": [
      "EarlyStopping counter: 9 out of 10\n"
     ]
    },
    {
     "name": "stderr",
     "output_type": "stream",
     "text": [
      "Classifier Training Epoch:  52%|\u001b[32m█████▏    \u001b[0m| 259/500 [05:34<05:41,  1.42s/it, acc=0.818, loss=0.367]"
     ]
    },
    {
     "name": "stdout",
     "output_type": "stream",
     "text": [
      "EarlyStopping counter: 10 out of 10\n"
     ]
    },
    {
     "name": "stderr",
     "output_type": "stream",
     "text": [
      "Classifier Training Epoch:  52%|\u001b[32m█████▏    \u001b[0m| 260/500 [05:35<05:33,  1.39s/it, acc=0.877, loss=0.3]  "
     ]
    },
    {
     "name": "stdout",
     "output_type": "stream",
     "text": [
      "EarlyStopping counter: 11 out of 10\n"
     ]
    },
    {
     "name": "stderr",
     "output_type": "stream",
     "text": [
      "Classifier Training Epoch:  53%|\u001b[32m█████▎    \u001b[0m| 263/500 [05:41<05:21,  1.36s/it, acc=0.9, loss=0.243]  "
     ]
    },
    {
     "name": "stdout",
     "output_type": "stream",
     "text": [
      "EarlyStopping counter: 1 out of 10\n"
     ]
    },
    {
     "name": "stderr",
     "output_type": "stream",
     "text": [
      "Classifier Training Epoch:  54%|\u001b[32m█████▍    \u001b[0m| 270/500 [05:50<04:53,  1.28s/it, acc=0.904, loss=0.234]"
     ]
    },
    {
     "name": "stdout",
     "output_type": "stream",
     "text": [
      "EarlyStopping counter: 1 out of 10\n"
     ]
    },
    {
     "name": "stderr",
     "output_type": "stream",
     "text": [
      "Classifier Training Epoch:  55%|\u001b[32m█████▍    \u001b[0m| 273/500 [05:53<04:52,  1.29s/it, acc=0.91, loss=0.201] "
     ]
    },
    {
     "name": "stdout",
     "output_type": "stream",
     "text": [
      "EarlyStopping counter: 1 out of 10\n"
     ]
    },
    {
     "name": "stderr",
     "output_type": "stream",
     "text": [
      "Classifier Training Epoch:  55%|\u001b[32m█████▌    \u001b[0m| 276/500 [05:57<04:37,  1.24s/it, acc=0.9, loss=0.218]  "
     ]
    },
    {
     "name": "stdout",
     "output_type": "stream",
     "text": [
      "EarlyStopping counter: 1 out of 10\n"
     ]
    },
    {
     "name": "stderr",
     "output_type": "stream",
     "text": [
      "Classifier Training Epoch:  55%|\u001b[32m█████▌    \u001b[0m| 277/500 [05:58<04:37,  1.24s/it, acc=0.896, loss=0.236]"
     ]
    },
    {
     "name": "stdout",
     "output_type": "stream",
     "text": [
      "EarlyStopping counter: 2 out of 10\n"
     ]
    },
    {
     "name": "stderr",
     "output_type": "stream",
     "text": [
      "Classifier Training Epoch:  56%|\u001b[32m█████▌    \u001b[0m| 278/500 [05:59<04:40,  1.26s/it, acc=0.898, loss=0.216]"
     ]
    },
    {
     "name": "stdout",
     "output_type": "stream",
     "text": [
      "EarlyStopping counter: 3 out of 10\n"
     ]
    },
    {
     "name": "stderr",
     "output_type": "stream",
     "text": [
      "Classifier Training Epoch:  56%|\u001b[32m█████▌    \u001b[0m| 279/500 [06:01<04:41,  1.27s/it, acc=0.9, loss=0.236]  "
     ]
    },
    {
     "name": "stdout",
     "output_type": "stream",
     "text": [
      "EarlyStopping counter: 4 out of 10\n"
     ]
    },
    {
     "name": "stderr",
     "output_type": "stream",
     "text": [
      "Classifier Training Epoch:  56%|\u001b[32m█████▌    \u001b[0m| 280/500 [06:02<04:39,  1.27s/it, acc=0.902, loss=0.202]"
     ]
    },
    {
     "name": "stdout",
     "output_type": "stream",
     "text": [
      "EarlyStopping counter: 5 out of 10\n"
     ]
    },
    {
     "name": "stderr",
     "output_type": "stream",
     "text": [
      "Classifier Training Epoch:  57%|\u001b[32m█████▋    \u001b[0m| 283/500 [06:06<04:28,  1.24s/it, acc=0.9, loss=0.219]  "
     ]
    },
    {
     "name": "stdout",
     "output_type": "stream",
     "text": [
      "EarlyStopping counter: 1 out of 10\n"
     ]
    },
    {
     "name": "stderr",
     "output_type": "stream",
     "text": [
      "Classifier Training Epoch:  57%|\u001b[32m█████▋    \u001b[0m| 284/500 [06:07<04:26,  1.24s/it, acc=0.91, loss=0.211] "
     ]
    },
    {
     "name": "stdout",
     "output_type": "stream",
     "text": [
      "EarlyStopping counter: 2 out of 10\n"
     ]
    },
    {
     "name": "stderr",
     "output_type": "stream",
     "text": [
      "Classifier Training Epoch:  57%|\u001b[32m█████▋    \u001b[0m| 286/500 [06:09<04:22,  1.23s/it, acc=0.916, loss=0.204]"
     ]
    },
    {
     "name": "stdout",
     "output_type": "stream",
     "text": [
      "EarlyStopping counter: 1 out of 10\n"
     ]
    },
    {
     "name": "stderr",
     "output_type": "stream",
     "text": [
      "Classifier Training Epoch:  57%|\u001b[32m█████▋    \u001b[0m| 287/500 [06:11<04:29,  1.26s/it, acc=0.9, loss=0.219]  "
     ]
    },
    {
     "name": "stdout",
     "output_type": "stream",
     "text": [
      "EarlyStopping counter: 2 out of 10\n"
     ]
    },
    {
     "name": "stderr",
     "output_type": "stream",
     "text": [
      "Classifier Training Epoch:  58%|\u001b[32m█████▊    \u001b[0m| 288/500 [06:12<04:29,  1.27s/it, acc=0.883, loss=0.239]"
     ]
    },
    {
     "name": "stdout",
     "output_type": "stream",
     "text": [
      "EarlyStopping counter: 3 out of 10\n"
     ]
    },
    {
     "name": "stderr",
     "output_type": "stream",
     "text": [
      "Classifier Training Epoch:  58%|\u001b[32m█████▊    \u001b[0m| 292/500 [06:18<04:58,  1.43s/it, acc=0.895, loss=0.221]"
     ]
    },
    {
     "name": "stdout",
     "output_type": "stream",
     "text": [
      "EarlyStopping counter: 1 out of 10\n"
     ]
    },
    {
     "name": "stderr",
     "output_type": "stream",
     "text": [
      "Classifier Training Epoch:  59%|\u001b[32m█████▉    \u001b[0m| 294/500 [06:20<04:47,  1.40s/it, acc=0.895, loss=0.219]"
     ]
    },
    {
     "name": "stdout",
     "output_type": "stream",
     "text": [
      "EarlyStopping counter: 1 out of 10\n"
     ]
    },
    {
     "name": "stderr",
     "output_type": "stream",
     "text": [
      "Classifier Training Epoch:  59%|\u001b[32m█████▉    \u001b[0m| 295/500 [06:21<04:39,  1.36s/it, acc=0.924, loss=0.202]"
     ]
    },
    {
     "name": "stdout",
     "output_type": "stream",
     "text": [
      "EarlyStopping counter: 2 out of 10\n"
     ]
    },
    {
     "name": "stderr",
     "output_type": "stream",
     "text": [
      "Classifier Training Epoch:  59%|\u001b[32m█████▉    \u001b[0m| 296/500 [06:23<04:33,  1.34s/it, acc=0.926, loss=0.2]  "
     ]
    },
    {
     "name": "stdout",
     "output_type": "stream",
     "text": [
      "EarlyStopping counter: 3 out of 10\n"
     ]
    },
    {
     "name": "stderr",
     "output_type": "stream",
     "text": [
      "Classifier Training Epoch:  59%|\u001b[32m█████▉    \u001b[0m| 297/500 [06:24<04:20,  1.29s/it, acc=0.893, loss=0.216]"
     ]
    },
    {
     "name": "stdout",
     "output_type": "stream",
     "text": [
      "EarlyStopping counter: 4 out of 10\n"
     ]
    },
    {
     "name": "stderr",
     "output_type": "stream",
     "text": [
      "Classifier Training Epoch:  60%|\u001b[32m█████▉    \u001b[0m| 298/500 [06:26<04:19,  1.28s/it, acc=0.895, loss=0.223]"
     ]
    },
    {
     "name": "stdout",
     "output_type": "stream",
     "text": [
      "EarlyStopping counter: 5 out of 10\n"
     ]
    },
    {
     "name": "stderr",
     "output_type": "stream",
     "text": [
      "Classifier Training Epoch:  60%|\u001b[32m█████▉    \u001b[0m| 299/500 [06:27<04:53,  1.46s/it, acc=0.938, loss=0.177]"
     ]
    },
    {
     "name": "stdout",
     "output_type": "stream",
     "text": [
      "EarlyStopping counter: 6 out of 10\n"
     ]
    },
    {
     "name": "stderr",
     "output_type": "stream",
     "text": [
      "Classifier Training Epoch:  60%|\u001b[32m██████    \u001b[0m| 300/500 [06:29<05:27,  1.64s/it, acc=0.885, loss=0.265]"
     ]
    },
    {
     "name": "stdout",
     "output_type": "stream",
     "text": [
      "EarlyStopping counter: 7 out of 10\n"
     ]
    },
    {
     "name": "stderr",
     "output_type": "stream",
     "text": [
      "Classifier Training Epoch:  60%|\u001b[32m██████    \u001b[0m| 301/500 [06:30<05:17,  1.60s/it, acc=0.902, loss=0.261]"
     ]
    },
    {
     "name": "stdout",
     "output_type": "stream",
     "text": [
      "EarlyStopping counter: 8 out of 10\n"
     ]
    },
    {
     "name": "stderr",
     "output_type": "stream",
     "text": [
      "Classifier Training Epoch:  60%|\u001b[32m██████    \u001b[0m| 302/500 [06:31<05:00,  1.52s/it, acc=0.877, loss=0.279]"
     ]
    },
    {
     "name": "stdout",
     "output_type": "stream",
     "text": [
      "EarlyStopping counter: 9 out of 10\n"
     ]
    },
    {
     "name": "stderr",
     "output_type": "stream",
     "text": [
      "Classifier Training Epoch:  61%|\u001b[32m██████    \u001b[0m| 303/500 [06:33<04:59,  1.52s/it, acc=0.852, loss=0.352]"
     ]
    },
    {
     "name": "stdout",
     "output_type": "stream",
     "text": [
      "EarlyStopping counter: 10 out of 10\n"
     ]
    },
    {
     "name": "stderr",
     "output_type": "stream",
     "text": [
      "Classifier Training Epoch:  61%|\u001b[32m██████    \u001b[0m| 304/500 [06:34<04:52,  1.49s/it, acc=0.844, loss=0.333]"
     ]
    },
    {
     "name": "stdout",
     "output_type": "stream",
     "text": [
      "EarlyStopping counter: 11 out of 10\n"
     ]
    },
    {
     "name": "stderr",
     "output_type": "stream",
     "text": [
      "Classifier Training Epoch:  61%|\u001b[32m██████    \u001b[0m| 305/500 [06:36<04:45,  1.47s/it, acc=0.857, loss=0.297]"
     ]
    },
    {
     "name": "stdout",
     "output_type": "stream",
     "text": [
      "EarlyStopping counter: 12 out of 10\n"
     ]
    },
    {
     "name": "stderr",
     "output_type": "stream",
     "text": [
      "Classifier Training Epoch:  61%|\u001b[32m██████    \u001b[0m| 306/500 [06:37<04:41,  1.45s/it, acc=0.857, loss=0.293]"
     ]
    },
    {
     "name": "stdout",
     "output_type": "stream",
     "text": [
      "EarlyStopping counter: 13 out of 10\n"
     ]
    },
    {
     "name": "stderr",
     "output_type": "stream",
     "text": [
      "Classifier Training Epoch:  61%|\u001b[32m██████▏   \u001b[0m| 307/500 [06:38<04:33,  1.42s/it, acc=0.875, loss=0.289]"
     ]
    },
    {
     "name": "stdout",
     "output_type": "stream",
     "text": [
      "EarlyStopping counter: 14 out of 10\n"
     ]
    },
    {
     "name": "stderr",
     "output_type": "stream",
     "text": [
      "Classifier Training Epoch:  62%|\u001b[32m██████▏   \u001b[0m| 308/500 [06:40<04:26,  1.39s/it, acc=0.875, loss=0.273]"
     ]
    },
    {
     "name": "stdout",
     "output_type": "stream",
     "text": [
      "EarlyStopping counter: 15 out of 10\n"
     ]
    },
    {
     "name": "stderr",
     "output_type": "stream",
     "text": [
      "Classifier Training Epoch:  62%|\u001b[32m██████▏   \u001b[0m| 309/500 [06:41<04:17,  1.35s/it, acc=0.854, loss=0.324]"
     ]
    },
    {
     "name": "stdout",
     "output_type": "stream",
     "text": [
      "EarlyStopping counter: 16 out of 10\n"
     ]
    },
    {
     "name": "stderr",
     "output_type": "stream",
     "text": [
      "Classifier Training Epoch:  62%|\u001b[32m██████▏   \u001b[0m| 310/500 [06:42<04:15,  1.34s/it, acc=0.879, loss=0.281]"
     ]
    },
    {
     "name": "stdout",
     "output_type": "stream",
     "text": [
      "EarlyStopping counter: 17 out of 10\n"
     ]
    },
    {
     "name": "stderr",
     "output_type": "stream",
     "text": [
      "Classifier Training Epoch:  62%|\u001b[32m██████▏   \u001b[0m| 310/500 [06:44<04:15,  1.34s/it, acc=0.906, loss=0.219]"
     ]
    },
    {
     "name": "stdout",
     "output_type": "stream",
     "text": [
      "EarlyStopping counter: 18 out of 10\n"
     ]
    },
    {
     "name": "stderr",
     "output_type": "stream",
     "text": [
      "Classifier Training Epoch:  62%|\u001b[32m██████▏   \u001b[0m| 311/500 [06:45<04:11,  1.33s/it, acc=0.898, loss=0.202]"
     ]
    },
    {
     "name": "stdout",
     "output_type": "stream",
     "text": [
      "EarlyStopping counter: 19 out of 10\n"
     ]
    },
    {
     "name": "stderr",
     "output_type": "stream",
     "text": [
      "Classifier Training Epoch:  62%|\u001b[32m██████▏   \u001b[0m| 312/500 [06:46<04:12,  1.34s/it, acc=0.902, loss=0.201]"
     ]
    },
    {
     "name": "stdout",
     "output_type": "stream",
     "text": [
      "EarlyStopping counter: 20 out of 10\n"
     ]
    },
    {
     "name": "stderr",
     "output_type": "stream",
     "text": [
      "Classifier Training Epoch:  63%|\u001b[32m██████▎   \u001b[0m| 313/500 [06:48<04:11,  1.35s/it, acc=0.9, loss=0.24]   "
     ]
    },
    {
     "name": "stdout",
     "output_type": "stream",
     "text": [
      "EarlyStopping counter: 21 out of 10\n"
     ]
    },
    {
     "name": "stderr",
     "output_type": "stream",
     "text": [
      "Classifier Training Epoch:  63%|\u001b[32m██████▎   \u001b[0m| 314/500 [06:49<04:08,  1.34s/it, acc=0.9, loss=0.239]  "
     ]
    },
    {
     "name": "stdout",
     "output_type": "stream",
     "text": [
      "EarlyStopping counter: 22 out of 10\n"
     ]
    },
    {
     "name": "stderr",
     "output_type": "stream",
     "text": [
      "Classifier Training Epoch:  63%|\u001b[32m██████▎   \u001b[0m| 316/500 [06:52<04:08,  1.35s/it, acc=0.906, loss=0.215]"
     ]
    },
    {
     "name": "stdout",
     "output_type": "stream",
     "text": [
      "EarlyStopping counter: 1 out of 10\n"
     ]
    },
    {
     "name": "stderr",
     "output_type": "stream",
     "text": [
      "Classifier Training Epoch:  64%|\u001b[32m██████▍   \u001b[0m| 319/500 [06:55<03:53,  1.29s/it, acc=0.896, loss=0.229]"
     ]
    },
    {
     "name": "stdout",
     "output_type": "stream",
     "text": [
      "EarlyStopping counter: 1 out of 10\n"
     ]
    },
    {
     "name": "stderr",
     "output_type": "stream",
     "text": [
      "Classifier Training Epoch:  64%|\u001b[32m██████▍   \u001b[0m| 321/500 [06:58<03:49,  1.28s/it, acc=0.912, loss=0.23] "
     ]
    },
    {
     "name": "stdout",
     "output_type": "stream",
     "text": [
      "EarlyStopping counter: 1 out of 10\n"
     ]
    },
    {
     "name": "stderr",
     "output_type": "stream",
     "text": [
      "Classifier Training Epoch:  64%|\u001b[32m██████▍   \u001b[0m| 322/500 [06:59<03:50,  1.29s/it, acc=0.912, loss=0.23] "
     ]
    },
    {
     "name": "stdout",
     "output_type": "stream",
     "text": [
      "EarlyStopping counter: 2 out of 10\n"
     ]
    },
    {
     "name": "stderr",
     "output_type": "stream",
     "text": [
      "Classifier Training Epoch:  65%|\u001b[32m██████▍   \u001b[0m| 323/500 [07:01<03:55,  1.33s/it, acc=0.914, loss=0.201]"
     ]
    },
    {
     "name": "stdout",
     "output_type": "stream",
     "text": [
      "EarlyStopping counter: 3 out of 10\n"
     ]
    },
    {
     "name": "stderr",
     "output_type": "stream",
     "text": [
      "Classifier Training Epoch:  65%|\u001b[32m██████▍   \u001b[0m| 324/500 [07:02<03:53,  1.33s/it, acc=0.906, loss=0.216]"
     ]
    },
    {
     "name": "stdout",
     "output_type": "stream",
     "text": [
      "EarlyStopping counter: 4 out of 10\n"
     ]
    },
    {
     "name": "stderr",
     "output_type": "stream",
     "text": [
      "Classifier Training Epoch:  65%|\u001b[32m██████▌   \u001b[0m| 326/500 [07:04<03:42,  1.28s/it, acc=0.891, loss=0.25] "
     ]
    },
    {
     "name": "stdout",
     "output_type": "stream",
     "text": [
      "EarlyStopping counter: 1 out of 10\n"
     ]
    },
    {
     "name": "stderr",
     "output_type": "stream",
     "text": [
      "Classifier Training Epoch:  65%|\u001b[32m██████▌   \u001b[0m| 327/500 [07:06<03:41,  1.28s/it, acc=0.912, loss=0.2]  "
     ]
    },
    {
     "name": "stdout",
     "output_type": "stream",
     "text": [
      "EarlyStopping counter: 2 out of 10\n"
     ]
    },
    {
     "name": "stderr",
     "output_type": "stream",
     "text": [
      "Classifier Training Epoch:  66%|\u001b[32m██████▌   \u001b[0m| 328/500 [07:07<03:35,  1.25s/it, acc=0.902, loss=0.201]"
     ]
    },
    {
     "name": "stdout",
     "output_type": "stream",
     "text": [
      "EarlyStopping counter: 3 out of 10\n"
     ]
    },
    {
     "name": "stderr",
     "output_type": "stream",
     "text": [
      "Classifier Training Epoch:  66%|\u001b[32m██████▌   \u001b[0m| 329/500 [07:08<03:32,  1.24s/it, acc=0.902, loss=0.23] "
     ]
    },
    {
     "name": "stdout",
     "output_type": "stream",
     "text": [
      "EarlyStopping counter: 4 out of 10\n"
     ]
    },
    {
     "name": "stderr",
     "output_type": "stream",
     "text": [
      "Classifier Training Epoch:  66%|\u001b[32m██████▌   \u001b[0m| 330/500 [07:09<03:32,  1.25s/it, acc=0.908, loss=0.198]"
     ]
    },
    {
     "name": "stdout",
     "output_type": "stream",
     "text": [
      "EarlyStopping counter: 5 out of 10\n"
     ]
    },
    {
     "name": "stderr",
     "output_type": "stream",
     "text": [
      "Classifier Training Epoch:  66%|\u001b[32m██████▋   \u001b[0m| 332/500 [07:12<03:33,  1.27s/it, acc=0.896, loss=0.218]"
     ]
    },
    {
     "name": "stdout",
     "output_type": "stream",
     "text": [
      "EarlyStopping counter: 1 out of 10\n"
     ]
    },
    {
     "name": "stderr",
     "output_type": "stream",
     "text": [
      "Classifier Training Epoch:  67%|\u001b[32m██████▋   \u001b[0m| 333/500 [07:13<03:33,  1.28s/it, acc=0.92, loss=0.203] "
     ]
    },
    {
     "name": "stdout",
     "output_type": "stream",
     "text": [
      "EarlyStopping counter: 2 out of 10\n"
     ]
    },
    {
     "name": "stderr",
     "output_type": "stream",
     "text": [
      "Classifier Training Epoch:  67%|\u001b[32m██████▋   \u001b[0m| 335/500 [07:16<03:29,  1.27s/it, acc=0.922, loss=0.203]"
     ]
    },
    {
     "name": "stdout",
     "output_type": "stream",
     "text": [
      "EarlyStopping counter: 1 out of 10\n"
     ]
    },
    {
     "name": "stderr",
     "output_type": "stream",
     "text": [
      "Classifier Training Epoch:  67%|\u001b[32m██████▋   \u001b[0m| 336/500 [07:17<03:28,  1.27s/it, acc=0.922, loss=0.202]"
     ]
    },
    {
     "name": "stdout",
     "output_type": "stream",
     "text": [
      "EarlyStopping counter: 2 out of 10\n"
     ]
    },
    {
     "name": "stderr",
     "output_type": "stream",
     "text": [
      "Classifier Training Epoch:  68%|\u001b[32m██████▊   \u001b[0m| 338/500 [07:19<03:20,  1.24s/it, acc=0.912, loss=0.203]"
     ]
    },
    {
     "name": "stdout",
     "output_type": "stream",
     "text": [
      "EarlyStopping counter: 1 out of 10\n"
     ]
    },
    {
     "name": "stderr",
     "output_type": "stream",
     "text": [
      "Classifier Training Epoch:  68%|\u001b[32m██████▊   \u001b[0m| 340/500 [07:22<03:19,  1.25s/it, acc=0.912, loss=0.203]"
     ]
    },
    {
     "name": "stdout",
     "output_type": "stream",
     "text": [
      "EarlyStopping counter: 1 out of 10\n"
     ]
    },
    {
     "name": "stderr",
     "output_type": "stream",
     "text": [
      "Classifier Training Epoch:  68%|\u001b[32m██████▊   \u001b[0m| 341/500 [07:23<03:18,  1.25s/it, acc=0.914, loss=0.202]"
     ]
    },
    {
     "name": "stdout",
     "output_type": "stream",
     "text": [
      "EarlyStopping counter: 2 out of 10\n"
     ]
    },
    {
     "name": "stderr",
     "output_type": "stream",
     "text": [
      "Classifier Training Epoch:  69%|\u001b[32m██████▊   \u001b[0m| 343/500 [07:25<03:14,  1.24s/it, acc=0.902, loss=0.223]"
     ]
    },
    {
     "name": "stdout",
     "output_type": "stream",
     "text": [
      "EarlyStopping counter: 1 out of 10\n"
     ]
    },
    {
     "name": "stderr",
     "output_type": "stream",
     "text": [
      "Classifier Training Epoch:  69%|\u001b[32m██████▉   \u001b[0m| 344/500 [07:27<03:13,  1.24s/it, acc=0.918, loss=0.199]"
     ]
    },
    {
     "name": "stdout",
     "output_type": "stream",
     "text": [
      "EarlyStopping counter: 2 out of 10\n"
     ]
    },
    {
     "name": "stderr",
     "output_type": "stream",
     "text": [
      "Classifier Training Epoch:  69%|\u001b[32m██████▉   \u001b[0m| 345/500 [07:28<03:11,  1.24s/it, acc=0.939, loss=0.179]"
     ]
    },
    {
     "name": "stdout",
     "output_type": "stream",
     "text": [
      "EarlyStopping counter: 3 out of 10\n"
     ]
    },
    {
     "name": "stderr",
     "output_type": "stream",
     "text": [
      "Classifier Training Epoch:  69%|\u001b[32m██████▉   \u001b[0m| 346/500 [07:29<03:10,  1.24s/it, acc=0.932, loss=0.18] "
     ]
    },
    {
     "name": "stdout",
     "output_type": "stream",
     "text": [
      "EarlyStopping counter: 4 out of 10\n"
     ]
    },
    {
     "name": "stderr",
     "output_type": "stream",
     "text": [
      "Classifier Training Epoch:  69%|\u001b[32m██████▉   \u001b[0m| 347/500 [07:30<03:14,  1.27s/it, acc=0.939, loss=0.176]"
     ]
    },
    {
     "name": "stdout",
     "output_type": "stream",
     "text": [
      "EarlyStopping counter: 5 out of 10\n"
     ]
    },
    {
     "name": "stderr",
     "output_type": "stream",
     "text": [
      "Classifier Training Epoch:  70%|\u001b[32m██████▉   \u001b[0m| 348/500 [07:32<03:19,  1.31s/it, acc=0.902, loss=0.205]"
     ]
    },
    {
     "name": "stdout",
     "output_type": "stream",
     "text": [
      "EarlyStopping counter: 6 out of 10\n"
     ]
    },
    {
     "name": "stderr",
     "output_type": "stream",
     "text": [
      "Classifier Training Epoch:  70%|\u001b[32m██████▉   \u001b[0m| 349/500 [07:33<03:12,  1.28s/it, acc=0.932, loss=0.179]"
     ]
    },
    {
     "name": "stdout",
     "output_type": "stream",
     "text": [
      "EarlyStopping counter: 7 out of 10\n"
     ]
    },
    {
     "name": "stderr",
     "output_type": "stream",
     "text": [
      "Classifier Training Epoch:  70%|\u001b[32m███████   \u001b[0m| 350/500 [07:34<03:27,  1.38s/it, acc=0.855, loss=0.276]"
     ]
    },
    {
     "name": "stdout",
     "output_type": "stream",
     "text": [
      "EarlyStopping counter: 8 out of 10\n"
     ]
    },
    {
     "name": "stderr",
     "output_type": "stream",
     "text": [
      "Classifier Training Epoch:  70%|\u001b[32m███████   \u001b[0m| 351/500 [07:35<03:28,  1.40s/it, acc=0.869, loss=0.269]"
     ]
    },
    {
     "name": "stdout",
     "output_type": "stream",
     "text": [
      "EarlyStopping counter: 9 out of 10\n"
     ]
    },
    {
     "name": "stderr",
     "output_type": "stream",
     "text": [
      "Classifier Training Epoch:  70%|\u001b[32m███████   \u001b[0m| 352/500 [07:37<03:26,  1.40s/it, acc=0.865, loss=0.288]"
     ]
    },
    {
     "name": "stdout",
     "output_type": "stream",
     "text": [
      "EarlyStopping counter: 10 out of 10\n"
     ]
    },
    {
     "name": "stderr",
     "output_type": "stream",
     "text": [
      "Classifier Training Epoch:  71%|\u001b[32m███████   \u001b[0m| 353/500 [07:38<03:24,  1.39s/it, acc=0.865, loss=0.302]"
     ]
    },
    {
     "name": "stdout",
     "output_type": "stream",
     "text": [
      "EarlyStopping counter: 11 out of 10\n"
     ]
    },
    {
     "name": "stderr",
     "output_type": "stream",
     "text": [
      "Classifier Training Epoch:  71%|\u001b[32m███████   \u001b[0m| 354/500 [07:40<03:32,  1.45s/it, acc=0.893, loss=0.254]"
     ]
    },
    {
     "name": "stdout",
     "output_type": "stream",
     "text": [
      "EarlyStopping counter: 12 out of 10\n"
     ]
    },
    {
     "name": "stderr",
     "output_type": "stream",
     "text": [
      "Classifier Training Epoch:  71%|\u001b[32m███████   \u001b[0m| 355/500 [07:41<03:31,  1.46s/it, acc=0.875, loss=0.258]"
     ]
    },
    {
     "name": "stdout",
     "output_type": "stream",
     "text": [
      "EarlyStopping counter: 13 out of 10\n"
     ]
    },
    {
     "name": "stderr",
     "output_type": "stream",
     "text": [
      "Classifier Training Epoch:  71%|\u001b[32m███████   \u001b[0m| 356/500 [07:43<03:29,  1.45s/it, acc=0.854, loss=0.286]"
     ]
    },
    {
     "name": "stdout",
     "output_type": "stream",
     "text": [
      "EarlyStopping counter: 14 out of 10\n"
     ]
    },
    {
     "name": "stderr",
     "output_type": "stream",
     "text": [
      "Classifier Training Epoch:  71%|\u001b[32m███████▏  \u001b[0m| 357/500 [07:44<03:19,  1.39s/it, acc=0.893, loss=0.247]"
     ]
    },
    {
     "name": "stdout",
     "output_type": "stream",
     "text": [
      "EarlyStopping counter: 15 out of 10\n"
     ]
    },
    {
     "name": "stderr",
     "output_type": "stream",
     "text": [
      "Classifier Training Epoch:  72%|\u001b[32m███████▏  \u001b[0m| 358/500 [07:45<03:14,  1.37s/it, acc=0.863, loss=0.272]"
     ]
    },
    {
     "name": "stdout",
     "output_type": "stream",
     "text": [
      "EarlyStopping counter: 16 out of 10\n"
     ]
    },
    {
     "name": "stderr",
     "output_type": "stream",
     "text": [
      "Classifier Training Epoch:  72%|\u001b[32m███████▏  \u001b[0m| 359/500 [07:46<03:06,  1.32s/it, acc=0.885, loss=0.251]"
     ]
    },
    {
     "name": "stdout",
     "output_type": "stream",
     "text": [
      "EarlyStopping counter: 17 out of 10\n"
     ]
    },
    {
     "name": "stderr",
     "output_type": "stream",
     "text": [
      "Classifier Training Epoch:  72%|\u001b[32m███████▏  \u001b[0m| 360/500 [07:48<03:04,  1.32s/it, acc=0.828, loss=0.351]"
     ]
    },
    {
     "name": "stdout",
     "output_type": "stream",
     "text": [
      "EarlyStopping counter: 18 out of 10\n"
     ]
    },
    {
     "name": "stderr",
     "output_type": "stream",
     "text": [
      "Classifier Training Epoch:  72%|\u001b[32m███████▏  \u001b[0m| 361/500 [07:49<03:04,  1.32s/it, acc=0.913, loss=0.185]"
     ]
    },
    {
     "name": "stdout",
     "output_type": "stream",
     "text": [
      "EarlyStopping counter: 19 out of 10\n"
     ]
    },
    {
     "name": "stderr",
     "output_type": "stream",
     "text": [
      "Classifier Training Epoch:  72%|\u001b[32m███████▏  \u001b[0m| 362/500 [07:50<03:03,  1.33s/it, acc=0.924, loss=0.184]"
     ]
    },
    {
     "name": "stdout",
     "output_type": "stream",
     "text": [
      "EarlyStopping counter: 20 out of 10\n"
     ]
    },
    {
     "name": "stderr",
     "output_type": "stream",
     "text": [
      "Classifier Training Epoch:  72%|\u001b[32m███████▏  \u001b[0m| 362/500 [07:52<03:03,  1.33s/it, acc=0.912, loss=0.198]"
     ]
    },
    {
     "name": "stdout",
     "output_type": "stream",
     "text": [
      "EarlyStopping counter: 21 out of 10\n"
     ]
    },
    {
     "name": "stderr",
     "output_type": "stream",
     "text": [
      "Classifier Training Epoch:  73%|\u001b[32m███████▎  \u001b[0m| 363/500 [07:53<03:03,  1.34s/it, acc=0.9, loss=0.199]  "
     ]
    },
    {
     "name": "stdout",
     "output_type": "stream",
     "text": [
      "EarlyStopping counter: 22 out of 10\n"
     ]
    },
    {
     "name": "stderr",
     "output_type": "stream",
     "text": [
      "Classifier Training Epoch:  73%|\u001b[32m███████▎  \u001b[0m| 364/500 [07:54<03:01,  1.33s/it, acc=0.902, loss=0.199]"
     ]
    },
    {
     "name": "stdout",
     "output_type": "stream",
     "text": [
      "EarlyStopping counter: 23 out of 10\n"
     ]
    },
    {
     "name": "stderr",
     "output_type": "stream",
     "text": [
      "Classifier Training Epoch:  73%|\u001b[32m███████▎  \u001b[0m| 365/500 [07:56<03:01,  1.35s/it, acc=0.904, loss=0.214]"
     ]
    },
    {
     "name": "stdout",
     "output_type": "stream",
     "text": [
      "EarlyStopping counter: 24 out of 10\n"
     ]
    },
    {
     "name": "stderr",
     "output_type": "stream",
     "text": [
      "Classifier Training Epoch:  73%|\u001b[32m███████▎  \u001b[0m| 366/500 [07:57<02:56,  1.32s/it, acc=0.906, loss=0.212]"
     ]
    },
    {
     "name": "stdout",
     "output_type": "stream",
     "text": [
      "EarlyStopping counter: 25 out of 10\n"
     ]
    },
    {
     "name": "stderr",
     "output_type": "stream",
     "text": [
      "Classifier Training Epoch:  73%|\u001b[32m███████▎  \u001b[0m| 367/500 [07:58<02:55,  1.32s/it, acc=0.906, loss=0.21] "
     ]
    },
    {
     "name": "stdout",
     "output_type": "stream",
     "text": [
      "EarlyStopping counter: 26 out of 10\n"
     ]
    },
    {
     "name": "stderr",
     "output_type": "stream",
     "text": [
      "Classifier Training Epoch:  74%|\u001b[32m███████▎  \u001b[0m| 368/500 [07:59<02:52,  1.31s/it, acc=0.904, loss=0.217]"
     ]
    },
    {
     "name": "stdout",
     "output_type": "stream",
     "text": [
      "EarlyStopping counter: 27 out of 10\n"
     ]
    },
    {
     "name": "stderr",
     "output_type": "stream",
     "text": [
      "Classifier Training Epoch:  74%|\u001b[32m███████▍  \u001b[0m| 369/500 [08:01<02:52,  1.31s/it, acc=0.908, loss=0.218]"
     ]
    },
    {
     "name": "stdout",
     "output_type": "stream",
     "text": [
      "EarlyStopping counter: 28 out of 10\n"
     ]
    },
    {
     "name": "stderr",
     "output_type": "stream",
     "text": [
      "Classifier Training Epoch:  74%|\u001b[32m███████▍  \u001b[0m| 370/500 [08:02<02:47,  1.29s/it, acc=0.908, loss=0.216]"
     ]
    },
    {
     "name": "stdout",
     "output_type": "stream",
     "text": [
      "EarlyStopping counter: 29 out of 10\n"
     ]
    },
    {
     "name": "stderr",
     "output_type": "stream",
     "text": [
      "Classifier Training Epoch:  74%|\u001b[32m███████▍  \u001b[0m| 371/500 [08:03<02:47,  1.30s/it, acc=0.912, loss=0.228]"
     ]
    },
    {
     "name": "stdout",
     "output_type": "stream",
     "text": [
      "EarlyStopping counter: 30 out of 10\n"
     ]
    },
    {
     "name": "stderr",
     "output_type": "stream",
     "text": [
      "Classifier Training Epoch:  74%|\u001b[32m███████▍  \u001b[0m| 372/500 [08:05<02:46,  1.30s/it, acc=0.898, loss=0.218]"
     ]
    },
    {
     "name": "stdout",
     "output_type": "stream",
     "text": [
      "EarlyStopping counter: 31 out of 10\n"
     ]
    },
    {
     "name": "stderr",
     "output_type": "stream",
     "text": [
      "Classifier Training Epoch:  75%|\u001b[32m███████▍  \u001b[0m| 373/500 [08:06<02:43,  1.28s/it, acc=0.9, loss=0.218]  "
     ]
    },
    {
     "name": "stdout",
     "output_type": "stream",
     "text": [
      "EarlyStopping counter: 32 out of 10\n"
     ]
    },
    {
     "name": "stderr",
     "output_type": "stream",
     "text": [
      "Classifier Training Epoch:  75%|\u001b[32m███████▍  \u001b[0m| 374/500 [08:07<02:42,  1.29s/it, acc=0.896, loss=0.206]"
     ]
    },
    {
     "name": "stdout",
     "output_type": "stream",
     "text": [
      "EarlyStopping counter: 33 out of 10\n"
     ]
    },
    {
     "name": "stderr",
     "output_type": "stream",
     "text": [
      "Classifier Training Epoch:  75%|\u001b[32m███████▌  \u001b[0m| 375/500 [08:08<02:41,  1.29s/it, acc=0.891, loss=0.243]"
     ]
    },
    {
     "name": "stdout",
     "output_type": "stream",
     "text": [
      "EarlyStopping counter: 34 out of 10\n"
     ]
    },
    {
     "name": "stderr",
     "output_type": "stream",
     "text": [
      "Classifier Training Epoch:  75%|\u001b[32m███████▌  \u001b[0m| 376/500 [08:10<02:37,  1.27s/it, acc=0.895, loss=0.243]"
     ]
    },
    {
     "name": "stdout",
     "output_type": "stream",
     "text": [
      "EarlyStopping counter: 35 out of 10\n"
     ]
    },
    {
     "name": "stderr",
     "output_type": "stream",
     "text": [
      "Classifier Training Epoch:  75%|\u001b[32m███████▌  \u001b[0m| 377/500 [08:11<02:39,  1.30s/it, acc=0.904, loss=0.2]  "
     ]
    },
    {
     "name": "stdout",
     "output_type": "stream",
     "text": [
      "EarlyStopping counter: 36 out of 10\n"
     ]
    },
    {
     "name": "stderr",
     "output_type": "stream",
     "text": [
      "Classifier Training Epoch:  76%|\u001b[32m███████▌  \u001b[0m| 379/500 [08:13<02:35,  1.29s/it, acc=0.896, loss=0.228]"
     ]
    },
    {
     "name": "stdout",
     "output_type": "stream",
     "text": [
      "EarlyStopping counter: 1 out of 10\n"
     ]
    },
    {
     "name": "stderr",
     "output_type": "stream",
     "text": [
      "Classifier Training Epoch:  76%|\u001b[32m███████▌  \u001b[0m| 380/500 [08:15<02:33,  1.28s/it, acc=0.912, loss=0.196]"
     ]
    },
    {
     "name": "stdout",
     "output_type": "stream",
     "text": [
      "EarlyStopping counter: 2 out of 10\n"
     ]
    },
    {
     "name": "stderr",
     "output_type": "stream",
     "text": [
      "Classifier Training Epoch:  76%|\u001b[32m███████▌  \u001b[0m| 381/500 [08:16<02:34,  1.30s/it, acc=0.908, loss=0.21] "
     ]
    },
    {
     "name": "stdout",
     "output_type": "stream",
     "text": [
      "EarlyStopping counter: 3 out of 10\n"
     ]
    },
    {
     "name": "stderr",
     "output_type": "stream",
     "text": [
      "Classifier Training Epoch:  76%|\u001b[32m███████▋  \u001b[0m| 382/500 [08:17<02:31,  1.28s/it, acc=0.891, loss=0.216]"
     ]
    },
    {
     "name": "stdout",
     "output_type": "stream",
     "text": [
      "EarlyStopping counter: 4 out of 10\n"
     ]
    },
    {
     "name": "stderr",
     "output_type": "stream",
     "text": [
      "Classifier Training Epoch:  77%|\u001b[32m███████▋  \u001b[0m| 383/500 [08:18<02:29,  1.27s/it, acc=0.896, loss=0.216]"
     ]
    },
    {
     "name": "stdout",
     "output_type": "stream",
     "text": [
      "EarlyStopping counter: 5 out of 10\n"
     ]
    },
    {
     "name": "stderr",
     "output_type": "stream",
     "text": [
      "Classifier Training Epoch:  78%|\u001b[32m███████▊  \u001b[0m| 392/500 [08:30<02:17,  1.27s/it, acc=0.904, loss=0.213]"
     ]
    },
    {
     "name": "stdout",
     "output_type": "stream",
     "text": [
      "EarlyStopping counter: 1 out of 10\n"
     ]
    },
    {
     "name": "stderr",
     "output_type": "stream",
     "text": [
      "Classifier Training Epoch:  80%|\u001b[32m████████  \u001b[0m| 401/500 [08:41<02:13,  1.35s/it, acc=0.855, loss=0.304]"
     ]
    },
    {
     "name": "stdout",
     "output_type": "stream",
     "text": [
      "EarlyStopping counter: 1 out of 10\n"
     ]
    },
    {
     "name": "stderr",
     "output_type": "stream",
     "text": [
      "Classifier Training Epoch:  80%|\u001b[32m████████  \u001b[0m| 402/500 [08:42<02:11,  1.34s/it, acc=0.859, loss=0.291]"
     ]
    },
    {
     "name": "stdout",
     "output_type": "stream",
     "text": [
      "EarlyStopping counter: 2 out of 10\n"
     ]
    },
    {
     "name": "stderr",
     "output_type": "stream",
     "text": [
      "Classifier Training Epoch:  81%|\u001b[32m████████  \u001b[0m| 403/500 [08:44<02:12,  1.37s/it, acc=0.852, loss=0.298]"
     ]
    },
    {
     "name": "stdout",
     "output_type": "stream",
     "text": [
      "EarlyStopping counter: 3 out of 10\n"
     ]
    },
    {
     "name": "stderr",
     "output_type": "stream",
     "text": [
      "Classifier Training Epoch:  81%|\u001b[32m████████  \u001b[0m| 404/500 [08:45<02:12,  1.38s/it, acc=0.877, loss=0.252]"
     ]
    },
    {
     "name": "stdout",
     "output_type": "stream",
     "text": [
      "EarlyStopping counter: 4 out of 10\n"
     ]
    },
    {
     "name": "stderr",
     "output_type": "stream",
     "text": [
      "Classifier Training Epoch:  81%|\u001b[32m████████  \u001b[0m| 405/500 [08:46<02:14,  1.41s/it, acc=0.883, loss=0.228]"
     ]
    },
    {
     "name": "stdout",
     "output_type": "stream",
     "text": [
      "EarlyStopping counter: 5 out of 10\n"
     ]
    },
    {
     "name": "stderr",
     "output_type": "stream",
     "text": [
      "Classifier Training Epoch:  81%|\u001b[32m████████  \u001b[0m| 406/500 [08:48<02:13,  1.42s/it, acc=0.883, loss=0.264]"
     ]
    },
    {
     "name": "stdout",
     "output_type": "stream",
     "text": [
      "EarlyStopping counter: 6 out of 10\n"
     ]
    },
    {
     "name": "stderr",
     "output_type": "stream",
     "text": [
      "Classifier Training Epoch:  81%|\u001b[32m████████▏ \u001b[0m| 407/500 [08:49<02:09,  1.40s/it, acc=0.883, loss=0.236]"
     ]
    },
    {
     "name": "stdout",
     "output_type": "stream",
     "text": [
      "EarlyStopping counter: 7 out of 10\n"
     ]
    },
    {
     "name": "stderr",
     "output_type": "stream",
     "text": [
      "Classifier Training Epoch:  82%|\u001b[32m████████▏ \u001b[0m| 408/500 [08:50<02:04,  1.35s/it, acc=0.842, loss=0.324]"
     ]
    },
    {
     "name": "stdout",
     "output_type": "stream",
     "text": [
      "EarlyStopping counter: 8 out of 10\n"
     ]
    },
    {
     "name": "stderr",
     "output_type": "stream",
     "text": [
      "Classifier Training Epoch:  82%|\u001b[32m████████▏ \u001b[0m| 409/500 [08:52<02:00,  1.32s/it, acc=0.846, loss=0.316]"
     ]
    },
    {
     "name": "stdout",
     "output_type": "stream",
     "text": [
      "EarlyStopping counter: 9 out of 10\n"
     ]
    },
    {
     "name": "stderr",
     "output_type": "stream",
     "text": [
      "Classifier Training Epoch:  82%|\u001b[32m████████▏ \u001b[0m| 410/500 [08:53<01:59,  1.32s/it, acc=0.867, loss=0.278]"
     ]
    },
    {
     "name": "stdout",
     "output_type": "stream",
     "text": [
      "EarlyStopping counter: 10 out of 10\n"
     ]
    },
    {
     "name": "stderr",
     "output_type": "stream",
     "text": [
      "Classifier Training Epoch:  82%|\u001b[32m████████▏ \u001b[0m| 411/500 [08:54<01:55,  1.30s/it, acc=0.867, loss=0.256]"
     ]
    },
    {
     "name": "stdout",
     "output_type": "stream",
     "text": [
      "EarlyStopping counter: 11 out of 10\n"
     ]
    },
    {
     "name": "stderr",
     "output_type": "stream",
     "text": [
      "Classifier Training Epoch:  82%|\u001b[32m████████▏ \u001b[0m| 411/500 [08:55<01:55,  1.30s/it, acc=0.904, loss=0.198]"
     ]
    },
    {
     "name": "stdout",
     "output_type": "stream",
     "text": [
      "EarlyStopping counter: 12 out of 10\n"
     ]
    },
    {
     "name": "stderr",
     "output_type": "stream",
     "text": [
      "Classifier Training Epoch:  82%|\u001b[32m████████▏ \u001b[0m| 412/500 [08:57<01:52,  1.28s/it, acc=0.904, loss=0.197]"
     ]
    },
    {
     "name": "stdout",
     "output_type": "stream",
     "text": [
      "EarlyStopping counter: 13 out of 10\n"
     ]
    },
    {
     "name": "stderr",
     "output_type": "stream",
     "text": [
      "Classifier Training Epoch:  83%|\u001b[32m████████▎ \u001b[0m| 413/500 [08:58<01:51,  1.28s/it, acc=0.904, loss=0.208]"
     ]
    },
    {
     "name": "stdout",
     "output_type": "stream",
     "text": [
      "EarlyStopping counter: 14 out of 10\n"
     ]
    },
    {
     "name": "stderr",
     "output_type": "stream",
     "text": [
      "Classifier Training Epoch:  83%|\u001b[32m████████▎ \u001b[0m| 414/500 [08:59<01:51,  1.29s/it, acc=0.91, loss=0.194] "
     ]
    },
    {
     "name": "stdout",
     "output_type": "stream",
     "text": [
      "EarlyStopping counter: 15 out of 10\n"
     ]
    },
    {
     "name": "stderr",
     "output_type": "stream",
     "text": [
      "Classifier Training Epoch:  83%|\u001b[32m████████▎ \u001b[0m| 415/500 [09:01<01:49,  1.29s/it, acc=0.926, loss=0.198]"
     ]
    },
    {
     "name": "stdout",
     "output_type": "stream",
     "text": [
      "EarlyStopping counter: 16 out of 10\n"
     ]
    },
    {
     "name": "stderr",
     "output_type": "stream",
     "text": [
      "Classifier Training Epoch:  83%|\u001b[32m████████▎ \u001b[0m| 416/500 [09:02<01:49,  1.31s/it, acc=0.902, loss=0.212]"
     ]
    },
    {
     "name": "stdout",
     "output_type": "stream",
     "text": [
      "EarlyStopping counter: 17 out of 10\n"
     ]
    },
    {
     "name": "stderr",
     "output_type": "stream",
     "text": [
      "Classifier Training Epoch:  83%|\u001b[32m████████▎ \u001b[0m| 417/500 [09:03<01:48,  1.30s/it, acc=0.926, loss=0.197]"
     ]
    },
    {
     "name": "stdout",
     "output_type": "stream",
     "text": [
      "EarlyStopping counter: 18 out of 10\n"
     ]
    },
    {
     "name": "stderr",
     "output_type": "stream",
     "text": [
      "Classifier Training Epoch:  84%|\u001b[32m████████▎ \u001b[0m| 418/500 [09:04<01:44,  1.27s/it, acc=0.9, loss=0.225]  "
     ]
    },
    {
     "name": "stdout",
     "output_type": "stream",
     "text": [
      "EarlyStopping counter: 19 out of 10\n"
     ]
    },
    {
     "name": "stderr",
     "output_type": "stream",
     "text": [
      "Classifier Training Epoch:  84%|\u001b[32m████████▍ \u001b[0m| 419/500 [09:06<01:42,  1.27s/it, acc=0.912, loss=0.217]"
     ]
    },
    {
     "name": "stdout",
     "output_type": "stream",
     "text": [
      "EarlyStopping counter: 20 out of 10\n"
     ]
    },
    {
     "name": "stderr",
     "output_type": "stream",
     "text": [
      "Classifier Training Epoch:  84%|\u001b[32m████████▍ \u001b[0m| 420/500 [09:07<01:42,  1.29s/it, acc=0.91, loss=0.214] "
     ]
    },
    {
     "name": "stdout",
     "output_type": "stream",
     "text": [
      "EarlyStopping counter: 21 out of 10\n"
     ]
    },
    {
     "name": "stderr",
     "output_type": "stream",
     "text": [
      "Classifier Training Epoch:  84%|\u001b[32m████████▍ \u001b[0m| 421/500 [09:08<01:39,  1.26s/it, acc=0.91, loss=0.214] "
     ]
    },
    {
     "name": "stdout",
     "output_type": "stream",
     "text": [
      "EarlyStopping counter: 22 out of 10\n"
     ]
    },
    {
     "name": "stderr",
     "output_type": "stream",
     "text": [
      "Classifier Training Epoch:  84%|\u001b[32m████████▍ \u001b[0m| 422/500 [09:10<01:40,  1.29s/it, acc=0.908, loss=0.19] "
     ]
    },
    {
     "name": "stdout",
     "output_type": "stream",
     "text": [
      "EarlyStopping counter: 23 out of 10\n"
     ]
    },
    {
     "name": "stderr",
     "output_type": "stream",
     "text": [
      "Classifier Training Epoch:  85%|\u001b[32m████████▍ \u001b[0m| 423/500 [09:11<01:40,  1.30s/it, acc=0.895, loss=0.228]"
     ]
    },
    {
     "name": "stdout",
     "output_type": "stream",
     "text": [
      "EarlyStopping counter: 24 out of 10\n"
     ]
    },
    {
     "name": "stderr",
     "output_type": "stream",
     "text": [
      "Classifier Training Epoch:  85%|\u001b[32m████████▍ \u001b[0m| 424/500 [09:12<01:40,  1.32s/it, acc=0.9, loss=0.216]  "
     ]
    },
    {
     "name": "stdout",
     "output_type": "stream",
     "text": [
      "EarlyStopping counter: 25 out of 10\n"
     ]
    },
    {
     "name": "stderr",
     "output_type": "stream",
     "text": [
      "Classifier Training Epoch:  85%|\u001b[32m████████▌ \u001b[0m| 425/500 [09:13<01:37,  1.30s/it, acc=0.895, loss=0.206]"
     ]
    },
    {
     "name": "stdout",
     "output_type": "stream",
     "text": [
      "EarlyStopping counter: 26 out of 10\n"
     ]
    },
    {
     "name": "stderr",
     "output_type": "stream",
     "text": [
      "Classifier Training Epoch:  85%|\u001b[32m████████▌ \u001b[0m| 426/500 [09:15<01:36,  1.30s/it, acc=0.904, loss=0.199]"
     ]
    },
    {
     "name": "stdout",
     "output_type": "stream",
     "text": [
      "EarlyStopping counter: 27 out of 10\n"
     ]
    },
    {
     "name": "stderr",
     "output_type": "stream",
     "text": [
      "Classifier Training Epoch:  85%|\u001b[32m████████▌ \u001b[0m| 427/500 [09:16<01:32,  1.27s/it, acc=0.918, loss=0.197]"
     ]
    },
    {
     "name": "stdout",
     "output_type": "stream",
     "text": [
      "EarlyStopping counter: 28 out of 10\n"
     ]
    },
    {
     "name": "stderr",
     "output_type": "stream",
     "text": [
      "Classifier Training Epoch:  86%|\u001b[32m████████▌ \u001b[0m| 428/500 [09:17<01:32,  1.28s/it, acc=0.916, loss=0.195]"
     ]
    },
    {
     "name": "stdout",
     "output_type": "stream",
     "text": [
      "EarlyStopping counter: 29 out of 10\n"
     ]
    },
    {
     "name": "stderr",
     "output_type": "stream",
     "text": [
      "Classifier Training Epoch:  86%|\u001b[32m████████▌ \u001b[0m| 429/500 [09:19<01:32,  1.31s/it, acc=0.908, loss=0.209]"
     ]
    },
    {
     "name": "stdout",
     "output_type": "stream",
     "text": [
      "EarlyStopping counter: 30 out of 10\n"
     ]
    },
    {
     "name": "stderr",
     "output_type": "stream",
     "text": [
      "Classifier Training Epoch:  86%|\u001b[32m████████▌ \u001b[0m| 430/500 [09:20<01:32,  1.33s/it, acc=0.9, loss=0.225]  "
     ]
    },
    {
     "name": "stdout",
     "output_type": "stream",
     "text": [
      "EarlyStopping counter: 31 out of 10\n"
     ]
    },
    {
     "name": "stderr",
     "output_type": "stream",
     "text": [
      "Classifier Training Epoch:  86%|\u001b[32m████████▌ \u001b[0m| 431/500 [09:21<01:31,  1.32s/it, acc=0.91, loss=0.209] "
     ]
    },
    {
     "name": "stdout",
     "output_type": "stream",
     "text": [
      "EarlyStopping counter: 32 out of 10\n"
     ]
    },
    {
     "name": "stderr",
     "output_type": "stream",
     "text": [
      "Classifier Training Epoch:  86%|\u001b[32m████████▋ \u001b[0m| 432/500 [09:22<01:27,  1.29s/it, acc=0.908, loss=0.209]"
     ]
    },
    {
     "name": "stdout",
     "output_type": "stream",
     "text": [
      "EarlyStopping counter: 33 out of 10\n"
     ]
    },
    {
     "name": "stderr",
     "output_type": "stream",
     "text": [
      "Classifier Training Epoch:  87%|\u001b[32m████████▋ \u001b[0m| 433/500 [09:24<01:26,  1.29s/it, acc=0.92, loss=0.221] "
     ]
    },
    {
     "name": "stdout",
     "output_type": "stream",
     "text": [
      "EarlyStopping counter: 34 out of 10\n"
     ]
    },
    {
     "name": "stderr",
     "output_type": "stream",
     "text": [
      "Classifier Training Epoch:  87%|\u001b[32m████████▋ \u001b[0m| 434/500 [09:25<01:23,  1.27s/it, acc=0.914, loss=0.204]"
     ]
    },
    {
     "name": "stdout",
     "output_type": "stream",
     "text": [
      "EarlyStopping counter: 35 out of 10\n"
     ]
    },
    {
     "name": "stderr",
     "output_type": "stream",
     "text": [
      "Classifier Training Epoch:  87%|\u001b[32m████████▋ \u001b[0m| 435/500 [09:26<01:22,  1.26s/it, acc=0.918, loss=0.22] "
     ]
    },
    {
     "name": "stdout",
     "output_type": "stream",
     "text": [
      "EarlyStopping counter: 36 out of 10\n"
     ]
    },
    {
     "name": "stderr",
     "output_type": "stream",
     "text": [
      "Classifier Training Epoch:  87%|\u001b[32m████████▋ \u001b[0m| 436/500 [09:27<01:20,  1.26s/it, acc=0.881, loss=0.233]"
     ]
    },
    {
     "name": "stdout",
     "output_type": "stream",
     "text": [
      "EarlyStopping counter: 37 out of 10\n"
     ]
    },
    {
     "name": "stderr",
     "output_type": "stream",
     "text": [
      "Classifier Training Epoch:  87%|\u001b[32m████████▋ \u001b[0m| 437/500 [09:28<01:19,  1.27s/it, acc=0.902, loss=0.214]"
     ]
    },
    {
     "name": "stdout",
     "output_type": "stream",
     "text": [
      "EarlyStopping counter: 38 out of 10\n"
     ]
    },
    {
     "name": "stderr",
     "output_type": "stream",
     "text": [
      "Classifier Training Epoch:  90%|\u001b[32m█████████ \u001b[0m| 451/500 [09:47<01:15,  1.53s/it, acc=0.875, loss=0.246]"
     ]
    },
    {
     "name": "stdout",
     "output_type": "stream",
     "text": [
      "EarlyStopping counter: 1 out of 10\n"
     ]
    },
    {
     "name": "stderr",
     "output_type": "stream",
     "text": [
      "Classifier Training Epoch:  90%|\u001b[32m█████████ \u001b[0m| 452/500 [09:48<01:11,  1.49s/it, acc=0.879, loss=0.258]"
     ]
    },
    {
     "name": "stdout",
     "output_type": "stream",
     "text": [
      "EarlyStopping counter: 2 out of 10\n"
     ]
    },
    {
     "name": "stderr",
     "output_type": "stream",
     "text": [
      "Classifier Training Epoch:  91%|\u001b[32m█████████ \u001b[0m| 453/500 [09:50<01:09,  1.47s/it, acc=0.883, loss=0.259]"
     ]
    },
    {
     "name": "stdout",
     "output_type": "stream",
     "text": [
      "EarlyStopping counter: 3 out of 10\n"
     ]
    },
    {
     "name": "stderr",
     "output_type": "stream",
     "text": [
      "Classifier Training Epoch:  91%|\u001b[32m█████████ \u001b[0m| 454/500 [09:51<01:11,  1.55s/it, acc=0.834, loss=0.38] "
     ]
    },
    {
     "name": "stdout",
     "output_type": "stream",
     "text": [
      "EarlyStopping counter: 4 out of 10\n"
     ]
    },
    {
     "name": "stderr",
     "output_type": "stream",
     "text": [
      "Classifier Training Epoch:  91%|\u001b[32m█████████ \u001b[0m| 455/500 [09:53<01:09,  1.55s/it, acc=0.895, loss=0.254]"
     ]
    },
    {
     "name": "stdout",
     "output_type": "stream",
     "text": [
      "EarlyStopping counter: 5 out of 10\n"
     ]
    },
    {
     "name": "stderr",
     "output_type": "stream",
     "text": [
      "Classifier Training Epoch:  91%|\u001b[32m█████████ \u001b[0m| 456/500 [09:54<01:05,  1.49s/it, acc=0.881, loss=0.246]"
     ]
    },
    {
     "name": "stdout",
     "output_type": "stream",
     "text": [
      "EarlyStopping counter: 6 out of 10\n"
     ]
    },
    {
     "name": "stderr",
     "output_type": "stream",
     "text": [
      "Classifier Training Epoch:  91%|\u001b[32m█████████▏\u001b[0m| 457/500 [09:56<01:01,  1.44s/it, acc=0.861, loss=0.28] "
     ]
    },
    {
     "name": "stdout",
     "output_type": "stream",
     "text": [
      "EarlyStopping counter: 7 out of 10\n"
     ]
    },
    {
     "name": "stderr",
     "output_type": "stream",
     "text": [
      "Classifier Training Epoch:  92%|\u001b[32m█████████▏\u001b[0m| 458/500 [09:57<00:59,  1.41s/it, acc=0.867, loss=0.351]"
     ]
    },
    {
     "name": "stdout",
     "output_type": "stream",
     "text": [
      "EarlyStopping counter: 8 out of 10\n"
     ]
    },
    {
     "name": "stderr",
     "output_type": "stream",
     "text": [
      "Classifier Training Epoch:  92%|\u001b[32m█████████▏\u001b[0m| 459/500 [09:58<00:55,  1.35s/it, acc=0.863, loss=0.275]"
     ]
    },
    {
     "name": "stdout",
     "output_type": "stream",
     "text": [
      "EarlyStopping counter: 9 out of 10\n"
     ]
    },
    {
     "name": "stderr",
     "output_type": "stream",
     "text": [
      "Classifier Training Epoch:  92%|\u001b[32m█████████▏\u001b[0m| 460/500 [09:59<00:53,  1.33s/it, acc=0.879, loss=0.266]"
     ]
    },
    {
     "name": "stdout",
     "output_type": "stream",
     "text": [
      "EarlyStopping counter: 10 out of 10\n"
     ]
    },
    {
     "name": "stderr",
     "output_type": "stream",
     "text": [
      "Classifier Training Epoch:  92%|\u001b[32m█████████▏\u001b[0m| 461/500 [10:01<00:51,  1.32s/it, acc=0.92, loss=0.184] "
     ]
    },
    {
     "name": "stdout",
     "output_type": "stream",
     "text": [
      "EarlyStopping counter: 11 out of 10\n"
     ]
    },
    {
     "name": "stderr",
     "output_type": "stream",
     "text": [
      "Classifier Training Epoch:  92%|\u001b[32m█████████▏\u001b[0m| 462/500 [10:02<00:49,  1.31s/it, acc=0.92, loss=0.184] "
     ]
    },
    {
     "name": "stdout",
     "output_type": "stream",
     "text": [
      "EarlyStopping counter: 12 out of 10\n"
     ]
    },
    {
     "name": "stderr",
     "output_type": "stream",
     "text": [
      "Classifier Training Epoch:  92%|\u001b[32m█████████▏\u001b[0m| 462/500 [10:03<00:49,  1.31s/it, acc=0.916, loss=0.194]"
     ]
    },
    {
     "name": "stdout",
     "output_type": "stream",
     "text": [
      "EarlyStopping counter: 13 out of 10\n"
     ]
    },
    {
     "name": "stderr",
     "output_type": "stream",
     "text": [
      "Classifier Training Epoch:  93%|\u001b[32m█████████▎\u001b[0m| 463/500 [10:05<00:48,  1.31s/it, acc=0.908, loss=0.196]"
     ]
    },
    {
     "name": "stdout",
     "output_type": "stream",
     "text": [
      "EarlyStopping counter: 14 out of 10\n"
     ]
    },
    {
     "name": "stderr",
     "output_type": "stream",
     "text": [
      "Classifier Training Epoch:  93%|\u001b[32m█████████▎\u001b[0m| 464/500 [10:06<00:47,  1.32s/it, acc=0.896, loss=0.237]"
     ]
    },
    {
     "name": "stdout",
     "output_type": "stream",
     "text": [
      "EarlyStopping counter: 15 out of 10\n"
     ]
    },
    {
     "name": "stderr",
     "output_type": "stream",
     "text": [
      "Classifier Training Epoch:  93%|\u001b[32m█████████▎\u001b[0m| 465/500 [10:07<00:46,  1.33s/it, acc=0.908, loss=0.196]"
     ]
    },
    {
     "name": "stdout",
     "output_type": "stream",
     "text": [
      "EarlyStopping counter: 16 out of 10\n"
     ]
    },
    {
     "name": "stderr",
     "output_type": "stream",
     "text": [
      "Classifier Training Epoch:  93%|\u001b[32m█████████▎\u001b[0m| 466/500 [10:08<00:44,  1.30s/it, acc=0.904, loss=0.209]"
     ]
    },
    {
     "name": "stdout",
     "output_type": "stream",
     "text": [
      "EarlyStopping counter: 17 out of 10\n"
     ]
    },
    {
     "name": "stderr",
     "output_type": "stream",
     "text": [
      "Classifier Training Epoch:  93%|\u001b[32m█████████▎\u001b[0m| 467/500 [10:10<00:43,  1.31s/it, acc=0.924, loss=0.196]"
     ]
    },
    {
     "name": "stdout",
     "output_type": "stream",
     "text": [
      "EarlyStopping counter: 18 out of 10\n"
     ]
    },
    {
     "name": "stderr",
     "output_type": "stream",
     "text": [
      "Classifier Training Epoch:  94%|\u001b[32m█████████▎\u001b[0m| 468/500 [10:11<00:41,  1.31s/it, acc=0.908, loss=0.19] "
     ]
    },
    {
     "name": "stdout",
     "output_type": "stream",
     "text": [
      "EarlyStopping counter: 19 out of 10\n"
     ]
    },
    {
     "name": "stderr",
     "output_type": "stream",
     "text": [
      "Classifier Training Epoch:  94%|\u001b[32m█████████▍\u001b[0m| 469/500 [10:12<00:39,  1.29s/it, acc=0.914, loss=0.215]"
     ]
    },
    {
     "name": "stdout",
     "output_type": "stream",
     "text": [
      "EarlyStopping counter: 20 out of 10\n"
     ]
    },
    {
     "name": "stderr",
     "output_type": "stream",
     "text": [
      "Classifier Training Epoch:  94%|\u001b[32m█████████▍\u001b[0m| 470/500 [10:13<00:37,  1.26s/it, acc=0.91, loss=0.213] "
     ]
    },
    {
     "name": "stdout",
     "output_type": "stream",
     "text": [
      "EarlyStopping counter: 21 out of 10\n"
     ]
    },
    {
     "name": "stderr",
     "output_type": "stream",
     "text": [
      "Classifier Training Epoch:  94%|\u001b[32m█████████▍\u001b[0m| 471/500 [10:15<00:37,  1.28s/it, acc=0.912, loss=0.225]"
     ]
    },
    {
     "name": "stdout",
     "output_type": "stream",
     "text": [
      "EarlyStopping counter: 22 out of 10\n"
     ]
    },
    {
     "name": "stderr",
     "output_type": "stream",
     "text": [
      "Classifier Training Epoch:  94%|\u001b[32m█████████▍\u001b[0m| 472/500 [10:16<00:36,  1.29s/it, acc=0.912, loss=0.225]"
     ]
    },
    {
     "name": "stdout",
     "output_type": "stream",
     "text": [
      "EarlyStopping counter: 23 out of 10\n"
     ]
    },
    {
     "name": "stderr",
     "output_type": "stream",
     "text": [
      "Classifier Training Epoch:  95%|\u001b[32m█████████▍\u001b[0m| 473/500 [10:17<00:35,  1.30s/it, acc=0.893, loss=0.204]"
     ]
    },
    {
     "name": "stdout",
     "output_type": "stream",
     "text": [
      "EarlyStopping counter: 24 out of 10\n"
     ]
    },
    {
     "name": "stderr",
     "output_type": "stream",
     "text": [
      "Classifier Training Epoch:  95%|\u001b[32m█████████▍\u001b[0m| 474/500 [10:19<00:33,  1.30s/it, acc=0.891, loss=0.239]"
     ]
    },
    {
     "name": "stdout",
     "output_type": "stream",
     "text": [
      "EarlyStopping counter: 25 out of 10\n"
     ]
    },
    {
     "name": "stderr",
     "output_type": "stream",
     "text": [
      "Classifier Training Epoch:  95%|\u001b[32m█████████▌\u001b[0m| 475/500 [10:20<00:33,  1.32s/it, acc=0.891, loss=0.239]"
     ]
    },
    {
     "name": "stdout",
     "output_type": "stream",
     "text": [
      "EarlyStopping counter: 26 out of 10\n"
     ]
    },
    {
     "name": "stderr",
     "output_type": "stream",
     "text": [
      "Classifier Training Epoch:  95%|\u001b[32m█████████▌\u001b[0m| 476/500 [10:21<00:32,  1.34s/it, acc=0.9, loss=0.198]  "
     ]
    },
    {
     "name": "stdout",
     "output_type": "stream",
     "text": [
      "EarlyStopping counter: 27 out of 10\n"
     ]
    },
    {
     "name": "stderr",
     "output_type": "stream",
     "text": [
      "Classifier Training Epoch:  95%|\u001b[32m█████████▌\u001b[0m| 477/500 [10:23<00:30,  1.31s/it, acc=0.916, loss=0.196]"
     ]
    },
    {
     "name": "stdout",
     "output_type": "stream",
     "text": [
      "EarlyStopping counter: 28 out of 10\n"
     ]
    },
    {
     "name": "stderr",
     "output_type": "stream",
     "text": [
      "Classifier Training Epoch:  96%|\u001b[32m█████████▌\u001b[0m| 478/500 [10:24<00:28,  1.31s/it, acc=0.902, loss=0.226]"
     ]
    },
    {
     "name": "stdout",
     "output_type": "stream",
     "text": [
      "EarlyStopping counter: 29 out of 10\n"
     ]
    },
    {
     "name": "stderr",
     "output_type": "stream",
     "text": [
      "Classifier Training Epoch:  96%|\u001b[32m█████████▌\u001b[0m| 479/500 [10:25<00:27,  1.29s/it, acc=0.9, loss=0.198]  "
     ]
    },
    {
     "name": "stdout",
     "output_type": "stream",
     "text": [
      "EarlyStopping counter: 30 out of 10\n"
     ]
    },
    {
     "name": "stderr",
     "output_type": "stream",
     "text": [
      "Classifier Training Epoch:  96%|\u001b[32m█████████▌\u001b[0m| 480/500 [10:26<00:25,  1.28s/it, acc=0.908, loss=0.196]"
     ]
    },
    {
     "name": "stdout",
     "output_type": "stream",
     "text": [
      "EarlyStopping counter: 31 out of 10\n"
     ]
    },
    {
     "name": "stderr",
     "output_type": "stream",
     "text": [
      "Classifier Training Epoch:  96%|\u001b[32m█████████▌\u001b[0m| 481/500 [10:27<00:24,  1.28s/it, acc=0.918, loss=0.21] "
     ]
    },
    {
     "name": "stdout",
     "output_type": "stream",
     "text": [
      "EarlyStopping counter: 32 out of 10\n"
     ]
    },
    {
     "name": "stderr",
     "output_type": "stream",
     "text": [
      "Classifier Training Epoch:  96%|\u001b[32m█████████▋\u001b[0m| 482/500 [10:29<00:23,  1.28s/it, acc=0.918, loss=0.2]  "
     ]
    },
    {
     "name": "stdout",
     "output_type": "stream",
     "text": [
      "EarlyStopping counter: 33 out of 10\n"
     ]
    },
    {
     "name": "stderr",
     "output_type": "stream",
     "text": [
      "Classifier Training Epoch:  97%|\u001b[32m█████████▋\u001b[0m| 483/500 [10:30<00:22,  1.30s/it, acc=0.896, loss=0.217]"
     ]
    },
    {
     "name": "stdout",
     "output_type": "stream",
     "text": [
      "EarlyStopping counter: 34 out of 10\n"
     ]
    },
    {
     "name": "stderr",
     "output_type": "stream",
     "text": [
      "Classifier Training Epoch:  97%|\u001b[32m█████████▋\u001b[0m| 484/500 [10:31<00:20,  1.29s/it, acc=0.912, loss=0.204]"
     ]
    },
    {
     "name": "stdout",
     "output_type": "stream",
     "text": [
      "EarlyStopping counter: 35 out of 10\n"
     ]
    },
    {
     "name": "stderr",
     "output_type": "stream",
     "text": [
      "Classifier Training Epoch:  97%|\u001b[32m█████████▋\u001b[0m| 485/500 [10:33<00:19,  1.29s/it, acc=0.914, loss=0.22] "
     ]
    },
    {
     "name": "stdout",
     "output_type": "stream",
     "text": [
      "EarlyStopping counter: 36 out of 10\n"
     ]
    },
    {
     "name": "stderr",
     "output_type": "stream",
     "text": [
      "Classifier Training Epoch:  97%|\u001b[32m█████████▋\u001b[0m| 486/500 [10:34<00:18,  1.32s/it, acc=0.918, loss=0.209]"
     ]
    },
    {
     "name": "stdout",
     "output_type": "stream",
     "text": [
      "EarlyStopping counter: 37 out of 10\n"
     ]
    },
    {
     "name": "stderr",
     "output_type": "stream",
     "text": [
      "Classifier Training Epoch:  97%|\u001b[32m█████████▋\u001b[0m| 487/500 [10:35<00:16,  1.29s/it, acc=0.918, loss=0.2]  "
     ]
    },
    {
     "name": "stdout",
     "output_type": "stream",
     "text": [
      "EarlyStopping counter: 38 out of 10\n"
     ]
    },
    {
     "name": "stderr",
     "output_type": "stream",
     "text": [
      "Classifier Training Epoch:  98%|\u001b[32m█████████▊\u001b[0m| 488/500 [10:36<00:15,  1.28s/it, acc=0.9, loss=0.214]  "
     ]
    },
    {
     "name": "stdout",
     "output_type": "stream",
     "text": [
      "EarlyStopping counter: 39 out of 10\n"
     ]
    },
    {
     "name": "stderr",
     "output_type": "stream",
     "text": [
      "Classifier Training Epoch:  98%|\u001b[32m█████████▊\u001b[0m| 489/500 [10:38<00:13,  1.27s/it, acc=0.91, loss=0.201] "
     ]
    },
    {
     "name": "stdout",
     "output_type": "stream",
     "text": [
      "EarlyStopping counter: 40 out of 10\n"
     ]
    },
    {
     "name": "stderr",
     "output_type": "stream",
     "text": [
      "Classifier Training Epoch:  98%|\u001b[32m█████████▊\u001b[0m| 490/500 [10:39<00:12,  1.26s/it, acc=0.91, loss=0.201] "
     ]
    },
    {
     "name": "stdout",
     "output_type": "stream",
     "text": [
      "EarlyStopping counter: 41 out of 10\n"
     ]
    },
    {
     "name": "stderr",
     "output_type": "stream",
     "text": [
      "Classifier Training Epoch:  98%|\u001b[32m█████████▊\u001b[0m| 491/500 [10:40<00:11,  1.28s/it, acc=0.896, loss=0.216]"
     ]
    },
    {
     "name": "stdout",
     "output_type": "stream",
     "text": [
      "EarlyStopping counter: 42 out of 10\n"
     ]
    },
    {
     "name": "stderr",
     "output_type": "stream",
     "text": [
      "Classifier Training Epoch:  98%|\u001b[32m█████████▊\u001b[0m| 492/500 [10:41<00:10,  1.28s/it, acc=0.906, loss=0.222]"
     ]
    },
    {
     "name": "stdout",
     "output_type": "stream",
     "text": [
      "EarlyStopping counter: 43 out of 10\n"
     ]
    },
    {
     "name": "stderr",
     "output_type": "stream",
     "text": [
      "Classifier Training Epoch:  99%|\u001b[32m█████████▊\u001b[0m| 493/500 [10:43<00:08,  1.28s/it, acc=0.906, loss=0.214]"
     ]
    },
    {
     "name": "stdout",
     "output_type": "stream",
     "text": [
      "EarlyStopping counter: 44 out of 10\n"
     ]
    },
    {
     "name": "stderr",
     "output_type": "stream",
     "text": [
      "Classifier Training Epoch:  99%|\u001b[32m█████████▉\u001b[0m| 494/500 [10:44<00:07,  1.29s/it, acc=0.906, loss=0.206]"
     ]
    },
    {
     "name": "stdout",
     "output_type": "stream",
     "text": [
      "EarlyStopping counter: 45 out of 10\n"
     ]
    },
    {
     "name": "stderr",
     "output_type": "stream",
     "text": [
      "Classifier Training Epoch:  99%|\u001b[32m█████████▉\u001b[0m| 495/500 [10:45<00:06,  1.35s/it, acc=0.928, loss=0.179]"
     ]
    },
    {
     "name": "stdout",
     "output_type": "stream",
     "text": [
      "EarlyStopping counter: 46 out of 10\n"
     ]
    },
    {
     "name": "stderr",
     "output_type": "stream",
     "text": [
      "Classifier Training Epoch:  99%|\u001b[32m█████████▉\u001b[0m| 496/500 [10:47<00:05,  1.31s/it, acc=0.906, loss=0.206]"
     ]
    },
    {
     "name": "stdout",
     "output_type": "stream",
     "text": [
      "EarlyStopping counter: 47 out of 10\n"
     ]
    },
    {
     "name": "stderr",
     "output_type": "stream",
     "text": [
      "Classifier Training Epoch:  99%|\u001b[32m█████████▉\u001b[0m| 497/500 [10:48<00:03,  1.28s/it, acc=0.906, loss=0.206]"
     ]
    },
    {
     "name": "stdout",
     "output_type": "stream",
     "text": [
      "EarlyStopping counter: 48 out of 10\n"
     ]
    },
    {
     "name": "stderr",
     "output_type": "stream",
     "text": [
      "Classifier Training Epoch: 100%|\u001b[32m█████████▉\u001b[0m| 498/500 [10:49<00:02,  1.27s/it, acc=0.922, loss=0.183]"
     ]
    },
    {
     "name": "stdout",
     "output_type": "stream",
     "text": [
      "EarlyStopping counter: 49 out of 10\n"
     ]
    },
    {
     "name": "stderr",
     "output_type": "stream",
     "text": [
      "Classifier Training Epoch: 100%|\u001b[32m█████████▉\u001b[0m| 499/500 [10:50<00:01,  1.28s/it, acc=0.906, loss=0.206]"
     ]
    },
    {
     "name": "stdout",
     "output_type": "stream",
     "text": [
      "EarlyStopping counter: 50 out of 10\n"
     ]
    },
    {
     "name": "stderr",
     "output_type": "stream",
     "text": [
      "Classifier Training Epoch: 100%|\u001b[32m██████████\u001b[0m| 500/500 [10:51<00:00,  1.30s/it, acc=0.915, loss=0.183]"
     ]
    },
    {
     "name": "stdout",
     "output_type": "stream",
     "text": [
      "EarlyStopping counter: 51 out of 10\n"
     ]
    },
    {
     "name": "stderr",
     "output_type": "stream",
     "text": [
      "\n"
     ]
    }
   ],
   "source": [
    "clf_no_debias = AdversarialDebiasing(n_features, n_classes, n_groups, num_epochs=500, batch_size=512,\n",
    "                     classifier_num_hidden_units=512, random_state=42, debias=False)\n",
    "\n",
    "loss_list_no_debias, val_list_no_debias, train_info_no_debias, val_info_no_debias = clf_no_debias.fit(data.x_train, data.y_train, data.s_train, \n",
    "                                                    early_stopping=True, validation_set=[data.x_val, data.y_val, data.s_val])\n",
    "\n"
   ]
  },
  {
   "cell_type": "code",
   "execution_count": 5,
   "metadata": {},
   "outputs": [
    {
     "name": "stdout",
     "output_type": "stream",
     "text": [
      "========== after train(without debiasing) ==========\n",
      "========== Results on train ==========\n",
      "Grp. 0 - #instance: 8460; #pos. pred: 858; Acc.: 0.962884\n",
      "Grp. 1 - #instance: 17589; #pos. pred: 5016; Acc.: 0.879356\n",
      "Overall acc.: 0.906484; Demographic parity: 0.183760; Equal opportunity: -0.021833; Average odds difference: 0.028479\n",
      "========== Results on test ==========\n",
      "Grp. 0 - #instance: 4147; #pos. pred: 424; Acc.: 0.921148\n",
      "Grp. 1 - #instance: 8514; #pos. pred: 2320; Acc.: 0.804440\n",
      "Overall acc.: 0.842666; Demographic parity: 0.170250; Equal opportunity: 0.022130; Average odds difference: 0.028765\n"
     ]
    }
   ],
   "source": [
    "print(\"========== after train(without debiasing) ==========\")\n",
    "pred_label_train = clf_no_debias.predict(data.x_train)\n",
    "train_res = train_evaluator(data.y_train, pred_label_train, no_train=False)\n",
    "\n",
    "pred_label_test = clf_no_debias.predict(data.x_test)\n",
    "test_res = test_evaluator(data.y_test, pred_label_test, no_train=False)"
   ]
  },
  {
   "cell_type": "code",
   "execution_count": 46,
   "metadata": {},
   "outputs": [
    {
     "data": {
      "text/plain": [
       "0.6407539636838266"
      ]
     },
     "execution_count": 46,
     "metadata": {},
     "output_type": "execute_result"
    }
   ],
   "source": [
    "(pred_label_train == data.y_train).sum() / len(data.y_train)"
   ]
  },
  {
   "cell_type": "code",
   "execution_count": 6,
   "metadata": {},
   "outputs": [],
   "source": [
    "res = pd.DataFrame(train_info_no_debias)\n",
    "epoch_loss_list = loss_list_no_debias[::]\n",
    "res['epoch_loss'] = epoch_loss_list"
   ]
  },
  {
   "cell_type": "code",
   "execution_count": 7,
   "metadata": {
    "scrolled": true
   },
   "outputs": [
    {
     "data": {
      "text/plain": [
       "<AxesSubplot:>"
      ]
     },
     "execution_count": 7,
     "metadata": {},
     "output_type": "execute_result"
    },
    {
     "data": {
      "image/png": "[encoded data removed]",
      "text/plain": [
       "<Figure size 640x480 with 1 Axes>"
      ]
     },
     "metadata": {},
     "output_type": "display_data"
    }
   ],
   "source": [
    "res['epoch_loss'].plot()"
   ]
  },
  {
   "cell_type": "code",
   "execution_count": 9,
   "metadata": {},
   "outputs": [
    {
     "name": "stdout",
     "output_type": "stream",
     "text": [
      "====================\n",
      "g:0, y:0 ==> size:2502\n",
      "g:0, y:1 ==> size:318\n",
      "g:1, y:0 ==> size:4031\n",
      "g:1, y:1 ==> size:1832\n",
      "====================\n",
      "g:0, y:0 ==> size:2502\n",
      "g:0, y:1 ==> size:318\n",
      "g:1, y:0 ==> size:4031\n",
      "g:1, y:1 ==> size:1832\n",
      "====================\n",
      "g:0, y:0 ==> size:2502\n",
      "g:0, y:1 ==> size:318\n",
      "g:1, y:0 ==> size:4031\n",
      "g:1, y:1 ==> size:1832\n"
     ]
    }
   ],
   "source": []
  },
  {
   "cell_type": "code",
   "execution_count": 35,
   "metadata": {},
   "outputs": [
    {
     "name": "stdout",
     "output_type": "stream",
     "text": [
      "====================\n",
      "g:0, y:0 ==> size:2502\n",
      "g:0, y:1 ==> size:318\n",
      "g:1, y:0 ==> size:4031\n",
      "g:1, y:1 ==> size:1832\n",
      "====================\n",
      "g:0, y:0 ==> size:2502\n",
      "g:0, y:1 ==> size:318\n",
      "g:1, y:0 ==> size:4031\n",
      "g:1, y:1 ==> size:1832\n",
      "====================\n",
      "g:0, y:0 ==> size:2502\n",
      "g:0, y:1 ==> size:318\n",
      "g:1, y:0 ==> size:4031\n",
      "g:1, y:1 ==> size:1832\n"
     ]
    }
   ],
   "source": [
    "N = 3\n",
    "stages = get_curriculum_stages(data.y_train, data.s_train, 'data/adult/no_debias_sorted_idx_%d.json' % data.num_val, N=N)\n",
    "# 从难到易\n",
    "# stages.reverse()\n",
    "# 并集\n",
    "new_stages = []\n",
    "for i in range(len(stages) - 1, 0, -1):\n",
    "    new_stages.append(np.concatenate([stages[i], stages[i - 1]]))\n",
    "\n",
    "new_stages.append(stages[0])\n",
    "new_stages.reverse()\n",
    "# base_epoch = 500\n",
    "# epoch_list = [int(base_epoch / i) for i in range(1,N+1)]\n",
    "# epoch_list.reverse()"
   ]
  },
  {
   "cell_type": "code",
   "execution_count": 36,
   "metadata": {},
   "outputs": [
    {
     "name": "stdout",
     "output_type": "stream",
     "text": [
      "(8683,)\n",
      "(17366,)\n",
      "(17366,)\n"
     ]
    }
   ],
   "source": [
    "for stage in new_stages:\n",
    "    print(stage.shape)"
   ]
  },
  {
   "cell_type": "code",
   "execution_count": 55,
   "metadata": {},
   "outputs": [
    {
     "data": {
      "text/plain": [
       "[40, 40, 300]"
      ]
     },
     "execution_count": 55,
     "metadata": {},
     "output_type": "execute_result"
    }
   ],
   "source": [
    "epoch_list = [40] * 2 + [300]\n",
    "epoch_list"
   ]
  },
  {
   "cell_type": "code",
   "execution_count": 56,
   "metadata": {},
   "outputs": [
    {
     "name": "stdout",
     "output_type": "stream",
     "text": [
      "8683\n"
     ]
    },
    {
     "name": "stderr",
     "output_type": "stream",
     "text": [
      "Classifier Training Epoch:  57%|\u001b[32m█████▊    \u001b[0m| 23/40 [00:10<00:08,  2.09it/s, acc=0.965, loss=0.67]   "
     ]
    },
    {
     "name": "stdout",
     "output_type": "stream",
     "text": [
      "EarlyStopping counter: 1 out of 10\n"
     ]
    },
    {
     "name": "stderr",
     "output_type": "stream",
     "text": [
      "Classifier Training Epoch:  80%|\u001b[32m████████  \u001b[0m| 32/40 [00:15<00:04,  1.99it/s, acc=0.982, loss=0.431]  "
     ]
    },
    {
     "name": "stdout",
     "output_type": "stream",
     "text": [
      "EarlyStopping counter: 1 out of 10\n"
     ]
    },
    {
     "name": "stderr",
     "output_type": "stream",
     "text": [
      "Classifier Training Epoch: 100%|\u001b[32m██████████\u001b[0m| 40/40 [00:19<00:00,  2.08it/s, acc=0.953, loss=1.07]   \n"
     ]
    },
    {
     "name": "stdout",
     "output_type": "stream",
     "text": [
      "17366\n"
     ]
    },
    {
     "name": "stderr",
     "output_type": "stream",
     "text": [
      "Classifier Training Epoch:  18%|\u001b[32m█▊        \u001b[0m| 7/40 [00:09<00:36,  1.10s/it, acc=1, loss=0]          "
     ]
    },
    {
     "name": "stdout",
     "output_type": "stream",
     "text": [
      "EarlyStopping counter: 1 out of 10\n"
     ]
    },
    {
     "name": "stderr",
     "output_type": "stream",
     "text": [
      "Classifier Training Epoch:  25%|\u001b[32m██▌       \u001b[0m| 10/40 [00:12<00:32,  1.08s/it, acc=1, loss=0]         "
     ]
    },
    {
     "name": "stdout",
     "output_type": "stream",
     "text": [
      "EarlyStopping counter: 1 out of 10\n"
     ]
    },
    {
     "name": "stderr",
     "output_type": "stream",
     "text": [
      "Classifier Training Epoch:  32%|\u001b[32m███▎      \u001b[0m| 13/40 [00:16<00:30,  1.11s/it, acc=0.908, loss=2.05]   "
     ]
    },
    {
     "name": "stdout",
     "output_type": "stream",
     "text": [
      "EarlyStopping counter: 1 out of 10\n"
     ]
    },
    {
     "name": "stderr",
     "output_type": "stream",
     "text": [
      "Classifier Training Epoch:  40%|\u001b[32m████      \u001b[0m| 16/40 [00:19<00:27,  1.13s/it, acc=0.918, loss=1.39]   "
     ]
    },
    {
     "name": "stdout",
     "output_type": "stream",
     "text": [
      "EarlyStopping counter: 1 out of 10\n"
     ]
    },
    {
     "name": "stderr",
     "output_type": "stream",
     "text": [
      "Classifier Training Epoch:  48%|\u001b[32m████▊     \u001b[0m| 19/40 [00:23<00:23,  1.14s/it, acc=0.916, loss=1.41]   "
     ]
    },
    {
     "name": "stdout",
     "output_type": "stream",
     "text": [
      "EarlyStopping counter: 1 out of 10\n"
     ]
    },
    {
     "name": "stderr",
     "output_type": "stream",
     "text": [
      "Classifier Training Epoch:  55%|\u001b[32m█████▌    \u001b[0m| 22/40 [00:26<00:20,  1.12s/it, acc=0.951, loss=0.768]  "
     ]
    },
    {
     "name": "stdout",
     "output_type": "stream",
     "text": [
      "EarlyStopping counter: 1 out of 10\n"
     ]
    },
    {
     "name": "stderr",
     "output_type": "stream",
     "text": [
      "Classifier Training Epoch:  62%|\u001b[32m██████▎   \u001b[0m| 25/40 [00:29<00:18,  1.22s/it, acc=0.953, loss=0.837]  "
     ]
    },
    {
     "name": "stdout",
     "output_type": "stream",
     "text": [
      "EarlyStopping counter: 1 out of 10\n"
     ]
    },
    {
     "name": "stderr",
     "output_type": "stream",
     "text": [
      "Classifier Training Epoch:  65%|\u001b[32m██████▌   \u001b[0m| 26/40 [00:31<00:15,  1.09s/it, acc=1, loss=0]          "
     ]
    },
    {
     "name": "stdout",
     "output_type": "stream",
     "text": [
      "EarlyStopping counter: 2 out of 10\n"
     ]
    },
    {
     "name": "stderr",
     "output_type": "stream",
     "text": [
      "Classifier Training Epoch:  70%|\u001b[32m███████   \u001b[0m| 28/40 [00:33<00:15,  1.33s/it, acc=0.98, loss=0.604]   "
     ]
    },
    {
     "name": "stdout",
     "output_type": "stream",
     "text": [
      "EarlyStopping counter: 3 out of 10\n"
     ]
    },
    {
     "name": "stderr",
     "output_type": "stream",
     "text": [
      "Classifier Training Epoch:  72%|\u001b[32m███████▎  \u001b[0m| 29/40 [00:35<00:13,  1.21s/it, acc=0.998, loss=0.0239]"
     ]
    },
    {
     "name": "stdout",
     "output_type": "stream",
     "text": [
      "EarlyStopping counter: 4 out of 10\n"
     ]
    },
    {
     "name": "stderr",
     "output_type": "stream",
     "text": [
      "Classifier Training Epoch:  78%|\u001b[32m███████▊  \u001b[0m| 31/40 [00:37<00:11,  1.26s/it, acc=0.969, loss=0.474] "
     ]
    },
    {
     "name": "stdout",
     "output_type": "stream",
     "text": [
      "EarlyStopping counter: 5 out of 10\n"
     ]
    },
    {
     "name": "stderr",
     "output_type": "stream",
     "text": [
      "Classifier Training Epoch:  80%|\u001b[32m████████  \u001b[0m| 32/40 [00:38<00:09,  1.15s/it, acc=1, loss=0]         "
     ]
    },
    {
     "name": "stdout",
     "output_type": "stream",
     "text": [
      "EarlyStopping counter: 6 out of 10\n"
     ]
    },
    {
     "name": "stderr",
     "output_type": "stream",
     "text": [
      "Classifier Training Epoch:  85%|\u001b[32m████████▌ \u001b[0m| 34/40 [00:40<00:07,  1.19s/it, acc=0.986, loss=0.0554]"
     ]
    },
    {
     "name": "stdout",
     "output_type": "stream",
     "text": [
      "EarlyStopping counter: 7 out of 10\n"
     ]
    },
    {
     "name": "stderr",
     "output_type": "stream",
     "text": [
      "Classifier Training Epoch:  88%|\u001b[32m████████▊ \u001b[0m| 35/40 [00:42<00:05,  1.12s/it, acc=1, loss=0]         "
     ]
    },
    {
     "name": "stdout",
     "output_type": "stream",
     "text": [
      "EarlyStopping counter: 8 out of 10\n"
     ]
    },
    {
     "name": "stderr",
     "output_type": "stream",
     "text": [
      "Classifier Training Epoch:  92%|\u001b[32m█████████▎\u001b[0m| 37/40 [00:43<00:03,  1.24s/it, acc=0.966, loss=0.603] "
     ]
    },
    {
     "name": "stdout",
     "output_type": "stream",
     "text": [
      "EarlyStopping counter: 9 out of 10\n"
     ]
    },
    {
     "name": "stderr",
     "output_type": "stream",
     "text": [
      "Classifier Training Epoch:  95%|\u001b[32m█████████▌\u001b[0m| 38/40 [00:45<00:02,  1.11s/it, acc=0.924, loss=1.5]   "
     ]
    },
    {
     "name": "stdout",
     "output_type": "stream",
     "text": [
      "EarlyStopping counter: 10 out of 10\n"
     ]
    },
    {
     "name": "stderr",
     "output_type": "stream",
     "text": [
      "Classifier Training Epoch:  98%|\u001b[32m█████████▊\u001b[0m| 39/40 [00:47<00:01,  1.14s/it, acc=1, loss=6.29e-9]    "
     ]
    },
    {
     "name": "stdout",
     "output_type": "stream",
     "text": [
      "EarlyStopping counter: 11 out of 10\n"
     ]
    },
    {
     "name": "stderr",
     "output_type": "stream",
     "text": [
      "Classifier Training Epoch: 100%|\u001b[32m██████████\u001b[0m| 40/40 [00:47<00:00,  1.18s/it, acc=0.966, loss=0.498] \n"
     ]
    },
    {
     "name": "stdout",
     "output_type": "stream",
     "text": [
      "17366\n"
     ]
    },
    {
     "name": "stderr",
     "output_type": "stream",
     "text": [
      "Classifier Training Epoch:   1%|\u001b[32m▏         \u001b[0m| 4/300 [00:05<05:54,  1.20s/it, acc=1, loss=1.4e-9]     "
     ]
    },
    {
     "name": "stdout",
     "output_type": "stream",
     "text": [
      "EarlyStopping counter: 1 out of 10\n"
     ]
    },
    {
     "name": "stderr",
     "output_type": "stream",
     "text": [
      "Classifier Training Epoch:   3%|\u001b[32m▎         \u001b[0m| 9/300 [00:10<05:46,  1.19s/it, acc=0.91, loss=0.987]   "
     ]
    },
    {
     "name": "stdout",
     "output_type": "stream",
     "text": [
      "EarlyStopping counter: 1 out of 10\n"
     ]
    },
    {
     "name": "stderr",
     "output_type": "stream",
     "text": [
      "Classifier Training Epoch:   4%|\u001b[32m▍         \u001b[0m| 12/300 [00:14<05:31,  1.15s/it, acc=0.509, loss=5.28]   "
     ]
    },
    {
     "name": "stdout",
     "output_type": "stream",
     "text": [
      "EarlyStopping counter: 1 out of 10\n"
     ]
    },
    {
     "name": "stderr",
     "output_type": "stream",
     "text": [
      "Classifier Training Epoch:   5%|\u001b[32m▍         \u001b[0m| 14/300 [00:17<05:18,  1.11s/it, acc=0.594, loss=3.79]   "
     ]
    },
    {
     "name": "stdout",
     "output_type": "stream",
     "text": [
      "EarlyStopping counter: 1 out of 10\n"
     ]
    },
    {
     "name": "stderr",
     "output_type": "stream",
     "text": [
      "Classifier Training Epoch:   6%|\u001b[32m▌         \u001b[0m| 17/300 [00:20<05:03,  1.07s/it, acc=0.986, loss=0.0982] "
     ]
    },
    {
     "name": "stdout",
     "output_type": "stream",
     "text": [
      "EarlyStopping counter: 1 out of 10\n"
     ]
    },
    {
     "name": "stderr",
     "output_type": "stream",
     "text": [
      "Classifier Training Epoch:   7%|\u001b[32m▋         \u001b[0m| 20/300 [00:24<05:12,  1.11s/it, acc=0.998, loss=0.0124] "
     ]
    },
    {
     "name": "stdout",
     "output_type": "stream",
     "text": [
      "EarlyStopping counter: 1 out of 10\n"
     ]
    },
    {
     "name": "stderr",
     "output_type": "stream",
     "text": [
      "Classifier Training Epoch:   8%|\u001b[32m▊         \u001b[0m| 23/300 [00:27<05:32,  1.20s/it, acc=0.996, loss=0.0117] "
     ]
    },
    {
     "name": "stdout",
     "output_type": "stream",
     "text": [
      "EarlyStopping counter: 1 out of 10\n"
     ]
    },
    {
     "name": "stderr",
     "output_type": "stream",
     "text": [
      "Classifier Training Epoch:   8%|\u001b[32m▊         \u001b[0m| 25/300 [00:29<05:47,  1.26s/it, acc=0.754, loss=3.57]  "
     ]
    },
    {
     "name": "stdout",
     "output_type": "stream",
     "text": [
      "EarlyStopping counter: 2 out of 10\n"
     ]
    },
    {
     "name": "stderr",
     "output_type": "stream",
     "text": [
      "Classifier Training Epoch:   9%|\u001b[32m▊         \u001b[0m| 26/300 [00:31<05:07,  1.12s/it, acc=0.764, loss=2.18] "
     ]
    },
    {
     "name": "stdout",
     "output_type": "stream",
     "text": [
      "EarlyStopping counter: 3 out of 10\n"
     ]
    },
    {
     "name": "stderr",
     "output_type": "stream",
     "text": [
      "Classifier Training Epoch:   9%|\u001b[32m▉         \u001b[0m| 28/300 [00:33<05:56,  1.31s/it, acc=0.814, loss=2.28]   "
     ]
    },
    {
     "name": "stdout",
     "output_type": "stream",
     "text": [
      "EarlyStopping counter: 4 out of 10\n"
     ]
    },
    {
     "name": "stderr",
     "output_type": "stream",
     "text": [
      "Classifier Training Epoch:  10%|\u001b[32m▉         \u001b[0m| 29/300 [00:34<05:26,  1.21s/it, acc=0.945, loss=0.461]"
     ]
    },
    {
     "name": "stdout",
     "output_type": "stream",
     "text": [
      "EarlyStopping counter: 5 out of 10\n"
     ]
    },
    {
     "name": "stderr",
     "output_type": "stream",
     "text": [
      "Classifier Training Epoch:  10%|\u001b[32m█         \u001b[0m| 31/300 [00:36<06:03,  1.35s/it, acc=0.93, loss=1.08]   "
     ]
    },
    {
     "name": "stdout",
     "output_type": "stream",
     "text": [
      "EarlyStopping counter: 6 out of 10\n"
     ]
    },
    {
     "name": "stderr",
     "output_type": "stream",
     "text": [
      "Classifier Training Epoch:  11%|\u001b[32m█         \u001b[0m| 32/300 [00:39<05:51,  1.31s/it, acc=1, loss=4.89e-9]  "
     ]
    },
    {
     "name": "stdout",
     "output_type": "stream",
     "text": [
      "EarlyStopping counter: 7 out of 10\n"
     ]
    },
    {
     "name": "stderr",
     "output_type": "stream",
     "text": [
      "Classifier Training Epoch:  11%|\u001b[32m█▏        \u001b[0m| 34/300 [00:41<06:05,  1.37s/it, acc=0.91, loss=1.04]    "
     ]
    },
    {
     "name": "stdout",
     "output_type": "stream",
     "text": [
      "EarlyStopping counter: 8 out of 10\n"
     ]
    },
    {
     "name": "stderr",
     "output_type": "stream",
     "text": [
      "Classifier Training Epoch:  12%|\u001b[32m█▏        \u001b[0m| 36/300 [00:44<05:32,  1.26s/it, acc=0.592, loss=2.86]  "
     ]
    },
    {
     "name": "stdout",
     "output_type": "stream",
     "text": [
      "EarlyStopping counter: 1 out of 10\n"
     ]
    },
    {
     "name": "stderr",
     "output_type": "stream",
     "text": [
      "Classifier Training Epoch:  13%|\u001b[32m█▎        \u001b[0m| 39/300 [00:48<05:14,  1.20s/it, acc=0.996, loss=0.0179] "
     ]
    },
    {
     "name": "stdout",
     "output_type": "stream",
     "text": [
      "EarlyStopping counter: 1 out of 10\n"
     ]
    },
    {
     "name": "stderr",
     "output_type": "stream",
     "text": [
      "Classifier Training Epoch:  14%|\u001b[32m█▍        \u001b[0m| 42/300 [00:52<06:19,  1.47s/it, acc=0.998, loss=0.00885]"
     ]
    },
    {
     "name": "stdout",
     "output_type": "stream",
     "text": [
      "EarlyStopping counter: 1 out of 10\n"
     ]
    },
    {
     "name": "stderr",
     "output_type": "stream",
     "text": [
      "Classifier Training Epoch:  15%|\u001b[32m█▌        \u001b[0m| 45/300 [00:57<06:22,  1.50s/it, acc=0.998, loss=0.00911]"
     ]
    },
    {
     "name": "stdout",
     "output_type": "stream",
     "text": [
      "EarlyStopping counter: 1 out of 10\n"
     ]
    },
    {
     "name": "stderr",
     "output_type": "stream",
     "text": [
      "Classifier Training Epoch:  16%|\u001b[32m█▌        \u001b[0m| 48/300 [01:01<05:41,  1.35s/it, acc=0.998, loss=0.00798]"
     ]
    },
    {
     "name": "stdout",
     "output_type": "stream",
     "text": [
      "EarlyStopping counter: 1 out of 10\n"
     ]
    },
    {
     "name": "stderr",
     "output_type": "stream",
     "text": [
      "Classifier Training Epoch:  17%|\u001b[32m█▋        \u001b[0m| 50/300 [01:03<06:01,  1.45s/it, acc=0.508, loss=11.5]   "
     ]
    },
    {
     "name": "stdout",
     "output_type": "stream",
     "text": [
      "EarlyStopping counter: 2 out of 10\n"
     ]
    },
    {
     "name": "stderr",
     "output_type": "stream",
     "text": [
      "Classifier Training Epoch:  17%|\u001b[32m█▋        \u001b[0m| 51/300 [01:04<05:22,  1.30s/it, acc=0.762, loss=1.91] "
     ]
    },
    {
     "name": "stdout",
     "output_type": "stream",
     "text": [
      "EarlyStopping counter: 3 out of 10\n"
     ]
    },
    {
     "name": "stderr",
     "output_type": "stream",
     "text": [
      "Classifier Training Epoch:  18%|\u001b[32m█▊        \u001b[0m| 53/300 [01:07<05:56,  1.44s/it, acc=0.82, loss=2.46]    "
     ]
    },
    {
     "name": "stdout",
     "output_type": "stream",
     "text": [
      "EarlyStopping counter: 4 out of 10\n"
     ]
    },
    {
     "name": "stderr",
     "output_type": "stream",
     "text": [
      "Classifier Training Epoch:  18%|\u001b[32m█▊        \u001b[0m| 54/300 [01:09<05:18,  1.30s/it, acc=1, loss=9.87e-8]  "
     ]
    },
    {
     "name": "stdout",
     "output_type": "stream",
     "text": [
      "EarlyStopping counter: 5 out of 10\n"
     ]
    },
    {
     "name": "stderr",
     "output_type": "stream",
     "text": [
      "Classifier Training Epoch:  19%|\u001b[32m█▊        \u001b[0m| 56/300 [01:11<05:51,  1.44s/it, acc=0.936, loss=0.745]  "
     ]
    },
    {
     "name": "stdout",
     "output_type": "stream",
     "text": [
      "EarlyStopping counter: 6 out of 10\n"
     ]
    },
    {
     "name": "stderr",
     "output_type": "stream",
     "text": [
      "Classifier Training Epoch:  19%|\u001b[32m█▉        \u001b[0m| 57/300 [01:13<05:12,  1.29s/it, acc=1, loss=9.64e-8]  "
     ]
    },
    {
     "name": "stdout",
     "output_type": "stream",
     "text": [
      "EarlyStopping counter: 7 out of 10\n"
     ]
    },
    {
     "name": "stderr",
     "output_type": "stream",
     "text": [
      "Classifier Training Epoch:  20%|\u001b[32m█▉        \u001b[0m| 59/300 [01:14<05:35,  1.39s/it, acc=0.932, loss=0.759]  "
     ]
    },
    {
     "name": "stdout",
     "output_type": "stream",
     "text": [
      "EarlyStopping counter: 8 out of 10\n"
     ]
    },
    {
     "name": "stderr",
     "output_type": "stream",
     "text": [
      "Classifier Training Epoch:  20%|\u001b[32m██        \u001b[0m| 60/300 [01:16<05:02,  1.26s/it, acc=0.0449, loss=18.7]"
     ]
    },
    {
     "name": "stdout",
     "output_type": "stream",
     "text": [
      "EarlyStopping counter: 9 out of 10\n"
     ]
    },
    {
     "name": "stderr",
     "output_type": "stream",
     "text": [
      "Classifier Training Epoch:  20%|\u001b[32m██        \u001b[0m| 61/300 [01:18<05:10,  1.30s/it, acc=0.566, loss=2.54]   "
     ]
    },
    {
     "name": "stdout",
     "output_type": "stream",
     "text": [
      "EarlyStopping counter: 10 out of 10\n"
     ]
    },
    {
     "name": "stderr",
     "output_type": "stream",
     "text": [
      "Classifier Training Epoch:  21%|\u001b[32m██        \u001b[0m| 63/300 [01:20<04:56,  1.25s/it, acc=0.0488, loss=17.5]"
     ]
    },
    {
     "name": "stdout",
     "output_type": "stream",
     "text": [
      "EarlyStopping counter: 11 out of 10\n"
     ]
    },
    {
     "name": "stderr",
     "output_type": "stream",
     "text": [
      "Classifier Training Epoch:  21%|\u001b[32m██▏       \u001b[0m| 64/300 [01:22<04:47,  1.22s/it, acc=0.561, loss=2.44]   "
     ]
    },
    {
     "name": "stdout",
     "output_type": "stream",
     "text": [
      "EarlyStopping counter: 12 out of 10\n"
     ]
    },
    {
     "name": "stderr",
     "output_type": "stream",
     "text": [
      "Classifier Training Epoch:  22%|\u001b[32m██▏       \u001b[0m| 67/300 [01:25<04:18,  1.11s/it, acc=0.654, loss=1.82]   "
     ]
    },
    {
     "name": "stdout",
     "output_type": "stream",
     "text": [
      "EarlyStopping counter: 1 out of 10\n"
     ]
    },
    {
     "name": "stderr",
     "output_type": "stream",
     "text": [
      "Classifier Training Epoch:  23%|\u001b[32m██▎       \u001b[0m| 69/300 [01:26<04:09,  1.08s/it, acc=0.234, loss=4.42] "
     ]
    },
    {
     "name": "stdout",
     "output_type": "stream",
     "text": [
      "EarlyStopping counter: 2 out of 10\n"
     ]
    },
    {
     "name": "stderr",
     "output_type": "stream",
     "text": [
      "Classifier Training Epoch:  23%|\u001b[32m██▎       \u001b[0m| 70/300 [01:28<04:13,  1.10s/it, acc=0.998, loss=0.00402]"
     ]
    },
    {
     "name": "stdout",
     "output_type": "stream",
     "text": [
      "EarlyStopping counter: 3 out of 10\n"
     ]
    },
    {
     "name": "stderr",
     "output_type": "stream",
     "text": [
      "Classifier Training Epoch:  24%|\u001b[32m██▍       \u001b[0m| 72/300 [01:30<04:00,  1.06s/it, acc=0.729, loss=0.991]  "
     ]
    },
    {
     "name": "stdout",
     "output_type": "stream",
     "text": [
      "EarlyStopping counter: 4 out of 10\n"
     ]
    },
    {
     "name": "stderr",
     "output_type": "stream",
     "text": [
      "Classifier Training Epoch:  24%|\u001b[32m██▍       \u001b[0m| 73/300 [01:31<04:03,  1.07s/it, acc=0.998, loss=0.0057] "
     ]
    },
    {
     "name": "stdout",
     "output_type": "stream",
     "text": [
      "EarlyStopping counter: 5 out of 10\n"
     ]
    },
    {
     "name": "stderr",
     "output_type": "stream",
     "text": [
      "Classifier Training Epoch:  25%|\u001b[32m██▌       \u001b[0m| 75/300 [01:33<04:23,  1.17s/it, acc=0.652, loss=4.62]   "
     ]
    },
    {
     "name": "stdout",
     "output_type": "stream",
     "text": [
      "EarlyStopping counter: 6 out of 10\n"
     ]
    },
    {
     "name": "stderr",
     "output_type": "stream",
     "text": [
      "Classifier Training Epoch:  25%|\u001b[32m██▌       \u001b[0m| 76/300 [01:35<03:56,  1.06s/it, acc=1, loss=5.12e-8]  "
     ]
    },
    {
     "name": "stdout",
     "output_type": "stream",
     "text": [
      "EarlyStopping counter: 7 out of 10\n"
     ]
    },
    {
     "name": "stderr",
     "output_type": "stream",
     "text": [
      "Classifier Training Epoch:  26%|\u001b[32m██▌       \u001b[0m| 78/300 [01:37<04:32,  1.23s/it, acc=0.516, loss=10.1]   "
     ]
    },
    {
     "name": "stdout",
     "output_type": "stream",
     "text": [
      "EarlyStopping counter: 8 out of 10\n"
     ]
    },
    {
     "name": "stderr",
     "output_type": "stream",
     "text": [
      "Classifier Training Epoch:  26%|\u001b[32m██▋       \u001b[0m| 79/300 [01:38<03:58,  1.08s/it, acc=0.998, loss=0.00294]"
     ]
    },
    {
     "name": "stdout",
     "output_type": "stream",
     "text": [
      "EarlyStopping counter: 9 out of 10\n"
     ]
    },
    {
     "name": "stderr",
     "output_type": "stream",
     "text": [
      "Classifier Training Epoch:  27%|\u001b[32m██▋       \u001b[0m| 81/300 [01:40<04:20,  1.19s/it, acc=0.83, loss=2.49]    "
     ]
    },
    {
     "name": "stdout",
     "output_type": "stream",
     "text": [
      "EarlyStopping counter: 10 out of 10\n"
     ]
    },
    {
     "name": "stderr",
     "output_type": "stream",
     "text": [
      "Classifier Training Epoch:  27%|\u001b[32m██▋       \u001b[0m| 82/300 [01:41<03:50,  1.06s/it, acc=1, loss=6.98e-10] "
     ]
    },
    {
     "name": "stdout",
     "output_type": "stream",
     "text": [
      "EarlyStopping counter: 11 out of 10\n"
     ]
    },
    {
     "name": "stderr",
     "output_type": "stream",
     "text": [
      "Classifier Training Epoch:  28%|\u001b[32m██▊       \u001b[0m| 84/300 [01:43<04:18,  1.20s/it, acc=0.464, loss=3.17]   "
     ]
    },
    {
     "name": "stdout",
     "output_type": "stream",
     "text": [
      "EarlyStopping counter: 12 out of 10\n"
     ]
    },
    {
     "name": "stderr",
     "output_type": "stream",
     "text": [
      "Classifier Training Epoch:  28%|\u001b[32m██▊       \u001b[0m| 85/300 [01:45<03:53,  1.08s/it, acc=1, loss=1.4e-9]    "
     ]
    },
    {
     "name": "stdout",
     "output_type": "stream",
     "text": [
      "EarlyStopping counter: 13 out of 10\n"
     ]
    },
    {
     "name": "stderr",
     "output_type": "stream",
     "text": [
      "Classifier Training Epoch:  29%|\u001b[32m██▉       \u001b[0m| 87/300 [01:47<04:11,  1.18s/it, acc=0.953, loss=0.72]   "
     ]
    },
    {
     "name": "stdout",
     "output_type": "stream",
     "text": [
      "EarlyStopping counter: 14 out of 10\n"
     ]
    },
    {
     "name": "stderr",
     "output_type": "stream",
     "text": [
      "Classifier Training Epoch:  30%|\u001b[32m██▉       \u001b[0m| 89/300 [01:50<03:50,  1.09s/it, acc=0.643, loss=1.84]   "
     ]
    },
    {
     "name": "stdout",
     "output_type": "stream",
     "text": [
      "EarlyStopping counter: 1 out of 10\n"
     ]
    },
    {
     "name": "stderr",
     "output_type": "stream",
     "text": [
      "Classifier Training Epoch:  31%|\u001b[32m███       \u001b[0m| 92/300 [01:52<03:34,  1.03s/it, acc=0.635, loss=1.69]   "
     ]
    },
    {
     "name": "stdout",
     "output_type": "stream",
     "text": [
      "EarlyStopping counter: 1 out of 10\n"
     ]
    },
    {
     "name": "stderr",
     "output_type": "stream",
     "text": [
      "Classifier Training Epoch:  32%|\u001b[32m███▏      \u001b[0m| 95/300 [01:56<03:26,  1.01s/it, acc=0.998, loss=0.00633]"
     ]
    },
    {
     "name": "stdout",
     "output_type": "stream",
     "text": [
      "EarlyStopping counter: 1 out of 10\n"
     ]
    },
    {
     "name": "stderr",
     "output_type": "stream",
     "text": [
      "Classifier Training Epoch:  33%|\u001b[32m███▎      \u001b[0m| 98/300 [01:58<03:24,  1.01s/it, acc=0.998, loss=0.00566]"
     ]
    },
    {
     "name": "stdout",
     "output_type": "stream",
     "text": [
      "EarlyStopping counter: 1 out of 10\n"
     ]
    },
    {
     "name": "stderr",
     "output_type": "stream",
     "text": [
      "Classifier Training Epoch:  33%|\u001b[32m███▎      \u001b[0m| 100/300 [02:00<03:42,  1.11s/it, acc=0.699, loss=4.02]  "
     ]
    },
    {
     "name": "stdout",
     "output_type": "stream",
     "text": [
      "EarlyStopping counter: 2 out of 10\n"
     ]
    },
    {
     "name": "stderr",
     "output_type": "stream",
     "text": [
      "Classifier Training Epoch:  34%|\u001b[32m███▎      \u001b[0m| 101/300 [02:02<03:17,  1.01it/s, acc=0.783, loss=1.35]  "
     ]
    },
    {
     "name": "stdout",
     "output_type": "stream",
     "text": [
      "EarlyStopping counter: 3 out of 10\n"
     ]
    },
    {
     "name": "stderr",
     "output_type": "stream",
     "text": [
      "Classifier Training Epoch:  34%|\u001b[32m███▍      \u001b[0m| 103/300 [02:03<03:40,  1.12s/it, acc=0.742, loss=2.86]   "
     ]
    },
    {
     "name": "stdout",
     "output_type": "stream",
     "text": [
      "EarlyStopping counter: 4 out of 10\n"
     ]
    },
    {
     "name": "stderr",
     "output_type": "stream",
     "text": [
      "Classifier Training Epoch:  35%|\u001b[32m███▍      \u001b[0m| 104/300 [02:05<03:17,  1.01s/it, acc=0.807, loss=1.19] "
     ]
    },
    {
     "name": "stdout",
     "output_type": "stream",
     "text": [
      "EarlyStopping counter: 5 out of 10\n"
     ]
    },
    {
     "name": "stderr",
     "output_type": "stream",
     "text": [
      "Classifier Training Epoch:  35%|\u001b[32m███▌      \u001b[0m| 106/300 [02:06<03:35,  1.11s/it, acc=0.822, loss=1.92]   "
     ]
    },
    {
     "name": "stdout",
     "output_type": "stream",
     "text": [
      "EarlyStopping counter: 6 out of 10\n"
     ]
    },
    {
     "name": "stderr",
     "output_type": "stream",
     "text": [
      "Classifier Training Epoch:  36%|\u001b[32m███▌      \u001b[0m| 107/300 [02:08<03:20,  1.04s/it, acc=1, loss=2.56e-8]   "
     ]
    },
    {
     "name": "stdout",
     "output_type": "stream",
     "text": [
      "EarlyStopping counter: 7 out of 10\n"
     ]
    },
    {
     "name": "stderr",
     "output_type": "stream",
     "text": [
      "Classifier Training Epoch:  36%|\u001b[32m███▋      \u001b[0m| 109/300 [02:10<03:37,  1.14s/it, acc=0.91, loss=0.697]   "
     ]
    },
    {
     "name": "stdout",
     "output_type": "stream",
     "text": [
      "EarlyStopping counter: 8 out of 10\n"
     ]
    },
    {
     "name": "stderr",
     "output_type": "stream",
     "text": [
      "Classifier Training Epoch:  37%|\u001b[32m███▋      \u001b[0m| 110/300 [02:11<03:15,  1.03s/it, acc=1, loss=6.98e-10] "
     ]
    },
    {
     "name": "stdout",
     "output_type": "stream",
     "text": [
      "EarlyStopping counter: 9 out of 10\n"
     ]
    },
    {
     "name": "stderr",
     "output_type": "stream",
     "text": [
      "Classifier Training Epoch:  37%|\u001b[32m███▋      \u001b[0m| 112/300 [02:13<03:30,  1.12s/it, acc=0.506, loss=2.54]   "
     ]
    },
    {
     "name": "stdout",
     "output_type": "stream",
     "text": [
      "EarlyStopping counter: 10 out of 10\n"
     ]
    },
    {
     "name": "stderr",
     "output_type": "stream",
     "text": [
      "Classifier Training Epoch:  38%|\u001b[32m███▊      \u001b[0m| 113/300 [02:14<03:08,  1.01s/it, acc=1, loss=9.31e-10]  "
     ]
    },
    {
     "name": "stdout",
     "output_type": "stream",
     "text": [
      "EarlyStopping counter: 11 out of 10\n"
     ]
    },
    {
     "name": "stderr",
     "output_type": "stream",
     "text": [
      "Classifier Training Epoch:  38%|\u001b[32m███▊      \u001b[0m| 114/300 [02:16<03:15,  1.05s/it, acc=0.648, loss=1.66]   "
     ]
    },
    {
     "name": "stdout",
     "output_type": "stream",
     "text": [
      "EarlyStopping counter: 12 out of 10\n"
     ]
    },
    {
     "name": "stderr",
     "output_type": "stream",
     "text": [
      "Classifier Training Epoch:  39%|\u001b[32m███▉      \u001b[0m| 117/300 [02:19<03:10,  1.04s/it, acc=0.99, loss=0.0283]  "
     ]
    },
    {
     "name": "stdout",
     "output_type": "stream",
     "text": [
      "EarlyStopping counter: 1 out of 10\n"
     ]
    },
    {
     "name": "stderr",
     "output_type": "stream",
     "text": [
      "Classifier Training Epoch:  40%|\u001b[32m████      \u001b[0m| 120/300 [02:22<03:05,  1.03s/it, acc=0.998, loss=0.00334]"
     ]
    },
    {
     "name": "stdout",
     "output_type": "stream",
     "text": [
      "EarlyStopping counter: 1 out of 10\n"
     ]
    },
    {
     "name": "stderr",
     "output_type": "stream",
     "text": [
      "Classifier Training Epoch:  41%|\u001b[32m████      \u001b[0m| 122/300 [02:24<02:56,  1.01it/s, acc=0.488, loss=1.74]   "
     ]
    },
    {
     "name": "stdout",
     "output_type": "stream",
     "text": [
      "EarlyStopping counter: 2 out of 10\n"
     ]
    },
    {
     "name": "stderr",
     "output_type": "stream",
     "text": [
      "Classifier Training Epoch:  41%|\u001b[32m████      \u001b[0m| 123/300 [02:25<03:02,  1.03s/it, acc=1, loss=0.000414]   "
     ]
    },
    {
     "name": "stdout",
     "output_type": "stream",
     "text": [
      "EarlyStopping counter: 3 out of 10\n"
     ]
    },
    {
     "name": "stderr",
     "output_type": "stream",
     "text": [
      "Classifier Training Epoch:  42%|\u001b[32m████▏     \u001b[0m| 125/300 [02:27<03:17,  1.13s/it, acc=0.717, loss=2.79]   "
     ]
    },
    {
     "name": "stdout",
     "output_type": "stream",
     "text": [
      "EarlyStopping counter: 4 out of 10\n"
     ]
    },
    {
     "name": "stderr",
     "output_type": "stream",
     "text": [
      "Classifier Training Epoch:  42%|\u001b[32m████▏     \u001b[0m| 126/300 [02:28<02:55,  1.01s/it, acc=1, loss=5.02e-5]  "
     ]
    },
    {
     "name": "stdout",
     "output_type": "stream",
     "text": [
      "EarlyStopping counter: 5 out of 10\n"
     ]
    },
    {
     "name": "stderr",
     "output_type": "stream",
     "text": [
      "Classifier Training Epoch:  43%|\u001b[32m████▎     \u001b[0m| 128/300 [02:30<03:09,  1.10s/it, acc=0.592, loss=5.89]   "
     ]
    },
    {
     "name": "stdout",
     "output_type": "stream",
     "text": [
      "EarlyStopping counter: 6 out of 10\n"
     ]
    },
    {
     "name": "stderr",
     "output_type": "stream",
     "text": [
      "Classifier Training Epoch:  43%|\u001b[32m████▎     \u001b[0m| 129/300 [02:32<02:51,  1.00s/it, acc=1, loss=6.98e-10] "
     ]
    },
    {
     "name": "stdout",
     "output_type": "stream",
     "text": [
      "EarlyStopping counter: 7 out of 10\n"
     ]
    },
    {
     "name": "stderr",
     "output_type": "stream",
     "text": [
      "Classifier Training Epoch:  44%|\u001b[32m████▎     \u001b[0m| 131/300 [02:34<03:41,  1.31s/it, acc=0.922, loss=0.715]  "
     ]
    },
    {
     "name": "stdout",
     "output_type": "stream",
     "text": [
      "EarlyStopping counter: 8 out of 10\n"
     ]
    },
    {
     "name": "stderr",
     "output_type": "stream",
     "text": [
      "Classifier Training Epoch:  44%|\u001b[32m████▍     \u001b[0m| 132/300 [02:35<03:17,  1.17s/it, acc=1, loss=4.21e-8]  "
     ]
    },
    {
     "name": "stdout",
     "output_type": "stream",
     "text": [
      "EarlyStopping counter: 9 out of 10\n"
     ]
    },
    {
     "name": "stderr",
     "output_type": "stream",
     "text": [
      "Classifier Training Epoch:  45%|\u001b[32m████▍     \u001b[0m| 134/300 [02:37<03:31,  1.28s/it, acc=0.912, loss=0.8]    "
     ]
    },
    {
     "name": "stdout",
     "output_type": "stream",
     "text": [
      "EarlyStopping counter: 10 out of 10\n"
     ]
    },
    {
     "name": "stderr",
     "output_type": "stream",
     "text": [
      "Classifier Training Epoch:  45%|\u001b[32m████▌     \u001b[0m| 135/300 [02:39<03:10,  1.16s/it, acc=1, loss=6.98e-10] "
     ]
    },
    {
     "name": "stdout",
     "output_type": "stream",
     "text": [
      "EarlyStopping counter: 11 out of 10\n"
     ]
    },
    {
     "name": "stderr",
     "output_type": "stream",
     "text": [
      "Classifier Training Epoch:  46%|\u001b[32m████▌     \u001b[0m| 137/300 [02:41<03:26,  1.26s/it, acc=0.536, loss=2.13]   "
     ]
    },
    {
     "name": "stdout",
     "output_type": "stream",
     "text": [
      "EarlyStopping counter: 12 out of 10\n"
     ]
    },
    {
     "name": "stderr",
     "output_type": "stream",
     "text": [
      "Classifier Training Epoch:  46%|\u001b[32m████▋     \u001b[0m| 139/300 [02:44<03:12,  1.20s/it, acc=0.74, loss=1]       "
     ]
    },
    {
     "name": "stdout",
     "output_type": "stream",
     "text": [
      "EarlyStopping counter: 1 out of 10\n"
     ]
    },
    {
     "name": "stderr",
     "output_type": "stream",
     "text": [
      "Classifier Training Epoch:  47%|\u001b[32m████▋     \u001b[0m| 141/300 [02:46<03:00,  1.13s/it, acc=0.279, loss=3.13] "
     ]
    },
    {
     "name": "stdout",
     "output_type": "stream",
     "text": [
      "EarlyStopping counter: 2 out of 10\n"
     ]
    },
    {
     "name": "stderr",
     "output_type": "stream",
     "text": [
      "Classifier Training Epoch:  47%|\u001b[32m████▋     \u001b[0m| 142/300 [02:48<03:18,  1.26s/it, acc=1, loss=0.00141]    "
     ]
    },
    {
     "name": "stdout",
     "output_type": "stream",
     "text": [
      "EarlyStopping counter: 3 out of 10\n"
     ]
    },
    {
     "name": "stderr",
     "output_type": "stream",
     "text": [
      "Classifier Training Epoch:  48%|\u001b[32m████▊     \u001b[0m| 144/300 [02:50<03:06,  1.19s/it, acc=0.783, loss=0.618]"
     ]
    },
    {
     "name": "stdout",
     "output_type": "stream",
     "text": [
      "EarlyStopping counter: 4 out of 10\n"
     ]
    },
    {
     "name": "stderr",
     "output_type": "stream",
     "text": [
      "Classifier Training Epoch:  48%|\u001b[32m████▊     \u001b[0m| 145/300 [02:52<03:14,  1.26s/it, acc=1, loss=0.00186]   "
     ]
    },
    {
     "name": "stdout",
     "output_type": "stream",
     "text": [
      "EarlyStopping counter: 5 out of 10\n"
     ]
    },
    {
     "name": "stderr",
     "output_type": "stream",
     "text": [
      "Classifier Training Epoch:  49%|\u001b[32m████▉     \u001b[0m| 148/300 [02:55<02:52,  1.13s/it, acc=1, loss=0.00184]    "
     ]
    },
    {
     "name": "stdout",
     "output_type": "stream",
     "text": [
      "EarlyStopping counter: 1 out of 10\n"
     ]
    },
    {
     "name": "stderr",
     "output_type": "stream",
     "text": [
      "Classifier Training Epoch:  50%|\u001b[32m█████     \u001b[0m| 150/300 [02:56<02:55,  1.17s/it, acc=0.691, loss=3.43]   "
     ]
    },
    {
     "name": "stdout",
     "output_type": "stream",
     "text": [
      "EarlyStopping counter: 2 out of 10\n"
     ]
    },
    {
     "name": "stderr",
     "output_type": "stream",
     "text": [
      "Classifier Training Epoch:  50%|\u001b[32m█████     \u001b[0m| 151/300 [02:58<02:34,  1.04s/it, acc=1, loss=3.83e-5]  "
     ]
    },
    {
     "name": "stdout",
     "output_type": "stream",
     "text": [
      "EarlyStopping counter: 3 out of 10\n"
     ]
    },
    {
     "name": "stderr",
     "output_type": "stream",
     "text": [
      "Classifier Training Epoch:  51%|\u001b[32m█████     \u001b[0m| 153/300 [02:59<02:38,  1.08s/it, acc=0.543, loss=8.63]   "
     ]
    },
    {
     "name": "stdout",
     "output_type": "stream",
     "text": [
      "EarlyStopping counter: 4 out of 10\n"
     ]
    },
    {
     "name": "stderr",
     "output_type": "stream",
     "text": [
      "Classifier Training Epoch:  51%|\u001b[32m█████▏    \u001b[0m| 154/300 [03:01<02:25,  1.00it/s, acc=1, loss=8.56e-6]  "
     ]
    },
    {
     "name": "stdout",
     "output_type": "stream",
     "text": [
      "EarlyStopping counter: 5 out of 10\n"
     ]
    },
    {
     "name": "stderr",
     "output_type": "stream",
     "text": [
      "Classifier Training Epoch:  52%|\u001b[32m█████▏    \u001b[0m| 156/300 [03:02<02:37,  1.09s/it, acc=0.607, loss=4.93]   "
     ]
    },
    {
     "name": "stdout",
     "output_type": "stream",
     "text": [
      "EarlyStopping counter: 6 out of 10\n"
     ]
    },
    {
     "name": "stderr",
     "output_type": "stream",
     "text": [
      "Classifier Training Epoch:  52%|\u001b[32m█████▏    \u001b[0m| 157/300 [03:04<02:20,  1.01it/s, acc=1, loss=2.86e-8]   "
     ]
    },
    {
     "name": "stdout",
     "output_type": "stream",
     "text": [
      "EarlyStopping counter: 7 out of 10\n"
     ]
    },
    {
     "name": "stderr",
     "output_type": "stream",
     "text": [
      "Classifier Training Epoch:  53%|\u001b[32m█████▎    \u001b[0m| 159/300 [03:05<02:34,  1.10s/it, acc=0.904, loss=0.772]  "
     ]
    },
    {
     "name": "stdout",
     "output_type": "stream",
     "text": [
      "EarlyStopping counter: 8 out of 10\n"
     ]
    },
    {
     "name": "stderr",
     "output_type": "stream",
     "text": [
      "Classifier Training Epoch:  53%|\u001b[32m█████▎    \u001b[0m| 160/300 [03:07<02:18,  1.01it/s, acc=1, loss=0]        "
     ]
    },
    {
     "name": "stdout",
     "output_type": "stream",
     "text": [
      "EarlyStopping counter: 9 out of 10\n"
     ]
    },
    {
     "name": "stderr",
     "output_type": "stream",
     "text": [
      "Classifier Training Epoch:  54%|\u001b[32m█████▍    \u001b[0m| 162/300 [03:08<02:29,  1.08s/it, acc=0.955, loss=0.31]   "
     ]
    },
    {
     "name": "stdout",
     "output_type": "stream",
     "text": [
      "EarlyStopping counter: 10 out of 10\n"
     ]
    },
    {
     "name": "stderr",
     "output_type": "stream",
     "text": [
      "Classifier Training Epoch:  54%|\u001b[32m█████▍    \u001b[0m| 163/300 [03:10<02:14,  1.02it/s, acc=0.0508, loss=6.75]"
     ]
    },
    {
     "name": "stdout",
     "output_type": "stream",
     "text": [
      "EarlyStopping counter: 11 out of 10\n"
     ]
    },
    {
     "name": "stderr",
     "output_type": "stream",
     "text": [
      "Classifier Training Epoch:  55%|\u001b[32m█████▍    \u001b[0m| 164/300 [03:12<02:19,  1.02s/it, acc=0.564, loss=1.85]   "
     ]
    },
    {
     "name": "stdout",
     "output_type": "stream",
     "text": [
      "EarlyStopping counter: 12 out of 10\n"
     ]
    },
    {
     "name": "stderr",
     "output_type": "stream",
     "text": [
      "Classifier Training Epoch:  56%|\u001b[32m█████▌    \u001b[0m| 167/300 [03:14<02:16,  1.03s/it, acc=0.988, loss=0.0249] "
     ]
    },
    {
     "name": "stdout",
     "output_type": "stream",
     "text": [
      "EarlyStopping counter: 1 out of 10\n"
     ]
    },
    {
     "name": "stderr",
     "output_type": "stream",
     "text": [
      "Classifier Training Epoch:  57%|\u001b[32m█████▋    \u001b[0m| 170/300 [03:18<02:15,  1.04s/it, acc=0.998, loss=0.00237]"
     ]
    },
    {
     "name": "stdout",
     "output_type": "stream",
     "text": [
      "EarlyStopping counter: 1 out of 10\n"
     ]
    },
    {
     "name": "stderr",
     "output_type": "stream",
     "text": [
      "Classifier Training Epoch:  57%|\u001b[32m█████▋    \u001b[0m| 172/300 [03:19<02:09,  1.02s/it, acc=0.52, loss=1.42]    "
     ]
    },
    {
     "name": "stdout",
     "output_type": "stream",
     "text": [
      "EarlyStopping counter: 2 out of 10\n"
     ]
    },
    {
     "name": "stderr",
     "output_type": "stream",
     "text": [
      "Classifier Training Epoch:  58%|\u001b[32m█████▊    \u001b[0m| 173/300 [03:21<02:12,  1.04s/it, acc=1, loss=0.00162]   "
     ]
    },
    {
     "name": "stdout",
     "output_type": "stream",
     "text": [
      "EarlyStopping counter: 3 out of 10\n"
     ]
    },
    {
     "name": "stderr",
     "output_type": "stream",
     "text": [
      "Classifier Training Epoch:  58%|\u001b[32m█████▊    \u001b[0m| 175/300 [03:22<02:20,  1.12s/it, acc=0.682, loss=3.65]   "
     ]
    },
    {
     "name": "stdout",
     "output_type": "stream",
     "text": [
      "EarlyStopping counter: 4 out of 10\n"
     ]
    },
    {
     "name": "stderr",
     "output_type": "stream",
     "text": [
      "Classifier Training Epoch:  59%|\u001b[32m█████▊    \u001b[0m| 176/300 [03:24<02:05,  1.01s/it, acc=1, loss=1.4e-6]   "
     ]
    },
    {
     "name": "stdout",
     "output_type": "stream",
     "text": [
      "EarlyStopping counter: 5 out of 10\n"
     ]
    },
    {
     "name": "stderr",
     "output_type": "stream",
     "text": [
      "Classifier Training Epoch:  59%|\u001b[32m█████▉    \u001b[0m| 178/300 [03:26<02:19,  1.14s/it, acc=0.814, loss=2.1]  "
     ]
    },
    {
     "name": "stdout",
     "output_type": "stream",
     "text": [
      "EarlyStopping counter: 6 out of 10\n"
     ]
    },
    {
     "name": "stderr",
     "output_type": "stream",
     "text": [
      "Classifier Training Epoch:  60%|\u001b[32m█████▉    \u001b[0m| 179/300 [03:27<02:07,  1.05s/it, acc=0.85, loss=0.83]  "
     ]
    },
    {
     "name": "stdout",
     "output_type": "stream",
     "text": [
      "EarlyStopping counter: 7 out of 10\n"
     ]
    },
    {
     "name": "stderr",
     "output_type": "stream",
     "text": [
      "Classifier Training Epoch:  60%|\u001b[32m██████    \u001b[0m| 181/300 [03:29<02:15,  1.14s/it, acc=0.828, loss=1.74]   "
     ]
    },
    {
     "name": "stdout",
     "output_type": "stream",
     "text": [
      "EarlyStopping counter: 8 out of 10\n"
     ]
    },
    {
     "name": "stderr",
     "output_type": "stream",
     "text": [
      "Classifier Training Epoch:  61%|\u001b[32m██████    \u001b[0m| 182/300 [03:30<01:59,  1.02s/it, acc=1, loss=1.65e-8]   "
     ]
    },
    {
     "name": "stdout",
     "output_type": "stream",
     "text": [
      "EarlyStopping counter: 9 out of 10\n"
     ]
    },
    {
     "name": "stderr",
     "output_type": "stream",
     "text": [
      "Classifier Training Epoch:  61%|\u001b[32m██████▏   \u001b[0m| 184/300 [03:32<02:09,  1.11s/it, acc=0.912, loss=0.779]  "
     ]
    },
    {
     "name": "stdout",
     "output_type": "stream",
     "text": [
      "EarlyStopping counter: 10 out of 10\n"
     ]
    },
    {
     "name": "stderr",
     "output_type": "stream",
     "text": [
      "Classifier Training Epoch:  62%|\u001b[32m██████▏   \u001b[0m| 185/300 [03:34<01:55,  1.01s/it, acc=1, loss=1.63e-9]  "
     ]
    },
    {
     "name": "stdout",
     "output_type": "stream",
     "text": [
      "EarlyStopping counter: 11 out of 10\n"
     ]
    },
    {
     "name": "stderr",
     "output_type": "stream",
     "text": [
      "Classifier Training Epoch:  62%|\u001b[32m██████▏   \u001b[0m| 187/300 [03:35<02:06,  1.12s/it, acc=0.598, loss=1.68]   "
     ]
    },
    {
     "name": "stdout",
     "output_type": "stream",
     "text": [
      "EarlyStopping counter: 12 out of 10\n"
     ]
    },
    {
     "name": "stderr",
     "output_type": "stream",
     "text": [
      "Classifier Training Epoch:  63%|\u001b[32m██████▎   \u001b[0m| 188/300 [03:37<01:52,  1.01s/it, acc=0.0527, loss=6.4] "
     ]
    },
    {
     "name": "stdout",
     "output_type": "stream",
     "text": [
      "EarlyStopping counter: 13 out of 10\n"
     ]
    },
    {
     "name": "stderr",
     "output_type": "stream",
     "text": [
      "Classifier Training Epoch:  63%|\u001b[32m██████▎   \u001b[0m| 189/300 [03:38<01:58,  1.07s/it, acc=0.699, loss=1.18]   "
     ]
    },
    {
     "name": "stdout",
     "output_type": "stream",
     "text": [
      "EarlyStopping counter: 14 out of 10\n"
     ]
    },
    {
     "name": "stderr",
     "output_type": "stream",
     "text": [
      "Classifier Training Epoch:  64%|\u001b[32m██████▍   \u001b[0m| 192/300 [03:41<01:59,  1.11s/it, acc=0.869, loss=0.458]  "
     ]
    },
    {
     "name": "stdout",
     "output_type": "stream",
     "text": [
      "EarlyStopping counter: 1 out of 10\n"
     ]
    },
    {
     "name": "stderr",
     "output_type": "stream",
     "text": [
      "Classifier Training Epoch:  65%|\u001b[32m██████▍   \u001b[0m| 194/300 [03:43<01:48,  1.02s/it, acc=0.354, loss=3.39]  "
     ]
    },
    {
     "name": "stdout",
     "output_type": "stream",
     "text": [
      "EarlyStopping counter: 2 out of 10\n"
     ]
    },
    {
     "name": "stderr",
     "output_type": "stream",
     "text": [
      "Classifier Training Epoch:  65%|\u001b[32m██████▌   \u001b[0m| 195/300 [03:45<01:56,  1.11s/it, acc=0.998, loss=0.00323]"
     ]
    },
    {
     "name": "stdout",
     "output_type": "stream",
     "text": [
      "EarlyStopping counter: 3 out of 10\n"
     ]
    },
    {
     "name": "stderr",
     "output_type": "stream",
     "text": [
      "Classifier Training Epoch:  66%|\u001b[32m██████▌   \u001b[0m| 198/300 [03:48<01:53,  1.11s/it, acc=1, loss=0.00221]    "
     ]
    },
    {
     "name": "stdout",
     "output_type": "stream",
     "text": [
      "EarlyStopping counter: 1 out of 10\n"
     ]
    },
    {
     "name": "stderr",
     "output_type": "stream",
     "text": [
      "Classifier Training Epoch:  67%|\u001b[32m██████▋   \u001b[0m| 200/300 [03:50<01:56,  1.17s/it, acc=0.736, loss=2.79]   "
     ]
    },
    {
     "name": "stdout",
     "output_type": "stream",
     "text": [
      "EarlyStopping counter: 2 out of 10\n"
     ]
    },
    {
     "name": "stderr",
     "output_type": "stream",
     "text": [
      "Classifier Training Epoch:  67%|\u001b[32m██████▋   \u001b[0m| 201/300 [03:51<01:43,  1.04s/it, acc=1, loss=4.51e-5]  "
     ]
    },
    {
     "name": "stdout",
     "output_type": "stream",
     "text": [
      "EarlyStopping counter: 3 out of 10\n"
     ]
    },
    {
     "name": "stderr",
     "output_type": "stream",
     "text": [
      "Classifier Training Epoch:  68%|\u001b[32m██████▊   \u001b[0m| 203/300 [03:53<01:46,  1.10s/it, acc=0.543, loss=7.58] "
     ]
    },
    {
     "name": "stdout",
     "output_type": "stream",
     "text": [
      "EarlyStopping counter: 4 out of 10\n"
     ]
    },
    {
     "name": "stderr",
     "output_type": "stream",
     "text": [
      "Classifier Training Epoch:  68%|\u001b[32m██████▊   \u001b[0m| 204/300 [03:54<01:37,  1.02s/it, acc=1, loss=4.89e-7]  "
     ]
    },
    {
     "name": "stdout",
     "output_type": "stream",
     "text": [
      "EarlyStopping counter: 5 out of 10\n"
     ]
    },
    {
     "name": "stderr",
     "output_type": "stream",
     "text": [
      "Classifier Training Epoch:  69%|\u001b[32m██████▊   \u001b[0m| 206/300 [03:56<01:55,  1.22s/it, acc=0.924, loss=0.673]  "
     ]
    },
    {
     "name": "stdout",
     "output_type": "stream",
     "text": [
      "EarlyStopping counter: 6 out of 10\n"
     ]
    },
    {
     "name": "stderr",
     "output_type": "stream",
     "text": [
      "Classifier Training Epoch:  69%|\u001b[32m██████▉   \u001b[0m| 207/300 [03:58<01:43,  1.11s/it, acc=1, loss=2.46e-7]   "
     ]
    },
    {
     "name": "stdout",
     "output_type": "stream",
     "text": [
      "EarlyStopping counter: 7 out of 10\n"
     ]
    },
    {
     "name": "stderr",
     "output_type": "stream",
     "text": [
      "Classifier Training Epoch:  70%|\u001b[32m██████▉   \u001b[0m| 209/300 [03:59<01:47,  1.18s/it, acc=0.924, loss=0.694] "
     ]
    },
    {
     "name": "stdout",
     "output_type": "stream",
     "text": [
      "EarlyStopping counter: 8 out of 10\n"
     ]
    },
    {
     "name": "stderr",
     "output_type": "stream",
     "text": [
      "Classifier Training Epoch:  70%|\u001b[32m███████   \u001b[0m| 210/300 [04:01<01:34,  1.06s/it, acc=1, loss=4.66e-10] "
     ]
    },
    {
     "name": "stdout",
     "output_type": "stream",
     "text": [
      "EarlyStopping counter: 9 out of 10\n"
     ]
    },
    {
     "name": "stderr",
     "output_type": "stream",
     "text": [
      "Classifier Training Epoch:  71%|\u001b[32m███████   \u001b[0m| 212/300 [04:03<01:38,  1.12s/it, acc=0.939, loss=0.555]  "
     ]
    },
    {
     "name": "stdout",
     "output_type": "stream",
     "text": [
      "EarlyStopping counter: 10 out of 10\n"
     ]
    },
    {
     "name": "stderr",
     "output_type": "stream",
     "text": [
      "Classifier Training Epoch:  71%|\u001b[32m███████   \u001b[0m| 213/300 [04:04<01:26,  1.00it/s, acc=0.0449, loss=12.2] "
     ]
    },
    {
     "name": "stdout",
     "output_type": "stream",
     "text": [
      "EarlyStopping counter: 11 out of 10\n"
     ]
    },
    {
     "name": "stderr",
     "output_type": "stream",
     "text": [
      "Classifier Training Epoch:  71%|\u001b[32m███████▏  \u001b[0m| 214/300 [04:06<01:29,  1.04s/it, acc=0.801, loss=0.64]   "
     ]
    },
    {
     "name": "stdout",
     "output_type": "stream",
     "text": [
      "EarlyStopping counter: 12 out of 10\n"
     ]
    },
    {
     "name": "stderr",
     "output_type": "stream",
     "text": [
      "Classifier Training Epoch:  72%|\u001b[32m███████▏  \u001b[0m| 217/300 [04:09<01:27,  1.06s/it, acc=0.881, loss=0.416]  "
     ]
    },
    {
     "name": "stdout",
     "output_type": "stream",
     "text": [
      "EarlyStopping counter: 1 out of 10\n"
     ]
    },
    {
     "name": "stderr",
     "output_type": "stream",
     "text": [
      "Classifier Training Epoch:  73%|\u001b[32m███████▎  \u001b[0m| 219/300 [04:10<01:22,  1.02s/it, acc=0.561, loss=1.16]  "
     ]
    },
    {
     "name": "stdout",
     "output_type": "stream",
     "text": [
      "EarlyStopping counter: 2 out of 10\n"
     ]
    },
    {
     "name": "stderr",
     "output_type": "stream",
     "text": [
      "Classifier Training Epoch:  74%|\u001b[32m███████▍  \u001b[0m| 222/300 [04:14<01:26,  1.11s/it, acc=0.951, loss=0.13]   "
     ]
    },
    {
     "name": "stdout",
     "output_type": "stream",
     "text": [
      "EarlyStopping counter: 1 out of 10\n"
     ]
    },
    {
     "name": "stderr",
     "output_type": "stream",
     "text": [
      "Classifier Training Epoch:  74%|\u001b[32m███████▍  \u001b[0m| 223/300 [04:16<01:33,  1.22s/it, acc=1, loss=9.57e-6]   "
     ]
    },
    {
     "name": "stdout",
     "output_type": "stream",
     "text": [
      "EarlyStopping counter: 2 out of 10\n"
     ]
    },
    {
     "name": "stderr",
     "output_type": "stream",
     "text": [
      "Classifier Training Epoch:  75%|\u001b[32m███████▌  \u001b[0m| 225/300 [04:18<01:47,  1.43s/it, acc=0.535, loss=7.57]   "
     ]
    },
    {
     "name": "stdout",
     "output_type": "stream",
     "text": [
      "EarlyStopping counter: 3 out of 10\n"
     ]
    },
    {
     "name": "stderr",
     "output_type": "stream",
     "text": [
      "Classifier Training Epoch:  75%|\u001b[32m███████▌  \u001b[0m| 226/300 [04:20<01:36,  1.31s/it, acc=0.828, loss=0.864]"
     ]
    },
    {
     "name": "stdout",
     "output_type": "stream",
     "text": [
      "EarlyStopping counter: 4 out of 10\n"
     ]
    },
    {
     "name": "stderr",
     "output_type": "stream",
     "text": [
      "Classifier Training Epoch:  76%|\u001b[32m███████▌  \u001b[0m| 228/300 [04:22<01:34,  1.32s/it, acc=0.553, loss=7.55]  "
     ]
    },
    {
     "name": "stdout",
     "output_type": "stream",
     "text": [
      "EarlyStopping counter: 5 out of 10\n"
     ]
    },
    {
     "name": "stderr",
     "output_type": "stream",
     "text": [
      "Classifier Training Epoch:  76%|\u001b[32m███████▋  \u001b[0m| 229/300 [04:23<01:21,  1.15s/it, acc=0.83, loss=0.774] "
     ]
    },
    {
     "name": "stdout",
     "output_type": "stream",
     "text": [
      "EarlyStopping counter: 6 out of 10\n"
     ]
    },
    {
     "name": "stderr",
     "output_type": "stream",
     "text": [
      "Classifier Training Epoch:  77%|\u001b[32m███████▋  \u001b[0m| 231/300 [04:25<01:25,  1.23s/it, acc=0.924, loss=0.394] "
     ]
    },
    {
     "name": "stdout",
     "output_type": "stream",
     "text": [
      "EarlyStopping counter: 7 out of 10\n"
     ]
    },
    {
     "name": "stderr",
     "output_type": "stream",
     "text": [
      "Classifier Training Epoch:  77%|\u001b[32m███████▋  \u001b[0m| 232/300 [04:27<01:17,  1.13s/it, acc=1, loss=5.27e-7]   "
     ]
    },
    {
     "name": "stdout",
     "output_type": "stream",
     "text": [
      "EarlyStopping counter: 8 out of 10\n"
     ]
    },
    {
     "name": "stderr",
     "output_type": "stream",
     "text": [
      "Classifier Training Epoch:  78%|\u001b[32m███████▊  \u001b[0m| 234/300 [04:29<01:19,  1.20s/it, acc=0.914, loss=0.626]"
     ]
    },
    {
     "name": "stdout",
     "output_type": "stream",
     "text": [
      "EarlyStopping counter: 9 out of 10\n"
     ]
    },
    {
     "name": "stderr",
     "output_type": "stream",
     "text": [
      "Classifier Training Epoch:  78%|\u001b[32m███████▊  \u001b[0m| 235/300 [04:30<01:10,  1.08s/it, acc=1, loss=9.31e-10] "
     ]
    },
    {
     "name": "stdout",
     "output_type": "stream",
     "text": [
      "EarlyStopping counter: 10 out of 10\n"
     ]
    },
    {
     "name": "stderr",
     "output_type": "stream",
     "text": [
      "Classifier Training Epoch:  79%|\u001b[32m███████▉  \u001b[0m| 237/300 [04:32<01:13,  1.17s/it, acc=0.628, loss=1.43]  "
     ]
    },
    {
     "name": "stdout",
     "output_type": "stream",
     "text": [
      "EarlyStopping counter: 11 out of 10\n"
     ]
    },
    {
     "name": "stderr",
     "output_type": "stream",
     "text": [
      "Classifier Training Epoch:  79%|\u001b[32m███████▉  \u001b[0m| 238/300 [04:33<01:05,  1.05s/it, acc=0.0664, loss=5.68] "
     ]
    },
    {
     "name": "stdout",
     "output_type": "stream",
     "text": [
      "EarlyStopping counter: 12 out of 10\n"
     ]
    },
    {
     "name": "stderr",
     "output_type": "stream",
     "text": [
      "Classifier Training Epoch:  80%|\u001b[32m███████▉  \u001b[0m| 239/300 [04:35<01:08,  1.11s/it, acc=0.902, loss=0.351]  "
     ]
    },
    {
     "name": "stdout",
     "output_type": "stream",
     "text": [
      "EarlyStopping counter: 13 out of 10\n"
     ]
    },
    {
     "name": "stderr",
     "output_type": "stream",
     "text": [
      "Classifier Training Epoch:  82%|\u001b[32m████████▏ \u001b[0m| 245/300 [04:41<01:00,  1.10s/it, acc=0.988, loss=0.0309] "
     ]
    },
    {
     "name": "stdout",
     "output_type": "stream",
     "text": [
      "EarlyStopping counter: 1 out of 10\n"
     ]
    },
    {
     "name": "stderr",
     "output_type": "stream",
     "text": [
      "Classifier Training Epoch:  82%|\u001b[32m████████▏ \u001b[0m| 247/300 [04:43<00:53,  1.00s/it, acc=0.775, loss=0.55]  "
     ]
    },
    {
     "name": "stdout",
     "output_type": "stream",
     "text": [
      "EarlyStopping counter: 2 out of 10\n"
     ]
    },
    {
     "name": "stderr",
     "output_type": "stream",
     "text": [
      "Classifier Training Epoch:  83%|\u001b[32m████████▎ \u001b[0m| 250/300 [04:46<00:58,  1.18s/it, acc=0.689, loss=3.16]   "
     ]
    },
    {
     "name": "stdout",
     "output_type": "stream",
     "text": [
      "EarlyStopping counter: 1 out of 10\n"
     ]
    },
    {
     "name": "stderr",
     "output_type": "stream",
     "text": [
      "Classifier Training Epoch:  84%|\u001b[32m████████▎ \u001b[0m| 251/300 [04:48<00:53,  1.09s/it, acc=1, loss=1.38e-6]  "
     ]
    },
    {
     "name": "stdout",
     "output_type": "stream",
     "text": [
      "EarlyStopping counter: 2 out of 10\n"
     ]
    },
    {
     "name": "stderr",
     "output_type": "stream",
     "text": [
      "Classifier Training Epoch:  84%|\u001b[32m████████▍ \u001b[0m| 253/300 [04:50<00:57,  1.21s/it, acc=0.537, loss=8.38]  "
     ]
    },
    {
     "name": "stdout",
     "output_type": "stream",
     "text": [
      "EarlyStopping counter: 3 out of 10\n"
     ]
    },
    {
     "name": "stderr",
     "output_type": "stream",
     "text": [
      "Classifier Training Epoch:  85%|\u001b[32m████████▍ \u001b[0m| 254/300 [04:51<00:49,  1.08s/it, acc=0.844, loss=0.716] "
     ]
    },
    {
     "name": "stdout",
     "output_type": "stream",
     "text": [
      "EarlyStopping counter: 4 out of 10\n"
     ]
    },
    {
     "name": "stderr",
     "output_type": "stream",
     "text": [
      "Classifier Training Epoch:  85%|\u001b[32m████████▌ \u001b[0m| 256/300 [04:53<00:50,  1.14s/it, acc=0.9, loss=0.71]    "
     ]
    },
    {
     "name": "stdout",
     "output_type": "stream",
     "text": [
      "EarlyStopping counter: 5 out of 10\n"
     ]
    },
    {
     "name": "stderr",
     "output_type": "stream",
     "text": [
      "Classifier Training Epoch:  86%|\u001b[32m████████▌ \u001b[0m| 257/300 [04:54<00:44,  1.03s/it, acc=1, loss=5.84e-8]  "
     ]
    },
    {
     "name": "stdout",
     "output_type": "stream",
     "text": [
      "EarlyStopping counter: 6 out of 10\n"
     ]
    },
    {
     "name": "stderr",
     "output_type": "stream",
     "text": [
      "Classifier Training Epoch:  86%|\u001b[32m████████▋ \u001b[0m| 259/300 [04:56<00:46,  1.13s/it, acc=0.914, loss=0.736] "
     ]
    },
    {
     "name": "stdout",
     "output_type": "stream",
     "text": [
      "EarlyStopping counter: 7 out of 10\n"
     ]
    },
    {
     "name": "stderr",
     "output_type": "stream",
     "text": [
      "Classifier Training Epoch:  87%|\u001b[32m████████▋ \u001b[0m| 260/300 [04:58<00:41,  1.05s/it, acc=1, loss=0]         "
     ]
    },
    {
     "name": "stdout",
     "output_type": "stream",
     "text": [
      "EarlyStopping counter: 8 out of 10\n"
     ]
    },
    {
     "name": "stderr",
     "output_type": "stream",
     "text": [
      "Classifier Training Epoch:  87%|\u001b[32m████████▋ \u001b[0m| 262/300 [04:59<00:42,  1.13s/it, acc=0.677, loss=1.25] "
     ]
    },
    {
     "name": "stdout",
     "output_type": "stream",
     "text": [
      "EarlyStopping counter: 9 out of 10\n"
     ]
    },
    {
     "name": "stderr",
     "output_type": "stream",
     "text": [
      "Classifier Training Epoch:  88%|\u001b[32m████████▊ \u001b[0m| 263/300 [05:01<00:39,  1.07s/it, acc=0.256, loss=3.29]  "
     ]
    },
    {
     "name": "stdout",
     "output_type": "stream",
     "text": [
      "EarlyStopping counter: 10 out of 10\n"
     ]
    },
    {
     "name": "stderr",
     "output_type": "stream",
     "text": [
      "Classifier Training Epoch:  88%|\u001b[32m████████▊ \u001b[0m| 264/300 [05:03<00:40,  1.14s/it, acc=0.698, loss=1.15]   "
     ]
    },
    {
     "name": "stdout",
     "output_type": "stream",
     "text": [
      "EarlyStopping counter: 11 out of 10\n"
     ]
    },
    {
     "name": "stderr",
     "output_type": "stream",
     "text": [
      "Classifier Training Epoch:  89%|\u001b[32m████████▊ \u001b[0m| 266/300 [05:04<00:37,  1.12s/it, acc=0.377, loss=3.01]  "
     ]
    },
    {
     "name": "stdout",
     "output_type": "stream",
     "text": [
      "EarlyStopping counter: 12 out of 10\n"
     ]
    },
    {
     "name": "stderr",
     "output_type": "stream",
     "text": [
      "Classifier Training Epoch:  89%|\u001b[32m████████▉ \u001b[0m| 267/300 [05:06<00:37,  1.15s/it, acc=0.908, loss=0.309]  "
     ]
    },
    {
     "name": "stdout",
     "output_type": "stream",
     "text": [
      "EarlyStopping counter: 13 out of 10\n"
     ]
    },
    {
     "name": "stderr",
     "output_type": "stream",
     "text": [
      "Classifier Training Epoch:  90%|\u001b[32m████████▉ \u001b[0m| 269/300 [05:08<00:33,  1.07s/it, acc=0.564, loss=1.07]  "
     ]
    },
    {
     "name": "stdout",
     "output_type": "stream",
     "text": [
      "EarlyStopping counter: 14 out of 10\n"
     ]
    },
    {
     "name": "stderr",
     "output_type": "stream",
     "text": [
      "Classifier Training Epoch:  91%|\u001b[32m█████████ \u001b[0m| 272/300 [05:11<00:29,  1.04s/it, acc=0.773, loss=0.522]  "
     ]
    },
    {
     "name": "stdout",
     "output_type": "stream",
     "text": [
      "EarlyStopping counter: 1 out of 10\n"
     ]
    },
    {
     "name": "stderr",
     "output_type": "stream",
     "text": [
      "Classifier Training Epoch:  92%|\u001b[32m█████████▏\u001b[0m| 275/300 [05:14<00:28,  1.13s/it, acc=0.672, loss=3.14]   "
     ]
    },
    {
     "name": "stdout",
     "output_type": "stream",
     "text": [
      "EarlyStopping counter: 1 out of 10\n"
     ]
    },
    {
     "name": "stderr",
     "output_type": "stream",
     "text": [
      "Classifier Training Epoch:  92%|\u001b[32m█████████▏\u001b[0m| 276/300 [05:16<00:24,  1.02s/it, acc=1, loss=5e-5]     "
     ]
    },
    {
     "name": "stdout",
     "output_type": "stream",
     "text": [
      "EarlyStopping counter: 2 out of 10\n"
     ]
    },
    {
     "name": "stderr",
     "output_type": "stream",
     "text": [
      "Classifier Training Epoch:  93%|\u001b[32m█████████▎\u001b[0m| 278/300 [05:17<00:24,  1.13s/it, acc=0.5, loss=8.13]   "
     ]
    },
    {
     "name": "stdout",
     "output_type": "stream",
     "text": [
      "EarlyStopping counter: 3 out of 10\n"
     ]
    },
    {
     "name": "stderr",
     "output_type": "stream",
     "text": [
      "Classifier Training Epoch:  93%|\u001b[32m█████████▎\u001b[0m| 279/300 [05:19<00:21,  1.02s/it, acc=0.852, loss=0.657]"
     ]
    },
    {
     "name": "stdout",
     "output_type": "stream",
     "text": [
      "EarlyStopping counter: 4 out of 10\n"
     ]
    },
    {
     "name": "stderr",
     "output_type": "stream",
     "text": [
      "Classifier Training Epoch:  94%|\u001b[32m█████████▎\u001b[0m| 281/300 [05:20<00:20,  1.09s/it, acc=0.598, loss=4.26] "
     ]
    },
    {
     "name": "stdout",
     "output_type": "stream",
     "text": [
      "EarlyStopping counter: 5 out of 10\n"
     ]
    },
    {
     "name": "stderr",
     "output_type": "stream",
     "text": [
      "Classifier Training Epoch:  94%|\u001b[32m█████████▍\u001b[0m| 282/300 [05:22<00:17,  1.01it/s, acc=1, loss=6.87e-8]  "
     ]
    },
    {
     "name": "stdout",
     "output_type": "stream",
     "text": [
      "EarlyStopping counter: 6 out of 10\n"
     ]
    },
    {
     "name": "stderr",
     "output_type": "stream",
     "text": [
      "Classifier Training Epoch:  95%|\u001b[32m█████████▍\u001b[0m| 284/300 [05:23<00:17,  1.11s/it, acc=0.918, loss=0.646] "
     ]
    },
    {
     "name": "stdout",
     "output_type": "stream",
     "text": [
      "EarlyStopping counter: 7 out of 10\n"
     ]
    },
    {
     "name": "stderr",
     "output_type": "stream",
     "text": [
      "Classifier Training Epoch:  95%|\u001b[32m█████████▌\u001b[0m| 285/300 [05:25<00:15,  1.02s/it, acc=1, loss=2.33e-10]  "
     ]
    },
    {
     "name": "stdout",
     "output_type": "stream",
     "text": [
      "EarlyStopping counter: 8 out of 10\n"
     ]
    },
    {
     "name": "stderr",
     "output_type": "stream",
     "text": [
      "Classifier Training Epoch:  96%|\u001b[32m█████████▌\u001b[0m| 287/300 [05:27<00:14,  1.13s/it, acc=0.941, loss=0.531]"
     ]
    },
    {
     "name": "stdout",
     "output_type": "stream",
     "text": [
      "EarlyStopping counter: 9 out of 10\n"
     ]
    },
    {
     "name": "stderr",
     "output_type": "stream",
     "text": [
      "Classifier Training Epoch:  96%|\u001b[32m█████████▌\u001b[0m| 288/300 [05:28<00:12,  1.02s/it, acc=1, loss=4.66e-10]  "
     ]
    },
    {
     "name": "stdout",
     "output_type": "stream",
     "text": [
      "EarlyStopping counter: 10 out of 10\n"
     ]
    },
    {
     "name": "stderr",
     "output_type": "stream",
     "text": [
      "Classifier Training Epoch:  97%|\u001b[32m█████████▋\u001b[0m| 290/300 [05:30<00:10,  1.08s/it, acc=0.698, loss=1.13]  "
     ]
    },
    {
     "name": "stdout",
     "output_type": "stream",
     "text": [
      "EarlyStopping counter: 11 out of 10\n"
     ]
    },
    {
     "name": "stderr",
     "output_type": "stream",
     "text": [
      "Classifier Training Epoch:  97%|\u001b[32m█████████▋\u001b[0m| 291/300 [05:31<00:08,  1.04it/s, acc=0.0488, loss=10.6] "
     ]
    },
    {
     "name": "stdout",
     "output_type": "stream",
     "text": [
      "EarlyStopping counter: 12 out of 10\n"
     ]
    },
    {
     "name": "stderr",
     "output_type": "stream",
     "text": [
      "Classifier Training Epoch:  97%|\u001b[32m█████████▋\u001b[0m| 292/300 [05:32<00:08,  1.01s/it, acc=0.807, loss=0.717]  "
     ]
    },
    {
     "name": "stdout",
     "output_type": "stream",
     "text": [
      "EarlyStopping counter: 13 out of 10\n"
     ]
    },
    {
     "name": "stderr",
     "output_type": "stream",
     "text": [
      "Classifier Training Epoch:  98%|\u001b[32m█████████▊\u001b[0m| 294/300 [05:34<00:05,  1.06it/s, acc=0.57, loss=1.05]   "
     ]
    },
    {
     "name": "stdout",
     "output_type": "stream",
     "text": [
      "EarlyStopping counter: 14 out of 10\n"
     ]
    },
    {
     "name": "stderr",
     "output_type": "stream",
     "text": [
      "Classifier Training Epoch:  99%|\u001b[32m█████████▉\u001b[0m| 297/300 [05:37<00:02,  1.00it/s, acc=0.803, loss=0.477]  "
     ]
    },
    {
     "name": "stdout",
     "output_type": "stream",
     "text": [
      "EarlyStopping counter: 1 out of 10\n"
     ]
    },
    {
     "name": "stderr",
     "output_type": "stream",
     "text": [
      "Classifier Training Epoch: 100%|\u001b[32m██████████\u001b[0m| 300/300 [05:40<00:00,  1.13s/it, acc=0.538, loss=5.06]   "
     ]
    },
    {
     "name": "stdout",
     "output_type": "stream",
     "text": [
      "EarlyStopping counter: 1 out of 10\n"
     ]
    },
    {
     "name": "stderr",
     "output_type": "stream",
     "text": [
      "\n"
     ]
    }
   ],
   "source": [
    "# CL test\n",
    "clf_cl = AdversarialDebiasing(n_features, n_classes, n_groups, adversary_loss_weight=0.1,\n",
    "                              scope_name='CL_Adversary_classifier', num_epochs=500,\n",
    "                              batch_size=512, classifier_num_hidden_units=512, random_state=42, debias=False)\n",
    "loss_lists, val_lists, train_infos, val_infos = [], [], [], []\n",
    "for num_epoch, stage in zip(epoch_list, new_stages):\n",
    "    # TODO: try set1 U set2\n",
    "    print(len(stage))\n",
    "    clf_cl.num_epochs = num_epoch\n",
    "    x_train = data.x_train[stage, :]\n",
    "    y_train = data.y_train[stage]\n",
    "    s_train = data.s_train[stage]\n",
    "    loss_list, val_list, train_info, val_info = \\\n",
    "        clf_cl.fit(x_train, y_train, s_train, early_stopping=True, validation_set=[data.x_val, data.y_val, data.s_val])\n",
    "    loss_lists.append(loss_list)\n",
    "    val_lists.append(val_list)\n",
    "    train_infos.append(train_info)\n",
    "    val_infos.append(val_info)"
   ]
  },
  {
   "cell_type": "code",
   "execution_count": 57,
   "metadata": {},
   "outputs": [
    {
     "name": "stdout",
     "output_type": "stream",
     "text": [
      "========== after train(with debiasing) ==========\n",
      "========== Results on train ==========\n",
      "Grp. 0 - #instance: 8460; #pos. pred: 635; Acc.: 0.934161\n",
      "Grp. 1 - #instance: 17589; #pos. pred: 3766; Acc.: 0.804878\n",
      "Overall acc.: 0.846866; Demographic parity: 0.139052; Equal opportunity: -0.010495; Average odds difference: 0.020298\n",
      "========== Results on test ==========\n",
      "Grp. 0 - #instance: 4147; #pos. pred: 286; Acc.: 0.911502\n",
      "Grp. 1 - #instance: 8514; #pos. pred: 1728; Acc.: 0.766855\n",
      "Overall acc.: 0.814233; Demographic parity: 0.133994; Equal opportunity: 0.036709; Average odds difference: 0.026567\n"
     ]
    }
   ],
   "source": [
    "print(\"========== after train(with debiasing) ==========\")\n",
    "pred_label_train = clf_cl.predict(data.x_train)\n",
    "train_res = train_evaluator(data.y_train, pred_label_train, no_train=False)\n",
    "\n",
    "pred_label_test = clf_cl.predict(data.x_test)\n",
    "test_res = test_evaluator(data.y_test, pred_label_test, no_train=False)"
   ]
  },
  {
   "cell_type": "code",
   "execution_count": 58,
   "metadata": {},
   "outputs": [],
   "source": [
    "def get_df(infos, loss_lists):\n",
    "    df_list = []\n",
    "    N = len(infos)\n",
    "    for i in range(N):\n",
    "        tmp = pd.DataFrame(infos[i])\n",
    "        tmp['loss'] = loss_lists[i]\n",
    "        df_list.append(tmp)\n",
    "    res = pd.concat(df_list, axis=0)\n",
    "    res = res.reset_index()\n",
    "    return res"
   ]
  },
  {
   "cell_type": "code",
   "execution_count": 59,
   "metadata": {},
   "outputs": [
    {
     "data": {
      "text/html": [
       "<div>\n",
       "<style scoped>\n",
       "    .dataframe tbody tr th:only-of-type {\n",
       "        vertical-align: middle;\n",
       "    }\n",
       "\n",
       "    .dataframe tbody tr th {\n",
       "        vertical-align: top;\n",
       "    }\n",
       "\n",
       "    .dataframe thead th {\n",
       "        text-align: right;\n",
       "    }\n",
       "</style>\n",
       "<table border=\"1\" class=\"dataframe\">\n",
       "  <thead>\n",
       "    <tr style=\"text-align: right;\">\n",
       "      <th></th>\n",
       "      <th>index</th>\n",
       "      <th>overall_acc</th>\n",
       "      <th>dp</th>\n",
       "      <th>eop</th>\n",
       "      <th>average_odds_difference</th>\n",
       "      <th>grp_0_acc</th>\n",
       "      <th>grp_1_acc</th>\n",
       "      <th>loss</th>\n",
       "    </tr>\n",
       "  </thead>\n",
       "  <tbody>\n",
       "    <tr>\n",
       "      <th>count</th>\n",
       "      <td>244.000000</td>\n",
       "      <td>244.000000</td>\n",
       "      <td>244.000000</td>\n",
       "      <td>244.000000</td>\n",
       "      <td>244.000000</td>\n",
       "      <td>244.000000</td>\n",
       "      <td>244.000000</td>\n",
       "      <td>2.440000e+02</td>\n",
       "    </tr>\n",
       "    <tr>\n",
       "      <th>mean</th>\n",
       "      <td>86.618852</td>\n",
       "      <td>0.832222</td>\n",
       "      <td>0.148506</td>\n",
       "      <td>0.050994</td>\n",
       "      <td>0.045884</td>\n",
       "      <td>0.921227</td>\n",
       "      <td>0.789412</td>\n",
       "      <td>3.877428e+00</td>\n",
       "    </tr>\n",
       "    <tr>\n",
       "      <th>std</th>\n",
       "      <td>63.675992</td>\n",
       "      <td>0.060955</td>\n",
       "      <td>0.035184</td>\n",
       "      <td>0.046137</td>\n",
       "      <td>0.032207</td>\n",
       "      <td>0.026436</td>\n",
       "      <td>0.077997</td>\n",
       "      <td>4.348199e+00</td>\n",
       "    </tr>\n",
       "    <tr>\n",
       "      <th>min</th>\n",
       "      <td>0.000000</td>\n",
       "      <td>0.780951</td>\n",
       "      <td>0.079515</td>\n",
       "      <td>-0.039993</td>\n",
       "      <td>0.007039</td>\n",
       "      <td>0.857092</td>\n",
       "      <td>0.726761</td>\n",
       "      <td>4.656612e-10</td>\n",
       "    </tr>\n",
       "    <tr>\n",
       "      <th>25%</th>\n",
       "      <td>23.750000</td>\n",
       "      <td>0.800616</td>\n",
       "      <td>0.118216</td>\n",
       "      <td>0.027066</td>\n",
       "      <td>0.027447</td>\n",
       "      <td>0.906383</td>\n",
       "      <td>0.749318</td>\n",
       "      <td>9.229869e-01</td>\n",
       "    </tr>\n",
       "    <tr>\n",
       "      <th>50%</th>\n",
       "      <td>81.500000</td>\n",
       "      <td>0.811010</td>\n",
       "      <td>0.145471</td>\n",
       "      <td>0.041994</td>\n",
       "      <td>0.038816</td>\n",
       "      <td>0.914805</td>\n",
       "      <td>0.760916</td>\n",
       "      <td>2.045583e+00</td>\n",
       "    </tr>\n",
       "    <tr>\n",
       "      <th>75%</th>\n",
       "      <td>142.250000</td>\n",
       "      <td>0.818395</td>\n",
       "      <td>0.170068</td>\n",
       "      <td>0.061340</td>\n",
       "      <td>0.053232</td>\n",
       "      <td>0.919371</td>\n",
       "      <td>0.770275</td>\n",
       "      <td>5.958477e+00</td>\n",
       "    </tr>\n",
       "    <tr>\n",
       "      <th>max</th>\n",
       "      <td>203.000000</td>\n",
       "      <td>0.988944</td>\n",
       "      <td>0.227178</td>\n",
       "      <td>0.317105</td>\n",
       "      <td>0.297403</td>\n",
       "      <td>0.990426</td>\n",
       "      <td>0.988231</td>\n",
       "      <td>3.288533e+01</td>\n",
       "    </tr>\n",
       "  </tbody>\n",
       "</table>\n",
       "</div>"
      ],
      "text/plain": [
       "            index  overall_acc          dp         eop  \\\n",
       "count  244.000000   244.000000  244.000000  244.000000   \n",
       "mean    86.618852     0.832222    0.148506    0.050994   \n",
       "std     63.675992     0.060955    0.035184    0.046137   \n",
       "min      0.000000     0.780951    0.079515   -0.039993   \n",
       "25%     23.750000     0.800616    0.118216    0.027066   \n",
       "50%     81.500000     0.811010    0.145471    0.041994   \n",
       "75%    142.250000     0.818395    0.170068    0.061340   \n",
       "max    203.000000     0.988944    0.227178    0.317105   \n",
       "\n",
       "       average_odds_difference   grp_0_acc   grp_1_acc          loss  \n",
       "count               244.000000  244.000000  244.000000  2.440000e+02  \n",
       "mean                  0.045884    0.921227    0.789412  3.877428e+00  \n",
       "std                   0.032207    0.026436    0.077997  4.348199e+00  \n",
       "min                   0.007039    0.857092    0.726761  4.656612e-10  \n",
       "25%                   0.027447    0.906383    0.749318  9.229869e-01  \n",
       "50%                   0.038816    0.914805    0.760916  2.045583e+00  \n",
       "75%                   0.053232    0.919371    0.770275  5.958477e+00  \n",
       "max                   0.297403    0.990426    0.988231  3.288533e+01  "
      ]
     },
     "execution_count": 59,
     "metadata": {},
     "output_type": "execute_result"
    }
   ],
   "source": [
    "df = get_df(train_infos, loss_lists)\n",
    "df.describe()"
   ]
  },
  {
   "cell_type": "code",
   "execution_count": 60,
   "metadata": {},
   "outputs": [
    {
     "data": {
      "text/plain": [
       "<AxesSubplot:>"
      ]
     },
     "execution_count": 60,
     "metadata": {},
     "output_type": "execute_result"
    },
    {
     "data": {
      "image/png": "[encoded data removed]",
      "text/plain": [
       "<Figure size 640x480 with 1 Axes>"
      ]
     },
     "metadata": {},
     "output_type": "display_data"
    }
   ],
   "source": [
    "df['loss'][:].plot()"
   ]
  },
  {
   "cell_type": "code",
   "execution_count": 43,
   "metadata": {},
   "outputs": [],
   "source": [
    "val_df = get_df(val_infos, val_lists)"
   ]
  },
  {
   "cell_type": "code",
   "execution_count": 45,
   "metadata": {},
   "outputs": [
    {
     "data": {
      "text/plain": [
       "<AxesSubplot:>"
      ]
     },
     "execution_count": 45,
     "metadata": {},
     "output_type": "execute_result"
    },
    {
     "data": {
      "image/png": "[encoded data removed]",
      "text/plain": [
       "<Figure size 640x480 with 1 Axes>"
      ]
     },
     "metadata": {},
     "output_type": "display_data"
    }
   ],
   "source": [
    "val_df['loss'][:].plot()"
   ]
  },
  {
   "cell_type": "code",
   "execution_count": 16,
   "metadata": {},
   "outputs": [
    {
     "ename": "TypeError",
     "evalue": "get_curriculum_stages() missing 2 required positional arguments: 's' and 'idx_path'",
     "output_type": "error",
     "traceback": [
      "\u001b[1;31m---------------------------------------------------------------------------\u001b[0m",
      "\u001b[1;31mTypeError\u001b[0m                                 Traceback (most recent call last)",
      "\u001b[1;32m~\\AppData\\Local\\Temp\\ipykernel_42876\\408904348.py\u001b[0m in \u001b[0;36m<module>\u001b[1;34m\u001b[0m\n\u001b[0;32m      3\u001b[0m                               \u001b[0mscope_name\u001b[0m\u001b[1;33m=\u001b[0m\u001b[1;34m'CL_Adversary_classifier'\u001b[0m\u001b[1;33m,\u001b[0m \u001b[0mnum_epochs\u001b[0m\u001b[1;33m=\u001b[0m\u001b[1;36m250\u001b[0m\u001b[1;33m,\u001b[0m\u001b[1;33m\u001b[0m\u001b[1;33m\u001b[0m\u001b[0m\n\u001b[0;32m      4\u001b[0m                               batch_size=512, classifier_num_hidden_units=512, random_state=42, debias=True)\n\u001b[1;32m----> 5\u001b[1;33m \u001b[0mstages\u001b[0m \u001b[1;33m=\u001b[0m \u001b[0mget_curriculum_stages\u001b[0m\u001b[1;33m(\u001b[0m\u001b[1;34m'data/adult/sorted_idx_%d.json'\u001b[0m \u001b[1;33m%\u001b[0m \u001b[0mdata\u001b[0m\u001b[1;33m.\u001b[0m\u001b[0mnum_val\u001b[0m\u001b[1;33m,\u001b[0m \u001b[0mN\u001b[0m\u001b[1;33m=\u001b[0m\u001b[1;36m2\u001b[0m\u001b[1;33m)\u001b[0m\u001b[1;33m\u001b[0m\u001b[1;33m\u001b[0m\u001b[0m\n\u001b[0m\u001b[0;32m      6\u001b[0m \u001b[0mloss_lists2\u001b[0m\u001b[1;33m,\u001b[0m \u001b[0mval_lists2\u001b[0m\u001b[1;33m,\u001b[0m \u001b[0mtrain_infos2\u001b[0m\u001b[1;33m,\u001b[0m \u001b[0mval_infos2\u001b[0m \u001b[1;33m=\u001b[0m \u001b[1;33m[\u001b[0m\u001b[1;33m]\u001b[0m\u001b[1;33m,\u001b[0m \u001b[1;33m[\u001b[0m\u001b[1;33m]\u001b[0m\u001b[1;33m,\u001b[0m \u001b[1;33m[\u001b[0m\u001b[1;33m]\u001b[0m\u001b[1;33m,\u001b[0m \u001b[1;33m[\u001b[0m\u001b[1;33m]\u001b[0m\u001b[1;33m\u001b[0m\u001b[1;33m\u001b[0m\u001b[0m\n\u001b[0;32m      7\u001b[0m \u001b[1;32mfor\u001b[0m \u001b[0mstage\u001b[0m \u001b[1;32min\u001b[0m \u001b[0mstages\u001b[0m\u001b[1;33m:\u001b[0m\u001b[1;33m\u001b[0m\u001b[1;33m\u001b[0m\u001b[0m\n",
      "\u001b[1;31mTypeError\u001b[0m: get_curriculum_stages() missing 2 required positional arguments: 's' and 'idx_path'"
     ]
    }
   ],
   "source": [
    "# CL test\n",
    "clf_cl2 = AdversarialDebiasing(n_features, n_classes, n_groups, adversary_loss_weight=0.1,\n",
    "                              scope_name='CL_Adversary_classifier', num_epochs=250,\n",
    "                              batch_size=512, classifier_num_hidden_units=512, random_state=42, debias=True)\n",
    "stages = get_curriculum_stages('data/adult/sorted_idx_%d.json' % data.num_val, N=2)\n",
    "loss_lists2, val_lists2, train_infos2, val_infos2 = [], [], [], []\n",
    "for stage in stages:\n",
    "    # TODO: try set1 U set2\n",
    "    print(len(stage))\n",
    "    x_train = data.x_train[stage, :]\n",
    "    y_train = data.y_train[stage]\n",
    "    s_train = data.s_train[stage]\n",
    "    loss_list, val_list, train_info, val_info = \\\n",
    "        clf_cl.fit(x_train, y_train, s_train, early_stopping=True, validation_set=[data.x_val, data.y_val, data.s_val])\n",
    "    loss_lists2.append(loss_list)\n",
    "    val_lists2.append(val_list)\n",
    "    train_infos2.append(train_info)\n",
    "    val_infos2.append(val_info)"
   ]
  }
 ],
 "metadata": {
  "kernelspec": {
   "display_name": "Python 3 (ipykernel)",
   "language": "python",
   "name": "python3"
  },
  "language_info": {
   "codemirror_mode": {
    "name": "ipython",
    "version": 3
   },
   "file_extension": ".py",
   "mimetype": "text/x-python",
   "name": "python",
   "nbconvert_exporter": "python",
   "pygments_lexer": "ipython3",
   "version": "3.7.4"
  }
 },
 "nbformat": 4,
 "nbformat_minor": 1
}
